{
 "cells": [
  {
   "cell_type": "code",
   "execution_count": 1,
   "metadata": {},
   "outputs": [],
   "source": [
    "import utility_common as common\n",
    "import utility_commonPlot as commonp\n",
    "from fit_torch_model import *"
   ]
  },
  {
   "cell_type": "markdown",
   "metadata": {},
   "source": [
    "# 1. Load Input-Label and Model"
   ]
  },
  {
   "cell_type": "code",
   "execution_count": 2,
   "metadata": {},
   "outputs": [],
   "source": [
    "# basedir = common.getBaseDirectory()\n",
    "# common.symlink(basedir+\"data/templatesShape\",basedir+\"data/templates\")"
   ]
  },
  {
   "cell_type": "code",
   "execution_count": 3,
   "metadata": {},
   "outputs": [],
   "source": [
    "# Templetes(counts) and Targets\n",
    "name = common.getBaseDirectory() + \"data/templates/templates{}_.npy\"\n",
    "X = tc.from_numpy( np.load(name.format('X')) ).type(tc.FloatTensor ).to(device)\n",
    "Y = tc.from_numpy( np.load(name.format('Y')) ).type(tc.FloatTensor ).to(device)\n",
    "#Y = tc.sum(X,1).to(device)"
   ]
  },
  {
   "cell_type": "code",
   "execution_count": 4,
   "metadata": {},
   "outputs": [],
   "source": [
    "# Model and optimizer\n",
    "model     = PredictiveModel(controlTauID=True).to(device)\n",
    "optimizer = tc.optim.LBFGS(model.parameters(),\n",
    "                              lr=0.001, max_iter=1e4, \n",
    "                              tolerance_grad=1e-05, \n",
    "                              tolerance_change=1e-9) "
   ]
  },
  {
   "cell_type": "markdown",
   "metadata": {},
   "source": [
    "# 2. Training "
   ]
  },
  {
   "cell_type": "code",
   "execution_count": 5,
   "metadata": {},
   "outputs": [
    {
     "data": {
      "image/png": "[encoded data removed]",
      "text/plain": [
       "<matplotlib.figure.Figure at 0x11248b048>"
      ]
     },
     "metadata": {},
     "output_type": "display_data"
    }
   ],
   "source": [
    "losses = []\n",
    "# define backprop step\n",
    "def closure():\n",
    "    optimizer.zero_grad()\n",
    "    y,regu = model.forward(X)\n",
    "    loss = tc.sum( (y-Y)**2/(2*Y+0.1) ) + regu\n",
    "    losses.append(loss)\n",
    "    loss.backward(retain_graph=True) \n",
    "    return loss\n",
    "# run optimization\n",
    "optimizer.step(closure)\n",
    "showLossHistory(losses)"
   ]
  },
  {
   "cell_type": "markdown",
   "metadata": {},
   "source": [
    "# 3. Calculate Hessian of Loss"
   ]
  },
  {
   "cell_type": "code",
   "execution_count": 6,
   "metadata": {},
   "outputs": [
    {
     "ename": "ValueError",
     "evalue": "only one element tensors can be converted to Python scalars",
     "output_type": "error",
     "traceback": [
      "\u001b[0;31m---------------------------------------------------------------------------\u001b[0m",
      "\u001b[0;31mValueError\u001b[0m                                Traceback (most recent call last)",
      "\u001b[0;32m<ipython-input-6-04b2998a7ca9>\u001b[0m in \u001b[0;36m<module>\u001b[0;34m()\u001b[0m\n\u001b[1;32m      6\u001b[0m \u001b[0;34m\u001b[0m\u001b[0m\n\u001b[1;32m      7\u001b[0m \u001b[0;31m# autograd loss w.r.t. params\u001b[0m\u001b[0;34m\u001b[0m\u001b[0;34m\u001b[0m\u001b[0m\n\u001b[0;32m----> 8\u001b[0;31m \u001b[0mhess\u001b[0m \u001b[0;34m=\u001b[0m \u001b[0mautograd2nd\u001b[0m\u001b[0;34m(\u001b[0m\u001b[0mloss\u001b[0m\u001b[0;34m,\u001b[0m \u001b[0mmodel\u001b[0m\u001b[0;34m)\u001b[0m\u001b[0;34m\u001b[0m\u001b[0m\n\u001b[0m\u001b[1;32m      9\u001b[0m \u001b[0mhessinv\u001b[0m \u001b[0;34m=\u001b[0m \u001b[0mnp\u001b[0m\u001b[0;34m.\u001b[0m\u001b[0mlinalg\u001b[0m\u001b[0;34m.\u001b[0m\u001b[0minv\u001b[0m\u001b[0;34m(\u001b[0m\u001b[0mhess\u001b[0m\u001b[0;34m)\u001b[0m\u001b[0;34m\u001b[0m\u001b[0m\n\u001b[1;32m     10\u001b[0m \u001b[0msig\u001b[0m \u001b[0;34m=\u001b[0m \u001b[0mnp\u001b[0m\u001b[0;34m.\u001b[0m\u001b[0msqrt\u001b[0m\u001b[0;34m(\u001b[0m\u001b[0mhessinv\u001b[0m\u001b[0;34m.\u001b[0m\u001b[0mdiagonal\u001b[0m\u001b[0;34m(\u001b[0m\u001b[0;34m)\u001b[0m\u001b[0;34m)\u001b[0m\u001b[0;34m\u001b[0m\u001b[0m\n",
      "\u001b[0;32m~/Documents/Analysis/workplace/scripts/fit_torch_helper.py\u001b[0m in \u001b[0;36mautograd2nd\u001b[0;34m(loss, model)\u001b[0m\n\u001b[1;32m     24\u001b[0m             \u001b[0mihess\u001b[0m\u001b[0;34m.\u001b[0m\u001b[0mappend\u001b[0m\u001b[0;34m(\u001b[0m\u001b[0mj\u001b[0m\u001b[0;34m.\u001b[0m\u001b[0mdata\u001b[0m\u001b[0;34m)\u001b[0m\u001b[0;34m\u001b[0m\u001b[0m\n\u001b[1;32m     25\u001b[0m         \u001b[0mhess\u001b[0m\u001b[0;34m.\u001b[0m\u001b[0mappend\u001b[0m\u001b[0;34m(\u001b[0m\u001b[0mihess\u001b[0m\u001b[0;34m)\u001b[0m\u001b[0;34m\u001b[0m\u001b[0m\n\u001b[0;32m---> 26\u001b[0;31m     \u001b[0mhess\u001b[0m \u001b[0;34m=\u001b[0m \u001b[0mnp\u001b[0m\u001b[0;34m.\u001b[0m\u001b[0marray\u001b[0m\u001b[0;34m(\u001b[0m\u001b[0mhess\u001b[0m\u001b[0;34m)\u001b[0m\u001b[0;34m\u001b[0m\u001b[0m\n\u001b[0m\u001b[1;32m     27\u001b[0m     \u001b[0;32mreturn\u001b[0m \u001b[0mhess\u001b[0m\u001b[0;34m\u001b[0m\u001b[0m\n\u001b[1;32m     28\u001b[0m \u001b[0;34m\u001b[0m\u001b[0m\n",
      "\u001b[0;31mValueError\u001b[0m: only one element tensors can be converted to Python scalars"
     ]
    }
   ],
   "source": [
    "# forward prop X\n",
    "y,regu = model.forward(X)\n",
    "\n",
    "# calculate loss and params\n",
    "loss = tc.sum( (y-Y)**2/(2*Y) ) + regu\n",
    "\n",
    "# autograd loss w.r.t. params\n",
    "hess = autograd2nd(loss, model)\n",
    "hessinv = np.linalg.inv(hess)\n",
    "sig = np.sqrt(hessinv.diagonal())\n",
    "cor = hessinv/np.outer(sig, sig)\n",
    "\n",
    "# show correlation and sigma\n",
    "commonp.showParameterCovMat(cor,sig)"
   ]
  },
  {
   "cell_type": "code",
   "execution_count": 7,
   "metadata": {},
   "outputs": [
    {
     "ename": "NameError",
     "evalue": "name 'sig' is not defined",
     "output_type": "error",
     "traceback": [
      "\u001b[0;31m---------------------------------------------------------------------------\u001b[0m",
      "\u001b[0;31mNameError\u001b[0m                                 Traceback (most recent call last)",
      "\u001b[0;32m<ipython-input-7-930f8fda1a9d>\u001b[0m in \u001b[0;36m<module>\u001b[0;34m()\u001b[0m\n\u001b[0;32m----> 1\u001b[0;31m \u001b[0mprint\u001b[0m\u001b[0;34m(\u001b[0m\u001b[0msig\u001b[0m\u001b[0;34m[\u001b[0m\u001b[0;36m0\u001b[0m\u001b[0;34m:\u001b[0m\u001b[0;36m3\u001b[0m\u001b[0;34m]\u001b[0m\u001b[0;34m/\u001b[0m\u001b[0;36m0.1080\u001b[0m\u001b[0;34m*\u001b[0m\u001b[0;36m100\u001b[0m\u001b[0;34m)\u001b[0m\u001b[0;34m\u001b[0m\u001b[0m\n\u001b[0m\u001b[1;32m      2\u001b[0m \u001b[0mprint\u001b[0m\u001b[0;34m(\u001b[0m\u001b[0msig\u001b[0m\u001b[0;34m[\u001b[0m\u001b[0;36m3\u001b[0m\u001b[0;34m:\u001b[0m\u001b[0;34m]\u001b[0m\u001b[0;34m)\u001b[0m\u001b[0;34m\u001b[0m\u001b[0m\n",
      "\u001b[0;31mNameError\u001b[0m: name 'sig' is not defined"
     ]
    }
   ],
   "source": [
    "print(sig[0:3]/0.1080*100)\n",
    "print(sig[3:])"
   ]
  },
  {
   "cell_type": "code",
   "execution_count": 8,
   "metadata": {},
   "outputs": [
    {
     "name": "stdout",
     "output_type": "stream",
     "text": [
      "layer_beta.params tensor([0.1106, 0.1098, 0.0932])\n",
      "layer_btl.params tensor([-0.0020,  0.0156])\n",
      "layer_xs.params tensor([-0.3618, -0.0511,  0.8653, -0.9179,  0.0440,  0.7401, -0.9181, -0.2529,\n",
      "        -0.0839])\n",
      "layer_eff.params tensor([-0.5811,  0.3195,  1.3668])\n",
      "layer_shape.params tensor([ 0.0431, -0.0162,  0.5088, -0.1523, -0.0279, -0.0109, -0.1949])\n"
     ]
    }
   ],
   "source": [
    "for name, param in model.named_parameters():\n",
    "    if param.requires_grad:\n",
    "        print(name,param.data)"
   ]
  },
  {
   "cell_type": "code",
   "execution_count": 3,
   "metadata": {},
   "outputs": [],
   "source": [
    "# print Model Paramters\n",
    "# params = dict(model.named_parameters())\n",
    "# bwe = params['layer_beta.bwe'].data\n",
    "# bwm = params['layer_beta.bwm'].data\n",
    "# bwt = params['layer_beta.bwt'].data\n",
    "# print(bwe,bwm,bwt)"
   ]
  },
  {
   "cell_type": "code",
   "execution_count": null,
   "metadata": {},
   "outputs": [],
   "source": [
    "#temp = np.transpose(X,(0,1,2))\n",
    "temp = np.concatenate(X.numpy(),axis=1)\n",
    "temp = np.sum(temp,axis=0)\n",
    "\n",
    "targ = np.concatenate(Y.numpy(),axis=0)\n",
    "\n",
    "plt.figure(figsize=(20,4),facecolor='w')\n",
    "c = np.arange(temp.size)\n",
    "plt.plot(c, temp, lw=2)\n",
    "plt.scatter(c, targ, c='k',s=10)\n",
    "plt.yscale('log')\n",
    "plt.xlim(c.min(),c.max())"
   ]
  },
  {
   "cell_type": "code",
   "execution_count": null,
   "metadata": {},
   "outputs": [],
   "source": []
  }
 ],
 "metadata": {
  "kernelspec": {
   "display_name": "Python 3",
   "language": "python",
   "name": "python3"
  },
  "language_info": {
   "codemirror_mode": {
    "name": "ipython",
    "version": 3
   },
   "file_extension": ".py",
   "mimetype": "text/x-python",
   "name": "python",
   "nbconvert_exporter": "python",
   "pygments_lexer": "ipython3",
   "version": "3.6.4"
  }
 },
 "nbformat": 4,
 "nbformat_minor": 2
}
