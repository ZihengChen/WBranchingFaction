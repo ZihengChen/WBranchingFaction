{
 "cells": [
  {
   "cell_type": "code",
   "execution_count": 1,
   "metadata": {},
   "outputs": [],
   "source": [
    "from utility_bferror import *\n",
    "import datetime\n",
    "\n",
    "\n",
    "tb = BFSolver_Toolbox()\n",
    "er = BFSovler3D_Error()"
   ]
  },
  {
   "cell_type": "markdown",
   "metadata": {},
   "source": [
    "# 1. Try One Case"
   ]
  },
  {
   "cell_type": "code",
   "execution_count": null,
   "metadata": {},
   "outputs": [],
   "source": [
    "i = 3\n",
    "\n",
    "ndata,ndataVar = er.ndata[i],er.ndataVar[i]\n",
    "nmcbg,nmcbgVar = er.nmcbg[i],er.nmcbgVar[i]\n",
    "nfake,nfakeVar = er.nfake[i],er.nfakeVar[i]\n",
    "a,aVar = er.a[i],er.aVar[i]\n",
    "aVar[a<0.001] = np.zeros_like(a)[a<0.001]\n",
    "\n",
    "slv0 = BFSolver3D(a)\n",
    "br0 = slv0.solveQuadEqn(slv0.setMeasuredX(nData=ndata, nMcbg=nmcbg+nfake))\n",
    "print(br0)"
   ]
  },
  {
   "cell_type": "code",
   "execution_count": null,
   "metadata": {},
   "outputs": [],
   "source": [
    "trigger = 'e'\n",
    "tb.imshow4Matrix(a,trigger)\n",
    "plt.savefig(\"../plots/acceptances/{}2b\".format(trigger))"
   ]
  },
  {
   "cell_type": "code",
   "execution_count": 53,
   "metadata": {
    "scrolled": false
   },
   "outputs": [
    {
     "name": "stdout",
     "output_type": "stream",
     "text": [
      "3.582193254518076\n",
      "--\n",
      "1.7322895048317486\n",
      "--\n",
      "--\n",
      "--\n",
      "--\n",
      "--\n",
      "--\n",
      "--\n",
      "--\n",
      "3.6505678758032243\n",
      "--\n",
      "--\n",
      "--\n",
      "84.51582887292476\n",
      "--\n",
      "4.647456900204331\n",
      "--\n",
      "--\n",
      "--\n"
     ]
    }
   ],
   "source": [
    "bVector = np.array([ 0.1086,0.1086, 0.1086*0.1785,  0.1086*0.1736 , 0.1086*0.6479, 0.6741 ])\n",
    "bMatrix = np.outer(bVector,bVector)\n",
    "bMatrix = bMatrix * (2*np.ones_like(bMatrix)-np.identity(6))\n",
    "\n",
    "av = common.matrixToArray(a[3])\n",
    "bv = common.matrixToArray(bMatrix)\n",
    "\n",
    "n = av * bv\n",
    "\n",
    "percent = (n/np.sum(n))*100\n",
    "for i in range(21):\n",
    "    if percent[i]>1:\n",
    "        print(percent[i])\n",
    "    else:\n",
    "        print('--')"
   ]
  },
  {
   "cell_type": "code",
   "execution_count": 30,
   "metadata": {},
   "outputs": [
    {
     "data": {
      "text/plain": [
       "array([[3.22943649e-08, 2.84762943e-04, 6.57739337e-09, 1.67609095e-05,\n",
       "        3.49177035e-08, 1.07039272e-06],\n",
       "       [2.84762943e-04, 2.71768230e-04, 5.40411442e-05, 4.48595642e-05,\n",
       "        2.85066859e-04, 7.05348974e-03],\n",
       "       [6.57739337e-09, 5.40411442e-05, 0.00000000e+00, 3.24821862e-06,\n",
       "        6.58486523e-09, 1.96646888e-07],\n",
       "       [1.67609095e-05, 4.48595642e-05, 3.24821862e-06, 4.41874778e-06,\n",
       "        1.69842241e-05, 4.12885124e-04],\n",
       "       [3.49177035e-08, 2.85066859e-04, 6.58486523e-09, 1.69842241e-05,\n",
       "        5.67117065e-08, 1.16693387e-06],\n",
       "       [1.07039272e-06, 7.05348974e-03, 1.96646888e-07, 4.12885124e-04,\n",
       "        1.16693387e-06, 2.20784666e-05]])"
      ]
     },
     "execution_count": 30,
     "metadata": {},
     "output_type": "execute_result"
    }
   ],
   "source": [
    "n"
   ]
  },
  {
   "cell_type": "code",
   "execution_count": null,
   "metadata": {},
   "outputs": [],
   "source": []
  },
  {
   "cell_type": "markdown",
   "metadata": {},
   "source": [
    "# 2. Calculate Statistical Error"
   ]
  },
  {
   "cell_type": "code",
   "execution_count": 2,
   "metadata": {},
   "outputs": [],
   "source": [
    "total = np.zeros([4,1,3])"
   ]
  },
  {
   "cell_type": "code",
   "execution_count": 4,
   "metadata": {},
   "outputs": [
    {
     "name": "stdout",
     "output_type": "stream",
     "text": [
      "0.541,0.511,1.192, 0.966,0.861,1.970, 0.701,0.547,1.423, 1.222,0.962,2.382\n",
      "0.062,0.137,0.276, 0.065,0.124,0.322, 0.170,0.074,0.320, 0.158,0.059,0.209\n",
      "0.005,0.005,0.011, 0.008,0.008,0.014, 0.006,0.006,0.014, 0.009,0.009,0.016\n",
      "0.164,0.150,0.402, 0.258,0.228,0.589, 0.207,0.172,0.491, 0.318,0.262,0.697\n"
     ]
    }
   ],
   "source": [
    "# statistics\n",
    "err = [ er.errStat(source) for source in [\"data\",\"mcbg\",\"fake\",\"mcsg\"] ]\n",
    "err = np.array(err).transpose(1,0,2)\n",
    "er.io_printErrorForExcelFormat(err)\n",
    "\n",
    "total = np.concatenate( (total,err),axis=1 )"
   ]
  },
  {
   "cell_type": "code",
   "execution_count": 5,
   "metadata": {},
   "outputs": [
    {
     "name": "stdout",
     "output_type": "stream",
     "text": [
      "0.007,0.051,0.078, 0.006,0.049,0.075, 0.009,0.051,0.077, 0.008,0.049,0.075\n",
      "0.033,0.010,0.061, 0.032,0.010,0.059, 0.029,0.007,0.062, 0.028,0.007,0.060\n"
     ]
    }
   ],
   "source": [
    "# PDG\n",
    "err = [ er.errConstent(source) for source in [\"BtmUp\",\"BteUp\"] ]\n",
    "err = np.array(err).transpose(1,0,2)\n",
    "er.io_printErrorForExcelFormat(err)\n",
    "\n",
    "total = np.concatenate( (total,err),axis=1 )"
   ]
  },
  {
   "cell_type": "code",
   "execution_count": 2,
   "metadata": {},
   "outputs": [
    {
     "name": "stdout",
     "output_type": "stream",
     "text": [
      "0.266,0.372,0.110, 0.085,0.068,0.023, 0.205,0.273,0.141, 0.044,0.093,0.083\n",
      "0.668,0.684,1.400, 0.448,0.440,0.765, 0.439,0.435,0.920, 0.235,0.230,0.408\n",
      "0.188,0.129,0.171, 0.080,0.003,0.075, 0.066,0.172,0.147, 0.002,0.066,0.075\n",
      "0.007,0.004,0.103, 0.003,0.008,0.052, 0.008,0.010,0.112, 0.008,0.006,0.006\n",
      "0.008,0.004,0.107, 0.003,0.009,0.054, 0.009,0.011,0.117, 0.009,0.006,0.006\n"
     ]
    },
    {
     "ename": "NameError",
     "evalue": "name 'total' is not defined",
     "output_type": "error",
     "traceback": [
      "\u001b[0;31m---------------------------------------------------------------------------\u001b[0m",
      "\u001b[0;31mNameError\u001b[0m                                 Traceback (most recent call last)",
      "\u001b[0;32m<ipython-input-2-0f3ba1e1d5b1>\u001b[0m in \u001b[0;36m<module>\u001b[0;34m()\u001b[0m\n\u001b[1;32m      4\u001b[0m \u001b[0mer\u001b[0m\u001b[0;34m.\u001b[0m\u001b[0mio_printErrorForExcelFormat\u001b[0m\u001b[0;34m(\u001b[0m\u001b[0merr\u001b[0m\u001b[0;34m)\u001b[0m\u001b[0;34m\u001b[0m\u001b[0m\n\u001b[1;32m      5\u001b[0m \u001b[0;34m\u001b[0m\u001b[0m\n\u001b[0;32m----> 6\u001b[0;31m \u001b[0mtotal\u001b[0m \u001b[0;34m=\u001b[0m \u001b[0mnp\u001b[0m\u001b[0;34m.\u001b[0m\u001b[0mconcatenate\u001b[0m\u001b[0;34m(\u001b[0m \u001b[0;34m(\u001b[0m\u001b[0mtotal\u001b[0m\u001b[0;34m,\u001b[0m\u001b[0merr\u001b[0m\u001b[0;34m)\u001b[0m\u001b[0;34m,\u001b[0m\u001b[0maxis\u001b[0m\u001b[0;34m=\u001b[0m\u001b[0;36m1\u001b[0m \u001b[0;34m)\u001b[0m\u001b[0;34m\u001b[0m\u001b[0m\n\u001b[0m",
      "\u001b[0;31mNameError\u001b[0m: name 'total' is not defined"
     ]
    }
   ],
   "source": [
    "# sysCrossSection\n",
    "err = [ er.errSystem_crossSection(source) for source in [\"mcbg\",\"fake\",\"lumin\",\"mctt\",\"mctw\"] ]\n",
    "err = np.array(err).transpose(1,0,2)\n",
    "er.io_printErrorForExcelFormat(err)\n",
    "\n",
    "total = np.concatenate( (total,err),axis=1 )"
   ]
  },
  {
   "cell_type": "code",
   "execution_count": 14,
   "metadata": {},
   "outputs": [
    {
     "name": "stdout",
     "output_type": "stream",
     "text": [
      "1.013,0.094,0.080, 1.036,0.095,0.075, 1.076,0.109,0.089, 1.029,0.103,0.080\n",
      "0.135,1.170,0.123, 0.126,1.065,0.106, 0.108,1.028,0.105, 0.110,1.027,0.101\n",
      "0.719,0.874,4.457, 0.693,0.825,4.301, 0.683,0.825,4.469, 0.649,0.795,4.374\n",
      "0.663,0.805,4.109, 0.510,0.607,3.166, 0.633,0.765,4.144, 0.469,0.575,3.161\n"
     ]
    }
   ],
   "source": [
    "# sysObjectEff\n",
    "err = [ er.errSystem_objectEff(source) for source in [\"e\",\"mu\",\"tauID\",'jetMisTauID'] ]\n",
    "err = np.array(err).transpose(1,0,2)\n",
    "er.io_printErrorForExcelFormat(err)\n",
    "\n",
    "total = np.concatenate( (total,err),axis=1 )"
   ]
  },
  {
   "cell_type": "code",
   "execution_count": 4,
   "metadata": {},
   "outputs": [
    {
     "name": "stdout",
     "output_type": "stream",
     "text": [
      "0.274,0.025,0.022, 0.353,0.032,0.026, 0.037,0.225,0.008, 0.091,0.268,0.018\n",
      "0.075,0.058,0.003, 0.089,0.077,0.011, 0.011,0.109,0.011, 0.013,0.119,0.012\n",
      "0.352,0.428,2.185, 0.290,0.345,1.801, 0.330,0.398,2.159, 0.279,0.341,1.878\n"
     ]
    }
   ],
   "source": [
    "# sysEnergyScale\n",
    "err = [ er.errSystem_energyScale(source) for source in [\"E\",\"Mu\",\"Tau\"] ]\n",
    "err[1] = err[1]/2.5\n",
    "err[2] = err[2]*1.2\n",
    "err = np.array(err).transpose(1,0,2)\n",
    "er.io_printErrorForExcelFormat(err)\n",
    "\n",
    "#total = np.concatenate( (total,err),axis=1 )"
   ]
  },
  {
   "cell_type": "code",
   "execution_count": null,
   "metadata": {},
   "outputs": [],
   "source": []
  },
  {
   "cell_type": "code",
   "execution_count": 16,
   "metadata": {},
   "outputs": [
    {
     "name": "stdout",
     "output_type": "stream",
     "text": [
      "1.794,1.324,3.635, 1.682,1.509,2.805, 1.374,1.729,3.818, 1.626,1.607,2.737\n",
      "0.133,0.043,0.420, 0.144,0.154,0.297, 0.116,0.168,0.397, 0.171,0.166,0.212\n",
      "0.110,0.437,0.626, 0.161,0.251,0.034, 0.325,0.179,0.645, 0.318,0.163,0.112\n",
      "0.141,0.145,0.003, 0.158,0.100,0.231, 0.078,0.108,0.140, 0.127,0.158,0.138\n"
     ]
    }
   ],
   "source": [
    "# sysJet\n",
    "err = [ er.errSystem_upDownVariation(source) for source in [\"JES\",\"JER\",\"BTag\",\"Mistag\"] ]\n",
    "err = np.array(err).transpose(1,0,2)\n",
    "er.io_printErrorForExcelFormat(err)\n",
    "\n",
    "total = np.concatenate( (total,err),axis=1 )"
   ]
  },
  {
   "cell_type": "code",
   "execution_count": 18,
   "metadata": {},
   "outputs": [
    {
     "name": "stdout",
     "output_type": "stream",
     "text": [
      "1.847,1.879,1.989, 1.891,1.906,1.919, 1.840,1.830,2.014, 1.876,1.884,1.880\n",
      "0.430,0.430,0.560, 0.459,0.443,0.458, 0.422,0.429,0.575, 0.432,0.453,0.504\n",
      "0.407,0.415,0.452, 0.411,0.416,0.414, 0.407,0.409,0.450, 0.409,0.413,0.415\n"
     ]
    }
   ],
   "source": [
    "# sysLHE\n",
    "err = [ er.errSystem_upDownVariation(source) for source in [\"Renorm\",\"Factor\",\"PDF\"] ]\n",
    "# err[0] = err[0]/(0.75/0.1)\n",
    "# err[1] = err[1]/(0.75/0.1)\n",
    "err = np.array(err).transpose(1,0,2)\n",
    "er.io_printErrorForExcelFormat(err)\n",
    "\n",
    "#total = np.concatenate( (total,err),axis=1 )"
   ]
  },
  {
   "cell_type": "code",
   "execution_count": 17,
   "metadata": {},
   "outputs": [
    {
     "name": "stdout",
     "output_type": "stream",
     "text": [
      "0.433,0.574,4.001, 1.180,0.719,3.565, 0.215,0.984,3.368, 0.772,0.829,2.534\n",
      "4.867,5.271,22.389, 2.888,4.586,17.240, 4.429,4.909,22.283, 4.361,4.324,15.799\n",
      "0.189,0.676,1.242, 0.110,0.672,1.762, 0.351,0.259,0.915, 0.454,0.143,0.874\n",
      "0.470,1.038,1.708, 1.114,0.637,0.778, 0.615,1.757,1.983, 1.116,0.448,3.923\n"
     ]
    }
   ],
   "source": [
    "# errSystem_ttTheory\n",
    "err = [ er.errSystem_upDownVariation(source) for source in [ \"ISR\",\"FSR\",\"UE\",\"MEPS\"] ]\n",
    "# err[0] = err[0]/(0.1108*0.75/0.0011)\n",
    "# err[1] = err[1]/(0.1108*0.75/0.0011)\n",
    "err = np.array(err).transpose(1,0,2)\n",
    "er.io_printErrorForExcelFormat(err)\n",
    "\n",
    "#total = np.concatenate( (total,err),axis=1 )"
   ]
  },
  {
   "cell_type": "code",
   "execution_count": 14,
   "metadata": {},
   "outputs": [
    {
     "name": "stdout",
     "output_type": "stream",
     "text": [
      "0.000,0.000,0.000, 0.000,0.000,0.000, 0.000,0.000,0.000, 0.000,0.000,0.000\n",
      "0.541,0.511,1.192, 0.966,0.861,1.970, 0.701,0.547,1.423, 1.222,0.962,2.382\n",
      "0.062,0.137,0.276, 0.065,0.124,0.322, 0.170,0.074,0.320, 0.158,0.059,0.209\n",
      "0.005,0.005,0.011, 0.008,0.008,0.014, 0.006,0.006,0.014, 0.009,0.009,0.016\n",
      "0.163,0.147,0.395, 0.258,0.228,0.589, 0.207,0.172,0.491, 0.318,0.262,0.697\n",
      "0.007,0.051,0.078, 0.006,0.049,0.075, 0.009,0.051,0.077, 0.008,0.049,0.075\n",
      "0.033,0.010,0.061, 0.032,0.010,0.059, 0.029,0.007,0.062, 0.028,0.007,0.060\n",
      "0.266,0.372,0.110, 0.085,0.068,0.023, 0.205,0.273,0.141, 0.044,0.093,0.083\n",
      "0.333,0.341,0.697, 0.224,0.219,0.381, 0.219,0.217,0.459, 0.117,0.115,0.204\n",
      "0.007,0.004,0.103, 0.003,0.008,0.052, 0.008,0.010,0.112, 0.008,0.006,0.006\n",
      "0.008,0.004,0.107, 0.003,0.009,0.054, 0.009,0.011,0.117, 0.009,0.006,0.006\n",
      "1.013,0.094,0.080, 1.036,0.095,0.075, 1.076,0.109,0.089, 1.029,0.103,0.080\n",
      "0.135,1.170,0.123, 0.126,1.065,0.106, 0.108,1.028,0.105, 0.110,1.027,0.101\n",
      "0.719,0.874,4.457, 0.693,0.825,4.301, 0.683,0.825,4.469, 0.649,0.795,4.374\n",
      "0.663,0.805,4.109, 0.510,0.607,3.166, 0.633,0.765,4.144, 0.469,0.575,3.161\n",
      "0.274,0.025,0.022, 0.353,0.032,0.026, 0.037,0.225,0.008, 0.091,0.268,0.018\n",
      "0.187,0.145,0.008, 0.223,0.193,0.029, 0.029,0.272,0.028, 0.032,0.297,0.029\n",
      "0.294,0.357,1.821, 0.242,0.288,1.501, 0.275,0.332,1.799, 0.232,0.285,1.565\n",
      "1.794,1.324,3.635, 1.682,1.509,2.805, 1.374,1.729,3.818, 1.626,1.607,2.737\n",
      "0.133,0.043,0.420, 0.144,0.154,0.297, 0.116,0.168,0.397, 0.171,0.166,0.212\n",
      "0.110,0.437,0.626, 0.161,0.251,0.034, 0.325,0.179,0.645, 0.318,0.163,0.112\n",
      "0.141,0.145,0.003, 0.158,0.100,0.231, 0.078,0.108,0.140, 0.127,0.158,0.138\n",
      "0.246,0.251,0.265, 0.252,0.254,0.256, 0.245,0.244,0.268, 0.250,0.251,0.251\n",
      "0.057,0.057,0.075, 0.061,0.059,0.061, 0.056,0.057,0.077, 0.058,0.060,0.067\n",
      "0.407,0.415,0.452, 0.411,0.416,0.414, 0.407,0.409,0.450, 0.409,0.413,0.415\n",
      "0.006,0.008,0.053, 0.016,0.010,0.047, 0.003,0.013,0.045, 0.010,0.011,0.034\n",
      "0.064,0.070,0.296, 0.038,0.061,0.228, 0.059,0.065,0.295, 0.058,0.057,0.209\n",
      "0.189,0.676,1.242, 0.110,0.672,1.762, 0.351,0.259,0.915, 0.454,0.143,0.874\n",
      "0.470,1.038,1.708, 1.114,0.637,0.778, 0.615,1.757,1.983, 1.116,0.448,3.923\n"
     ]
    }
   ],
   "source": [
    "er.io_printErrorForExcelFormat(total)"
   ]
  },
  {
   "cell_type": "code",
   "execution_count": null,
   "metadata": {},
   "outputs": [],
   "source": [
    "\n"
   ]
  },
  {
   "cell_type": "code",
   "execution_count": null,
   "metadata": {},
   "outputs": [],
   "source": []
  }
 ],
 "metadata": {
  "kernelspec": {
   "display_name": "Python 3",
   "language": "python",
   "name": "python3"
  },
  "language_info": {
   "codemirror_mode": {
    "name": "ipython",
    "version": 3
   },
   "file_extension": ".py",
   "mimetype": "text/x-python",
   "name": "python",
   "nbconvert_exporter": "python",
   "pygments_lexer": "ipython3",
   "version": "3.6.4"
  }
 },
 "nbformat": 4,
 "nbformat_minor": 2
}
