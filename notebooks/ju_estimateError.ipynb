{
 "cells": [
  {
   "cell_type": "code",
   "execution_count": 1,
   "metadata": {},
   "outputs": [],
   "source": [
    "from utility_bferror import *\n",
    "import datetime"
   ]
  },
  {
   "cell_type": "code",
   "execution_count": 2,
   "metadata": {},
   "outputs": [],
   "source": [
    "tb = BFSolver_Toolbox()\n",
    "er = BFSovler3D_Error(statCombined=False)"
   ]
  },
  {
   "cell_type": "markdown",
   "metadata": {},
   "source": [
    "# 1. Try One Case"
   ]
  },
  {
   "cell_type": "code",
   "execution_count": 4,
   "metadata": {},
   "outputs": [
    {
     "name": "stdout",
     "output_type": "stream",
     "text": [
      "[0.11066456 0.10992264 0.09573794]\n"
     ]
    }
   ],
   "source": [
    "i = 0\n",
    "\n",
    "ndata,ndataVar = er.ndata[i],er.ndataVar[i]\n",
    "nmcbg,nmcbgVar = er.nmcbg[i].dot(np.array([1,1,1])), er.nmcbgVar[i].dot(np.array([1,1,1]))\n",
    "nfake,nfakeVar = er.nfake[i],er.nfakeVar[i]\n",
    "a,aVar = er.a[i],er.aVar[i]\n",
    "aVar[a<0.001] = np.zeros_like(a)[a<0.001]\n",
    "\n",
    "slv0 = BFSolver3D(a)\n",
    "br0 = slv0.solveQuadEqn(slv0.setMeasuredX(nData=ndata, nMcbg=nmcbg+nfake))\n",
    "print(br0)"
   ]
  },
  {
   "cell_type": "code",
   "execution_count": 4,
   "metadata": {},
   "outputs": [
    {
     "data": {
      "image/png": "[encoded data removed]",
      "text/plain": [
       "<matplotlib.figure.Figure at 0x1a1f665d30>"
      ]
     },
     "metadata": {},
     "output_type": "display_data"
    }
   ],
   "source": [
    "trigger = 'mu'\n",
    "tb.imshow4Matrix(a,trigger)\n",
    "plt.savefig(\"../plots/acceptances/{}1b\".format(trigger))"
   ]
  },
  {
   "cell_type": "code",
   "execution_count": 6,
   "metadata": {
    "scrolled": false
   },
   "outputs": [],
   "source": [
    "# !!! important, do not delete !!!\n",
    "# bVector = np.array([ 0.1086,0.1086, 0.1086*0.1785,  0.1086*0.1736 , 0.1086*0.6479, 0.6741 ])\n",
    "# bMatrix = np.outer(bVector,bVector)\n",
    "# bMatrix = bMatrix * (2*np.ones_like(bMatrix)-np.identity(6))\n",
    "\n",
    "# av = common.matrixToArray(a[3])\n",
    "# bv = common.matrixToArray(bMatrix)\n",
    "\n",
    "# n = av * bv\n",
    "\n",
    "# percent = (n/np.sum(n))*100\n",
    "# for i in range(21):\n",
    "#     if percent[i]>1:\n",
    "#         print(percent[i])\n",
    "#     else:\n",
    "#         print('--')"
   ]
  },
  {
   "cell_type": "markdown",
   "metadata": {},
   "source": [
    "# 2. Calculate Statistical Error"
   ]
  },
  {
   "cell_type": "code",
   "execution_count": 5,
   "metadata": {},
   "outputs": [
    {
     "name": "stdout",
     "output_type": "stream",
     "text": [
      "0.000,0.000,0.000, 0.000,0.000,0.000, 0.000,0.000,0.000, 0.000,0.000,0.000\n",
      "0.006,0.045,0.068, 0.006,0.044,0.068, 0.008,0.044,0.068, 0.008,0.044,0.069\n",
      "0.029,0.009,0.054, 0.029,0.009,0.054, 0.025,0.006,0.054, 0.025,0.007,0.055\n",
      "0.000,0.020,0.013, 0.001,0.008,0.004, 0.018,0.001,0.009, 0.005,0.001,0.002\n",
      "0.147,0.704,0.094, 0.046,0.174,0.032, 0.466,0.140,0.047, 0.066,0.046,0.026\n",
      "0.159,0.160,0.141, 0.051,0.051,0.043, 0.152,0.156,0.149, 0.051,0.051,0.071\n",
      "0.647,0.636,1.229, 0.426,0.413,0.677, 0.000,0.000,0.000, 0.000,0.000,0.000\n",
      "0.000,0.000,0.000, 0.000,0.000,0.000, 0.379,0.388,0.750, 0.207,0.202,0.335\n",
      "0.259,0.311,1.603, 0.144,0.170,0.891, 0.227,0.276,1.495, 0.115,0.140,0.772\n",
      "0.153,0.277,0.020, 0.048,0.064,0.005, 0.162,0.148,0.049, 0.009,0.049,0.022\n",
      "0.008,0.004,0.099, 0.003,0.008,0.048, 0.008,0.011,0.109, 0.008,0.005,0.006\n",
      "0.009,0.005,0.103, 0.003,0.008,0.050, 0.009,0.011,0.114, 0.009,0.006,0.006\n",
      "1.024,0.095,0.069, 1.041,0.096,0.068, 1.088,0.112,0.077, 1.033,0.104,0.072\n",
      "0.140,1.188,0.109, 0.128,1.072,0.096, 0.108,1.035,0.093, 0.112,1.030,0.092\n",
      "1.421,0.785,6.866, 1.100,1.060,6.206, 0.729,1.579,6.855, 0.918,1.239,6.236\n",
      "0.285,0.026,0.019, 0.356,0.033,0.023, 0.026,0.214,0.009, 0.060,0.266,0.020\n",
      "0.085,0.095,0.031, 0.091,0.086,0.017, 0.012,0.112,0.010, 0.013,0.120,0.011\n",
      "0.264,0.318,1.636, 0.237,0.281,1.472, 0.252,0.306,1.660, 0.224,0.274,1.508\n",
      "1.834,0.877,3.952, 1.751,1.508,2.819, 1.408,1.732,3.948, 1.414,1.639,2.808\n",
      "0.121,0.130,0.421, 0.157,0.096,0.412, 0.100,0.150,0.376, 0.194,0.174,0.072\n",
      "0.056,0.739,0.343, 0.179,1.165,1.822, 0.490,0.016,0.407, 0.770,0.213,1.283\n",
      "0.104,0.057,0.090, 0.164,0.042,0.240, 0.125,0.113,0.176, 0.122,0.139,0.167\n"
     ]
    }
   ],
   "source": [
    "total = np.zeros([4,1,3])\n",
    "# PDG\n",
    "err = [ er.errConstent(source) for source in [\"BtmUp\",\"BteUp\"] ]\n",
    "err = np.array(err).transpose(1,0,2)\n",
    "total = np.concatenate( (total,err),axis=1 )\n",
    "\n",
    "# sysCrossSection\n",
    "err = [ er.errSystem_crossSection(source) for source in [\"mcvv\",'mcz','mcw',\"fakemu\",\"fakee\",\"faketau\",\"lumin\",\"mctt\",\"mctw\"] ]\n",
    "err = np.array(err).transpose(1,0,2)\n",
    "total = np.concatenate( (total,err),axis=1 )\n",
    "\n",
    "# sysObjectEff\n",
    "#err = [ er.errSystem_objectEff(source) for source in [\"e\",\"mu\",\"tauID\",'jetMisTauID'] ]\n",
    "err = [ er.errSystem_objectEff(source) for source in [\"e\",\"mu\",'tauIDNotFactorized'] ]\n",
    "err = np.array(err).transpose(1,0,2)\n",
    "total = np.concatenate( (total,err),axis=1 )\n",
    "\n",
    "# sysEnergyScale\n",
    "err = [ er.errSystem_energyScale(source) for source in [\"E\",\"Mu\",\"Tau\"] ]\n",
    "err = np.array(err).transpose(1,0,2)\n",
    "total = np.concatenate( (total,err),axis=1 )\n",
    "\n",
    "# sysJet\n",
    "err = [ er.errSystem_upDownVariation(source) for source in [\"JES\",\"JER\",\"BTag\",\"Mistag\"] ]\n",
    "err = np.array(err).transpose(1,0,2)\n",
    "total = np.concatenate( (total,err),axis=1 )\n",
    "\n",
    "er.io_printErrorForExcelFormat(total)"
   ]
  },
  {
   "cell_type": "code",
   "execution_count": 10,
   "metadata": {},
   "outputs": [],
   "source": [
    "# statistics\n",
    "# err = [ er.errStat(source) for source in [\"data\",\"mcbg\",\"mcsg\"] ]\n",
    "# err = np.array(err).transpose(1,0,2)\n",
    "# er.io_printErrorForExcelFormat(err)\n",
    "# total = np.concatenate( (total,err),axis=1 )\n",
    "\n",
    "# # sysLHE\n",
    "# err = [ er.errSystem_upDownVariation(source) for source in [\"Renorm\",\"Factor\",\"PDF\"] ]\n",
    "# # err[0] = err[0]/(0.75/0.1)\n",
    "# # err[1] = err[1]/(0.75/0.1)\n",
    "# err = np.array(err).transpose(1,0,2)\n",
    "# er.io_printErrorForExcelFormat(err)\n",
    "# #total = np.concatenate( (total,err),axis=1 )\n",
    "\n",
    "# # errSystem_ttTheory\n",
    "# err = [ er.errSystem_upDownVariation(source) for source in [ \"ISR\",\"FSR\",\"UE\",\"MEPS\"] ]\n",
    "# # err[0] = err[0]/(0.1108*0.75/0.0011)\n",
    "# # err[1] = err[1]/(0.1108*0.75/0.0011)\n",
    "# err = np.array(err).transpose(1,0,2)\n",
    "# er.io_printErrorForExcelFormat(err)\n",
    "# #total = np.concatenate( (total,err),axis=1 )"
   ]
  },
  {
   "cell_type": "code",
   "execution_count": 6,
   "metadata": {},
   "outputs": [],
   "source": [
    "# systematic\n",
    "sigma_syst = total.transpose(1,0,2)\n",
    "s = sigma_syst.shape\n",
    "sigma_syst = sigma_syst.reshape(s[0],s[1]*s[2])\n",
    "\n",
    "covar_syst = []\n",
    "for i in sigma_syst:\n",
    "    covar_syst.append(np.outer(i,i))\n",
    "covar_syst = np.array(covar_syst)\n",
    "\n",
    "# statistics\n",
    "sig_stat, covar_stat_raw = er.errStat('data',returnCovar=True)\n",
    "covar_stat = np.zeros([12,12])\n",
    "for c in range(4):\n",
    "    for i in range(3):\n",
    "        for j in range(3):\n",
    "            covar_stat[c*3+i,c*3+j] = covar_stat_raw[c,i,j]\n",
    "            \n",
    "            \n",
    "covar = covar_syst\n",
    "covar[0] = covar_stat"
   ]
  },
  {
   "cell_type": "code",
   "execution_count": 7,
   "metadata": {},
   "outputs": [],
   "source": [
    "np.save('../data/covar_2',covar)\n",
    "np.save('../data/sigma_2',sigma_syst) "
   ]
  },
  {
   "cell_type": "markdown",
   "metadata": {},
   "source": [
    "# Do it with Statistical Combined\n"
   ]
  },
  {
   "cell_type": "code",
   "execution_count": null,
   "metadata": {},
   "outputs": [],
   "source": [
    "er = BFSovler3D_Error(statCombined=True)"
   ]
  },
  {
   "cell_type": "code",
   "execution_count": 5,
   "metadata": {},
   "outputs": [],
   "source": [
    "err  = []\n",
    "err += [ er.errConstent(source) for source in [\"BtmUp\",\"BteUp\"] ]\n",
    "err += [ er.errSystem_crossSection(source) for source in [\"mcvv\",'mcz','mcw',\"fakemu\",\"fakee\",\"faketau\",\"lumin\",\"mctt\",\"mctw\"] ]\n",
    "err += [ er.errSystem_objectEff(source) for source in [\"e\",\"mu\",\"tauID\",'jetMisTauID'] ]\n",
    "err += [ er.errSystem_energyScale(source) for source in [\"E\",\"Mu\",\"Tau\"] ]\n",
    "err += [ er.errSystem_upDownVariation(source) for source in [\"JES\",\"JER\",\"BTag\",\"Mistag\"] ]\n",
    "err  = np.array(err)"
   ]
  },
  {
   "cell_type": "code",
   "execution_count": 6,
   "metadata": {},
   "outputs": [
    {
     "name": "stdout",
     "output_type": "stream",
     "text": [
      "0.007,0.049,0.076\n",
      "0.031,0.008,0.060\n",
      "0.004,0.007,0.009\n",
      "0.010,0.146,0.048\n",
      "0.125,0.122,0.130\n",
      "0.411,0.226,0.658\n",
      "0.091,0.193,0.273\n",
      "0.221,0.253,1.365\n",
      "0.057,0.014,0.038\n",
      "0.004,0.005,0.085\n",
      "0.004,0.005,0.089\n",
      "1.037,0.102,0.081\n",
      "0.127,1.078,0.111\n",
      "0.690,0.820,4.363\n",
      "0.617,0.728,3.880\n",
      "0.227,0.144,0.008\n",
      "0.063,0.100,0.005\n",
      "0.263,0.312,1.660\n",
      "1.613,1.488,3.720\n",
      "0.131,0.115,0.402\n",
      "0.260,0.386,0.789\n",
      "0.074,0.050,0.159\n",
      "2.239,2.253,7.343\n"
     ]
    }
   ],
   "source": [
    "er.io_printErrorForExcelFormat(err)\n",
    "total = np.sum( err**2,axis=0)[None,:]**0.5\n",
    "er.io_printErrorForExcelFormat(total)"
   ]
  },
  {
   "cell_type": "code",
   "execution_count": null,
   "metadata": {},
   "outputs": [],
   "source": []
  }
 ],
 "metadata": {
  "kernelspec": {
   "display_name": "Python 3",
   "language": "python",
   "name": "python3"
  },
  "language_info": {
   "codemirror_mode": {
    "name": "ipython",
    "version": 3
   },
   "file_extension": ".py",
   "mimetype": "text/x-python",
   "name": "python",
   "nbconvert_exporter": "python",
   "pygments_lexer": "ipython3",
   "version": "3.6.4"
  }
 },
 "nbformat": 4,
 "nbformat_minor": 2
}
