{
 "cells": [
  {
   "cell_type": "code",
   "execution_count": 4,
   "metadata": {},
   "outputs": [],
   "source": [
    "from utility_bferror import *\n",
    "import datetime"
   ]
  },
  {
   "cell_type": "code",
   "execution_count": 5,
   "metadata": {},
   "outputs": [],
   "source": [
    "tb = BFSolver_Toolbox()\n",
    "er = BFSovler3D_Error(statCombined=False)"
   ]
  },
  {
   "cell_type": "markdown",
   "metadata": {},
   "source": [
    "# 1. Try One Case"
   ]
  },
  {
   "cell_type": "code",
   "execution_count": 8,
   "metadata": {},
   "outputs": [
    {
     "name": "stdout",
     "output_type": "stream",
     "text": [
      "[0.11032918 0.10960175 0.10708695]\n"
     ]
    }
   ],
   "source": [
    "i = 3\n",
    "\n",
    "ndata,ndataVar = er.ndata[i],er.ndataVar[i]\n",
    "nmcbg,nmcbgVar = er.nmcbg[i].dot(np.array([1,1,1])), er.nmcbgVar[i].dot(np.array([1,1,1]))\n",
    "nfake,nfakeVar = er.nfake[i],er.nfakeVar[i]\n",
    "a,aVar = er.a[i],er.aVar[i]\n",
    "aVar[a<0.001] = np.zeros_like(a)[a<0.001]\n",
    "\n",
    "slv0 = BFSolver3D(a)\n",
    "br0 = slv0.solveQuadEqn(slv0.setMeasuredX(nData=ndata, nMcbg=nmcbg+nfake))\n",
    "print(br0)"
   ]
  },
  {
   "cell_type": "code",
   "execution_count": 4,
   "metadata": {},
   "outputs": [
    {
     "data": {
      "image/png": "[encoded data removed]",
      "text/plain": [
       "<matplotlib.figure.Figure at 0x10efd7c88>"
      ]
     },
     "metadata": {},
     "output_type": "display_data"
    }
   ],
   "source": [
    "trigger = 'mu'\n",
    "tb.imshow4Matrix(a,trigger)\n",
    "plt.savefig(\"../plots/acceptances/{}1b\".format(trigger))"
   ]
  },
  {
   "cell_type": "code",
   "execution_count": 5,
   "metadata": {
    "scrolled": false
   },
   "outputs": [],
   "source": [
    "# !!! important, do not delete !!!\n",
    "# bVector = np.array([ 0.1086,0.1086, 0.1086*0.1785,  0.1086*0.1736 , 0.1086*0.6479, 0.6741 ])\n",
    "# bMatrix = np.outer(bVector,bVector)\n",
    "# bMatrix = bMatrix * (2*np.ones_like(bMatrix)-np.identity(6))\n",
    "\n",
    "# av = common.matrixToArray(a[3])\n",
    "# bv = common.matrixToArray(bMatrix)\n",
    "\n",
    "# n = av * bv\n",
    "\n",
    "# percent = (n/np.sum(n))*100\n",
    "# for i in range(21):\n",
    "#     if percent[i]>1:\n",
    "#         print(percent[i])\n",
    "#     else:\n",
    "#         print('--')"
   ]
  },
  {
   "cell_type": "markdown",
   "metadata": {},
   "source": [
    "# 2. Calculate Statistical Error"
   ]
  },
  {
   "cell_type": "code",
   "execution_count": 10,
   "metadata": {},
   "outputs": [
    {
     "name": "stdout",
     "output_type": "stream",
     "text": [
      "0.000,0.000,0.000, 0.000,0.000,0.000, 0.000,0.000,0.000, 0.000,0.000,0.000\n",
      "0.006,0.050,0.076, 0.006,0.049,0.075, 0.009,0.050,0.076, 0.008,0.049,0.076\n",
      "0.032,0.010,0.060, 0.032,0.010,0.059, 0.028,0.007,0.060, 0.028,0.007,0.060\n",
      "0.002,0.028,0.014, 0.002,0.011,0.004, 0.024,0.004,0.008, 0.007,0.003,0.001\n",
      "0.143,0.687,0.082, 0.046,0.185,0.027, 0.456,0.135,0.025, 0.071,0.046,0.022\n",
      "0.155,0.156,0.156, 0.050,0.050,0.047, 0.149,0.152,0.164, 0.050,0.050,0.076\n",
      "0.632,0.620,1.293, 0.418,0.403,0.713, 0.000,0.000,0.000, 0.000,0.000,0.000\n",
      "0.000,0.000,0.000, 0.000,0.000,0.000, 0.371,0.378,0.789, 0.203,0.198,0.352\n",
      "0.260,0.313,1.609, 0.147,0.175,0.914, 0.232,0.282,1.527, 0.118,0.144,0.791\n",
      "0.150,0.272,0.034, 0.049,0.071,0.009, 0.160,0.144,0.067, 0.012,0.049,0.027\n",
      "0.007,0.004,0.103, 0.003,0.008,0.052, 0.008,0.010,0.112, 0.009,0.006,0.007\n",
      "0.008,0.004,0.107, 0.003,0.009,0.054, 0.008,0.011,0.117, 0.009,0.006,0.007\n",
      "1.021,0.093,0.078, 1.039,0.094,0.076, 1.084,0.111,0.087, 1.030,0.103,0.080\n",
      "0.138,1.184,0.122, 0.127,1.070,0.106, 0.106,1.033,0.103, 0.110,1.028,0.101\n",
      "0.738,0.890,4.578, 0.728,0.863,4.513, 0.700,0.851,4.615, 0.681,0.831,4.577\n",
      "0.671,0.809,4.159, 0.514,0.609,3.184, 0.636,0.773,4.193, 0.473,0.577,3.177\n",
      "0.280,0.025,0.021, 0.353,0.032,0.026, 0.049,0.214,0.009, 0.058,0.263,0.023\n",
      "0.081,0.083,0.031, 0.089,0.085,0.017, 0.011,0.110,0.011, 0.013,0.119,0.012\n",
      "0.274,0.330,1.699, 0.246,0.292,1.526, 0.261,0.318,1.722, 0.233,0.285,1.567\n",
      "1.742,1.100,3.982, 1.637,1.503,2.984, 1.217,1.709,4.083, 1.648,1.533,3.014\n",
      "0.121,0.062,0.476, 0.162,0.041,0.437, 0.122,0.152,0.410, 0.151,0.178,0.082\n",
      "0.072,0.689,0.367, 0.180,1.164,1.883, 0.592,0.014,0.445, 0.789,0.221,1.477\n",
      "0.114,0.093,0.084, 0.159,0.029,0.254, 0.140,0.116,0.199, 0.119,0.135,0.183\n"
     ]
    }
   ],
   "source": [
    "total = np.zeros([4,1,3])\n",
    "# PDG\n",
    "err = [ er.errConstent(source) for source in [\"BtmUp\",\"BteUp\"] ]\n",
    "err = np.array(err).transpose(1,0,2)\n",
    "total = np.concatenate( (total,err),axis=1 )\n",
    "\n",
    "# sysCrossSection\n",
    "err = [ er.errSystem_crossSection(source) for source in [\"mcvv\",'mcz','mcw',\"fakemu\",\"fakee\",\"faketau\",\"lumin\",\"mctt\",\"mctw\"] ]\n",
    "err = np.array(err).transpose(1,0,2)\n",
    "total = np.concatenate( (total,err),axis=1 )\n",
    "\n",
    "# sysObjectEff\n",
    "err = [ er.errSystem_objectEff(source) for source in [\"e\",\"mu\",\"tauID\",'jetMisTauID'] ]\n",
    "#err = [ er.errSystem_objectEff(source) for source in [\"e\",\"mu\",'tauIDNotFactorized'] ]\n",
    "err = np.array(err).transpose(1,0,2)\n",
    "total = np.concatenate( (total,err),axis=1 )\n",
    "\n",
    "# sysEnergyScale\n",
    "err = [ er.errSystem_energyScale(source) for source in [\"E\",\"Mu\",\"Tau\"] ]\n",
    "err = np.array(err).transpose(1,0,2)\n",
    "total = np.concatenate( (total,err),axis=1 )\n",
    "\n",
    "# sysJet\n",
    "err = [ er.errSystem_upDownVariation(source) for source in [\"JES\",\"JER\",\"BTag\",\"Mistag\"] ]\n",
    "err = np.array(err).transpose(1,0,2)\n",
    "total = np.concatenate( (total,err),axis=1 )\n",
    "\n",
    "er.io_printErrorForExcelFormat(total)"
   ]
  },
  {
   "cell_type": "code",
   "execution_count": 11,
   "metadata": {},
   "outputs": [],
   "source": [
    "# statistics\n",
    "# err = [ er.errStat(source) for source in [\"data\",\"mcbg\",\"mcsg\"] ]\n",
    "# err = np.array(err).transpose(1,0,2)\n",
    "# er.io_printErrorForExcelFormat(err)\n",
    "# total = np.concatenate( (total,err),axis=1 )\n",
    "\n",
    "# # sysLHE\n",
    "# err = [ er.errSystem_upDownVariation(source) for source in [\"Renorm\",\"Factor\",\"PDF\"] ]\n",
    "# # err[0] = err[0]/(0.75/0.1)\n",
    "# # err[1] = err[1]/(0.75/0.1)\n",
    "# err = np.array(err).transpose(1,0,2)\n",
    "# er.io_printErrorForExcelFormat(err)\n",
    "# #total = np.concatenate( (total,err),axis=1 )\n",
    "\n",
    "# # errSystem_ttTheory\n",
    "# err = [ er.errSystem_upDownVariation(source) for source in [ \"ISR\",\"FSR\",\"UE\",\"MEPS\"] ]\n",
    "# # err[0] = err[0]/(0.1108*0.75/0.0011)\n",
    "# # err[1] = err[1]/(0.1108*0.75/0.0011)\n",
    "# err = np.array(err).transpose(1,0,2)\n",
    "# er.io_printErrorForExcelFormat(err)\n",
    "# #total = np.concatenate( (total,err),axis=1 )"
   ]
  },
  {
   "cell_type": "code",
   "execution_count": 12,
   "metadata": {},
   "outputs": [],
   "source": [
    "# systematic\n",
    "sigma_syst = total.transpose(1,0,2)\n",
    "s = sigma_syst.shape\n",
    "sigma_syst = sigma_syst.reshape(s[0],s[1]*s[2])\n",
    "\n",
    "covar_syst = []\n",
    "for i in sigma_syst:\n",
    "    covar_syst.append(np.outer(i,i))\n",
    "covar_syst = np.array(covar_syst)\n",
    "\n",
    "# statistics\n",
    "sig_stat, covar_stat_raw = er.errStat('data',returnCovar=True)\n",
    "covar_stat = np.zeros([12,12])\n",
    "for c in range(4):\n",
    "    for i in range(3):\n",
    "        for j in range(3):\n",
    "            covar_stat[c*3+i,c*3+j] = covar_stat_raw[c,i,j]\n",
    "            \n",
    "            \n",
    "covar = covar_syst\n",
    "covar[0] = covar_stat"
   ]
  },
  {
   "cell_type": "code",
   "execution_count": 13,
   "metadata": {},
   "outputs": [],
   "source": [
    "np.save('../data/covar',covar)\n",
    "np.save('../data/sigma',sigma_syst) "
   ]
  },
  {
   "cell_type": "markdown",
   "metadata": {},
   "source": [
    "# Do it with Statistical Combined\n"
   ]
  },
  {
   "cell_type": "code",
   "execution_count": null,
   "metadata": {},
   "outputs": [],
   "source": [
    "er = BFSovler3D_Error(statCombined=True)"
   ]
  },
  {
   "cell_type": "code",
   "execution_count": 5,
   "metadata": {},
   "outputs": [],
   "source": [
    "err  = []\n",
    "err += [ er.errConstent(source) for source in [\"BtmUp\",\"BteUp\"] ]\n",
    "err += [ er.errSystem_crossSection(source) for source in [\"mcvv\",'mcz','mcw',\"fakemu\",\"fakee\",\"faketau\",\"lumin\",\"mctt\",\"mctw\"] ]\n",
    "err += [ er.errSystem_objectEff(source) for source in [\"e\",\"mu\",\"tauID\",'jetMisTauID'] ]\n",
    "err += [ er.errSystem_energyScale(source) for source in [\"E\",\"Mu\",\"Tau\"] ]\n",
    "err += [ er.errSystem_upDownVariation(source) for source in [\"JES\",\"JER\",\"BTag\",\"Mistag\"] ]\n",
    "err  = np.array(err)"
   ]
  },
  {
   "cell_type": "code",
   "execution_count": 6,
   "metadata": {},
   "outputs": [
    {
     "name": "stdout",
     "output_type": "stream",
     "text": [
      "0.007,0.049,0.076\n",
      "0.031,0.008,0.060\n",
      "0.004,0.007,0.009\n",
      "0.010,0.146,0.048\n",
      "0.125,0.122,0.130\n",
      "0.411,0.226,0.658\n",
      "0.091,0.193,0.273\n",
      "0.221,0.253,1.365\n",
      "0.057,0.014,0.038\n",
      "0.004,0.005,0.085\n",
      "0.004,0.005,0.089\n",
      "1.037,0.102,0.081\n",
      "0.127,1.078,0.111\n",
      "0.690,0.820,4.363\n",
      "0.617,0.728,3.880\n",
      "0.227,0.144,0.008\n",
      "0.063,0.100,0.005\n",
      "0.263,0.312,1.660\n",
      "1.613,1.488,3.720\n",
      "0.131,0.115,0.402\n",
      "0.260,0.386,0.789\n",
      "0.074,0.050,0.159\n",
      "2.239,2.253,7.343\n"
     ]
    }
   ],
   "source": [
    "er.io_printErrorForExcelFormat(err)\n",
    "total = np.sum( err**2,axis=0)[None,:]**0.5\n",
    "er.io_printErrorForExcelFormat(total)"
   ]
  },
  {
   "cell_type": "code",
   "execution_count": null,
   "metadata": {},
   "outputs": [],
   "source": []
  }
 ],
 "metadata": {
  "kernelspec": {
   "display_name": "Python 3",
   "language": "python",
   "name": "python3"
  },
  "language_info": {
   "codemirror_mode": {
    "name": "ipython",
    "version": 3
   },
   "file_extension": ".py",
   "mimetype": "text/x-python",
   "name": "python",
   "nbconvert_exporter": "python",
   "pygments_lexer": "ipython3",
   "version": "3.6.4"
  }
 },
 "nbformat": 4,
 "nbformat_minor": 2
}
