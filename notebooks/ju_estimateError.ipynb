{
 "cells": [
  {
   "cell_type": "code",
   "execution_count": 1,
   "metadata": {},
   "outputs": [],
   "source": [
    "from utility_bferror import *\n",
    "import datetime\n",
    "\n",
    "tb = BFSolver_Toolbox()\n",
    "er = BFSovler3D_Error()"
   ]
  },
  {
   "cell_type": "markdown",
   "metadata": {},
   "source": [
    "# 1. Try One Case"
   ]
  },
  {
   "cell_type": "code",
   "execution_count": 2,
   "metadata": {},
   "outputs": [
    {
     "name": "stdout",
     "output_type": "stream",
     "text": [
      "[0.10757808 0.11075555 0.10945892]\n"
     ]
    }
   ],
   "source": [
    "i = 0\n",
    "\n",
    "ndata,ndataVar = er.ndata[i],er.ndataVar[i]\n",
    "nmcbg,nmcbgVar = er.nmcbg[i],er.nmcbgVar[i]\n",
    "nfake,nfakeVar = er.nfake[i],er.nfakeVar[i]\n",
    "a,aVar = er.a[i],er.aVar[i]\n",
    "aVar[a<0.001] = np.zeros_like(a)[a<0.001]\n",
    "\n",
    "slv0 = BFSolver3D(a)\n",
    "br0 = slv0.solveQuadEqn(slv0.setMeasuredX(nData=ndata, nMcbg=nmcbg+nfake))\n",
    "print(br0)"
   ]
  },
  {
   "cell_type": "code",
   "execution_count": 3,
   "metadata": {},
   "outputs": [
    {
     "data": {
      "image/png": "[encoded data removed]",
      "text/plain": [
       "<matplotlib.figure.Figure at 0x7fe40c294e48>"
      ]
     },
     "metadata": {},
     "output_type": "display_data"
    }
   ],
   "source": [
    "trigger = 'mu'\n",
    "tb.imshow4Matrix(a,trigger)"
   ]
  },
  {
   "cell_type": "markdown",
   "metadata": {},
   "source": [
    "# 2. Calculate Statistical Error"
   ]
  },
  {
   "cell_type": "code",
   "execution_count": 4,
   "metadata": {},
   "outputs": [],
   "source": [
    "total = np.zeros([4,1,3])"
   ]
  },
  {
   "cell_type": "code",
   "execution_count": 5,
   "metadata": {},
   "outputs": [
    {
     "name": "stdout",
     "output_type": "stream",
     "text": [
      "0.541,0.511,1.192, 0.966,0.861,1.970, 0.701,0.547,1.423, 1.222,0.962,2.382\n",
      "0.062,0.137,0.276, 0.065,0.124,0.322, 0.170,0.074,0.320, 0.158,0.059,0.209\n",
      "0.005,0.005,0.011, 0.008,0.008,0.014, 0.006,0.006,0.014, 0.009,0.009,0.016\n",
      "0.163,0.147,0.395, 0.258,0.228,0.589, 0.207,0.172,0.491, 0.318,0.262,0.697\n"
     ]
    }
   ],
   "source": [
    "# statistics\n",
    "err = [ er.errStat(source) for source in [\"data\",\"mcbg\",\"fake\",\"mcsg\"] ]\n",
    "err = np.array(err).transpose(1,0,2)\n",
    "er.io_printErrorForExcelFormat(err)\n",
    "\n",
    "total = np.concatenate( (total,err),axis=1 )"
   ]
  },
  {
   "cell_type": "code",
   "execution_count": 6,
   "metadata": {},
   "outputs": [
    {
     "name": "stdout",
     "output_type": "stream",
     "text": [
      "0.266,0.372,0.110, 0.085,0.068,0.023, 0.205,0.273,0.141, 0.044,0.093,0.083\n",
      "0.333,0.341,0.697, 0.224,0.219,0.381, 0.219,0.217,0.459, 0.117,0.115,0.204\n",
      "0.007,0.004,0.103, 0.003,0.008,0.052, 0.008,0.010,0.112, 0.008,0.006,0.006\n",
      "0.008,0.004,0.107, 0.003,0.009,0.054, 0.009,0.011,0.117, 0.009,0.006,0.006\n"
     ]
    }
   ],
   "source": [
    "# sysCrossSection\n",
    "err = [ er.errSystem_crossSection(source) for source in [\"mcbg\",\"fake\",\"mctt\",\"mctw\"] ]\n",
    "err = np.array(err).transpose(1,0,2)\n",
    "er.io_printErrorForExcelFormat(err)\n",
    "\n",
    "total = np.concatenate( (total,err),axis=1 )"
   ]
  },
  {
   "cell_type": "code",
   "execution_count": 7,
   "metadata": {},
   "outputs": [
    {
     "name": "stdout",
     "output_type": "stream",
     "text": [
      "1.013,0.094,0.080, 1.036,0.095,0.075, 1.076,0.109,0.089, 1.029,0.103,0.080\n",
      "0.135,1.170,0.123, 0.126,1.065,0.106, 0.108,1.028,0.105, 0.110,1.027,0.101\n",
      "0.719,0.874,4.457, 0.693,0.825,4.301, 0.683,0.825,4.469, 0.649,0.795,4.374\n",
      "0.663,0.805,4.109, 0.510,0.607,3.166, 0.633,0.765,4.144, 0.469,0.575,3.161\n"
     ]
    }
   ],
   "source": [
    "# sysObjectEff\n",
    "err = [ er.errSystem_objectEff(source) for source in [\"e\",\"mu\",\"tauID\",'jetMisTauID'] ]\n",
    "err = np.array(err).transpose(1,0,2)\n",
    "er.io_printErrorForExcelFormat(err)\n",
    "\n",
    "total = np.concatenate( (total,err),axis=1 )"
   ]
  },
  {
   "cell_type": "code",
   "execution_count": 8,
   "metadata": {},
   "outputs": [
    {
     "name": "stdout",
     "output_type": "stream",
     "text": [
      "0.000,0.000,0.000, 0.000,0.000,0.000, 0.110,0.214,0.048, 0.121,0.211,0.036\n",
      "0.198,0.242,0.018, 0.232,0.269,0.036, 0.000,0.000,0.000, 0.000,0.000,0.000\n",
      "0.294,0.357,1.821, 0.242,0.288,1.501, 0.275,0.332,1.799, 0.232,0.285,1.565\n"
     ]
    }
   ],
   "source": [
    "# sysEnergyScale\n",
    "err = [ er.errSystem_energyScale(source) for source in [\"E\",\"Mu\",\"Tau\"] ]\n",
    "err = np.array(err).transpose(1,0,2)\n",
    "er.io_printErrorForExcelFormat(err)\n",
    "\n",
    "total = np.concatenate( (total,err),axis=1 )"
   ]
  },
  {
   "cell_type": "code",
   "execution_count": 9,
   "metadata": {},
   "outputs": [
    {
     "name": "stdout",
     "output_type": "stream",
     "text": [
      "0.003,0.004,0.026, 0.008,0.005,0.024, 0.001,0.007,0.022, 0.005,0.005,0.017\n",
      "0.032,0.035,0.148, 0.019,0.030,0.114, 0.029,0.032,0.147, 0.029,0.029,0.105\n",
      "0.189,0.676,1.242, 0.110,0.672,1.762, 0.351,0.259,0.915, 0.454,0.143,0.874\n",
      "0.470,1.038,1.708, 1.114,0.637,0.778, 0.615,1.757,1.983, 1.116,0.448,3.923\n"
     ]
    }
   ],
   "source": [
    "# errSystem_ttTheory\n",
    "err = [ er.errSystem_upDownVariation(source) for source in [ \"ISR\",\"FSR\",\"UE\",\"MEPS\"] ]\n",
    "err[0] = err[0]/(0.1108*1.5/0.0011)\n",
    "err[1] = err[1]/(0.1108*1.5/0.0011)\n",
    "err = np.array(err).transpose(1,0,2)\n",
    "er.io_printErrorForExcelFormat(err)\n",
    "\n",
    "#total = np.concatenate( (total,err),axis=1 )"
   ]
  },
  {
   "cell_type": "code",
   "execution_count": 10,
   "metadata": {},
   "outputs": [
    {
     "name": "stdout",
     "output_type": "stream",
     "text": [
      "1.794,1.324,3.635, 1.682,1.509,2.805, 1.374,1.729,3.818, 1.626,1.607,2.737\n",
      "0.133,0.043,0.420, 0.144,0.154,0.297, 0.116,0.168,0.397, 0.171,0.166,0.212\n",
      "0.110,0.437,0.626, 0.161,0.251,0.034, 0.325,0.179,0.645, 0.318,0.163,0.112\n",
      "0.141,0.145,0.003, 0.158,0.100,0.231, 0.078,0.108,0.140, 0.127,0.158,0.138\n"
     ]
    }
   ],
   "source": [
    "# sysJet\n",
    "err = [ er.errSystem_upDownVariation(source) for source in [\"JES\",\"JER\",\"BTag\",\"Mistag\"] ]\n",
    "err = np.array(err).transpose(1,0,2)\n",
    "er.io_printErrorForExcelFormat(err)\n",
    "\n",
    "#total = np.concatenate( (total,err),axis=1 )"
   ]
  },
  {
   "cell_type": "code",
   "execution_count": 11,
   "metadata": {},
   "outputs": [
    {
     "name": "stdout",
     "output_type": "stream",
     "text": [
      "1.847,1.879,1.989, 1.891,1.906,1.919, 1.840,1.830,2.014, 1.876,1.884,1.880\n",
      "0.430,0.430,0.560, 0.459,0.443,0.458, 0.422,0.429,0.575, 0.432,0.453,0.504\n",
      "0.407,0.415,0.452, 0.411,0.416,0.414, 0.407,0.409,0.450, 0.409,0.413,0.415\n"
     ]
    }
   ],
   "source": [
    "# sysLHE\n",
    "err = [ er.errSystem_upDownVariation(source) for source in [\"Renorm\",\"Factor\",\"PDF\"] ]\n",
    "err = np.array(err).transpose(1,0,2)\n",
    "er.io_printErrorForExcelFormat(err)\n",
    "\n",
    "total = np.concatenate( (total,err),axis=1 )"
   ]
  },
  {
   "cell_type": "code",
   "execution_count": 12,
   "metadata": {},
   "outputs": [
    {
     "name": "stdout",
     "output_type": "stream",
     "text": [
      "0.000,0.000,0.000, 0.000,0.000,0.000, 0.000,0.000,0.000, 0.000,0.000,0.000\n",
      "0.541,0.511,1.192, 0.966,0.861,1.970, 0.701,0.547,1.423, 1.222,0.962,2.382\n",
      "0.062,0.137,0.276, 0.065,0.124,0.322, 0.170,0.074,0.320, 0.158,0.059,0.209\n",
      "0.005,0.005,0.011, 0.008,0.008,0.014, 0.006,0.006,0.014, 0.009,0.009,0.016\n",
      "0.163,0.147,0.395, 0.258,0.228,0.589, 0.207,0.172,0.491, 0.318,0.262,0.697\n",
      "0.266,0.372,0.110, 0.085,0.068,0.023, 0.205,0.273,0.141, 0.044,0.093,0.083\n",
      "0.333,0.341,0.697, 0.224,0.219,0.381, 0.219,0.217,0.459, 0.117,0.115,0.204\n",
      "0.007,0.004,0.103, 0.003,0.008,0.052, 0.008,0.010,0.112, 0.008,0.006,0.006\n",
      "0.008,0.004,0.107, 0.003,0.009,0.054, 0.009,0.011,0.117, 0.009,0.006,0.006\n",
      "1.013,0.094,0.080, 1.036,0.095,0.075, 1.076,0.109,0.089, 1.029,0.103,0.080\n",
      "0.135,1.170,0.123, 0.126,1.065,0.106, 0.108,1.028,0.105, 0.110,1.027,0.101\n",
      "0.719,0.874,4.457, 0.693,0.825,4.301, 0.683,0.825,4.469, 0.649,0.795,4.374\n",
      "0.663,0.805,4.109, 0.510,0.607,3.166, 0.633,0.765,4.144, 0.469,0.575,3.161\n",
      "0.000,0.000,0.000, 0.000,0.000,0.000, 0.110,0.214,0.048, 0.121,0.211,0.036\n",
      "0.198,0.242,0.018, 0.232,0.269,0.036, 0.000,0.000,0.000, 0.000,0.000,0.000\n",
      "0.294,0.357,1.821, 0.242,0.288,1.501, 0.275,0.332,1.799, 0.232,0.285,1.565\n",
      "1.847,1.879,1.989, 1.891,1.906,1.919, 1.840,1.830,2.014, 1.876,1.884,1.880\n",
      "0.430,0.430,0.560, 0.459,0.443,0.458, 0.422,0.429,0.575, 0.432,0.453,0.504\n",
      "0.407,0.415,0.452, 0.411,0.416,0.414, 0.407,0.409,0.450, 0.409,0.413,0.415\n"
     ]
    }
   ],
   "source": [
    "er.io_printErrorForExcelFormat(total)"
   ]
  },
  {
   "cell_type": "code",
   "execution_count": null,
   "metadata": {},
   "outputs": [],
   "source": [
    "\n"
   ]
  },
  {
   "cell_type": "code",
   "execution_count": null,
   "metadata": {},
   "outputs": [],
   "source": []
  }
 ],
 "metadata": {
  "kernelspec": {
   "display_name": "Python 3",
   "language": "python",
   "name": "python3"
  },
  "language_info": {
   "codemirror_mode": {
    "name": "ipython",
    "version": 3
   },
   "file_extension": ".py",
   "mimetype": "text/x-python",
   "name": "python",
   "nbconvert_exporter": "python",
   "pygments_lexer": "ipython3",
   "version": "3.6.4"
  }
 },
 "nbformat": 4,
 "nbformat_minor": 2
}
