{
 "cells": [
  {
   "cell_type": "code",
   "execution_count": 1,
   "metadata": {},
   "outputs": [],
   "source": [
    "from utility_bferror import *\n",
    "import datetime\n",
    "\n",
    "\n",
    "tb = BFSolver_Toolbox()\n",
    "er = BFSovler3D_Error()"
   ]
  },
  {
   "cell_type": "markdown",
   "metadata": {},
   "source": [
    "# 1. Try One Case"
   ]
  },
  {
   "cell_type": "code",
   "execution_count": 2,
   "metadata": {},
   "outputs": [
    {
     "name": "stdout",
     "output_type": "stream",
     "text": [
      "[0.10819576 0.11145481 0.10785098]\n"
     ]
    }
   ],
   "source": [
    "i = 0\n",
    "\n",
    "ndata,ndataVar = er.ndata[i],er.ndataVar[i]\n",
    "nmcbg,nmcbgVar = er.nmcbg[i],er.nmcbgVar[i]\n",
    "nfake,nfakeVar = er.nfake[i],er.nfakeVar[i]\n",
    "a,aVar = er.a[i],er.aVar[i]\n",
    "aVar[a<0.001] = np.zeros_like(a)[a<0.001]\n",
    "\n",
    "slv0 = BFSolver3D(a)\n",
    "br0 = slv0.solveQuadEqn(slv0.setMeasuredX(nData=ndata, nMcbg=nmcbg+nfake))\n",
    "print(br0)"
   ]
  },
  {
   "cell_type": "code",
   "execution_count": 4,
   "metadata": {},
   "outputs": [
    {
     "data": {
      "image/png": "[encoded data removed]",
      "text/plain": [
       "<matplotlib.figure.Figure at 0x1a17bed898>"
      ]
     },
     "metadata": {},
     "output_type": "display_data"
    }
   ],
   "source": [
    "trigger = 'mu'\n",
    "tb.imshow4Matrix(a,trigger)\n",
    "plt.savefig(\"../plots/acceptances/{}1b\".format(trigger))"
   ]
  },
  {
   "cell_type": "code",
   "execution_count": 5,
   "metadata": {
    "scrolled": false
   },
   "outputs": [],
   "source": [
    "# !!! important, do not delete !!!\n",
    "# bVector = np.array([ 0.1086,0.1086, 0.1086*0.1785,  0.1086*0.1736 , 0.1086*0.6479, 0.6741 ])\n",
    "# bMatrix = np.outer(bVector,bVector)\n",
    "# bMatrix = bMatrix * (2*np.ones_like(bMatrix)-np.identity(6))\n",
    "\n",
    "# av = common.matrixToArray(a[3])\n",
    "# bv = common.matrixToArray(bMatrix)\n",
    "\n",
    "# n = av * bv\n",
    "\n",
    "# percent = (n/np.sum(n))*100\n",
    "# for i in range(21):\n",
    "#     if percent[i]>1:\n",
    "#         print(percent[i])\n",
    "#     else:\n",
    "#         print('--')"
   ]
  },
  {
   "cell_type": "markdown",
   "metadata": {},
   "source": [
    "# 2. Calculate Statistical Error"
   ]
  },
  {
   "cell_type": "code",
   "execution_count": 2,
   "metadata": {},
   "outputs": [],
   "source": [
    "total = np.zeros([4,1,3])"
   ]
  },
  {
   "cell_type": "code",
   "execution_count": 3,
   "metadata": {},
   "outputs": [
    {
     "name": "stdout",
     "output_type": "stream",
     "text": [
      "0.546,0.517,1.235, 0.971,0.868,2.035, 0.704,0.552,1.471, 1.225,0.968,2.456\n",
      "0.062,0.138,0.277, 0.065,0.124,0.322, 0.170,0.074,0.320, 0.158,0.059,0.209\n",
      "0.165,0.150,0.406, 0.260,0.230,0.602, 0.207,0.172,0.495, 0.319,0.263,0.714\n"
     ]
    }
   ],
   "source": [
    "# statistics\n",
    "err = [ er.errStat(source) for source in [\"data\",\"mcbg\",\"mcsg\"] ]\n",
    "err = np.array(err).transpose(1,0,2)\n",
    "er.io_printErrorForExcelFormat(err)\n",
    "\n",
    "total = np.concatenate( (total,err),axis=1 )"
   ]
  },
  {
   "cell_type": "code",
   "execution_count": 4,
   "metadata": {},
   "outputs": [
    {
     "name": "stdout",
     "output_type": "stream",
     "text": [
      "0.007,0.050,0.077, 0.006,0.049,0.076, 0.009,0.050,0.076, 0.008,0.049,0.077\n",
      "0.033,0.010,0.060, 0.033,0.010,0.059, 0.029,0.007,0.061, 0.028,0.007,0.061\n"
     ]
    }
   ],
   "source": [
    "# PDG\n",
    "err = [ er.errConstent(source) for source in [\"BtmUp\",\"BteUp\"] ]\n",
    "err = np.array(err).transpose(1,0,2)\n",
    "er.io_printErrorForExcelFormat(err)\n",
    "\n",
    "total = np.concatenate( (total,err),axis=1 )"
   ]
  },
  {
   "cell_type": "code",
   "execution_count": 5,
   "metadata": {},
   "outputs": [
    {
     "name": "stdout",
     "output_type": "stream",
     "text": [
      "0.268,0.372,0.106, 0.086,0.068,0.024, 0.205,0.274,0.136, 0.044,0.093,0.084\n",
      "0.751,0.769,1.550, 0.499,0.490,0.856, 0.000,0.000,0.000, 0.000,0.000,0.000\n",
      "0.000,0.000,0.000, 0.000,0.000,0.000, 0.456,0.452,0.946, 0.242,0.237,0.425\n",
      "0.352,0.428,2.182, 0.184,0.219,1.144, 0.317,0.383,2.076, 0.144,0.177,0.971\n",
      "0.134,0.186,0.053, 0.043,0.034,0.012, 0.102,0.137,0.068, 0.022,0.046,0.042\n",
      "0.007,0.004,0.102, 0.003,0.008,0.052, 0.008,0.010,0.112, 0.008,0.006,0.006\n",
      "0.008,0.005,0.106, 0.003,0.009,0.054, 0.009,0.011,0.117, 0.009,0.006,0.006\n"
     ]
    }
   ],
   "source": [
    "# sysCrossSection\n",
    "err = [ er.errSystem_crossSection(source) for source in [\"mcbg\",\"fakemu\",\"fakee\",\"faketau\",\"lumin\",\"mctt\",\"mctw\"] ]\n",
    "err = np.array(err).transpose(1,0,2)\n",
    "er.io_printErrorForExcelFormat(err)\n",
    "\n",
    "total = np.concatenate( (total,err),axis=1 )"
   ]
  },
  {
   "cell_type": "code",
   "execution_count": 6,
   "metadata": {},
   "outputs": [
    {
     "name": "stdout",
     "output_type": "stream",
     "text": [
      "1.017,0.095,0.079, 1.038,0.095,0.076, 1.078,0.110,0.087, 1.028,0.103,0.082\n",
      "0.136,1.174,0.122, 0.126,1.066,0.107, 0.108,1.029,0.103, 0.110,1.027,0.102\n",
      "0.710,0.863,4.399, 0.700,0.833,4.343, 0.674,0.814,4.409, 0.658,0.805,4.429\n",
      "0.665,0.808,4.118, 0.509,0.606,3.157, 0.636,0.767,4.157, 0.468,0.573,3.151\n"
     ]
    }
   ],
   "source": [
    "# sysObjectEff\n",
    "err = [ er.errSystem_objectEff(source) for source in [\"e\",\"mu\",\"tauID\",'jetMisTauID'] ]\n",
    "err = np.array(err).transpose(1,0,2)\n",
    "er.io_printErrorForExcelFormat(err)\n",
    "\n",
    "total = np.concatenate( (total,err),axis=1 )"
   ]
  },
  {
   "cell_type": "code",
   "execution_count": 7,
   "metadata": {},
   "outputs": [
    {
     "name": "stdout",
     "output_type": "stream",
     "text": [
      "0.276,0.026,0.021, 0.354,0.032,0.026, 0.037,0.225,0.008, 0.091,0.268,0.019\n",
      "0.078,0.055,0.003, 0.091,0.083,0.015, 0.012,0.114,0.011, 0.012,0.117,0.012\n",
      "0.351,0.427,2.174, 0.292,0.347,1.808, 0.328,0.397,2.148, 0.281,0.343,1.889\n"
     ]
    }
   ],
   "source": [
    "# sysEnergyScale\n",
    "err = [ er.errSystem_energyScale(source) for source in [\"E\",\"Mu\",\"Tau\"] ]\n",
    "err[1] = err[1]\n",
    "err[2] = err[2]*1.2\n",
    "err = np.array(err).transpose(1,0,2)\n",
    "er.io_printErrorForExcelFormat(err)\n",
    "\n",
    "total = np.concatenate( (total,err),axis=1 )"
   ]
  },
  {
   "cell_type": "code",
   "execution_count": 8,
   "metadata": {},
   "outputs": [
    {
     "name": "stdout",
     "output_type": "stream",
     "text": [
      "1.743,1.261,3.910, 1.639,1.459,3.013, 1.314,1.658,4.135, 1.572,1.543,3.019\n",
      "0.135,0.045,0.410, 0.149,0.159,0.282, 0.117,0.168,0.398, 0.188,0.186,0.111\n",
      "0.075,0.660,0.403, 0.183,0.648,1.633, 0.488,0.015,0.300, 0.661,0.242,1.772\n",
      "0.127,0.163,0.078, 0.147,0.087,0.276, 0.091,0.093,0.212, 0.117,0.147,0.184\n"
     ]
    }
   ],
   "source": [
    "# sysJet\n",
    "err = [ er.errSystem_upDownVariation(source) for source in [\"JES\",\"JER\",\"BTag\",\"Mistag\"] ]\n",
    "err = np.array(err).transpose(1,0,2)\n",
    "er.io_printErrorForExcelFormat(err)\n",
    "\n",
    "total = np.concatenate( (total,err),axis=1 )"
   ]
  },
  {
   "cell_type": "code",
   "execution_count": 9,
   "metadata": {},
   "outputs": [
    {
     "name": "stdout",
     "output_type": "stream",
     "text": [
      "1.376,1.317,4.477, 1.584,1.552,3.394, 1.380,1.285,4.611, 1.574,1.526,3.508\n",
      "0.332,0.313,1.071, 0.409,0.385,0.679, 0.336,0.327,1.061, 0.374,0.385,0.814\n",
      "0.299,0.286,1.025, 0.342,0.336,0.747, 0.303,0.285,1.040, 0.343,0.334,0.772\n"
     ]
    }
   ],
   "source": [
    "# sysLHE\n",
    "err = [ er.errSystem_upDownVariation(source) for source in [\"Renorm\",\"Factor\",\"PDF\"] ]\n",
    "# err[0] = err[0]/(0.75/0.1)\n",
    "# err[1] = err[1]/(0.75/0.1)\n",
    "err = np.array(err).transpose(1,0,2)\n",
    "er.io_printErrorForExcelFormat(err)\n",
    "\n",
    "#total = np.concatenate( (total,err),axis=1 )"
   ]
  },
  {
   "cell_type": "code",
   "execution_count": 18,
   "metadata": {},
   "outputs": [],
   "source": [
    "# # errSystem_ttTheory\n",
    "# err = [ er.errSystem_upDownVariation(source) for source in [ \"ISR\",\"FSR\",\"UE\",\"MEPS\"] ]\n",
    "# # err[0] = err[0]/(0.1108*0.75/0.0011)\n",
    "# # err[1] = err[1]/(0.1108*0.75/0.0011)\n",
    "# err = np.array(err).transpose(1,0,2)\n",
    "# er.io_printErrorForExcelFormat(err)\n",
    "\n",
    "# #total = np.concatenate( (total,err),axis=1 )"
   ]
  },
  {
   "cell_type": "code",
   "execution_count": 11,
   "metadata": {},
   "outputs": [
    {
     "name": "stdout",
     "output_type": "stream",
     "text": [
      "0.000,0.000,0.000, 0.000,0.000,0.000, 0.000,0.000,0.000, 0.000,0.000,0.000\n",
      "0.546,0.517,1.235, 0.971,0.868,2.035, 0.704,0.552,1.471, 1.225,0.968,2.456\n",
      "0.062,0.138,0.277, 0.065,0.124,0.322, 0.170,0.074,0.320, 0.158,0.059,0.209\n",
      "0.165,0.150,0.406, 0.260,0.230,0.602, 0.207,0.172,0.495, 0.319,0.263,0.714\n",
      "0.007,0.050,0.077, 0.006,0.049,0.076, 0.009,0.050,0.076, 0.008,0.049,0.077\n",
      "0.033,0.010,0.060, 0.033,0.010,0.059, 0.029,0.007,0.061, 0.028,0.007,0.061\n",
      "0.268,0.372,0.106, 0.086,0.068,0.024, 0.205,0.274,0.136, 0.044,0.093,0.084\n",
      "0.751,0.769,1.550, 0.499,0.490,0.856, 0.000,0.000,0.000, 0.000,0.000,0.000\n",
      "0.000,0.000,0.000, 0.000,0.000,0.000, 0.456,0.452,0.946, 0.242,0.237,0.425\n",
      "0.352,0.428,2.182, 0.184,0.219,1.144, 0.317,0.383,2.076, 0.144,0.177,0.971\n",
      "0.134,0.186,0.053, 0.043,0.034,0.012, 0.102,0.137,0.068, 0.022,0.046,0.042\n",
      "0.007,0.004,0.102, 0.003,0.008,0.052, 0.008,0.010,0.112, 0.008,0.006,0.006\n",
      "0.008,0.005,0.106, 0.003,0.009,0.054, 0.009,0.011,0.117, 0.009,0.006,0.006\n",
      "1.017,0.095,0.079, 1.038,0.095,0.076, 1.078,0.110,0.087, 1.028,0.103,0.082\n",
      "0.136,1.174,0.122, 0.126,1.066,0.107, 0.108,1.029,0.103, 0.110,1.027,0.102\n",
      "0.710,0.863,4.399, 0.700,0.833,4.343, 0.674,0.814,4.409, 0.658,0.805,4.429\n",
      "0.665,0.808,4.118, 0.509,0.606,3.157, 0.636,0.767,4.157, 0.468,0.573,3.151\n",
      "0.276,0.026,0.021, 0.354,0.032,0.026, 0.037,0.225,0.008, 0.091,0.268,0.019\n",
      "0.078,0.055,0.003, 0.091,0.083,0.015, 0.012,0.114,0.011, 0.012,0.117,0.012\n",
      "0.351,0.427,2.174, 0.292,0.347,1.808, 0.328,0.397,2.148, 0.281,0.343,1.889\n",
      "1.743,1.261,3.910, 1.639,1.459,3.013, 1.314,1.658,4.135, 1.572,1.543,3.019\n",
      "0.135,0.045,0.410, 0.149,0.159,0.282, 0.117,0.168,0.398, 0.188,0.186,0.111\n",
      "0.075,0.660,0.403, 0.183,0.648,1.633, 0.488,0.015,0.300, 0.661,0.242,1.772\n",
      "0.127,0.163,0.078, 0.147,0.087,0.276, 0.091,0.093,0.212, 0.117,0.147,0.184\n",
      "1.376,1.317,4.477, 1.584,1.552,3.394, 1.380,1.285,4.611, 1.574,1.526,3.508\n",
      "0.332,0.313,1.071, 0.409,0.385,0.679, 0.336,0.327,1.061, 0.374,0.385,0.814\n",
      "0.299,0.286,1.025, 0.342,0.336,0.747, 0.303,0.285,1.040, 0.343,0.334,0.772\n"
     ]
    }
   ],
   "source": [
    "er.io_printErrorForExcelFormat(total)"
   ]
  },
  {
   "cell_type": "code",
   "execution_count": null,
   "metadata": {},
   "outputs": [],
   "source": [
    "\n"
   ]
  },
  {
   "cell_type": "code",
   "execution_count": null,
   "metadata": {},
   "outputs": [],
   "source": []
  }
 ],
 "metadata": {
  "kernelspec": {
   "display_name": "Python 3",
   "language": "python",
   "name": "python3"
  },
  "language_info": {
   "codemirror_mode": {
    "name": "ipython",
    "version": 3
   },
   "file_extension": ".py",
   "mimetype": "text/x-python",
   "name": "python",
   "nbconvert_exporter": "python",
   "pygments_lexer": "ipython3",
   "version": "3.6.4"
  }
 },
 "nbformat": 4,
 "nbformat_minor": 2
}
