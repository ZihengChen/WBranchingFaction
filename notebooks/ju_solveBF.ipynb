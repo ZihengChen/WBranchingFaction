{
 "cells": [
  {
   "cell_type": "code",
   "execution_count": 1,
   "metadata": {},
   "outputs": [],
   "source": [
    "from utility_bfsolver import *"
   ]
  },
  {
   "cell_type": "code",
   "execution_count": 2,
   "metadata": {},
   "outputs": [],
   "source": [
    "counts = pd.read_pickle(\"/Users/zihengchen/Documents/Analysis/workplace/data/count/count_.pkl\")"
   ]
  },
  {
   "cell_type": "code",
   "execution_count": 3,
   "metadata": {},
   "outputs": [
    {
     "data": {
      "text/plain": [
       "array([[0.10906   , 0.11190817, 0.11046231],\n",
       "       [0.11311639, 0.11377278, 0.10780647],\n",
       "       [0.10557132, 0.10544763, 0.10428385],\n",
       "       [0.10835108, 0.10847748, 0.10495039]])"
      ]
     },
     "execution_count": 3,
     "metadata": {},
     "output_type": "execute_result"
    }
   ],
   "source": [
    "slt = []\n",
    "for i in range(4):\n",
    "    slv = BFSolver3D(counts.acc[i])\n",
    "    obsX = slv.setMeasuredX(counts.ndata[i],counts.nmcbg[i]+counts.nfake[i])\n",
    "    slt.append(slv.solveQuadEqn(obsX))\n",
    "slt = np.array(slt)\n",
    "slt"
   ]
  },
  {
   "cell_type": "code",
   "execution_count": 43,
   "metadata": {},
   "outputs": [],
   "source": [
    "errm = []\n",
    "erre = []\n",
    "for i in range(4):\n",
    "    slv = BFSolver1D(counts.acc[i])\n",
    "    slve = BFSolver1D(counts.acc[i],bWe=0.1071-0.0016, bWm=0.1063)\n",
    "    slvm = BFSolver1D(counts.acc[i],bWe=0.1071, bWm=0.1063-0.0015)\n",
    "    obsX = slv.setMeasuredX(counts.ndata[i],counts.nmcbg[i]+counts.nfake[i])\n",
    "    \n",
    "    errm.append(slvm.solveQuadEqn(obsX) - slv.solveQuadEqn(obsX))\n",
    "    erre.append(slve.solveQuadEqn(obsX) - slv.solveQuadEqn(obsX))\n",
    "errm = np.array(errm).reshape(-1)[np.array([1,2,4,5,6,8,9,11])]/0.1086 * 100\n",
    "erre = np.array(erre).reshape(-1)[np.array([1,2,4,5,6,8,9,11])]/0.1086 * 100\n"
   ]
  },
  {
   "cell_type": "code",
   "execution_count": 58,
   "metadata": {},
   "outputs": [],
   "source": [
    "err = []\n",
    "effUp = np.array([0,0,0.05,0]) + 1\n",
    "for i in range(4):\n",
    "    slv = BFSolver1D(counts.acc[i])\n",
    "    slv1 = BFSolver1D(counts.acc[i] * effUp[:,None,None])\n",
    "    \n",
    "    BW = slv .solveQuadEqn(slv .setMeasuredX(counts.ndata[i],counts.nmcbg[i]+counts.nfake[i]))\n",
    "    BW1= slv1.solveQuadEqn(slv1.setMeasuredX(counts.ndata[i],counts.nmcbg[i]* effUp+counts.nfake[i]))\n",
    "\n",
    "\n",
    "    \n",
    "    err.append(BW1-BW)\n",
    "err = np.array(err).reshape(-1)[np.array([1,2,4,5,6,8,9,11])]/0.1086 * 100"
   ]
  },
  {
   "cell_type": "code",
   "execution_count": 60,
   "metadata": {},
   "outputs": [
    {
     "name": "stdout",
     "output_type": "stream",
     "text": [
      "[0.4196690492852734, 0.1044862536329217, 0.4002783550551415, 0.0869299614802864, 7.7861199516056185, 0.0913757511240937, 7.482788365788479, 0.0732900164289858]\n"
     ]
    }
   ],
   "source": [
    "print(list(abs(err)))"
   ]
  },
  {
   "cell_type": "code",
   "execution_count": null,
   "metadata": {},
   "outputs": [],
   "source": []
  }
 ],
 "metadata": {
  "kernelspec": {
   "display_name": "Python 3",
   "language": "python",
   "name": "python3"
  },
  "language_info": {
   "codemirror_mode": {
    "name": "ipython",
    "version": 3
   },
   "file_extension": ".py",
   "mimetype": "text/x-python",
   "name": "python",
   "nbconvert_exporter": "python",
   "pygments_lexer": "ipython3",
   "version": "3.6.4"
  }
 },
 "nbformat": 4,
 "nbformat_minor": 2
}
