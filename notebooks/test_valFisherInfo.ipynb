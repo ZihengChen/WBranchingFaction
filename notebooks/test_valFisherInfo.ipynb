{
 "cells": [
  {
   "cell_type": "code",
   "execution_count": 1,
   "metadata": {},
   "outputs": [],
   "source": [
    "from pylab import *\n",
    "from scipy.optimize import minimize\n",
    "import numdifftools as nd"
   ]
  },
  {
   "cell_type": "code",
   "execution_count": 2,
   "metadata": {},
   "outputs": [
    {
     "name": "stdout",
     "output_type": "stream",
     "text": [
      "[0.0015768 0.0016524 0.0048492]\n"
     ]
    }
   ],
   "source": [
    "col = np.array([[1,0.64,-0.22],\n",
    "                [0.64,1,-0.30],\n",
    "                [-0.22,-0.30,1]])\n",
    "mean = np.array([0.1080,0.1080,0.1080])\n",
    "var = np.array([1.46,1.53,4.49])*0.1080/100\n",
    "print(var)\n",
    "var = np.outer(var,var)*col\n",
    "\n",
    "invVar = np.linalg.pinv(var)"
   ]
  },
  {
   "cell_type": "code",
   "execution_count": 3,
   "metadata": {},
   "outputs": [],
   "source": [
    "    def chisquared_beta(param):\n",
    "        \n",
    "        # three paramters\n",
    "        # beta_e, beta_m, beta_tau\n",
    "        delta = param-mean\n",
    "        chiquared = delta.dot( invVar.dot(delta) )/2\n",
    "        return chiquared"
   ]
  },
  {
   "cell_type": "code",
   "execution_count": 4,
   "metadata": {},
   "outputs": [],
   "source": [
    "result = minimize(\n",
    "    fun = chisquared_beta, \n",
    "    x0  = np.array([0.1080,0.1080,0.1080]),\n",
    "    method = 'SLSQP',\n",
    "    bounds = [(0,1),(0,1),(0,1)]\n",
    "    )\n",
    "\n",
    "paramLS = result.x"
   ]
  },
  {
   "cell_type": "code",
   "execution_count": 5,
   "metadata": {},
   "outputs": [],
   "source": [
    "hcalc = nd.Hessian(chisquared_beta, step=1e-6, method='central')\n",
    "hess  = hcalc( paramLS )"
   ]
  },
  {
   "cell_type": "code",
   "execution_count": 6,
   "metadata": {},
   "outputs": [],
   "source": [
    "hessinv = np.linalg.pinv(hess)\n",
    "sigma = np.sqrt(hessinv.diagonal())\n",
    "corvar  = hessinv/np.outer(sigma, sigma)"
   ]
  },
  {
   "cell_type": "code",
   "execution_count": 7,
   "metadata": {},
   "outputs": [
    {
     "data": {
      "text/plain": [
       "array([0.0015768, 0.0016524, 0.0048492])"
      ]
     },
     "execution_count": 7,
     "metadata": {},
     "output_type": "execute_result"
    }
   ],
   "source": [
    "sigma#*sqrt(2)"
   ]
  },
  {
   "cell_type": "code",
   "execution_count": 10,
   "metadata": {},
   "outputs": [
    {
     "data": {
      "text/plain": [
       "0.550253504324485"
      ]
     },
     "execution_count": 10,
     "metadata": {},
     "output_type": "execute_result"
    }
   ],
   "source": [
    "chisquared_beta(mean+np.array([0,0,0.0048492]))"
   ]
  },
  {
   "cell_type": "code",
   "execution_count": null,
   "metadata": {},
   "outputs": [],
   "source": []
  }
 ],
 "metadata": {
  "kernelspec": {
   "display_name": "Python 3",
   "language": "python",
   "name": "python3"
  },
  "language_info": {
   "codemirror_mode": {
    "name": "ipython",
    "version": 3
   },
   "file_extension": ".py",
   "mimetype": "text/x-python",
   "name": "python",
   "nbconvert_exporter": "python",
   "pygments_lexer": "ipython3",
   "version": "3.6.4"
  }
 },
 "nbformat": 4,
 "nbformat_minor": 2
}
