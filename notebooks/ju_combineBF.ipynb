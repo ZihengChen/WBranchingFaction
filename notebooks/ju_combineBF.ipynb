{
 "cells": [
  {
   "cell_type": "code",
   "execution_count": 1,
   "metadata": {
    "collapsed": true
   },
   "outputs": [],
   "source": [
    "#from utility_bfvariater import *\n",
    "from utility_bfcombiner import *\n",
    "from utility_common import *\n",
    "from utility_commonPlot import *\n",
    "%matplotlib inline"
   ]
  },
  {
   "cell_type": "code",
   "execution_count": 2,
   "metadata": {
    "collapsed": true
   },
   "outputs": [],
   "source": [
    "beta0 = np.load('../data/combine/contralValue.npy')\n",
    "stat_covar = np.load('../data/combine/stat_covar.npy')\n",
    "syst_covar = np.load('../data/combine/syst_covar.npy')\n",
    "\n",
    "covarTotal = np.sum(stat_covar,axis=0) + np.sum(syst_covar,axis=0)\n",
    "#covarTotal = stat_covar[0]"
   ]
  },
  {
   "cell_type": "markdown",
   "metadata": {},
   "source": [
    "# 1. Numerical Combine"
   ]
  },
  {
   "cell_type": "code",
   "execution_count": 6,
   "metadata": {},
   "outputs": [
    {
     "name": "stdout",
     "output_type": "stream",
     "text": [
      "11.0292 +/- 0.2575, rel error 2.3842\n",
      "11.0157 +/- 0.1975, rel error 1.8287\n",
      "10.3120 +/- 0.6755, rel error 6.2544\n"
     ]
    },
    {
     "data": {
      "image/png": "[encoded data removed]",
      "text/plain": [
       "<matplotlib.figure.Figure at 0x123bbed30>"
      ]
     },
     "metadata": {},
     "output_type": "display_data"
    }
   ],
   "source": [
    "# numerical Combiner\n",
    "combiner = BFCombiner(covarTotal, beta0)\n",
    "sigma, corr = combiner.paramSigma()\n",
    "\n",
    "# print result\n",
    "for i in range(3):\n",
    "    c, s = combiner.paramLS[i], sigma[i]\n",
    "    print('{:6.4f} +/- {:6.4f}, rel error {:6.4f}'.format(c*100,s*100, 100*s/0.108))\n",
    "    \n",
    "showParameterCov(corr)\n",
    "plt.savefig('../plots/combine/covarMatrix_beta.png',dpi=300)"
   ]
  },
  {
   "cell_type": "code",
   "execution_count": 4,
   "metadata": {},
   "outputs": [
    {
     "name": "stdout",
     "output_type": "stream",
     "text": [
      "2.371004025724124\n",
      "1.8127068847444696\n",
      "6.320004817244999\n"
     ]
    }
   ],
   "source": [
    "print( (2.3997**2-0.37**2)**0.5 )\n",
    "print( (1.8425**2-0.33**2)**0.5 )\n",
    "print( (6.3717**2-0.81**2)**0.5 )"
   ]
  },
  {
   "cell_type": "markdown",
   "metadata": {},
   "source": [
    "# 2. Analytical Combine"
   ]
  },
  {
   "cell_type": "code",
   "execution_count": 5,
   "metadata": {},
   "outputs": [
    {
     "name": "stdout",
     "output_type": "stream",
     "text": [
      "11.0292 +/- 0.2575\n",
      "11.0157 +/- 0.1975\n",
      "10.3120 +/- 0.6755\n"
     ]
    },
    {
     "data": {
      "image/png": "[encoded data removed]",
      "text/plain": [
       "<matplotlib.figure.Figure at 0x123bd0eb8>"
      ]
     },
     "metadata": {},
     "output_type": "display_data"
    }
   ],
   "source": [
    "# Analytical Combiner\n",
    "invCovarTotal = np.linalg.pinv( covarTotal )\n",
    "i3 = np.identity(3)\n",
    "Amatrix = np.r_[i3,i3,i3,i3]\n",
    "hess = np.matmul(Amatrix.T, np.matmul(invCovarTotal,Amatrix))\n",
    "hessinv = np.linalg.pinv( hess )\n",
    "factor2 = np.matmul(Amatrix.T, invCovarTotal)\n",
    "Bmatrix = np.matmul(hessinv,factor2)\n",
    "mean  = np.matmul(Bmatrix,beta0)\n",
    "sigma = hessinv.diagonal()**0.5\n",
    "corr  = hessinv/np.outer(sigma, sigma)\n",
    "# print result\n",
    "for i in range(3):\n",
    "    print('{:6.4f} +/- {:6.4f}'.format(mean[i]*100,sigma[i]*100) )\n",
    "showParameterCov(corr)"
   ]
  },
  {
   "cell_type": "markdown",
   "metadata": {},
   "source": [
    "# [BACKUP] Parametrize By r"
   ]
  },
  {
   "cell_type": "code",
   "execution_count": 5,
   "metadata": {
    "collapsed": true
   },
   "outputs": [],
   "source": [
    "combiner = BFCombiner(covarTotal, beta0, paramTypy='r')\n",
    "sigma, corr = combiner.paramSigma()\n",
    "rVar = np.outer(sigma,sigma)*corr\n",
    "rVar = rVar[0:2,0:2]\n",
    "invVar = np.linalg.pinv(rVar)\n",
    "\n",
    "r1_mean, r2_mean = 1,1 # combiner.paramLS[0], combiner.paramLS[1]"
   ]
  },
  {
   "cell_type": "code",
   "execution_count": 6,
   "metadata": {
    "collapsed": true
   },
   "outputs": [],
   "source": [
    "x = np.linspace(0.9, 1.1, 100)\n",
    "y = np.linspace(0.9, 1.1, 100)\n",
    "X, Y = np.meshgrid(x, y)\n",
    "\n",
    "\n",
    "nll  = invVar[0,0]*(X-r1_mean)**2 \n",
    "nll += invVar[1,1]*(Y-r2_mean)**2\n",
    "nll += invVar[0,1]*(Y-r2_mean)*(X-r1_mean)*2\n",
    "nll *= 2\n",
    "\n",
    "\n",
    "plt.figure(figsize=(5,5),facecolor='w')\n",
    "\n",
    "\n",
    "plt.contourf(X, Y, nll, levels=[0,1,2,3],vmax=3,vmin=-1)\n",
    "plt.scatter(r1_mean, r2_mean, c='w')\n",
    "plt.xticks([0.95,1,1.05])\n",
    "plt.yticks([0.95,1,1.05])\n",
    "\n",
    "\n",
    "plt.scatter(1, 1, c='k',marker='s',s=100)\n",
    "plt.grid(True,alpha=0.5,linestyle='--')\n",
    "\n",
    "plt.xlabel(r'$\\beta_\\tau / \\beta_e$',fontsize=14,position=(1,1),labelpad=-10)\n",
    "plt.ylabel(r'$\\beta_\\tau / \\beta_\\mu$',fontsize=14,position=(1,1),labelpad=-10)\n",
    "\n",
    "plt.savefig('../plots/combine/sigma.png',dpi=300)"
   ]
  },
  {
   "cell_type": "markdown",
   "metadata": {},
   "source": [
    "# [BACKUP]  Visualize Var Matrix"
   ]
  },
  {
   "cell_type": "code",
   "execution_count": 7,
   "metadata": {},
   "outputs": [
    {
     "ename": "NameError",
     "evalue": "name 'covar' is not defined",
     "output_type": "error",
     "traceback": [
      "\u001b[0;31m---------------------------------------------------------------------------\u001b[0m",
      "\u001b[0;31mNameError\u001b[0m                                 Traceback (most recent call last)",
      "\u001b[0;32m<ipython-input-7-418c16a2cba4>\u001b[0m in \u001b[0;36m<module>\u001b[0;34m()\u001b[0m\n\u001b[1;32m      1\u001b[0m \u001b[0mplt\u001b[0m\u001b[0;34m.\u001b[0m\u001b[0mfigure\u001b[0m\u001b[0;34m(\u001b[0m\u001b[0mfigsize\u001b[0m\u001b[0;34m=\u001b[0m\u001b[0;34m(\u001b[0m\u001b[0;36m14\u001b[0m\u001b[0;34m,\u001b[0m\u001b[0;36m10\u001b[0m\u001b[0;34m)\u001b[0m\u001b[0;34m,\u001b[0m\u001b[0mfacecolor\u001b[0m\u001b[0;34m=\u001b[0m\u001b[0;34m'w'\u001b[0m\u001b[0;34m)\u001b[0m\u001b[0;34m\u001b[0m\u001b[0m\n\u001b[0;32m----> 2\u001b[0;31m \u001b[0mshowCovar\u001b[0m\u001b[0;34m(\u001b[0m\u001b[0mcovar\u001b[0m\u001b[0;34m,\u001b[0m\u001b[0msameCNorm\u001b[0m\u001b[0;34m=\u001b[0m\u001b[0;32mFalse\u001b[0m\u001b[0;34m)\u001b[0m\u001b[0;34m\u001b[0m\u001b[0m\n\u001b[0m\u001b[1;32m      3\u001b[0m \u001b[0mplt\u001b[0m\u001b[0;34m.\u001b[0m\u001b[0msavefig\u001b[0m\u001b[0;34m(\u001b[0m\u001b[0;34m'../plots/combine/covarMatrix.png'\u001b[0m\u001b[0;34m,\u001b[0m\u001b[0mdpi\u001b[0m\u001b[0;34m=\u001b[0m\u001b[0;36m300\u001b[0m\u001b[0;34m)\u001b[0m\u001b[0;34m\u001b[0m\u001b[0m\n",
      "\u001b[0;31mNameError\u001b[0m: name 'covar' is not defined"
     ]
    }
   ],
   "source": [
    "plt.figure(figsize=(14,10),facecolor='w')\n",
    "showCovar(covar,sameCNorm=False)\n",
    "plt.savefig('../plots/combine/covarMatrix.png',dpi=300)"
   ]
  },
  {
   "cell_type": "code",
   "execution_count": 12,
   "metadata": {},
   "outputs": [
    {
     "data": {
      "image/png": "[encoded data removed]",
      "text/plain": [
       "<matplotlib.figure.Figure at 0x1a1e119c18>"
      ]
     },
     "metadata": {},
     "output_type": "display_data"
    }
   ],
   "source": [
    "plt.figure(figsize=(10,4),facecolor='w')\n",
    "\n",
    "plt.subplot(1,2,1)\n",
    "mtx = covar[0] #* 10000\n",
    "showSingleCovar(mtx, norm= 1.5e-6, titleName=r'$V_{stat}$')\n",
    "cbar = plt.colorbar( ticks=[-1e-6, 0, 1e-6],shrink=0.9)\n",
    "#cbar.ax.set_title(r'$V_{\\beta_i\\beta_j}$')\n",
    "cbar.ax.set_yticklabels(['-1E-6', '0', '1E-6'])\n",
    "\n",
    "plt.subplot(1,2,2)\n",
    "\n",
    "mtx = np.sum(covar[1:],axis=0) #* 10000\n",
    "showSingleCovar(mtx, norm= 16e-6, titleName=r'$V_{syst}$')\n",
    "cbar = plt.colorbar( ticks=[-10e-6, 0, 10e-6],shrink=0.9)\n",
    "#cbar.ax.set_title(r'$V_{\\beta_i\\beta_j}$')\n",
    "cbar.ax.set_yticklabels(['-1E-5', '0', '1E-5'])\n",
    "\n",
    "\n",
    "plt.savefig('../plots/combine/covarMatrix_total.png',dpi=300)"
   ]
  },
  {
   "cell_type": "code",
   "execution_count": null,
   "metadata": {
    "collapsed": true
   },
   "outputs": [],
   "source": [
    "0.281,0.389,1.438, 0.430,0.184,0.976, 0.155,0.058,1.114, 0.451,0.130,1.106"
   ]
  }
 ],
 "metadata": {
  "kernelspec": {
   "display_name": "Python 3",
   "language": "python",
   "name": "python3"
  },
  "language_info": {
   "codemirror_mode": {
    "name": "ipython",
    "version": 3
   },
   "file_extension": ".py",
   "mimetype": "text/x-python",
   "name": "python",
   "nbconvert_exporter": "python",
   "pygments_lexer": "ipython3",
   "version": "3.6.1"
  }
 },
 "nbformat": 4,
 "nbformat_minor": 2
}
