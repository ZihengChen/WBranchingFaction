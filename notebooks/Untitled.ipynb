{
 "cells": [
  {
   "cell_type": "code",
   "execution_count": 1,
   "metadata": {},
   "outputs": [
    {
     "name": "stdout",
     "output_type": "stream",
     "text": [
      "Welcome to JupyROOT 6.16/00\n"
     ]
    }
   ],
   "source": [
    "import pandas as pd\n",
    "import numpy as np\n",
    "import glob\n",
    "from pylab import *\n",
    "import ROOT as root\n",
    "from matplotlib import pyplot as plt"
   ]
  },
  {
   "cell_type": "code",
   "execution_count": 2,
   "metadata": {},
   "outputs": [
    {
     "name": "stdout",
     "output_type": "stream",
     "text": [
      "period B: blt_e=56.501676, blt_mu=77.830155\n",
      "period C: blt_e=129.192512, blt_mu=153.695675\n",
      "period D: blt_e=48.851074, blt_mu=64.737958\n",
      "period E: blt_e=96.592214, blt_mu=141.057782\n",
      "period F: blt_e=121.43174, blt_mu=221.973389\n"
     ]
    }
   ],
   "source": [
    "n_blt_2018e_list,n_blt_2018mu_list, n_nano_list = [], [], []\n",
    "for period in \"ABCD\":\n",
    "    tfile = root.TFile('../data/root/Run2018_20200414.root')\n",
    "    n_blt_2018e = tfile.Get(\"TotalEvents_electron_2018\"+period).GetBinContent(1)\n",
    "    n_blt_2018mu = tfile.Get(\"TotalEvents_muon_2018\"+period).GetBinContent(1)\n",
    "\n",
    "#     files = glob.glob(\"/home/zchen/cms/data/EGamma_Run2018{}/*root\".format(period))\n",
    "#     n_nano = 0\n",
    "#     for f in files:\n",
    "#         tfile = root.TFile(f)\n",
    "#         n_nano += tfile.Get(\"Events\").GetEntriesFast()\n",
    "\n",
    "#     print(\"period {}: nano={}, blt_e={}, blt_mu={}\".format(period, n_nano, n_blt_2018e, n_blt_2018mu))\n",
    "#     n_nano_list.append(n_nano)\n",
    "    n_blt_2018e_list.append(n_blt_2018e)\n",
    "    n_blt_2018mu_list.append(n_blt_2018mu)\n",
    "    \n",
    "    \n",
    "    \n",
    "n_blt_2017e_list,n_blt_2017mu_list = [], []\n",
    "for period in \"BCDEF\":\n",
    "    tfile = root.TFile('../data/root/Run2017_20200410.root')\n",
    "    n_blt_2017e = tfile.Get(\"TotalEvents_electron_2017\"+period).GetBinContent(1)\n",
    "    n_blt_2017mu = tfile.Get(\"TotalEvents_muon_2017\"+period).GetBinContent(1)\n",
    "\n",
    "    print(\"period {}: blt_e={}, blt_mu={}\".format(period, n_blt_2017e/1e6, n_blt_2017mu/1e6))\n",
    "    n_blt_2017e_list.append(n_blt_2017e)\n",
    "    n_blt_2017mu_list.append(n_blt_2017mu)"
   ]
  },
  {
   "cell_type": "code",
   "execution_count": 50,
   "metadata": {},
   "outputs": [],
   "source": [
    "import pandas as pd\n",
    "df2018 = pd.DataFrame()\n",
    "df2018[\"L\"] = [13.978,7.064,6.899,31.748]\n",
    "df2018[\"e_nano\"] = [327843843,153822427,169173200, 751348648]\n",
    "df2018[\"e_nano_ee\"] = [5988296,3137281,3332133, 13370060]\n",
    "df2018[\"e_bacon\"] = n_blt_2018e_list\n",
    "df2018[\"e_bacon_ee\"] = [230835, 26950, 181005,1785905]\n",
    "df2018[\"mu_bacon\"] = n_blt_2018mu_list\n",
    "df2018[\"mu_bacon_mumu\"] = [2318485,1154393,1114749,5019683]"
   ]
  },
  {
   "cell_type": "code",
   "execution_count": 5,
   "metadata": {},
   "outputs": [],
   "source": [
    "df2017 = pd.DataFrame()\n",
    "df2017[\"L\"] = [4.823,9.664,4.252,9.278,13.540]\n",
    "df2017[\"e_bacon\"] = n_blt_2017e_list\n",
    "df2017[\"e_bacon_ee\"] = [295020,702735,307175,459580,368720]\n",
    "df2017[\"mu_bacon\"] = n_blt_2017mu_list\n",
    "df2017[\"mu_bacon_mumu\"] = [777881,1580301,723927,1329558,1839630]"
   ]
  },
  {
   "cell_type": "code",
   "execution_count": 52,
   "metadata": {},
   "outputs": [
    {
     "data": {
      "image/png": "[encoded data removed]",
      "text/plain": [
       "<Figure size 432x288 with 1 Axes>"
      ]
     },
     "metadata": {
      "needs_background": "light"
     },
     "output_type": "display_data"
    }
   ],
   "source": [
    "\n",
    "df, periods = df2018, [\"2018\"+pp for pp in \"ABCD\"]\n",
    "channel, selection = \"e_nano\", \"ee\"\n",
    "title = \"2018 Single Electron Data (L=59.688/fb)\"\n",
    "figname = \"2018_electron_eventRate_nano\"\n",
    "\n",
    "# channel, selection = \"e_bacon\", \"ee\"\n",
    "# title = \"2018 Single Electron Data (L=59.688/fb)\"\n",
    "# figname = \"2018_electron_eventRate\"\n",
    "\n",
    "# channel, selection = \"mu_bacon\", \"mumu\"\n",
    "# title = \"2018 Single Muon Data (L=59.688/fb)\"\n",
    "# figname = \"2018_muon_eventRate\"\n",
    "\n",
    "# df, periods = df2017,[\"2017\"+pp for pp in \"BCDEF\"]\n",
    "# channel, selection = \"mu_bacon\", \"mumu\"\n",
    "# title = \"2017 Muon Data (L=41.557/fb)\"\n",
    "# figname = \"2017_muon_eventRate\"\n",
    "\n",
    "# channel, selection = \"e_bacon\", \"ee\"\n",
    "# title = \"2017 Electron Data (L=41.557/fb)\"\n",
    "# figname = \"2017_electron_eventRate\"\n",
    "\n",
    "\n",
    "bins = np.r_[np.array([0]), np.cumsum(df.L)]\n",
    "c = (bins[1:]+bins[:-1])/2\n",
    "\n",
    "h1 = plt.hist(c, weights=df[channel].astype(float)/df.L, bins=bins, histtype=\"step\",linewidth=2,label=\"NanoAOD (raw)\")\n",
    "h2 = plt.hist(c, weights=df[channel+\"_\"+selection].astype(float)/df.L*20, bins=bins,linewidth=1,label=\"NanoAOD ({}) x20\".format(selection))\n",
    "h1,h2 = h1[0],h2[0]\n",
    "\n",
    "ynorm = np.max(h1)\n",
    "plt.ylim(0,1.5*ynorm)\n",
    "\n",
    "plt.xlabel(\"Integrated Luminosity [1/fb]\")\n",
    "plt.ylabel(\"Event Rate\")\n",
    "plt.legend(loc=\"upper right\")\n",
    "plt.grid(linestyle=\"--\",alpha=0.4,axis='y')\n",
    "plt.title(title,loc=\"right\")\n",
    "\n",
    "for cc,hh,pp in zip(c,h1,periods):\n",
    "    plt.text(cc,hh,pp, horizontalalignment='center', verticalalignment='bottom')\n",
    "for bb in bins:\n",
    "    plt.axvline(bb,linestyle=\":\",alpha=0.4,color='k')\n",
    "\n",
    "plt.savefig(\"../plots/{}.png\".format(figname),dpi=200)\n",
    "\n",
    "# plt.yscale(\"log\")"
   ]
  },
  {
   "cell_type": "code",
   "execution_count": 104,
   "metadata": {},
   "outputs": [
    {
     "data": {
      "text/plain": [
       "0    327843843\n",
       "1    153822427\n",
       "2    169173200\n",
       "3    751348648\n",
       "Name: e_nano, dtype: int64"
      ]
     },
     "execution_count": 104,
     "metadata": {},
     "output_type": "execute_result"
    }
   ],
   "source": [
    "df2018[\"e_nano\"]"
   ]
  },
  {
   "cell_type": "code",
   "execution_count": 33,
   "metadata": {},
   "outputs": [
    {
     "name": "stdout",
     "output_type": "stream",
     "text": [
      "1.0\n",
      "0.11243303447723038\n",
      "0.7964842729211943\n",
      "8.967862733912423\n"
     ]
    }
   ],
   "source": [
    "n_bacon_total = [82136296, 9234833, 65420268,736587028]\n",
    "for n in n_bacon_total:\n",
    "    print(n/n_bacon_total[0])"
   ]
  },
  {
   "cell_type": "code",
   "execution_count": null,
   "metadata": {},
   "outputs": [],
   "source": [
    "period A: nano=327843843, blt=56613048.0\n",
    "period B: nano=153822427, blt=6303050.0\n",
    "period C: nano=169173200, blt=44535125.0\n",
    "period D: nano=751348648, blt=451634173.0"
   ]
  }
 ],
 "metadata": {
  "kernelspec": {
   "display_name": "Python 3",
   "language": "python",
   "name": "python3"
  },
  "language_info": {
   "codemirror_mode": {
    "name": "ipython",
    "version": 3
   },
   "file_extension": ".py",
   "mimetype": "text/x-python",
   "name": "python",
   "nbconvert_exporter": "python",
   "pygments_lexer": "ipython3",
   "version": "3.7.6"
  }
 },
 "nbformat": 4,
 "nbformat_minor": 4
}
