{
 "cells": [
  {
   "cell_type": "code",
   "execution_count": 1,
   "metadata": {},
   "outputs": [],
   "source": [
    "import utility_common as common\n",
    "from utility_dfcutter import *\n",
    "from utility_bfsolver import Yield"
   ]
  },
  {
   "cell_type": "code",
   "execution_count": 3,
   "metadata": {},
   "outputs": [
    {
     "name": "stdout",
     "output_type": "stream",
     "text": [
      "/Users/zihengchen/Documents/Analysis/workplace/data/pickles/ee/mcdiboson/*.pkl\n"
     ]
    }
   ],
   "source": [
    "selection,nbjet = 'ee','==1'\n",
    "name = 'vv'\n",
    "\n",
    "\n",
    "\n",
    "    df = pd.concat([DFCutter(selection,nbjet,'tt').getDataFrame(),\n",
    "                    DFCutter(selection,nbjet,'t').getDataFrame()][\n",
    "    for i in range(1,22,1):\n",
    "        dfi = df[df.genCategory==i]\n",
    "        temp = np.sum( dfi.eventWeight )\n",
    "        \n",
    "    df = DFCutter(selection,nbjet,'mcw').getDataFrame()\n",
    "\n",
    "    df = DFCutter(selection,nbjet,'mcz').getDataFrame()\n",
    "\n",
    "    df = DFCutter(selection,nbjet,'mcdiboson').getDataFrame()\n",
    "    "
   ]
  },
  {
   "cell_type": "code",
   "execution_count": 18,
   "metadata": {},
   "outputs": [],
   "source": [
    "a = np.array( [np.sum(df.eventWeight)] )"
   ]
  },
  {
   "cell_type": "code",
   "execution_count": 24,
   "metadata": {},
   "outputs": [
    {
     "data": {
      "text/plain": [
       "array([[63.46333382, 63.46333382]])"
      ]
     },
     "execution_count": 24,
     "metadata": {},
     "output_type": "execute_result"
    }
   ],
   "source": [
    "np.c_[a,a]"
   ]
  },
  {
   "cell_type": "code",
   "execution_count": 17,
   "metadata": {},
   "outputs": [
    {
     "data": {
      "text/plain": [
       "array(63.46333382)"
      ]
     },
     "execution_count": 17,
     "metadata": {},
     "output_type": "execute_result"
    }
   ],
   "source": [
    "a"
   ]
  },
  {
   "cell_type": "code",
   "execution_count": null,
   "metadata": {},
   "outputs": [],
   "source": []
  }
 ],
 "metadata": {
  "kernelspec": {
   "display_name": "Python 3",
   "language": "python",
   "name": "python3"
  },
  "language_info": {
   "codemirror_mode": {
    "name": "ipython",
    "version": 3
   },
   "file_extension": ".py",
   "mimetype": "text/x-python",
   "name": "python",
   "nbconvert_exporter": "python",
   "pygments_lexer": "ipython3",
   "version": "3.6.4"
  }
 },
 "nbformat": 4,
 "nbformat_minor": 2
}
