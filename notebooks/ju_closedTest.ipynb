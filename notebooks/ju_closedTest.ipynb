{
 "cells": [
  {
   "cell_type": "code",
   "execution_count": 1,
   "metadata": {},
   "outputs": [],
   "source": [
    "from utility_dfcounter import *\n",
    "from utility_bfsolver import *\n",
    "from utility_dfcutter import *"
   ]
  },
  {
   "cell_type": "markdown",
   "metadata": {},
   "source": [
    "# 1. Count Signal MC"
   ]
  },
  {
   "cell_type": "code",
   "execution_count": 1,
   "metadata": {},
   "outputs": [],
   "source": [
    "# count\n",
    "trigger,btag = 'e','1b'\n",
    "ct = DFCounter(trigger,btag)\n",
    "\n",
    "n,nVar = ct.returnNMCsg()\n",
    "a,aVar = ct.returnAcc(enhanceStat=False)"
   ]
  },
  {
   "cell_type": "code",
   "execution_count": null,
   "metadata": {},
   "outputs": [],
   "source": [
    "slv = BFSolver3D(a,bte=0.1772832, btm=0.1731072)"
   ]
  },
  {
   "cell_type": "markdown",
   "metadata": {},
   "source": [
    "# 3. Error Prop"
   ]
  },
  {
   "cell_type": "code",
   "execution_count": 36,
   "metadata": {},
   "outputs": [
    {
     "name": "stdout",
     "output_type": "stream",
     "text": [
      "10.804+/-0.073\n",
      "10.797+/-0.059\n",
      "10.794+/-0.152\n"
     ]
    }
   ],
   "source": [
    "br = slv.solveQuadEqn(slv.setMeasuredX(nData=n, nMcbg=np.zeros(4)))\n",
    "\n",
    "\n",
    "nStd = n**0.5\n",
    "dbr = []\n",
    "for c in range(4):\n",
    "    ncopy = n.copy()\n",
    "    ncopy[c] += nStd[c]\n",
    "    br1 = slv.solveQuadEqn(slv.setMeasuredX(nData=ncopy, nMcbg=np.zeros(4)))\n",
    "    dbr.append(br-br1)\n",
    "\n",
    "dbr = np.array(dbr)\n",
    "dbr = np.sum(dbr**2,axis=0)**0.5\n",
    "\n",
    "for i in range(3):\n",
    "    print('{:5.3f}+/-{:5.3f}'.format(100*br[i],100*dbr[i]))\n"
   ]
  },
  {
   "cell_type": "markdown",
   "metadata": {},
   "source": [
    "# 2. Generate Toys"
   ]
  },
  {
   "cell_type": "code",
   "execution_count": 25,
   "metadata": {},
   "outputs": [],
   "source": [
    "\n",
    "brs = []\n",
    "for i in range(2000):\n",
    "    dn = np.random.normal(0,n**0.5)\n",
    "    br = slv.solveQuadEqn(slv.setMeasuredX(nData=n+dn, nMcbg=np.zeros(4)))\n",
    "    brs.append(br)\n",
    "brs = np.array(brs)"
   ]
  },
  {
   "cell_type": "markdown",
   "metadata": {},
   "source": [
    "# 3. Make Plots"
   ]
  },
  {
   "cell_type": "code",
   "execution_count": 2,
   "metadata": {},
   "outputs": [
    {
     "ename": "NameError",
     "evalue": "name 'brs' is not defined",
     "output_type": "error",
     "traceback": [
      "\u001b[0;31m---------------------------------------------------------------------------\u001b[0m",
      "\u001b[0;31mNameError\u001b[0m                                 Traceback (most recent call last)",
      "\u001b[0;32m<ipython-input-2-981184698d8c>\u001b[0m in \u001b[0;36m<module>\u001b[0;34m()\u001b[0m\n\u001b[1;32m      9\u001b[0m \u001b[0mplt\u001b[0m\u001b[0;34m.\u001b[0m\u001b[0maxvline\u001b[0m\u001b[0;34m(\u001b[0m\u001b[0;36m10.81\u001b[0m\u001b[0;34m,\u001b[0m\u001b[0mlinestyle\u001b[0m\u001b[0;34m=\u001b[0m\u001b[0;34m\"--\"\u001b[0m\u001b[0;34m,\u001b[0m\u001b[0mc\u001b[0m\u001b[0;34m=\u001b[0m\u001b[0;34m'k'\u001b[0m\u001b[0;34m,\u001b[0m\u001b[0mlabel\u001b[0m\u001b[0;34m=\u001b[0m\u001b[0;34m\"MC Truth\"\u001b[0m\u001b[0;34m)\u001b[0m\u001b[0;34m\u001b[0m\u001b[0m\n\u001b[1;32m     10\u001b[0m \u001b[0;34m\u001b[0m\u001b[0m\n\u001b[0;32m---> 11\u001b[0;31m \u001b[0mbr\u001b[0m \u001b[0;34m=\u001b[0m \u001b[0;36m100\u001b[0m\u001b[0;34m*\u001b[0m\u001b[0mbrs\u001b[0m\u001b[0;34m[\u001b[0m\u001b[0;34m:\u001b[0m\u001b[0;34m,\u001b[0m\u001b[0;36m0\u001b[0m\u001b[0;34m]\u001b[0m\u001b[0;34m\u001b[0m\u001b[0m\n\u001b[0m\u001b[1;32m     12\u001b[0m \u001b[0mmu0\u001b[0m\u001b[0;34m,\u001b[0m\u001b[0msigma0\u001b[0m \u001b[0;34m=\u001b[0m \u001b[0mbr\u001b[0m\u001b[0;34m.\u001b[0m\u001b[0mmean\u001b[0m\u001b[0;34m(\u001b[0m\u001b[0;34m)\u001b[0m\u001b[0;34m,\u001b[0m \u001b[0mbr\u001b[0m\u001b[0;34m.\u001b[0m\u001b[0mstd\u001b[0m\u001b[0;34m(\u001b[0m\u001b[0;34m)\u001b[0m\u001b[0;34m\u001b[0m\u001b[0m\n\u001b[1;32m     13\u001b[0m \u001b[0mplt\u001b[0m\u001b[0;34m.\u001b[0m\u001b[0mhist\u001b[0m\u001b[0;34m(\u001b[0m\u001b[0mbr\u001b[0m\u001b[0;34m,\u001b[0m\u001b[0mbins\u001b[0m\u001b[0;34m=\u001b[0m\u001b[0mmybins\u001b[0m\u001b[0;34m,\u001b[0m\u001b[0malpha\u001b[0m\u001b[0;34m=\u001b[0m\u001b[0;36m0.4\u001b[0m\u001b[0;34m,\u001b[0m\u001b[0mnormed\u001b[0m\u001b[0;34m=\u001b[0m\u001b[0;32mTrue\u001b[0m\u001b[0;34m,\u001b[0m\u001b[0mcolor\u001b[0m\u001b[0;34m=\u001b[0m\u001b[0;34m'C0'\u001b[0m\u001b[0;34m,\u001b[0m \u001b[0mlabel\u001b[0m\u001b[0;34m=\u001b[0m\u001b[0;34mr'$B_e=$ {:5.2f}$\\pm${:5.2f}'\u001b[0m\u001b[0;34m.\u001b[0m\u001b[0mformat\u001b[0m\u001b[0;34m(\u001b[0m\u001b[0mmu0\u001b[0m\u001b[0;34m,\u001b[0m\u001b[0msigma0\u001b[0m\u001b[0;34m)\u001b[0m\u001b[0;34m)\u001b[0m\u001b[0;34m\u001b[0m\u001b[0m\n",
      "\u001b[0;31mNameError\u001b[0m: name 'brs' is not defined"
     ]
    },
    {
     "data": {
      "image/png": "[encoded data removed]",
      "text/plain": [
       "<matplotlib.figure.Figure at 0x1a21135978>"
      ]
     },
     "metadata": {},
     "output_type": "display_data"
    }
   ],
   "source": [
    "from scipy.stats import norm\n",
    "mybins = np.linspace(10.0,12.0,100)\n",
    "step = (mybins[1]-mybins[0])/2\n",
    "\n",
    "x = np.linspace(10,12,1000)\n",
    "\n",
    "plt.figure(facecolor='w',figsize=(6,4))\n",
    "\n",
    "plt.axvline(10.81,linestyle=\"--\",c='k',label=\"MC Truth\")\n",
    "\n",
    "br = 100*brs[:,0]\n",
    "mu0,sigma0 = br.mean(), br.std()\n",
    "plt.hist(br,bins=mybins,alpha=0.4,normed=True,color='C0', label=r'$B_e=$ {:5.2f}$\\pm${:5.2f}'.format(mu0,sigma0))\n",
    "\n",
    "br = 100*brs[:,1]\n",
    "mu1,sigma1 = br.mean(), br.std()\n",
    "plt.hist(br,bins=mybins,alpha=0.4,normed=True,color='C1', label=r'$B_\\mu=$ {:5.2f}$\\pm${:5.2f}'.format(mu1,sigma1))\n",
    "\n",
    "br = 100*brs[:,2]\n",
    "mu2,sigma2 = br.mean(), br.std()\n",
    "plt.hist(br,bins=mybins,alpha=0.4,normed=True,color='C2', label=r'$B_\\tau=$ {:5.2f}$\\pm${:5.2f}'.format(mu2,sigma2))\n",
    "\n",
    "\n",
    "plt.plot(x,norm.pdf(x,mu0,sigma0),c='C0')\n",
    "plt.plot(x,norm.pdf(x,mu1,sigma1),c='C1')\n",
    "plt.plot(x,norm.pdf(x,mu2,sigma2),c='C2')\n",
    "\n",
    "plt.xlabel(r'$B(W\\to l)$ [%]')\n",
    "\n",
    "\n",
    "plt.legend()\n",
    "plt.grid(True,linestyle=\"--\",alpha=0.5)\n",
    "plt.savefig('../plots/closedTest/{}{}.pdf'.format(trigger,btag))"
   ]
  },
  {
   "cell_type": "markdown",
   "metadata": {},
   "source": [
    "# --- R Solver ---"
   ]
  },
  {
   "cell_type": "code",
   "execution_count": 7,
   "metadata": {},
   "outputs": [],
   "source": [
    "trigger,btag = 'mu','1b'\n",
    "#trigger,btag = 'e','2b'\n",
    "ct = DFCounter(trigger,btag)"
   ]
  },
  {
   "cell_type": "code",
   "execution_count": 8,
   "metadata": {},
   "outputs": [],
   "source": [
    "nMCsg, nMCsgVar = ct.getNMCsg(trigger+trigger,ct.nbjet)\n",
    "a,aVar = ct.getAcc(trigger+trigger,ct.nbjet,enhanceStat=False)\n",
    "\n",
    "nMCsgP, nMCsgVarP = ct.getNMCsg(trigger+trigger+'p',ct.nbjet)\n",
    "aP,aVarP = ct.getAcc(trigger+trigger+'p',ct.nbjet,enhanceStat=False)\n",
    "\n",
    "a,aVar = np.array([a,aP]),np.array([aVar,aVarP])\n",
    "nMCsg, nMCsgVar = np.array([nMCsg,nMCsgP]),np.array([nMCsgVar,nMCsgVarP])"
   ]
  },
  {
   "cell_type": "code",
   "execution_count": 9,
   "metadata": {},
   "outputs": [
    {
     "name": "stdout",
     "output_type": "stream",
     "text": [
      "X = 0.1960+/-0.0016\n",
      "X = 0.1960+/-0.0019\n"
     ]
    }
   ],
   "source": [
    "slv = RSovler(a, bwl=0.1080, bte=0.1773, btm=0.1731)\n",
    "\n",
    "n = nMCsg\n",
    "nStd = n**0.5\n",
    "x, xVar = common.getEfficiency( n[1]-0, n[0]-0 )\n",
    "print('X = {:5.4f}+/-{:5.4f}'.format(x,xVar**0.5))\n",
    "\n",
    "print('X = {:5.4f}+/-{:5.4f}'.format(n[1]/n[0],x*sqrt( np.sum( (nStd/n)**2 ) )))"
   ]
  },
  {
   "cell_type": "code",
   "execution_count": 10,
   "metadata": {},
   "outputs": [
    {
     "name": "stdout",
     "output_type": "stream",
     "text": [
      "r = 1.000+/-0.052\n"
     ]
    }
   ],
   "source": [
    "r = slv.solveQuadEqn(x)\n",
    "r1 = slv.solveQuadEqn(x+xVar**0.5)\n",
    "\n",
    "dr = np.abs(r-r1)\n",
    "\n",
    "print('r = {:5.3f}+/-{:5.3f}'.format(r,dr))"
   ]
  },
  {
   "cell_type": "code",
   "execution_count": null,
   "metadata": {},
   "outputs": [],
   "source": []
  }
 ],
 "metadata": {
  "kernelspec": {
   "display_name": "Python 3",
   "language": "python",
   "name": "python3"
  },
  "language_info": {
   "codemirror_mode": {
    "name": "ipython",
    "version": 3
   },
   "file_extension": ".py",
   "mimetype": "text/x-python",
   "name": "python",
   "nbconvert_exporter": "python",
   "pygments_lexer": "ipython3",
   "version": "3.6.4"
  }
 },
 "nbformat": 4,
 "nbformat_minor": 2
}
