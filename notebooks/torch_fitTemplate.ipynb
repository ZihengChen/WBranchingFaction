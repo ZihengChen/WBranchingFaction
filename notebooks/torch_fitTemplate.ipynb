{
 "cells": [
  {
   "cell_type": "code",
   "execution_count": 1,
   "metadata": {},
   "outputs": [],
   "source": [
    "import utility_common as common\n",
    "from utility_dfcutter import *\n",
    "from torch_model import *"
   ]
  },
  {
   "cell_type": "code",
   "execution_count": 2,
   "metadata": {},
   "outputs": [],
   "source": [
    "X = tc.from_numpy( np.load(common.getBaseDirectory() + \"data/templates/templatesX_{}.npy\".format('')) ).type(tc.FloatTensor)\n",
    "#Y = tc.from_numpy( np.load(common.getBaseDirectory() + \"data/templates/templatesY_{}.npy\".format('')) ).type(tc.FloatTensor)\n",
    "Y = tc.sum(X,1)"
   ]
  },
  {
   "cell_type": "code",
   "execution_count": 3,
   "metadata": {},
   "outputs": [],
   "source": [
    "model     = PredictiveModel()\n",
    "optimizer = torch.optim.Adagrad(model.parameters(), lr = 0.001) "
   ]
  },
  {
   "cell_type": "code",
   "execution_count": 4,
   "metadata": {},
   "outputs": [
    {
     "name": "stdout",
     "output_type": "stream",
     "text": [
      "tensor(0.1074) tensor(0.1074) tensor(0.1081)\n"
     ]
    }
   ],
   "source": [
    "epoch = 0\n",
    "while True:\n",
    "    y,regu = model.forward(X)\n",
    "    loss = tc.sum( (y-Y)**2/Y ) + regu\n",
    "    optimizer.zero_grad()\n",
    "    loss.backward(retain_graph=True)\n",
    "    optimizer.step()\n",
    "    \n",
    "    # calculate the update\n",
    "    params = dict(model.named_parameters())\n",
    "    bwe = params['layer_beta.bwe'].data\n",
    "    bwm = params['layer_beta.bwm'].data\n",
    "    bwt = params['layer_beta.bwt'].data\n",
    "    if epoch > 0:\n",
    "        if (tc.abs(bwe-bwe0)<1e-6) and (tc.abs(bwm-bwm0)<1e-6) and (tc.abs(bwt-bwt0)<1e-6):\n",
    "            break\n",
    "            \n",
    "    bwe0,bwm0,bwt0 = bwe,bwm,bwt\n",
    "    epoch += 1\n",
    "    \n",
    "    \n",
    "print(bwe,bwm,bwt)"
   ]
  },
  {
   "cell_type": "code",
   "execution_count": 5,
   "metadata": {},
   "outputs": [],
   "source": [
    "# for name, param in model.named_parameters():\n",
    "#     if param.requires_grad:\n",
    "#         print(name,param.data)"
   ]
  },
  {
   "cell_type": "code",
   "execution_count": 6,
   "metadata": {},
   "outputs": [
    {
     "name": "stderr",
     "output_type": "stream",
     "text": [
      "/Users/zihengchen/anaconda3/lib/python3.6/site-packages/ipykernel_launcher.py:4: RuntimeWarning: invalid value encountered in sqrt\n",
      "  after removing the cwd from sys.path.\n"
     ]
    }
   ],
   "source": [
    "hess = calculate_hessian(loss, model)\n",
    "hessinv = np.linalg.inv(hess)\n",
    "sigmasq = hessinv.diagonal()\n",
    "sigma   = np.sqrt(sigmasq)\n",
    "corvar  = hessinv/np.outer(sigma, sigma)"
   ]
  },
  {
   "cell_type": "code",
   "execution_count": 7,
   "metadata": {},
   "outputs": [
    {
     "data": {
      "text/plain": [
       "<matplotlib.image.AxesImage at 0x1a18937be0>"
      ]
     },
     "execution_count": 7,
     "metadata": {},
     "output_type": "execute_result"
    },
    {
     "data": {
      "image/png": "[encoded data removed]",
      "text/plain": [
       "<matplotlib.figure.Figure at 0x1a1890b4e0>"
      ]
     },
     "metadata": {},
     "output_type": "display_data"
    }
   ],
   "source": [
    "plt.imshow(corvar)"
   ]
  },
  {
   "cell_type": "code",
   "execution_count": 11,
   "metadata": {},
   "outputs": [
    {
     "data": {
      "text/plain": [
       "<matplotlib.image.AxesImage at 0x1a13ffe160>"
      ]
     },
     "execution_count": 11,
     "metadata": {},
     "output_type": "execute_result"
    },
    {
     "data": {
      "image/png": "[encoded data removed]",
      "text/plain": [
       "<matplotlib.figure.Figure at 0x1a13fa9320>"
      ]
     },
     "metadata": {},
     "output_type": "display_data"
    }
   ],
   "source": []
  },
  {
   "cell_type": "code",
   "execution_count": 56,
   "metadata": {},
   "outputs": [],
   "source": [
    "def calculate_hessian(loss, model):\n",
    "    var = model.parameters()\n",
    "    temp = []\n",
    "    grads = torch.autograd.grad(loss, var, create_graph=True)\n",
    "    grads = torch.cat([g.view(-1) for g in grads])\n",
    "    \n",
    "    for g in grads:\n",
    "        grad2 = torch.autograd.grad(g, var, create_graph=True)\n",
    "        for i in grad2:\n",
    "            i = i.data.numpy()\n",
    "        temp.append(grad2)\n",
    "    return np.array(temp)\n"
   ]
  },
  {
   "cell_type": "code",
   "execution_count": 57,
   "metadata": {},
   "outputs": [
    {
     "data": {
      "text/plain": [
       "array([], shape=(23, 0), dtype=float64)"
      ]
     },
     "execution_count": 57,
     "metadata": {},
     "output_type": "execute_result"
    }
   ],
   "source": []
  },
  {
   "cell_type": "code",
   "execution_count": 22,
   "metadata": {},
   "outputs": [],
   "source": []
  },
  {
   "cell_type": "code",
   "execution_count": 31,
   "metadata": {},
   "outputs": [
    {
     "name": "stdout",
     "output_type": "stream",
     "text": [
      "(tensor(94660848., grad_fn=<ThAddBackward>), tensor(-2704439., grad_fn=<ThAddBackward>), tensor(2928155., grad_fn=<ThAddBackward>), tensor(711529.5625, grad_fn=<ThAddBackward>), tensor(124957.1094, grad_fn=<ThAddBackward>), tensor(386957.7500, grad_fn=<ThAddBackward>), tensor(9074898., grad_fn=<ThAddBackward>), tensor(374166.1250, grad_fn=<ThAddBackward>), tensor(208687.4688, grad_fn=<ThAddBackward>), tensor(216848.3125, grad_fn=<ThAddBackward>), tensor(7305.7886, grad_fn=<ThAddBackward>), tensor(110127.5938, grad_fn=<ThAddBackward>), tensor(9995709., grad_fn=<ThAddBackward>), tensor(12631351., grad_fn=<ThAddBackward>), tensor(521181.4688, grad_fn=<ThAddBackward>), tensor(250086.7969, grad_fn=<ThAddBackward>), tensor(21161.5742, grad_fn=<ThAddBackward>), tensor(-1130.0488, grad_fn=<ThAddBackward>), tensor(2530.7024, grad_fn=<ThAddBackward>), tensor(153565.5312, grad_fn=<ThAddBackward>), tensor(475.2518, grad_fn=<ThAddBackward>), tensor(223219.0781, grad_fn=<ThAddBackward>), tensor(6592.7163, grad_fn=<ThAddBackward>))\n",
      "(tensor(-2704438., grad_fn=<ThAddBackward>), tensor(136710016., grad_fn=<ThAddBackward>), tensor(4843118., grad_fn=<ThAddBackward>), tensor(142237.6094, grad_fn=<ThAddBackward>), tensor(1182527.8750, grad_fn=<ThAddBackward>), tensor(579140.6250, grad_fn=<ThAddBackward>), tensor(13588622., grad_fn=<ThAddBackward>), tensor(541088.8125, grad_fn=<ThAddBackward>), tensor(312166.3125, grad_fn=<ThAddBackward>), tensor(369851.6875, grad_fn=<ThAddBackward>), tensor(9450.1758, grad_fn=<ThAddBackward>), tensor(335504.3125, grad_fn=<ThAddBackward>), tensor(15162218., grad_fn=<ThAddBackward>), tensor(757324.8750, grad_fn=<ThAddBackward>), tensor(19095808., grad_fn=<ThAddBackward>), tensor(381777.3125, grad_fn=<ThAddBackward>), tensor(-797.6348, grad_fn=<ThAddBackward>), tensor(15413.4932, grad_fn=<ThAddBackward>), tensor(3804.4087, grad_fn=<ThAddBackward>), tensor(235018.2188, grad_fn=<ThAddBackward>), tensor(2295.3633, grad_fn=<ThAddBackward>), tensor(331218.9062, grad_fn=<ThAddBackward>), tensor(9966.4385, grad_fn=<ThAddBackward>))\n",
      "(tensor(2928155.5000, grad_fn=<ThAddBackward>), tensor(4843118., grad_fn=<ThAddBackward>), tensor(3681461., grad_fn=<ThAddBackward>), tensor(42467.5117, grad_fn=<ThAddBackward>), tensor(89358.0625, grad_fn=<ThAddBackward>), tensor(296590.2812, grad_fn=<ThAddBackward>), tensor(183812.7500, grad_fn=<ThAddBackward>), tensor(15611.9521, grad_fn=<ThAddBackward>), tensor(-23472.7500, grad_fn=<ThAddBackward>), tensor(34980.8516, grad_fn=<ThAddBackward>), tensor(1004.9599, grad_fn=<ThAddBackward>), tensor(-8440.7979, grad_fn=<ThAddBackward>), tensor(203577.7188, grad_fn=<ThAddBackward>), tensor(296039.7812, grad_fn=<ThAddBackward>), tensor(575574.1250, grad_fn=<ThAddBackward>), tensor(475014.9375, grad_fn=<ThAddBackward>), tensor(146.4850, grad_fn=<ThAddBackward>), tensor(-125.7253, grad_fn=<ThAddBackward>), tensor(4764.5059, grad_fn=<ThAddBackward>), tensor(-8527.7002, grad_fn=<ThAddBackward>), tensor(-1059.2148, grad_fn=<ThAddBackward>), tensor(6553.3623, grad_fn=<ThAddBackward>), tensor(-169.1178, grad_fn=<ThAddBackward>))\n",
      "(tensor(711529.4375, grad_fn=<ThAddBackward>), tensor(142237.5781, grad_fn=<ThAddBackward>), tensor(42467.5078, grad_fn=<ThAddBackward>), tensor(6072.0425, grad_fn=<ThAddBackward>), tensor(1947.6544, grad_fn=<ThAddBackward>), tensor(3523.1833, grad_fn=<ThAddBackward>), tensor(88894.3984, grad_fn=<ThAddBackward>), tensor(3601.0645, grad_fn=<ThAddBackward>), tensor(2236.0647, grad_fn=<ThAddBackward>), tensor(1828.3093, grad_fn=<ThAddBackward>), tensor(62.0284, grad_fn=<ThAddBackward>), tensor(1483.9548, grad_fn=<ThAddBackward>), tensor(98141.7500, grad_fn=<ThAddBackward>), tensor(96946.2422, grad_fn=<ThAddBackward>), tensor(26107.0703, grad_fn=<ThAddBackward>), tensor(1760.9980, grad_fn=<ThAddBackward>), tensor(135.5373, grad_fn=<ThAddBackward>), tensor(27.2462, grad_fn=<ThAddBackward>), tensor(17.7885, grad_fn=<ThAddBackward>), tensor(1576.4902, grad_fn=<ThAddBackward>), tensor(14.1913, grad_fn=<ThAddBackward>), tensor(2165.5520, grad_fn=<ThAddBackward>), tensor(64.8522, grad_fn=<ThAddBackward>))\n",
      "(tensor(124957.1172, grad_fn=<ThAddBackward>), tensor(1182527.6250, grad_fn=<ThAddBackward>), tensor(89358.0703, grad_fn=<ThAddBackward>), tensor(1947.6544, grad_fn=<ThAddBackward>), tensor(11169.5596, grad_fn=<ThAddBackward>), tensor(4731.9541, grad_fn=<ThAddBackward>), tensor(128017.3359, grad_fn=<ThAddBackward>), tensor(5155.4722, grad_fn=<ThAddBackward>), tensor(2882.3687, grad_fn=<ThAddBackward>), tensor(3796.0823, grad_fn=<ThAddBackward>), tensor(95.7182, grad_fn=<ThAddBackward>), tensor(2868.7224, grad_fn=<ThAddBackward>), tensor(142867.9688, grad_fn=<ThAddBackward>), tensor(24597.1641, grad_fn=<ThAddBackward>), tensor(165516.5469, grad_fn=<ThAddBackward>), tensor(2587.8560, grad_fn=<ThAddBackward>), tensor(59.9449, grad_fn=<ThAddBackward>), tensor(110.0469, grad_fn=<ThAddBackward>), tensor(25.7958, grad_fn=<ThAddBackward>), tensor(2200.3264, grad_fn=<ThAddBackward>), tensor(17.6255, grad_fn=<ThAddBackward>), tensor(3128.0093, grad_fn=<ThAddBackward>), tensor(96.0126, grad_fn=<ThAddBackward>))\n",
      "(tensor(386957.7500, grad_fn=<ThAddBackward>), tensor(579140.7500, grad_fn=<ThAddBackward>), tensor(296590.3125, grad_fn=<ThAddBackward>), tensor(3523.1838, grad_fn=<ThAddBackward>), tensor(4731.9531, grad_fn=<ThAddBackward>), tensor(32712.0586, grad_fn=<ThAddBackward>), tensor(128307.0625, grad_fn=<ThAddBackward>), tensor(5508.4521, grad_fn=<ThAddBackward>), tensor(3357.9050, grad_fn=<ThAddBackward>), tensor(2108.2339, grad_fn=<ThAddBackward>), tensor(81.5086, grad_fn=<ThAddBackward>), tensor(3997.5798, grad_fn=<ThAddBackward>), tensor(143412.6250, grad_fn=<ThAddBackward>), tensor(59195.6133, grad_fn=<ThAddBackward>), tensor(84850.9531, grad_fn=<ThAddBackward>), tensor(51202.2500, grad_fn=<ThAddBackward>), tensor(118.4275, grad_fn=<ThAddBackward>), tensor(95.5901, grad_fn=<ThAddBackward>), tensor(513.5479, grad_fn=<ThAddBackward>), tensor(2096.3184, grad_fn=<ThAddBackward>), tensor(5.8326, grad_fn=<ThAddBackward>), tensor(3159.1157, grad_fn=<ThAddBackward>), tensor(81.9030, grad_fn=<ThAddBackward>))\n",
      "(tensor(9074899., grad_fn=<ThAddBackward>), tensor(13588621., grad_fn=<ThAddBackward>), tensor(183812.7500, grad_fn=<ThAddBackward>), tensor(88894.3906, grad_fn=<ThAddBackward>), tensor(128017.3750, grad_fn=<ThAddBackward>), tensor(128307.0781, grad_fn=<ThAddBackward>), tensor(2540016.5000, grad_fn=<ThAddBackward>), tensor(100777.9844, grad_fn=<ThAddBackward>), tensor(74771.6016, grad_fn=<ThAddBackward>), tensor(49621.0469, grad_fn=<ThAddBackward>), tensor(1496.9717, grad_fn=<ThAddBackward>), tensor(63930.3633, grad_fn=<ThAddBackward>), tensor(2930443., grad_fn=<ThAddBackward>), tensor(1370818.3750, grad_fn=<ThAddBackward>), tensor(2001342.3750, grad_fn=<ThAddBackward>), tensor(75827.0938, grad_fn=<ThAddBackward>), tensor(2390.4146, grad_fn=<ThAddBackward>), tensor(1835.0830, grad_fn=<ThAddBackward>), tensor(760.2516, grad_fn=<ThAddBackward>), tensor(50010.5977, grad_fn=<ThAddBackward>), tensor(754.5734, grad_fn=<ThAddBackward>), tensor(63975.0703, grad_fn=<ThAddBackward>), tensor(2021.2104, grad_fn=<ThAddBackward>))\n",
      "(tensor(374166.0625, grad_fn=<ThAddBackward>), tensor(541088.6250, grad_fn=<ThAddBackward>), tensor(15611.9531, grad_fn=<ThAddBackward>), tensor(3601.0649, grad_fn=<ThAddBackward>), tensor(5155.4731, grad_fn=<ThAddBackward>), tensor(5508.4512, grad_fn=<ThAddBackward>), tensor(100777.9844, grad_fn=<ThAddBackward>), tensor(4190.3936, grad_fn=<ThAddBackward>), tensor(3092.4949, grad_fn=<ThAddBackward>), tensor(2190.2070, grad_fn=<ThAddBackward>), tensor(65.7160, grad_fn=<ThAddBackward>), tensor(2587.3555, grad_fn=<ThAddBackward>), tensor(116457.2969, grad_fn=<ThAddBackward>), tensor(56071.8555, grad_fn=<ThAddBackward>), tensor(79805.2578, grad_fn=<ThAddBackward>), tensor(3985.5742, grad_fn=<ThAddBackward>), tensor(97.0382, grad_fn=<ThAddBackward>), tensor(70.5415, grad_fn=<ThAddBackward>), tensor(39.8777, grad_fn=<ThAddBackward>), tensor(1968.8311, grad_fn=<ThAddBackward>), tensor(42.7098, grad_fn=<ThAddBackward>), tensor(2159.5923, grad_fn=<ThAddBackward>), tensor(72.0813, grad_fn=<ThAddBackward>))\n",
      "(tensor(208687.4844, grad_fn=<ThAddBackward>), tensor(312166.3750, grad_fn=<ThAddBackward>), tensor(-23472.7422, grad_fn=<ThAddBackward>), tensor(2236.0654, grad_fn=<ThAddBackward>), tensor(2882.3689, grad_fn=<ThAddBackward>), tensor(3357.9058, grad_fn=<ThAddBackward>), tensor(74771.6094, grad_fn=<ThAddBackward>), tensor(3092.4946, grad_fn=<ThAddBackward>), tensor(3001.1199, grad_fn=<ThAddBackward>), tensor(1058.6770, grad_fn=<ThAddBackward>), tensor(34.8221, grad_fn=<ThAddBackward>), tensor(2380.6216, grad_fn=<ThAddBackward>), tensor(86951.9531, grad_fn=<ThAddBackward>), tensor(35878.0859, grad_fn=<ThAddBackward>), tensor(51322.5547, grad_fn=<ThAddBackward>), tensor(1024.1506, grad_fn=<ThAddBackward>), tensor(71.0891, grad_fn=<ThAddBackward>), tensor(58.4286, grad_fn=<ThAddBackward>), tensor(10.2188, grad_fn=<ThAddBackward>), tensor(1647.0944, grad_fn=<ThAddBackward>), tensor(57.0775, grad_fn=<ThAddBackward>), tensor(1318.6206, grad_fn=<ThAddBackward>), tensor(51.0611, grad_fn=<ThAddBackward>))\n",
      "(tensor(216848.3438, grad_fn=<ThAddBackward>), tensor(369851.6875, grad_fn=<ThAddBackward>), tensor(34980.8438, grad_fn=<ThAddBackward>), tensor(1828.3096, grad_fn=<ThAddBackward>), tensor(3796.0825, grad_fn=<ThAddBackward>), tensor(2108.2339, grad_fn=<ThAddBackward>), tensor(49621.0469, grad_fn=<ThAddBackward>), tensor(2190.2070, grad_fn=<ThAddBackward>), tensor(1058.6770, grad_fn=<ThAddBackward>), tensor(3475.4736, grad_fn=<ThAddBackward>), tensor(71.3703, grad_fn=<ThAddBackward>), tensor(813.3414, grad_fn=<ThAddBackward>), tensor(58761.2500, grad_fn=<ThAddBackward>), tensor(31287.6777, grad_fn=<ThAddBackward>), tensor(54478.9766, grad_fn=<ThAddBackward>), tensor(1963.6306, grad_fn=<ThAddBackward>), tensor(49.5950, grad_fn=<ThAddBackward>), tensor(23.3098, grad_fn=<ThAddBackward>), tensor(19.6070, grad_fn=<ThAddBackward>), tensor(856.4612, grad_fn=<ThAddBackward>), tensor(19.7562, grad_fn=<ThAddBackward>), tensor(962.0450, grad_fn=<ThAddBackward>), tensor(42.9021, grad_fn=<ThAddBackward>))\n",
      "(tensor(7305.7900, grad_fn=<ThAddBackward>), tensor(9450.1758, grad_fn=<ThAddBackward>), tensor(1004.9602, grad_fn=<ThAddBackward>), tensor(62.0284, grad_fn=<ThAddBackward>), tensor(95.7182, grad_fn=<ThAddBackward>), tensor(81.5086, grad_fn=<ThAddBackward>), tensor(1496.9718, grad_fn=<ThAddBackward>), tensor(65.7160, grad_fn=<ThAddBackward>), tensor(34.8221, grad_fn=<ThAddBackward>), tensor(71.3703, grad_fn=<ThAddBackward>), tensor(11.7028, grad_fn=<ThAddBackward>), tensor(27.8246, grad_fn=<ThAddBackward>), tensor(1743.8315, grad_fn=<ThAddBackward>), tensor(1034.3047, grad_fn=<ThAddBackward>), tensor(1386.6465, grad_fn=<ThAddBackward>), tensor(86.6149, grad_fn=<ThAddBackward>), tensor(1.6107, grad_fn=<ThAddBackward>), tensor(0.7517, grad_fn=<ThAddBackward>), tensor(0.8649, grad_fn=<ThAddBackward>), tensor(25.7626, grad_fn=<ThAddBackward>), tensor(0.5016, grad_fn=<ThAddBackward>), tensor(29.1865, grad_fn=<ThAddBackward>), tensor(1.1032, grad_fn=<ThAddBackward>))\n",
      "(tensor(110127.6250, grad_fn=<ThAddBackward>), tensor(335504.3438, grad_fn=<ThAddBackward>), tensor(-8440.7891, grad_fn=<ThAddBackward>), tensor(1483.9552, grad_fn=<ThAddBackward>), tensor(2868.7222, grad_fn=<ThAddBackward>), tensor(3997.5798, grad_fn=<ThAddBackward>), tensor(63930.3594, grad_fn=<ThAddBackward>), tensor(2587.3555, grad_fn=<ThAddBackward>), tensor(2380.6213, grad_fn=<ThAddBackward>), tensor(813.3414, grad_fn=<ThAddBackward>), tensor(27.8246, grad_fn=<ThAddBackward>), tensor(2106.8293, grad_fn=<ThAddBackward>), tensor(74388.4375, grad_fn=<ThAddBackward>), tensor(21967.9121, grad_fn=<ThAddBackward>), tensor(52444.2969, grad_fn=<ThAddBackward>), tensor(2967.9609, grad_fn=<ThAddBackward>), tensor(43.7160, grad_fn=<ThAddBackward>), tensor(60.1645, grad_fn=<ThAddBackward>), tensor(29.6855, grad_fn=<ThAddBackward>), tensor(1377.6608, grad_fn=<ThAddBackward>), tensor(40.0365, grad_fn=<ThAddBackward>), tensor(1326.3219, grad_fn=<ThAddBackward>), tensor(46.2313, grad_fn=<ThAddBackward>))\n"
     ]
    },
    {
     "name": "stdout",
     "output_type": "stream",
     "text": [
      "(tensor(9995709., grad_fn=<ThAddBackward>), tensor(15162215., grad_fn=<ThAddBackward>), tensor(203578., grad_fn=<ThAddBackward>), tensor(98141.7578, grad_fn=<ThAddBackward>), tensor(142867.9844, grad_fn=<ThAddBackward>), tensor(143412.6250, grad_fn=<ThAddBackward>), tensor(2930443.7500, grad_fn=<ThAddBackward>), tensor(116457.2891, grad_fn=<ThAddBackward>), tensor(86951.9375, grad_fn=<ThAddBackward>), tensor(58761.2539, grad_fn=<ThAddBackward>), tensor(1743.8314, grad_fn=<ThAddBackward>), tensor(74388.4453, grad_fn=<ThAddBackward>), tensor(3160971.5000, grad_fn=<ThAddBackward>), tensor(1517630.8750, grad_fn=<ThAddBackward>), tensor(2241626., grad_fn=<ThAddBackward>), tensor(85887.4297, grad_fn=<ThAddBackward>), tensor(2654.4648, grad_fn=<ThAddBackward>), tensor(2049.0500, grad_fn=<ThAddBackward>), tensor(860.8302, grad_fn=<ThAddBackward>), tensor(55907.4727, grad_fn=<ThAddBackward>), tensor(914.9993, grad_fn=<ThAddBackward>), tensor(69797.1250, grad_fn=<ThAddBackward>), tensor(2235.4316, grad_fn=<ThAddBackward>))\n",
      "(tensor(12631350., grad_fn=<ThAddBackward>), tensor(757325.5000, grad_fn=<ThAddBackward>), tensor(296039.8750, grad_fn=<ThAddBackward>), tensor(96946.2656, grad_fn=<ThAddBackward>), tensor(24597.1680, grad_fn=<ThAddBackward>), tensor(59195.6172, grad_fn=<ThAddBackward>), tensor(1370818., grad_fn=<ThAddBackward>), tensor(56071.8594, grad_fn=<ThAddBackward>), tensor(35878.0938, grad_fn=<ThAddBackward>), tensor(31287.6777, grad_fn=<ThAddBackward>), tensor(1034.3048, grad_fn=<ThAddBackward>), tensor(21967.9141, grad_fn=<ThAddBackward>), tensor(1517630.5000, grad_fn=<ThAddBackward>), tensor(1620518.5000, grad_fn=<ThAddBackward>), tensor(234263.8750, grad_fn=<ThAddBackward>), tensor(34663.3203, grad_fn=<ThAddBackward>), tensor(2796.2197, grad_fn=<ThAddBackward>), tensor(79.5285, grad_fn=<ThAddBackward>), tensor(350.3580, grad_fn=<ThAddBackward>), tensor(24406.3555, grad_fn=<ThAddBackward>), tensor(217.2373, grad_fn=<ThAddBackward>), tensor(33021.0430, grad_fn=<ThAddBackward>), tensor(1016.1941, grad_fn=<ThAddBackward>))\n",
      "(tensor(521181.7500, grad_fn=<ThAddBackward>), tensor(19095806., grad_fn=<ThAddBackward>), tensor(575574.2500, grad_fn=<ThAddBackward>), tensor(26107.0703, grad_fn=<ThAddBackward>), tensor(165516.5469, grad_fn=<ThAddBackward>), tensor(84850.9531, grad_fn=<ThAddBackward>), tensor(2001342.3750, grad_fn=<ThAddBackward>), tensor(79805.2500, grad_fn=<ThAddBackward>), tensor(51322.5547, grad_fn=<ThAddBackward>), tensor(54478.9844, grad_fn=<ThAddBackward>), tensor(1386.6462, grad_fn=<ThAddBackward>), tensor(52444.3008, grad_fn=<ThAddBackward>), tensor(2241626.2500, grad_fn=<ThAddBackward>), tensor(234263.8594, grad_fn=<ThAddBackward>), tensor(2531581.2500, grad_fn=<ThAddBackward>), tensor(51252.2812, grad_fn=<ThAddBackward>), tensor(234.9001, grad_fn=<ThAddBackward>), tensor(2123.8762, grad_fn=<ThAddBackward>), tensor(510.7546, grad_fn=<ThAddBackward>), tensor(35843.3633, grad_fn=<ThAddBackward>), tensor(467.4284, grad_fn=<ThAddBackward>), tensor(47904.6250, grad_fn=<ThAddBackward>), tensor(1492.7847, grad_fn=<ThAddBackward>))\n",
      "(tensor(250086.7812, grad_fn=<ThAddBackward>), tensor(381777.2188, grad_fn=<ThAddBackward>), tensor(475014.9688, grad_fn=<ThAddBackward>), tensor(1760.9977, grad_fn=<ThAddBackward>), tensor(2587.8557, grad_fn=<ThAddBackward>), tensor(51202.2383, grad_fn=<ThAddBackward>), tensor(75827.0859, grad_fn=<ThAddBackward>), tensor(3985.5737, grad_fn=<ThAddBackward>), tensor(1024.1504, grad_fn=<ThAddBackward>), tensor(1963.6305, grad_fn=<ThAddBackward>), tensor(86.6148, grad_fn=<ThAddBackward>), tensor(2967.9607, grad_fn=<ThAddBackward>), tensor(85887.4219, grad_fn=<ThAddBackward>), tensor(34663.3164, grad_fn=<ThAddBackward>), tensor(51252.2734, grad_fn=<ThAddBackward>), tensor(82195.8125, grad_fn=<ThAddBackward>), tensor(70.1805, grad_fn=<ThAddBackward>), tensor(55.4445, grad_fn=<ThAddBackward>), tensor(861.4282, grad_fn=<ThAddBackward>), tensor(603.8062, grad_fn=<ThAddBackward>), tensor(-49.7533, grad_fn=<ThAddBackward>), tensor(1847.8263, grad_fn=<ThAddBackward>), tensor(22.9356, grad_fn=<ThAddBackward>))\n",
      "(tensor(21161.5723, grad_fn=<ThAddBackward>), tensor(-797.6360, grad_fn=<ThAddBackward>), tensor(146.4846, grad_fn=<ThAddBackward>), tensor(135.5374, grad_fn=<ThAddBackward>), tensor(59.9449, grad_fn=<ThAddBackward>), tensor(118.4275, grad_fn=<ThAddBackward>), tensor(2390.4148, grad_fn=<ThAddBackward>), tensor(97.0383, grad_fn=<ThAddBackward>), tensor(71.0891, grad_fn=<ThAddBackward>), tensor(49.5950, grad_fn=<ThAddBackward>), tensor(1.6107, grad_fn=<ThAddBackward>), tensor(43.7160, grad_fn=<ThAddBackward>), tensor(2654.4641, grad_fn=<ThAddBackward>), tensor(2796.2195, grad_fn=<ThAddBackward>), tensor(234.9000, grad_fn=<ThAddBackward>), tensor(70.1806, grad_fn=<ThAddBackward>), tensor(9.4796, grad_fn=<ThAddBackward>), tensor(-1.2631, grad_fn=<ThAddBackward>), tensor(0.7374, grad_fn=<ThAddBackward>), tensor(47.1283, grad_fn=<ThAddBackward>), tensor(0.4692, grad_fn=<ThAddBackward>), tensor(61.1570, grad_fn=<ThAddBackward>), tensor(2.0113, grad_fn=<ThAddBackward>))\n",
      "(tensor(-1130.0492, grad_fn=<ThAddBackward>), tensor(15413.4951, grad_fn=<ThAddBackward>), tensor(-125.7251, grad_fn=<ThAddBackward>), tensor(27.2462, grad_fn=<ThAddBackward>), tensor(110.0469, grad_fn=<ThAddBackward>), tensor(95.5901, grad_fn=<ThAddBackward>), tensor(1835.0834, grad_fn=<ThAddBackward>), tensor(70.5415, grad_fn=<ThAddBackward>), tensor(58.4286, grad_fn=<ThAddBackward>), tensor(23.3098, grad_fn=<ThAddBackward>), tensor(0.7517, grad_fn=<ThAddBackward>), tensor(60.1645, grad_fn=<ThAddBackward>), tensor(2049.0500, grad_fn=<ThAddBackward>), tensor(79.5285, grad_fn=<ThAddBackward>), tensor(2123.8762, grad_fn=<ThAddBackward>), tensor(55.4445, grad_fn=<ThAddBackward>), tensor(-1.2631, grad_fn=<ThAddBackward>), tensor(3.8984, grad_fn=<ThAddBackward>), tensor(0.5843, grad_fn=<ThAddBackward>), tensor(37.8161, grad_fn=<ThAddBackward>), tensor(0.7859, grad_fn=<ThAddBackward>), tensor(46.4786, grad_fn=<ThAddBackward>), tensor(1.4287, grad_fn=<ThAddBackward>))\n",
      "(tensor(2530.7019, grad_fn=<ThAddBackward>), tensor(3804.4094, grad_fn=<ThAddBackward>), tensor(4764.5054, grad_fn=<ThAddBackward>), tensor(17.7885, grad_fn=<ThAddBackward>), tensor(25.7958, grad_fn=<ThAddBackward>), tensor(513.5479, grad_fn=<ThAddBackward>), tensor(760.2517, grad_fn=<ThAddBackward>), tensor(39.8777, grad_fn=<ThAddBackward>), tensor(10.2188, grad_fn=<ThAddBackward>), tensor(19.6070, grad_fn=<ThAddBackward>), tensor(0.8649, grad_fn=<ThAddBackward>), tensor(29.6855, grad_fn=<ThAddBackward>), tensor(860.8304, grad_fn=<ThAddBackward>), tensor(350.3580, grad_fn=<ThAddBackward>), tensor(510.7546, grad_fn=<ThAddBackward>), tensor(861.4284, grad_fn=<ThAddBackward>), tensor(0.7374, grad_fn=<ThAddBackward>), tensor(0.5843, grad_fn=<ThAddBackward>), tensor(10.0394, grad_fn=<ThAddBackward>), tensor(6.3350, grad_fn=<ThAddBackward>), tensor(-0.5439, grad_fn=<ThAddBackward>), tensor(19.8022, grad_fn=<ThAddBackward>), tensor(0.2451, grad_fn=<ThAddBackward>))\n",
      "(tensor(153565.5312, grad_fn=<ThAddBackward>), tensor(235018.2188, grad_fn=<ThAddBackward>), tensor(-8527.7031, grad_fn=<ThAddBackward>), tensor(1576.4905, grad_fn=<ThAddBackward>), tensor(2200.3267, grad_fn=<ThAddBackward>), tensor(2096.3186, grad_fn=<ThAddBackward>), tensor(50010.6133, grad_fn=<ThAddBackward>), tensor(1968.8312, grad_fn=<ThAddBackward>), tensor(1647.0941, grad_fn=<ThAddBackward>), tensor(856.4612, grad_fn=<ThAddBackward>), tensor(25.7626, grad_fn=<ThAddBackward>), tensor(1377.6609, grad_fn=<ThAddBackward>), tensor(55907.4688, grad_fn=<ThAddBackward>), tensor(24406.3594, grad_fn=<ThAddBackward>), tensor(35843.3633, grad_fn=<ThAddBackward>), tensor(603.8063, grad_fn=<ThAddBackward>), tensor(47.1283, grad_fn=<ThAddBackward>), tensor(37.8161, grad_fn=<ThAddBackward>), tensor(6.3350, grad_fn=<ThAddBackward>), tensor(1045.4592, grad_fn=<ThAddBackward>), tensor(21.7405, grad_fn=<ThAddBackward>), tensor(1214.1857, grad_fn=<ThAddBackward>), tensor(40.6213, grad_fn=<ThAddBackward>))\n",
      "(tensor(475.2522, grad_fn=<ThAddBackward>), tensor(2295.3623, grad_fn=<ThAddBackward>), tensor(-1059.2150, grad_fn=<ThAddBackward>), tensor(14.1913, grad_fn=<ThAddBackward>), tensor(17.6255, grad_fn=<ThAddBackward>), tensor(5.8326, grad_fn=<ThAddBackward>), tensor(754.5738, grad_fn=<ThAddBackward>), tensor(42.7098, grad_fn=<ThAddBackward>), tensor(57.0775, grad_fn=<ThAddBackward>), tensor(19.7562, grad_fn=<ThAddBackward>), tensor(0.5016, grad_fn=<ThAddBackward>), tensor(40.0365, grad_fn=<ThAddBackward>), tensor(914.9994, grad_fn=<ThAddBackward>), tensor(217.2374, grad_fn=<ThAddBackward>), tensor(467.4284, grad_fn=<ThAddBackward>), tensor(-49.7533, grad_fn=<ThAddBackward>), tensor(0.4692, grad_fn=<ThAddBackward>), tensor(0.7859, grad_fn=<ThAddBackward>), tensor(-0.5439, grad_fn=<ThAddBackward>), tensor(21.7405, grad_fn=<ThAddBackward>), tensor(3.3794, grad_fn=<ThAddBackward>), tensor(-21.3755, grad_fn=<ThAddBackward>), tensor(-0.0185, grad_fn=<ThAddBackward>))\n",
      "(tensor(223219.0625, grad_fn=<ThAddBackward>), tensor(331218.9062, grad_fn=<ThAddBackward>), tensor(6553.3594, grad_fn=<ThAddBackward>), tensor(2165.5527, grad_fn=<ThAddBackward>), tensor(3128.0095, grad_fn=<ThAddBackward>), tensor(3159.1157, grad_fn=<ThAddBackward>), tensor(63975.0742, grad_fn=<ThAddBackward>), tensor(2159.5925, grad_fn=<ThAddBackward>), tensor(1318.6208, grad_fn=<ThAddBackward>), tensor(962.0450, grad_fn=<ThAddBackward>), tensor(29.1865, grad_fn=<ThAddBackward>), tensor(1326.3219, grad_fn=<ThAddBackward>), tensor(69797.1562, grad_fn=<ThAddBackward>), tensor(33021.0391, grad_fn=<ThAddBackward>), tensor(47904.6172, grad_fn=<ThAddBackward>), tensor(1847.8263, grad_fn=<ThAddBackward>), tensor(61.1570, grad_fn=<ThAddBackward>), tensor(46.4786, grad_fn=<ThAddBackward>), tensor(19.8022, grad_fn=<ThAddBackward>), tensor(1214.1853, grad_fn=<ThAddBackward>), tensor(-21.3755, grad_fn=<ThAddBackward>), tensor(2603.3979, grad_fn=<ThAddBackward>), tensor(70.4430, grad_fn=<ThAddBackward>))\n",
      "(tensor(6592.7163, grad_fn=<ThAddBackward>), tensor(9966.4395, grad_fn=<ThAddBackward>), tensor(-169.1179, grad_fn=<ThAddBackward>), tensor(64.8522, grad_fn=<ThAddBackward>), tensor(96.0126, grad_fn=<ThAddBackward>), tensor(81.9030, grad_fn=<ThAddBackward>), tensor(2021.2102, grad_fn=<ThAddBackward>), tensor(72.0813, grad_fn=<ThAddBackward>), tensor(51.0611, grad_fn=<ThAddBackward>), tensor(42.9021, grad_fn=<ThAddBackward>), tensor(1.1032, grad_fn=<ThAddBackward>), tensor(46.2313, grad_fn=<ThAddBackward>), tensor(2235.4316, grad_fn=<ThAddBackward>), tensor(1016.1938, grad_fn=<ThAddBackward>), tensor(1492.7844, grad_fn=<ThAddBackward>), tensor(22.9356, grad_fn=<ThAddBackward>), tensor(2.0113, grad_fn=<ThAddBackward>), tensor(1.4287, grad_fn=<ThAddBackward>), tensor(0.2451, grad_fn=<ThAddBackward>), tensor(40.6213, grad_fn=<ThAddBackward>), tensor(-0.0185, grad_fn=<ThAddBackward>), tensor(70.4430, grad_fn=<ThAddBackward>), tensor(3.1461, grad_fn=<ThAddBackward>))\n"
     ]
    }
   ],
   "source": [
    "\n",
    "    print(grad2)"
   ]
  },
  {
   "cell_type": "code",
   "execution_count": 53,
   "metadata": {},
   "outputs": [
    {
     "data": {
      "text/plain": [
       "array(6592.7163, dtype=float32)"
      ]
     },
     "execution_count": 53,
     "metadata": {},
     "output_type": "execute_result"
    }
   ],
   "source": [
    "grad2[0].data.numpy()"
   ]
  },
  {
   "cell_type": "code",
   "execution_count": 54,
   "metadata": {},
   "outputs": [
    {
     "ename": "TypeError",
     "evalue": "'Tensor' object is not callable",
     "output_type": "error",
     "traceback": [
      "\u001b[0;31m---------------------------------------------------------------------------\u001b[0m",
      "\u001b[0;31mTypeError\u001b[0m                                 Traceback (most recent call last)",
      "\u001b[0;32m<ipython-input-54-925c60558363>\u001b[0m in \u001b[0;36m<module>\u001b[0;34m()\u001b[0m\n\u001b[1;32m      1\u001b[0m \u001b[0mtemp\u001b[0m \u001b[0;34m=\u001b[0m \u001b[0;34m[\u001b[0m\u001b[0;34m]\u001b[0m\u001b[0;34m\u001b[0m\u001b[0m\n\u001b[0;32m----> 2\u001b[0;31m \u001b[0mgrads\u001b[0m \u001b[0;34m=\u001b[0m \u001b[0mgrad\u001b[0m\u001b[0;34m(\u001b[0m\u001b[0mloss\u001b[0m\u001b[0;34m,\u001b[0m \u001b[0mmodel\u001b[0m\u001b[0;34m.\u001b[0m\u001b[0mparameters\u001b[0m\u001b[0;34m(\u001b[0m\u001b[0;34m)\u001b[0m\u001b[0;34m,\u001b[0m \u001b[0mcreate_graph\u001b[0m\u001b[0;34m=\u001b[0m\u001b[0;32mTrue\u001b[0m\u001b[0;34m)\u001b[0m\u001b[0;34m\u001b[0m\u001b[0m\n\u001b[0m\u001b[1;32m      3\u001b[0m \u001b[0mgrads\u001b[0m \u001b[0;34m=\u001b[0m \u001b[0mtorch\u001b[0m\u001b[0;34m.\u001b[0m\u001b[0mcat\u001b[0m\u001b[0;34m(\u001b[0m\u001b[0;34m[\u001b[0m\u001b[0mg\u001b[0m\u001b[0;34m.\u001b[0m\u001b[0mview\u001b[0m\u001b[0;34m(\u001b[0m\u001b[0;34m-\u001b[0m\u001b[0;36m1\u001b[0m\u001b[0;34m)\u001b[0m \u001b[0;32mfor\u001b[0m \u001b[0mg\u001b[0m \u001b[0;32min\u001b[0m \u001b[0mgrads\u001b[0m\u001b[0;34m]\u001b[0m\u001b[0;34m)\u001b[0m\u001b[0;34m\u001b[0m\u001b[0m\n\u001b[1;32m      4\u001b[0m \u001b[0;34m\u001b[0m\u001b[0m\n\u001b[1;32m      5\u001b[0m \u001b[0;32mfor\u001b[0m \u001b[0mg\u001b[0m \u001b[0;32min\u001b[0m \u001b[0mgrads\u001b[0m\u001b[0;34m:\u001b[0m\u001b[0;34m\u001b[0m\u001b[0m\n",
      "\u001b[0;31mTypeError\u001b[0m: 'Tensor' object is not callable"
     ]
    }
   ],
   "source": [
    "temp = []\n",
    "grads = grad(loss, model.parameters(), create_graph=True)\n",
    "grads = torch.cat([g.view(-1) for g in grads])\n",
    "\n",
    "for g in grads:\n",
    "    grad2 = grad(g, model.parameters(), create_graph=True)\n",
    "    temp.append(grad2)"
   ]
  },
  {
   "cell_type": "code",
   "execution_count": 50,
   "metadata": {},
   "outputs": [
    {
     "ename": "TypeError",
     "evalue": "iteration over a 0-d tensor",
     "output_type": "error",
     "traceback": [
      "\u001b[0;31m---------------------------------------------------------------------------\u001b[0m",
      "\u001b[0;31mTypeError\u001b[0m                                 Traceback (most recent call last)",
      "\u001b[0;32m<ipython-input-50-845e46d638c0>\u001b[0m in \u001b[0;36m<module>\u001b[0;34m()\u001b[0m\n\u001b[1;32m      1\u001b[0m \u001b[0;31m#grads = grad(loss, model.parameters(), create_graph=True)[0]\u001b[0m\u001b[0;34m\u001b[0m\u001b[0;34m\u001b[0m\u001b[0m\n\u001b[0;32m----> 2\u001b[0;31m \u001b[0;32mfor\u001b[0m \u001b[0mgrd\u001b[0m \u001b[0;32min\u001b[0m \u001b[0mgrads\u001b[0m\u001b[0;34m:\u001b[0m\u001b[0;34m\u001b[0m\u001b[0m\n\u001b[0m\u001b[1;32m      3\u001b[0m     \u001b[0mprint\u001b[0m\u001b[0;34m(\u001b[0m\u001b[0mgrd\u001b[0m\u001b[0;34m)\u001b[0m\u001b[0;34m\u001b[0m\u001b[0m\n\u001b[1;32m      4\u001b[0m \u001b[0;34m\u001b[0m\u001b[0m\n\u001b[1;32m      5\u001b[0m \u001b[0;34m\u001b[0m\u001b[0m\n",
      "\u001b[0;32m~/anaconda3/lib/python3.6/site-packages/torch/tensor.py\u001b[0m in \u001b[0;36m__iter__\u001b[0;34m(self)\u001b[0m\n\u001b[1;32m    379\u001b[0m         \u001b[0;31m# map will interleave them.)\u001b[0m\u001b[0;34m\u001b[0m\u001b[0;34m\u001b[0m\u001b[0m\n\u001b[1;32m    380\u001b[0m         \u001b[0;32mif\u001b[0m \u001b[0mself\u001b[0m\u001b[0;34m.\u001b[0m\u001b[0mdim\u001b[0m\u001b[0;34m(\u001b[0m\u001b[0;34m)\u001b[0m \u001b[0;34m==\u001b[0m \u001b[0;36m0\u001b[0m\u001b[0;34m:\u001b[0m\u001b[0;34m\u001b[0m\u001b[0m\n\u001b[0;32m--> 381\u001b[0;31m             \u001b[0;32mraise\u001b[0m \u001b[0mTypeError\u001b[0m\u001b[0;34m(\u001b[0m\u001b[0;34m'iteration over a 0-d tensor'\u001b[0m\u001b[0;34m)\u001b[0m\u001b[0;34m\u001b[0m\u001b[0m\n\u001b[0m\u001b[1;32m    382\u001b[0m         \u001b[0;32mreturn\u001b[0m \u001b[0miter\u001b[0m\u001b[0;34m(\u001b[0m\u001b[0mimap\u001b[0m\u001b[0;34m(\u001b[0m\u001b[0;32mlambda\u001b[0m \u001b[0mi\u001b[0m\u001b[0;34m:\u001b[0m \u001b[0mself\u001b[0m\u001b[0;34m[\u001b[0m\u001b[0mi\u001b[0m\u001b[0;34m]\u001b[0m\u001b[0;34m,\u001b[0m \u001b[0mrange\u001b[0m\u001b[0;34m(\u001b[0m\u001b[0mself\u001b[0m\u001b[0;34m.\u001b[0m\u001b[0msize\u001b[0m\u001b[0;34m(\u001b[0m\u001b[0;36m0\u001b[0m\u001b[0;34m)\u001b[0m\u001b[0;34m)\u001b[0m\u001b[0;34m)\u001b[0m\u001b[0;34m)\u001b[0m\u001b[0;34m\u001b[0m\u001b[0m\n\u001b[1;32m    383\u001b[0m \u001b[0;34m\u001b[0m\u001b[0m\n",
      "\u001b[0;31mTypeError\u001b[0m: iteration over a 0-d tensor"
     ]
    }
   ],
   "source": [
    "    #grads = grad(loss, model.parameters(), create_graph=True)[0]\n",
    "    for grd in grads:\n",
    "        print(grd)\n",
    "        \n",
    "        \n",
    "        "
   ]
  },
  {
   "cell_type": "code",
   "execution_count": 8,
   "metadata": {},
   "outputs": [],
   "source": [
    "from pathlib import Path"
   ]
  },
  {
   "cell_type": "code",
   "execution_count": 9,
   "metadata": {},
   "outputs": [],
   "source": [
    "home = str(Path.home())"
   ]
  },
  {
   "cell_type": "code",
   "execution_count": 10,
   "metadata": {},
   "outputs": [
    {
     "data": {
      "text/plain": [
       "'/Users/zihengchen'"
      ]
     },
     "execution_count": 10,
     "metadata": {},
     "output_type": "execute_result"
    }
   ],
   "source": [
    "home"
   ]
  },
  {
   "cell_type": "code",
   "execution_count": null,
   "metadata": {},
   "outputs": [],
   "source": []
  }
 ],
 "metadata": {
  "kernelspec": {
   "display_name": "Python 3",
   "language": "python",
   "name": "python3"
  },
  "language_info": {
   "codemirror_mode": {
    "name": "ipython",
    "version": 3
   },
   "file_extension": ".py",
   "mimetype": "text/x-python",
   "name": "python",
   "nbconvert_exporter": "python",
   "pygments_lexer": "ipython3",
   "version": "3.6.4"
  }
 },
 "nbformat": 4,
 "nbformat_minor": 2
}
