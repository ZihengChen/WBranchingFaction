{
 "cells": [
  {
   "cell_type": "code",
   "execution_count": 50,
   "metadata": {},
   "outputs": [],
   "source": [
    "from pylab import *\n",
    "from utility_bfsolver3D import *\n",
    "from utility_error import *\n",
    "\n",
    "%matplotlib inline\n",
    "plt.style.use('classic')\n",
    "plt.rc(\"figure\",facecolor=\"w\",figsize=(6,4))\n",
    "plt.rc(\"font\",size=12)\n",
    "\n",
    "tb = BFCalc3D_Toolbox()\n",
    "er = BFCalc3D_Error()"
   ]
  },
  {
   "cell_type": "markdown",
   "metadata": {},
   "source": [
    "# 1. Try One Case"
   ]
  },
  {
   "cell_type": "code",
   "execution_count": 2,
   "metadata": {},
   "outputs": [
    {
     "data": {
      "image/png": "[encoded data removed]",
      "text/plain": [
       "<matplotlib.figure.Figure at 0x151883a400>"
      ]
     },
     "metadata": {},
     "output_type": "display_data"
    }
   ],
   "source": [
    "# defining bfCalc\n",
    "trigger,tag = \"e\",\"2b\"\n",
    "a,aVar         = tb.GetAcc  (trigger,tag,\"isrup\")\n",
    "ndata,ndataVar = tb.GetNData(trigger,tag)\n",
    "nmcbg,nmcbgVar = tb.GetNMcbg(trigger,tag)\n",
    "nfake,nfakeVar = tb.GetNFake(trigger,tag)\n",
    "\n",
    "tb.Plot_Imshow4Matrix(a,trigger)\n",
    "plt.savefig(\"../plot/acceptance/{}{}.png\".format(trigger,tag),dpi=300)"
   ]
  },
  {
   "cell_type": "markdown",
   "metadata": {},
   "source": [
    "# 2. Calculate Statistical Error"
   ]
  },
  {
   "cell_type": "code",
   "execution_count": 3,
   "metadata": {
    "scrolled": true
   },
   "outputs": [
    {
     "name": "stderr",
     "output_type": "stream",
     "text": [
      "mu-1b: 100%|██████████| 100/100 [00:07<00:00, 13.35it/s]\n",
      "mu-2b: 100%|██████████| 100/100 [00:07<00:00, 12.62it/s]\n",
      "e-1b: 100%|██████████| 100/100 [00:07<00:00, 14.47it/s]\n",
      "e-2b: 100%|██████████| 100/100 [00:06<00:00, 15.62it/s]\n",
      "mu-1b: 100%|██████████| 100/100 [00:07<00:00, 14.19it/s]\n",
      "mu-2b: 100%|██████████| 100/100 [00:06<00:00, 14.33it/s]\n",
      "e-1b: 100%|██████████| 100/100 [00:06<00:00, 14.52it/s]\n",
      "e-2b: 100%|██████████| 100/100 [00:06<00:00, 15.26it/s]\n",
      "mu-1b: 100%|██████████| 100/100 [00:07<00:00, 14.09it/s]\n",
      "mu-2b: 100%|██████████| 100/100 [00:06<00:00, 14.48it/s]\n",
      "e-1b: 100%|██████████| 100/100 [00:06<00:00, 15.43it/s]\n",
      "e-2b: 100%|██████████| 100/100 [00:05<00:00, 16.57it/s]\n",
      "mu-1b: 100%|██████████| 100/100 [00:06<00:00, 15.36it/s]\n",
      "mu-2b: 100%|██████████| 100/100 [00:06<00:00, 15.18it/s]\n",
      "e-1b: 100%|██████████| 100/100 [00:07<00:00, 12.87it/s]\n",
      "e-2b: 100%|██████████| 100/100 [00:07<00:00, 14.49it/s]\n"
     ]
    }
   ],
   "source": [
    "statistcal = [ er.errStat(100,source) for source in [\"data\",\"mcbg\",\"fake\",\"mcsg\"] ]"
   ]
  },
  {
   "cell_type": "code",
   "execution_count": 2,
   "metadata": {},
   "outputs": [],
   "source": [
    "sysCrossSection = [ er.errSystem_CrossSection(source) for source in [\"mcbg\",\"fake\",\"mcsg\"] ]\n",
    "sysObjectEff = [ er.errSystem_ObjectEff(source) for source in [\"e\",\"mu\",\"tau\"] ]\n",
    "sysTTTheory = [ er.errSystem_TTTheory(source) for source in [\"isrup\",\"fsrup\",\"up\",\"hdampup\"] ]"
   ]
  },
  {
   "cell_type": "code",
   "execution_count": 3,
   "metadata": {},
   "outputs": [],
   "source": [
    "statistcal = [\n",
    " array([[0.00059531, 0.00053356, 0.00128681],\n",
    "        [0.00100124, 0.00094273, 0.00225405],\n",
    "        [0.00077762, 0.00052594, 0.00144344],\n",
    "        [0.00136686, 0.00105694, 0.00252028]]),\n",
    " array([[6.27927072e-05, 1.43300027e-04, 3.27327944e-04],\n",
    "        [5.77537900e-05, 1.27510055e-04, 2.20138981e-04],\n",
    "        [1.69834468e-04, 7.25365815e-05, 3.92492339e-04],\n",
    "        [1.67043616e-04, 7.65263745e-05, 2.89495977e-04]]),\n",
    " array([[3.04986154e-05, 3.57147994e-05, 1.70075254e-04],\n",
    "        [3.81131511e-05, 4.32860901e-05, 2.19111504e-04],\n",
    "        [1.80411242e-16, 2.08166817e-16, 2.08166817e-16],\n",
    "        [2.08166817e-16, 1.38777878e-16, 1.80411242e-16]]),\n",
    " array([[0.00030539, 0.00025501, 0.00070532],\n",
    "        [0.00048078, 0.00040015, 0.00095557],\n",
    "        [0.0003701 , 0.00030923, 0.00079832],\n",
    "        [0.00057612, 0.00043863, 0.00099049]])\n",
    "]\n",
    "err = np.array(statistcal+sysCrossSection+sysObjectEff+sysTTTheory).transpose(1,0,2)"
   ]
  },
  {
   "cell_type": "code",
   "execution_count": 71,
   "metadata": {},
   "outputs": [],
   "source": [
    "for cata,cataname in enumerate([\"mu1b\",\"mu2b\",\"e1b\",\"e2b\"]):\n",
    "    error = np.abs(err[cata])\n",
    "\n",
    "    x = 0.1086 * np.ones_like(error)\n",
    "    y = np.arange(error.shape[0])[::-1]*2\n",
    "    plt.figure(figsize=(3,0.4*y.max()))\n",
    "\n",
    "    plt.errorbar(x[:,0],y+0.3,xerr=error[:,0], fmt='.',color='C0')\n",
    "    plt.errorbar(x[:,1],y-0.0,xerr=error[:,1], fmt='.',color='C1')\n",
    "    plt.errorbar(x[:,2],y-0.3,xerr=error[:,2], fmt='.',color='C2')\n",
    "\n",
    "    for i in range(error.shape[0]):\n",
    "        plt.text(0.114,y[i]+0.4,\"{:4.4f}\".format(error[i,0]),fontsize=8,color='C0')\n",
    "        plt.text(0.114,y[i]-0.1  ,\"{:4.4f}\".format(error[i,1]),fontsize=8,color='C1')\n",
    "        plt.text(0.114,y[i]-0.6,\"{:4.4f}\".format(error[i,2]),fontsize=8,color='C2')\n",
    "\n",
    "    plt.xlim(0.104,0.118)\n",
    "    plt.ylim(-2,y.max()+2)\n",
    "    #plt.axvline(x=0.1086,c=\"k\")\n",
    "    plt.yticks([])\n",
    "    #plt.xticks([])\n",
    "    plt.savefig(\"../plot/error/{}.png\".format(cataname),dpi=300)\n",
    "    plt.close()"
   ]
  },
  {
   "cell_type": "code",
   "execution_count": 9,
   "metadata": {},
   "outputs": [
    {
     "data": {
      "text/plain": [
       "(14, 3)"
      ]
     },
     "execution_count": 9,
     "metadata": {},
     "output_type": "execute_result"
    }
   ],
   "source": [
    "error = err[0]\n",
    "error.shape"
   ]
  },
  {
   "cell_type": "code",
   "execution_count": 16,
   "metadata": {},
   "outputs": [
    {
     "data": {
      "text/plain": [
       "array([[0.00083032, 0.00090409, 0.00152659],\n",
       "       [0.00129671, 0.00096686, 0.00244292],\n",
       "       [0.00095404, 0.00073202, 0.00184926],\n",
       "       [0.00146738, 0.00113336, 0.00296476]])"
      ]
     },
     "execution_count": 16,
     "metadata": {},
     "output_type": "execute_result"
    }
   ],
   "source": [
    "a"
   ]
  },
  {
   "cell_type": "code",
   "execution_count": null,
   "metadata": {},
   "outputs": [],
   "source": []
  }
 ],
 "metadata": {
  "kernelspec": {
   "display_name": "Python 3",
   "language": "python",
   "name": "python3"
  },
  "language_info": {
   "codemirror_mode": {
    "name": "ipython",
    "version": 3
   },
   "file_extension": ".py",
   "mimetype": "text/x-python",
   "name": "python",
   "nbconvert_exporter": "python",
   "pygments_lexer": "ipython3",
   "version": "3.6.4"
  }
 },
 "nbformat": 4,
 "nbformat_minor": 2
}
