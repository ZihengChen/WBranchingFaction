{
 "cells": [
  {
   "cell_type": "code",
   "execution_count": 1,
   "metadata": {},
   "outputs": [],
   "source": [
    "from utility_dfplotter import *"
   ]
  },
  {
   "cell_type": "markdown",
   "metadata": {},
   "source": [
    "# 1. Plot Nominal Distriubitons"
   ]
  },
  {
   "cell_type": "code",
   "execution_count": 2,
   "metadata": {},
   "outputs": [
    {
     "name": "stdout",
     "output_type": "stream",
     "text": [
      "making plots -- etau nbjet>1: 33/33\n"
     ]
    }
   ],
   "source": [
    "def plotDataFrames():\n",
    "    for seletion in [\"mutau\",\"etau\"]:\n",
    "    #for seletion in [\"emu\",\"mumu\",\"mutau\",\"mu4j\",\"ee\",\"emu2\",\"etau\",\"e4j\",\"mu4j_fakes\",\"e4j_fakes\"]:\n",
    "        for nbjet in [\"==1\",\">1\"]:\n",
    "            plotter = DFPlotter(seletion,nbjet)\n",
    "            plotter.plotKinematics()\n",
    "plotDataFrames()"
   ]
  },
  {
   "cell_type": "markdown",
   "metadata": {},
   "source": [
    "# 2. Plot Systematics"
   ]
  },
  {
   "cell_type": "code",
   "execution_count": 4,
   "metadata": {},
   "outputs": [
    {
     "name": "stdout",
     "output_type": "stream",
     "text": [
      "making plots -- e4j nbjet>=1: 24/24\n"
     ]
    }
   ],
   "source": [
    "for s in [\"emu\",\"mumu\",\"mutau\",\"mu4j\",\"ee\",\"emu2\",\"etau\",\"e4j\"]:\n",
    "    sp = SystematicPlotter(s,\">=1\",'FSR')\n",
    "    sp.plotKinematics()"
   ]
  },
  {
   "cell_type": "code",
   "execution_count": 3,
   "metadata": {},
   "outputs": [
    {
     "name": "stdout",
     "output_type": "stream",
     "text": [
      "making plots -- mutau nbjet>=1: 33/33\n"
     ]
    }
   ],
   "source": [
    "    sp = SystematicPlotter(\"mutau\",\">=1\",'FSR')\n",
    "    sp.plotKinematics()"
   ]
  },
  {
   "cell_type": "code",
   "execution_count": null,
   "metadata": {},
   "outputs": [],
   "source": []
  }
 ],
 "metadata": {
  "kernelspec": {
   "display_name": "Python 3",
   "language": "python",
   "name": "python3"
  },
  "language_info": {
   "codemirror_mode": {
    "name": "ipython",
    "version": 3
   },
   "file_extension": ".py",
   "mimetype": "text/x-python",
   "name": "python",
   "nbconvert_exporter": "python",
   "pygments_lexer": "ipython3",
   "version": "3.6.4"
  }
 },
 "nbformat": 4,
 "nbformat_minor": 2
}
