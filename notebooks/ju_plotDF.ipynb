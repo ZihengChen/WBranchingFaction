{
 "cells": [
  {
   "cell_type": "code",
   "execution_count": 1,
   "metadata": {},
   "outputs": [],
   "source": [
    "from utility_dfplotter import *"
   ]
  },
  {
   "cell_type": "markdown",
   "metadata": {},
   "source": [
    "# 1. Plot Nominal Distriubitons"
   ]
  },
  {
   "cell_type": "code",
   "execution_count": 2,
   "metadata": {},
   "outputs": [],
   "source": [
    "def plotDataFrames():#\n",
    "    for selection in [\"emu\",\"mumu\",\"mutau\",\"ee\",\"emu2\",\"etau\",\"e4j\",\"mu4j\",\"mu4j_fakes\",\"e4j_fakes\",\"mutau_fakes\",\"etau_fakes\"]:\n",
    "        for nbjet in [\"==1\",\">1\"]:\n",
    "            plotter = DFPlotter(selection,nbjet)\n",
    "            plotter.plotKinematics()\n",
    "plotDataFrames()"
   ]
  },
  {
   "cell_type": "code",
   "execution_count": 2,
   "metadata": {},
   "outputs": [
    {
     "name": "stdout",
     "output_type": "stream",
     "text": [
      "making plots -- mumuc nbjet>1: 33/33\n"
     ]
    }
   ],
   "source": [
    "# plot control regions\n",
    "for selection in ['etau','mutau']:\n",
    "    plotter = DFPlotter(selection,'<1')\n",
    "    plotter.plotKinematics()\n",
    "for selection in ['eec','mumuc']:\n",
    "    for nbjet in [\"<1\",\"==1\",\">1\"]:\n",
    "        plotter = DFPlotter(selection,nbjet)\n",
    "        plotter.plotKinematics()"
   ]
  },
  {
   "cell_type": "markdown",
   "metadata": {},
   "source": [
    "# --- Backup ---"
   ]
  },
  {
   "cell_type": "code",
   "execution_count": 1,
   "metadata": {},
   "outputs": [],
   "source": [
    "# names = [\"mcdiboson\",\"mcw\",'mct','mctt',\"mcz\",\"data2016\"]\n",
    "\n",
    "# selection = 'etau0'\n",
    "# dfList = [DFCutter(selection, '', name ).getDataFrame() for name in names]\n",
    "\n",
    "# Fake = pd.DataFrame()\n",
    "# for name in names:\n",
    "#     temp =  DFCutter(selection+'_fakes', '', name).getDataFrame()\n",
    "#     if not name == 'data2016':\n",
    "#         temp.eventWeight = -1*temp.eventWeight\n",
    "#     Fake = Fake.append(temp,ignore_index=True)\n",
    "\n",
    "# dfList = [Fake] + dfList"
   ]
  },
  {
   "cell_type": "code",
   "execution_count": 2,
   "metadata": {},
   "outputs": [],
   "source": [
    "# v,a,b,step,xl = 'dilepton_mass',80,100,1,'lepton2_pt'\n",
    "\n",
    "# mybins = np.arange(a,b,step)\n",
    "# center = mybins[1:] - step/2\n",
    "\n",
    "# hmc = plt.hist( [dfList[i][v].values for i in range(1)], bins = mybins,\n",
    "#          weights = [dfList[i]['eventWeight'].values for i in range(1)], \n",
    "#          stacked=True)[0]\n",
    "\n",
    "# hdata = np.histogram( dfList[-1][v].values, bins = mybins )[0]\n",
    "# plt.errorbar(center,hdata,yerr = hdata**0.5,color ='k',fmt='.',markersize=10)\n",
    "# plt.yscale('log')"
   ]
  },
  {
   "cell_type": "code",
   "execution_count": null,
   "metadata": {},
   "outputs": [],
   "source": []
  }
 ],
 "metadata": {
  "kernelspec": {
   "display_name": "Python 3",
   "language": "python",
   "name": "python3"
  },
  "language_info": {
   "codemirror_mode": {
    "name": "ipython",
    "version": 3
   },
   "file_extension": ".py",
   "mimetype": "text/x-python",
   "name": "python",
   "nbconvert_exporter": "python",
   "pygments_lexer": "ipython3",
   "version": "3.6.4"
  }
 },
 "nbformat": 4,
 "nbformat_minor": 2
}
