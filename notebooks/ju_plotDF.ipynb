{
 "cells": [
  {
   "cell_type": "code",
   "execution_count": 1,
   "metadata": {},
   "outputs": [],
   "source": [
    "from utility_dfplotter import *"
   ]
  },
  {
   "cell_type": "markdown",
   "metadata": {},
   "source": [
    "# 1. Plot Nominal Distriubitons"
   ]
  },
  {
   "cell_type": "code",
   "execution_count": 4,
   "metadata": {},
   "outputs": [
    {
     "name": "stdout",
     "output_type": "stream",
     "text": [
      "making plots -- e4j_fakes nbjet>1: 24/24\n"
     ]
    }
   ],
   "source": [
    "def plotDataFrames():\n",
    "    #for seletion in [\"mutau\",\"etau\"]:\"e4j\",\"mu4j_fakes\",\"e4j_fakes\",\"mu4j\",\n",
    "    for seletion in [\"emu\",\"mumu\",\"mutau\",\"ee\",\"emu2\",\"etau\",\"e4j\",\"mu4j\",\"mu4j_fakes\",\"e4j_fakes\"]:\n",
    "        for nbjet in [\"==1\",\">1\"]:\n",
    "            plotter = DFPlotter(seletion,nbjet)\n",
    "            plotter.plotKinematics()\n",
    "plotDataFrames()"
   ]
  },
  {
   "cell_type": "markdown",
   "metadata": {},
   "source": [
    "# 2. Plot Systematics"
   ]
  },
  {
   "cell_type": "code",
   "execution_count": 4,
   "metadata": {},
   "outputs": [
    {
     "name": "stdout",
     "output_type": "stream",
     "text": [
      "making plots -- e4j nbjet>=1: 24/24\n"
     ]
    }
   ],
   "source": [
    "for s in [\"emu\",\"mumu\",\"mutau\",\"mu4j\",\"ee\",\"emu2\",\"etau\",\"e4j\"]:\n",
    "    sp = SystematicPlotter(s,\">=1\",'FSR')\n",
    "    sp.plotKinematics()"
   ]
  },
  {
   "cell_type": "code",
   "execution_count": 3,
   "metadata": {},
   "outputs": [
    {
     "name": "stdout",
     "output_type": "stream",
     "text": [
      "making plots -- e4j nbjet==1: 24/24\n"
     ]
    }
   ],
   "source": [
    "    sp = DFPlotter(\"e4j\",\"==1\")\n",
    "    sp.plotKinematics()"
   ]
  },
  {
   "cell_type": "code",
   "execution_count": 5,
   "metadata": {},
   "outputs": [
    {
     "name": "stdout",
     "output_type": "stream",
     "text": [
      "$\\eta$\n"
     ]
    }
   ],
   "source": []
  },
  {
   "cell_type": "code",
   "execution_count": 15,
   "metadata": {},
   "outputs": [],
   "source": [
    "Fake = pd.DataFrame()$ p^T_{jet1,jet2} / m_{jet1,jet2} $"
   ]
  },
  {
   "cell_type": "code",
   "execution_count": 3,
   "metadata": {},
   "outputs": [],
   "source": [
    "temp = DFCutter(\"e4j_fakes\", \"==1\", 'mctt').getDataFrame('')"
   ]
  },
  {
   "cell_type": "code",
   "execution_count": 4,
   "metadata": {},
   "outputs": [
    {
     "ename": "NameError",
     "evalue": "name 'Fake' is not defined",
     "output_type": "error",
     "traceback": [
      "\u001b[0;31m---------------------------------------------------------------------------\u001b[0m",
      "\u001b[0;31mNameError\u001b[0m                                 Traceback (most recent call last)",
      "\u001b[0;32m<ipython-input-4-9f4271163369>\u001b[0m in \u001b[0;36m<module>\u001b[0;34m()\u001b[0m\n\u001b[0;32m----> 1\u001b[0;31m \u001b[0mFake\u001b[0m \u001b[0;34m=\u001b[0m \u001b[0mFake\u001b[0m\u001b[0;34m.\u001b[0m\u001b[0mappend\u001b[0m\u001b[0;34m(\u001b[0m\u001b[0mtemp\u001b[0m\u001b[0;34m,\u001b[0m\u001b[0mignore_index\u001b[0m\u001b[0;34m=\u001b[0m\u001b[0;32mTrue\u001b[0m\u001b[0;34m)\u001b[0m\u001b[0;34m\u001b[0m\u001b[0m\n\u001b[0m",
      "\u001b[0;31mNameError\u001b[0m: name 'Fake' is not defined"
     ]
    }
   ],
   "source": [
    "Fake = Fake.append(temp,ignore_index=True)"
   ]
  },
  {
   "cell_type": "code",
   "execution_count": null,
   "metadata": {},
   "outputs": [],
   "source": []
  }
 ],
 "metadata": {
  "kernelspec": {
   "display_name": "Python 3",
   "language": "python",
   "name": "python3"
  },
  "language_info": {
   "codemirror_mode": {
    "name": "ipython",
    "version": 3
   },
   "file_extension": ".py",
   "mimetype": "text/x-python",
   "name": "python",
   "nbconvert_exporter": "python",
   "pygments_lexer": "ipython3",
   "version": "3.6.4"
  }
 },
 "nbformat": 4,
 "nbformat_minor": 2
}
