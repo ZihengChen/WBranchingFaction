{
 "cells": [
  {
   "cell_type": "code",
   "execution_count": 1,
   "metadata": {},
   "outputs": [],
   "source": [
    "from utility_dfplotter import *"
   ]
  },
  {
   "cell_type": "markdown",
   "metadata": {},
   "source": [
    "# 1. Plot All Kinematics"
   ]
  },
  {
   "cell_type": "code",
   "execution_count": null,
   "metadata": {},
   "outputs": [],
   "source": [
    "def plotDataFrames():\n",
    "    for seletion in [\"emu\",\"mumu\",\"mutau\",\"mu4j\",\"ee\",\"emu2\",\"etau\",\"e4j\"]:\n",
    "        for nbjet in [\"==1\",\">1\"]:\n",
    "            plotter = DFPlotter(seletion,nbjet)\n",
    "            plotter.plotKinematics()\n",
    "plotDataFrames()"
   ]
  },
  {
   "cell_type": "markdown",
   "metadata": {},
   "source": [
    "# 2. Make Demo Plots"
   ]
  },
  {
   "cell_type": "code",
   "execution_count": 21,
   "metadata": {},
   "outputs": [],
   "source": [
    "v,a,b,step,xl = \"lepton1_pt\",0,200,5,\"lepton1_pt\"\n",
    "tr = \"e\"\n",
    "plotter = DFPlotter(tr+'tau','==1')\n",
    " \n",
    "sk = ASingleKinematicPlot(v,a,b,step,plotter.getDataFrameList('ss'))\n",
    "sk.settingPlot(xl, plotter.labelList, plotter.colorList)\n",
    "sk.makePlot()\n",
    "fakeProfile = sk.hdata-sk.mctot\n",
    "sk.axes[0].bar(sk.center,fakeProfile,sk.step,bottom=sk.mctot,color=\"grey\",label=\"unmodeled \"+tr+\"j\" )\n",
    "sk.axes[0].legend()\n",
    "plt.savefig(tr+\"tau_ss.png\",dpi =300)\n",
    "plt.close()\n",
    "\n",
    "sk = ASingleKinematicPlot(v,a,b,step,plotter.getDataFrameList(''))\n",
    "sk.settingPlot(xl, plotter.labelList, plotter.colorList)\n",
    "sk.makePlot()\n",
    "sk.axes[0].bar(sk.center,fakeProfile/1.15,sk.step,bottom=sk.mctot,color=\"grey\",label=\"unmodeled \"+tr+\"j\" )\n",
    "sk.axes[0].legend()\n",
    "plt.savefig(tr+\"tau_os.png\",dpi =300)\n",
    "plt.close()"
   ]
  },
  {
   "cell_type": "code",
   "execution_count": 38,
   "metadata": {},
   "outputs": [],
   "source": [
    "fakeProfile = sk.hdata-sk.mctot"
   ]
  },
  {
   "cell_type": "code",
   "execution_count": 23,
   "metadata": {},
   "outputs": [
    {
     "data": {
      "text/plain": [
       "array([-1.00000000e+00, -1.00000000e+00, -1.00000000e+00, -1.00000000e+00,\n",
       "       -1.00000000e+00, -1.00000000e+00,  1.58414262e+02,  1.05757785e+02,\n",
       "        6.15076178e+01,  6.74549590e+01,  5.69652185e+01,  5.90822976e+01,\n",
       "        4.26870025e+01,  7.64271981e+01,  3.44036272e+01,  2.26018865e+01,\n",
       "        1.37224627e+00,  2.31671154e+01,  3.01520799e+01,  2.36737522e+00,\n",
       "        2.41857980e+01,  1.97872735e+01,  7.46596887e+00,  5.48515298e+00,\n",
       "       -9.26752293e-01,  5.34599265e+00, -3.32399978e+00, -2.48702963e+00,\n",
       "        2.38585589e+00,  7.12616601e-02,  1.06471268e+00,  1.40373214e-01,\n",
       "        3.52556199e+00, -2.55682318e-01, -8.34024140e-01,  8.81407211e-01,\n",
       "        2.54636220e+00,  2.62578977e+00, -2.06837572e+00])"
      ]
     },
     "execution_count": 23,
     "metadata": {},
     "output_type": "execute_result"
    }
   ],
   "source": [
    "fakeProfile"
   ]
  },
  {
   "cell_type": "code",
   "execution_count": null,
   "metadata": {},
   "outputs": [],
   "source": []
  }
 ],
 "metadata": {
  "kernelspec": {
   "display_name": "Python 3",
   "language": "python",
   "name": "python3"
  },
  "language_info": {
   "codemirror_mode": {
    "name": "ipython",
    "version": 3
   },
   "file_extension": ".py",
   "mimetype": "text/x-python",
   "name": "python",
   "nbconvert_exporter": "python",
   "pygments_lexer": "ipython3",
   "version": "3.6.4"
  }
 },
 "nbformat": 4,
 "nbformat_minor": 2
}
