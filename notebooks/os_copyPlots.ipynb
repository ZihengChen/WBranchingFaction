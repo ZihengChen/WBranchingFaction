{
 "cells": [
  {
   "cell_type": "code",
   "execution_count": 1,
   "metadata": {},
   "outputs": [],
   "source": [
    "import glob\n",
    "import os, sys\n",
    "import utility_common as common\n",
    "from shutil import copyfile"
   ]
  },
  {
   "cell_type": "code",
   "execution_count": 2,
   "metadata": {},
   "outputs": [],
   "source": [
    "baseDir = common.getBaseDirectory() \n",
    "\n",
    "for tr in ['e','mu']:\n",
    "    for v in ['lepton1_eta','lepton1_pt','lepton2_eta','lepton2_pt']:\n",
    "        files = glob.glob(baseDir + 'plots/kinematics/{}*/*/*{}*'.format(tr,v))\n",
    "        dstDir = baseDir + 'plots/plots_kinematics/'\n",
    "        common.makeDirectory(dstDir,clear=False)\n",
    "\n",
    "        for f in files:\n",
    "            fdir, fname = os.path.split(f)\n",
    "            copyfile(f, dstDir+fname)"
   ]
  },
  {
   "cell_type": "code",
   "execution_count": 11,
   "metadata": {},
   "outputs": [
    {
     "data": {
      "text/plain": [
       "('/Users/zihengchen/Documents/Analysis/workplace/plots/kinematics/emu2/1b',\n",
       " 'emu2_1b_lepton1_pt.pdf')"
      ]
     },
     "execution_count": 11,
     "metadata": {},
     "output_type": "execute_result"
    }
   ],
   "source": []
  },
  {
   "cell_type": "code",
   "execution_count": null,
   "metadata": {},
   "outputs": [],
   "source": []
  }
 ],
 "metadata": {
  "kernelspec": {
   "display_name": "Python 3",
   "language": "python",
   "name": "python3"
  },
  "language_info": {
   "codemirror_mode": {
    "name": "ipython",
    "version": 3
   },
   "file_extension": ".py",
   "mimetype": "text/x-python",
   "name": "python",
   "nbconvert_exporter": "python",
   "pygments_lexer": "ipython3",
   "version": "3.6.4"
  }
 },
 "nbformat": 4,
 "nbformat_minor": 2
}
