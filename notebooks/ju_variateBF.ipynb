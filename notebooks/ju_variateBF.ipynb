{
 "cells": [
  {
   "cell_type": "code",
   "execution_count": 1,
   "metadata": {},
   "outputs": [],
   "source": [
    "from utility_bfvariater import *\n",
    "import utility_common as common\n",
    "\n",
    "# creat a BF variater\n",
    "er = BFVariater()"
   ]
  },
  {
   "cell_type": "markdown",
   "metadata": {},
   "source": [
    "# 1. Central Value"
   ]
  },
  {
   "cell_type": "code",
   "execution_count": 2,
   "metadata": {},
   "outputs": [
    {
     "name": "stdout",
     "output_type": "stream",
     "text": [
      "save conteral values\n",
      "[0.10943673 0.10941644 0.10394225 0.11246562 0.10990513 0.1035801\n",
      " 0.1062045  0.10766957 0.1048981  0.1089431  0.10940331 0.10474677]\n"
     ]
    }
   ],
   "source": [
    "def saveCentralValues(er):\n",
    "    print( \"save conteral values\")\n",
    "\n",
    "    contralValue = []\n",
    "    for i in range(4):\n",
    "\n",
    "        ndata = er.ndata[i]\n",
    "        nmcbg = er.nmcbg[i].dot(np.ones(3))\n",
    "        nfake = er.nfake[i]\n",
    "        a = np.sum(er.a[i] * er.ca, axis=1)\n",
    "\n",
    "        slv0 = BFSolver3D(a)\n",
    "        br0 = slv0.solveQuadEqn(slv0.setMeasuredX(nData=ndata, nMcbg=nmcbg+nfake))\n",
    "        contralValue.append(br0)\n",
    "    contralValue = np.array(contralValue).reshape(12)\n",
    "\n",
    "    baseDir = common.getBaseDirectory() \n",
    "\n",
    "    print(contralValue)\n",
    "\n",
    "    np.save(baseDir+'/data/combine/centralValue',contralValue)\n",
    "saveCentralValues(er)"
   ]
  },
  {
   "cell_type": "markdown",
   "metadata": {},
   "source": [
    "# 2. uncertainty"
   ]
  },
  {
   "cell_type": "markdown",
   "metadata": {},
   "source": [
    "### 2.1 Statistical Uncertainty"
   ]
  },
  {
   "cell_type": "code",
   "execution_count": 3,
   "metadata": {},
   "outputs": [
    {
     "name": "stdout",
     "output_type": "stream",
     "text": [
      "relative statistical uncertainty [%]\n",
      "0.553,0.516,1.217, 0.985,0.867,2.009, 0.769,0.554,1.442, 1.346,0.968,2.421\n",
      "0.130,0.526,0.575, 0.137,0.498,0.612, 0.622,0.176,0.686, 0.633,0.173,0.681\n",
      "0.166,0.147,0.397, 0.260,0.222,0.578, 0.223,0.170,0.479, 0.350,0.255,0.673\n"
     ]
    }
   ],
   "source": [
    "def saveStatError(er):\n",
    "    print( \"relative statistical uncertainty [%]\")\n",
    "\n",
    "    stat_sigma, stat_covar = [],[]\n",
    "\n",
    "    for source in [\"data\",\"mcbg\",\"mcsg\"]:\n",
    "        sigma, variance_raw = er.errStat(source,returnCovar=True)\n",
    "        # reshape 4x3x3 to 12x12\n",
    "        variance = np.zeros([12,12])\n",
    "        for c in range(4):\n",
    "            for i in range(3):\n",
    "                for j in range(3):\n",
    "                    variance[c*3+i,c*3+j] = variance_raw[c,i,j]\n",
    "                    \n",
    "        stat_sigma.append(sigma)\n",
    "        stat_covar.append(variance)\n",
    "\n",
    "    stat_sigma = np.array(stat_sigma)  \n",
    "    stat_covar = np.array(stat_covar) \n",
    "\n",
    "    er.io_printErrorForExcelFormat(stat_sigma.transpose(1,0,2))\n",
    "\n",
    "    s = stat_sigma.shape\n",
    "    stat_sigma = stat_sigma.reshape(s[0],s[1]*s[2])\n",
    "\n",
    "    baseDir = common.getBaseDirectory() \n",
    "    np.save(baseDir+'/data/combine/stat_sigma',stat_sigma)\n",
    "    np.save(baseDir+'/data/combine/stat_covar',stat_covar)\n",
    "\n",
    "saveStatError(er)"
   ]
  },
  {
   "cell_type": "markdown",
   "metadata": {},
   "source": [
    "### 2.2 Systematical Uncertainty"
   ]
  },
  {
   "cell_type": "code",
   "execution_count": 4,
   "metadata": {},
   "outputs": [
    {
     "name": "stdout",
     "output_type": "stream",
     "text": [
      "relative systematics uncertainty [%]\n",
      "0.002,0.019,0.030, 0.002,0.019,0.030, 0.002,0.019,0.029, 0.002,0.019,0.029\n",
      "0.048,0.017,0.101, 0.049,0.017,0.101, 0.032,0.014,0.102, 0.031,0.014,0.102\n",
      "0.145,0.243,0.031, 0.048,0.069,0.013, 0.101,0.134,0.070, 0.006,0.047,0.010\n",
      "0.009,0.001,0.109, 0.003,0.012,0.052, 0.018,0.007,0.111, 0.008,0.002,0.004\n",
      "0.010,0.001,0.114, 0.003,0.013,0.055, 0.018,0.008,0.116, 0.009,0.002,0.004\n",
      "0.156,0.159,0.142, 0.052,0.051,0.043, 0.152,0.154,0.162, 0.050,0.048,0.073\n",
      "0.271,1.272,0.148, 0.085,0.369,0.028, 0.692,0.228,0.038, 0.120,0.092,0.104\n",
      "0.001,0.020,0.011, 0.001,0.008,0.004, 0.017,0.001,0.008, 0.006,0.001,0.001\n",
      "0.000,0.000,0.000, 0.000,0.000,0.000, 0.374,0.364,0.749, 0.195,0.187,0.329\n",
      "0.622,0.607,1.231, 0.405,0.384,0.672, 0.000,0.000,0.000, 0.000,0.000,0.000\n",
      "0.000,0.000,0.000, 0.000,0.000,0.000, 0.194,0.316,1.667, 0.101,0.166,0.898\n",
      "0.252,0.339,1.724, 0.146,0.193,1.003, 0.000,0.000,0.000, 0.000,0.000,0.000\n",
      "0.002,0.000,0.023, 0.001,0.003,0.011, 0.004,0.002,0.023, 0.002,0.000,0.001\n",
      "0.574,0.053,0.043, 0.582,0.053,0.042, 0.602,0.091,0.060, 0.557,0.068,0.046\n",
      "1.387,0.128,0.104, 1.414,0.129,0.103, 1.423,0.168,0.172, 1.323,0.115,0.128\n",
      "0.010,0.107,0.012, 0.007,0.094,0.011, 0.008,0.077,0.007, 0.008,0.077,0.007\n",
      "0.026,0.409,0.049, 0.014,0.359,0.040, 0.031,0.295,0.029, 0.031,0.294,0.028\n",
      "0.739,0.997,5.069, 0.714,0.947,4.919, 0.588,0.958,5.060, 0.563,0.927,5.002\n",
      "0.379,0.511,2.597, 0.270,0.358,1.861, 0.300,0.488,2.578, 0.209,0.343,1.854\n",
      "0.233,0.021,0.018, 0.214,0.019,0.016, 0.318,0.191,0.028, 0.313,0.212,0.039\n",
      "0.095,0.111,0.022, 0.109,0.081,0.008, 0.011,0.110,0.011, 0.013,0.121,0.012\n",
      "0.033,0.045,0.228, 0.030,0.040,0.209, 0.026,0.042,0.222, 0.026,0.043,0.230\n",
      "0.085,0.115,0.583, 0.069,0.092,0.479, 0.055,0.089,0.471, 0.061,0.101,0.545\n",
      "0.023,0.032,0.161, 0.029,0.039,0.201, 0.018,0.029,0.152, 0.018,0.030,0.161\n",
      "0.220,0.020,0.016, 0.224,0.020,0.016, 0.038,0.006,0.008, 0.048,0.002,0.012\n",
      "0.492,0.045,0.037, 0.504,0.046,0.037, 0.085,0.034,0.038, 0.058,0.003,0.019\n",
      "0.009,0.012,0.051, 0.009,0.011,0.049, 0.007,0.011,0.050, 0.008,0.012,0.053\n",
      "0.019,0.025,0.107, 0.020,0.026,0.112, 0.017,0.025,0.113, 0.017,0.024,0.108\n",
      "0.023,0.030,0.130, 0.022,0.029,0.125, 0.019,0.029,0.127, 0.020,0.030,0.134\n",
      "0.016,0.021,0.097, 0.017,0.023,0.104, 0.014,0.021,0.101, 0.014,0.020,0.100\n",
      "0.010,0.012,0.048, 0.009,0.012,0.044, 0.008,0.011,0.043, 0.009,0.012,0.053\n",
      "0.094,0.082,0.932, 0.255,0.071,0.653, 0.229,0.265,0.868, 0.282,0.102,0.610\n",
      "1.896,1.072,3.706, 1.830,1.418,2.631, 1.582,1.741,3.722, 1.615,1.645,2.735\n",
      "0.136,0.123,0.291, 0.146,0.137,0.231, 0.010,0.096,0.444, 0.268,0.143,0.055\n",
      "0.072,0.224,0.117, 0.175,0.010,0.150, 0.178,0.029,0.008, 0.118,0.212,0.075\n",
      "0.094,0.057,0.089, 0.121,0.103,0.134, 0.056,0.099,0.128, 0.131,0.135,0.150\n"
     ]
    }
   ],
   "source": [
    "def saveSystError(er):\n",
    "    print( \"relative systematics uncertainty [%]\")\n",
    "    syst_sigma, syst_covar = [],[]\n",
    "\n",
    "    for source in [\"BtmUp\",\"BteUp\"]:\n",
    "        sigma = er.errConstent(source)\n",
    "        variance = np.outer(sigma.reshape(1,12),sigma.reshape(1,12))\n",
    "        syst_sigma.append(sigma)\n",
    "        syst_covar.append(variance)\n",
    "        \n",
    "    for source in [\"lumin\",\"mctt\",\"mctw\",\"mcw\",'mcz','mcvv',\n",
    "                   \"fakee\",\"fakemu\",\"fakeetau\",\"fakemutau\"]:\n",
    "        sigma = er.errSystem_crossSection(source)\n",
    "        variance = np.outer(sigma.reshape(1,12),sigma.reshape(1,12))\n",
    "        syst_sigma.append(sigma)\n",
    "        syst_covar.append(variance)\n",
    "        \n",
    "        \n",
    "    for source in [\"TopPtReweight\",\"ERecoEff\",\"EIDEff\",\"MuRecoEff\",\"MuIDEff\",\"TauIDEff\",\"JetToTauIDEff\",\n",
    "                   \"EPt\",\"MuPt\",\"Tau0Pt\",\"Tau1Pt\",\"Tau10Pt\",\"ETriggerEffProbeSyst\",\"ETriggerEffTagSyst\"\n",
    "                  ]:\n",
    "        sigma = er.errSystem_downVariation(source)\n",
    "        variance = np.outer(sigma.reshape(1,12),sigma.reshape(1,12))\n",
    "        syst_sigma.append(sigma)\n",
    "        syst_covar.append(variance)\n",
    "        \n",
    "    for source in [\"tauReweight1000\",\"tauReweight11000\",\"tauReweight21000\",\n",
    "                   \"tauReweight3000\",\"tauReweight13000\"\n",
    "                  ]:\n",
    "        sigma = er.errSystem_upDownVariation(source)\n",
    "        variance = np.outer(sigma.reshape(1,12),sigma.reshape(1,12))\n",
    "        syst_sigma.append(sigma)\n",
    "        syst_covar.append(variance)\n",
    "        \n",
    "        \n",
    "    for source in [\"Pileup\",\"JES\",\"JER\",\"BTag\",\"Mistag\"]:\n",
    "        sigma = er.errSystem_upDownVariation(source)\n",
    "        variance = np.outer(sigma.reshape(1,12), sigma.reshape(1,12))\n",
    "        syst_sigma.append(sigma)\n",
    "        syst_covar.append(variance)      \n",
    "    \n",
    "#     for source in [\"fsr\",\"isr\",\"ue\",\"meps\"]:\n",
    "#         sigma = er.errSystem_upDownVariationCutResidue(source,cutResidue=3)\n",
    "#         variance = np.outer(sigma.reshape(1,12), sigma.reshape(1,12))\n",
    "#         syst_sigma.append(sigma)\n",
    "#         syst_covar.append(variance) \n",
    "    \n",
    "    syst_sigma = np.array(syst_sigma) \n",
    "    syst_covar = np.array(syst_covar) \n",
    "\n",
    "    er.io_printErrorForExcelFormat(syst_sigma.transpose(1,0,2))\n",
    "\n",
    "    s = syst_sigma.shape\n",
    "    syst_sigma = syst_sigma.reshape(s[0],s[1]*s[2])\n",
    "\n",
    "    baseDir = common.getBaseDirectory() \n",
    "    np.save(baseDir+'/data/combine/syst_sigma',syst_sigma)\n",
    "    np.save(baseDir+'/data/combine/syst_covar',syst_covar)\n",
    "\n",
    "saveSystError(er)"
   ]
  },
  {
   "cell_type": "markdown",
   "metadata": {},
   "source": [
    "# 3. output Latex Table"
   ]
  },
  {
   "cell_type": "code",
   "execution_count": 5,
   "metadata": {},
   "outputs": [],
   "source": [
    "%run -i '../scripts/note_uncertainty.py'"
   ]
  },
  {
   "cell_type": "code",
   "execution_count": null,
   "metadata": {
    "collapsed": true
   },
   "outputs": [],
   "source": [
    "#     for source in [\"e\",\"mu\",\"tauID\",'jetMisTauID']:\n",
    "#         sigma = er.errSystem_objectEff(source)\n",
    "#         variance = np.outer(sigma.reshape(1,12),sigma.reshape(1,12))\n",
    "#         syst_sigma.append(sigma)\n",
    "#         syst_covar.append(variance)"
   ]
  },
  {
   "cell_type": "code",
   "execution_count": 7,
   "metadata": {},
   "outputs": [
    {
     "data": {
      "text/plain": [
       "array([[-0.7546923 , -0.56336153, -0.78828602],\n",
       "       [-0.47845538, -0.79648906, -0.80230501],\n",
       "       [-0.79487902, -0.42558462, -0.6127878 ],\n",
       "       [-1.07588   , -1.00108001, -1.38707   ]])"
      ]
     },
     "execution_count": 7,
     "metadata": {},
     "output_type": "execute_result"
    }
   ],
   "source": [
    "sigma = er.errSystem_upDownVariation(\"fsr\")\n",
    "sigma/0.108*100"
   ]
  },
  {
   "cell_type": "code",
   "execution_count": 13,
   "metadata": {},
   "outputs": [
    {
     "data": {
      "text/plain": [
       "array([[ 0.61298784,  0.65726433,  1.38221063],\n",
       "       [ 0.92377239,  0.81140687,  0.91615779],\n",
       "       [ 0.10179913,  1.07960526,  0.69728675],\n",
       "       [ 0.13846273,  0.67379168, -0.1033589 ]])"
      ]
     },
     "execution_count": 13,
     "metadata": {},
     "output_type": "execute_result"
    }
   ],
   "source": [
    "sigma = er.errSystem_upDownVariation(\"isr\")\n",
    "sigma/0.108*100"
   ]
  },
  {
   "cell_type": "code",
   "execution_count": 15,
   "metadata": {},
   "outputs": [
    {
     "data": {
      "text/plain": [
       "array([[0.47650823, 0.46227043, 0.93861782],\n",
       "       [0.59470542, 0.33422956, 0.60685315],\n",
       "       [0.43530199, 0.43752446, 0.90269255],\n",
       "       [0.06995709, 0.06794519, 0.12052818]])"
      ]
     },
     "execution_count": 15,
     "metadata": {},
     "output_type": "execute_result"
    }
   ],
   "source": [
    "sigma = er.errSystem_upDownVariationCutResidue(\"isr\",3)\n",
    "sigma/0.108*100"
   ]
  },
  {
   "cell_type": "code",
   "execution_count": 43,
   "metadata": {
    "collapsed": true
   },
   "outputs": [],
   "source": [
    "counts = pd.read_pickle( \"../data/counts/count_.pkl\")"
   ]
  },
  {
   "cell_type": "code",
   "execution_count": 77,
   "metadata": {
    "collapsed": true
   },
   "outputs": [],
   "source": [
    "counts0 = pd.read_pickle( \"../data/counts/count_isrDown.pkl\")\n",
    "counts1 = pd.read_pickle( \"../data/counts/count_isrUp.pkl\")"
   ]
  },
  {
   "cell_type": "code",
   "execution_count": 68,
   "metadata": {},
   "outputs": [
    {
     "name": "stdout",
     "output_type": "stream",
     "text": [
      "$ee$                : 0.000, 0.000\n",
      "$\\mu\\mu$            : 0.962, 1.010\n",
      "$e\\mu$              : 0.945, 1.022\n",
      "$\\tau_e\\tau_e$      : 0.000, 0.000\n",
      "$\\tau_\\mu\\tau_\\mu$  : 0.000, 0.000\n",
      "$\\tau_e\\tau_\\mu$    : 0.000, 0.000\n",
      "$\\tau_e\\tau_h$      : 0.000, 0.000\n",
      "$\\tau_\\mu\\tau_h$    : 0.000, 0.000\n",
      "$\\tau_h\\tau_h$      : 0.000, 0.000\n",
      "$e\\tau_e$           : 0.000, 0.000\n",
      "$e\\tau_\\mu$         : 0.000, 0.000\n",
      "$e\\tau_h$           : 0.000, 0.000\n",
      "$\\mu\\tau_e$         : 0.920, 1.040\n",
      "$\\mu\\tau_\\mu$       : 0.943, 1.023\n",
      "$\\mu\\tau_h$         : 0.931, 1.033\n",
      "$eh$                : 0.528, 1.388\n",
      "$\\mu h$             : 0.916, 1.051\n",
      "$\\tau_eh$           : 0.000, 0.000\n",
      "$\\tau_\\mu h$        : 0.920, 1.060\n",
      "$\\tau_hh$           : 0.573, 1.419\n",
      "$hh$                : 0.502, 1.457\n"
     ]
    }
   ],
   "source": [
    "tr,ch,mc = 0,3,1\n",
    "\n",
    "acc = common.matrixToArray(counts.acc[tr][ch][mc])\n",
    "accUp = common.matrixToArray(counts1.acc[tr][ch][mc])\n",
    "accDown = common.matrixToArray(counts0.acc[tr][ch][mc])\n",
    "\n",
    "accVar = common.matrixToArray(counts.accVar[tr][ch][mc])\n",
    "accUpVar = common.matrixToArray(counts1.accVar[tr][ch][mc])\n",
    "accDownVar = common.matrixToArray(counts0.accVar[tr][ch][mc])\n",
    "\n",
    "resUp = abs(accUp-acc)/(accVar+accUpVar)**0.5\n",
    "resDown = abs(accDown-acc)/(accVar+accDownVar)**0.5\n",
    "\n",
    "name = common.WWBranchNames()\n",
    "for i in range(21):\n",
    "    sfUp,sfDown = 0,0\n",
    "    if resUp[i] > 3:\n",
    "        sfUp = accUp[i]/acc[i]\n",
    "        sfDown = accDown[i]/acc[i]\n",
    "    print(\"{:20}: {:5.3f}, {:5.3f}\".format(name[i],sfUp,sfDown))"
   ]
  },
  {
   "cell_type": "code",
   "execution_count": 88,
   "metadata": {
    "collapsed": true
   },
   "outputs": [],
   "source": [
    "tr = 3\n",
    "acc = counts.acc[tr].copy()\n",
    "acc1 = counts1.acc[tr].copy()\n",
    "acc0 = counts0.acc[tr].copy()\n",
    "\n",
    "acc01 = (acc1*1/3+acc0*2/3)\n",
    "\n",
    "accVar = counts.accVar[tr].copy()\n",
    "acc1Var = counts1.accVar[tr].copy()\n",
    "acc0Var = counts0.accVar[tr].copy()\n",
    "\n",
    "res1 = abs(acc1-acc)/(accVar+acc1Var)**0.5\n",
    "res0 = abs(acc0-acc)/(accVar+acc0Var)**0.5\n",
    "res01 = abs(acc0-acc1)/(acc1Var+acc0Var)**0.5\n",
    "\n",
    "for ch in range(4):\n",
    "    mc=1\n",
    "    for i in range(6):\n",
    "        for j in range(6):\n",
    "            if res01[ch,mc][i,j]<3:\n",
    "                acc1[ch,mc][i,j] = acc01[ch,mc][i,j]\n",
    "                acc0[ch,mc][i,j] = acc01[ch,mc][i,j]"
   ]
  },
  {
   "cell_type": "code",
   "execution_count": 89,
   "metadata": {},
   "outputs": [
    {
     "name": "stdout",
     "output_type": "stream",
     "text": [
      "[0.0988434  0.09565056 0.17098258]\n"
     ]
    }
   ],
   "source": [
    "# up tuning\n",
    "slv1 = BFSolver3D( np.sum(acc1*er.ca,axis=1) )\n",
    "BW1  = slv1.solveQuadEqn(slv1.setMeasuredX(nData=counts1.ndata[tr], nMcbg=counts1.nmcbg[tr].dot(np.ones(3))+counts1.nfake[tr]))\n",
    "# down tuning\n",
    "slv2 = BFSolver3D( np.sum(acc0*er.ca,axis=1) )\n",
    "BW2  = slv2.solveQuadEqn(slv2.setMeasuredX(nData=counts0.ndata[tr], nMcbg=counts0.nmcbg[tr].dot(np.ones(3))+counts0.nfake[tr]))\n",
    "# differentce between up and down tuning\n",
    "print((BW1-BW2)/2/0.1080*100)"
   ]
  },
  {
   "cell_type": "code",
   "execution_count": 85,
   "metadata": {},
   "outputs": [
    {
     "name": "stdout",
     "output_type": "stream",
     "text": [
      "[0. 0. 0. 0.]\n",
      "[[0. 0. 0.]\n",
      " [0. 0. 0.]\n",
      " [0. 0. 0.]\n",
      " [0. 0. 0.]]\n",
      "[0. 0. 0. 0.]\n"
     ]
    }
   ],
   "source": [
    "print(counts.ndata[0]-counts0.ndata[0])\n",
    "print(counts.nmcbg[0]-counts0.nmcbg[0])\n",
    "print(counts.nfake[0]-counts0.nfake[0])"
   ]
  },
  {
   "cell_type": "code",
   "execution_count": 24,
   "metadata": {},
   "outputs": [
    {
     "data": {
      "text/plain": [
       "array([[1.23812276e+00, 5.44267664e-03,            inf, 2.26110848e-02,\n",
       "        6.02663712e-01, 1.20661118e-01],\n",
       "       [5.44267664e-03, 7.80294975e-03, 1.27426556e-02, 1.38241656e-02,\n",
       "        5.41245226e-03, 1.07055726e-03],\n",
       "       [           inf, 1.27426556e-02,            inf, 5.33164419e-02,\n",
       "                   inf, 2.40599071e-01],\n",
       "       [2.26110848e-02, 1.38241656e-02, 5.33164419e-02, 6.28052574e-02,\n",
       "        2.26312636e-02, 4.59895401e-03],\n",
       "       [6.02663712e-01, 5.41245226e-03,            inf, 2.26312636e-02,\n",
       "        4.35954570e-01, 1.03693105e-01],\n",
       "       [1.20661118e-01, 1.07055726e-03, 2.40599071e-01, 4.59895401e-03,\n",
       "        1.03693105e-01, 3.80247767e-02]])"
      ]
     },
     "execution_count": 24,
     "metadata": {},
     "output_type": "execute_result"
    }
   ],
   "source": [
    "counts1.accVar[0][3][1]**0.5/counts1.acc[0][3][1]"
   ]
  },
  {
   "cell_type": "code",
   "execution_count": 2,
   "metadata": {
    "collapsed": true
   },
   "outputs": [],
   "source": [
    "sigma, variance_raw = er.errStat(\"mcsg\",returnCovar=True)"
   ]
  },
  {
   "cell_type": "code",
   "execution_count": 4,
   "metadata": {},
   "outputs": [
    {
     "data": {
      "text/plain": [
       "array([[0.53401089, 0.45867545, 1.15690868],\n",
       "       [0.95222688, 0.80551395, 1.82853771],\n",
       "       [0.64549883, 0.52774019, 1.38175311],\n",
       "       [1.2019165 , 0.93939064, 2.2449766 ]])"
      ]
     },
     "execution_count": 4,
     "metadata": {},
     "output_type": "execute_result"
    }
   ],
   "source": [
    "sigma/0.108*100"
   ]
  },
  {
   "cell_type": "code",
   "execution_count": null,
   "metadata": {
    "collapsed": true
   },
   "outputs": [],
   "source": []
  }
 ],
 "metadata": {
  "kernelspec": {
   "display_name": "Python 3",
   "language": "python",
   "name": "python3"
  },
  "language_info": {
   "codemirror_mode": {
    "name": "ipython",
    "version": 3
   },
   "file_extension": ".py",
   "mimetype": "text/x-python",
   "name": "python",
   "nbconvert_exporter": "python",
   "pygments_lexer": "ipython3",
   "version": "3.7.6"
  }
 },
 "nbformat": 4,
 "nbformat_minor": 2
}
