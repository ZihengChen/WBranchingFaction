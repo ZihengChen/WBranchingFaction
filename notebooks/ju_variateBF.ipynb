{
 "cells": [
  {
   "cell_type": "code",
   "execution_count": 1,
   "metadata": {},
   "outputs": [],
   "source": [
    "from utility_bfvariater import *\n",
    "import datetime"
   ]
  },
  {
   "cell_type": "code",
   "execution_count": 2,
   "metadata": {},
   "outputs": [],
   "source": [
    "tb = BFSolver_Toolbox()\n",
    "er = BFVariater()"
   ]
  },
  {
   "cell_type": "markdown",
   "metadata": {},
   "source": [
    "# 1. Try One Case"
   ]
  },
  {
   "cell_type": "code",
   "execution_count": 3,
   "metadata": {},
   "outputs": [
    {
     "name": "stdout",
     "output_type": "stream",
     "text": [
      "[0.10887305 0.10776438 0.10684416]\n",
      "[0.11192234 0.1101022  0.10542362]\n",
      "[0.10490536 0.10764396 0.10769418]\n",
      "[0.11032918 0.10960175 0.10708695]\n"
     ]
    }
   ],
   "source": [
    "for i in range(4):\n",
    "\n",
    "    ndata,ndataVar = er.ndata[i],er.ndataVar[i]\n",
    "    nmcbg,nmcbgVar = er.nmcbg[i].dot(np.array([1,1,1])), er.nmcbgVar[i].dot(np.array([1,1,1]))\n",
    "    nfake,nfakeVar = er.nfake[i],er.nfakeVar[i]\n",
    "    a,aVar = er.a[i],er.aVar[i]\n",
    "    aVar[a<0.001] = np.zeros_like(a)[a<0.001]\n",
    "\n",
    "    slv0 = BFSolver3D(a)\n",
    "    br0 = slv0.solveQuadEqn(slv0.setMeasuredX(nData=ndata, nMcbg=nmcbg+nfake))\n",
    "    print(br0)"
   ]
  },
  {
   "cell_type": "markdown",
   "metadata": {},
   "source": [
    "# 2. Statistical and Systematical Error"
   ]
  },
  {
   "cell_type": "code",
   "execution_count": 4,
   "metadata": {},
   "outputs": [
    {
     "name": "stdout",
     "output_type": "stream",
     "text": [
      "0.000,0.000,0.000, 0.000,0.000,0.000, 0.000,0.000,0.000, 0.000,0.000,0.000\n",
      "0.006,0.050,0.076, 0.006,0.049,0.075, 0.009,0.050,0.076, 0.008,0.049,0.076\n",
      "0.032,0.010,0.060, 0.032,0.010,0.059, 0.028,0.007,0.060, 0.028,0.007,0.060\n",
      "0.007,0.004,0.103, 0.003,0.008,0.052, 0.008,0.010,0.112, 0.009,0.006,0.007\n",
      "0.008,0.004,0.107, 0.003,0.009,0.054, 0.008,0.011,0.117, 0.009,0.006,0.007\n",
      "0.156,0.156,0.156, 0.050,0.050,0.047, 0.148,0.152,0.164, 0.050,0.050,0.076\n",
      "0.145,0.703,0.079, 0.045,0.174,0.028, 0.466,0.137,0.033, 0.066,0.045,0.022\n",
      "0.000,0.020,0.012, 0.001,0.008,0.004, 0.018,0.001,0.008, 0.005,0.001,0.001\n",
      "0.632,0.619,1.293, 0.417,0.404,0.712, 0.000,0.000,0.000, 0.000,0.000,0.000\n",
      "0.000,0.000,0.000, 0.000,0.000,0.000, 0.371,0.378,0.788, 0.203,0.198,0.352\n",
      "0.264,0.318,1.638, 0.147,0.175,0.913, 0.231,0.282,1.527, 0.118,0.143,0.790\n",
      "0.150,0.278,0.035, 0.048,0.064,0.008, 0.163,0.145,0.064, 0.009,0.048,0.026\n",
      "1.021,0.092,0.078, 1.039,0.094,0.076, 1.084,0.111,0.087, 1.029,0.103,0.080\n",
      "0.138,1.184,0.122, 0.127,1.069,0.106, 0.106,1.032,0.103, 0.110,1.028,0.101\n",
      "0.738,0.889,4.576, 0.728,0.863,4.512, 0.698,0.850,4.608, 0.681,0.831,4.576\n",
      "0.421,0.507,2.607, 0.321,0.380,1.987, 0.398,0.484,2.624, 0.296,0.362,1.990\n",
      "0.280,0.025,0.021, 0.353,0.032,0.026, 0.023,0.212,0.012, 0.058,0.263,0.023\n",
      "0.083,0.094,0.030, 0.089,0.085,0.017, 0.011,0.110,0.011, 0.013,0.119,0.012\n",
      "0.274,0.330,1.699, 0.246,0.292,1.526, 0.261,0.317,1.720, 0.233,0.285,1.566\n",
      "1.793,0.834,4.148, 1.720,1.473,2.973, 1.372,1.688,4.138, 1.385,1.604,2.959\n",
      "0.119,0.128,0.442, 0.155,0.093,0.429, 0.096,0.148,0.399, 0.194,0.173,0.078\n",
      "0.062,0.745,0.383, 0.186,1.171,1.876, 0.494,0.011,0.437, 0.776,0.223,1.347\n",
      "0.101,0.059,0.104, 0.161,0.038,0.257, 0.127,0.110,0.190, 0.120,0.135,0.183\n"
     ]
    }
   ],
   "source": [
    "total = np.zeros([4,1,3])\n",
    "# PDG\n",
    "err = [ er.errConstent(source) for source in [\"BtmUp\",\"BteUp\"] ]\n",
    "err = np.array(err).transpose(1,0,2)\n",
    "total = np.concatenate( (total,err),axis=1 )\n",
    "\n",
    "# sysCrossSection\n",
    "err = [ er.errSystem_crossSection(source) for source in [\"mctt\",\"mctw\",\"mcw\",'mcz','mcvv',\"fakemu\",\"fakee\",\"faketau\",\"lumin\"] ]\n",
    "err = np.array(err).transpose(1,0,2)\n",
    "total = np.concatenate( (total,err),axis=1 )\n",
    "\n",
    "# sysObjectEff\n",
    "err = [ er.errSystem_objectEff(source) for source in [\"e\",\"mu\",\"tauID\",'jetMisTauID'] ]\n",
    "#err = [ er.errSystem_objectEff(source) for source in [\"e\",\"mu\",'tauIDNotFactorized'] ]\n",
    "err = np.array(err).transpose(1,0,2)\n",
    "total = np.concatenate( (total,err),axis=1 )\n",
    "\n",
    "# sysEnergyScale\n",
    "err = [ er.errSystem_energyScale(source) for source in [\"E\",\"Mu\",\"Tau\"] ]\n",
    "err = np.array(err).transpose(1,0,2)\n",
    "total = np.concatenate( (total,err),axis=1 )\n",
    "\n",
    "# sysJet\n",
    "err = [ er.errSystem_upDownVariation(source) for source in [\"JES\",\"JER\",\"BTag\",\"Mistag\"] ]\n",
    "err = np.array(err).transpose(1,0,2)\n",
    "total = np.concatenate( (total,err),axis=1 )\n",
    "\n",
    "er.io_printErrorForExcelFormat(total)"
   ]
  },
  {
   "cell_type": "code",
   "execution_count": 5,
   "metadata": {},
   "outputs": [],
   "source": [
    "# systematic\n",
    "sigma_syst = total.transpose(1,0,2)\n",
    "s = sigma_syst.shape\n",
    "sigma_syst = sigma_syst.reshape(s[0],s[1]*s[2])\n",
    "\n",
    "covar_syst = []\n",
    "for i in sigma_syst:\n",
    "    covar_syst.append(np.outer(i,i))\n",
    "covar_syst = np.array(covar_syst)\n",
    "\n",
    "# statistics\n",
    "sig_stat, covar_stat_raw = er.errStat('data',returnCovar=True)\n",
    "covar_stat = np.zeros([12,12])\n",
    "for c in range(4):\n",
    "    for i in range(3):\n",
    "        for j in range(3):\n",
    "            covar_stat[c*3+i,c*3+j] = covar_stat_raw[c,i,j]\n",
    "            \n",
    "            \n",
    "covar = covar_syst\n",
    "covar[0] = covar_stat"
   ]
  },
  {
   "cell_type": "code",
   "execution_count": 6,
   "metadata": {},
   "outputs": [],
   "source": [
    "np.save('../data/combine/covar',covar)\n",
    "np.save('../data/combine/sigma',sigma_syst) "
   ]
  },
  {
   "cell_type": "code",
   "execution_count": null,
   "metadata": {},
   "outputs": [],
   "source": [
    "# statistics\n",
    "# err = [ er.errStat(source) for source in [\"data\",\"mcbg\",\"mcsg\"] ]\n",
    "# err = np.array(err).transpose(1,0,2)\n",
    "# er.io_printErrorForExcelFormat(err)\n",
    "# total = np.concatenate( (total,err),axis=1 )\n",
    "\n",
    "# # sysLHE\n",
    "# err = [ er.errSystem_upDownVariation(source) for source in [\"Renorm\",\"Factor\",\"PDF\"] ]\n",
    "# # err[0] = err[0]/(0.75/0.1)\n",
    "# # err[1] = err[1]/(0.75/0.1)\n",
    "# err = np.array(err).transpose(1,0,2)\n",
    "# er.io_printErrorForExcelFormat(err)\n",
    "# #total = np.concatenate( (total,err),axis=1 )\n",
    "\n",
    "# # errSystem_ttTheory\n",
    "# err = [ er.errSystem_upDownVariation(source) for source in [ \"ISR\",\"FSR\",\"UE\",\"MEPS\"] ]\n",
    "# # err[0] = err[0]/(0.1108*0.75/0.0011)\n",
    "# # err[1] = err[1]/(0.1108*0.75/0.0011)\n",
    "# err = np.array(err).transpose(1,0,2)\n",
    "# er.io_printErrorForExcelFormat(err)\n",
    "# #total = np.concatenate( (total,err),axis=1 )"
   ]
  }
 ],
 "metadata": {
  "kernelspec": {
   "display_name": "Python 3",
   "language": "python",
   "name": "python3"
  },
  "language_info": {
   "codemirror_mode": {
    "name": "ipython",
    "version": 3
   },
   "file_extension": ".py",
   "mimetype": "text/x-python",
   "name": "python",
   "nbconvert_exporter": "python",
   "pygments_lexer": "ipython3",
   "version": "3.6.4"
  }
 },
 "nbformat": 4,
 "nbformat_minor": 2
}
