{
 "cells": [
  {
   "cell_type": "code",
   "execution_count": 1,
   "metadata": {},
   "outputs": [],
   "source": [
    "from utility_bfvariater import *\n",
    "import utility_common as common\n",
    "\n",
    "# creat a BF variater\n",
    "er = BFVariater()"
   ]
  },
  {
   "cell_type": "markdown",
   "metadata": {},
   "source": [
    "# 1. Central Value"
   ]
  },
  {
   "cell_type": "code",
   "execution_count": 4,
   "metadata": {},
   "outputs": [
    {
     "name": "stdout",
     "output_type": "stream",
     "text": [
      "save conteral values\n",
      "[0.10956422 0.10807829 0.10339244 0.1120037  0.10977927 0.10359739\n",
      " 0.10504756 0.10789798 0.1039401  0.10884808 0.1095145  0.10423655]\n"
     ]
    }
   ],
   "source": [
    "def saveCentralValues(er):\n",
    "    print( \"save conteral values\")\n",
    "\n",
    "    contralValue = []\n",
    "    for i in range(4):\n",
    "\n",
    "        ndata = er.ndata[i]\n",
    "        nmcbg = er.nmcbg[i].dot(np.ones(3))\n",
    "        nfake = er.nfake[i]\n",
    "        a = np.sum(er.a[i] * er.ca, axis=1)\n",
    "\n",
    "        slv0 = BFSolver3D(a)\n",
    "        br0 = slv0.solveQuadEqn(slv0.setMeasuredX(nData=ndata, nMcbg=nmcbg+nfake))\n",
    "        contralValue.append(br0)\n",
    "    contralValue = np.array(contralValue).reshape(12)\n",
    "\n",
    "    baseDir = common.getBaseDirectory() \n",
    "\n",
    "    print(contralValue)\n",
    "\n",
    "    np.save(baseDir+'/data/combine/centralValue',contralValue)\n",
    "saveCentralValues(er)"
   ]
  },
  {
   "cell_type": "markdown",
   "metadata": {},
   "source": [
    "# 2. uncertainty"
   ]
  },
  {
   "cell_type": "markdown",
   "metadata": {},
   "source": [
    "### 2.1 Statistical Uncertainty"
   ]
  },
  {
   "cell_type": "code",
   "execution_count": 5,
   "metadata": {},
   "outputs": [
    {
     "name": "stdout",
     "output_type": "stream",
     "text": [
      "relative statistical uncertainty [%]\n",
      "0.553,0.517,1.217, 0.982,0.869,2.021, 0.710,0.552,1.447, 1.234,0.968,2.456\n",
      "0.135,0.546,0.592, 0.141,0.517,0.639, 0.639,0.178,0.694, 0.594,0.178,0.725\n",
      "0.266,0.227,0.570, 0.462,0.393,0.925, 0.323,0.264,0.690, 0.569,0.451,1.116\n"
     ]
    }
   ],
   "source": [
    "def saveStatError(er):\n",
    "    print( \"relative statistical uncertainty [%]\")\n",
    "\n",
    "    stat_sigma, stat_covar = [],[]\n",
    "\n",
    "    for source in [\"data\",\"mcbg\",\"mcsg\"]:\n",
    "        sigma, variance_raw = er.errStat(source,returnCovar=True)\n",
    "        # reshape 4x3x3 to 12x12\n",
    "        variance = np.zeros([12,12])\n",
    "        for c in range(4):\n",
    "            for i in range(3):\n",
    "                for j in range(3):\n",
    "                    variance[c*3+i,c*3+j] = variance_raw[c,i,j]\n",
    "                    \n",
    "        stat_sigma.append(sigma)\n",
    "        stat_covar.append(variance)\n",
    "\n",
    "    stat_sigma = np.array(stat_sigma)  \n",
    "    stat_covar = np.array(stat_covar) \n",
    "\n",
    "    er.io_printErrorForExcelFormat(stat_sigma.transpose(1,0,2))\n",
    "\n",
    "    s = stat_sigma.shape\n",
    "    stat_sigma = stat_sigma.reshape(s[0],s[1]*s[2])\n",
    "\n",
    "    baseDir = common.getBaseDirectory() \n",
    "    np.save(baseDir+'/data/combine/stat_sigma',stat_sigma)\n",
    "    np.save(baseDir+'/data/combine/stat_covar',stat_covar)\n",
    "\n",
    "saveStatError(er)"
   ]
  },
  {
   "cell_type": "markdown",
   "metadata": {},
   "source": [
    "### 2.2 Systematical Uncertainty"
   ]
  },
  {
   "cell_type": "code",
   "execution_count": 6,
   "metadata": {},
   "outputs": [
    {
     "name": "stdout",
     "output_type": "stream",
     "text": [
      "relative systematics uncertainty [%]\n",
      "0.005,0.049,0.073, 0.005,0.048,0.074, 0.007,0.048,0.073, 0.007,0.048,0.074\n",
      "0.027,0.010,0.057, 0.028,0.010,0.058, 0.024,0.007,0.057, 0.024,0.008,0.059\n",
      "0.151,0.266,0.030, 0.048,0.072,0.006, 0.140,0.141,0.067, 0.008,0.049,0.003\n",
      "0.011,0.003,0.100, 0.002,0.011,0.050, 0.008,0.009,0.106, 0.001,0.000,0.006\n",
      "0.012,0.003,0.105, 0.002,0.011,0.052, 0.009,0.009,0.110, 0.001,0.000,0.007\n",
      "0.157,0.157,0.144, 0.052,0.052,0.039, 0.149,0.153,0.159, 0.048,0.048,0.071\n",
      "0.291,1.361,0.159, 0.089,0.382,0.051, 0.844,0.258,0.043, 0.120,0.098,0.127\n",
      "0.001,0.020,0.011, 0.001,0.008,0.004, 0.017,0.001,0.008, 0.006,0.001,0.001\n",
      "0.000,0.000,0.000, 0.000,0.000,0.000, 0.366,0.369,0.756, 0.194,0.190,0.336\n",
      "0.626,0.602,1.231, 0.405,0.386,0.677, 0.000,0.000,0.000, 0.000,0.000,0.000\n",
      "0.000,0.000,0.000, 0.000,0.000,0.000, 0.247,0.334,1.797, 0.139,0.189,1.029\n",
      "0.257,0.347,1.766, 0.151,0.201,1.044, 0.000,0.000,0.000, 0.000,0.000,0.000\n",
      "0.002,0.001,0.021, 0.000,0.002,0.011, 0.002,0.002,0.022, 0.000,0.000,0.001\n",
      "0.575,0.052,0.043, 0.578,0.052,0.042, 0.627,0.093,0.057, 0.569,0.069,0.045\n",
      "1.393,0.126,0.104, 1.410,0.128,0.102, 1.580,0.185,0.175, 1.445,0.132,0.130\n",
      "0.010,0.107,0.012, 0.007,0.094,0.010, 0.008,0.077,0.007, 0.008,0.077,0.007\n",
      "0.025,0.411,0.049, 0.014,0.363,0.039, 0.030,0.296,0.028, 0.032,0.302,0.029\n",
      "0.736,0.996,5.060, 0.715,0.950,4.936, 0.691,0.934,5.022, 0.678,0.922,5.020\n",
      "0.378,0.511,2.598, 0.273,0.363,1.887, 0.359,0.485,2.611, 0.257,0.349,1.899\n",
      "0.253,0.023,0.019, 0.154,0.014,0.011, 0.161,0.213,0.030, 0.025,0.234,0.003\n",
      "0.093,0.112,0.034, 0.121,0.087,0.017, 0.012,0.114,0.011, 0.013,0.124,0.012\n",
      "0.028,0.038,0.193, 0.031,0.041,0.214, 0.034,0.046,0.249, 0.031,0.043,0.233\n",
      "0.084,0.114,0.580, 0.072,0.095,0.495, 0.063,0.085,0.459, 0.083,0.113,0.614\n",
      "0.024,0.032,0.165, 0.032,0.042,0.218, 0.023,0.031,0.165, 0.012,0.016,0.088\n",
      "0.009,0.012,0.052, 0.009,0.011,0.049, 0.009,0.011,0.050, 0.009,0.011,0.052\n",
      "0.019,0.026,0.109, 0.020,0.025,0.110, 0.019,0.025,0.113, 0.019,0.025,0.113\n",
      "0.023,0.031,0.130, 0.022,0.028,0.118, 0.022,0.028,0.124, 0.024,0.032,0.144\n",
      "0.016,0.022,0.098, 0.017,0.022,0.104, 0.016,0.021,0.103, 0.015,0.020,0.098\n",
      "0.009,0.012,0.047, 0.009,0.011,0.041, 0.008,0.011,0.042, 0.009,0.012,0.047\n",
      "0.336,0.323,1.203, 0.426,0.121,0.809, 0.182,0.042,1.026, 0.466,0.088,0.886\n",
      "1.912,1.013,3.762, 1.779,1.425,2.569, 1.454,1.789,3.679, 1.518,1.631,2.824\n",
      "0.146,0.118,0.319, 0.194,0.131,0.262, 0.093,0.101,0.459, 0.298,0.147,0.035\n",
      "0.051,0.267,0.108, 0.207,0.034,0.043, 0.265,0.014,0.021, 0.083,0.230,0.129\n",
      "0.104,0.055,0.052, 0.119,0.080,0.180, 0.094,0.095,0.146, 0.150,0.145,0.133\n",
      "0.752,0.562,0.779, 0.477,0.793,0.796, 0.793,0.426,0.600, 1.074,0.998,1.369\n"
     ]
    }
   ],
   "source": [
    "def saveSystError(er):\n",
    "    print( \"relative systematics uncertainty [%]\")\n",
    "    syst_sigma, syst_covar = [],[]\n",
    "\n",
    "    for source in [\"BtmUp\",\"BteUp\"]:\n",
    "        sigma = er.errConstent(source)\n",
    "        variance = np.outer(sigma.reshape(1,12),sigma.reshape(1,12))\n",
    "        syst_sigma.append(sigma)\n",
    "        syst_covar.append(variance)\n",
    "        \n",
    "    for source in [\"lumin\",\"mctt\",\"mctw\",\"mcw\",'mcz','mcvv',\n",
    "                   \"fakee\",\"fakemu\",\"fakeetau\",\"fakemutau\"]:\n",
    "        sigma = er.errSystem_crossSection(source)\n",
    "        variance = np.outer(sigma.reshape(1,12),sigma.reshape(1,12))\n",
    "        syst_sigma.append(sigma)\n",
    "        syst_covar.append(variance)\n",
    "        \n",
    "        \n",
    "    for source in [\"TopPtReweight\",\"ERecoEff\",\"EIDEff\",\"MuRecoEff\",\"MuIDEff\",\"TauIDEff\",\"JetToTauIDEff\",\n",
    "                   \"EPt\",\"MuPt\",\"Tau0Pt\",\"Tau1Pt\",\"Tau10Pt\",\n",
    "                  ]:\n",
    "        sigma = er.errSystem_downVariation(source)\n",
    "        variance = np.outer(sigma.reshape(1,12),sigma.reshape(1,12))\n",
    "        syst_sigma.append(sigma)\n",
    "        syst_covar.append(variance)\n",
    "        \n",
    "    for source in [\"tauReweight1000\",\"tauReweight11000\",\"tauReweight21000\",\n",
    "                   \"tauReweight3000\",\"tauReweight13000\"\n",
    "                  ]:\n",
    "        sigma = er.errSystem_upDownVariation(source)\n",
    "        variance = np.outer(sigma.reshape(1,12),sigma.reshape(1,12))\n",
    "        syst_sigma.append(sigma)\n",
    "        syst_covar.append(variance)\n",
    "        \n",
    "        \n",
    "    for source in [\"Pileup\",\"JES\",\"JER\",\"BTag\",\"Mistag\",\"fsr\"]:\n",
    "        sigma = er.errSystem_upDownVariation(source)\n",
    "        variance = np.outer(sigma.reshape(1,12), sigma.reshape(1,12))\n",
    "        syst_sigma.append(sigma)\n",
    "        syst_covar.append(variance)      \n",
    "    \n",
    "#     for source in [\"fsr\",\"isr\",\"ue\",\"meps\"]:\n",
    "#         sigma = er.errSystem_upDownVariationCutResidue(source,cutResidue=3)\n",
    "#         variance = np.outer(sigma.reshape(1,12), sigma.reshape(1,12))\n",
    "#         syst_sigma.append(sigma)\n",
    "#         syst_covar.append(variance) \n",
    "    \n",
    "    syst_sigma = np.array(syst_sigma) \n",
    "    syst_covar = np.array(syst_covar) \n",
    "\n",
    "    er.io_printErrorForExcelFormat(syst_sigma.transpose(1,0,2))\n",
    "\n",
    "    s = syst_sigma.shape\n",
    "    syst_sigma = syst_sigma.reshape(s[0],s[1]*s[2])\n",
    "\n",
    "    baseDir = common.getBaseDirectory() \n",
    "    np.save(baseDir+'/data/combine/syst_sigma',syst_sigma)\n",
    "    np.save(baseDir+'/data/combine/syst_covar',syst_covar)\n",
    "\n",
    "saveSystError(er)"
   ]
  },
  {
   "cell_type": "code",
   "execution_count": null,
   "metadata": {},
   "outputs": [],
   "source": []
  },
  {
   "cell_type": "markdown",
   "metadata": {},
   "source": [
    "# 3. output Latex Table"
   ]
  },
  {
   "cell_type": "code",
   "execution_count": 8,
   "metadata": {},
   "outputs": [],
   "source": [
    "%run -i '../scripts/note_uncertainty.py'"
   ]
  },
  {
   "cell_type": "code",
   "execution_count": null,
   "metadata": {
    "collapsed": true
   },
   "outputs": [],
   "source": [
    "#     for source in [\"e\",\"mu\",\"tauID\",'jetMisTauID']:\n",
    "#         sigma = er.errSystem_objectEff(source)\n",
    "#         variance = np.outer(sigma.reshape(1,12),sigma.reshape(1,12))\n",
    "#         syst_sigma.append(sigma)\n",
    "#         syst_covar.append(variance)"
   ]
  },
  {
   "cell_type": "code",
   "execution_count": 7,
   "metadata": {},
   "outputs": [
    {
     "data": {
      "text/plain": [
       "array([[-0.7546923 , -0.56336153, -0.78828602],\n",
       "       [-0.47845538, -0.79648906, -0.80230501],\n",
       "       [-0.79487902, -0.42558462, -0.6127878 ],\n",
       "       [-1.07588   , -1.00108001, -1.38707   ]])"
      ]
     },
     "execution_count": 7,
     "metadata": {},
     "output_type": "execute_result"
    }
   ],
   "source": [
    "sigma = er.errSystem_upDownVariation(\"fsr\")\n",
    "sigma/0.108*100"
   ]
  },
  {
   "cell_type": "code",
   "execution_count": 13,
   "metadata": {},
   "outputs": [
    {
     "data": {
      "text/plain": [
       "array([[ 0.61298784,  0.65726433,  1.38221063],\n",
       "       [ 0.92377239,  0.81140687,  0.91615779],\n",
       "       [ 0.10179913,  1.07960526,  0.69728675],\n",
       "       [ 0.13846273,  0.67379168, -0.1033589 ]])"
      ]
     },
     "execution_count": 13,
     "metadata": {},
     "output_type": "execute_result"
    }
   ],
   "source": [
    "sigma = er.errSystem_upDownVariation(\"isr\")\n",
    "sigma/0.108*100"
   ]
  },
  {
   "cell_type": "code",
   "execution_count": 15,
   "metadata": {},
   "outputs": [
    {
     "data": {
      "text/plain": [
       "array([[0.47650823, 0.46227043, 0.93861782],\n",
       "       [0.59470542, 0.33422956, 0.60685315],\n",
       "       [0.43530199, 0.43752446, 0.90269255],\n",
       "       [0.06995709, 0.06794519, 0.12052818]])"
      ]
     },
     "execution_count": 15,
     "metadata": {},
     "output_type": "execute_result"
    }
   ],
   "source": [
    "sigma = er.errSystem_upDownVariationCutResidue(\"isr\",3)\n",
    "sigma/0.108*100"
   ]
  },
  {
   "cell_type": "code",
   "execution_count": 43,
   "metadata": {
    "collapsed": true
   },
   "outputs": [],
   "source": [
    "counts = pd.read_pickle( \"../data/counts/count_.pkl\")"
   ]
  },
  {
   "cell_type": "code",
   "execution_count": 77,
   "metadata": {
    "collapsed": true
   },
   "outputs": [],
   "source": [
    "counts0 = pd.read_pickle( \"../data/counts/count_isrDown.pkl\")\n",
    "counts1 = pd.read_pickle( \"../data/counts/count_isrUp.pkl\")"
   ]
  },
  {
   "cell_type": "code",
   "execution_count": 68,
   "metadata": {},
   "outputs": [
    {
     "name": "stdout",
     "output_type": "stream",
     "text": [
      "$ee$                : 0.000, 0.000\n",
      "$\\mu\\mu$            : 0.962, 1.010\n",
      "$e\\mu$              : 0.945, 1.022\n",
      "$\\tau_e\\tau_e$      : 0.000, 0.000\n",
      "$\\tau_\\mu\\tau_\\mu$  : 0.000, 0.000\n",
      "$\\tau_e\\tau_\\mu$    : 0.000, 0.000\n",
      "$\\tau_e\\tau_h$      : 0.000, 0.000\n",
      "$\\tau_\\mu\\tau_h$    : 0.000, 0.000\n",
      "$\\tau_h\\tau_h$      : 0.000, 0.000\n",
      "$e\\tau_e$           : 0.000, 0.000\n",
      "$e\\tau_\\mu$         : 0.000, 0.000\n",
      "$e\\tau_h$           : 0.000, 0.000\n",
      "$\\mu\\tau_e$         : 0.920, 1.040\n",
      "$\\mu\\tau_\\mu$       : 0.943, 1.023\n",
      "$\\mu\\tau_h$         : 0.931, 1.033\n",
      "$eh$                : 0.528, 1.388\n",
      "$\\mu h$             : 0.916, 1.051\n",
      "$\\tau_eh$           : 0.000, 0.000\n",
      "$\\tau_\\mu h$        : 0.920, 1.060\n",
      "$\\tau_hh$           : 0.573, 1.419\n",
      "$hh$                : 0.502, 1.457\n"
     ]
    }
   ],
   "source": [
    "tr,ch,mc = 0,3,1\n",
    "\n",
    "acc = common.matrixToArray(counts.acc[tr][ch][mc])\n",
    "accUp = common.matrixToArray(counts1.acc[tr][ch][mc])\n",
    "accDown = common.matrixToArray(counts0.acc[tr][ch][mc])\n",
    "\n",
    "accVar = common.matrixToArray(counts.accVar[tr][ch][mc])\n",
    "accUpVar = common.matrixToArray(counts1.accVar[tr][ch][mc])\n",
    "accDownVar = common.matrixToArray(counts0.accVar[tr][ch][mc])\n",
    "\n",
    "resUp = abs(accUp-acc)/(accVar+accUpVar)**0.5\n",
    "resDown = abs(accDown-acc)/(accVar+accDownVar)**0.5\n",
    "\n",
    "name = common.WWBranchNames()\n",
    "for i in range(21):\n",
    "    sfUp,sfDown = 0,0\n",
    "    if resUp[i] > 3:\n",
    "        sfUp = accUp[i]/acc[i]\n",
    "        sfDown = accDown[i]/acc[i]\n",
    "    print(\"{:20}: {:5.3f}, {:5.3f}\".format(name[i],sfUp,sfDown))"
   ]
  },
  {
   "cell_type": "code",
   "execution_count": 88,
   "metadata": {
    "collapsed": true
   },
   "outputs": [],
   "source": [
    "tr = 3\n",
    "acc = counts.acc[tr].copy()\n",
    "acc1 = counts1.acc[tr].copy()\n",
    "acc0 = counts0.acc[tr].copy()\n",
    "\n",
    "acc01 = (acc1*1/3+acc0*2/3)\n",
    "\n",
    "accVar = counts.accVar[tr].copy()\n",
    "acc1Var = counts1.accVar[tr].copy()\n",
    "acc0Var = counts0.accVar[tr].copy()\n",
    "\n",
    "res1 = abs(acc1-acc)/(accVar+acc1Var)**0.5\n",
    "res0 = abs(acc0-acc)/(accVar+acc0Var)**0.5\n",
    "res01 = abs(acc0-acc1)/(acc1Var+acc0Var)**0.5\n",
    "\n",
    "for ch in range(4):\n",
    "    mc=1\n",
    "    for i in range(6):\n",
    "        for j in range(6):\n",
    "            if res01[ch,mc][i,j]<3:\n",
    "                acc1[ch,mc][i,j] = acc01[ch,mc][i,j]\n",
    "                acc0[ch,mc][i,j] = acc01[ch,mc][i,j]"
   ]
  },
  {
   "cell_type": "code",
   "execution_count": 89,
   "metadata": {},
   "outputs": [
    {
     "name": "stdout",
     "output_type": "stream",
     "text": [
      "[0.0988434  0.09565056 0.17098258]\n"
     ]
    }
   ],
   "source": [
    "# up tuning\n",
    "slv1 = BFSolver3D( np.sum(acc1*er.ca,axis=1) )\n",
    "BW1  = slv1.solveQuadEqn(slv1.setMeasuredX(nData=counts1.ndata[tr], nMcbg=counts1.nmcbg[tr].dot(np.ones(3))+counts1.nfake[tr]))\n",
    "# down tuning\n",
    "slv2 = BFSolver3D( np.sum(acc0*er.ca,axis=1) )\n",
    "BW2  = slv2.solveQuadEqn(slv2.setMeasuredX(nData=counts0.ndata[tr], nMcbg=counts0.nmcbg[tr].dot(np.ones(3))+counts0.nfake[tr]))\n",
    "# differentce between up and down tuning\n",
    "print((BW1-BW2)/2/0.1080*100)"
   ]
  },
  {
   "cell_type": "code",
   "execution_count": 85,
   "metadata": {},
   "outputs": [
    {
     "name": "stdout",
     "output_type": "stream",
     "text": [
      "[0. 0. 0. 0.]\n",
      "[[0. 0. 0.]\n",
      " [0. 0. 0.]\n",
      " [0. 0. 0.]\n",
      " [0. 0. 0.]]\n",
      "[0. 0. 0. 0.]\n"
     ]
    }
   ],
   "source": [
    "print(counts.ndata[0]-counts0.ndata[0])\n",
    "print(counts.nmcbg[0]-counts0.nmcbg[0])\n",
    "print(counts.nfake[0]-counts0.nfake[0])"
   ]
  },
  {
   "cell_type": "code",
   "execution_count": 24,
   "metadata": {},
   "outputs": [
    {
     "data": {
      "text/plain": [
       "array([[1.23812276e+00, 5.44267664e-03,            inf, 2.26110848e-02,\n",
       "        6.02663712e-01, 1.20661118e-01],\n",
       "       [5.44267664e-03, 7.80294975e-03, 1.27426556e-02, 1.38241656e-02,\n",
       "        5.41245226e-03, 1.07055726e-03],\n",
       "       [           inf, 1.27426556e-02,            inf, 5.33164419e-02,\n",
       "                   inf, 2.40599071e-01],\n",
       "       [2.26110848e-02, 1.38241656e-02, 5.33164419e-02, 6.28052574e-02,\n",
       "        2.26312636e-02, 4.59895401e-03],\n",
       "       [6.02663712e-01, 5.41245226e-03,            inf, 2.26312636e-02,\n",
       "        4.35954570e-01, 1.03693105e-01],\n",
       "       [1.20661118e-01, 1.07055726e-03, 2.40599071e-01, 4.59895401e-03,\n",
       "        1.03693105e-01, 3.80247767e-02]])"
      ]
     },
     "execution_count": 24,
     "metadata": {},
     "output_type": "execute_result"
    }
   ],
   "source": [
    "counts1.accVar[0][3][1]**0.5/counts1.acc[0][3][1]"
   ]
  },
  {
   "cell_type": "code",
   "execution_count": 2,
   "metadata": {
    "collapsed": true
   },
   "outputs": [],
   "source": [
    "sigma, variance_raw = er.errStat(\"mcsg\",returnCovar=True)"
   ]
  },
  {
   "cell_type": "code",
   "execution_count": 4,
   "metadata": {},
   "outputs": [
    {
     "data": {
      "text/plain": [
       "array([[0.53401089, 0.45867545, 1.15690868],\n",
       "       [0.95222688, 0.80551395, 1.82853771],\n",
       "       [0.64549883, 0.52774019, 1.38175311],\n",
       "       [1.2019165 , 0.93939064, 2.2449766 ]])"
      ]
     },
     "execution_count": 4,
     "metadata": {},
     "output_type": "execute_result"
    }
   ],
   "source": [
    "sigma/0.108*100"
   ]
  },
  {
   "cell_type": "code",
   "execution_count": null,
   "metadata": {
    "collapsed": true
   },
   "outputs": [],
   "source": []
  }
 ],
 "metadata": {
  "kernelspec": {
   "display_name": "Python 3",
   "language": "python",
   "name": "python3"
  },
  "language_info": {
   "codemirror_mode": {
    "name": "ipython",
    "version": 3
   },
   "file_extension": ".py",
   "mimetype": "text/x-python",
   "name": "python",
   "nbconvert_exporter": "python",
   "pygments_lexer": "ipython3",
   "version": "3.7.3"
  }
 },
 "nbformat": 4,
 "nbformat_minor": 2
}
