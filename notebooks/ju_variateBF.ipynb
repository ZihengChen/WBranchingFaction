{
 "cells": [
  {
   "cell_type": "code",
   "execution_count": 1,
   "metadata": {},
   "outputs": [],
   "source": [
    "from utility_bfvariater import *\n",
    "import utility_common as common\n",
    "\n",
    "# creat a BF variater\n",
    "er = BFVariater()"
   ]
  },
  {
   "cell_type": "markdown",
   "metadata": {},
   "source": [
    "# 1. Central Value"
   ]
  },
  {
   "cell_type": "code",
   "execution_count": 2,
   "metadata": {},
   "outputs": [
    {
     "name": "stdout",
     "output_type": "stream",
     "text": [
      "save conteral values\n",
      "[0.10828633 0.11000734 0.10026387 0.11222122 0.11112967 0.10034579\n",
      " 0.11010984 0.10841491 0.10217137 0.10807917 0.11012079 0.10717654]\n"
     ]
    }
   ],
   "source": [
    "def saveCentralValues(er):\n",
    "    print( \"save conteral values\")\n",
    "\n",
    "    contralValue = []\n",
    "    for i in range(4):\n",
    "\n",
    "        ndata = er.ndata[i]\n",
    "        nmcbg = er.nmcbg[i].sum(axis=1)\n",
    "        nfake = er.nfake[i]\n",
    "        \n",
    "        a = np.sum(er.a[i] * er.ca, axis=1)\n",
    "\n",
    "        slv0 = BFSolver3D(a)\n",
    "        br0 = slv0.solveQuadEqn(slv0.setMeasuredX(nData=ndata, nMcbg=nmcbg+nfake))\n",
    "        contralValue.append(br0)\n",
    "    contralValue = np.array(contralValue).reshape(12)\n",
    "\n",
    "    baseDir = common.getBaseDirectory() \n",
    "\n",
    "    print(contralValue)\n",
    "\n",
    "    np.save(baseDir+'/data/combine/centralValue',contralValue)\n",
    "saveCentralValues(er)"
   ]
  },
  {
   "cell_type": "markdown",
   "metadata": {},
   "source": [
    "# 2. uncertainty"
   ]
  },
  {
   "cell_type": "markdown",
   "metadata": {},
   "source": [
    "### 2.1 Statistical Uncertainty"
   ]
  },
  {
   "cell_type": "code",
   "execution_count": 3,
   "metadata": {},
   "outputs": [
    {
     "name": "stdout",
     "output_type": "stream",
     "text": [
      "relative statistical uncertainty [%]\n",
      "0.540,0.530,1.237, 0.710,0.634,1.484, 0.739,0.554,1.512, 0.899,0.703,1.797\n",
      "0.177,0.741,0.763, 0.110,0.408,0.498, 0.892,0.255,1.060, 0.491,0.137,0.518\n",
      "0.167,0.150,0.413, 0.188,0.164,0.426, 0.216,0.175,0.500, 0.231,0.191,0.517\n"
     ]
    }
   ],
   "source": [
    "def saveStatError(er):\n",
    "    print( \"relative statistical uncertainty [%]\")\n",
    "\n",
    "    stat_sigma, stat_covar = [],[]\n",
    "\n",
    "    for source in [\"data\",\"mcbg\",\"mcsg\"]:\n",
    "        sigma, variance_raw = er.errStat(source,returnCovar=True)\n",
    "        # reshape 4x3x3 to 12x12\n",
    "        variance = np.zeros([12,12])\n",
    "        for c in range(4):\n",
    "            for i in range(3):\n",
    "                for j in range(3):\n",
    "                    variance[c*3+i,c*3+j] = variance_raw[c,i,j]\n",
    "                    \n",
    "        stat_sigma.append(sigma)\n",
    "        stat_covar.append(variance)\n",
    "\n",
    "    stat_sigma = np.array(stat_sigma)  \n",
    "    stat_covar = np.array(stat_covar) \n",
    "\n",
    "    er.io_printErrorForExcelFormat(stat_sigma.transpose(1,0,2))\n",
    "\n",
    "    s = stat_sigma.shape\n",
    "    stat_sigma = stat_sigma.reshape(s[0],s[1]*s[2])\n",
    "\n",
    "    baseDir = common.getBaseDirectory() \n",
    "    np.save(baseDir+'/data/combine/stat_sigma',stat_sigma)\n",
    "    np.save(baseDir+'/data/combine/stat_covar',stat_covar)\n",
    "\n",
    "saveStatError(er)"
   ]
  },
  {
   "cell_type": "markdown",
   "metadata": {},
   "source": [
    "### 2.2 Systematical Uncertainty"
   ]
  },
  {
   "cell_type": "code",
   "execution_count": 4,
   "metadata": {},
   "outputs": [
    {
     "name": "stdout",
     "output_type": "stream",
     "text": [
      "relative systematics uncertainty [%]\n",
      "-0.002,-0.019,0.029, -0.002,-0.019,0.029, -0.003,-0.019,0.029, -0.003,-0.019,0.030\n",
      "-0.047,-0.017,0.098, -0.047,-0.017,0.098, -0.041,-0.013,0.100, -0.043,-0.013,0.105\n",
      "0.328,-0.459,0.120, 0.092,-0.064,0.048, -0.134,0.388,0.203, 0.002,0.100,0.092\n",
      "0.002,0.000,0.150, -0.009,-0.014,0.032, 0.021,0.011,0.147, -0.011,-0.002,-0.003\n",
      "-0.002,-0.001,-0.157, 0.009,0.015,-0.033, -0.022,-0.012,-0.154, 0.011,0.002,0.004\n",
      "0.062,0.061,0.032, 0.053,0.052,0.058, 0.062,0.060,0.032, 0.052,0.053,0.039\n",
      "0.341,0.352,0.323, 0.068,0.067,0.065, 0.347,0.345,0.364, 0.064,0.066,0.084\n",
      "0.492,-2.641,-0.236, 0.121,-0.489,-0.055, -1.567,0.498,-0.172, -0.273,0.103,0.041\n",
      "0.019,0.019,0.028, 0.005,0.005,0.007, 0.248,0.246,0.212, 0.058,0.058,0.080\n",
      "-0.004,-0.044,-0.026, 0.001,-0.010,-0.005, -0.038,-0.003,-0.021, -0.008,0.001,-0.001\n",
      "0.000,0.000,0.000, 0.000,0.000,0.000, 1.157,1.112,2.397, 0.218,0.217,0.404\n",
      "0.738,0.733,1.554, 0.222,0.213,0.382, 0.000,0.000,0.000, 0.000,0.000,0.000\n",
      "0.000,0.000,0.000, 0.000,0.000,0.000, 0.370,0.495,-2.636, 0.069,0.092,-0.501\n",
      "0.343,0.463,-2.347, 0.184,0.248,-1.278, 0.000,0.000,0.000, 0.000,0.000,0.000\n",
      "0.000,0.000,0.032, -0.002,-0.003,0.007, 0.004,0.002,0.031, -0.002,-0.000,-0.001\n",
      "-0.572,0.053,0.042, -0.579,0.055,0.042, -0.705,0.159,0.102, -0.571,0.084,0.069\n",
      "-1.379,0.129,0.100, -1.402,0.132,0.101, -1.756,0.333,0.273, -1.448,0.162,0.196\n",
      "0.015,-0.125,0.016, 0.008,-0.095,0.011, 0.008,-0.077,0.008, 0.008,-0.077,0.008\n",
      "0.052,-0.493,0.066, 0.020,-0.368,0.045, 0.033,-0.297,0.029, 0.032,-0.297,0.030\n",
      "0.740,0.998,-5.063, 0.691,0.932,-4.796, 0.719,0.962,-5.118, 0.696,0.932,-5.083\n",
      "0.457,0.617,-3.127, 0.305,0.411,-2.118, 0.455,0.609,-3.242, 0.288,0.386,-2.103\n",
      "0.247,-0.023,-0.018, 0.227,-0.021,-0.016, -0.008,-0.170,-0.061, -0.010,-0.246,0.017\n",
      "-0.094,0.091,0.033, -0.092,0.091,-0.035, -0.013,0.116,-0.011, -0.012,0.114,-0.012\n",
      "0.034,0.045,-0.230, 0.035,0.047,-0.242, 0.034,0.046,-0.244, 0.029,0.039,-0.215\n",
      "0.085,0.115,-0.584, 0.068,0.092,-0.474, 0.066,0.088,-0.467, 0.075,0.100,-0.545\n",
      "0.025,0.034,-0.174, 0.025,0.034,-0.176, 0.024,0.032,-0.171, 0.024,0.032,-0.175\n",
      "-0.217,0.020,0.016, -0.221,0.021,0.016, 0.029,0.032,-0.004, 0.035,0.004,-0.009\n",
      "-0.492,0.046,0.036, -0.500,0.047,0.036, -0.062,0.087,0.080, -0.037,0.012,0.037\n",
      "0.008,0.011,-0.047, 0.009,0.012,-0.050, 0.008,0.011,-0.047, 0.009,0.012,-0.055\n",
      "0.018,0.024,-0.102, 0.019,0.025,-0.107, 0.019,0.025,-0.109, 0.020,0.025,-0.116\n",
      "0.022,0.029,-0.124, 0.022,0.029,-0.120, 0.022,0.028,-0.122, 0.024,0.031,-0.143\n",
      "0.015,0.021,-0.094, 0.017,0.022,-0.101, 0.016,0.021,-0.100, 0.017,0.021,-0.105\n",
      "0.009,0.011,-0.043, 0.010,0.012,-0.046, 0.009,0.011,-0.043, 0.009,0.012,-0.046\n",
      "-0.040,0.182,0.773, 0.230,0.026,0.886, 0.426,-0.472,0.589, 0.247,-0.137,0.830\n",
      "2.287,0.746,4.397, 1.813,1.535,2.951, 1.672,2.357,4.552, 1.671,1.763,2.977\n",
      "0.237,0.179,0.264, 0.142,0.146,0.354, 0.257,0.248,0.403, 0.147,0.138,0.535\n",
      "0.097,-0.768,-0.640, 0.110,0.023,-0.114, -0.180,0.091,-0.758, -0.024,0.108,0.087\n",
      "0.100,-0.141,-0.035, 0.099,0.056,0.089, -0.077,0.142,0.123, 0.030,0.096,0.135\n",
      "-0.756,-0.580,-0.738, -0.235,-0.252,-0.640, -0.287,-0.471,-0.752, -1.023,-0.065,-1.329\n",
      "0.720,0.743,1.099, 0.716,0.719,0.871, 0.315,1.055,1.406, 0.042,0.826,0.062\n",
      "-0.021,-0.037,1.655, -0.304,1.011,0.264, 0.121,0.176,1.054, 0.171,-0.133,0.052\n",
      "0.197,0.649,1.689, 1.111,0.642,-0.128, -0.033,0.739,1.802, 0.162,1.272,1.189\n"
     ]
    }
   ],
   "source": [
    "def saveSystError(er):\n",
    "    print( \"relative systematics uncertainty [%]\")\n",
    "    syst_sigma, syst_covar = [],[]\n",
    "\n",
    "    for source in [\"BtmUp\",\"BteUp\"]:\n",
    "        sigma = er.errConstent(source)\n",
    "        variance = np.outer(sigma.reshape(1,12),sigma.reshape(1,12))\n",
    "        syst_sigma.append(sigma)\n",
    "        syst_covar.append(variance)\n",
    "        \n",
    "    for source in [\"lumin\",\"mctt\",\"mctw\",\"mctother\",\"mcw\",'mcz','mcg','mcvv',\n",
    "                   \"fakee\",\"fakemu\",\"fakeetau\",\"fakemutau\"]:\n",
    "        sigma = er.errSystem_crossSection(source)\n",
    "        variance = np.outer(sigma.reshape(1,12),sigma.reshape(1,12))\n",
    "        syst_sigma.append(sigma)\n",
    "        syst_covar.append(variance)\n",
    "        \n",
    "        \n",
    "    for source in [\"TopPtReweight\",\"ERecoEff\",\"EIDEff\",\"MuRecoEff\",\"MuIDEff\",\"TauIDEff\",\"JetToTauIDEff\",\n",
    "                   \"EPt\",\"MuPt\",\"Tau0Pt\",\"Tau1Pt\",\"Tau10Pt\",\"ETriggerEffProbeSyst\",\"ETriggerEffTagSyst\"\n",
    "                  ]:\n",
    "        sigma = er.errSystem_downVariation(source)\n",
    "        variance = np.outer(sigma.reshape(1,12),sigma.reshape(1,12))\n",
    "        syst_sigma.append(sigma)\n",
    "        syst_covar.append(variance)\n",
    "        \n",
    "    for source in [\"tauReweight1000\",\"tauReweight11000\",\"tauReweight21000\",\n",
    "                   \"tauReweight3000\",\"tauReweight13000\"\n",
    "                  ]:\n",
    "        sigma = er.errSystem_upDownVariation(source)\n",
    "        variance = np.outer(sigma.reshape(1,12),sigma.reshape(1,12))\n",
    "        syst_sigma.append(sigma)\n",
    "        syst_covar.append(variance)\n",
    "        \n",
    "        \n",
    "    for source in [\"Pileup\",\"JES\",\"JER\",\"BTag\",\"Mistag\"]:\n",
    "        sigma = er.errSystem_upDownVariation(source)\n",
    "        variance = np.outer(sigma.reshape(1,12), sigma.reshape(1,12))\n",
    "        syst_sigma.append(sigma)\n",
    "        syst_covar.append(variance)   \n",
    "\n",
    "    for source in [\"fsr\",\"isr\",\"ue\",\"meps\"]:#\n",
    "        sigma = er.errSystem_upDownVariation(source)\n",
    "        variance = np.outer(sigma.reshape(1,12), sigma.reshape(1,12))\n",
    "        syst_sigma.append(sigma)\n",
    "        syst_covar.append(variance)  \n",
    "    \n",
    "#     for source in [\"fsr\",\"isr\",\"ue\",\"meps\"]:\n",
    "#         sigma = er.errSystem_upDownVariationCutResidue(source,cutResidue=3)\n",
    "#         variance = np.outer(sigma.reshape(1,12), sigma.reshape(1,12))\n",
    "#         syst_sigma.append(sigma)\n",
    "#         syst_covar.append(variance) \n",
    "    \n",
    "    syst_sigma = np.array(syst_sigma) \n",
    "    syst_covar = np.array(syst_covar) \n",
    "\n",
    "    er.io_printErrorForExcelFormat(syst_sigma.transpose(1,0,2))\n",
    "\n",
    "    s = syst_sigma.shape\n",
    "    syst_sigma = syst_sigma.reshape(s[0],s[1]*s[2])\n",
    "\n",
    "    baseDir = common.getBaseDirectory() \n",
    "    np.save(baseDir+'/data/combine/syst_sigma',syst_sigma)\n",
    "    np.save(baseDir+'/data/combine/syst_covar',syst_covar)\n",
    "\n",
    "saveSystError(er)"
   ]
  },
  {
   "cell_type": "markdown",
   "metadata": {},
   "source": [
    "# 3. output Latex Table"
   ]
  },
  {
   "cell_type": "code",
   "execution_count": 5,
   "metadata": {},
   "outputs": [],
   "source": [
    "%run -i '../scripts/note_uncertainty.py'"
   ]
  },
  {
   "cell_type": "code",
   "execution_count": 10,
   "metadata": {},
   "outputs": [],
   "source": [
    "#     for source in [\"e\",\"mu\",\"tauID\",'jetMisTauID']:\n",
    "#         sigma = er.errSystem_objectEff(source)\n",
    "#         variance = np.outer(sigma.reshape(1,12),sigma.reshape(1,12))\n",
    "#         syst_sigma.append(sigma)\n",
    "#         syst_covar.append(variance)"
   ]
  },
  {
   "cell_type": "code",
   "execution_count": 11,
   "metadata": {},
   "outputs": [
    {
     "data": {
      "text/plain": [
       "array([[-0.72937743, -0.51049613, -1.02998876],\n",
       "       [-0.27851618, -0.24015098, -0.80058707],\n",
       "       [-0.08171089, -0.39995758, -2.18621547],\n",
       "       [-0.96873063,  0.00758264, -1.85801155]])"
      ]
     },
     "execution_count": 11,
     "metadata": {},
     "output_type": "execute_result"
    }
   ],
   "source": [
    "sigma = er.errSystem_upDownVariationCutResidue(\"fsr\",3)\n",
    "sigma/0.108*100"
   ]
  },
  {
   "cell_type": "code",
   "execution_count": 12,
   "metadata": {},
   "outputs": [
    {
     "data": {
      "text/plain": [
       "array([[-0.02107514, -0.03684919,  1.66459745],\n",
       "       [-0.30556739,  1.01660794,  0.26593908],\n",
       "       [ 0.12169331,  0.17722437,  1.06014275],\n",
       "       [ 0.17243485, -0.1332533 ,  0.05264139]])"
      ]
     },
     "execution_count": 12,
     "metadata": {},
     "output_type": "execute_result"
    }
   ],
   "source": [
    "sigma = er.errSystem_upDownVariation(\"ue\")\n",
    "sigma/0.108*100"
   ]
  },
  {
   "cell_type": "code",
   "execution_count": 13,
   "metadata": {},
   "outputs": [
    {
     "data": {
      "text/plain": [
       "array([[0.77518768, 0.77455279, 1.62759062],\n",
       "       [0.75296454, 0.73357212, 1.30123416],\n",
       "       [0.46505114, 0.82507354, 1.70522452],\n",
       "       [0.72501211, 0.71365991, 1.29238623]])"
      ]
     },
     "execution_count": 13,
     "metadata": {},
     "output_type": "execute_result"
    }
   ],
   "source": [
    "sigma = er.errSystem_upDownVariationCutResidue(\"meps\",3)\n",
    "sigma/0.108*100"
   ]
  },
  {
   "cell_type": "code",
   "execution_count": 14,
   "metadata": {},
   "outputs": [],
   "source": [
    "counts = pd.read_pickle( \"../data/counts/count_.pkl\")"
   ]
  },
  {
   "cell_type": "code",
   "execution_count": 77,
   "metadata": {
    "collapsed": true
   },
   "outputs": [],
   "source": [
    "counts0 = pd.read_pickle( \"../data/counts/count_isrDown.pkl\")\n",
    "counts1 = pd.read_pickle( \"../data/counts/count_isrUp.pkl\")"
   ]
  },
  {
   "cell_type": "code",
   "execution_count": 68,
   "metadata": {},
   "outputs": [
    {
     "name": "stdout",
     "output_type": "stream",
     "text": [
      "$ee$                : 0.000, 0.000\n",
      "$\\mu\\mu$            : 0.962, 1.010\n",
      "$e\\mu$              : 0.945, 1.022\n",
      "$\\tau_e\\tau_e$      : 0.000, 0.000\n",
      "$\\tau_\\mu\\tau_\\mu$  : 0.000, 0.000\n",
      "$\\tau_e\\tau_\\mu$    : 0.000, 0.000\n",
      "$\\tau_e\\tau_h$      : 0.000, 0.000\n",
      "$\\tau_\\mu\\tau_h$    : 0.000, 0.000\n",
      "$\\tau_h\\tau_h$      : 0.000, 0.000\n",
      "$e\\tau_e$           : 0.000, 0.000\n",
      "$e\\tau_\\mu$         : 0.000, 0.000\n",
      "$e\\tau_h$           : 0.000, 0.000\n",
      "$\\mu\\tau_e$         : 0.920, 1.040\n",
      "$\\mu\\tau_\\mu$       : 0.943, 1.023\n",
      "$\\mu\\tau_h$         : 0.931, 1.033\n",
      "$eh$                : 0.528, 1.388\n",
      "$\\mu h$             : 0.916, 1.051\n",
      "$\\tau_eh$           : 0.000, 0.000\n",
      "$\\tau_\\mu h$        : 0.920, 1.060\n",
      "$\\tau_hh$           : 0.573, 1.419\n",
      "$hh$                : 0.502, 1.457\n"
     ]
    }
   ],
   "source": [
    "tr,ch,mc = 0,3,1\n",
    "\n",
    "acc = common.matrixToArray(counts.acc[tr][ch][mc])\n",
    "accUp = common.matrixToArray(counts1.acc[tr][ch][mc])\n",
    "accDown = common.matrixToArray(counts0.acc[tr][ch][mc])\n",
    "\n",
    "accVar = common.matrixToArray(counts.accVar[tr][ch][mc])\n",
    "accUpVar = common.matrixToArray(counts1.accVar[tr][ch][mc])\n",
    "accDownVar = common.matrixToArray(counts0.accVar[tr][ch][mc])\n",
    "\n",
    "resUp = abs(accUp-acc)/(accVar+accUpVar)**0.5\n",
    "resDown = abs(accDown-acc)/(accVar+accDownVar)**0.5\n",
    "\n",
    "name = common.WWBranchNames()\n",
    "for i in range(21):\n",
    "    sfUp,sfDown = 0,0\n",
    "    if resUp[i] > 3:\n",
    "        sfUp = accUp[i]/acc[i]\n",
    "        sfDown = accDown[i]/acc[i]\n",
    "    print(\"{:20}: {:5.3f}, {:5.3f}\".format(name[i],sfUp,sfDown))"
   ]
  },
  {
   "cell_type": "code",
   "execution_count": 88,
   "metadata": {
    "collapsed": true
   },
   "outputs": [],
   "source": [
    "tr = 3\n",
    "acc = counts.acc[tr].copy()\n",
    "acc1 = counts1.acc[tr].copy()\n",
    "acc0 = counts0.acc[tr].copy()\n",
    "\n",
    "acc01 = (acc1*1/3+acc0*2/3)\n",
    "\n",
    "accVar = counts.accVar[tr].copy()\n",
    "acc1Var = counts1.accVar[tr].copy()\n",
    "acc0Var = counts0.accVar[tr].copy()\n",
    "\n",
    "res1 = abs(acc1-acc)/(accVar+acc1Var)**0.5\n",
    "res0 = abs(acc0-acc)/(accVar+acc0Var)**0.5\n",
    "res01 = abs(acc0-acc1)/(acc1Var+acc0Var)**0.5\n",
    "\n",
    "for ch in range(4):\n",
    "    mc=1\n",
    "    for i in range(6):\n",
    "        for j in range(6):\n",
    "            if res01[ch,mc][i,j]<3:\n",
    "                acc1[ch,mc][i,j] = acc01[ch,mc][i,j]\n",
    "                acc0[ch,mc][i,j] = acc01[ch,mc][i,j]"
   ]
  },
  {
   "cell_type": "code",
   "execution_count": 89,
   "metadata": {},
   "outputs": [
    {
     "name": "stdout",
     "output_type": "stream",
     "text": [
      "[0.0988434  0.09565056 0.17098258]\n"
     ]
    }
   ],
   "source": [
    "# up tuning\n",
    "slv1 = BFSolver3D( np.sum(acc1*er.ca,axis=1) )\n",
    "BW1  = slv1.solveQuadEqn(slv1.setMeasuredX(nData=counts1.ndata[tr], nMcbg=counts1.nmcbg[tr].sum(axis=1)+counts1.nfake[tr]))\n",
    "# down tuning\n",
    "slv2 = BFSolver3D( np.sum(acc0*er.ca,axis=1) )\n",
    "BW2  = slv2.solveQuadEqn(slv2.setMeasuredX(nData=counts0.ndata[tr], nMcbg=counts0.nmcbg[tr].sum(axis=1)+counts0.nfake[tr]))\n",
    "# differentce between up and down tuning\n",
    "print((BW1-BW2)/2/0.1080*100)"
   ]
  },
  {
   "cell_type": "code",
   "execution_count": 85,
   "metadata": {},
   "outputs": [
    {
     "name": "stdout",
     "output_type": "stream",
     "text": [
      "[0. 0. 0. 0.]\n",
      "[[0. 0. 0.]\n",
      " [0. 0. 0.]\n",
      " [0. 0. 0.]\n",
      " [0. 0. 0.]]\n",
      "[0. 0. 0. 0.]\n"
     ]
    }
   ],
   "source": [
    "print(counts.ndata[0]-counts0.ndata[0])\n",
    "print(counts.nmcbg[0]-counts0.nmcbg[0])\n",
    "print(counts.nfake[0]-counts0.nfake[0])"
   ]
  },
  {
   "cell_type": "code",
   "execution_count": 24,
   "metadata": {},
   "outputs": [
    {
     "data": {
      "text/plain": [
       "array([[1.23812276e+00, 5.44267664e-03,            inf, 2.26110848e-02,\n",
       "        6.02663712e-01, 1.20661118e-01],\n",
       "       [5.44267664e-03, 7.80294975e-03, 1.27426556e-02, 1.38241656e-02,\n",
       "        5.41245226e-03, 1.07055726e-03],\n",
       "       [           inf, 1.27426556e-02,            inf, 5.33164419e-02,\n",
       "                   inf, 2.40599071e-01],\n",
       "       [2.26110848e-02, 1.38241656e-02, 5.33164419e-02, 6.28052574e-02,\n",
       "        2.26312636e-02, 4.59895401e-03],\n",
       "       [6.02663712e-01, 5.41245226e-03,            inf, 2.26312636e-02,\n",
       "        4.35954570e-01, 1.03693105e-01],\n",
       "       [1.20661118e-01, 1.07055726e-03, 2.40599071e-01, 4.59895401e-03,\n",
       "        1.03693105e-01, 3.80247767e-02]])"
      ]
     },
     "execution_count": 24,
     "metadata": {},
     "output_type": "execute_result"
    }
   ],
   "source": [
    "counts1.accVar[0][3][1]**0.5/counts1.acc[0][3][1]"
   ]
  },
  {
   "cell_type": "code",
   "execution_count": 2,
   "metadata": {
    "collapsed": true
   },
   "outputs": [],
   "source": [
    "sigma, variance_raw = er.errStat(\"mcsg\",returnCovar=True)"
   ]
  },
  {
   "cell_type": "code",
   "execution_count": 4,
   "metadata": {},
   "outputs": [
    {
     "data": {
      "text/plain": [
       "array([[0.53401089, 0.45867545, 1.15690868],\n",
       "       [0.95222688, 0.80551395, 1.82853771],\n",
       "       [0.64549883, 0.52774019, 1.38175311],\n",
       "       [1.2019165 , 0.93939064, 2.2449766 ]])"
      ]
     },
     "execution_count": 4,
     "metadata": {},
     "output_type": "execute_result"
    }
   ],
   "source": [
    "sigma/0.108*100"
   ]
  },
  {
   "cell_type": "code",
   "execution_count": null,
   "metadata": {
    "collapsed": true
   },
   "outputs": [],
   "source": []
  }
 ],
 "metadata": {
  "kernelspec": {
   "display_name": "Python 3",
   "language": "python",
   "name": "python3"
  },
  "language_info": {
   "codemirror_mode": {
    "name": "ipython",
    "version": 3
   },
   "file_extension": ".py",
   "mimetype": "text/x-python",
   "name": "python",
   "nbconvert_exporter": "python",
   "pygments_lexer": "ipython3",
   "version": "3.7.6"
  }
 },
 "nbformat": 4,
 "nbformat_minor": 2
}
