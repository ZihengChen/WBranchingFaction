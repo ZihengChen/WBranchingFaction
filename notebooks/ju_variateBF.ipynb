{
 "cells": [
  {
   "cell_type": "code",
   "execution_count": 1,
   "metadata": {},
   "outputs": [],
   "source": [
    "from utility_bfvariater import *\n",
    "import datetime"
   ]
  },
  {
   "cell_type": "code",
   "execution_count": 2,
   "metadata": {},
   "outputs": [],
   "source": [
    "tb = BFSolver_Toolbox()\n",
    "er = BFVariater()"
   ]
  },
  {
   "cell_type": "markdown",
   "metadata": {},
   "source": [
    "# 1. Try One Case"
   ]
  },
  {
   "cell_type": "code",
   "execution_count": 3,
   "metadata": {},
   "outputs": [
    {
     "name": "stdout",
     "output_type": "stream",
     "text": [
      "[0.10912736 0.1077028  0.10706577]\n",
      "[0.11225778 0.11009797 0.10503398]\n",
      "[0.10531882 0.10770093 0.10801755]\n",
      "[0.11050912 0.10937777 0.10776729]\n"
     ]
    }
   ],
   "source": [
    "for i in range(4):\n",
    "\n",
    "    ndata,ndataVar = er.ndata[i],er.ndataVar[i]\n",
    "    nmcbg,nmcbgVar = er.nmcbg[i].dot(np.array([1,1,1])), er.nmcbgVar[i].dot(np.array([1,1,1]))\n",
    "    nfake,nfakeVar = er.nfake[i],er.nfakeVar[i]\n",
    "    a,aVar = er.a[i],er.aVar[i]\n",
    "    aVar[a<0.001] = np.zeros_like(a)[a<0.001]\n",
    "\n",
    "    slv0 = BFSolver3D(a)\n",
    "    br0 = slv0.solveQuadEqn(slv0.setMeasuredX(nData=ndata, nMcbg=nmcbg+nfake))\n",
    "    print(br0)"
   ]
  },
  {
   "cell_type": "markdown",
   "metadata": {},
   "source": [
    "# 2. Statistical and Systematical Error"
   ]
  },
  {
   "cell_type": "code",
   "execution_count": 4,
   "metadata": {},
   "outputs": [
    {
     "name": "stdout",
     "output_type": "stream",
     "text": [
      "0.000,0.000,0.000, 0.000,0.000,0.000, 0.000,0.000,0.000, 0.000,0.000,0.000\n",
      "0.005,0.050,0.076, 0.005,0.049,0.075, 0.008,0.050,0.076, 0.007,0.049,0.076\n",
      "0.029,0.010,0.059, 0.028,0.010,0.058, 0.025,0.007,0.060, 0.024,0.008,0.060\n",
      "0.010,0.003,0.105, 0.003,0.010,0.057, 0.011,0.008,0.114, 0.009,0.007,0.004\n",
      "0.010,0.003,0.109, 0.003,0.011,0.059, 0.012,0.008,0.119, 0.009,0.007,0.004\n",
      "0.156,0.156,0.149, 0.051,0.051,0.040, 0.150,0.152,0.168, 0.048,0.048,0.072\n",
      "0.147,0.707,0.070, 0.049,0.172,0.036, 0.438,0.135,0.024, 0.055,0.042,0.022\n",
      "0.000,0.020,0.012, 0.001,0.009,0.002, 0.016,0.001,0.008, 0.006,0.001,0.001\n",
      "0.641,0.618,1.286, 0.423,0.403,0.708, 0.000,0.000,0.000, 0.000,0.000,0.000\n",
      "0.000,0.000,0.000, 0.000,0.000,0.000, 0.377,0.379,0.785, 0.204,0.197,0.353\n",
      "0.249,0.333,1.704, 0.149,0.196,1.020, 0.226,0.303,1.632, 0.102,0.137,0.750\n",
      "0.151,0.280,0.037, 0.050,0.062,0.001, 0.148,0.144,0.070, 0.005,0.045,0.025\n",
      "1.008,0.091,0.077, 1.027,0.093,0.075, 1.067,0.109,0.086, 1.016,0.102,0.080\n",
      "0.140,1.184,0.122, 0.129,1.068,0.105, 0.107,1.033,0.104, 0.110,1.028,0.102\n",
      "0.669,0.896,4.580, 0.655,0.864,4.490, 0.639,0.858,4.614, 0.623,0.843,4.603\n",
      "0.414,0.555,2.835, 0.316,0.418,2.169, 0.394,0.529,2.846, 0.297,0.401,2.190\n",
      "0.233,0.021,0.018, 0.218,0.020,0.016, 0.165,0.210,0.014, 0.048,0.236,0.011\n",
      "0.086,0.109,0.030, 0.114,0.085,0.010, 0.011,0.103,0.010, 0.013,0.123,0.012\n",
      "0.274,0.367,1.874, 0.218,0.289,1.499, 0.240,0.322,1.733, 0.216,0.292,1.595\n",
      "1.847,0.911,4.120, 1.768,1.389,2.842, 1.330,1.707,4.055, 1.551,1.625,2.950\n",
      "0.136,0.136,0.431, 0.179,0.126,0.192, 0.137,0.129,0.445, 0.232,0.123,0.080\n",
      "0.049,0.284,0.050, 0.074,0.153,0.685, 0.210,0.014,0.258, 0.073,0.095,0.335\n",
      "0.108,0.129,0.160, 0.157,0.082,0.241, 0.147,0.123,0.212, 0.175,0.141,0.223\n"
     ]
    }
   ],
   "source": [
    "total = np.zeros([4,1,3])\n",
    "# PDG\n",
    "err = [ er.errConstent(source) for source in [\"BtmUp\",\"BteUp\"] ]\n",
    "err = np.array(err).transpose(1,0,2)\n",
    "total = np.concatenate( (total,err),axis=1 )\n",
    "\n",
    "# sysCrossSection\n",
    "err = [ er.errSystem_crossSection(source) for source in [\"mctt\",\"mctw\",\"mcw\",'mcz','mcvv',\"fakemu\",\"fakee\",\"faketau\",\"lumin\"] ]\n",
    "err = np.array(err).transpose(1,0,2)\n",
    "total = np.concatenate( (total,err),axis=1 )\n",
    "\n",
    "# sysObjectEff\n",
    "err = [ er.errSystem_objectEff(source) for source in [\"e\",\"mu\",\"tauID\",'jetMisTauID'] ]\n",
    "#err = [ er.errSystem_objectEff(source) for source in [\"e\",\"mu\",'tauIDNotFactorized'] ]\n",
    "err = np.array(err).transpose(1,0,2)\n",
    "total = np.concatenate( (total,err),axis=1 )\n",
    "\n",
    "# sysEnergyScale\n",
    "err = [ er.errSystem_energyScale(source) for source in [\"E\",\"Mu\",\"Tau\"] ]\n",
    "err = np.array(err).transpose(1,0,2)\n",
    "total = np.concatenate( (total,err),axis=1 )\n",
    "\n",
    "# sysJet\n",
    "err = [ er.errSystem_upDownVariation(source) for source in [\"JES\",\"JER\",\"BTag\",\"Mistag\"] ]\n",
    "err = np.array(err).transpose(1,0,2)\n",
    "total = np.concatenate( (total,err),axis=1 )\n",
    "\n",
    "er.io_printErrorForExcelFormat(total)"
   ]
  },
  {
   "cell_type": "code",
   "execution_count": 5,
   "metadata": {},
   "outputs": [],
   "source": [
    "# systematic\n",
    "sigma_syst = total.transpose(1,0,2)\n",
    "s = sigma_syst.shape\n",
    "sigma_syst = sigma_syst.reshape(s[0],s[1]*s[2])\n",
    "\n",
    "covar_syst = []\n",
    "for i in sigma_syst:\n",
    "    covar_syst.append(np.outer(i,i))\n",
    "covar_syst = np.array(covar_syst)\n",
    "\n",
    "# statistics\n",
    "sig_stat, covar_stat_raw = er.errStat('data',returnCovar=True)\n",
    "covar_stat = np.zeros([12,12])\n",
    "for c in range(4):\n",
    "    for i in range(3):\n",
    "        for j in range(3):\n",
    "            covar_stat[c*3+i,c*3+j] = covar_stat_raw[c,i,j]\n",
    "            \n",
    "            \n",
    "covar = covar_syst\n",
    "covar[0] = covar_stat"
   ]
  },
  {
   "cell_type": "code",
   "execution_count": 6,
   "metadata": {},
   "outputs": [],
   "source": [
    "np.save('../data/combine/covar',covar)\n",
    "np.save('../data/combine/sigma',sigma_syst) "
   ]
  },
  {
   "cell_type": "code",
   "execution_count": null,
   "metadata": {},
   "outputs": [],
   "source": [
    "# statistics\n",
    "# err = [ er.errStat(source) for source in [\"data\",\"mcbg\",\"mcsg\"] ]\n",
    "# err = np.array(err).transpose(1,0,2)\n",
    "# er.io_printErrorForExcelFormat(err)\n",
    "# total = np.concatenate( (total,err),axis=1 )\n",
    "\n",
    "# # sysLHE\n",
    "# err = [ er.errSystem_upDownVariation(source) for source in [\"Renorm\",\"Factor\",\"PDF\"] ]\n",
    "# # err[0] = err[0]/(0.75/0.1)\n",
    "# # err[1] = err[1]/(0.75/0.1)\n",
    "# err = np.array(err).transpose(1,0,2)\n",
    "# er.io_printErrorForExcelFormat(err)\n",
    "# #total = np.concatenate( (total,err),axis=1 )\n",
    "\n",
    "# # errSystem_ttTheory\n",
    "# err = [ er.errSystem_upDownVariation(source) for source in [ \"ISR\",\"FSR\",\"UE\",\"MEPS\"] ]\n",
    "# # err[0] = err[0]/(0.1108*0.75/0.0011)\n",
    "# # err[1] = err[1]/(0.1108*0.75/0.0011)\n",
    "# err = np.array(err).transpose(1,0,2)\n",
    "# er.io_printErrorForExcelFormat(err)\n",
    "# #total = np.concatenate( (total,err),axis=1 )"
   ]
  }
 ],
 "metadata": {
  "kernelspec": {
   "display_name": "Python 3",
   "language": "python",
   "name": "python3"
  },
  "language_info": {
   "codemirror_mode": {
    "name": "ipython",
    "version": 3
   },
   "file_extension": ".py",
   "mimetype": "text/x-python",
   "name": "python",
   "nbconvert_exporter": "python",
   "pygments_lexer": "ipython3",
   "version": "3.6.4"
  }
 },
 "nbformat": 4,
 "nbformat_minor": 2
}
