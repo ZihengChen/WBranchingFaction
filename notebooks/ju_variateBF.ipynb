{
 "cells": [
  {
   "cell_type": "code",
   "execution_count": 2,
   "metadata": {
    "collapsed": true
   },
   "outputs": [],
   "source": [
    "from utility_bfvariater import *\n",
    "import utility_common as common\n",
    "\n",
    "# creat a BF variater\n",
    "er = BFVariater()"
   ]
  },
  {
   "cell_type": "markdown",
   "metadata": {},
   "source": [
    "# 1. Central Value"
   ]
  },
  {
   "cell_type": "code",
   "execution_count": 3,
   "metadata": {},
   "outputs": [
    {
     "name": "stdout",
     "output_type": "stream",
     "text": [
      "save conteral values\n",
      "[ 0.10952922  0.10757386  0.10391938  0.11200021  0.11023497  0.10355297\n",
      "  0.10492754  0.10761074  0.10437442  0.10986088  0.10864141  0.10559611]\n"
     ]
    }
   ],
   "source": [
    "def saveCentralValues(er):\n",
    "    print( \"save conteral values\")\n",
    "\n",
    "    contralValue = []\n",
    "    for i in range(4):\n",
    "\n",
    "        ndata = er.ndata[i]\n",
    "        nmcbg = er.nmcbg[i].dot(np.ones(3))\n",
    "        nfake = er.nfake[i]\n",
    "        a = np.sum(er.a[i] * er.ca, axis=1)\n",
    "\n",
    "        slv0 = BFSolver3D(a)\n",
    "        br0 = slv0.solveQuadEqn(slv0.setMeasuredX(nData=ndata, nMcbg=nmcbg+nfake))\n",
    "        contralValue.append(br0)\n",
    "    contralValue = np.array(contralValue).reshape(12)\n",
    "\n",
    "    baseDir = common.getBaseDirectory() \n",
    "\n",
    "    print(contralValue)\n",
    "\n",
    "    np.save(baseDir+'/data/combine/contralValue',contralValue)\n",
    "saveCentralValues(er)"
   ]
  },
  {
   "cell_type": "markdown",
   "metadata": {},
   "source": [
    "# 2. uncertainty"
   ]
  },
  {
   "cell_type": "markdown",
   "metadata": {},
   "source": [
    "### 2.1 Statistical Uncertainty"
   ]
  },
  {
   "cell_type": "code",
   "execution_count": 4,
   "metadata": {},
   "outputs": [
    {
     "name": "stdout",
     "output_type": "stream",
     "text": [
      "relative statistical uncertainty [%]\n",
      "0.553,0.516,1.218, 0.982,0.869,2.021, 0.710,0.550,1.444, 1.236,0.966,2.455\n",
      "0.134,0.546,0.589, 0.137,0.515,0.636, 0.640,0.177,0.692, 0.595,0.166,0.635\n",
      "0.266,0.226,0.571, 0.462,0.395,0.928, 0.323,0.264,0.690, 0.574,0.452,1.134\n"
     ]
    }
   ],
   "source": [
    "def saveStatError(er):\n",
    "    print( \"relative statistical uncertainty [%]\")\n",
    "\n",
    "    stat_sigma, stat_covar = [],[]\n",
    "\n",
    "    for source in [\"data\",\"mcbg\",\"mcsg\"]:\n",
    "        sigma, variance_raw = er.errStat(source,returnCovar=True)\n",
    "        # reshape 4x3x3 to 12x12\n",
    "        variance = np.zeros([12,12])\n",
    "        for c in range(4):\n",
    "            for i in range(3):\n",
    "                for j in range(3):\n",
    "                    variance[c*3+i,c*3+j] = variance_raw[c,i,j]\n",
    "                    \n",
    "        stat_sigma.append(sigma)\n",
    "        stat_covar.append(variance)\n",
    "\n",
    "    stat_sigma = np.array(stat_sigma)  \n",
    "    stat_covar = np.array(stat_covar) \n",
    "\n",
    "    er.io_printErrorForExcelFormat(stat_sigma.transpose(1,0,2))\n",
    "\n",
    "    s = stat_sigma.shape\n",
    "    stat_sigma = stat_sigma.reshape(s[0],s[1]*s[2])\n",
    "\n",
    "    baseDir = common.getBaseDirectory() \n",
    "    np.save(baseDir+'/data/combine/stat_sigma',stat_sigma)\n",
    "    np.save(baseDir+'/data/combine/stat_covar',stat_covar)\n",
    "\n",
    "saveStatError(er)"
   ]
  },
  {
   "cell_type": "markdown",
   "metadata": {},
   "source": [
    "### 2.2 Systematical Uncertainty"
   ]
  },
  {
   "cell_type": "code",
   "execution_count": 5,
   "metadata": {},
   "outputs": [
    {
     "name": "stdout",
     "output_type": "stream",
     "text": [
      "relative systematics uncertainty [%]\n",
      "0.005,0.049,0.074, 0.004,0.048,0.074, 0.007,0.048,0.073, 0.007,0.049,0.075\n",
      "0.027,0.010,0.058, 0.028,0.010,0.058, 0.024,0.007,0.058, 0.024,0.008,0.060\n",
      "0.151,0.279,0.035, 0.050,0.062,0.001, 0.148,0.143,0.066, 0.005,0.045,0.024\n",
      "0.010,0.003,0.098, 0.003,0.010,0.055, 0.011,0.008,0.108, 0.009,0.006,0.003\n",
      "0.011,0.003,0.103, 0.003,0.011,0.057, 0.012,0.009,0.113, 0.009,0.007,0.003\n",
      "0.157,0.156,0.146, 0.051,0.051,0.039, 0.149,0.152,0.164, 0.048,0.047,0.072\n",
      "0.293,1.410,0.142, 0.097,0.343,0.072, 0.872,0.268,0.054, 0.110,0.084,0.045\n",
      "0.000,0.020,0.012, 0.001,0.009,0.002, 0.016,0.001,0.008, 0.006,0.001,0.001\n",
      "0.000,0.000,0.000, 0.000,0.000,0.000, 0.374,0.376,0.767, 0.201,0.192,0.347\n",
      "0.642,0.615,1.259, 0.418,0.400,0.697, 0.000,0.000,0.000, 0.000,0.000,0.000\n",
      "0.000,0.000,0.000, 0.000,0.000,0.000, 0.257,0.345,1.864, 0.122,0.169,0.913\n",
      "0.277,0.375,1.908, 0.164,0.219,1.134, 0.000,0.000,0.000, 0.000,0.000,0.000\n",
      "0.397,0.036,0.030, 0.400,0.036,0.029, 0.024,0.023,0.011, 0.001,0.008,0.004\n",
      "3.395,0.307,0.253, 3.527,0.321,0.253, 0.100,0.174,0.072, 0.014,0.093,0.054\n",
      "0.201,1.311,0.134, 0.150,1.112,0.107, 0.108,1.046,0.101, 0.111,1.040,0.100\n",
      "0.741,1.003,5.110, 0.713,0.955,4.942, 0.699,0.941,5.079, 0.678,0.934,5.059\n",
      "0.370,0.501,2.552, 0.272,0.364,1.883, 0.353,0.474,2.561, 0.255,0.352,1.904\n",
      "0.248,0.022,0.019, 0.166,0.015,0.012, 0.152,0.217,0.041, 0.055,0.221,0.019\n",
      "0.085,0.106,0.030, 0.116,0.092,0.001, 0.011,0.108,0.010, 0.013,0.123,0.012\n",
      "0.029,0.039,0.201, 0.031,0.042,0.218, 0.035,0.047,0.254, 0.031,0.043,0.232\n",
      "0.086,0.117,0.595, 0.070,0.094,0.487, 0.061,0.082,0.441, 0.082,0.113,0.614\n",
      "0.024,0.033,0.168, 0.033,0.044,0.227, 0.023,0.031,0.168, 0.015,0.020,0.109\n",
      "0.281,0.389,1.438, 0.430,0.184,0.976, 0.155,0.058,1.113, 0.459,0.131,1.106\n",
      "1.859,0.946,4.028, 1.722,1.375,2.910, 1.311,1.702,4.011, 1.576,1.584,3.008\n",
      "0.140,0.136,0.400, 0.188,0.087,0.176, 0.139,0.126,0.394, 0.299,0.106,0.091\n",
      "0.039,0.314,0.020, 0.112,0.093,0.651, 0.191,0.042,0.178, 0.016,0.031,0.519\n",
      "0.114,0.121,0.137, 0.156,0.062,0.285, 0.151,0.119,0.213, 0.173,0.147,0.200\n"
     ]
    }
   ],
   "source": [
    "def saveSystError(er):\n",
    "    print( \"relative systematics uncertainty [%]\")\n",
    "    syst_sigma, syst_covar = [],[]\n",
    "\n",
    "    for source in [\"BtmUp\",\"BteUp\"]:\n",
    "        sigma = er.errConstent(source)\n",
    "        variance = np.outer(sigma.reshape(1,12),sigma.reshape(1,12))\n",
    "        syst_sigma.append(sigma)\n",
    "        syst_covar.append(variance)\n",
    "        \n",
    "    for source in [\"lumin\",\"mctt\",\"mctw\",\"mcw\",'mcz','mcvv',\n",
    "                   \"fakee\",\"fakemu\",\"fakeetau\",\"fakemutau\"]:\n",
    "        sigma = er.errSystem_crossSection(source)\n",
    "        variance = np.outer(sigma.reshape(1,12),sigma.reshape(1,12))\n",
    "        syst_sigma.append(sigma)\n",
    "        syst_covar.append(variance)\n",
    "        \n",
    "        \n",
    "    for source in [\"ERecoEff\",\"EIDEff\",\"MuEff\",\"TauIDEff\",\"JetToTauIDEff\",\n",
    "                   \"EPt\",\"MuPt\",\"Tau0Pt\",\"Tau1Pt\",\"Tau10Pt\"]:\n",
    "        sigma = er.errSystem_downVariation(source)\n",
    "        variance = np.outer(sigma.reshape(1,12),sigma.reshape(1,12))\n",
    "        syst_sigma.append(sigma)\n",
    "        syst_covar.append(variance)\n",
    "\n",
    "    for source in [\"Pileup\",\"JES\",\"JER\",\"BTag\",\"Mistag\"]:\n",
    "        sigma = er.errSystem_upDownVariation(source)\n",
    "        variance = np.outer(sigma,sigma)\n",
    "        syst_sigma.append(sigma)\n",
    "        syst_covar.append(variance)\n",
    "        \n",
    "    \n",
    "    syst_sigma = np.array(syst_sigma) \n",
    "    syst_covar = np.array(syst_covar) \n",
    "\n",
    "    er.io_printErrorForExcelFormat(syst_sigma.transpose(1,0,2))\n",
    "\n",
    "    s = syst_sigma.shape\n",
    "    syst_sigma = syst_sigma.reshape(s[0],s[1]*s[2])\n",
    "\n",
    "    baseDir = common.getBaseDirectory() \n",
    "    np.save(baseDir+'/data/combine/syst_sigma',syst_sigma)\n",
    "    np.save(baseDir+'/data/combine/syst_covar',syst_covar)\n",
    "\n",
    "saveSystError(er)"
   ]
  },
  {
   "cell_type": "markdown",
   "metadata": {},
   "source": [
    "# 3. output Latex Table"
   ]
  },
  {
   "cell_type": "code",
   "execution_count": 6,
   "metadata": {
    "collapsed": true
   },
   "outputs": [],
   "source": [
    "%run -i '/Users/zihengchen/Documents/Analysis/workplace/scripts/note_uncertainty.py'"
   ]
  },
  {
   "cell_type": "code",
   "execution_count": null,
   "metadata": {
    "collapsed": true
   },
   "outputs": [],
   "source": []
  },
  {
   "cell_type": "code",
   "execution_count": null,
   "metadata": {
    "collapsed": true
   },
   "outputs": [],
   "source": []
  },
  {
   "cell_type": "code",
   "execution_count": null,
   "metadata": {
    "collapsed": true
   },
   "outputs": [],
   "source": [
    "#     for source in [\"e\",\"mu\",\"tauID\",'jetMisTauID']:\n",
    "#         sigma = er.errSystem_objectEff(source)\n",
    "#         variance = np.outer(sigma.reshape(1,12),sigma.reshape(1,12))\n",
    "#         syst_sigma.append(sigma)\n",
    "#         syst_covar.append(variance)"
   ]
  }
 ],
 "metadata": {
  "kernelspec": {
   "display_name": "Python 3",
   "language": "python",
   "name": "python3"
  },
  "language_info": {
   "codemirror_mode": {
    "name": "ipython",
    "version": 3
   },
   "file_extension": ".py",
   "mimetype": "text/x-python",
   "name": "python",
   "nbconvert_exporter": "python",
   "pygments_lexer": "ipython3",
   "version": "3.6.1"
  }
 },
 "nbformat": 4,
 "nbformat_minor": 2
}
