{
 "cells": [
  {
   "cell_type": "code",
   "execution_count": 1,
   "metadata": {
    "collapsed": true
   },
   "outputs": [],
   "source": [
    "from utility_bfvariater import *\n",
    "import utility_common as common\n",
    "\n",
    "# creat a BF variater\n",
    "er = BFVariater()"
   ]
  },
  {
   "cell_type": "markdown",
   "metadata": {},
   "source": [
    "# 1. Central Value"
   ]
  },
  {
   "cell_type": "code",
   "execution_count": 2,
   "metadata": {},
   "outputs": [
    {
     "name": "stdout",
     "output_type": "stream",
     "text": [
      "save conteral values\n",
      "[0.11000775 0.10867409 0.10036348 0.11241179 0.11032106 0.10078176\n",
      " 0.10537486 0.10834266 0.10156052 0.10917631 0.10996087 0.10180731]\n"
     ]
    }
   ],
   "source": [
    "def saveCentralValues(er):\n",
    "    print( \"save conteral values\")\n",
    "\n",
    "    contralValue = []\n",
    "    for i in range(4):\n",
    "\n",
    "        ndata = er.ndata[i]\n",
    "        nmcbg = er.nmcbg[i].dot(np.ones(3))\n",
    "        nfake = er.nfake[i]\n",
    "        a = np.sum(er.a[i] * er.ca, axis=1)\n",
    "\n",
    "        slv0 = BFSolver3D(a)\n",
    "        br0 = slv0.solveQuadEqn(slv0.setMeasuredX(nData=ndata, nMcbg=nmcbg+nfake))\n",
    "        contralValue.append(br0)\n",
    "    contralValue = np.array(contralValue).reshape(12)\n",
    "\n",
    "    baseDir = common.getBaseDirectory() \n",
    "\n",
    "    print(contralValue)\n",
    "\n",
    "    np.save(baseDir+'/data/combine/contralValue',contralValue)\n",
    "saveCentralValues(er)"
   ]
  },
  {
   "cell_type": "markdown",
   "metadata": {},
   "source": [
    "# 2. uncertainty"
   ]
  },
  {
   "cell_type": "markdown",
   "metadata": {},
   "source": [
    "### 2.1 Statistical Uncertainty"
   ]
  },
  {
   "cell_type": "code",
   "execution_count": 3,
   "metadata": {},
   "outputs": [
    {
     "name": "stdout",
     "output_type": "stream",
     "text": [
      "relative statistical uncertainty [%]\n",
      "0.554,0.517,1.223, 0.983,0.870,2.030, 0.711,0.552,1.454, 1.235,0.969,2.466\n",
      "0.136,0.547,0.607, 0.142,0.517,0.647, 0.639,0.180,0.710, 0.595,0.179,0.732\n",
      "0.266,0.227,0.572, 0.464,0.394,0.929, 0.323,0.265,0.695, 0.571,0.452,1.128\n"
     ]
    }
   ],
   "source": [
    "def saveStatError(er):\n",
    "    print( \"relative statistical uncertainty [%]\")\n",
    "\n",
    "    stat_sigma, stat_covar = [],[]\n",
    "\n",
    "    for source in [\"data\",\"mcbg\",\"mcsg\"]:\n",
    "        sigma, variance_raw = er.errStat(source,returnCovar=True)\n",
    "        # reshape 4x3x3 to 12x12\n",
    "        variance = np.zeros([12,12])\n",
    "        for c in range(4):\n",
    "            for i in range(3):\n",
    "                for j in range(3):\n",
    "                    variance[c*3+i,c*3+j] = variance_raw[c,i,j]\n",
    "                    \n",
    "        stat_sigma.append(sigma)\n",
    "        stat_covar.append(variance)\n",
    "\n",
    "    stat_sigma = np.array(stat_sigma)  \n",
    "    stat_covar = np.array(stat_covar) \n",
    "\n",
    "    er.io_printErrorForExcelFormat(stat_sigma.transpose(1,0,2))\n",
    "\n",
    "    s = stat_sigma.shape\n",
    "    stat_sigma = stat_sigma.reshape(s[0],s[1]*s[2])\n",
    "\n",
    "    baseDir = common.getBaseDirectory() \n",
    "    np.save(baseDir+'/data/combine/stat_sigma',stat_sigma)\n",
    "    np.save(baseDir+'/data/combine/stat_covar',stat_covar)\n",
    "\n",
    "saveStatError(er)"
   ]
  },
  {
   "cell_type": "markdown",
   "metadata": {},
   "source": [
    "### 2.2 Systematical Uncertainty"
   ]
  },
  {
   "cell_type": "code",
   "execution_count": 4,
   "metadata": {},
   "outputs": [
    {
     "name": "stdout",
     "output_type": "stream",
     "text": [
      "relative systematics uncertainty [%]\n",
      "0.005,0.050,0.075, 0.005,0.048,0.074, 0.007,0.048,0.074, 0.007,0.048,0.074\n",
      "0.028,0.010,0.059, 0.028,0.010,0.058, 0.024,0.007,0.058, 0.024,0.008,0.059\n",
      "0.150,0.267,0.033, 0.048,0.072,0.007, 0.136,0.140,0.073, 0.007,0.048,0.009\n",
      "0.010,0.002,0.105, 0.002,0.011,0.052, 0.007,0.006,0.119, 0.001,0.000,0.007\n",
      "0.011,0.002,0.110, 0.002,0.012,0.054, 0.007,0.007,0.124, 0.001,0.000,0.007\n",
      "0.156,0.156,0.147, 0.052,0.051,0.040, 0.149,0.153,0.165, 0.048,0.048,0.074\n",
      "0.290,1.361,0.152, 0.088,0.383,0.047, 0.828,0.255,0.028, 0.118,0.094,0.110\n",
      "0.001,0.020,0.011, 0.001,0.008,0.004, 0.017,0.001,0.008, 0.006,0.001,0.001\n",
      "0.000,0.000,0.000, 0.000,0.000,0.000, 0.336,0.336,0.729, 0.177,0.173,0.322\n",
      "0.617,0.590,1.285, 0.401,0.381,0.700, 0.000,0.000,0.000, 0.000,0.000,0.000\n",
      "0.000,0.000,0.000, 0.000,0.000,0.000, 0.025,0.034,0.184, 0.013,0.018,0.098\n",
      "0.028,0.038,0.195, 0.016,0.021,0.107, 0.000,0.000,0.000, 0.000,0.000,0.000\n",
      "0.006,0.009,0.035, 0.006,0.010,0.017, 0.006,0.007,0.040, 0.006,0.006,0.010\n",
      "0.574,0.052,0.043, 0.578,0.053,0.041, 0.626,0.093,0.058, 0.569,0.068,0.047\n",
      "1.392,0.126,0.104, 1.410,0.128,0.100, 1.579,0.177,0.178, 1.449,0.124,0.140\n",
      "0.010,0.107,0.012, 0.007,0.094,0.010, 0.008,0.076,0.007, 0.008,0.076,0.007\n",
      "0.025,0.411,0.050, 0.014,0.363,0.038, 0.030,0.293,0.028, 0.032,0.298,0.028\n",
      "0.755,1.022,5.191, 0.717,0.953,4.950, 0.709,0.952,5.127, 0.684,0.928,5.051\n",
      "0.403,0.546,2.772, 0.298,0.396,2.058, 0.385,0.516,2.783, 0.280,0.381,2.072\n",
      "0.252,0.023,0.019, 0.154,0.014,0.011, 0.121,0.185,0.039, 0.002,0.156,0.100\n",
      "0.093,0.112,0.034, 0.121,0.087,0.019, 0.011,0.108,0.010, 0.013,0.121,0.012\n",
      "0.029,0.039,0.199, 0.031,0.041,0.215, 0.034,0.046,0.248, 0.032,0.043,0.237\n",
      "0.087,0.117,0.596, 0.073,0.097,0.502, 0.063,0.085,0.456, 0.084,0.114,0.618\n",
      "0.025,0.034,0.173, 0.032,0.042,0.218, 0.023,0.031,0.165, 0.010,0.014,0.077\n",
      "0.009,0.013,0.055, 0.009,0.012,0.051, 0.009,0.012,0.051, 0.010,0.012,0.056\n",
      "0.025,0.033,0.140, 0.026,0.033,0.146, 0.024,0.032,0.145, 0.025,0.032,0.145\n",
      "0.003,0.004,0.017, 0.003,0.004,0.015, 0.003,0.004,0.016, 0.003,0.004,0.019\n",
      "0.016,0.022,0.100, 0.018,0.023,0.110, 0.017,0.022,0.107, 0.017,0.022,0.107\n",
      "0.005,0.006,0.024, 0.005,0.006,0.022, 0.004,0.006,0.022, 0.005,0.006,0.025\n",
      "0.321,0.341,1.257, 0.418,0.129,0.829, 0.171,0.056,1.101, 0.465,0.104,0.940\n",
      "1.869,0.961,3.953, 1.754,1.395,2.660, 1.403,1.732,3.857, 1.500,1.588,2.929\n",
      "0.143,0.114,0.343, 0.195,0.132,0.266, 0.089,0.100,0.465, 0.315,0.142,0.047\n",
      "0.041,0.278,0.085, 0.182,0.007,0.024, 0.238,0.004,0.012, 0.083,0.204,0.169\n",
      "0.101,0.058,0.061, 0.116,0.076,0.186, 0.084,0.093,0.137, 0.149,0.141,0.136\n"
     ]
    }
   ],
   "source": [
    "def saveSystError(er):\n",
    "    print( \"relative systematics uncertainty [%]\")\n",
    "    syst_sigma, syst_covar = [],[]\n",
    "\n",
    "    for source in [\"BtmUp\",\"BteUp\"]:\n",
    "        sigma = er.errConstent(source)\n",
    "        variance = np.outer(sigma.reshape(1,12),sigma.reshape(1,12))\n",
    "        syst_sigma.append(sigma)\n",
    "        syst_covar.append(variance)\n",
    "        \n",
    "    for source in [\"lumin\",\"mctt\",\"mctw\",\"mcw\",'mcz','mcvv',\n",
    "                   \"fakee\",\"fakemu\",\"fakeetau\",\"fakemutau\"]:\n",
    "        sigma = er.errSystem_crossSection(source)\n",
    "        variance = np.outer(sigma.reshape(1,12),sigma.reshape(1,12))\n",
    "        syst_sigma.append(sigma)\n",
    "        syst_covar.append(variance)\n",
    "        \n",
    "        \n",
    "    for source in [\"TopPtReweight\",\"ERecoEff\",\"EIDEff\",\"MuRecoEff\",\"MuIDEff\",\"TauIDEff\",\"JetToTauIDEff\",\n",
    "                   \"EPt\",\"MuPt\",\"Tau0Pt\",\"Tau1Pt\",\"Tau10Pt\",\n",
    "                  ]:\n",
    "        sigma = er.errSystem_downVariation(source)\n",
    "        variance = np.outer(sigma.reshape(1,12),sigma.reshape(1,12))\n",
    "        syst_sigma.append(sigma)\n",
    "        syst_covar.append(variance)\n",
    "        \n",
    "    for source in [\"TauReweight1000\",\"TauReweight11000\",\"TauReweight21000\",\n",
    "                   \"TauReweight3000\",\"TauReweight13000\"\n",
    "                  ]:\n",
    "        sigma = er.errSystem_nominalDownVariation(source)\n",
    "        variance = np.outer(sigma.reshape(1,12),sigma.reshape(1,12))\n",
    "        syst_sigma.append(sigma)\n",
    "        syst_covar.append(variance)\n",
    "        \n",
    "        \n",
    "    for source in [\"Pileup\",\"JES\",\"JER\",\"BTag\",\"Mistag\"]:\n",
    "        sigma = er.errSystem_upDownVariation(source)\n",
    "        variance = np.outer(sigma,sigma)\n",
    "        syst_sigma.append(sigma)\n",
    "        syst_covar.append(variance)        \n",
    "    \n",
    "    syst_sigma = np.array(syst_sigma) \n",
    "    syst_covar = np.array(syst_covar) \n",
    "\n",
    "    er.io_printErrorForExcelFormat(syst_sigma.transpose(1,0,2))\n",
    "\n",
    "    s = syst_sigma.shape\n",
    "    syst_sigma = syst_sigma.reshape(s[0],s[1]*s[2])\n",
    "\n",
    "    baseDir = common.getBaseDirectory() \n",
    "    np.save(baseDir+'/data/combine/syst_sigma',syst_sigma)\n",
    "    np.save(baseDir+'/data/combine/syst_covar',syst_covar)\n",
    "\n",
    "saveSystError(er)"
   ]
  },
  {
   "cell_type": "markdown",
   "metadata": {},
   "source": [
    "# 3. output Latex Table"
   ]
  },
  {
   "cell_type": "code",
   "execution_count": 4,
   "metadata": {
    "collapsed": true
   },
   "outputs": [],
   "source": [
    "%run -i '/Users/zihengchen/Documents/Analysis/workplace/scripts/note_uncertainty.py'"
   ]
  },
  {
   "cell_type": "code",
   "execution_count": null,
   "metadata": {
    "collapsed": true
   },
   "outputs": [],
   "source": [
    "#     for source in [\"e\",\"mu\",\"tauID\",'jetMisTauID']:\n",
    "#         sigma = er.errSystem_objectEff(source)\n",
    "#         variance = np.outer(sigma.reshape(1,12),sigma.reshape(1,12))\n",
    "#         syst_sigma.append(sigma)\n",
    "#         syst_covar.append(variance)"
   ]
  }
 ],
 "metadata": {
  "kernelspec": {
   "display_name": "Python 3",
   "language": "python",
   "name": "python3"
  },
  "language_info": {
   "codemirror_mode": {
    "name": "ipython",
    "version": 3
   },
   "file_extension": ".py",
   "mimetype": "text/x-python",
   "name": "python",
   "nbconvert_exporter": "python",
   "pygments_lexer": "ipython3",
   "version": "3.6.1"
  }
 },
 "nbformat": 4,
 "nbformat_minor": 2
}
