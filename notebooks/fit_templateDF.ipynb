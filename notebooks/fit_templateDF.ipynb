{
 "cells": [
  {
   "cell_type": "code",
   "execution_count": 1,
   "metadata": {},
   "outputs": [],
   "source": [
    "import multiprocessing as mp\n",
    "from fit_dftemplater import *"
   ]
  },
  {
   "cell_type": "code",
   "execution_count": 5,
   "metadata": {},
   "outputs": [],
   "source": [
    "def templateDataFrames(variation):\n",
    "    baseDir = common.getBaseDirectory()\n",
    "    signal = False\n",
    "    if signal:\n",
    "        region = 'signal'\n",
    "    else:\n",
    "        region = 'control'\n",
    "\n",
    "    tp = DFTemplater(variation, signalRegion=signal)\n",
    "    xShp,xCnt,yShp,yCnt = tp.makeTemplatesAndTargets()\n",
    "    \n",
    "    # save the template and target\n",
    "    np.save(baseDir + \"data/templates/shaping_{}Region/X_{}\".format(region,variation),xShp)\n",
    "    np.save(baseDir + \"data/templates/counting_{}Region/X_{}\".format(region,variation),xCnt)\n",
    "    if variation == '':\n",
    "        np.save(baseDir + \"data/templates/shaping_{}Region/Y_\".format(region),yShp)\n",
    "        np.save(baseDir + \"data/templates/counting_{}Region/Y_\".format(region),yCnt)\n",
    "    \n",
    "def runTemplateDataFrames(vlist):\n",
    "    processes = []\n",
    "    for v in vlist:\n",
    "        processes.append(mp.Process(target=templateDataFrames,args=(v,)))\n",
    "    for ps in processes:\n",
    "        ps.start()\n",
    "    for ps in processes:\n",
    "        ps.join()"
   ]
  },
  {
   "cell_type": "code",
   "execution_count": 6,
   "metadata": {},
   "outputs": [],
   "source": [
    "runTemplateDataFrames(['EPtDown','MuPtDown','TauPtDown',\"\"]) # lepEnergy\n",
    "runTemplateDataFrames([\"JESUp\",\"JESDown\",\"JERUp\",\"JERDown\"]) # jetEnergy\n",
    "runTemplateDataFrames([\"BTagUp\",\"BTagDown\",\"MistagUp\",\"MistagDown\"]) # bTagging"
   ]
  },
  {
   "cell_type": "code",
   "execution_count": null,
   "metadata": {},
   "outputs": [],
   "source": []
  },
  {
   "cell_type": "code",
   "execution_count": 19,
   "metadata": {},
   "outputs": [],
   "source": [
    "baseDir = common.getBaseDirectory()\n",
    "X = np.load(baseDir + \"data/templates/counting_signalRegion/X_.npy\")\n",
    "Y = np.load(baseDir + \"data/templates/counting_signalRegion/Y_.npy\")"
   ]
  },
  {
   "cell_type": "code",
   "execution_count": 20,
   "metadata": {},
   "outputs": [],
   "source": [
    "temp = np.concatenate(X,axis=1)"
   ]
  },
  {
   "cell_type": "code",
   "execution_count": 26,
   "metadata": {},
   "outputs": [
    {
     "data": {
      "text/plain": [
       "(16,)"
      ]
     },
     "execution_count": 26,
     "metadata": {},
     "output_type": "execute_result"
    }
   ],
   "source": [
    "np.sum(temp[0:21],axis=0)"
   ]
  },
  {
   "cell_type": "code",
   "execution_count": 18,
   "metadata": {},
   "outputs": [
    {
     "data": {
      "text/plain": [
       "(-1, 16)"
      ]
     },
     "execution_count": 18,
     "metadata": {},
     "output_type": "execute_result"
    },
    {
     "data": {
      "image/png": "[encoded data removed]",
      "text/plain": [
       "<matplotlib.figure.Figure at 0x1a097e6048>"
      ]
     },
     "metadata": {},
     "output_type": "display_data"
    }
   ],
   "source": [
    "\n",
    "# X = np.load(baseDir + \"data/templates/counting_controlRegion/X_.npy\")\n",
    "# Y = np.load(baseDir + \"data/templates/counting_controlRegion/Y_.npy\")\n",
    "temp = np.concatenate(X,axis=1)\n",
    "temp = np.sum(temp,axis=0)\n",
    "targ = np.concatenate(Y,axis=0)\n",
    "\n",
    "# making plot\n",
    "plt.figure(figsize=(20,4),facecolor='w')\n",
    "c = np.arange(temp.size)\n",
    "plt.bar(c, temp, lw=2, alpha=0.5)\n",
    "plt.scatter(c, targ, c='k',s=100)\n",
    "plt.yscale('log')\n",
    "plt.xlim(c.min()-1,c.max()+1)"
   ]
  },
  {
   "cell_type": "code",
   "execution_count": null,
   "metadata": {},
   "outputs": [],
   "source": []
  }
 ],
 "metadata": {
  "kernelspec": {
   "display_name": "Python 3",
   "language": "python",
   "name": "python3"
  },
  "language_info": {
   "codemirror_mode": {
    "name": "ipython",
    "version": 3
   },
   "file_extension": ".py",
   "mimetype": "text/x-python",
   "name": "python",
   "nbconvert_exporter": "python",
   "pygments_lexer": "ipython3",
   "version": "3.6.4"
  }
 },
 "nbformat": 4,
 "nbformat_minor": 2
}
