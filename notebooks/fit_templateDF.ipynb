{
 "cells": [
  {
   "cell_type": "code",
   "execution_count": 1,
   "metadata": {},
   "outputs": [],
   "source": [
    "import multiprocessing as mp\n",
    "from fit_dftemplater import *"
   ]
  },
  {
   "cell_type": "code",
   "execution_count": 2,
   "metadata": {},
   "outputs": [],
   "source": [
    "def templateDataFrames(variation):\n",
    "    tType = 'Counting'\n",
    "    tp = DFTemplater(variation,tempType=tType)\n",
    "\n",
    "    X = tp.makeTemplates()\n",
    "    np.save(common.getBaseDirectory() + \"data/templates{}/templatesX_{}\".format(tType,variation), X)\n",
    "    if variation == '':\n",
    "        Y = tp.makeTargets()\n",
    "        np.save(common.getBaseDirectory() + \"data/templates{}/templatesY_{}\".format(tType,variation), Y)\n",
    "    \n",
    "def runTemplateDataFrames(vlist):\n",
    "    processes = []\n",
    "    for v in vlist:\n",
    "        processes.append(mp.Process(target=templateDataFrames,args=(v,)))\n",
    "    for ps in processes:\n",
    "        ps.start()\n",
    "    for ps in processes:\n",
    "        ps.join()"
   ]
  },
  {
   "cell_type": "code",
   "execution_count": 3,
   "metadata": {},
   "outputs": [],
   "source": [
    "runTemplateDataFrames(['EPtDown','MuPtDown','TauPtDown',\"\"]) # lepEnergy\n",
    "runTemplateDataFrames([\"JESUp\",\"JESDown\",\"JERUp\",\"JERDown\"]) # jetEnergy\n",
    "runTemplateDataFrames([\"BTagUp\",\"BTagDown\",\"MistagUp\",\"MistagDown\"]) # bTagging"
   ]
  }
 ],
 "metadata": {
  "kernelspec": {
   "display_name": "Python 3",
   "language": "python",
   "name": "python3"
  },
  "language_info": {
   "codemirror_mode": {
    "name": "ipython",
    "version": 3
   },
   "file_extension": ".py",
   "mimetype": "text/x-python",
   "name": "python",
   "nbconvert_exporter": "python",
   "pygments_lexer": "ipython3",
   "version": "3.6.4"
  }
 },
 "nbformat": 4,
 "nbformat_minor": 2
}
