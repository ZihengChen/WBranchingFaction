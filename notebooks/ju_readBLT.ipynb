{
 "cells": [
  {
   "cell_type": "code",
   "execution_count": 1,
   "metadata": {},
   "outputs": [
    {
     "name": "stdout",
     "output_type": "stream",
     "text": [
      "Welcome to JupyROOT 6.13/02\n"
     ]
    }
   ],
   "source": [
    "from utility_bltreader import *\n",
    "import multiprocessing as mp"
   ]
  },
  {
   "cell_type": "markdown",
   "metadata": {},
   "source": [
    "# 1. Save nGen in pickle"
   ]
  },
  {
   "cell_type": "code",
   "execution_count": 2,
   "metadata": {},
   "outputs": [],
   "source": [
    "ee = BLTReader(\"2016MC.root\",\"emu\",includeTTTheory=True)\n",
    "ee.outputNGen()"
   ]
  },
  {
   "cell_type": "markdown",
   "metadata": {},
   "source": [
    "# 2. Read Standard BLT"
   ]
  },
  {
   "cell_type": "code",
   "execution_count": 3,
   "metadata": {
    "scrolled": true
   },
   "outputs": [],
   "source": [
    "def runMP():\n",
    "\n",
    "    processes = []\n",
    "    \n",
    "    for slt in [\"ee\",\"mumu\",\"emu\",\"mutau\",\"etau\",\"mu4j\",\"e4j\",\"mu4j_fakes\",\"e4j_fakes\"]:\n",
    "        rd = BLTReader(\"2016MC3.root\", slt, includeTTTheory=False)\n",
    "        processes.append(mp.Process(target=rd.readBLT))\n",
    "    \n",
    "#     for slt in [\"ee_e\",\"ee_mu\",\"mumu_e\",\"mumu_mu\"]:\n",
    "#         rd = BLTReader(\"fakeSelection.root\", slt, includeTTTheory=False)\n",
    "#         processes.append(mp.Process(target=rd.readBLT))\n",
    "        \n",
    "    for ps in processes:\n",
    "        ps.start()\n",
    "    for ps in processes:\n",
    "        ps.join()"
   ]
  },
  {
   "cell_type": "code",
   "execution_count": 2,
   "metadata": {},
   "outputs": [],
   "source": [
    "runMP()"
   ]
  }
 ],
 "metadata": {
  "kernelspec": {
   "display_name": "Python 3",
   "language": "python",
   "name": "python3"
  },
  "language_info": {
   "codemirror_mode": {
    "name": "ipython",
    "version": 3
   },
   "file_extension": ".py",
   "mimetype": "text/x-python",
   "name": "python",
   "nbconvert_exporter": "python",
   "pygments_lexer": "ipython3",
   "version": "3.6.4"
  }
 },
 "nbformat": 4,
 "nbformat_minor": 2
}
