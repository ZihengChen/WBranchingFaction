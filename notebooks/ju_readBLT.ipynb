{
 "cells": [
  {
   "cell_type": "code",
   "execution_count": 1,
   "metadata": {},
   "outputs": [
    {
     "name": "stdout",
     "output_type": "stream",
     "text": [
      "Welcome to JupyROOT 6.13/02\n"
     ]
    }
   ],
   "source": [
    "from utility_bltreader import *\n",
    "import multiprocessing as mp"
   ]
  },
  {
   "cell_type": "markdown",
   "metadata": {},
   "source": [
    "# 1. Save nGen in pickle"
   ]
  },
  {
   "cell_type": "code",
   "execution_count": 2,
   "metadata": {},
   "outputs": [],
   "source": [
    "ee = BLTReader(\"2016MC.root\",\"emu\",includeTTTheory=True)\n",
    "ee.outputNGen()"
   ]
  },
  {
   "cell_type": "markdown",
   "metadata": {},
   "source": [
    "# 2. Read Standard BLT"
   ]
  },
  {
   "cell_type": "code",
   "execution_count": 3,
   "metadata": {
    "scrolled": true
   },
   "outputs": [],
   "source": [
    "def runMP():\n",
    "\n",
    "    processes = []\n",
    "    \n",
    "    for slt in [\"ee\",\"mumu\",\"emu\",\"mutau\",\"etau\",\"mu4j\",\"e4j\",\"mu4j_fakes\",\"e4j_fakes\"]:\n",
    "        rd = BLTReader(\"2016MC3.root\", slt, includeTTTheory=False)\n",
    "        processes.append(mp.Process(target=rd.readBLT))\n",
    "    \n",
    "#     for slt in [\"ee_e\",\"ee_mu\",\"mumu_e\",\"mumu_mu\"]:\n",
    "#         rd = BLTReader(\"fakeSelection.root\", slt, includeTTTheory=False)\n",
    "#         processes.append(mp.Process(target=rd.readBLT))\n",
    "        \n",
    "    for ps in processes:\n",
    "        ps.start()\n",
    "    for ps in processes:\n",
    "        ps.join()"
   ]
  },
  {
   "cell_type": "code",
   "execution_count": 4,
   "metadata": {},
   "outputs": [
    {
     "name": "stderr",
     "output_type": "stream",
     "text": [
      "Process Process-1:\n",
      "Traceback (most recent call last):\n",
      "  File \"/home/zchen/anaconda3/lib/python3.6/multiprocessing/process.py\", line 258, in _bootstrap\n",
      "    self.run()\n",
      "  File \"/home/zchen/anaconda3/lib/python3.6/multiprocessing/process.py\", line 93, in run\n",
      "    self._target(*self._args, **self._kwargs)\n",
      "  File \"/home/zchen/Documents/Analysis/workplace/scripts/utility_bltreader.py\", line 61, in readBLT\n",
      "    self.makePickle(name)\n",
      "  File \"/home/zchen/Documents/Analysis/workplace/scripts/utility_bltreader.py\", line 66, in makePickle\n",
      "    scaleFactor = self._getScaleFactor(name)\n",
      "  File \"/home/zchen/Documents/Analysis/workplace/scripts/utility_bltreader.py\", line 123, in _getScaleFactor\n",
      "    nGenTotal = histogram.GetBinContent(1)\n",
      "AttributeError: 'TObject' object has no attribute 'GetBinContent'\n",
      "Process Process-4:\n",
      "Process Process-2:\n",
      "Traceback (most recent call last):\n",
      "  File \"/home/zchen/anaconda3/lib/python3.6/multiprocessing/process.py\", line 258, in _bootstrap\n",
      "    self.run()\n",
      "Traceback (most recent call last):\n",
      "  File \"/home/zchen/anaconda3/lib/python3.6/multiprocessing/process.py\", line 93, in run\n",
      "    self._target(*self._args, **self._kwargs)\n",
      "  File \"/home/zchen/anaconda3/lib/python3.6/multiprocessing/process.py\", line 258, in _bootstrap\n",
      "    self.run()\n",
      "  File \"/home/zchen/anaconda3/lib/python3.6/multiprocessing/process.py\", line 93, in run\n",
      "    self._target(*self._args, **self._kwargs)\n",
      "  File \"/home/zchen/Documents/Analysis/workplace/scripts/utility_bltreader.py\", line 61, in readBLT\n",
      "    self.makePickle(name)\n",
      "  File \"/home/zchen/Documents/Analysis/workplace/scripts/utility_bltreader.py\", line 75, in makePickle\n",
      "    dataframe = pd.DataFrame(ntuple)\n",
      "  File \"/home/zchen/Documents/Analysis/workplace/scripts/utility_bltreader.py\", line 61, in readBLT\n",
      "    self.makePickle(name)\n",
      "  File \"/home/zchen/anaconda3/lib/python3.6/site-packages/pandas/core/frame.py\", line 364, in __init__\n",
      "    data = list(data)\n",
      "  File \"/home/zchen/Documents/Analysis/workplace/scripts/utility_bltreader.py\", line 75, in makePickle\n",
      "    dataframe = pd.DataFrame(ntuple)\n",
      "  File \"/home/zchen/Documents/Analysis/workplace/scripts/utility_bltreader.py\", line 99, in fillNtuple\n",
      "    entry.update(self._getAllVariables(tree, self.selection, name, scaleFactor))\n",
      "  File \"/home/zchen/Documents/Analysis/workplace/scripts/utility_bltreader.py\", line 112, in _getAllVariables\n",
      "    dictionary = getAllVariables_fakeSelection(tree, selection, name, scaleFactor)\n",
      "  File \"/home/zchen/anaconda3/lib/python3.6/site-packages/pandas/core/frame.py\", line 364, in __init__\n",
      "    data = list(data)\n",
      "  File \"/home/zchen/Documents/Analysis/workplace/scripts/utility_bltreaderDict.py\", line 225, in getAllVariables_fakeSelection\n",
      "    out_dict['nMuons']       =  tree.nMuons\n",
      "  File \"/home/zchen/Documents/Analysis/workplace/scripts/utility_bltreader.py\", line 99, in fillNtuple\n",
      "    entry.update(self._getAllVariables(tree, self.selection, name, scaleFactor))\n",
      "KeyboardInterrupt\n",
      "  File \"/home/zchen/Documents/Analysis/workplace/scripts/utility_bltreader.py\", line 112, in _getAllVariables\n",
      "    dictionary = getAllVariables_fakeSelection(tree, selection, name, scaleFactor)\n",
      "  File \"/home/zchen/Documents/Analysis/workplace/scripts/utility_bltreaderDict.py\", line 251, in getAllVariables_fakeSelection\n",
      "    out_dict['lepton2_iso'] = tree.leptonTwoIso\n",
      "KeyboardInterrupt\n",
      "Process Process-3:\n",
      "Traceback (most recent call last):\n",
      "  File \"/home/zchen/anaconda3/lib/python3.6/multiprocessing/process.py\", line 258, in _bootstrap\n",
      "    self.run()\n",
      "  File \"/home/zchen/anaconda3/lib/python3.6/multiprocessing/process.py\", line 93, in run\n",
      "    self._target(*self._args, **self._kwargs)\n",
      "  File \"/home/zchen/Documents/Analysis/workplace/scripts/utility_bltreader.py\", line 61, in readBLT\n",
      "    self.makePickle(name)\n",
      "  File \"/home/zchen/Documents/Analysis/workplace/scripts/utility_bltreader.py\", line 112, in _getAllVariables\n",
      "    dictionary = getAllVariables_fakeSelection(tree, selection, name, scaleFactor)\n",
      "  File \"/home/zchen/Documents/Analysis/workplace/scripts/utility_bltreader.py\", line 75, in makePickle\n",
      "    dataframe = pd.DataFrame(ntuple)\n",
      "  File \"/home/zchen/anaconda3/lib/python3.6/site-packages/pandas/core/frame.py\", line 364, in __init__\n",
      "    data = list(data)\n",
      "  File \"/home/zchen/Documents/Analysis/workplace/scripts/utility_bltreader.py\", line 99, in fillNtuple\n",
      "    entry.update(self._getAllVariables(tree, self.selection, name, scaleFactor))\n",
      "  File \"/home/zchen/Documents/Analysis/workplace/scripts/utility_bltreaderDict.py\", line 234, in getAllVariables_fakeSelection\n",
      "    out_dict['metPhi']       =  tree.metPhi\n",
      "KeyboardInterrupt\n"
     ]
    },
    {
     "ename": "KeyboardInterrupt",
     "evalue": "",
     "output_type": "error",
     "traceback": [
      "\u001b[0;31m---------------------------------------------------------------------------\u001b[0m",
      "\u001b[0;31mKeyboardInterrupt\u001b[0m                         Traceback (most recent call last)",
      "\u001b[0;32m<ipython-input-4-fb02fc3dbf03>\u001b[0m in \u001b[0;36m<module>\u001b[0;34m()\u001b[0m\n\u001b[0;32m----> 1\u001b[0;31m \u001b[0mrunMP\u001b[0m\u001b[0;34m(\u001b[0m\u001b[0;34m)\u001b[0m\u001b[0;34m\u001b[0m\u001b[0m\n\u001b[0m",
      "\u001b[0;32m<ipython-input-3-36eb898e10b2>\u001b[0m in \u001b[0;36mrunMP\u001b[0;34m()\u001b[0m\n\u001b[1;32m     15\u001b[0m         \u001b[0mps\u001b[0m\u001b[0;34m.\u001b[0m\u001b[0mstart\u001b[0m\u001b[0;34m(\u001b[0m\u001b[0;34m)\u001b[0m\u001b[0;34m\u001b[0m\u001b[0m\n\u001b[1;32m     16\u001b[0m     \u001b[0;32mfor\u001b[0m \u001b[0mps\u001b[0m \u001b[0;32min\u001b[0m \u001b[0mprocesses\u001b[0m\u001b[0;34m:\u001b[0m\u001b[0;34m\u001b[0m\u001b[0m\n\u001b[0;32m---> 17\u001b[0;31m         \u001b[0mps\u001b[0m\u001b[0;34m.\u001b[0m\u001b[0mjoin\u001b[0m\u001b[0;34m(\u001b[0m\u001b[0;34m)\u001b[0m\u001b[0;34m\u001b[0m\u001b[0m\n\u001b[0m",
      "\u001b[0;32m~/anaconda3/lib/python3.6/multiprocessing/process.py\u001b[0m in \u001b[0;36mjoin\u001b[0;34m(self, timeout)\u001b[0m\n\u001b[1;32m    122\u001b[0m         \u001b[0;32massert\u001b[0m \u001b[0mself\u001b[0m\u001b[0;34m.\u001b[0m\u001b[0m_parent_pid\u001b[0m \u001b[0;34m==\u001b[0m \u001b[0mos\u001b[0m\u001b[0;34m.\u001b[0m\u001b[0mgetpid\u001b[0m\u001b[0;34m(\u001b[0m\u001b[0;34m)\u001b[0m\u001b[0;34m,\u001b[0m \u001b[0;34m'can only join a child process'\u001b[0m\u001b[0;34m\u001b[0m\u001b[0m\n\u001b[1;32m    123\u001b[0m         \u001b[0;32massert\u001b[0m \u001b[0mself\u001b[0m\u001b[0;34m.\u001b[0m\u001b[0m_popen\u001b[0m \u001b[0;32mis\u001b[0m \u001b[0;32mnot\u001b[0m \u001b[0;32mNone\u001b[0m\u001b[0;34m,\u001b[0m \u001b[0;34m'can only join a started process'\u001b[0m\u001b[0;34m\u001b[0m\u001b[0m\n\u001b[0;32m--> 124\u001b[0;31m         \u001b[0mres\u001b[0m \u001b[0;34m=\u001b[0m \u001b[0mself\u001b[0m\u001b[0;34m.\u001b[0m\u001b[0m_popen\u001b[0m\u001b[0;34m.\u001b[0m\u001b[0mwait\u001b[0m\u001b[0;34m(\u001b[0m\u001b[0mtimeout\u001b[0m\u001b[0;34m)\u001b[0m\u001b[0;34m\u001b[0m\u001b[0m\n\u001b[0m\u001b[1;32m    125\u001b[0m         \u001b[0;32mif\u001b[0m \u001b[0mres\u001b[0m \u001b[0;32mis\u001b[0m \u001b[0;32mnot\u001b[0m \u001b[0;32mNone\u001b[0m\u001b[0;34m:\u001b[0m\u001b[0;34m\u001b[0m\u001b[0m\n\u001b[1;32m    126\u001b[0m             \u001b[0m_children\u001b[0m\u001b[0;34m.\u001b[0m\u001b[0mdiscard\u001b[0m\u001b[0;34m(\u001b[0m\u001b[0mself\u001b[0m\u001b[0;34m)\u001b[0m\u001b[0;34m\u001b[0m\u001b[0m\n",
      "\u001b[0;32m~/anaconda3/lib/python3.6/multiprocessing/popen_fork.py\u001b[0m in \u001b[0;36mwait\u001b[0;34m(self, timeout)\u001b[0m\n\u001b[1;32m     55\u001b[0m                     \u001b[0;32mreturn\u001b[0m \u001b[0;32mNone\u001b[0m\u001b[0;34m\u001b[0m\u001b[0m\n\u001b[1;32m     56\u001b[0m             \u001b[0;31m# This shouldn't block if wait() returned successfully.\u001b[0m\u001b[0;34m\u001b[0m\u001b[0;34m\u001b[0m\u001b[0m\n\u001b[0;32m---> 57\u001b[0;31m             \u001b[0;32mreturn\u001b[0m \u001b[0mself\u001b[0m\u001b[0;34m.\u001b[0m\u001b[0mpoll\u001b[0m\u001b[0;34m(\u001b[0m\u001b[0mos\u001b[0m\u001b[0;34m.\u001b[0m\u001b[0mWNOHANG\u001b[0m \u001b[0;32mif\u001b[0m \u001b[0mtimeout\u001b[0m \u001b[0;34m==\u001b[0m \u001b[0;36m0.0\u001b[0m \u001b[0;32melse\u001b[0m \u001b[0;36m0\u001b[0m\u001b[0;34m)\u001b[0m\u001b[0;34m\u001b[0m\u001b[0m\n\u001b[0m\u001b[1;32m     58\u001b[0m         \u001b[0;32mreturn\u001b[0m \u001b[0mself\u001b[0m\u001b[0;34m.\u001b[0m\u001b[0mreturncode\u001b[0m\u001b[0;34m\u001b[0m\u001b[0m\n\u001b[1;32m     59\u001b[0m \u001b[0;34m\u001b[0m\u001b[0m\n",
      "\u001b[0;32m~/anaconda3/lib/python3.6/multiprocessing/popen_fork.py\u001b[0m in \u001b[0;36mpoll\u001b[0;34m(self, flag)\u001b[0m\n\u001b[1;32m     33\u001b[0m             \u001b[0;32mwhile\u001b[0m \u001b[0;32mTrue\u001b[0m\u001b[0;34m:\u001b[0m\u001b[0;34m\u001b[0m\u001b[0m\n\u001b[1;32m     34\u001b[0m                 \u001b[0;32mtry\u001b[0m\u001b[0;34m:\u001b[0m\u001b[0;34m\u001b[0m\u001b[0m\n\u001b[0;32m---> 35\u001b[0;31m                     \u001b[0mpid\u001b[0m\u001b[0;34m,\u001b[0m \u001b[0msts\u001b[0m \u001b[0;34m=\u001b[0m \u001b[0mos\u001b[0m\u001b[0;34m.\u001b[0m\u001b[0mwaitpid\u001b[0m\u001b[0;34m(\u001b[0m\u001b[0mself\u001b[0m\u001b[0;34m.\u001b[0m\u001b[0mpid\u001b[0m\u001b[0;34m,\u001b[0m \u001b[0mflag\u001b[0m\u001b[0;34m)\u001b[0m\u001b[0;34m\u001b[0m\u001b[0m\n\u001b[0m\u001b[1;32m     36\u001b[0m                 \u001b[0;32mexcept\u001b[0m \u001b[0mOSError\u001b[0m \u001b[0;32mas\u001b[0m \u001b[0me\u001b[0m\u001b[0;34m:\u001b[0m\u001b[0;34m\u001b[0m\u001b[0m\n\u001b[1;32m     37\u001b[0m                     \u001b[0;31m# Child process not yet created. See #1731717\u001b[0m\u001b[0;34m\u001b[0m\u001b[0;34m\u001b[0m\u001b[0m\n",
      "\u001b[0;31mKeyboardInterrupt\u001b[0m: "
     ]
    }
   ],
   "source": [
    "runMP()"
   ]
  },
  {
   "cell_type": "code",
   "execution_count": 2,
   "metadata": {},
   "outputs": [
    {
     "data": {
      "text/plain": [
       "364455.936"
      ]
     },
     "execution_count": 2,
     "metadata": {},
     "output_type": "execute_result"
    }
   ],
   "source": []
  },
  {
   "cell_type": "code",
   "execution_count": null,
   "metadata": {},
   "outputs": [],
   "source": []
  }
 ],
 "metadata": {
  "kernelspec": {
   "display_name": "Python 3",
   "language": "python",
   "name": "python3"
  },
  "language_info": {
   "codemirror_mode": {
    "name": "ipython",
    "version": 3
   },
   "file_extension": ".py",
   "mimetype": "text/x-python",
   "name": "python",
   "nbconvert_exporter": "python",
   "pygments_lexer": "ipython3",
   "version": "3.6.4"
  }
 },
 "nbformat": 4,
 "nbformat_minor": 2
}
