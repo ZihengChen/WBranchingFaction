{
 "cells": [
  {
   "cell_type": "code",
   "execution_count": 1,
   "metadata": {},
   "outputs": [],
   "source": [
    "from utility_dfcounter import *"
   ]
  },
  {
   "cell_type": "code",
   "execution_count": 17,
   "metadata": {},
   "outputs": [],
   "source": [
    "nGen = pd.read_pickle(\"../data/pickles/ngen.pkl\")\n",
    "counts = pd.read_pickle(\"../data/counts/count_.pkl\")"
   ]
  },
  {
   "cell_type": "code",
   "execution_count": 3,
   "metadata": {},
   "outputs": [],
   "source": []
  },
  {
   "cell_type": "code",
   "execution_count": 32,
   "metadata": {},
   "outputs": [
    {
     "name": "stdout",
     "output_type": "stream",
     "text": [
      "00.000+/-00.000 , 00.001+/-00.000 , 00.000+/-00.000 , 00.000+/-00.000\n",
      "00.001+/-00.000 , 00.002+/-00.000 , 00.000+/-00.000 , 00.000+/-00.000\n",
      "04.978+/-00.011 , 04.965+/-00.005 , 01.617+/-00.007 , 01.602+/-00.003\n",
      "00.000+/-00.000 , 00.001+/-00.000 , 00.000+/-00.000 , 00.000+/-00.000\n",
      "00.001+/-00.002 , 00.001+/-00.001 , 00.000+/-00.000 , 00.000+/-00.000\n",
      "00.995+/-00.030 , 00.973+/-00.012 , 00.297+/-00.016 , 00.311+/-00.007\n",
      "00.000+/-00.000 , 00.000+/-00.000 , 00.000+/-00.000 , 00.000+/-00.000\n",
      "00.006+/-00.001 , 00.004+/-00.000 , 00.002+/-00.001 , 00.001+/-00.000\n",
      "00.000+/-00.000 , 00.000+/-00.000 , 00.000+/-00.000 , 00.000+/-00.000\n",
      "00.000+/-00.000 , 00.001+/-00.000 , 00.000+/-00.000 , 00.000+/-00.000\n",
      "01.369+/-00.015 , 01.365+/-00.006 , 00.434+/-00.008 , 00.429+/-00.003\n",
      "00.001+/-00.000 , 00.001+/-00.000 , 00.000+/-00.000 , 00.000+/-00.000\n",
      "03.063+/-00.021 , 03.087+/-00.009 , 00.993+/-00.012 , 00.995+/-00.005\n",
      "00.002+/-00.001 , 00.002+/-00.000 , 00.000+/-00.000 , 00.000+/-00.000\n",
      "00.013+/-00.001 , 00.012+/-00.000 , 00.003+/-00.000 , 00.003+/-00.000\n",
      "00.001+/-00.000 , 00.001+/-00.000 , 00.000+/-00.000 , 00.000+/-00.000\n",
      "00.004+/-00.000 , 00.004+/-00.000 , 00.000+/-00.000 , 00.000+/-00.000\n",
      "00.001+/-00.000 , 00.001+/-00.000 , 00.000+/-00.000 , 00.000+/-00.000\n",
      "00.001+/-00.000 , 00.001+/-00.000 , 00.000+/-00.000 , 00.000+/-00.000\n",
      "00.000+/-00.000 , 00.000+/-00.000 , 00.000+/-00.000 , 00.000+/-00.000\n",
      "00.000+/-00.000 , 00.000+/-00.000 , 00.000+/-00.000 , 00.000+/-00.000\n"
     ]
    }
   ],
   "source": [
    "itr = 0\n",
    "ich = 0\n",
    "\n",
    "accStd0_1b = common.matrixToArray( counts.accsVar[itr][ich,2,:,:]**0.5 )\n",
    "acc0_1b    = common.matrixToArray( counts.accs[itr][ich,2,:,:] )\n",
    "accStd_1b  = common.matrixToArray( counts.accsVar[itr][ich,0,:,:]**0.5 )\n",
    "acc_1b     = common.matrixToArray( counts.accs[itr][ich,0,:,:] )\n",
    "\n",
    "accStd0_2b = common.matrixToArray( counts.accsVar[itr+1][ich,2,:,:]**0.5 )\n",
    "acc0_2b    = common.matrixToArray( counts.accs[itr+1][ich,2,:,:] )\n",
    "accStd_2b  = common.matrixToArray( counts.accsVar[itr+1][ich,0,:,:]**0.5 )\n",
    "acc_2b     = common.matrixToArray( counts.accs[itr+1][ich,0,:,:] )\n",
    "\n",
    "\n",
    "\n",
    "for i in range(21):\n",
    "    print('{:0>6.3f}+/-{:0>6.3f} , {:0>6.3f}+/-{:0>6.3f} , {:0>6.3f}+/-{:0>6.3f} , {:0>6.3f}+/-{:0>6.3f}'.format(\n",
    "            acc0_1b[i]*100, accStd0_1b[i]*100, acc_1b[i]*100, accStd_1b[i]*100,\n",
    "            acc0_2b[i]*100, accStd0_2b[i]*100, acc_2b[i]*100, accStd_2b[i]*100)\n",
    "         )"
   ]
  },
  {
   "cell_type": "code",
   "execution_count": 18,
   "metadata": {},
   "outputs": [],
   "source": [
    "nGenMCtt2l = nGen.query(\"name=='tt_2l2nu'\").ngen.values[0]\n",
    "nGenMCtt   = nGen.query(\"name=='tt'\").ngen.values[0]"
   ]
  },
  {
   "cell_type": "code",
   "execution_count": 33,
   "metadata": {},
   "outputs": [
    {
     "data": {
      "image/png": "[encoded data removed]",
      "text/plain": [
       "<matplotlib.figure.Figure at 0x11b475518>"
      ]
     },
     "metadata": {},
     "output_type": "display_data"
    }
   ],
   "source": [
    "ind = np.arange(21)\n",
    "branches = common.WWBranchNames()\n",
    "plt.figure(facecolor='w',figsize=(10,4))\n",
    "\n",
    "\n",
    "\n",
    "\n",
    "plt.bar(ind,nGenMCtt,label='tt_inclusive')\n",
    "plt.bar(ind,nGenMCtt2l, bottom=nGenMCtt,label='tt_2l2nu')\n",
    "\n",
    "plt.ylabel(r'$N_{gen}$')\n",
    "#plt.yscale('log')\n",
    "#plt.ylim(2e4,1e8)\n",
    "plt.grid(linestyle='--',alpha=0.3)\n",
    "\n",
    "plt.xticks(ind, branches)\n",
    "plt.legend()\n",
    "plt.savefig('../plots/ngen_comparison.png',dpi=300)"
   ]
  }
 ],
 "metadata": {
  "kernelspec": {
   "display_name": "Python 3",
   "language": "python",
   "name": "python3"
  },
  "language_info": {
   "codemirror_mode": {
    "name": "ipython",
    "version": 3
   },
   "file_extension": ".py",
   "mimetype": "text/x-python",
   "name": "python",
   "nbconvert_exporter": "python",
   "pygments_lexer": "ipython3",
   "version": "3.6.4"
  }
 },
 "nbformat": 4,
 "nbformat_minor": 2
}
