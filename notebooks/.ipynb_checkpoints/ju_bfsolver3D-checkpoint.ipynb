{
 "cells": [
  {
   "cell_type": "code",
   "execution_count": 1,
   "metadata": {},
   "outputs": [],
   "source": [
    "from pylab import *\n",
    "from utility_bfsolver3D import *\n",
    "from utility_error import *\n",
    "\n",
    "%matplotlib inline\n",
    "plt.style.use('classic')\n",
    "plt.rc(\"figure\",facecolor=\"w\",figsize=(6,4))\n",
    "plt.rc(\"font\",size=12)\n",
    "\n",
    "tb = BFCalc3D_Toolbox()\n",
    "er = BFCalc3D_Error()"
   ]
  },
  {
   "cell_type": "markdown",
   "metadata": {},
   "source": [
    "# 1. Try One Case"
   ]
  },
  {
   "cell_type": "code",
   "execution_count": 2,
   "metadata": {},
   "outputs": [
    {
     "name": "stdout",
     "output_type": "stream",
     "text": [
      "The Branching fraction is [[0.10557155 0.1054454  0.10428407]]\n"
     ]
    },
    {
     "data": {
      "image/png": "[encoded data removed]",
      "text/plain": [
       "<matplotlib.figure.Figure at 0x110c75748>"
      ]
     },
     "metadata": {},
     "output_type": "display_data"
    }
   ],
   "source": [
    "# defining bfCalc\n",
    "trigger,tag = \"e\",\"1b\"\n",
    "a,aVar         = tb.GetAcc  (trigger,tag)\n",
    "ndata,ndataVar = tb.GetNData(trigger,tag)\n",
    "nmcbg,nmcbgVar = tb.GetNMcbg(trigger,tag)\n",
    "nfake,nfakeVar = tb.GetNFake(trigger,tag)\n",
    "\n",
    "tb.Plot_Imshow4Matrix(a,trigger)\n",
    "aVar[a<0.001]=np.zeros_like(a)[a<0.001]\n",
    "tb.Plot_Imshow4Matrix(aVar**0.5/(a+1e-12),trigger,showError=True)\n",
    "\n",
    "bf = BFCalc3D_ThreeSelectorRatios(a)\n",
    "bw = bf.SolveQuadEqn(bf.SetMeasuredX(nData=ndata, nMcbg=nmcbg+nfake))\n",
    "print( \"The Branching fraction is [{}]\".format(bw))"
   ]
  },
  {
   "cell_type": "markdown",
   "metadata": {},
   "source": [
    "# 2. Calculate Statistical Error"
   ]
  },
  {
   "cell_type": "code",
   "execution_count": null,
   "metadata": {
    "scrolled": true
   },
   "outputs": [],
   "source": [
    "statistcal = [ er.errStat(1000,source) for source in [\"data\",\"mcbg\",\"fake\",\"mcsg\"] ]\n",
    "statistcal"
   ]
  },
  {
   "cell_type": "code",
   "execution_count": 5,
   "metadata": {},
   "outputs": [],
   "source": [
    "sysCrossSection = [ er.errSystem_CrossSection(source) for source in [\"mcbg\",\"fake\",\"mcsg\"] ]\n",
    "sysObjectEff = [ er.errSystem_ObjectEff(source) for source in [\"e\",\"mu\",\"tau\"] ]\n",
    "sysTTTheory = [ er.errSystem_TTTheory(source) for source in [\"isr\",\"fsr\",\"\",\"hdamp\"] ]\n",
    "sysEnergyScale = [ er.errSystem_EnergyScale(source) for source in [\"e\",\"mu\",\"tau\"] ]\n",
    "sysJet = [ er.errSystem_Jet(source) for source in [\"JES\",\"JER\",\"BTag\",\"Mistag\"] ]"
   ]
  },
  {
   "cell_type": "code",
   "execution_count": 4,
   "metadata": {},
   "outputs": [],
   "source": [
    "statistcal = [\n",
    " array([[0.00058402, 0.00055003, 0.00130092],\n",
    "        [0.00103828, 0.00093487, 0.00214739],\n",
    "        [0.00075687, 0.00059557, 0.00156057],\n",
    "        [0.00133172, 0.0010562 , 0.00264496]]),\n",
    " array([[6.65699161e-05, 1.54193609e-04, 3.31900887e-04],\n",
    "        [5.42846597e-05, 1.19778399e-04, 2.26132506e-04],\n",
    "        [1.90499846e-04, 7.88764421e-05, 3.58341288e-04],\n",
    "        [1.78587239e-04, 7.38252247e-05, 3.11267909e-04]]),\n",
    " array([[2.98023477e-05, 3.45618739e-05, 1.54370483e-04],\n",
    "        [3.91641100e-05, 4.38094278e-05, 1.95596779e-04],\n",
    "        [4.85722573e-16, 6.24500451e-16, 7.21644966e-16],\n",
    "        [1.19348975e-15, 7.63278329e-16, 1.48492330e-15]]),\n",
    " array([[0.00027522, 0.00023663, 0.00065389],\n",
    "        [0.00046308, 0.00041302, 0.00085847],\n",
    "        [0.00034975, 0.00028565, 0.00076679],\n",
    "        [0.00060805, 0.00047613, 0.0010234 ]])\n",
    "]\n",
    "err = np.array(statistcal+sysCrossSection+sysObjectEff+sysTTTheory+sysEnergyScale).transpose(1,0,2)"
   ]
  },
  {
   "cell_type": "code",
   "execution_count": 5,
   "metadata": {
    "scrolled": true
   },
   "outputs": [
    {
     "name": "stdout",
     "output_type": "stream",
     "text": [
      "0.538,0.506,1.198,0.956,0.861,1.977,0.697,0.548,1.437,1.226,0.973,2.436\n",
      "0.061,0.142,0.306,0.050,0.110,0.208,0.175,0.073,0.330,0.164,0.068,0.287\n",
      "0.027,0.032,0.142,0.036,0.040,0.180,0.000,0.000,0.000,0.000,0.000,0.000\n",
      "0.253,0.218,0.602,0.426,0.380,0.790,0.322,0.263,0.706,0.560,0.438,0.942\n",
      "0.263,0.369,0.103,0.081,0.068,0.048,0.211,0.274,0.160,0.044,0.098,0.058\n",
      "0.330,0.346,0.254,0.233,0.236,0.235,0.000,0.000,0.000,0.000,0.000,0.000\n",
      "0.000,0.000,0.000,0.000,0.000,0.000,0.000,0.000,0.000,0.000,0.000,0.000\n",
      "1.005,0.093,0.073,1.023,0.094,0.071,1.063,0.110,0.084,1.024,0.104,0.080\n",
      "0.132,1.157,0.118,0.124,1.062,0.106,0.107,1.028,0.103,0.110,1.033,0.101\n",
      "1.417,1.723,8.755,1.217,1.452,7.516,1.368,1.657,8.922,1.156,1.418,7.720\n",
      "0.081,0.082,0.098,0.086,0.089,0.041,0.054,0.127,0.172,0.048,0.139,0.092\n",
      "0.044,0.053,0.379,0.040,0.071,0.223,0.025,0.123,0.291,0.009,0.104,0.079\n",
      "0.024,0.094,0.129,0.025,0.092,0.133,0.049,0.031,0.045,0.054,0.030,0.034\n",
      "0.008,0.004,0.037,0.009,0.005,0.034,0.135,0.073,0.111,0.140,0.072,0.105\n",
      "0.268,0.025,0.019,0.303,0.028,0.021,0.117,0.209,0.050,0.076,0.263,0.077\n",
      "0.141,0.177,0.061,0.292,0.258,0.045,0.026,0.250,0.025,0.033,0.311,0.030\n",
      "0.402,0.489,2.486,0.314,0.375,1.939,0.375,0.454,2.444,0.246,0.301,1.640\n"
     ]
    }
   ],
   "source": [
    "\n",
    "    "
   ]
  },
  {
   "cell_type": "markdown",
   "metadata": {},
   "source": [
    "# 3. Making Plot"
   ]
  },
  {
   "cell_type": "code",
   "execution_count": 5,
   "metadata": {},
   "outputs": [],
   "source": [
    "for cata,cataname in enumerate([\"mu1b\",\"mu2b\",\"e1b\",\"e2b\"]):\n",
    "    #error = np.sum(err**(-2),axis=0)**(-0.5) \n",
    "    error = np.abs(err[cata])\n",
    "\n",
    "    x = 0.1086 * np.ones_like(error)\n",
    "    y = np.arange(error.shape[0])[::-1]*2\n",
    "    plt.figure(figsize=(3,0.4*y.max()))\n",
    "\n",
    "    plt.errorbar(x[:,0],y+0.3,xerr=error[:,0], fmt='.',color='C0')\n",
    "    plt.errorbar(x[:,1],y-0.0,xerr=error[:,1], fmt='.',color='C1')\n",
    "    plt.errorbar(x[:,2],y-0.3,xerr=error[:,2], fmt='.',color='C2')\n",
    "\n",
    "    for i in range(error.shape[0]):\n",
    "        plt.text(0.114,y[i]+0.4,\"{:4.4f}\".format(error[i,0]),fontsize=8,color='C0')\n",
    "        plt.text(0.114,y[i]-0.1  ,\"{:4.4f}\".format(error[i,1]),fontsize=8,color='C1')\n",
    "        plt.text(0.114,y[i]-0.6,\"{:4.4f}\".format(error[i,2]),fontsize=8,color='C2')\n",
    "\n",
    "    plt.xlim(0.104,0.118)\n",
    "    plt.ylim(-2,y.max()+2)\n",
    "    #plt.axvline(x=0.1086,c=\"k\")\n",
    "    plt.yticks([])\n",
    "    #plt.xticks([])\n",
    "    plt.savefig(\"../plot/error/{}.png\".format(cataname),dpi=300)\n",
    "    plt.close()"
   ]
  },
  {
   "cell_type": "markdown",
   "metadata": {},
   "source": [
    "# 4. Combined"
   ]
  },
  {
   "cell_type": "code",
   "execution_count": 19,
   "metadata": {},
   "outputs": [
    {
     "name": "stderr",
     "output_type": "stream",
     "text": [
      "/Users/zihengchen/anaconda3/lib/python3.6/site-packages/ipykernel_launcher.py:2: RuntimeWarning: divide by zero encountered in power\n",
      "  \n"
     ]
    },
    {
     "data": {
      "text/plain": [
       "array([[3.70809106e-01, 3.22090628e-01, 7.89740684e-01],\n",
       "       [3.75888452e-02, 4.28720846e-02, 1.34786307e-01],\n",
       "       [6.92580214e-13, 1.33732553e-12, 5.01436022e-13],\n",
       "       [1.71641179e-01, 1.47046163e-01, 3.66576389e-01],\n",
       "       [4.09028181e-02, 5.40955896e-02, 3.41856825e-02],\n",
       "       [0.00000000e+00, 0.00000000e+00, 0.00000000e+00],\n",
       "       [0.00000000e+00, 1.19310778e-14, 0.00000000e+00],\n",
       "       [5.16397710e-01, 5.01053319e-02, 3.83140890e-02],\n",
       "       [5.82037963e-02, 5.33322495e-01, 5.33236819e-02],\n",
       "       [6.63405390e-01, 7.70448793e-01, 4.08274955e+00],\n",
       "       [3.10700549e-02, 5.07458271e-02, 3.44785080e-02],\n",
       "       [8.06993159e-03, 3.73980525e-02, 7.13659413e-02],\n",
       "       [1.58782275e-02, 2.00082333e-02, 2.57664141e-02],\n",
       "       [6.10589801e-03, 3.11978340e-03, 2.35776166e-02]])"
      ]
     },
     "execution_count": 19,
     "metadata": {},
     "output_type": "execute_result"
    }
   ],
   "source": [
    "error = np.abs(err/0.1086 * 100)\n",
    "np.sum(error**(-2),axis=0)**(-0.5)"
   ]
  },
  {
   "cell_type": "code",
   "execution_count": 2,
   "metadata": {},
   "outputs": [
    {
     "data": {
      "text/plain": [
       "'up'"
      ]
     },
     "execution_count": 2,
     "metadata": {},
     "output_type": "execute_result"
    }
   ],
   "source": [
    "\"\"+\"up\""
   ]
  },
  {
   "cell_type": "code",
   "execution_count": 26,
   "metadata": {},
   "outputs": [
    {
     "data": {
      "text/plain": [
       "0.15"
      ]
     },
     "execution_count": 26,
     "metadata": {},
     "output_type": "execute_result"
    }
   ],
   "source": [
    "30*1.005"
   ]
  },
  {
   "cell_type": "code",
   "execution_count": null,
   "metadata": {},
   "outputs": [],
   "source": []
  }
 ],
 "metadata": {
  "kernelspec": {
   "display_name": "Python 3",
   "language": "python",
   "name": "python3"
  },
  "language_info": {
   "codemirror_mode": {
    "name": "ipython",
    "version": 3
   },
   "file_extension": ".py",
   "mimetype": "text/x-python",
   "name": "python",
   "nbconvert_exporter": "python",
   "pygments_lexer": "ipython3",
   "version": "3.6.4"
  }
 },
 "nbformat": 4,
 "nbformat_minor": 2
}
