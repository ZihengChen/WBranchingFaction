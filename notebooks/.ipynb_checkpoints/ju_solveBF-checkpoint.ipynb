{
 "cells": [
  {
   "cell_type": "code",
   "execution_count": 1,
   "metadata": {},
   "outputs": [],
   "source": [
    "from utility_bfsolver import *"
   ]
  },
  {
   "cell_type": "code",
   "execution_count": 2,
   "metadata": {},
   "outputs": [],
   "source": [
    "counts = pd.read_pickle(\"/Users/zihengchen/Documents/Analysis/workplace/data/count/count_.pkl\")"
   ]
  },
  {
   "cell_type": "code",
   "execution_count": 7,
   "metadata": {},
   "outputs": [
    {
     "data": {
      "text/plain": [
       "array([[0.10906   , 0.11190817, 0.11046231],\n",
       "       [0.11311639, 0.11377278, 0.10780647],\n",
       "       [0.10557132, 0.10544763, 0.10428385],\n",
       "       [0.10835108, 0.10847748, 0.10495039]])"
      ]
     },
     "execution_count": 7,
     "metadata": {},
     "output_type": "execute_result"
    }
   ],
   "source": [
    "slt = []\n",
    "for i in range(4):\n",
    "    slv = BFSolver3D(counts.acc[i])\n",
    "    obsX = slv.SetMeasuredX(counts.ndata[i],counts.nmcbg[i]+counts.nfake[i])\n",
    "    slt.append(slv.SolveQuadEqn(obsX))\n",
    "slt = np.array(slt)\n",
    "slt"
   ]
  },
  {
   "cell_type": "code",
   "execution_count": 8,
   "metadata": {},
   "outputs": [
    {
     "data": {
      "text/plain": [
       "array([[0.12492746, 0.14150433, 0.11016076],\n",
       "       [0.14993614, 0.15046142, 0.10756218],\n",
       "       [0.09291364, 0.09882557, 0.10436424],\n",
       "       [0.11457969, 0.11790198, 0.10486388]])"
      ]
     },
     "execution_count": 8,
     "metadata": {},
     "output_type": "execute_result"
    }
   ],
   "source": [
    "slt = []\n",
    "for i in range(4):\n",
    "    slv = BFSolver1D(counts.acc[i])\n",
    "    obsX = slv.SetMeasuredX(counts.ndata[i],counts.nmcbg[i]+counts.nfake[i])\n",
    "    slt.append(slv.SolveQuadEqn(obsX))\n",
    "slt = np.array(slt)\n",
    "slt"
   ]
  },
  {
   "cell_type": "code",
   "execution_count": null,
   "metadata": {},
   "outputs": [],
   "source": []
  }
 ],
 "metadata": {
  "kernelspec": {
   "display_name": "Python 3",
   "language": "python",
   "name": "python3"
  },
  "language_info": {
   "codemirror_mode": {
    "name": "ipython",
    "version": 3
   },
   "file_extension": ".py",
   "mimetype": "text/x-python",
   "name": "python",
   "nbconvert_exporter": "python",
   "pygments_lexer": "ipython3",
   "version": "3.6.4"
  }
 },
 "nbformat": 4,
 "nbformat_minor": 2
}
