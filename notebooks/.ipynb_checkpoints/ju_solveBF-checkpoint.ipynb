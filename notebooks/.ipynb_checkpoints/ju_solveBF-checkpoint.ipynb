{
 "cells": [
  {
   "cell_type": "code",
   "execution_count": 1,
   "metadata": {},
   "outputs": [],
   "source": [
    "from utility_bfsolver import *"
   ]
  },
  {
   "cell_type": "code",
   "execution_count": 2,
   "metadata": {},
   "outputs": [],
   "source": [
    "counts = pd.read_pickle(\"/Users/zihengchen/Documents/Analysis/workplace/data/count/count_.pkl\")"
   ]
  },
  {
   "cell_type": "code",
   "execution_count": 3,
   "metadata": {},
   "outputs": [
    {
     "data": {
      "text/plain": [
       "array([[0.10906   , 0.11190817, 0.11046231],\n",
       "       [0.11311639, 0.11377278, 0.10780647],\n",
       "       [0.10557132, 0.10544763, 0.10428385],\n",
       "       [0.10835108, 0.10847748, 0.10495039]])"
      ]
     },
     "execution_count": 3,
     "metadata": {},
     "output_type": "execute_result"
    }
   ],
   "source": [
    "slt = []\n",
    "for i in range(4):\n",
    "    slv = BFSolver3D(counts.acc[i])\n",
    "    obsX = slv.setMeasuredX(counts.ndata[i],counts.nmcbg[i]+counts.nfake[i])\n",
    "    slt.append(slv.solveQuadEqn(obsX))\n",
    "slt = np.array(slt)\n",
    "slt"
   ]
  },
  {
   "cell_type": "code",
   "execution_count": 43,
   "metadata": {},
   "outputs": [],
   "source": [
    "errm = []\n",
    "erre = []\n",
    "for i in range(4):\n",
    "    slv = BFSolver1D(counts.acc[i])\n",
    "    slve = BFSolver1D(counts.acc[i],bWe=0.1071-0.0016, bWm=0.1063)\n",
    "    slvm = BFSolver1D(counts.acc[i],bWe=0.1071, bWm=0.1063-0.0015)\n",
    "    obsX = slv.setMeasuredX(counts.ndata[i],counts.nmcbg[i]+counts.nfake[i])\n",
    "    \n",
    "    errm.append(slvm.solveQuadEqn(obsX) - slv.solveQuadEqn(obsX))\n",
    "    erre.append(slve.solveQuadEqn(obsX) - slv.solveQuadEqn(obsX))\n",
    "errm = np.array(errm).reshape(-1)[np.array([1,2,4,5,6,8,9,11])]/0.1086 * 100\n",
    "erre = np.array(erre).reshape(-1)[np.array([1,2,4,5,6,8,9,11])]/0.1086 * 100\n"
   ]
  },
  {
   "cell_type": "code",
   "execution_count": 45,
   "metadata": {},
   "outputs": [
    {
     "name": "stdout",
     "output_type": "stream",
     "text": [
      "[0.28405996917667425, -0.04023284882554186, 0.313995213510635, -0.019225546987028864, 10.884483748754285, -0.02303935201080021, 10.988502099849077, 0.004417528335650206]\n",
      "[7.546641670321417, -0.06076185591210743, 7.645030115953297, -0.03024574158124695, 0.12273743563507604, -0.09156750884401244, 0.18890761611742132, -0.05711772382773422]\n"
     ]
    }
   ],
   "source": [
    "err = []\n",
    "effUp = np.array([0,0,0.05,0]) + 1\n",
    "for i in range(4):\n",
    "    slv = BFSolver1D(counts.acc[i])\n",
    "    slv1 = BFSolver1D(counts.acc[i] * effUp[:,None,None])\n",
    "    \n",
    "    BW = slv .solveQuadEqn(slv .setMeasuredX(counts.ndata[i],counts.nmcbg[i]+counts.nfake[i])\n",
    "    BW = slv1.solveQuadEqn(slv1.setMeasuredX(counts.ndata[i],counts.nmcbg[i]* effUp[:,None,None]+counts.nfake[i])\n",
    "\n",
    "\n",
    "    \n",
    "    errm.append(slvm.solveQuadEqn(obsX) - slv.solveQuadEqn(obsX))\n",
    "    erre.append(slve.solveQuadEqn(obsX) - slv.solveQuadEqn(obsX))\n",
    "errm = np.array(errm).reshape(-1)[np.array([1,2,4,5,6,8,9,11])]/0.1086 * 100\n",
    "erre = np.array(erre).reshape(-1)[np.array([1,2,4,5,6,8,9,11])]/0.1086 * 100"
   ]
  },
  {
   "cell_type": "code",
   "execution_count": 36,
   "metadata": {},
   "outputs": [
    {
     "name": "stdout",
     "output_type": "stream",
     "text": [
      "[-0.008198468678198012, 6.612840555038357e-05, -0.008303881929278945, 3.2971725394945195e-05, -0.00013326228665613837, 9.943625712872939e-05, -0.0002051136316692792, 6.20271940013073e-05]\n"
     ]
    }
   ],
   "source": [
    "print([errm[i] for i in range(8)])"
   ]
  },
  {
   "cell_type": "code",
   "execution_count": null,
   "metadata": {},
   "outputs": [],
   "source": []
  }
 ],
 "metadata": {
  "kernelspec": {
   "display_name": "Python 3",
   "language": "python",
   "name": "python3"
  },
  "language_info": {
   "codemirror_mode": {
    "name": "ipython",
    "version": 3
   },
   "file_extension": ".py",
   "mimetype": "text/x-python",
   "name": "python",
   "nbconvert_exporter": "python",
   "pygments_lexer": "ipython3",
   "version": "3.6.4"
  }
 },
 "nbformat": 4,
 "nbformat_minor": 2
}
