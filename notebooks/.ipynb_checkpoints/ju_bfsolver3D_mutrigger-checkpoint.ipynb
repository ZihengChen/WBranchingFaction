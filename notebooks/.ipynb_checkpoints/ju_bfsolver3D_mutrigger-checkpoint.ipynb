{
 "cells": [
  {
   "cell_type": "code",
   "execution_count": 1,
   "metadata": {},
   "outputs": [],
   "source": [
    "from pylab import *\n",
    "from utility_bfsolver3D import *\n",
    "from utility_error import *\n",
    "\n",
    "%matplotlib inline\n",
    "plt.style.use('classic')\n",
    "plt.rc(\"figure\",facecolor=\"w\",figsize=(6,4))\n",
    "plt.rc(\"font\",size=12)\n",
    "\n",
    "tb = BFCalc3D_Toolbox()\n",
    "er = BFCalc3D_Error()"
   ]
  },
  {
   "cell_type": "markdown",
   "metadata": {},
   "source": [
    "# 1. Try One Case"
   ]
  },
  {
   "cell_type": "code",
   "execution_count": 2,
   "metadata": {},
   "outputs": [
    {
     "data": {
      "image/png": "[encoded data removed]",
      "text/plain": [
       "<matplotlib.figure.Figure at 0x104b9ef98>"
      ]
     },
     "metadata": {},
     "output_type": "display_data"
    }
   ],
   "source": [
    "# defining bfCalc\n",
    "trigger,tag = \"e\",\"1b\"\n",
    "a,aVar         = tb.GetAcc  (trigger,tag)\n",
    "ndata,ndataVar = tb.GetNData(trigger,tag)\n",
    "nmcbg,nmcbgVar = tb.GetNMcbg(trigger,tag)\n",
    "nfake,nfakeVar = tb.GetNFake(trigger,tag)\n",
    "\n",
    "tb.Plot_Imshow4Matrix(a,trigger)"
   ]
  },
  {
   "cell_type": "code",
   "execution_count": 3,
   "metadata": {},
   "outputs": [
    {
     "data": {
      "text/plain": [
       "array([ 0.00000000e+00,  0.00000000e+00,  0.00000000e+00,  0.00000000e+00,\n",
       "        0.00000000e+00, -8.67361738e-19,  0.00000000e+00,  0.00000000e+00,\n",
       "       -8.67361738e-19,  0.00000000e+00])"
      ]
     },
     "execution_count": 3,
     "metadata": {},
     "output_type": "execute_result"
    }
   ],
   "source": [
    "bf = BFCalc3D_ThreeSelectorRatios(a)\n",
    "bf.nSignal[3].QuadCoeffFromAnalytics() - bf.nSignal[3].QuadCoeffFromBMatrix()"
   ]
  },
  {
   "cell_type": "code",
   "execution_count": 4,
   "metadata": {},
   "outputs": [
    {
     "data": {
      "text/plain": [
       "[-0.0616660549004036*x**2 - 0.000703365698452889*x*y - 0.0126069857715923*x*z + 0.00771540549321942*x + 1.14580363691105e-7*y**2 - 0.000114269946086446*y*z - 1.07061569863683e-6*y - 0.000500626806880372*z**2 + 0.000434933146123996*z + 1.15909728270923e-6,\n",
       " -0.00455395137632184*x**2 - 0.109640901286705*x*y - 0.0200337043474188*x*z + 0.0142449809428124*x + 5.3846455703917e-6*y**2 - 0.00498333269556575*y*z - 1.07498911627929e-5*y - 0.00101843692896766*z**2 + 0.000803296033570716*z + 2.13973939453709e-6,\n",
       " 0.000847372402985943*x**2 + 0.00219046961747786*x*y - 0.0219541356862101*x*z + 0.0021734893995628*x - 7.93207366765812e-8*y**2 + 6.69944448863397e-5*y*z - 3.00119618607153e-7*y - 0.0012225408189325*z**2 + 0.000129023573018121*z + 5.10168063260603e-7]"
      ]
     },
     "execution_count": 4,
     "metadata": {},
     "output_type": "execute_result"
    }
   ],
   "source": [
    "bf = BFCalc3D_ThreeSelectorRatios(a)\n",
    "bf.QuadEqn(bf.PredictX())"
   ]
  },
  {
   "cell_type": "code",
   "execution_count": 6,
   "metadata": {},
   "outputs": [
    {
     "data": {
      "text/plain": [
       "[-0.0616660549004036*x**2 - 0.000703365698452885*x*y - 0.0126069857715923*x*z + 0.00771540549321942*x + 1.14580363691105e-7*y**2 - 0.000114269946086446*y*z - 1.07061569863683e-6*y - 0.000500626806880372*z**2 + 0.000434933146123996*z + 1.15909728270923e-6,\n",
       " -0.00455395137632184*x**2 - 0.109640901286705*x*y - 0.0200337043474188*x*z + 0.0142449809428124*x + 5.3846455703917e-6*y**2 - 0.00498333269556575*y*z - 1.07498911627929e-5*y - 0.00101843692896766*z**2 + 0.000803296033570716*z + 2.13973939453709e-6,\n",
       " 0.000847372402985944*x**2 + 0.00219046961747786*x*y - 0.0219541356862101*x*z + 0.00217348939956279*x - 7.93207366765813e-8*y**2 + 6.69944448863396e-5*y*z - 3.00119618607153e-7*y - 0.0012225408189325*z**2 + 0.000129023573018121*z + 5.10168063260603e-7]"
      ]
     },
     "execution_count": 6,
     "metadata": {},
     "output_type": "execute_result"
    }
   ],
   "source": [
    "bf = BFCalc3D_ThreeSelectorRatios(a)\n",
    "bf.QuadEqn(bf.PredictX())"
   ]
  },
  {
   "cell_type": "markdown",
   "metadata": {},
   "source": [
    "# 2. Calculate Statistical Error"
   ]
  },
  {
   "cell_type": "code",
   "execution_count": 5,
   "metadata": {},
   "outputs": [
    {
     "name": "stderr",
     "output_type": "stream",
     "text": [
      "mu-1b: 100%|██████████| 100/100 [00:06<00:00, 14.61it/s]\n",
      "mu-2b: 100%|██████████| 100/100 [00:06<00:00, 14.67it/s]\n",
      "e-1b: 100%|██████████| 100/100 [00:06<00:00, 15.20it/s]\n",
      "e-2b: 100%|██████████| 100/100 [00:06<00:00, 15.14it/s]\n",
      "mu-1b: 100%|██████████| 100/100 [00:06<00:00, 14.64it/s]\n",
      "mu-2b: 100%|██████████| 100/100 [00:06<00:00, 14.54it/s]\n",
      "e-1b: 100%|██████████| 100/100 [00:06<00:00, 14.66it/s]\n",
      "e-2b: 100%|██████████| 100/100 [00:06<00:00, 15.01it/s]\n",
      "mu-1b: 100%|██████████| 100/100 [00:06<00:00, 14.38it/s]\n",
      "mu-2b: 100%|██████████| 100/100 [00:06<00:00, 14.37it/s]\n",
      "e-1b: 100%|██████████| 100/100 [00:06<00:00, 15.39it/s]\n",
      "e-2b: 100%|██████████| 100/100 [00:05<00:00, 17.15it/s]\n",
      "mu-1b: 100%|██████████| 100/100 [00:06<00:00, 15.37it/s]\n",
      "mu-2b: 100%|██████████| 100/100 [00:06<00:00, 15.49it/s]\n",
      "e-1b: 100%|██████████| 100/100 [00:06<00:00, 15.06it/s]\n",
      "e-2b: 100%|██████████| 100/100 [00:06<00:00, 15.27it/s]"
     ]
    },
    {
     "name": "stdout",
     "output_type": "stream",
     "text": [
      "[array([[0.00060566, 0.00056233, 0.00121419],\n",
      "       [0.00116588, 0.00082668, 0.00223041],\n",
      "       [0.00077595, 0.00058881, 0.00157841],\n",
      "       [0.00135876, 0.00100187, 0.00273652]]), array([[6.66578943e-05, 1.61107250e-04, 3.04747536e-04],\n",
      "       [5.15235385e-05, 1.17647035e-04, 2.28922743e-04],\n",
      "       [1.81076511e-04, 7.91519468e-05, 3.31044666e-04],\n",
      "       [1.61665568e-04, 7.51966650e-05, 2.94663866e-04]]), array([[3.28474839e-05, 3.86925743e-05, 1.83416064e-04],\n",
      "       [4.25279601e-05, 4.77663828e-05, 2.15939449e-04],\n",
      "       [1.94289029e-16, 2.22044605e-16, 1.94289029e-16],\n",
      "       [1.80411242e-16, 1.11022302e-16, 1.80411242e-16]]), array([[0.00027715, 0.00025749, 0.00058334],\n",
      "       [0.00048913, 0.0003903 , 0.00090753],\n",
      "       [0.00039938, 0.00029339, 0.00079149],\n",
      "       [0.00052346, 0.00051307, 0.00109386]])]\n"
     ]
    },
    {
     "name": "stderr",
     "output_type": "stream",
     "text": [
      "\n"
     ]
    }
   ],
   "source": [
    "statistcal = [ er.errStat(100,source) for source in [\"data\",\"mcbg\",\"fake\",\"mcsg\"] ]\n",
    "print(statistcal)"
   ]
  },
  {
   "cell_type": "code",
   "execution_count": 2,
   "metadata": {},
   "outputs": [],
   "source": [
    "sysCrossSection = [ er.errSystem_CrossSection(source) for source in [\"mcbg\",\"fake\",\"mcsg\"] ]\n",
    "sysObjectEff = [ er.errSystem_ObjectEff(source) for source in [\"e\",\"mu\",\"tau\"] ]"
   ]
  },
  {
   "cell_type": "code",
   "execution_count": 6,
   "metadata": {},
   "outputs": [],
   "source": [
    "err = np.array(statistcal+sysCrossSection+sysObjectEff).transpose(1,0,2)"
   ]
  },
  {
   "cell_type": "code",
   "execution_count": 7,
   "metadata": {},
   "outputs": [
    {
     "data": {
      "text/plain": [
       "array([[[ 6.05661766e-04,  5.62326060e-04,  1.21418551e-03],\n",
       "        [ 6.66578943e-05,  1.61107250e-04,  3.04747536e-04],\n",
       "        [ 3.28474839e-05,  3.86925743e-05,  1.83416064e-04],\n",
       "        [ 2.77151934e-04,  2.57494165e-04,  5.83341006e-04],\n",
       "        [ 2.86318081e-04, -4.00299915e-04,  1.09605955e-04],\n",
       "        [ 3.84478237e-04,  4.06898398e-04,  1.18115688e-04],\n",
       "        [-5.55111512e-17,  9.71445147e-17, -6.93889390e-17],\n",
       "        [-9.11416249e-06,  8.47766172e-07,  6.51217198e-07],\n",
       "        [ 2.97618296e-05, -2.59930480e-04,  2.61973336e-05],\n",
       "        [ 9.74813619e-05,  1.18510608e-04, -6.02306926e-04]],\n",
       "\n",
       "       [[ 1.16588059e-03,  8.26684404e-04,  2.23041328e-03],\n",
       "        [ 5.15235385e-05,  1.17647035e-04,  2.28922743e-04],\n",
       "        [ 4.25279601e-05,  4.77663828e-05,  2.15939449e-04],\n",
       "        [ 4.89131046e-04,  3.90303407e-04,  9.07532171e-04],\n",
       "        [ 8.75531522e-05, -7.35797460e-05,  5.20743433e-05],\n",
       "        [ 2.64339004e-04,  2.69443390e-04,  1.85470136e-04],\n",
       "        [ 4.16333634e-17, -1.11022302e-16,  2.77555756e-17],\n",
       "        [-2.41562081e-06,  2.23024820e-07,  1.65798480e-07],\n",
       "        [ 7.06223062e-06, -6.07361376e-05,  6.05801778e-06],\n",
       "        [ 2.95525834e-05,  3.52482362e-05, -1.82470909e-04]],\n",
       "\n",
       "       [[ 7.75949555e-04,  5.88813837e-04,  1.57840712e-03],\n",
       "        [ 1.81076511e-04,  7.91519468e-05,  3.31044666e-04],\n",
       "        [ 1.94289029e-16,  2.22044605e-16,  1.94289029e-16],\n",
       "        [ 3.99380935e-04,  2.93386366e-04,  7.91493287e-04],\n",
       "        [-2.59988579e-04,  3.01293278e-04,  1.76100946e-04],\n",
       "        [ 0.00000000e+00,  0.00000000e+00,  0.00000000e+00],\n",
       "        [ 0.00000000e+00, -1.38777878e-17, -1.11022302e-16],\n",
       "        [-2.09193928e-04,  2.16317937e-05,  1.65369231e-05],\n",
       "        [ 1.07096231e-06, -1.03808048e-05,  1.04465533e-06],\n",
       "        [ 6.66893911e-05,  7.38660007e-05, -4.01321938e-04]],\n",
       "\n",
       "       [[ 1.35875907e-03,  1.00186737e-03,  2.73651746e-03],\n",
       "        [ 1.61665568e-04,  7.51966650e-05,  2.94663866e-04],\n",
       "        [ 1.80411242e-16,  1.11022302e-16,  1.80411242e-16],\n",
       "        [ 5.23463306e-04,  5.13071646e-04,  1.09385626e-03],\n",
       "        [-5.35220113e-05,  1.06555581e-04,  6.32121808e-05],\n",
       "        [ 0.00000000e+00,  0.00000000e+00,  0.00000000e+00],\n",
       "        [-8.32667268e-17, -4.16333634e-17,  0.00000000e+00],\n",
       "        [-5.99223759e-05,  6.10043002e-06,  4.69490026e-06],\n",
       "        [ 3.13344863e-07, -2.96485923e-06,  2.89713905e-07],\n",
       "        [ 1.89644520e-05,  2.14772819e-05, -1.17869667e-04]]])"
      ]
     },
     "execution_count": 7,
     "metadata": {},
     "output_type": "execute_result"
    }
   ],
   "source": [
    "err"
   ]
  },
  {
   "cell_type": "code",
   "execution_count": 15,
   "metadata": {},
   "outputs": [
    {
     "data": {
      "text/plain": [
       "array([0.00052644, 0.00045002, 0.00099858])"
      ]
     },
     "execution_count": 15,
     "metadata": {},
     "output_type": "execute_result"
    }
   ],
   "source": [
    "err = err+1e-35\n",
    "a = np.sum(err**2,axis=1)**0.5\n",
    "\n",
    "1/np.sum(1/a**2,axis=0)**0.5"
   ]
  },
  {
   "cell_type": "code",
   "execution_count": 16,
   "metadata": {},
   "outputs": [
    {
     "data": {
      "text/plain": [
       "array([[0.00083032, 0.00090409, 0.00152659],\n",
       "       [0.00129671, 0.00096686, 0.00244292],\n",
       "       [0.00095404, 0.00073202, 0.00184926],\n",
       "       [0.00146738, 0.00113336, 0.00296476]])"
      ]
     },
     "execution_count": 16,
     "metadata": {},
     "output_type": "execute_result"
    }
   ],
   "source": [
    "a"
   ]
  },
  {
   "cell_type": "code",
   "execution_count": null,
   "metadata": {},
   "outputs": [],
   "source": []
  }
 ],
 "metadata": {
  "kernelspec": {
   "display_name": "Python 3",
   "language": "python",
   "name": "python3"
  },
  "language_info": {
   "codemirror_mode": {
    "name": "ipython",
    "version": 3
   },
   "file_extension": ".py",
   "mimetype": "text/x-python",
   "name": "python",
   "nbconvert_exporter": "python",
   "pygments_lexer": "ipython3",
   "version": "3.6.4"
  }
 },
 "nbformat": 4,
 "nbformat_minor": 2
}
