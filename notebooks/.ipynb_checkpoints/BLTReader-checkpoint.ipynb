{
 "cells": [
  {
   "cell_type": "code",
   "execution_count": 1,
   "metadata": {},
   "outputs": [
    {
     "name": "stdout",
     "output_type": "stream",
     "text": [
      "Welcome to JupyROOT 6.13/02\n"
     ]
    }
   ],
   "source": [
    "from readblt_datamc import *\n",
    "import multiprocessing as mp"
   ]
  },
  {
   "cell_type": "markdown",
   "metadata": {},
   "source": [
    "# 1. Save nGen in pickle"
   ]
  },
  {
   "cell_type": "code",
   "execution_count": 2,
   "metadata": {},
   "outputs": [],
   "source": [
    "ee = BLTReader(\"2016MC5.root\",\"ee\",includeTTTheory=True)\n",
    "ee.outputNGen()"
   ]
  },
  {
   "cell_type": "markdown",
   "metadata": {},
   "source": [
    "# 2. Read Standard BLT"
   ]
  },
  {
   "cell_type": "code",
   "execution_count": 4,
   "metadata": {
    "scrolled": true
   },
   "outputs": [
    {
     "name": "stdout",
     "output_type": "stream",
     "text": [
      "mutau finished!\n",
      "etau finished!\n",
      "/home/zchen/Documents/Analysis/workplace/data/pickle/ee/data2016/ntuple_electron_2016B.pkl is SAVED!\n",
      "/home/zchen/Documents/Analysis/workplace/data/pickle/ee/data2016/ntuple_electron_2016C.pkl is SAVED!\n",
      "/home/zchen/Documents/Analysis/workplace/data/pickle/emu/data2016/ntuple_muon_2016B.pkl is SAVED!\n",
      "/home/zchen/Documents/Analysis/workplace/data/pickle/ee/data2016/ntuple_electron_2016D.pkl is SAVED!\n",
      "/home/zchen/Documents/Analysis/workplace/data/pickle/mumu/data2016/ntuple_muon_2016B.pkl is SAVED!\n",
      "/home/zchen/Documents/Analysis/workplace/data/pickle/emu/data2016/ntuple_muon_2016C.pkl is SAVED!\n",
      "/home/zchen/Documents/Analysis/workplace/data/pickle/ee/data2016/ntuple_electron_2016E.pkl is SAVED!\n",
      "/home/zchen/Documents/Analysis/workplace/data/pickle/ee/data2016/ntuple_electron_2016F.pkl is SAVED!\n",
      "/home/zchen/Documents/Analysis/workplace/data/pickle/mumu/data2016/ntuple_muon_2016C.pkl is SAVED!\n",
      "/home/zchen/Documents/Analysis/workplace/data/pickle/emu/data2016/ntuple_muon_2016D.pkl is SAVED!\n",
      "/home/zchen/Documents/Analysis/workplace/data/pickle/ee/data2016/ntuple_electron_2016G.pkl is SAVED!\n",
      "/home/zchen/Documents/Analysis/workplace/data/pickle/emu/data2016/ntuple_muon_2016E.pkl is SAVED!\n",
      "/home/zchen/Documents/Analysis/workplace/data/pickle/mumu/data2016/ntuple_muon_2016D.pkl is SAVED!\n",
      "/home/zchen/Documents/Analysis/workplace/data/pickle/emu/data2016/ntuple_muon_2016F.pkl is SAVED!\n",
      "/home/zchen/Documents/Analysis/workplace/data/pickle/ee/data2016/ntuple_electron_2016H.pkl is SAVED!\n",
      "/home/zchen/Documents/Analysis/workplace/data/pickle/mumu/data2016/ntuple_muon_2016E.pkl is SAVED!\n",
      "/home/zchen/Documents/Analysis/workplace/data/pickle/emu/data2016/ntuple_muon_2016G.pkl is SAVED!\n",
      "/home/zchen/Documents/Analysis/workplace/data/pickle/e4j/data2016/ntuple_electron_2016B.pkl is SAVED!\n",
      "/home/zchen/Documents/Analysis/workplace/data/pickle/mumu/data2016/ntuple_muon_2016F.pkl is SAVED!\n",
      "/home/zchen/Documents/Analysis/workplace/data/pickle/emu/data2016/ntuple_muon_2016H.pkl is SAVED!\n",
      "/home/zchen/Documents/Analysis/workplace/data/pickle/emu/data2016/ntuple_electron_2016B.pkl is SAVED!\n",
      "/home/zchen/Documents/Analysis/workplace/data/pickle/emu/data2016/ntuple_electron_2016C.pkl is SAVED!\n",
      "/home/zchen/Documents/Analysis/workplace/data/pickle/e4j/data2016/ntuple_electron_2016C.pkl is SAVED!\n",
      "/home/zchen/Documents/Analysis/workplace/data/pickle/emu/data2016/ntuple_electron_2016D.pkl is SAVED!\n",
      "/home/zchen/Documents/Analysis/workplace/data/pickle/emu/data2016/ntuple_electron_2016E.pkl is SAVED!\n",
      "/home/zchen/Documents/Analysis/workplace/data/pickle/emu/data2016/ntuple_electron_2016F.pkl is SAVED!\n",
      "/home/zchen/Documents/Analysis/workplace/data/pickle/mumu/data2016/ntuple_muon_2016G.pkl is SAVED!\n",
      "/home/zchen/Documents/Analysis/workplace/data/pickle/emu/data2016/ntuple_electron_2016G.pkl is SAVED!\n",
      "/home/zchen/Documents/Analysis/workplace/data/pickle/mu4j/data2016/ntuple_muon_2016B.pkl is SAVED!\n",
      "/home/zchen/Documents/Analysis/workplace/data/pickle/emu/data2016/ntuple_electron_2016H.pkl is SAVED!\n",
      "/home/zchen/Documents/Analysis/workplace/data/pickle/mumu/data2016/ntuple_muon_2016H.pkl is SAVED!\n",
      "/home/zchen/Documents/Analysis/workplace/data/pickle/e4j/data2016/ntuple_electron_2016D.pkl is SAVED!\n",
      "/home/zchen/Documents/Analysis/workplace/data/pickle/mu4j/data2016/ntuple_muon_2016C.pkl is SAVED!\n",
      "/home/zchen/Documents/Analysis/workplace/data/pickle/ee/mcttboson/ntuple_TTZToLLNuNu.pkl is SAVED!\n",
      "/home/zchen/Documents/Analysis/workplace/data/pickle/ee/mcdiboson/ntuple_ww.pkl is SAVED!\n",
      "/home/zchen/Documents/Analysis/workplace/data/pickle/e4j/data2016/ntuple_electron_2016E.pkl is SAVED!\n",
      "/home/zchen/Documents/Analysis/workplace/data/pickle/emu/mcttboson/ntuple_TTZToLLNuNu.pkl is SAVED!\n",
      "/home/zchen/Documents/Analysis/workplace/data/pickle/emu/mcdiboson/ntuple_ww.pkl is SAVED!\n",
      "/home/zchen/Documents/Analysis/workplace/data/pickle/emu/mcdiboson/ntuple_wz_2l2q.pkl is SAVED!\n",
      "/home/zchen/Documents/Analysis/workplace/data/pickle/emu/mcdiboson/ntuple_wz_3lnu.pkl is SAVED!\n",
      "/home/zchen/Documents/Analysis/workplace/data/pickle/emu/mcdiboson/ntuple_zz_2l2nu.pkl is SAVED!\n",
      "/home/zchen/Documents/Analysis/workplace/data/pickle/emu/mcdiboson/ntuple_zz_2l2q.pkl is SAVED!\n",
      "/home/zchen/Documents/Analysis/workplace/data/pickle/emu/mcdiboson/ntuple_zz_4l.pkl is SAVED!\n",
      "/home/zchen/Documents/Analysis/workplace/data/pickle/emu/mcdy/ntuple_zjets_m-10to50.pkl is SAVED!\n",
      "/home/zchen/Documents/Analysis/workplace/data/pickle/emu/mcdy/ntuple_zjets_m-50.pkl is SAVED!\n",
      "/home/zchen/Documents/Analysis/workplace/data/pickle/emu/mcdy/ntuple_z1jets_m-50.pkl is SAVED!\n",
      "/home/zchen/Documents/Analysis/workplace/data/pickle/emu/mcdy/ntuple_z2jets_m-10to50.pkl is SAVED!\n",
      "/home/zchen/Documents/Analysis/workplace/data/pickle/emu/mcdy/ntuple_z2jets_m-50.pkl is SAVED!\n",
      "/home/zchen/Documents/Analysis/workplace/data/pickle/emu/mcdy/ntuple_z3jets_m-10to50.pkl is SAVED!\n",
      "/home/zchen/Documents/Analysis/workplace/data/pickle/emu/mcdy/ntuple_z3jets_m-50.pkl is SAVED!\n",
      "/home/zchen/Documents/Analysis/workplace/data/pickle/emu/mcdy/ntuple_z4jets_m-10to50.pkl is SAVED!\n",
      "/home/zchen/Documents/Analysis/workplace/data/pickle/emu/mcdy/ntuple_z4jets_m-50.pkl is SAVED!\n",
      "/home/zchen/Documents/Analysis/workplace/data/pickle/emu/mcdy/ntuple_w1jets.pkl is SAVED!\n",
      "/home/zchen/Documents/Analysis/workplace/data/pickle/emu/mcdy/ntuple_w2jets.pkl is SAVED!\n",
      "/home/zchen/Documents/Analysis/workplace/data/pickle/emu/mcdy/ntuple_w3jets.pkl is SAVED!\n",
      "/home/zchen/Documents/Analysis/workplace/data/pickle/ee/mcdiboson/ntuple_wz_2l2q.pkl is SAVED!\n",
      "/home/zchen/Documents/Analysis/workplace/data/pickle/emu/mcdy/ntuple_w4jets.pkl is SAVED!\n",
      "/home/zchen/Documents/Analysis/workplace/data/pickle/ee/mcdiboson/ntuple_wz_3lnu.pkl is SAVED!\n",
      "/home/zchen/Documents/Analysis/workplace/data/pickle/emu/mct/ntuple_t_tw.pkl is SAVED!\n",
      "/home/zchen/Documents/Analysis/workplace/data/pickle/ee/mcdiboson/ntuple_zz_2l2nu.pkl is SAVED!\n",
      "/home/zchen/Documents/Analysis/workplace/data/pickle/emu/mct/ntuple_tbar_tw.pkl is SAVED!\n",
      "/home/zchen/Documents/Analysis/workplace/data/pickle/e4j/data2016/ntuple_electron_2016F.pkl is SAVED!\n",
      "/home/zchen/Documents/Analysis/workplace/data/pickle/mu4j/data2016/ntuple_muon_2016D.pkl is SAVED!\n",
      "/home/zchen/Documents/Analysis/workplace/data/pickle/ee/mcdiboson/ntuple_zz_2l2q.pkl is SAVED!\n",
      "/home/zchen/Documents/Analysis/workplace/data/pickle/ee/mcdiboson/ntuple_zz_4l.pkl is SAVED!\n",
      "/home/zchen/Documents/Analysis/workplace/data/pickle/ee/mcdy/ntuple_zjets_m-10to50.pkl is SAVED!\n",
      "/home/zchen/Documents/Analysis/workplace/data/pickle/ee/mcdy/ntuple_zjets_m-50.pkl is SAVED!\n",
      "/home/zchen/Documents/Analysis/workplace/data/pickle/ee/mcdy/ntuple_z1jets_m-10to50.pkl is SAVED!\n",
      "/home/zchen/Documents/Analysis/workplace/data/pickle/ee/mcdy/ntuple_z1jets_m-50.pkl is SAVED!\n",
      "/home/zchen/Documents/Analysis/workplace/data/pickle/ee/mcdy/ntuple_z2jets_m-10to50.pkl is SAVED!\n",
      "/home/zchen/Documents/Analysis/workplace/data/pickle/ee/mcdy/ntuple_z2jets_m-50.pkl is SAVED!\n",
      "/home/zchen/Documents/Analysis/workplace/data/pickle/ee/mcdy/ntuple_z3jets_m-10to50.pkl is SAVED!\n",
      "/home/zchen/Documents/Analysis/workplace/data/pickle/ee/mcdy/ntuple_z3jets_m-50.pkl is SAVED!\n",
      "/home/zchen/Documents/Analysis/workplace/data/pickle/ee/mcdy/ntuple_z4jets_m-10to50.pkl is SAVED!\n",
      "/home/zchen/Documents/Analysis/workplace/data/pickle/ee/mcdy/ntuple_z4jets_m-50.pkl is SAVED!\n",
      "/home/zchen/Documents/Analysis/workplace/data/pickle/ee/mcdy/ntuple_w2jets.pkl is SAVED!\n",
      "/home/zchen/Documents/Analysis/workplace/data/pickle/ee/mcdy/ntuple_w3jets.pkl is SAVED!\n",
      "/home/zchen/Documents/Analysis/workplace/data/pickle/ee/mcdy/ntuple_w4jets.pkl is SAVED!\n",
      "/home/zchen/Documents/Analysis/workplace/data/pickle/mu4j/data2016/ntuple_muon_2016E.pkl is SAVED!\n",
      "/home/zchen/Documents/Analysis/workplace/data/pickle/ee/mct/ntuple_t_tw.pkl is SAVED!\n",
      "/home/zchen/Documents/Analysis/workplace/data/pickle/ee/mct/ntuple_tbar_tw.pkl is SAVED!\n",
      "/home/zchen/Documents/Analysis/workplace/data/pickle/e4j/data2016/ntuple_electron_2016G.pkl is SAVED!\n",
      "/home/zchen/Documents/Analysis/workplace/data/pickle/mu4j/data2016/ntuple_muon_2016F.pkl is SAVED!\n",
      "/home/zchen/Documents/Analysis/workplace/data/pickle/mumu/mcttboson/ntuple_TTZToLLNuNu.pkl is SAVED!\n",
      "/home/zchen/Documents/Analysis/workplace/data/pickle/mumu/mcdiboson/ntuple_ww.pkl is SAVED!\n"
     ]
    },
    {
     "name": "stdout",
     "output_type": "stream",
     "text": [
      "/home/zchen/Documents/Analysis/workplace/data/pickle/mumu/mcdiboson/ntuple_wz_2l2q.pkl is SAVED!\n",
      "/home/zchen/Documents/Analysis/workplace/data/pickle/mumu/mcdiboson/ntuple_wz_3lnu.pkl is SAVED!\n",
      "/home/zchen/Documents/Analysis/workplace/data/pickle/mumu/mcdiboson/ntuple_zz_2l2nu.pkl is SAVED!\n",
      "/home/zchen/Documents/Analysis/workplace/data/pickle/e4j/data2016/ntuple_electron_2016H.pkl is SAVED!\n",
      "/home/zchen/Documents/Analysis/workplace/data/pickle/mu4j/data2016/ntuple_muon_2016G.pkl is SAVED!\n",
      "/home/zchen/Documents/Analysis/workplace/data/pickle/mumu/mcdiboson/ntuple_zz_2l2q.pkl is SAVED!\n",
      "/home/zchen/Documents/Analysis/workplace/data/pickle/mumu/mcdiboson/ntuple_zz_4l.pkl is SAVED!\n",
      "/home/zchen/Documents/Analysis/workplace/data/pickle/mumu/mcdy/ntuple_zjets_m-10to50.pkl is SAVED!\n",
      "/home/zchen/Documents/Analysis/workplace/data/pickle/mumu/mcdy/ntuple_zjets_m-50.pkl is SAVED!\n",
      "/home/zchen/Documents/Analysis/workplace/data/pickle/mumu/mcdy/ntuple_z1jets_m-10to50.pkl is SAVED!\n",
      "/home/zchen/Documents/Analysis/workplace/data/pickle/mumu/mcdy/ntuple_z1jets_m-50.pkl is SAVED!\n",
      "/home/zchen/Documents/Analysis/workplace/data/pickle/mumu/mcdy/ntuple_z2jets_m-10to50.pkl is SAVED!\n",
      "/home/zchen/Documents/Analysis/workplace/data/pickle/mumu/mcdy/ntuple_z2jets_m-50.pkl is SAVED!\n",
      "/home/zchen/Documents/Analysis/workplace/data/pickle/mumu/mcdy/ntuple_z3jets_m-10to50.pkl is SAVED!\n",
      "/home/zchen/Documents/Analysis/workplace/data/pickle/ee/mctt/ntuple_ttbar_inclusive.pkl is SAVED!\n",
      "ee finished!\n",
      "/home/zchen/Documents/Analysis/workplace/data/pickle/mumu/mcdy/ntuple_z3jets_m-50.pkl is SAVED!\n",
      "/home/zchen/Documents/Analysis/workplace/data/pickle/mumu/mcdy/ntuple_z4jets_m-10to50.pkl is SAVED!\n",
      "/home/zchen/Documents/Analysis/workplace/data/pickle/mumu/mcdy/ntuple_z4jets_m-50.pkl is SAVED!\n",
      "/home/zchen/Documents/Analysis/workplace/data/pickle/mumu/mcdy/ntuple_w2jets.pkl is SAVED!\n",
      "/home/zchen/Documents/Analysis/workplace/data/pickle/mumu/mcdy/ntuple_w3jets.pkl is SAVED!\n",
      "/home/zchen/Documents/Analysis/workplace/data/pickle/mumu/mcdy/ntuple_w4jets.pkl is SAVED!\n",
      "/home/zchen/Documents/Analysis/workplace/data/pickle/mumu/mct/ntuple_t_tw.pkl is SAVED!\n",
      "/home/zchen/Documents/Analysis/workplace/data/pickle/mumu/mct/ntuple_tbar_tw.pkl is SAVED!\n",
      "/home/zchen/Documents/Analysis/workplace/data/pickle/mu4j/data2016/ntuple_muon_2016H.pkl is SAVED!\n",
      "/home/zchen/Documents/Analysis/workplace/data/pickle/e4j/mcttboson/ntuple_TTZToLLNuNu.pkl is SAVED!\n",
      "/home/zchen/Documents/Analysis/workplace/data/pickle/e4j/mcdiboson/ntuple_ww.pkl is SAVED!\n",
      "/home/zchen/Documents/Analysis/workplace/data/pickle/e4j/mcdiboson/ntuple_wz_2l2q.pkl is SAVED!\n",
      "/home/zchen/Documents/Analysis/workplace/data/pickle/e4j/mcdiboson/ntuple_wz_3lnu.pkl is SAVED!\n",
      "/home/zchen/Documents/Analysis/workplace/data/pickle/e4j/mcdiboson/ntuple_zz_2l2nu.pkl is SAVED!\n",
      "/home/zchen/Documents/Analysis/workplace/data/pickle/e4j/mcdiboson/ntuple_zz_2l2q.pkl is SAVED!\n",
      "/home/zchen/Documents/Analysis/workplace/data/pickle/e4j/mcdiboson/ntuple_zz_4l.pkl is SAVED!\n",
      "/home/zchen/Documents/Analysis/workplace/data/pickle/e4j/mcdy/ntuple_zjets_m-10to50.pkl is SAVED!\n",
      "/home/zchen/Documents/Analysis/workplace/data/pickle/e4j/mcdy/ntuple_zjets_m-50.pkl is SAVED!\n",
      "/home/zchen/Documents/Analysis/workplace/data/pickle/e4j/mcdy/ntuple_z1jets_m-10to50.pkl is SAVED!\n",
      "/home/zchen/Documents/Analysis/workplace/data/pickle/e4j/mcdy/ntuple_z1jets_m-50.pkl is SAVED!\n",
      "/home/zchen/Documents/Analysis/workplace/data/pickle/e4j/mcdy/ntuple_z2jets_m-10to50.pkl is SAVED!\n",
      "/home/zchen/Documents/Analysis/workplace/data/pickle/e4j/mcdy/ntuple_z2jets_m-50.pkl is SAVED!\n",
      "/home/zchen/Documents/Analysis/workplace/data/pickle/e4j/mcdy/ntuple_z3jets_m-10to50.pkl is SAVED!\n",
      "/home/zchen/Documents/Analysis/workplace/data/pickle/e4j/mcdy/ntuple_z3jets_m-50.pkl is SAVED!\n",
      "/home/zchen/Documents/Analysis/workplace/data/pickle/e4j/mcdy/ntuple_z4jets_m-10to50.pkl is SAVED!\n",
      "/home/zchen/Documents/Analysis/workplace/data/pickle/e4j/mcdy/ntuple_z4jets_m-50.pkl is SAVED!\n",
      "/home/zchen/Documents/Analysis/workplace/data/pickle/e4j/mcdy/ntuple_w1jets.pkl is SAVED!\n",
      "/home/zchen/Documents/Analysis/workplace/data/pickle/e4j/mcdy/ntuple_w2jets.pkl is SAVED!\n",
      "/home/zchen/Documents/Analysis/workplace/data/pickle/e4j/mcdy/ntuple_w3jets.pkl is SAVED!\n",
      "/home/zchen/Documents/Analysis/workplace/data/pickle/e4j/mcdy/ntuple_w4jets.pkl is SAVED!\n",
      "/home/zchen/Documents/Analysis/workplace/data/pickle/e4j/mct/ntuple_t_tw.pkl is SAVED!\n",
      "/home/zchen/Documents/Analysis/workplace/data/pickle/e4j/mct/ntuple_tbar_tw.pkl is SAVED!\n",
      "/home/zchen/Documents/Analysis/workplace/data/pickle/mu4j/mcttboson/ntuple_TTZToLLNuNu.pkl is SAVED!\n",
      "/home/zchen/Documents/Analysis/workplace/data/pickle/mu4j/mcdiboson/ntuple_ww.pkl is SAVED!\n",
      "/home/zchen/Documents/Analysis/workplace/data/pickle/mu4j/mcdiboson/ntuple_wz_2l2q.pkl is SAVED!\n",
      "/home/zchen/Documents/Analysis/workplace/data/pickle/mu4j/mcdiboson/ntuple_wz_3lnu.pkl is SAVED!\n",
      "/home/zchen/Documents/Analysis/workplace/data/pickle/mu4j/mcdiboson/ntuple_zz_2l2nu.pkl is SAVED!\n",
      "/home/zchen/Documents/Analysis/workplace/data/pickle/emu/mctt/ntuple_ttbar_inclusive.pkl is SAVED!\n",
      "emu finished!\n",
      "/home/zchen/Documents/Analysis/workplace/data/pickle/mu4j/mcdiboson/ntuple_zz_2l2q.pkl is SAVED!\n",
      "/home/zchen/Documents/Analysis/workplace/data/pickle/mu4j/mcdiboson/ntuple_zz_4l.pkl is SAVED!\n",
      "/home/zchen/Documents/Analysis/workplace/data/pickle/mu4j/mcdy/ntuple_zjets_m-10to50.pkl is SAVED!\n",
      "/home/zchen/Documents/Analysis/workplace/data/pickle/mu4j/mcdy/ntuple_zjets_m-50.pkl is SAVED!\n",
      "/home/zchen/Documents/Analysis/workplace/data/pickle/mu4j/mcdy/ntuple_z1jets_m-10to50.pkl is SAVED!\n",
      "/home/zchen/Documents/Analysis/workplace/data/pickle/mu4j/mcdy/ntuple_z1jets_m-50.pkl is SAVED!\n",
      "/home/zchen/Documents/Analysis/workplace/data/pickle/mu4j/mcdy/ntuple_z2jets_m-10to50.pkl is SAVED!\n",
      "/home/zchen/Documents/Analysis/workplace/data/pickle/mu4j/mcdy/ntuple_z2jets_m-50.pkl is SAVED!\n",
      "/home/zchen/Documents/Analysis/workplace/data/pickle/mu4j/mcdy/ntuple_z3jets_m-10to50.pkl is SAVED!\n",
      "/home/zchen/Documents/Analysis/workplace/data/pickle/mu4j/mcdy/ntuple_z3jets_m-50.pkl is SAVED!\n",
      "/home/zchen/Documents/Analysis/workplace/data/pickle/mu4j/mcdy/ntuple_z4jets_m-10to50.pkl is SAVED!\n",
      "/home/zchen/Documents/Analysis/workplace/data/pickle/mu4j/mcdy/ntuple_z4jets_m-50.pkl is SAVED!\n",
      "/home/zchen/Documents/Analysis/workplace/data/pickle/mu4j/mcdy/ntuple_w1jets.pkl is SAVED!\n",
      "/home/zchen/Documents/Analysis/workplace/data/pickle/mu4j/mcdy/ntuple_w2jets.pkl is SAVED!\n",
      "/home/zchen/Documents/Analysis/workplace/data/pickle/mu4j/mcdy/ntuple_w3jets.pkl is SAVED!\n",
      "/home/zchen/Documents/Analysis/workplace/data/pickle/mu4j/mcdy/ntuple_w4jets.pkl is SAVED!\n",
      "/home/zchen/Documents/Analysis/workplace/data/pickle/mu4j/mct/ntuple_t_tw.pkl is SAVED!\n",
      "/home/zchen/Documents/Analysis/workplace/data/pickle/mu4j/mct/ntuple_tbar_tw.pkl is SAVED!\n",
      "/home/zchen/Documents/Analysis/workplace/data/pickle/mumu/mctt/ntuple_ttbar_inclusive.pkl is SAVED!\n",
      "mumu finished!\n"
     ]
    },
    {
     "ename": "KeyboardInterrupt",
     "evalue": "",
     "output_type": "error",
     "traceback": [
      "\u001b[0;31m---------------------------------------------------------------------------\u001b[0m",
      "\u001b[0;31mKeyboardInterrupt\u001b[0m                         Traceback (most recent call last)",
      "\u001b[0;32m<ipython-input-4-4277a0f7fc19>\u001b[0m in \u001b[0;36m<module>\u001b[0;34m()\u001b[0m\n\u001b[1;32m     10\u001b[0m         \u001b[0mps\u001b[0m\u001b[0;34m.\u001b[0m\u001b[0mjoin\u001b[0m\u001b[0;34m(\u001b[0m\u001b[0;34m)\u001b[0m\u001b[0;34m\u001b[0m\u001b[0m\n\u001b[1;32m     11\u001b[0m \u001b[0;34m\u001b[0m\u001b[0m\n\u001b[0;32m---> 12\u001b[0;31m \u001b[0mrunMP\u001b[0m\u001b[0;34m(\u001b[0m\u001b[0;34m)\u001b[0m\u001b[0;34m\u001b[0m\u001b[0m\n\u001b[0m",
      "\u001b[0;32m<ipython-input-4-4277a0f7fc19>\u001b[0m in \u001b[0;36mrunMP\u001b[0;34m()\u001b[0m\n\u001b[1;32m      8\u001b[0m         \u001b[0mps\u001b[0m\u001b[0;34m.\u001b[0m\u001b[0mstart\u001b[0m\u001b[0;34m(\u001b[0m\u001b[0;34m)\u001b[0m\u001b[0;34m\u001b[0m\u001b[0m\n\u001b[1;32m      9\u001b[0m     \u001b[0;32mfor\u001b[0m \u001b[0mps\u001b[0m \u001b[0;32min\u001b[0m \u001b[0mprocesses\u001b[0m\u001b[0;34m:\u001b[0m\u001b[0;34m\u001b[0m\u001b[0m\n\u001b[0;32m---> 10\u001b[0;31m         \u001b[0mps\u001b[0m\u001b[0;34m.\u001b[0m\u001b[0mjoin\u001b[0m\u001b[0;34m(\u001b[0m\u001b[0;34m)\u001b[0m\u001b[0;34m\u001b[0m\u001b[0m\n\u001b[0m\u001b[1;32m     11\u001b[0m \u001b[0;34m\u001b[0m\u001b[0m\n\u001b[1;32m     12\u001b[0m \u001b[0mrunMP\u001b[0m\u001b[0;34m(\u001b[0m\u001b[0;34m)\u001b[0m\u001b[0;34m\u001b[0m\u001b[0m\n",
      "\u001b[0;32m~/anaconda3/lib/python3.6/multiprocessing/process.py\u001b[0m in \u001b[0;36mjoin\u001b[0;34m(self, timeout)\u001b[0m\n\u001b[1;32m    122\u001b[0m         \u001b[0;32massert\u001b[0m \u001b[0mself\u001b[0m\u001b[0;34m.\u001b[0m\u001b[0m_parent_pid\u001b[0m \u001b[0;34m==\u001b[0m \u001b[0mos\u001b[0m\u001b[0;34m.\u001b[0m\u001b[0mgetpid\u001b[0m\u001b[0;34m(\u001b[0m\u001b[0;34m)\u001b[0m\u001b[0;34m,\u001b[0m \u001b[0;34m'can only join a child process'\u001b[0m\u001b[0;34m\u001b[0m\u001b[0m\n\u001b[1;32m    123\u001b[0m         \u001b[0;32massert\u001b[0m \u001b[0mself\u001b[0m\u001b[0;34m.\u001b[0m\u001b[0m_popen\u001b[0m \u001b[0;32mis\u001b[0m \u001b[0;32mnot\u001b[0m \u001b[0;32mNone\u001b[0m\u001b[0;34m,\u001b[0m \u001b[0;34m'can only join a started process'\u001b[0m\u001b[0;34m\u001b[0m\u001b[0m\n\u001b[0;32m--> 124\u001b[0;31m         \u001b[0mres\u001b[0m \u001b[0;34m=\u001b[0m \u001b[0mself\u001b[0m\u001b[0;34m.\u001b[0m\u001b[0m_popen\u001b[0m\u001b[0;34m.\u001b[0m\u001b[0mwait\u001b[0m\u001b[0;34m(\u001b[0m\u001b[0mtimeout\u001b[0m\u001b[0;34m)\u001b[0m\u001b[0;34m\u001b[0m\u001b[0m\n\u001b[0m\u001b[1;32m    125\u001b[0m         \u001b[0;32mif\u001b[0m \u001b[0mres\u001b[0m \u001b[0;32mis\u001b[0m \u001b[0;32mnot\u001b[0m \u001b[0;32mNone\u001b[0m\u001b[0;34m:\u001b[0m\u001b[0;34m\u001b[0m\u001b[0m\n\u001b[1;32m    126\u001b[0m             \u001b[0m_children\u001b[0m\u001b[0;34m.\u001b[0m\u001b[0mdiscard\u001b[0m\u001b[0;34m(\u001b[0m\u001b[0mself\u001b[0m\u001b[0;34m)\u001b[0m\u001b[0;34m\u001b[0m\u001b[0m\n",
      "\u001b[0;32m~/anaconda3/lib/python3.6/multiprocessing/popen_fork.py\u001b[0m in \u001b[0;36mwait\u001b[0;34m(self, timeout)\u001b[0m\n\u001b[1;32m     55\u001b[0m                     \u001b[0;32mreturn\u001b[0m \u001b[0;32mNone\u001b[0m\u001b[0;34m\u001b[0m\u001b[0m\n\u001b[1;32m     56\u001b[0m             \u001b[0;31m# This shouldn't block if wait() returned successfully.\u001b[0m\u001b[0;34m\u001b[0m\u001b[0;34m\u001b[0m\u001b[0m\n\u001b[0;32m---> 57\u001b[0;31m             \u001b[0;32mreturn\u001b[0m \u001b[0mself\u001b[0m\u001b[0;34m.\u001b[0m\u001b[0mpoll\u001b[0m\u001b[0;34m(\u001b[0m\u001b[0mos\u001b[0m\u001b[0;34m.\u001b[0m\u001b[0mWNOHANG\u001b[0m \u001b[0;32mif\u001b[0m \u001b[0mtimeout\u001b[0m \u001b[0;34m==\u001b[0m \u001b[0;36m0.0\u001b[0m \u001b[0;32melse\u001b[0m \u001b[0;36m0\u001b[0m\u001b[0;34m)\u001b[0m\u001b[0;34m\u001b[0m\u001b[0m\n\u001b[0m\u001b[1;32m     58\u001b[0m         \u001b[0;32mreturn\u001b[0m \u001b[0mself\u001b[0m\u001b[0;34m.\u001b[0m\u001b[0mreturncode\u001b[0m\u001b[0;34m\u001b[0m\u001b[0m\n\u001b[1;32m     59\u001b[0m \u001b[0;34m\u001b[0m\u001b[0m\n",
      "\u001b[0;32m~/anaconda3/lib/python3.6/multiprocessing/popen_fork.py\u001b[0m in \u001b[0;36mpoll\u001b[0;34m(self, flag)\u001b[0m\n\u001b[1;32m     33\u001b[0m             \u001b[0;32mwhile\u001b[0m \u001b[0;32mTrue\u001b[0m\u001b[0;34m:\u001b[0m\u001b[0;34m\u001b[0m\u001b[0m\n\u001b[1;32m     34\u001b[0m                 \u001b[0;32mtry\u001b[0m\u001b[0;34m:\u001b[0m\u001b[0;34m\u001b[0m\u001b[0m\n\u001b[0;32m---> 35\u001b[0;31m                     \u001b[0mpid\u001b[0m\u001b[0;34m,\u001b[0m \u001b[0msts\u001b[0m \u001b[0;34m=\u001b[0m \u001b[0mos\u001b[0m\u001b[0;34m.\u001b[0m\u001b[0mwaitpid\u001b[0m\u001b[0;34m(\u001b[0m\u001b[0mself\u001b[0m\u001b[0;34m.\u001b[0m\u001b[0mpid\u001b[0m\u001b[0;34m,\u001b[0m \u001b[0mflag\u001b[0m\u001b[0;34m)\u001b[0m\u001b[0;34m\u001b[0m\u001b[0m\n\u001b[0m\u001b[1;32m     36\u001b[0m                 \u001b[0;32mexcept\u001b[0m \u001b[0mOSError\u001b[0m \u001b[0;32mas\u001b[0m \u001b[0me\u001b[0m\u001b[0;34m:\u001b[0m\u001b[0;34m\u001b[0m\u001b[0m\n\u001b[1;32m     37\u001b[0m                     \u001b[0;31m# Child process not yet created. See #1731717\u001b[0m\u001b[0;34m\u001b[0m\u001b[0;34m\u001b[0m\u001b[0m\n",
      "\u001b[0;31mKeyboardInterrupt\u001b[0m: "
     ]
    },
    {
     "name": "stderr",
     "output_type": "stream",
     "text": [
      "Process Process-8:\n",
      "Traceback (most recent call last):\n",
      "  File \"/home/zchen/anaconda3/lib/python3.6/multiprocessing/process.py\", line 258, in _bootstrap\n",
      "    self.run()\n",
      "  File \"/home/zchen/anaconda3/lib/python3.6/multiprocessing/process.py\", line 93, in run\n",
      "    self._target(*self._args, **self._kwargs)\n",
      "  File \"/home/zchen/Documents/Analysis/workplace/scripts/readblt_datamc.py\", line 69, in readBLT\n",
      "    self.makePickle(name)\n",
      "  File \"/home/zchen/Documents/Analysis/workplace/scripts/readblt_datamc.py\", line 83, in makePickle\n",
      "    dataframe = pd.DataFrame(ntuple)\n",
      "  File \"/home/zchen/anaconda3/lib/python3.6/site-packages/pandas/core/frame.py\", line 364, in __init__\n",
      "    data = list(data)\n",
      "  File \"/home/zchen/Documents/Analysis/workplace/scripts/readblt_datamc.py\", line 97, in fillNtuple\n",
      "    avoidDY1234Jet = (name in ['zjets_m-50','zjets_m-10to50']) & (0 < tree.nPartons < 5)\n",
      "KeyboardInterrupt\n",
      "Process Process-9:\n",
      "Traceback (most recent call last):\n",
      "  File \"/home/zchen/anaconda3/lib/python3.6/multiprocessing/process.py\", line 258, in _bootstrap\n",
      "    self.run()\n",
      "  File \"/home/zchen/anaconda3/lib/python3.6/multiprocessing/process.py\", line 93, in run\n",
      "    self._target(*self._args, **self._kwargs)\n",
      "  File \"/home/zchen/Documents/Analysis/workplace/scripts/readblt_datamc.py\", line 69, in readBLT\n",
      "    self.makePickle(name)\n",
      "  File \"/home/zchen/Documents/Analysis/workplace/scripts/readblt_datamc.py\", line 83, in makePickle\n",
      "    dataframe = pd.DataFrame(ntuple)\n",
      "  File \"/home/zchen/anaconda3/lib/python3.6/site-packages/pandas/core/frame.py\", line 364, in __init__\n",
      "    data = list(data)\n",
      "  File \"/home/zchen/Documents/Analysis/workplace/scripts/readblt_datamc.py\", line 103, in fillNtuple\n",
      "    entry.update(self.__fillAllVariables(tree, name, scaleFactor))\n",
      "  File \"/home/zchen/Documents/Analysis/workplace/scripts/readblt_datamc.py\", line 205, in __fillAllVariables\n",
      "    if (0 in lightjets) and (1 in lightjets):\n",
      "KeyboardInterrupt\n"
     ]
    }
   ],
   "source": [
    "def runMP():\n",
    "    rootfileName = \"2016MC5.root\"\n",
    "    processes = []\n",
    "    for slt in [\"ee\",\"mumu\",\"emu\",\"mutau\",\"etau\",\"mu4j\",\"e4j\"]:\n",
    "        rd = BLTReader(rootfileName,slt, includeTTTheory=True, readInverseMuISO=False)\n",
    "        processes.append(mp.Process(target=rd.readBLT))\n",
    "    for ps in processes:\n",
    "        ps.start()\n",
    "    for ps in processes:\n",
    "        ps.join()\n",
    "runMP()"
   ]
  },
  {
   "cell_type": "markdown",
   "metadata": {},
   "source": [
    "# 3. Read InverseISO BLT"
   ]
  },
  {
   "cell_type": "code",
   "execution_count": 3,
   "metadata": {
    "scrolled": true
   },
   "outputs": [
    {
     "name": "stdout",
     "output_type": "stream",
     "text": [
      "/home/zchen/Documents/Analysis/workplace/data/pickle/mu4j/data2016_inverseISO/ntuple_muon_2016B.pkl is SAVED!\n",
      "/home/zchen/Documents/Analysis/workplace/data/pickle/mu4j/data2016_inverseISO/ntuple_muon_2016C.pkl is SAVED!\n",
      "/home/zchen/Documents/Analysis/workplace/data/pickle/mu4j/data2016_inverseISO/ntuple_muon_2016D.pkl is SAVED!\n",
      "/home/zchen/Documents/Analysis/workplace/data/pickle/mu4j/data2016_inverseISO/ntuple_muon_2016E.pkl is SAVED!\n",
      "/home/zchen/Documents/Analysis/workplace/data/pickle/mu4j/data2016_inverseISO/ntuple_muon_2016F.pkl is SAVED!\n",
      "/home/zchen/Documents/Analysis/workplace/data/pickle/e4j/data2016_inverseISO/ntuple_electron_2016B.pkl is SAVED!\n",
      "/home/zchen/Documents/Analysis/workplace/data/pickle/mu4j/data2016_inverseISO/ntuple_muon_2016G.pkl is SAVED!\n",
      "/home/zchen/Documents/Analysis/workplace/data/pickle/e4j/data2016_inverseISO/ntuple_electron_2016C.pkl is SAVED!\n",
      "/home/zchen/Documents/Analysis/workplace/data/pickle/mu4j/data2016_inverseISO/ntuple_muon_2016H.pkl is SAVED!\n",
      "mu4j finished!\n",
      "/home/zchen/Documents/Analysis/workplace/data/pickle/e4j/data2016_inverseISO/ntuple_electron_2016D.pkl is SAVED!\n",
      "/home/zchen/Documents/Analysis/workplace/data/pickle/e4j/data2016_inverseISO/ntuple_electron_2016E.pkl is SAVED!\n",
      "/home/zchen/Documents/Analysis/workplace/data/pickle/e4j/data2016_inverseISO/ntuple_electron_2016F.pkl is SAVED!\n",
      "/home/zchen/Documents/Analysis/workplace/data/pickle/e4j/data2016_inverseISO/ntuple_electron_2016G.pkl is SAVED!\n",
      "/home/zchen/Documents/Analysis/workplace/data/pickle/e4j/data2016_inverseISO/ntuple_electron_2016H.pkl is SAVED!\n",
      "e4j finished!\n"
     ]
    }
   ],
   "source": [
    "def runMP_invISO():\n",
    "    rootfileName = \"2016MC5_inverseISO.root\"\n",
    "    processes = []\n",
    "    for slt in [\"mu4j\",\"e4j\"]:\n",
    "        rd = BLTReader(rootfileName,slt, includeTTTheory=False, readInverseMuISO=True)\n",
    "        processes.append(mp.Process(target=rd.readBLT))\n",
    "    for ps in processes:\n",
    "        ps.start()\n",
    "    for ps in processes:\n",
    "        ps.join()\n",
    "        \n",
    "runMP_invISO()"
   ]
  },
  {
   "cell_type": "code",
   "execution_count": 9,
   "metadata": {},
   "outputs": [],
   "source": []
  }
 ],
 "metadata": {
  "kernelspec": {
   "display_name": "Python 3",
   "language": "python",
   "name": "python3"
  },
  "language_info": {
   "codemirror_mode": {
    "name": "ipython",
    "version": 3
   },
   "file_extension": ".py",
   "mimetype": "text/x-python",
   "name": "python",
   "nbconvert_exporter": "python",
   "pygments_lexer": "ipython3",
   "version": "3.6.4"
  }
 },
 "nbformat": 4,
 "nbformat_minor": 2
}
