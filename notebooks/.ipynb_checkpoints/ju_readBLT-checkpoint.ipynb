{
 "cells": [
  {
   "cell_type": "code",
   "execution_count": 1,
   "metadata": {},
   "outputs": [
    {
     "name": "stdout",
     "output_type": "stream",
     "text": [
      "Welcome to JupyROOT 6.13/02\n"
     ]
    }
   ],
   "source": [
    "from readblt_datamc import *\n",
    "import multiprocessing as mp"
   ]
  },
  {
   "cell_type": "markdown",
   "metadata": {},
   "source": [
    "# 1. Save nGen in pickle"
   ]
  },
  {
   "cell_type": "code",
   "execution_count": 2,
   "metadata": {},
   "outputs": [],
   "source": [
    "ee = BLTReader(\"2016MC.root\",\"ee\",includeTTTheory=True)\n",
    "ee.outputNGen()"
   ]
  },
  {
   "cell_type": "markdown",
   "metadata": {},
   "source": [
    "# 2. Read Standard BLT"
   ]
  },
  {
   "cell_type": "code",
   "execution_count": 3,
   "metadata": {
    "scrolled": true
   },
   "outputs": [
    {
     "name": "stdout",
     "output_type": "stream",
     "text": [
      "/home/zchen/Documents/Analysis/workplace/data/pickle/ee/data2016/ntuple_electron_2016B.pkl is SAVED!\n",
      "/home/zchen/Documents/Analysis/workplace/data/pickle/ee/data2016/ntuple_electron_2016C.pkl is SAVED!\n",
      "/home/zchen/Documents/Analysis/workplace/data/pickle/etau/data2016/ntuple_electron_2016B.pkl is SAVED!\n",
      "/home/zchen/Documents/Analysis/workplace/data/pickle/mutau/data2016/ntuple_muon_2016B.pkl is SAVED!\n",
      "/home/zchen/Documents/Analysis/workplace/data/pickle/emu/data2016/ntuple_muon_2016B.pkl is SAVED!\n",
      "/home/zchen/Documents/Analysis/workplace/data/pickle/etau/data2016/ntuple_electron_2016C.pkl is SAVED!\n",
      "/home/zchen/Documents/Analysis/workplace/data/pickle/ee/data2016/ntuple_electron_2016D.pkl is SAVED!\n",
      "/home/zchen/Documents/Analysis/workplace/data/pickle/mumu/data2016/ntuple_muon_2016B.pkl is SAVED!\n",
      "/home/zchen/Documents/Analysis/workplace/data/pickle/emu/data2016/ntuple_muon_2016C.pkl is SAVED!\n",
      "/home/zchen/Documents/Analysis/workplace/data/pickle/mutau/data2016/ntuple_muon_2016C.pkl is SAVED!\n",
      "/home/zchen/Documents/Analysis/workplace/data/pickle/ee/data2016/ntuple_electron_2016E.pkl is SAVED!\n",
      "/home/zchen/Documents/Analysis/workplace/data/pickle/etau/data2016/ntuple_electron_2016D.pkl is SAVED!\n",
      "/home/zchen/Documents/Analysis/workplace/data/pickle/ee/data2016/ntuple_electron_2016F.pkl is SAVED!\n",
      "/home/zchen/Documents/Analysis/workplace/data/pickle/mumu/data2016/ntuple_muon_2016C.pkl is SAVED!\n",
      "/home/zchen/Documents/Analysis/workplace/data/pickle/etau/data2016/ntuple_electron_2016E.pkl is SAVED!\n",
      "/home/zchen/Documents/Analysis/workplace/data/pickle/emu/data2016/ntuple_muon_2016D.pkl is SAVED!\n",
      "/home/zchen/Documents/Analysis/workplace/data/pickle/mutau/data2016/ntuple_muon_2016D.pkl is SAVED!\n",
      "/home/zchen/Documents/Analysis/workplace/data/pickle/etau/data2016/ntuple_electron_2016F.pkl is SAVED!\n",
      "/home/zchen/Documents/Analysis/workplace/data/pickle/ee/data2016/ntuple_electron_2016G.pkl is SAVED!\n",
      "/home/zchen/Documents/Analysis/workplace/data/pickle/emu/data2016/ntuple_muon_2016E.pkl is SAVED!\n",
      "/home/zchen/Documents/Analysis/workplace/data/pickle/mutau/data2016/ntuple_muon_2016E.pkl is SAVED!\n",
      "/home/zchen/Documents/Analysis/workplace/data/pickle/mumu/data2016/ntuple_muon_2016D.pkl is SAVED!\n",
      "/home/zchen/Documents/Analysis/workplace/data/pickle/emu/data2016/ntuple_muon_2016F.pkl is SAVED!\n",
      "/home/zchen/Documents/Analysis/workplace/data/pickle/etau/data2016/ntuple_electron_2016G.pkl is SAVED!\n",
      "/home/zchen/Documents/Analysis/workplace/data/pickle/ee/data2016/ntuple_electron_2016H.pkl is SAVED!\n",
      "/home/zchen/Documents/Analysis/workplace/data/pickle/mutau/data2016/ntuple_muon_2016F.pkl is SAVED!\n",
      "/home/zchen/Documents/Analysis/workplace/data/pickle/mumu/data2016/ntuple_muon_2016E.pkl is SAVED!\n",
      "/home/zchen/Documents/Analysis/workplace/data/pickle/etau/data2016/ntuple_electron_2016H.pkl is SAVED!\n",
      "/home/zchen/Documents/Analysis/workplace/data/pickle/emu/data2016/ntuple_muon_2016G.pkl is SAVED!\n",
      "/home/zchen/Documents/Analysis/workplace/data/pickle/e4j/data2016/ntuple_electron_2016B.pkl is SAVED!\n",
      "/home/zchen/Documents/Analysis/workplace/data/pickle/mumu/data2016/ntuple_muon_2016F.pkl is SAVED!\n",
      "/home/zchen/Documents/Analysis/workplace/data/pickle/mutau/data2016/ntuple_muon_2016G.pkl is SAVED!\n",
      "/home/zchen/Documents/Analysis/workplace/data/pickle/emu/data2016/ntuple_muon_2016H.pkl is SAVED!\n",
      "/home/zchen/Documents/Analysis/workplace/data/pickle/e4j/data2016/ntuple_electron_2016C.pkl is SAVED!\n",
      "/home/zchen/Documents/Analysis/workplace/data/pickle/ee/mcttTheory/ntuple_ttbar_inclusive_fsrdown.pkl is SAVED!\n",
      "/home/zchen/Documents/Analysis/workplace/data/pickle/emu/data2016/ntuple_electron_2016B.pkl is SAVED!\n",
      "/home/zchen/Documents/Analysis/workplace/data/pickle/emu/data2016/ntuple_electron_2016C.pkl is SAVED!\n",
      "/home/zchen/Documents/Analysis/workplace/data/pickle/emu/data2016/ntuple_electron_2016D.pkl is SAVED!\n",
      "/home/zchen/Documents/Analysis/workplace/data/pickle/mutau/data2016/ntuple_muon_2016H.pkl is SAVED!\n",
      "/home/zchen/Documents/Analysis/workplace/data/pickle/emu/data2016/ntuple_electron_2016E.pkl is SAVED!\n",
      "/home/zchen/Documents/Analysis/workplace/data/pickle/mumu/data2016/ntuple_muon_2016G.pkl is SAVED!\n",
      "/home/zchen/Documents/Analysis/workplace/data/pickle/emu/data2016/ntuple_electron_2016F.pkl is SAVED!\n",
      "/home/zchen/Documents/Analysis/workplace/data/pickle/etau/mcttTheory/ntuple_ttbar_inclusive_fsrdown.pkl is SAVED!\n",
      "/home/zchen/Documents/Analysis/workplace/data/pickle/mu4j/data2016/ntuple_muon_2016B.pkl is SAVED!\n",
      "/home/zchen/Documents/Analysis/workplace/data/pickle/emu/data2016/ntuple_electron_2016G.pkl is SAVED!\n",
      "/home/zchen/Documents/Analysis/workplace/data/pickle/emu/data2016/ntuple_electron_2016H.pkl is SAVED!\n",
      "/home/zchen/Documents/Analysis/workplace/data/pickle/mumu/data2016/ntuple_muon_2016H.pkl is SAVED!\n",
      "/home/zchen/Documents/Analysis/workplace/data/pickle/e4j/data2016/ntuple_electron_2016D.pkl is SAVED!\n",
      "/home/zchen/Documents/Analysis/workplace/data/pickle/mu4j/data2016/ntuple_muon_2016C.pkl is SAVED!\n",
      "/home/zchen/Documents/Analysis/workplace/data/pickle/etau/mcttTheory/ntuple_ttbar_inclusive_fsrup.pkl is SAVED!\n",
      "/home/zchen/Documents/Analysis/workplace/data/pickle/mutau/mcttTheory/ntuple_ttbar_inclusive_fsrdown.pkl is SAVED!\n",
      "/home/zchen/Documents/Analysis/workplace/data/pickle/ee/mcttTheory/ntuple_ttbar_inclusive_fsrup.pkl is SAVED!\n",
      "/home/zchen/Documents/Analysis/workplace/data/pickle/e4j/data2016/ntuple_electron_2016E.pkl is SAVED!\n",
      "/home/zchen/Documents/Analysis/workplace/data/pickle/etau/mcttTheory/ntuple_ttbar_inclusive_isrdown.pkl is SAVED!\n",
      "/home/zchen/Documents/Analysis/workplace/data/pickle/e4j/data2016/ntuple_electron_2016F.pkl is SAVED!\n",
      "/home/zchen/Documents/Analysis/workplace/data/pickle/mu4j/data2016/ntuple_muon_2016D.pkl is SAVED!\n",
      "/home/zchen/Documents/Analysis/workplace/data/pickle/ee/mcttTheory/ntuple_ttbar_inclusive_isrdown.pkl is SAVED!\n",
      "/home/zchen/Documents/Analysis/workplace/data/pickle/mumu/mcttTheory/ntuple_ttbar_inclusive_fsrdown.pkl is SAVED!\n",
      "/home/zchen/Documents/Analysis/workplace/data/pickle/mutau/mcttTheory/ntuple_ttbar_inclusive_fsrup.pkl is SAVED!\n",
      "/home/zchen/Documents/Analysis/workplace/data/pickle/emu/mcttTheory/ntuple_ttbar_inclusive_fsrdown.pkl is SAVED!\n",
      "/home/zchen/Documents/Analysis/workplace/data/pickle/etau/mcttTheory/ntuple_ttbar_inclusive_isrup.pkl is SAVED!\n",
      "/home/zchen/Documents/Analysis/workplace/data/pickle/mu4j/data2016/ntuple_muon_2016E.pkl is SAVED!\n",
      "/home/zchen/Documents/Analysis/workplace/data/pickle/etau/mcttTheory/ntuple_ttbar_inclusive_hdampdown.pkl is SAVED!\n",
      "/home/zchen/Documents/Analysis/workplace/data/pickle/e4j/data2016/ntuple_electron_2016G.pkl is SAVED!\n",
      "/home/zchen/Documents/Analysis/workplace/data/pickle/ee/mcttTheory/ntuple_ttbar_inclusive_isrup.pkl is SAVED!\n",
      "/home/zchen/Documents/Analysis/workplace/data/pickle/mutau/mcttTheory/ntuple_ttbar_inclusive_isrdown.pkl is SAVED!\n",
      "/home/zchen/Documents/Analysis/workplace/data/pickle/etau/mcttTheory/ntuple_ttbar_inclusive_hdampup.pkl is SAVED!\n",
      "/home/zchen/Documents/Analysis/workplace/data/pickle/mu4j/data2016/ntuple_muon_2016F.pkl is SAVED!\n",
      "/home/zchen/Documents/Analysis/workplace/data/pickle/ee/mcttTheory/ntuple_ttbar_inclusive_hdampdown.pkl is SAVED!\n",
      "/home/zchen/Documents/Analysis/workplace/data/pickle/etau/mcttTheory/ntuple_ttbar_inclusive_down.pkl is SAVED!\n",
      "/home/zchen/Documents/Analysis/workplace/data/pickle/etau/mcttTheory/ntuple_ttbar_inclusive_up.pkl is SAVED!\n",
      "etau finished!\n",
      "/home/zchen/Documents/Analysis/workplace/data/pickle/ee/mcttTheory/ntuple_ttbar_inclusive_hdampup.pkl is SAVED!\n",
      "/home/zchen/Documents/Analysis/workplace/data/pickle/mumu/mcttTheory/ntuple_ttbar_inclusive_fsrup.pkl is SAVED!\n",
      "/home/zchen/Documents/Analysis/workplace/data/pickle/e4j/data2016/ntuple_electron_2016H.pkl is SAVED!\n",
      "/home/zchen/Documents/Analysis/workplace/data/pickle/mutau/mcttTheory/ntuple_ttbar_inclusive_isrup.pkl is SAVED!\n",
      "/home/zchen/Documents/Analysis/workplace/data/pickle/ee/mcttTheory/ntuple_ttbar_inclusive_down.pkl is SAVED!\n",
      "/home/zchen/Documents/Analysis/workplace/data/pickle/emu/mcttTheory/ntuple_ttbar_inclusive_fsrup.pkl is SAVED!\n",
      "/home/zchen/Documents/Analysis/workplace/data/pickle/ee/mcttTheory/ntuple_ttbar_inclusive_up.pkl is SAVED!\n",
      "ee finished!\n",
      "/home/zchen/Documents/Analysis/workplace/data/pickle/mutau/mcttTheory/ntuple_ttbar_inclusive_hdampdown.pkl is SAVED!\n"
     ]
    },
    {
     "name": "stdout",
     "output_type": "stream",
     "text": [
      "/home/zchen/Documents/Analysis/workplace/data/pickle/mu4j/data2016/ntuple_muon_2016G.pkl is SAVED!\n",
      "/home/zchen/Documents/Analysis/workplace/data/pickle/mutau/mcttTheory/ntuple_ttbar_inclusive_hdampup.pkl is SAVED!\n",
      "/home/zchen/Documents/Analysis/workplace/data/pickle/mumu/mcttTheory/ntuple_ttbar_inclusive_isrdown.pkl is SAVED!\n",
      "/home/zchen/Documents/Analysis/workplace/data/pickle/mutau/mcttTheory/ntuple_ttbar_inclusive_down.pkl is SAVED!\n",
      "/home/zchen/Documents/Analysis/workplace/data/pickle/mutau/mcttTheory/ntuple_ttbar_inclusive_up.pkl is SAVED!\n",
      "mutau finished!\n",
      "/home/zchen/Documents/Analysis/workplace/data/pickle/mu4j/data2016/ntuple_muon_2016H.pkl is SAVED!\n",
      "/home/zchen/Documents/Analysis/workplace/data/pickle/emu/mcttTheory/ntuple_ttbar_inclusive_isrdown.pkl is SAVED!\n",
      "/home/zchen/Documents/Analysis/workplace/data/pickle/mumu/mcttTheory/ntuple_ttbar_inclusive_isrup.pkl is SAVED!\n",
      "/home/zchen/Documents/Analysis/workplace/data/pickle/mumu/mcttTheory/ntuple_ttbar_inclusive_hdampdown.pkl is SAVED!\n",
      "/home/zchen/Documents/Analysis/workplace/data/pickle/e4j/mcttTheory/ntuple_ttbar_inclusive_fsrdown.pkl is SAVED!\n",
      "/home/zchen/Documents/Analysis/workplace/data/pickle/emu/mcttTheory/ntuple_ttbar_inclusive_isrup.pkl is SAVED!\n",
      "/home/zchen/Documents/Analysis/workplace/data/pickle/mumu/mcttTheory/ntuple_ttbar_inclusive_hdampup.pkl is SAVED!\n",
      "/home/zchen/Documents/Analysis/workplace/data/pickle/mumu/mcttTheory/ntuple_ttbar_inclusive_down.pkl is SAVED!\n",
      "/home/zchen/Documents/Analysis/workplace/data/pickle/emu/mcttTheory/ntuple_ttbar_inclusive_hdampdown.pkl is SAVED!\n",
      "/home/zchen/Documents/Analysis/workplace/data/pickle/mumu/mcttTheory/ntuple_ttbar_inclusive_up.pkl is SAVED!\n",
      "mumu finished!\n",
      "/home/zchen/Documents/Analysis/workplace/data/pickle/emu/mcttTheory/ntuple_ttbar_inclusive_hdampup.pkl is SAVED!\n",
      "/home/zchen/Documents/Analysis/workplace/data/pickle/emu/mcttTheory/ntuple_ttbar_inclusive_down.pkl is SAVED!\n",
      "/home/zchen/Documents/Analysis/workplace/data/pickle/mu4j/mcttTheory/ntuple_ttbar_inclusive_fsrdown.pkl is SAVED!\n",
      "/home/zchen/Documents/Analysis/workplace/data/pickle/emu/mcttTheory/ntuple_ttbar_inclusive_up.pkl is SAVED!\n",
      "emu finished!\n",
      "/home/zchen/Documents/Analysis/workplace/data/pickle/e4j/mcttTheory/ntuple_ttbar_inclusive_fsrup.pkl is SAVED!\n",
      "/home/zchen/Documents/Analysis/workplace/data/pickle/e4j/mcttTheory/ntuple_ttbar_inclusive_isrdown.pkl is SAVED!\n",
      "/home/zchen/Documents/Analysis/workplace/data/pickle/mu4j/mcttTheory/ntuple_ttbar_inclusive_fsrup.pkl is SAVED!\n",
      "/home/zchen/Documents/Analysis/workplace/data/pickle/e4j/mcttTheory/ntuple_ttbar_inclusive_isrup.pkl is SAVED!\n",
      "/home/zchen/Documents/Analysis/workplace/data/pickle/mu4j/mcttTheory/ntuple_ttbar_inclusive_isrdown.pkl is SAVED!\n",
      "/home/zchen/Documents/Analysis/workplace/data/pickle/e4j/mcttTheory/ntuple_ttbar_inclusive_hdampdown.pkl is SAVED!\n",
      "/home/zchen/Documents/Analysis/workplace/data/pickle/e4j/mcttTheory/ntuple_ttbar_inclusive_hdampup.pkl is SAVED!\n",
      "/home/zchen/Documents/Analysis/workplace/data/pickle/e4j/mcttTheory/ntuple_ttbar_inclusive_down.pkl is SAVED!\n",
      "/home/zchen/Documents/Analysis/workplace/data/pickle/mu4j/mcttTheory/ntuple_ttbar_inclusive_isrup.pkl is SAVED!\n",
      "/home/zchen/Documents/Analysis/workplace/data/pickle/e4j/mcttTheory/ntuple_ttbar_inclusive_up.pkl is SAVED!\n",
      "e4j finished!\n",
      "/home/zchen/Documents/Analysis/workplace/data/pickle/mu4j/mcttTheory/ntuple_ttbar_inclusive_hdampdown.pkl is SAVED!\n",
      "/home/zchen/Documents/Analysis/workplace/data/pickle/mu4j/mcttTheory/ntuple_ttbar_inclusive_hdampup.pkl is SAVED!\n",
      "/home/zchen/Documents/Analysis/workplace/data/pickle/mu4j/mcttTheory/ntuple_ttbar_inclusive_down.pkl is SAVED!\n",
      "/home/zchen/Documents/Analysis/workplace/data/pickle/mu4j/mcttTheory/ntuple_ttbar_inclusive_up.pkl is SAVED!\n",
      "mu4j finished!\n"
     ]
    }
   ],
   "source": [
    "def runMP():\n",
    "    rootfileName = \"2016MC.root\"\n",
    "    processes = []\n",
    "    for slt in [\"ee\",\"mumu\",\"emu\",\"mutau\",\"etau\",\"mu4j\",\"e4j\"]:\n",
    "        rd = BLTReader(rootfileName,slt, includeTTTheory=True, readInverseMuISO=False)\n",
    "        processes.append(mp.Process(target=rd.readBLT))\n",
    "    for ps in processes:\n",
    "        ps.start()\n",
    "    for ps in processes:\n",
    "        ps.join()\n",
    "runMP()"
   ]
  },
  {
   "cell_type": "markdown",
   "metadata": {},
   "source": [
    "# 3. Read InverseISO BLT"
   ]
  },
  {
   "cell_type": "code",
   "execution_count": 4,
   "metadata": {
    "scrolled": true
   },
   "outputs": [
    {
     "name": "stdout",
     "output_type": "stream",
     "text": [
      "/home/zchen/Documents/Analysis/workplace/data/pickle/e4j/data2016_inverseISO/ntuple_electron_2016B.pkl is SAVED!\n",
      "/home/zchen/Documents/Analysis/workplace/data/pickle/e4j/data2016_inverseISO/ntuple_electron_2016C.pkl is SAVED!\n",
      "/home/zchen/Documents/Analysis/workplace/data/pickle/mu4j/data2016_inverseISO/ntuple_muon_2016B.pkl is SAVED!\n",
      "/home/zchen/Documents/Analysis/workplace/data/pickle/e4j/data2016_inverseISO/ntuple_electron_2016D.pkl is SAVED!\n",
      "/home/zchen/Documents/Analysis/workplace/data/pickle/mu4j/data2016_inverseISO/ntuple_muon_2016C.pkl is SAVED!\n",
      "/home/zchen/Documents/Analysis/workplace/data/pickle/e4j/data2016_inverseISO/ntuple_electron_2016E.pkl is SAVED!\n",
      "/home/zchen/Documents/Analysis/workplace/data/pickle/e4j/data2016_inverseISO/ntuple_electron_2016F.pkl is SAVED!\n",
      "/home/zchen/Documents/Analysis/workplace/data/pickle/mu4j/data2016_inverseISO/ntuple_muon_2016D.pkl is SAVED!\n",
      "/home/zchen/Documents/Analysis/workplace/data/pickle/mu4j/data2016_inverseISO/ntuple_muon_2016E.pkl is SAVED!\n",
      "/home/zchen/Documents/Analysis/workplace/data/pickle/e4j/data2016_inverseISO/ntuple_electron_2016G.pkl is SAVED!\n",
      "/home/zchen/Documents/Analysis/workplace/data/pickle/mu4j/data2016_inverseISO/ntuple_muon_2016F.pkl is SAVED!\n",
      "/home/zchen/Documents/Analysis/workplace/data/pickle/e4j/data2016_inverseISO/ntuple_electron_2016H.pkl is SAVED!\n",
      "e4j finished!\n",
      "/home/zchen/Documents/Analysis/workplace/data/pickle/mu4j/data2016_inverseISO/ntuple_muon_2016G.pkl is SAVED!\n",
      "/home/zchen/Documents/Analysis/workplace/data/pickle/mu4j/data2016_inverseISO/ntuple_muon_2016H.pkl is SAVED!\n",
      "mu4j finished!\n"
     ]
    }
   ],
   "source": [
    "def runMP_invISO():\n",
    "    rootfileName = \"inverseISO.root\"\n",
    "    processes = []\n",
    "    for slt in [\"mu4j\",\"e4j\"]:\n",
    "        rd = BLTReader(rootfileName,slt, includeTTTheory=False, readInverseMuISO=True)\n",
    "        processes.append(mp.Process(target=rd.readBLT))\n",
    "    for ps in processes:\n",
    "        ps.start()\n",
    "    for ps in processes:\n",
    "        ps.join()\n",
    "        \n",
    "runMP_invISO()"
   ]
  },
  {
   "cell_type": "code",
   "execution_count": 9,
   "metadata": {},
   "outputs": [],
   "source": []
  }
 ],
 "metadata": {
  "kernelspec": {
   "display_name": "Python 3",
   "language": "python",
   "name": "python3"
  },
  "language_info": {
   "codemirror_mode": {
    "name": "ipython",
    "version": 3
   },
   "file_extension": ".py",
   "mimetype": "text/x-python",
   "name": "python",
   "nbconvert_exporter": "python",
   "pygments_lexer": "ipython3",
   "version": "3.6.4"
  }
 },
 "nbformat": 4,
 "nbformat_minor": 2
}
