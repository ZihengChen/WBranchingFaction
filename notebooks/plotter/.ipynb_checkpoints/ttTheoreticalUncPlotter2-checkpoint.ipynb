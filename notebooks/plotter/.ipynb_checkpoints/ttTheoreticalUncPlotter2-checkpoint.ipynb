{
 "cells": [
  {
   "cell_type": "code",
   "execution_count": 1,
   "metadata": {},
   "outputs": [],
   "source": [
    "from utility_common import *\n",
    "from utility_plotter import *\n",
    "#import ROOT\n",
    "from IPython.display import clear_output\n",
    "## add plotting option and load plotting parameter table\n",
    "%matplotlib inline\n",
    "#%qtconsole --style monokai\n",
    "#plt.style.use('classic')\n",
    "\n",
    "plt.rc(\"font\",size=10)\n",
    "plt.rc(\"savefig\",dpi=300)\n",
    "plt.rc(\"figure\",facecolor=\"w\",figsize=(6,4))\n"
   ]
  },
  {
   "cell_type": "code",
   "execution_count": 2,
   "metadata": {},
   "outputs": [],
   "source": [
    "def makePlot(selection,nbjetcut):\n",
    "    \n",
    "    pickledir  =  \"/mnt/data/zchen/Analysis/pickle/{}/\".format(selection)\n",
    "    if selection is \"emu2\":\n",
    "        pickledir  =  \"/mnt/data/zchen/Analysis/pickle/emu/\"\n",
    "        \n",
    "    MCzz = LoadDataframe(pickledir + \"mcdiboson\")\n",
    "    MCdy = LoadDataframe(pickledir + \"mcdy\")\n",
    "    MCt  = LoadDataframe(pickledir + \"mct\")\n",
    "    MCtt = LoadDataframe(pickledir + \"mctt\")\n",
    "    \n",
    "    MCTotay = pd.concat([MCzz,MCdy,MCt,MCtt],ignore_index=True)\n",
    "    \n",
    "    \n",
    "    cuts = GetSelectionCut(selection,nbjetcut,shiftEnergyScale=None, shiftJet=None)\n",
    "    MC   = MCTotay.query(cuts)\n",
    "    \n",
    "\n",
    "    if selection in [\"e4j\",\"mu4j\"]:\n",
    "        pp = pd.read_csv(\"plotparameters4j.csv\")\n",
    "    else:\n",
    "        pp = pd.read_csv(\"plotparameters.csv\")\n",
    "\n",
    "    for index, row in pp.iterrows():\n",
    "        v,a,b,step,xl = row[\"var\"],row[\"lower\"],row[\"upper\"],row[\"step\"],row[\"xlabel\"]\n",
    "        mybins = np.arange(a,b,step)\n",
    "        mybinscenter = mybins[0:-1]+step/2\n",
    "\n",
    "        fig, axes = plt.subplots(2, 1, sharex=True, facecolor=\"w\",\n",
    "                                 gridspec_kw={'height_ratios':[2,1]},\n",
    "                                 figsize=(6,6))\n",
    "        fig.subplots_adjust(hspace=0)\n",
    "\n",
    "        ax   = axes[0] \n",
    "        cent = ax.hist(MC[v],weights=MC[\"eventWeight\"],bins=mybins,histtype=\"step\",color='k',alpha=0,lw=1,label=None)[0]\n",
    "\n",
    "        for iname,name in enumerate([\"BTag\",\"Mistag\",\"JES\",\"JER\"]):\n",
    "            cutsUp = GetSelectionCut(selection,nbjetcut,shiftEnergyScale=None, shiftJet=name+\"Up\")\n",
    "            cutsDown = GetSelectionCut(selection,nbjetcut,shiftEnergyScale=None, shiftJet=name+\"Down\")\n",
    "            MCUp = MCTotay.query(cutsUp)\n",
    "            MCDown = MCTotay.query(cutsDown)\n",
    "            \n",
    "            ax   = axes[0] \n",
    "            up0  = np.histogram(MCUp[v],  weights=MCUp[\"eventWeight\"],bins=mybins)[0]\n",
    "            down0= np.histogram(MCDown[v],weights=MCDown[\"eventWeight\"],bins=mybins)[0]\n",
    "            up   = (up0+down0)/2+np.abs(up0-down0)/2\n",
    "            down = (up0+down0)/2-np.abs(up0-down0)/2\n",
    "            ax.bar(mybins[:-1]+step/2, up-down, step,bottom=down,color=\"C{}\".format(iname),label=name,alpha=0.6)\n",
    "            ax.legend(fontsize=14)\n",
    "            ax.grid(True,linestyle=\"--\",alpha=0.5)\n",
    "\n",
    "            ax = axes[1]\n",
    "            nonzero = cent>0\n",
    "            downratio = down[nonzero]/(cent[nonzero])\n",
    "            upratio = up[nonzero]/cent[nonzero]\n",
    "            ax.fill_between(mybinscenter[nonzero],upratio,downratio,color=\"C{}\".format(iname),alpha=0.6)\n",
    "\n",
    "\n",
    "        ax = axes[0]\n",
    "        cent = ax.hist(MC[v],weights=MC[\"eventWeight\"],bins=mybins,histtype=\"step\",color='k',alpha=1,lw=1,label=\"nominal\")[0]\n",
    "        ax.legend(fontsize=14)\n",
    "        \n",
    "\n",
    "        ax = axes[1]\n",
    "        ax.axhline(1,color=\"k\")\n",
    "        ax.set_ylim(0.95,1.05)\n",
    "        ax.grid(True,linestyle=\"--\",alpha=0.5)\n",
    "\n",
    "        ax.set_xlabel(xl,fontsize=12)\n",
    "        \n",
    "        plt.savefig(\"../../plot/{}/jetSystematics/{}.png\".format(selection,v),dpi=300)\n",
    "        \n",
    "        print(\"making plots nbjet{0}: {1}/{2}\".format(nbjetcut,index,len(pp)))\n",
    "        clear_output(wait=True)\n",
    "        plt.close()\n"
   ]
  },
  {
   "cell_type": "code",
   "execution_count": 3,
   "metadata": {},
   "outputs": [
    {
     "name": "stdout",
     "output_type": "stream",
     "text": [
      "making plots nbjet==1: 23/24\n"
     ]
    }
   ],
   "source": [
    "    #for selection in [\"emu\",\"mumu\",\"mutau\",\"ee\",\"emu2\",\"etau\",\"mu4j\",\"e4j\"]:\n",
    "    makePlot(\"e4j\",\"==1\")"
   ]
  },
  {
   "cell_type": "code",
   "execution_count": null,
   "metadata": {},
   "outputs": [],
   "source": []
  }
 ],
 "metadata": {
  "kernelspec": {
   "display_name": "Python 3",
   "language": "python",
   "name": "python3"
  },
  "language_info": {
   "codemirror_mode": {
    "name": "ipython",
    "version": 3
   },
   "file_extension": ".py",
   "mimetype": "text/x-python",
   "name": "python",
   "nbconvert_exporter": "python",
   "pygments_lexer": "ipython3",
   "version": "3.6.4"
  }
 },
 "nbformat": 4,
 "nbformat_minor": 2
}
