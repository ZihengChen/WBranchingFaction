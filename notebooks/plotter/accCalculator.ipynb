{
 "cells": [
  {
   "cell_type": "code",
   "execution_count": 1,
   "metadata": {},
   "outputs": [],
   "source": [
    "from utility_common import *\n",
    "from utility_plotter import *\n",
    "#import ROOT\n",
    "from IPython.display import clear_output\n",
    "## add plotting option and load plotting parameter table\n",
    "%matplotlib inline\n",
    "#%qtconsole --style monokai\n",
    "plt.style.use('classic')\n",
    "plt.rc(\"figure\",facecolor=\"w\",figsize=(6,4))\n",
    "plt.rc(\"font\",size=10)\n",
    "plt.rc(\"savefig\",dpi=300)"
   ]
  },
  {
   "cell_type": "code",
   "execution_count": 2,
   "metadata": {},
   "outputs": [],
   "source": [
    "ctr = SelectionCounter()\n",
    "\n",
    "nGenTT = np.array([1811409.0, 1811532.0, 3620281.0, 57057.0, 54227.0, 111125.0, 418126.0, 407605.0, 763147.0, 642646.0, 626108.0, 2350887.0, 643368.0, 627277.0, 2353727.0, 22670017.0, 22653517.0, 4016590.0, 3923504.0, 14718933.0, 70930278.0])\n",
    "nGenT  = np.array([23105.0, 23040.0, 46342.0, 694.0, 717.0, 1420.0, 5260.0, 5158.0, 9727.0, 8199.0, 8029.0, 30054.0, 8163.0, 8006.0, 29970.0, 290101.0, 289467.0, 50864.0, 50050.0, 187515.0, 904067.0])\n",
    "\n",
    "        \n",
    "# print Generator information\n",
    "# f = ROOT.TFile(\"/mnt/data/zchen/Analysis/root/2016DataMC.root\")\n",
    "# nGenTT = np.array(ctr.countGen_ByTauDecay(f,'ttbar_inclusive'))\n",
    "\n",
    "# nGenT = np.array(ctr.countGen_ByTauDecay(f,'t_tw'))\n",
    "# nGenT += np.array(ctr.countGen_ByTauDecay(f,'tbar_tw'))\n",
    "# f.Close()"
   ]
  },
  {
   "cell_type": "code",
   "execution_count": 3,
   "metadata": {},
   "outputs": [
    {
     "name": "stdout",
     "output_type": "stream",
     "text": [
      "mumu\n",
      "mutau\n",
      "mu4j\n",
      "ee\n",
      "etau\n",
      "e4j\n",
      "emu\n",
      "emu2\n"
     ]
    }
   ],
   "source": [
    "dirAcc = \"/mnt/data/zchen/Analysis/acceptance/\"\n",
    "for selection in [\"mumu\",\"mutau\",\"mu4j\",\"ee\",\"etau\",\"e4j\",\"emu\",\"emu2\"]:\n",
    "    print(selection)\n",
    "    result = []\n",
    "    \n",
    "    if selection == \"emu2\":\n",
    "        pickledir  =  \"/mnt/data/zchen/Analysis/pickle/emu/\"\n",
    "    else:\n",
    "        pickledir  =  \"/mnt/data/zchen/Analysis/pickle/{}/\".format(selection)\n",
    "    for mc in [\"mctt\",\"mct\"]:\n",
    "        for nbjetcut in [\"==1\",\">1\"]:\n",
    "            cuts = GetSelectionCut(selection) + \"& (nBJets{})\".format(nbjetcut)\n",
    "            MC = LoadDataframe(pickledir + mc).query(cuts)\n",
    "            \n",
    "            nAcc = np.array(ctr.countSlt_ByTauDecay(MC,withweights=True))\n",
    "            if mc == \"mctt\":\n",
    "                fractionAccepted = nAcc/nGenTT\n",
    "            if mc == \"mct\":\n",
    "                fractionAccepted = nAcc/nGenT\n",
    "            result.append(fractionAccepted)\n",
    "    result = np.array(result)\n",
    "    np.savetxt(dirAcc+'Acceptance - {}.csv'.format(selection), result, delimiter=',')"
   ]
  },
  {
   "cell_type": "markdown",
   "metadata": {},
   "source": [
    "# tt Theoretical Uncertainty"
   ]
  },
  {
   "cell_type": "code",
   "execution_count": 3,
   "metadata": {},
   "outputs": [],
   "source": [
    "ctr = SelectionCounter()\n",
    "# print Generator information\n",
    "f = ROOT.TFile(\"/mnt/data/zchen/Analysis/root/2016DataMC.root\")\n",
    "nGenT = np.array(ctr.countGen_ByTauDecay(f,'t_tw'))\n",
    "nGenT += np.array(ctr.countGen_ByTauDecay(f,'tbar_tw'))\n",
    "f.Close()"
   ]
  },
  {
   "cell_type": "code",
   "execution_count": 5,
   "metadata": {},
   "outputs": [
    {
     "ename": "NameError",
     "evalue": "name 'ROOT' is not defined",
     "output_type": "error",
     "traceback": [
      "\u001b[0;31m---------------------------------------------------------------------------\u001b[0m",
      "\u001b[0;31mNameError\u001b[0m                                 Traceback (most recent call last)",
      "\u001b[0;32m<ipython-input-5-0944e9997119>\u001b[0m in \u001b[0;36m<module>\u001b[0;34m()\u001b[0m\n\u001b[1;32m      1\u001b[0m \u001b[0;32mfor\u001b[0m \u001b[0mname\u001b[0m \u001b[0;32min\u001b[0m \u001b[0;34m[\u001b[0m\u001b[0;34m\"up\"\u001b[0m\u001b[0;34m,\u001b[0m\u001b[0;34m\"down\"\u001b[0m\u001b[0;34m,\u001b[0m\u001b[0;34m\"fsrup\"\u001b[0m\u001b[0;34m,\u001b[0m\u001b[0;34m\"fsrdown\"\u001b[0m\u001b[0;34m,\u001b[0m\u001b[0;34m\"isrup\"\u001b[0m\u001b[0;34m,\u001b[0m\u001b[0;34m\"isrdown\"\u001b[0m\u001b[0;34m,\u001b[0m\u001b[0;34m\"hdampup\"\u001b[0m\u001b[0;34m,\u001b[0m\u001b[0;34m\"hdampdown\"\u001b[0m\u001b[0;34m]\u001b[0m\u001b[0;34m:\u001b[0m\u001b[0;34m\u001b[0m\u001b[0m\n\u001b[0;32m----> 2\u001b[0;31m     \u001b[0mf\u001b[0m \u001b[0;34m=\u001b[0m \u001b[0mROOT\u001b[0m\u001b[0;34m.\u001b[0m\u001b[0mTFile\u001b[0m\u001b[0;34m(\u001b[0m\u001b[0;34m\"/mnt/data/zchen/Analysis/root/2016DataMC_ttTheoreticUnc.root\"\u001b[0m\u001b[0;34m)\u001b[0m\u001b[0;34m\u001b[0m\u001b[0m\n\u001b[0m\u001b[1;32m      3\u001b[0m     \u001b[0mnGenTT\u001b[0m \u001b[0;34m=\u001b[0m \u001b[0mnp\u001b[0m\u001b[0;34m.\u001b[0m\u001b[0marray\u001b[0m\u001b[0;34m(\u001b[0m\u001b[0mctr\u001b[0m\u001b[0;34m.\u001b[0m\u001b[0mcountGen_ByTauDecay\u001b[0m\u001b[0;34m(\u001b[0m\u001b[0mf\u001b[0m\u001b[0;34m,\u001b[0m\u001b[0;34m'ttbar_inclusive_{}'\u001b[0m\u001b[0;34m.\u001b[0m\u001b[0mformat\u001b[0m\u001b[0;34m(\u001b[0m\u001b[0mname\u001b[0m\u001b[0;34m)\u001b[0m\u001b[0;34m)\u001b[0m\u001b[0;34m)\u001b[0m\u001b[0;34m\u001b[0m\u001b[0m\n\u001b[1;32m      4\u001b[0m     \u001b[0mf\u001b[0m\u001b[0;34m.\u001b[0m\u001b[0mClose\u001b[0m\u001b[0;34m(\u001b[0m\u001b[0;34m)\u001b[0m\u001b[0;34m\u001b[0m\u001b[0m\n\u001b[1;32m      5\u001b[0m \u001b[0;34m\u001b[0m\u001b[0m\n",
      "\u001b[0;31mNameError\u001b[0m: name 'ROOT' is not defined"
     ]
    }
   ],
   "source": [
    "for name in [\"up\",\"down\",\"fsrup\",\"fsrdown\",\"isrup\",\"isrdown\",\"hdampup\",\"hdampdown\"]:\n",
    "    f = ROOT.TFile(\"/mnt/data/zchen/Analysis/root/2016DataMC_ttTheoreticUnc.root\")\n",
    "    nGenTT = np.array(ctr.countGen_ByTauDecay(f,'ttbar_inclusive_{}'.format(name)))\n",
    "    f.Close()\n",
    "\n",
    "    dirAcc = \"/mnt/data/zchen/Analysis/acceptance/\"\n",
    "    for selection in [\"mumu\",\"mutau\",\"mu4j\",\"ee\",\"etau\",\"e4j\",\"emu\",\"emu2\"]:\n",
    "        print(selection)\n",
    "        result = []\n",
    "\n",
    "        if selection == \"emu2\":\n",
    "            pickledir  =  \"/mnt/data/zchen/Analysis/pickle/emu/\"\n",
    "        else:\n",
    "            pickledir  =  \"/mnt/data/zchen/Analysis/pickle/{}/\".format(selection)\n",
    "        for mc in [\"mctt\",\"mct\"]:\n",
    "            for nbjetcut in [\"==1\",\">1\"]:\n",
    "                cuts = GetSelectionCut(selection) + \"& (nBJets{})\".format(nbjetcut)\n",
    "                MC = LoadDataframe(pickledir + mc).query(cuts)\n",
    "\n",
    "                nAcc = np.array(ctr.countSlt_ByTauDecay(MC,withweights=True))\n",
    "                if mc == \"mctt\":\n",
    "                    fractionAccepted = nAcc/nGenTT\n",
    "                if mc == \"mct\":\n",
    "                    fractionAccepted = nAcc/nGenT\n",
    "                result.append(fractionAccepted)\n",
    "        result = np.array(result)\n",
    "        np.savetxt(dirAcc+'Acc_{}_{}.csv'.format(name,selection), result, delimiter=',')"
   ]
  },
  {
   "cell_type": "code",
   "execution_count": null,
   "metadata": {},
   "outputs": [],
   "source": []
  }
 ],
 "metadata": {
  "kernelspec": {
   "display_name": "Python 3",
   "language": "python",
   "name": "python3"
  },
  "language_info": {
   "codemirror_mode": {
    "name": "ipython",
    "version": 3
   },
   "file_extension": ".py",
   "mimetype": "text/x-python",
   "name": "python",
   "nbconvert_exporter": "python",
   "pygments_lexer": "ipython3",
   "version": "3.6.4"
  }
 },
 "nbformat": 4,
 "nbformat_minor": 2
}
