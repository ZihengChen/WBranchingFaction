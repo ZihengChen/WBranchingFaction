{
 "cells": [
  {
   "cell_type": "code",
   "execution_count": 1,
   "metadata": {},
   "outputs": [],
   "source": [
    "from utility_dfcounter import *"
   ]
  },
  {
   "cell_type": "markdown",
   "metadata": {},
   "source": [
    "## 1. count nominal"
   ]
  },
  {
   "cell_type": "code",
   "execution_count": 2,
   "metadata": {},
   "outputs": [],
   "source": [
    "def countDataFrames(variation=\"\"):\n",
    "    labels  = [\"trigger\",\"usetag\",\"acc\",\"accVar\",\"nmcbg\",\"nmcbgVar\",\"nfake\",\"nfakeVar\",\"ndata\",\"ndataVar\"]\n",
    "    records = []\n",
    "    for trigger in [\"mu\",\"e\"]:\n",
    "        for usetag in [\"1b\",\"2b\"]:\n",
    "            print( \"counting \"+trigger+usetag + \" ...\")\n",
    "\n",
    "            counter = DFCounter(trigger,usetag)\n",
    "            counter.setVariation(variation)\n",
    "\n",
    "            acc,accVar = counter.returnAcc()\n",
    "            nmcbg,nmcbgVar = counter.returnNMCbg()\n",
    "            nfake,nfakeVar = counter.returnNFake()\n",
    "            ndata,ndataVar = counter.returnNData()\n",
    "            records.append( (trigger,usetag,acc,accVar,nmcbg,nmcbgVar,nfake,nfakeVar,ndata,ndataVar) )\n",
    "\n",
    "    df = pd.DataFrame.from_records(records, columns=labels)\n",
    "    df.to_pickle( common.getBaseDirectory() + \"data/counts/count_{}.pkl\".format(variation))\n",
    "    print( \"counting finished!\")"
   ]
  },
  {
   "cell_type": "code",
   "execution_count": 3,
   "metadata": {},
   "outputs": [
    {
     "name": "stdout",
     "output_type": "stream",
     "text": [
      "counting mu1b ...\n",
      "counting mu2b ...\n",
      "counting e1b ...\n",
      "counting e2b ...\n",
      "counting finished!\n"
     ]
    }
   ],
   "source": [
    "countDataFrames()"
   ]
  },
  {
   "cell_type": "markdown",
   "metadata": {},
   "source": [
    "## 2. count with variation"
   ]
  },
  {
   "cell_type": "code",
   "execution_count": 4,
   "metadata": {},
   "outputs": [
    {
     "name": "stdout",
     "output_type": "stream",
     "text": [
      "counting mu1b ...\n"
     ]
    },
    {
     "ename": "IndexError",
     "evalue": "index 0 is out of bounds for axis 0 with size 0",
     "output_type": "error",
     "traceback": [
      "\u001b[0;31m---------------------------------------------------------------------------\u001b[0m",
      "\u001b[0;31mIndexError\u001b[0m                                Traceback (most recent call last)",
      "\u001b[0;32m<ipython-input-4-64a1e60ee70d>\u001b[0m in \u001b[0;36m<module>\u001b[0;34m()\u001b[0m\n\u001b[1;32m      8\u001b[0m \u001b[0mvariations\u001b[0m  \u001b[0;34m=\u001b[0m \u001b[0mttTheory\u001b[0m\u001b[0;34m+\u001b[0m\u001b[0mttLHEWeight\u001b[0m\u001b[0;34m+\u001b[0m\u001b[0mlepEnergy\u001b[0m\u001b[0;34m+\u001b[0m\u001b[0mjetEnergy\u001b[0m\u001b[0;34m+\u001b[0m\u001b[0mbTagging\u001b[0m\u001b[0;34m\u001b[0m\u001b[0m\n\u001b[1;32m      9\u001b[0m \u001b[0;32mfor\u001b[0m \u001b[0mv\u001b[0m \u001b[0;32min\u001b[0m \u001b[0mvariations\u001b[0m\u001b[0;34m:\u001b[0m\u001b[0;34m\u001b[0m\u001b[0m\n\u001b[0;32m---> 10\u001b[0;31m     \u001b[0mcountDataFrames\u001b[0m\u001b[0;34m(\u001b[0m\u001b[0mv\u001b[0m\u001b[0;34m)\u001b[0m\u001b[0;34m\u001b[0m\u001b[0m\n\u001b[0m",
      "\u001b[0;32m<ipython-input-2-287ab9f36d22>\u001b[0m in \u001b[0;36mcountDataFrames\u001b[0;34m(variation)\u001b[0m\n\u001b[1;32m      9\u001b[0m             \u001b[0mcounter\u001b[0m\u001b[0;34m.\u001b[0m\u001b[0msetVariation\u001b[0m\u001b[0;34m(\u001b[0m\u001b[0mvariation\u001b[0m\u001b[0;34m)\u001b[0m\u001b[0;34m\u001b[0m\u001b[0m\n\u001b[1;32m     10\u001b[0m \u001b[0;34m\u001b[0m\u001b[0m\n\u001b[0;32m---> 11\u001b[0;31m             \u001b[0macc\u001b[0m\u001b[0;34m,\u001b[0m\u001b[0maccVar\u001b[0m \u001b[0;34m=\u001b[0m \u001b[0mcounter\u001b[0m\u001b[0;34m.\u001b[0m\u001b[0mreturnAcc\u001b[0m\u001b[0;34m(\u001b[0m\u001b[0;34m)\u001b[0m\u001b[0;34m\u001b[0m\u001b[0m\n\u001b[0m\u001b[1;32m     12\u001b[0m             \u001b[0mnmcbg\u001b[0m\u001b[0;34m,\u001b[0m\u001b[0mnmcbgVar\u001b[0m \u001b[0;34m=\u001b[0m \u001b[0mcounter\u001b[0m\u001b[0;34m.\u001b[0m\u001b[0mreturnNMCbg\u001b[0m\u001b[0;34m(\u001b[0m\u001b[0;34m)\u001b[0m\u001b[0;34m\u001b[0m\u001b[0m\n\u001b[1;32m     13\u001b[0m             \u001b[0mnfake\u001b[0m\u001b[0;34m,\u001b[0m\u001b[0mnfakeVar\u001b[0m \u001b[0;34m=\u001b[0m \u001b[0mcounter\u001b[0m\u001b[0;34m.\u001b[0m\u001b[0mreturnNFake\u001b[0m\u001b[0;34m(\u001b[0m\u001b[0;34m)\u001b[0m\u001b[0;34m\u001b[0m\u001b[0m\n",
      "\u001b[0;32m~/Documents/Analysis/workplace/scripts/utility_dfcounter.py\u001b[0m in \u001b[0;36mreturnAcc\u001b[0;34m(self)\u001b[0m\n\u001b[1;32m     52\u001b[0m         \u001b[0macc\u001b[0m\u001b[0;34m,\u001b[0m\u001b[0maccVar\u001b[0m \u001b[0;34m=\u001b[0m \u001b[0;34m[\u001b[0m\u001b[0;34m]\u001b[0m\u001b[0;34m,\u001b[0m\u001b[0;34m[\u001b[0m\u001b[0;34m]\u001b[0m\u001b[0;34m\u001b[0m\u001b[0m\n\u001b[1;32m     53\u001b[0m         \u001b[0;32mfor\u001b[0m \u001b[0mslt\u001b[0m \u001b[0;32min\u001b[0m \u001b[0mself\u001b[0m\u001b[0;34m.\u001b[0m\u001b[0mselections\u001b[0m\u001b[0;34m:\u001b[0m\u001b[0;34m\u001b[0m\u001b[0m\n\u001b[0;32m---> 54\u001b[0;31m             \u001b[0mtemp\u001b[0m\u001b[0;34m,\u001b[0m\u001b[0mtempVar\u001b[0m \u001b[0;34m=\u001b[0m \u001b[0mself\u001b[0m\u001b[0;34m.\u001b[0m\u001b[0mgetAcc\u001b[0m\u001b[0;34m(\u001b[0m\u001b[0mslt\u001b[0m\u001b[0;34m,\u001b[0m\u001b[0mself\u001b[0m\u001b[0;34m.\u001b[0m\u001b[0mnbjet\u001b[0m\u001b[0;34m)\u001b[0m\u001b[0;34m\u001b[0m\u001b[0m\n\u001b[0m\u001b[1;32m     55\u001b[0m             \u001b[0macc\u001b[0m\u001b[0;34m.\u001b[0m\u001b[0mappend\u001b[0m\u001b[0;34m(\u001b[0m\u001b[0mtemp\u001b[0m\u001b[0;34m)\u001b[0m\u001b[0;34m\u001b[0m\u001b[0m\n\u001b[1;32m     56\u001b[0m             \u001b[0maccVar\u001b[0m\u001b[0;34m.\u001b[0m\u001b[0mappend\u001b[0m\u001b[0;34m(\u001b[0m\u001b[0mtempVar\u001b[0m\u001b[0;34m)\u001b[0m\u001b[0;34m\u001b[0m\u001b[0m\n",
      "\u001b[0;32m~/Documents/Analysis/workplace/scripts/utility_dfcounter.py\u001b[0m in \u001b[0;36mgetAcc\u001b[0;34m(self, selection, nbjet)\u001b[0m\n\u001b[1;32m    125\u001b[0m         \u001b[0;31m# variated tt\u001b[0m\u001b[0;34m\u001b[0m\u001b[0;34m\u001b[0m\u001b[0m\n\u001b[1;32m    126\u001b[0m         \u001b[0;32mif\u001b[0m \u001b[0mself\u001b[0m\u001b[0;34m.\u001b[0m\u001b[0mvariation\u001b[0m \u001b[0;32min\u001b[0m \u001b[0;34m[\u001b[0m\u001b[0;34m'FSRUp'\u001b[0m\u001b[0;34m,\u001b[0m\u001b[0;34m'FSRDown'\u001b[0m\u001b[0;34m,\u001b[0m\u001b[0;34m'ISRUp'\u001b[0m\u001b[0;34m,\u001b[0m\u001b[0;34m'ISRDown'\u001b[0m\u001b[0;34m,\u001b[0m\u001b[0;34m'UEUp'\u001b[0m\u001b[0;34m,\u001b[0m\u001b[0;34m'UEDown'\u001b[0m\u001b[0;34m,\u001b[0m\u001b[0;34m'MEPSUp'\u001b[0m\u001b[0;34m,\u001b[0m\u001b[0;34m'MEPSDown'\u001b[0m\u001b[0;34m]\u001b[0m\u001b[0;34m:\u001b[0m\u001b[0;34m\u001b[0m\u001b[0m\n\u001b[0;32m--> 127\u001b[0;31m             \u001b[0mnGenMCtt\u001b[0m \u001b[0;34m=\u001b[0m \u001b[0mself\u001b[0m\u001b[0;34m.\u001b[0m\u001b[0mdfNGen\u001b[0m\u001b[0;34m[\u001b[0m\u001b[0mself\u001b[0m\u001b[0;34m.\u001b[0m\u001b[0mdfNGen\u001b[0m\u001b[0;34m.\u001b[0m\u001b[0mname\u001b[0m\u001b[0;34m==\u001b[0m\u001b[0;34m'ttbar_inclusive_'\u001b[0m\u001b[0;34m+\u001b[0m\u001b[0mself\u001b[0m\u001b[0;34m.\u001b[0m\u001b[0mvariation\u001b[0m\u001b[0;34m]\u001b[0m\u001b[0;34m.\u001b[0m\u001b[0mngen\u001b[0m\u001b[0;34m.\u001b[0m\u001b[0mvalues\u001b[0m\u001b[0;34m[\u001b[0m\u001b[0;36m0\u001b[0m\u001b[0;34m]\u001b[0m\u001b[0;34m\u001b[0m\u001b[0m\n\u001b[0m\u001b[1;32m    128\u001b[0m             \u001b[0mdf\u001b[0m \u001b[0;34m=\u001b[0m \u001b[0mDFCutter\u001b[0m\u001b[0;34m(\u001b[0m\u001b[0mselection\u001b[0m\u001b[0;34m,\u001b[0m\u001b[0mnbjet\u001b[0m\u001b[0;34m,\u001b[0m\u001b[0;34m\"mctt\"\u001b[0m\u001b[0;34m)\u001b[0m\u001b[0;34m.\u001b[0m\u001b[0mgetDataFrame\u001b[0m\u001b[0;34m(\u001b[0m\u001b[0mself\u001b[0m\u001b[0;34m.\u001b[0m\u001b[0mvariation\u001b[0m\u001b[0;34m)\u001b[0m\u001b[0;34m\u001b[0m\u001b[0m\n\u001b[1;32m    129\u001b[0m             \u001b[0mnMCtt\u001b[0m \u001b[0;34m=\u001b[0m \u001b[0mself\u001b[0m\u001b[0;34m.\u001b[0m\u001b[0m_countDataFrameByTauDecay\u001b[0m\u001b[0;34m(\u001b[0m\u001b[0mdf\u001b[0m\u001b[0;34m,\u001b[0m \u001b[0mnormToLumin\u001b[0m\u001b[0;34m=\u001b[0m\u001b[0;32mFalse\u001b[0m\u001b[0;34m,\u001b[0m \u001b[0mwithWeights\u001b[0m\u001b[0;34m=\u001b[0m\u001b[0;32mTrue\u001b[0m\u001b[0;34m)\u001b[0m\u001b[0;34m\u001b[0m\u001b[0m\n",
      "\u001b[0;31mIndexError\u001b[0m: index 0 is out of bounds for axis 0 with size 0"
     ]
    }
   ],
   "source": [
    "ttTheory    = ['FSRUp','FSRDown','ISRUp','ISRDown','UEUp','UEDown','MEPSUp','MEPSDown']\n",
    "ttLHEWeight = [\"RenormUp\",\"RenormDown\",\"FactorUp\",\"FactorDown\",\"PDFUp\",\"PDFDown\"]\n",
    "\n",
    "lepEnergy   = ['EPtDown','MuPtDown','TauPtDown']\n",
    "jetEnergy   = [\"JESUp\",\"JESDown\",\"JERUp\",\"JERDown\"]\n",
    "bTagging    = [\"BTagUp\",\"BTagDown\",\"MistagUp\",\"MistagDown\"]\n",
    "\n",
    "variations  = ttTheory+ttLHEWeight+lepEnergy+jetEnergy+bTagging\n",
    "for v in variations:\n",
    "    countDataFrames(v)"
   ]
  },
  {
   "cell_type": "code",
   "execution_count": 5,
   "metadata": {},
   "outputs": [],
   "source": [
    "dfNGen = pd.read_pickle(common.getBaseDirectory() + \"data/pickles/ngen.pkl\")"
   ]
  },
  {
   "cell_type": "code",
   "execution_count": 7,
   "metadata": {},
   "outputs": [
    {
     "data": {
      "text/html": [
       "<div>\n",
       "<style scoped>\n",
       "    .dataframe tbody tr th:only-of-type {\n",
       "        vertical-align: middle;\n",
       "    }\n",
       "\n",
       "    .dataframe tbody tr th {\n",
       "        vertical-align: top;\n",
       "    }\n",
       "\n",
       "    .dataframe thead th {\n",
       "        text-align: right;\n",
       "    }\n",
       "</style>\n",
       "<table border=\"1\" class=\"dataframe\">\n",
       "  <thead>\n",
       "    <tr style=\"text-align: right;\">\n",
       "      <th></th>\n",
       "      <th>name</th>\n",
       "      <th>ngen</th>\n",
       "    </tr>\n",
       "  </thead>\n",
       "  <tbody>\n",
       "  </tbody>\n",
       "</table>\n",
       "</div>"
      ],
      "text/plain": [
       "Empty DataFrame\n",
       "Columns: [name, ngen]\n",
       "Index: []"
      ]
     },
     "execution_count": 7,
     "metadata": {},
     "output_type": "execute_result"
    }
   ],
   "source": [
    "dfNGen[dfNGen.name=='ttbar_inclusive_'+'UEUp']"
   ]
  },
  {
   "cell_type": "code",
   "execution_count": 8,
   "metadata": {},
   "outputs": [
    {
     "data": {
      "text/html": [
       "<div>\n",
       "<style scoped>\n",
       "    .dataframe tbody tr th:only-of-type {\n",
       "        vertical-align: middle;\n",
       "    }\n",
       "\n",
       "    .dataframe tbody tr th {\n",
       "        vertical-align: top;\n",
       "    }\n",
       "\n",
       "    .dataframe thead th {\n",
       "        text-align: right;\n",
       "    }\n",
       "</style>\n",
       "<table border=\"1\" class=\"dataframe\">\n",
       "  <thead>\n",
       "    <tr style=\"text-align: right;\">\n",
       "      <th></th>\n",
       "      <th>name</th>\n",
       "      <th>ngen</th>\n",
       "    </tr>\n",
       "  </thead>\n",
       "  <tbody>\n",
       "    <tr>\n",
       "      <th>0</th>\n",
       "      <td>t</td>\n",
       "      <td>[23105.0, 23040.0, 46342.0, 694.0, 717.0, 1420...</td>\n",
       "    </tr>\n",
       "    <tr>\n",
       "      <th>1</th>\n",
       "      <td>tt</td>\n",
       "      <td>[1811409.0, 1811532.0, 3620281.0, 57057.0, 542...</td>\n",
       "    </tr>\n",
       "    <tr>\n",
       "      <th>2</th>\n",
       "      <td>tt_2l2nu</td>\n",
       "      <td>[8790013.0, 8789997.0, 17569531.0, 275633.0, 2...</td>\n",
       "    </tr>\n",
       "    <tr>\n",
       "      <th>3</th>\n",
       "      <td>tt_semilepton</td>\n",
       "      <td>[0.0, 0.0, 0.0, 0.0, 0.0, 0.0, 0.0, 0.0, 0.0, ...</td>\n",
       "    </tr>\n",
       "    <tr>\n",
       "      <th>4</th>\n",
       "      <td>ttbar_inclusive_fsrdown</td>\n",
       "      <td>[344060.0, 343842.0, 688151.0, 10837.0, 10387....</td>\n",
       "    </tr>\n",
       "    <tr>\n",
       "      <th>5</th>\n",
       "      <td>ttbar_inclusive_fsrup</td>\n",
       "      <td>[689711.0, 690221.0, 1377457.0, 21341.0, 20948...</td>\n",
       "    </tr>\n",
       "    <tr>\n",
       "      <th>6</th>\n",
       "      <td>ttbar_inclusive_isrdown</td>\n",
       "      <td>[560886.0, 560321.0, 1119865.0, 17634.0, 16891...</td>\n",
       "    </tr>\n",
       "    <tr>\n",
       "      <th>7</th>\n",
       "      <td>ttbar_inclusive_isrup</td>\n",
       "      <td>[688025.0, 689145.0, 1377801.0, 21480.0, 20757...</td>\n",
       "    </tr>\n",
       "    <tr>\n",
       "      <th>8</th>\n",
       "      <td>ttbar_inclusive_hdampdown</td>\n",
       "      <td>[339192.0, 338899.0, 678374.0, 10826.0, 10269....</td>\n",
       "    </tr>\n",
       "    <tr>\n",
       "      <th>9</th>\n",
       "      <td>ttbar_inclusive_hdampup</td>\n",
       "      <td>[345681.0, 346438.0, 692678.0, 10990.0, 10491....</td>\n",
       "    </tr>\n",
       "    <tr>\n",
       "      <th>10</th>\n",
       "      <td>ttbar_inclusive_down</td>\n",
       "      <td>[330308.0, 330453.0, 660164.0, 10381.0, 9782.0...</td>\n",
       "    </tr>\n",
       "    <tr>\n",
       "      <th>11</th>\n",
       "      <td>ttbar_inclusive_up</td>\n",
       "      <td>[342091.0, 341410.0, 682622.0, 10671.0, 10171....</td>\n",
       "    </tr>\n",
       "  </tbody>\n",
       "</table>\n",
       "</div>"
      ],
      "text/plain": [
       "                         name  \\\n",
       "0                           t   \n",
       "1                          tt   \n",
       "2                    tt_2l2nu   \n",
       "3               tt_semilepton   \n",
       "4     ttbar_inclusive_fsrdown   \n",
       "5       ttbar_inclusive_fsrup   \n",
       "6     ttbar_inclusive_isrdown   \n",
       "7       ttbar_inclusive_isrup   \n",
       "8   ttbar_inclusive_hdampdown   \n",
       "9     ttbar_inclusive_hdampup   \n",
       "10       ttbar_inclusive_down   \n",
       "11         ttbar_inclusive_up   \n",
       "\n",
       "                                                 ngen  \n",
       "0   [23105.0, 23040.0, 46342.0, 694.0, 717.0, 1420...  \n",
       "1   [1811409.0, 1811532.0, 3620281.0, 57057.0, 542...  \n",
       "2   [8790013.0, 8789997.0, 17569531.0, 275633.0, 2...  \n",
       "3   [0.0, 0.0, 0.0, 0.0, 0.0, 0.0, 0.0, 0.0, 0.0, ...  \n",
       "4   [344060.0, 343842.0, 688151.0, 10837.0, 10387....  \n",
       "5   [689711.0, 690221.0, 1377457.0, 21341.0, 20948...  \n",
       "6   [560886.0, 560321.0, 1119865.0, 17634.0, 16891...  \n",
       "7   [688025.0, 689145.0, 1377801.0, 21480.0, 20757...  \n",
       "8   [339192.0, 338899.0, 678374.0, 10826.0, 10269....  \n",
       "9   [345681.0, 346438.0, 692678.0, 10990.0, 10491....  \n",
       "10  [330308.0, 330453.0, 660164.0, 10381.0, 9782.0...  \n",
       "11  [342091.0, 341410.0, 682622.0, 10671.0, 10171....  "
      ]
     },
     "execution_count": 8,
     "metadata": {},
     "output_type": "execute_result"
    }
   ],
   "source": [
    "dfNGen"
   ]
  },
  {
   "cell_type": "code",
   "execution_count": null,
   "metadata": {},
   "outputs": [],
   "source": []
  }
 ],
 "metadata": {
  "kernelspec": {
   "display_name": "Python 3",
   "language": "python",
   "name": "python3"
  },
  "language_info": {
   "codemirror_mode": {
    "name": "ipython",
    "version": 3
   },
   "file_extension": ".py",
   "mimetype": "text/x-python",
   "name": "python",
   "nbconvert_exporter": "python",
   "pygments_lexer": "ipython3",
   "version": "3.6.4"
  }
 },
 "nbformat": 4,
 "nbformat_minor": 2
}
