{
 "cells": [
  {
   "cell_type": "code",
   "execution_count": 2,
   "metadata": {},
   "outputs": [],
   "source": [
    "from utility_dfcounter import *"
   ]
  },
  {
   "cell_type": "code",
   "execution_count": 12,
   "metadata": {},
   "outputs": [],
   "source": [
    "counter = DFCounter('mu','1b')"
   ]
  },
  {
   "cell_type": "code",
   "execution_count": 22,
   "metadata": {},
   "outputs": [],
   "source": [
    "acc,accVar = counter.getAcc('mumu','==1')"
   ]
  },
  {
   "cell_type": "code",
   "execution_count": 53,
   "metadata": {},
   "outputs": [
    {
     "data": {
      "text/html": [
       "<div>\n",
       "<style scoped>\n",
       "    .dataframe tbody tr th:only-of-type {\n",
       "        vertical-align: middle;\n",
       "    }\n",
       "\n",
       "    .dataframe tbody tr th {\n",
       "        vertical-align: top;\n",
       "    }\n",
       "\n",
       "    .dataframe thead th {\n",
       "        text-align: right;\n",
       "    }\n",
       "</style>\n",
       "<table border=\"1\" class=\"dataframe\">\n",
       "  <thead>\n",
       "    <tr style=\"text-align: right;\">\n",
       "      <th></th>\n",
       "      <th>name</th>\n",
       "      <th>ngen</th>\n",
       "    </tr>\n",
       "  </thead>\n",
       "  <tbody>\n",
       "    <tr>\n",
       "      <th>0</th>\n",
       "      <td>t</td>\n",
       "      <td>[23105.0, 23040.0, 46342.0, 694.0, 717.0, 1420...</td>\n",
       "    </tr>\n",
       "    <tr>\n",
       "      <th>1</th>\n",
       "      <td>tt</td>\n",
       "      <td>[45761474.0, 45761517.0, 91467936.0, 1435222.0...</td>\n",
       "    </tr>\n",
       "    <tr>\n",
       "      <th>2</th>\n",
       "      <td>tt_2l2nu</td>\n",
       "      <td>[8790013.0, 8789997.0, 17569531.0, 275633.0, 2...</td>\n",
       "    </tr>\n",
       "    <tr>\n",
       "      <th>3</th>\n",
       "      <td>tt_semilepton</td>\n",
       "      <td>[0.0, 0.0, 0.0, 0.0, 0.0, 0.0, 0.0, 0.0, 0.0, ...</td>\n",
       "    </tr>\n",
       "    <tr>\n",
       "      <th>4</th>\n",
       "      <td>ttbar_inclusive_fsrdown</td>\n",
       "      <td>[344060.0, 343842.0, 688151.0, 10837.0, 10387....</td>\n",
       "    </tr>\n",
       "    <tr>\n",
       "      <th>5</th>\n",
       "      <td>ttbar_inclusive_fsrup</td>\n",
       "      <td>[689711.0, 690221.0, 1377457.0, 21341.0, 20948...</td>\n",
       "    </tr>\n",
       "    <tr>\n",
       "      <th>6</th>\n",
       "      <td>ttbar_inclusive_isrdown</td>\n",
       "      <td>[560886.0, 560321.0, 1119865.0, 17634.0, 16891...</td>\n",
       "    </tr>\n",
       "    <tr>\n",
       "      <th>7</th>\n",
       "      <td>ttbar_inclusive_isrup</td>\n",
       "      <td>[688025.0, 689145.0, 1377801.0, 21480.0, 20757...</td>\n",
       "    </tr>\n",
       "    <tr>\n",
       "      <th>8</th>\n",
       "      <td>ttbar_inclusive_hdampdown</td>\n",
       "      <td>[339192.0, 338899.0, 678374.0, 10826.0, 10269....</td>\n",
       "    </tr>\n",
       "    <tr>\n",
       "      <th>9</th>\n",
       "      <td>ttbar_inclusive_hdampup</td>\n",
       "      <td>[345681.0, 346438.0, 692678.0, 10990.0, 10491....</td>\n",
       "    </tr>\n",
       "    <tr>\n",
       "      <th>10</th>\n",
       "      <td>ttbar_inclusive_down</td>\n",
       "      <td>[330308.0, 330453.0, 660164.0, 10381.0, 9782.0...</td>\n",
       "    </tr>\n",
       "    <tr>\n",
       "      <th>11</th>\n",
       "      <td>ttbar_inclusive_up</td>\n",
       "      <td>[342091.0, 341410.0, 682622.0, 10671.0, 10171....</td>\n",
       "    </tr>\n",
       "  </tbody>\n",
       "</table>\n",
       "</div>"
      ],
      "text/plain": [
       "                         name  \\\n",
       "0                           t   \n",
       "1                          tt   \n",
       "2                    tt_2l2nu   \n",
       "3               tt_semilepton   \n",
       "4     ttbar_inclusive_fsrdown   \n",
       "5       ttbar_inclusive_fsrup   \n",
       "6     ttbar_inclusive_isrdown   \n",
       "7       ttbar_inclusive_isrup   \n",
       "8   ttbar_inclusive_hdampdown   \n",
       "9     ttbar_inclusive_hdampup   \n",
       "10       ttbar_inclusive_down   \n",
       "11         ttbar_inclusive_up   \n",
       "\n",
       "                                                 ngen  \n",
       "0   [23105.0, 23040.0, 46342.0, 694.0, 717.0, 1420...  \n",
       "1   [45761474.0, 45761517.0, 91467936.0, 1435222.0...  \n",
       "2   [8790013.0, 8789997.0, 17569531.0, 275633.0, 2...  \n",
       "3   [0.0, 0.0, 0.0, 0.0, 0.0, 0.0, 0.0, 0.0, 0.0, ...  \n",
       "4   [344060.0, 343842.0, 688151.0, 10837.0, 10387....  \n",
       "5   [689711.0, 690221.0, 1377457.0, 21341.0, 20948...  \n",
       "6   [560886.0, 560321.0, 1119865.0, 17634.0, 16891...  \n",
       "7   [688025.0, 689145.0, 1377801.0, 21480.0, 20757...  \n",
       "8   [339192.0, 338899.0, 678374.0, 10826.0, 10269....  \n",
       "9   [345681.0, 346438.0, 692678.0, 10990.0, 10491....  \n",
       "10  [330308.0, 330453.0, 660164.0, 10381.0, 9782.0...  \n",
       "11  [342091.0, 341410.0, 682622.0, 10671.0, 10171....  "
      ]
     },
     "execution_count": 53,
     "metadata": {},
     "output_type": "execute_result"
    }
   ],
   "source": [
    "counter.dfNGen"
   ]
  },
  {
   "cell_type": "code",
   "execution_count": 51,
   "metadata": {},
   "outputs": [],
   "source": [
    "nGenMCtt = counter.dfNGen[counter.dfNGen.name=='tt'].ngen.values[0]"
   ]
  },
  {
   "cell_type": "code",
   "execution_count": 52,
   "metadata": {},
   "outputs": [
    {
     "data": {
      "text/plain": [
       "array([4.57614740e+07, 4.57615170e+07, 9.14679360e+07, 1.43522200e+06,\n",
       "       1.37005200e+06, 2.80219500e+06, 1.05326610e+07, 1.02792750e+07,\n",
       "       1.93078820e+07, 1.62182360e+07, 1.58330680e+07, 5.94021870e+07,\n",
       "       1.62129880e+07, 1.58315770e+07, 5.94303070e+07, 1.75700597e+08,\n",
       "       1.75680902e+08, 3.11566350e+07, 3.04278840e+07, 1.14178658e+08,\n",
       "       7.09302780e+07])"
      ]
     },
     "execution_count": 52,
     "metadata": {},
     "output_type": "execute_result"
    }
   ],
   "source": [
    "nGenMCtt"
   ]
  },
  {
   "cell_type": "code",
   "execution_count": 48,
   "metadata": {},
   "outputs": [],
   "source": [
    "df = DFCutter('mumu','==1','mctt').getDataFrame()\n",
    "nMCtt = counter._countDataFrameByTauDecay(df, normToLumin=False, withWeights=True)"
   ]
  },
  {
   "cell_type": "code",
   "execution_count": 49,
   "metadata": {},
   "outputs": [
    {
     "data": {
      "text/plain": [
       "(array([0.00000000e+00, 5.54424897e-03, 2.83226951e-06, 0.00000000e+00,\n",
       "        1.46862327e-03, 1.73787945e-06, 0.00000000e+00, 3.18280814e-06,\n",
       "        0.00000000e+00, 0.00000000e+00, 1.49484297e-06, 0.00000000e+00,\n",
       "        2.89027145e-06, 3.04907191e-03, 5.54859867e-06, 0.00000000e+00,\n",
       "        2.64244318e-05, 3.25353002e-08, 1.12989184e-05, 0.00000000e+00,\n",
       "        4.87439177e-08]),\n",
       " array([3.32718635e-16, 1.20638546e-10, 3.10840899e-14, 3.38249991e-13,\n",
       "        1.07209927e-09, 7.06449589e-13, 6.28059511e-15, 3.16353561e-13,\n",
       "        1.86899360e-15, 2.64892606e-15, 9.72000006e-14, 1.97456883e-16,\n",
       "        1.81038494e-13, 1.92256247e-10, 9.36715258e-14, 2.25699548e-17,\n",
       "        1.50622418e-13, 1.74568620e-15, 3.72528002e-13, 5.34450259e-17,\n",
       "        8.21736765e-16]))"
      ]
     },
     "execution_count": 49,
     "metadata": {},
     "output_type": "execute_result"
    }
   ],
   "source": [
    "common.getEfficiency(nMCtt, nGenMCtt)"
   ]
  },
  {
   "cell_type": "markdown",
   "metadata": {},
   "source": [
    "## 1. count nominal"
   ]
  },
  {
   "cell_type": "code",
   "execution_count": 3,
   "metadata": {},
   "outputs": [],
   "source": [
    "def countDataFrames(variation=\"\"):\n",
    "    labels  = [\"trigger\",\"usetag\",\"acc\",\"accVar\",\"nmcbg\",\"nmcbgVar\",\"nfake\",\"nfakeVar\",\"ndata\",\"ndataVar\"]\n",
    "    records = []\n",
    "    for trigger in [\"mu\",\"e\"]:\n",
    "        for usetag in [\"1b\",\"2b\"]:\n",
    "            print( \"counting \"+trigger+usetag + \" ...\")\n",
    "\n",
    "            counter = DFCounter(trigger,usetag)\n",
    "            counter.setVariation(variation)\n",
    "\n",
    "            acc,accVar = counter.returnAcc()\n",
    "            nmcbg,nmcbgVar = counter.returnNMCbg()\n",
    "            nfake,nfakeVar = counter.returnNFake()\n",
    "            ndata,ndataVar = counter.returnNData()\n",
    "            records.append( (trigger,usetag,acc,accVar,nmcbg,nmcbgVar,nfake,nfakeVar,ndata,ndataVar) )\n",
    "\n",
    "    df = pd.DataFrame.from_records(records, columns=labels)\n",
    "    df.to_pickle( common.getBaseDirectory() + \"data/counts/count_inc{}.pkl\".format(variation))\n",
    "    print( \"counting finished!\")"
   ]
  },
  {
   "cell_type": "code",
   "execution_count": 4,
   "metadata": {},
   "outputs": [
    {
     "name": "stdout",
     "output_type": "stream",
     "text": [
      "counting mu1b ...\n",
      "counting mu2b ...\n",
      "counting e1b ...\n",
      "counting e2b ...\n",
      "counting finished!\n"
     ]
    }
   ],
   "source": [
    "countDataFrames()"
   ]
  },
  {
   "cell_type": "markdown",
   "metadata": {},
   "source": [
    "## 2. count with variation"
   ]
  },
  {
   "cell_type": "code",
   "execution_count": 2,
   "metadata": {},
   "outputs": [
    {
     "name": "stdout",
     "output_type": "stream",
     "text": [
      "counting mu1b ...\n",
      "counting mu2b ...\n",
      "counting e1b ...\n",
      "counting e2b ...\n",
      "counting finished!\n",
      "counting mu1b ...\n",
      "counting mu2b ...\n",
      "counting e1b ...\n",
      "counting e2b ...\n",
      "counting finished!\n",
      "counting mu1b ...\n",
      "counting mu2b ...\n",
      "counting e1b ...\n",
      "counting e2b ...\n",
      "counting finished!\n",
      "counting mu1b ...\n",
      "counting mu2b ...\n",
      "counting e1b ...\n",
      "counting e2b ...\n",
      "counting finished!\n",
      "counting mu1b ...\n",
      "counting mu2b ...\n",
      "counting e1b ...\n",
      "counting e2b ...\n",
      "counting finished!\n",
      "counting mu1b ...\n",
      "counting mu2b ...\n",
      "counting e1b ...\n",
      "counting e2b ...\n",
      "counting finished!\n",
      "counting mu1b ...\n",
      "counting mu2b ...\n",
      "counting e1b ...\n",
      "counting e2b ...\n",
      "counting finished!\n",
      "counting mu1b ...\n",
      "counting mu2b ...\n",
      "counting e1b ...\n",
      "counting e2b ...\n",
      "counting finished!\n",
      "counting mu1b ...\n",
      "counting mu2b ...\n",
      "counting e1b ...\n",
      "counting e2b ...\n",
      "counting finished!\n",
      "counting mu1b ...\n",
      "counting mu2b ...\n",
      "counting e1b ...\n",
      "counting e2b ...\n",
      "counting finished!\n",
      "counting mu1b ...\n",
      "counting mu2b ...\n",
      "counting e1b ...\n",
      "counting e2b ...\n",
      "counting finished!\n",
      "counting mu1b ...\n",
      "counting mu2b ...\n",
      "counting e1b ...\n",
      "counting e2b ...\n",
      "counting finished!\n",
      "counting mu1b ...\n",
      "counting mu2b ...\n",
      "counting e1b ...\n",
      "counting e2b ...\n",
      "counting finished!\n",
      "counting mu1b ...\n",
      "counting mu2b ...\n",
      "counting e1b ...\n",
      "counting e2b ...\n",
      "counting finished!\n",
      "counting mu1b ...\n",
      "counting mu2b ...\n",
      "counting e1b ...\n",
      "counting e2b ...\n",
      "counting finished!\n",
      "counting mu1b ...\n",
      "counting mu2b ...\n",
      "counting e1b ...\n",
      "counting e2b ...\n",
      "counting finished!\n",
      "counting mu1b ...\n",
      "counting mu2b ...\n",
      "counting e1b ...\n",
      "counting e2b ...\n",
      "counting finished!\n",
      "counting mu1b ...\n",
      "counting mu2b ...\n",
      "counting e1b ...\n",
      "counting e2b ...\n",
      "counting finished!\n",
      "counting mu1b ...\n",
      "counting mu2b ...\n",
      "counting e1b ...\n",
      "counting e2b ...\n",
      "counting finished!\n",
      "counting mu1b ...\n",
      "counting mu2b ...\n",
      "counting e1b ...\n",
      "counting e2b ...\n",
      "counting finished!\n",
      "counting mu1b ...\n",
      "counting mu2b ...\n",
      "counting e1b ...\n",
      "counting e2b ...\n",
      "counting finished!\n",
      "counting mu1b ...\n",
      "counting mu2b ...\n",
      "counting e1b ...\n",
      "counting e2b ...\n",
      "counting finished!\n",
      "counting mu1b ...\n",
      "counting mu2b ...\n",
      "counting e1b ...\n",
      "counting e2b ...\n",
      "counting finished!\n",
      "counting mu1b ...\n",
      "counting mu2b ...\n",
      "counting e1b ...\n",
      "counting e2b ...\n",
      "counting finished!\n",
      "counting mu1b ...\n",
      "counting mu2b ...\n",
      "counting e1b ...\n",
      "counting e2b ...\n",
      "counting finished!\n"
     ]
    }
   ],
   "source": [
    "ttTheory    = ['FSRUp','FSRDown','ISRUp','ISRDown','UEUp','UEDown','MEPSUp','MEPSDown']\n",
    "ttLHEWeight = [\"RenormUp\",\"RenormDown\",\"FactorUp\",\"FactorDown\",\"PDFUp\",\"PDFDown\"]\n",
    "\n",
    "lepEnergy   = ['EPtDown','MuPtDown','TauPtDown']\n",
    "jetEnergy   = [\"JESUp\",\"JESDown\",\"JERUp\",\"JERDown\"]\n",
    "bTagging    = [\"BTagUp\",\"BTagDown\",\"MistagUp\",\"MistagDown\"]\n",
    "\n",
    "variations  = ttTheory+ttLHEWeight+lepEnergy+jetEnergy+bTagging\n",
    "for v in variations:\n",
    "    countDataFrames(v)"
   ]
  }
 ],
 "metadata": {
  "kernelspec": {
   "display_name": "Python 3",
   "language": "python",
   "name": "python3"
  },
  "language_info": {
   "codemirror_mode": {
    "name": "ipython",
    "version": 3
   },
   "file_extension": ".py",
   "mimetype": "text/x-python",
   "name": "python",
   "nbconvert_exporter": "python",
   "pygments_lexer": "ipython3",
   "version": "3.6.4"
  }
 },
 "nbformat": 4,
 "nbformat_minor": 2
}
