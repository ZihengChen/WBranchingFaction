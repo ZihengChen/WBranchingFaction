{
 "cells": [
  {
   "cell_type": "code",
   "execution_count": 1,
   "metadata": {},
   "outputs": [],
   "source": [
    "from utility_dfcounter import *"
   ]
  },
  {
   "cell_type": "markdown",
   "metadata": {},
   "source": [
    "## 1. count nominal"
   ]
  },
  {
   "cell_type": "code",
   "execution_count": 2,
   "metadata": {},
   "outputs": [
    {
     "name": "stdout",
     "output_type": "stream",
     "text": [
      "counting finished!\n"
     ]
    }
   ],
   "source": [
    "countDataFrames()"
   ]
  },
  {
   "cell_type": "code",
   "execution_count": 3,
   "metadata": {},
   "outputs": [
    {
     "name": "stdout",
     "output_type": "stream",
     "text": [
      "counting finished!\n",
      "counting finished!\n",
      "counting finished!\n",
      "counting finished!\n",
      "counting finished!\n",
      "counting finished!\n",
      "counting finished!\n",
      "counting finished!\n",
      "counting finished!\n",
      "counting finished!\n",
      "counting finished!\n",
      "counting finished!\n",
      "counting finished!\n",
      "counting finished!\n",
      "counting finished!\n",
      "counting finished!\n",
      "counting finished!\n",
      "counting finished!\n",
      "counting finished!\n",
      "counting finished!\n",
      "counting finished!\n",
      "counting finished!\n",
      "counting finished!\n",
      "counting finished!\n",
      "counting finished!\n"
     ]
    }
   ],
   "source": [
    "ttTheory    = ['fsrup','fsrdown','isrup','isrdown','up','down','hdampdown','hdampup']\n",
    "ttLHEWeight = [\"RenormUp\",\"RenormDown\",\"FactorUp\",\"FactorDown\",\"PDFUp\",\"PDFDown\"]\n",
    "\n",
    "lepEnergy   = ['EPtDown','MuPtDown','TauPtDown']\n",
    "jetEnergy   = [\"JESUp\",\"JESDown\",\"JERUp\",\"JERDown\"]\n",
    "bTagging    = [\"BTagUp\",\"BTagDown\",\"MistagUp\",\"MistagDown\"]\n",
    "\n",
    "variations  = ttTheory+ttLHEWeight+lepEnergy+jetEnergy+bTagging\n",
    "for v in variations:\n",
    "    countDataFrames(v)"
   ]
  },
  {
   "cell_type": "code",
   "execution_count": null,
   "metadata": {},
   "outputs": [],
   "source": []
  }
 ],
 "metadata": {
  "kernelspec": {
   "display_name": "Python 3",
   "language": "python",
   "name": "python3"
  },
  "language_info": {
   "codemirror_mode": {
    "name": "ipython",
    "version": 3
   },
   "file_extension": ".py",
   "mimetype": "text/x-python",
   "name": "python",
   "nbconvert_exporter": "python",
   "pygments_lexer": "ipython3",
   "version": "3.6.4"
  }
 },
 "nbformat": 4,
 "nbformat_minor": 2
}
