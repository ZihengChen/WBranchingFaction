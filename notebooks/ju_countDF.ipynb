{
 "cells": [
  {
   "cell_type": "code",
   "execution_count": 1,
   "metadata": {},
   "outputs": [],
   "source": [
    "from utility_dfcounter import *\n",
    "from utility_dfcutter import *"
   ]
  },
  {
   "cell_type": "markdown",
   "metadata": {},
   "source": [
    "# 1. count nominal"
   ]
  },
  {
   "cell_type": "code",
   "execution_count": 2,
   "metadata": {},
   "outputs": [],
   "source": [
    "def countDataFrames(variation=\"\"):\n",
    "    labels  = [\"trigger\",\"usetag\",\"acc\",\"accVar\",\"nmcbg\",\"nmcbgVar\",\"nfake\",\"nfakeVar\",\"ndata\",\"ndataVar\"]\n",
    "    records = []\n",
    "    \n",
    "    for trigger in [\"mu\",\"e\"]:\n",
    "        for usetag in [\"1b\",\"2b\"]:\n",
    "            \n",
    "            print( \"counting \"+trigger+usetag + \" ...\")\n",
    "\n",
    "            counter = DFCounter(trigger,usetag)\n",
    "            counter.setVariation(variation)\n",
    "\n",
    "            acc,accVar = counter.returnAcc()\n",
    "            nmcbg,nmcbgVar = counter.returnNMCbg()\n",
    "            nfake,nfakeVar = counter.returnNFake()\n",
    "            ndata,ndataVar = counter.returnNData()\n",
    "            records.append( (trigger,usetag,acc,accVar,nmcbg,nmcbgVar,nfake,nfakeVar,ndata,ndataVar) )\n",
    "\n",
    "    df = pd.DataFrame.from_records(records, columns=labels)\n",
    "    df.to_pickle( common.getBaseDirectory() + \"data/counts/count_{}.pkl\".format(variation))\n",
    "    print( \"counting finished!\")"
   ]
  },
  {
   "cell_type": "code",
   "execution_count": 3,
   "metadata": {},
   "outputs": [],
   "source": [
    "#countDataFrames()"
   ]
  },
  {
   "cell_type": "markdown",
   "metadata": {},
   "source": [
    "# 2. count with variation"
   ]
  },
  {
   "cell_type": "code",
   "execution_count": 4,
   "metadata": {},
   "outputs": [],
   "source": [
    "import multiprocessing as mp\n",
    "\n",
    "def runCountDataFrames(vlist):\n",
    "    processes = []\n",
    "    for v in vlist:\n",
    "        processes.append(mp.Process(target=countDataFrames,args=(v,)))\n",
    "    for ps in processes:\n",
    "        ps.start()\n",
    "    for ps in processes:\n",
    "        ps.join()"
   ]
  },
  {
   "cell_type": "code",
   "execution_count": 5,
   "metadata": {},
   "outputs": [
    {
     "name": "stdout",
     "output_type": "stream",
     "text": [
      "counting mu1b ...\n",
      "counting mu1b ...\n",
      "counting mu1b ...\n",
      "counting mu1b ...\n",
      "counting mu2b ...\n",
      "counting mu2b ...\n",
      "counting mu2b ...\n",
      "counting mu2b ...\n",
      "counting e1b ...\n",
      "counting e1b ...\n",
      "counting e1b ...\n",
      "counting e1b ...\n",
      "counting e2b ...\n",
      "counting e2b ...\n",
      "counting e2b ...\n",
      "counting e2b ...\n",
      "counting finished!\n",
      "counting finished!\n",
      "counting finished!\n",
      "counting finished!\n",
      "counting mu1b ...\n",
      "counting mu1b ...\n",
      "counting mu1b ...\n",
      "counting mu1b ...\n",
      "counting mu2b ...\n",
      "counting mu2b ...\n",
      "counting mu2b ...\n",
      "counting mu2b ...\n",
      "counting e1b ...\n",
      "counting e1b ...\n",
      "counting e1b ...\n",
      "counting e1b ...\n",
      "counting e2b ...\n",
      "counting e2b ...\n",
      "counting e2b ...\n",
      "counting e2b ...\n",
      "counting finished!\n",
      "counting finished!\n",
      "counting finished!\n",
      "counting finished!\n",
      "counting mu1b ...\n",
      "counting mu1b ...\n",
      "counting mu1b ...\n",
      "counting mu1b ...\n",
      "counting mu2b ...\n",
      "counting mu2b ...\n",
      "counting mu2b ...\n",
      "counting mu2b ...\n",
      "counting e1b ...\n",
      "counting e1b ...\n",
      "counting e1b ...\n",
      "counting e1b ...\n",
      "counting e2b ...\n",
      "counting e2b ...\n",
      "counting e2b ...\n",
      "counting e2b ...\n",
      "counting finished!\n",
      "counting finished!\n",
      "counting finished!\n",
      "counting finished!\n",
      "counting mu1b ...\n",
      "counting mu1b ...\n",
      "counting mu1b ...\n",
      "counting mu1b ...\n",
      "counting mu2b ...\n",
      "counting mu2b ...\n",
      "counting mu2b ...\n",
      "counting mu2b ...\n",
      "counting e1b ...\n",
      "counting e1b ...\n",
      "counting e1b ...\n",
      "counting e1b ...\n",
      "counting e2b ...\n",
      "counting e2b ...\n",
      "counting e2b ...\n",
      "counting e2b ...\n",
      "counting finished!\n",
      "counting finished!\n",
      "counting finished!\n",
      "counting finished!\n"
     ]
    }
   ],
   "source": [
    "runCountDataFrames([\"PDFUp\",\"PDFDown\",\"TTXSUp\",\"TWXSUp\"]) # ttLHEWeight\n",
    "runCountDataFrames(['EPtDown','MuPtDown','TauPtDown',\"\"]) # lepEnergy\n",
    "runCountDataFrames([\"JESUp\",\"JESDown\",\"JERUp\",\"JERDown\"]) # jetEnergy\n",
    "runCountDataFrames([\"BTagUp\",\"BTagDown\",\"MistagUp\",\"MistagDown\"]) # bTagging\n",
    "\n",
    "# runCountDataFrames(['FSRUp','FSRDown','ISRUp','ISRDown']) # ttTheory\n",
    "# runCountDataFrames(['UEUp','UEDown','MEPSUp','MEPSDown']) # ttTheory\n",
    "# runCountDataFrames([\"RenormUp\",\"RenormDown\",\"FactorUp\",\"FactorDown\"]) # ttLHEWeight"
   ]
  },
  {
   "cell_type": "code",
   "execution_count": null,
   "metadata": {},
   "outputs": [],
   "source": []
  },
  {
   "cell_type": "code",
   "execution_count": null,
   "metadata": {},
   "outputs": [],
   "source": []
  },
  {
   "cell_type": "code",
   "execution_count": null,
   "metadata": {},
   "outputs": [],
   "source": []
  },
  {
   "cell_type": "code",
   "execution_count": null,
   "metadata": {},
   "outputs": [],
   "source": []
  },
  {
   "cell_type": "markdown",
   "metadata": {},
   "source": [
    "### [Backup] Count uncertainty of Tau acc"
   ]
  },
  {
   "cell_type": "code",
   "execution_count": 4,
   "metadata": {},
   "outputs": [
    {
     "data": {
      "text/plain": [
       "1.0798866495826887"
      ]
     },
     "execution_count": 4,
     "metadata": {},
     "output_type": "execute_result"
    }
   ],
   "source": [
    "# jet misID\n",
    "df = DFCutter('etau','>1',\"mctt\").getDataFrame()\n",
    "np.sum( df.eventWeight*(1+0.002*df.lepton2_pt) )/ np.sum(df.eventWeight)"
   ]
  },
  {
   "cell_type": "markdown",
   "metadata": {},
   "source": [
    "### [Backup] Print the Expect Yields Table"
   ]
  },
  {
   "cell_type": "code",
   "execution_count": 5,
   "metadata": {},
   "outputs": [
    {
     "name": "stdout",
     "output_type": "stream",
     "text": [
      " 11663.0 +/- 45.3\n",
      "   710.4 +/- 29.3\n",
      "   178.6 +/- 20.6\n",
      "   325.6 +/- 51.1\n",
      "    15.5 +/-  1.2\n",
      "   518.6 +/- 64.1\n",
      " 13411.7 +/- 100.3\n",
      " 13225.0 +/- 115.0\n"
     ]
    }
   ],
   "source": [
    "ct = DFCounter('e','1b')\n",
    "selection = 'etau'\n",
    "\n",
    "total,totalVar = 0,0\n",
    "\n",
    "\n",
    "df = DFCutter(selection,ct.nbjet,\"mctt\").getDataFrame()\n",
    "n,nVar = np.sum(df.eventWeight),np.sum(df.eventWeight**2)\n",
    "print(\"{:8.1f} +/- {:4.1f}\".format(n,nVar**0.5) )\n",
    "total += n\n",
    "totalVar += nVar\n",
    "\n",
    "df = DFCutter(selection,ct.nbjet,\"mct\").getDataFrame()\n",
    "n,nVar = np.sum(df.eventWeight),np.sum(df.eventWeight**2)\n",
    "print(\"{:8.1f} +/- {:4.1f}\".format(n,nVar**0.5) )\n",
    "total += n\n",
    "totalVar += nVar\n",
    "\n",
    "df = DFCutter(selection,ct.nbjet,\"mcw\").getDataFrame()\n",
    "n,nVar = np.sum(df.eventWeight),np.sum(df.eventWeight**2)\n",
    "print(\"{:8.1f} +/- {:4.1f}\".format(n,nVar**0.5) )\n",
    "total += n\n",
    "totalVar += nVar\n",
    "\n",
    "df = DFCutter(selection,ct.nbjet,\"mcz\").getDataFrame()\n",
    "n,nVar = np.sum(df.eventWeight),np.sum(df.eventWeight**2)\n",
    "print(\"{:8.1f} +/- {:4.1f}\".format(n,nVar**0.5) )\n",
    "total += n\n",
    "totalVar += nVar\n",
    "\n",
    "df = DFCutter(selection,ct.nbjet,\"mcdiboson\").getDataFrame()\n",
    "n,nVar = np.sum(df.eventWeight),np.sum(df.eventWeight**2)\n",
    "print(\"{:8.1f} +/- {:4.1f}\".format(n,nVar**0.5) )\n",
    "total += n\n",
    "totalVar += nVar\n",
    "\n",
    "n, nVar = ct.getNFake(selection,ct.nbjet)\n",
    "print(\"{:8.1f} +/- {:4.1f}\".format(n,nVar**0.5) )\n",
    "total += n\n",
    "totalVar += nVar\n",
    "\n",
    "print(\"{:8.1f} +/- {:4.1f}\".format(total,totalVar**0.5) )\n",
    "df = DFCutter(selection,ct.nbjet,\"data2016\").getDataFrame()\n",
    "print(\"{:8.1f} +/- {:4.1f}\".format(np.sum(df.eventWeight),np.sum(df.eventWeight**2)**0.5) )"
   ]
  },
  {
   "cell_type": "code",
   "execution_count": null,
   "metadata": {},
   "outputs": [],
   "source": []
  }
 ],
 "metadata": {
  "kernelspec": {
   "display_name": "Python 3",
   "language": "python",
   "name": "python3"
  },
  "language_info": {
   "codemirror_mode": {
    "name": "ipython",
    "version": 3
   },
   "file_extension": ".py",
   "mimetype": "text/x-python",
   "name": "python",
   "nbconvert_exporter": "python",
   "pygments_lexer": "ipython3",
   "version": "3.6.4"
  }
 },
 "nbformat": 4,
 "nbformat_minor": 2
}
