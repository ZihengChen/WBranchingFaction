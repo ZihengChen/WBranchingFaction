{
 "cells": [
  {
   "cell_type": "code",
   "execution_count": 6,
   "metadata": {},
   "outputs": [],
   "source": [
    "from utility_dfcounter import *"
   ]
  },
  {
   "cell_type": "markdown",
   "metadata": {},
   "source": [
    "## 1. count nominal"
   ]
  },
  {
   "cell_type": "code",
   "execution_count": 2,
   "metadata": {},
   "outputs": [],
   "source": [
    "def countDataFrames(variation=\"\"):\n",
    "    labels  = [\"trigger\",\"usetag\",\"acc\",\"accVar\",\"nmcbg\",\"nmcbgVar\",\"nfake\",\"nfakeVar\",\"ndata\",\"ndataVar\"]\n",
    "    records = []\n",
    "    \n",
    "    for trigger in [\"mu\",\"e\"]:\n",
    "        for usetag in [\"1b\",\"2b\"]:\n",
    "            \n",
    "            print( \"counting \"+trigger+usetag + \" ...\")\n",
    "\n",
    "            counter = DFCounter(trigger,usetag)\n",
    "            counter.setVariation(variation)\n",
    "\n",
    "            acc,accVar = counter.returnAcc()\n",
    "            nmcbg,nmcbgVar = counter.returnNMCbg()\n",
    "            nfake,nfakeVar = counter.returnNFake()\n",
    "            ndata,ndataVar = counter.returnNData()\n",
    "            records.append( (trigger,usetag,acc,accVar,nmcbg,nmcbgVar,nfake,nfakeVar,ndata,ndataVar) )\n",
    "\n",
    "    df = pd.DataFrame.from_records(records, columns=labels)\n",
    "    df.to_pickle( common.getBaseDirectory() + \"data/counts/count_{}.pkl\".format(variation))\n",
    "    print( \"counting finished!\")\n",
    "    \n",
    "def countDataFrames_selection(variation=\"\"):\n",
    "    labels  = [\"selection\",\"nbjet\",\"acc\",\"accVar\",\"nmcbg\",\"nmcbgVar\",\"nfake\",\"nfakeVar\",\"ndata\",\"ndataVar\"]\n",
    "    records = []\n",
    "    \n",
    "    for selection in [\"mumu\",\"ee\"]:\n",
    "        for nbjet in [\"==1\",\">1\"]:\n",
    "\n",
    "            counter = DFCounter_selection(selection,nbjet)\n",
    "            counter.setVariation(variation)\n",
    "\n",
    "            acc,accVar = counter.returnAcc()\n",
    "            nmcbg,nmcbgVar = counter.returnNMCbg()\n",
    "            nfake,nfakeVar = np.zeros(2), np.zeros(2)\n",
    "            ndata,ndataVar = counter.returnNData()\n",
    "            records.append( (selection,nbjet,acc,accVar,nmcbg,nmcbgVar,nfake,nfakeVar,ndata,ndataVar) )\n",
    "\n",
    "    df = pd.DataFrame.from_records(records, columns=labels)\n",
    "    df.to_pickle( common.getBaseDirectory() + \"data/counts/DNNcount_{}.pkl\".format(variation))\n",
    "    print( \"counting finished!\")"
   ]
  },
  {
   "cell_type": "code",
   "execution_count": 3,
   "metadata": {},
   "outputs": [],
   "source": [
    "#countDataFrames()"
   ]
  },
  {
   "cell_type": "markdown",
   "metadata": {},
   "source": [
    "## 2. count with variation"
   ]
  },
  {
   "cell_type": "code",
   "execution_count": 4,
   "metadata": {},
   "outputs": [],
   "source": [
    "import multiprocessing as mp\n",
    "\n",
    "def runCountDataFrames(vlist):\n",
    "    processes = []\n",
    "    for v in vlist:\n",
    "        processes.append(mp.Process(target=countDataFrames,args=(v,)))\n",
    "    for ps in processes:\n",
    "        ps.start()\n",
    "    for ps in processes:\n",
    "        ps.join()"
   ]
  },
  {
   "cell_type": "code",
   "execution_count": 5,
   "metadata": {},
   "outputs": [
    {
     "name": "stdout",
     "output_type": "stream",
     "text": [
      "counting mu1b ...\n",
      "counting mu1b ...\n",
      "counting mu1b ...\n",
      "counting mu1b ...\n"
     ]
    },
    {
     "name": "stderr",
     "output_type": "stream",
     "text": [
      "ERROR:root:Internal Python error in the inspect module.\n",
      "Below is the traceback from this internal error.\n",
      "\n"
     ]
    },
    {
     "name": "stdout",
     "output_type": "stream",
     "text": [
      "Traceback (most recent call last):\n",
      "  File \"/Users/zihengchen/anaconda3/lib/python3.6/site-packages/IPython/core/interactiveshell.py\", line 2910, in run_code\n",
      "    exec(code_obj, self.user_global_ns, self.user_ns)\n",
      "  File \"<ipython-input-5-7a86cfb6aa76>\", line 11, in <module>\n",
      "    runCountDataFrames([\"RenormUp\",\"RenormDown\",\"FactorUp\",\"FactorDown\"]) # ttLHEWeight\n",
      "  File \"<ipython-input-4-7d38c1982ffd>\", line 10, in runCountDataFrames\n",
      "    ps.join()\n",
      "  File \"/Users/zihengchen/anaconda3/lib/python3.6/multiprocessing/process.py\", line 124, in join\n",
      "    res = self._popen.wait(timeout)\n",
      "  File \"/Users/zihengchen/anaconda3/lib/python3.6/multiprocessing/popen_fork.py\", line 57, in wait\n",
      "    return self.poll(os.WNOHANG if timeout == 0.0 else 0)\n",
      "  File \"/Users/zihengchen/anaconda3/lib/python3.6/multiprocessing/popen_fork.py\", line 35, in poll\n",
      "    pid, sts = os.waitpid(self.pid, flag)\n",
      "KeyboardInterrupt\n",
      "\n",
      "During handling of the above exception, another exception occurred:\n",
      "\n",
      "Traceback (most recent call last):\n",
      "  File \"/Users/zihengchen/anaconda3/lib/python3.6/site-packages/IPython/core/interactiveshell.py\", line 1828, in showtraceback\n",
      "    stb = value._render_traceback_()\n",
      "AttributeError: 'KeyboardInterrupt' object has no attribute '_render_traceback_'\n",
      "\n",
      "During handling of the above exception, another exception occurred:\n",
      "\n",
      "Traceback (most recent call last):\n",
      "  File \"/Users/zihengchen/anaconda3/lib/python3.6/site-packages/IPython/core/ultratb.py\", line 1090, in get_records\n",
      "    return _fixed_getinnerframes(etb, number_of_lines_of_context, tb_offset)\n",
      "  File \"/Users/zihengchen/anaconda3/lib/python3.6/site-packages/IPython/core/ultratb.py\", line 311, in wrapped\n",
      "    return f(*args, **kwargs)\n",
      "  File \"/Users/zihengchen/anaconda3/lib/python3.6/site-packages/IPython/core/ultratb.py\", line 345, in _fixed_getinnerframes\n",
      "    records = fix_frame_records_filenames(inspect.getinnerframes(etb, context))\n",
      "  File \"/Users/zihengchen/anaconda3/lib/python3.6/inspect.py\", line 1483, in getinnerframes\n",
      "    frameinfo = (tb.tb_frame,) + getframeinfo(tb, context)\n",
      "  File \"/Users/zihengchen/anaconda3/lib/python3.6/inspect.py\", line 1441, in getframeinfo\n",
      "    filename = getsourcefile(frame) or getfile(frame)\n",
      "  File \"/Users/zihengchen/anaconda3/lib/python3.6/inspect.py\", line 696, in getsourcefile\n",
      "    if getattr(getmodule(object, filename), '__loader__', None) is not None:\n",
      "  File \"/Users/zihengchen/anaconda3/lib/python3.6/inspect.py\", line 742, in getmodule\n",
      "    os.path.realpath(f)] = module.__name__\n",
      "KeyboardInterrupt\n"
     ]
    },
    {
     "ename": "KeyboardInterrupt",
     "evalue": "",
     "output_type": "error",
     "traceback": [
      "\u001b[0;31m---------------------------------------------------------------------------\u001b[0m"
     ]
    },
    {
     "name": "stderr",
     "output_type": "stream",
     "text": [
      "Process Process-2:\n",
      "Process Process-4:\n",
      "Process Process-1:\n",
      "Process Process-3:\n",
      "Traceback (most recent call last):\n",
      "Traceback (most recent call last):\n",
      "Traceback (most recent call last):\n",
      "Traceback (most recent call last):\n",
      "  File \"/Users/zihengchen/anaconda3/lib/python3.6/multiprocessing/process.py\", line 258, in _bootstrap\n",
      "    self.run()\n",
      "  File \"/Users/zihengchen/anaconda3/lib/python3.6/multiprocessing/process.py\", line 258, in _bootstrap\n",
      "    self.run()\n",
      "  File \"/Users/zihengchen/anaconda3/lib/python3.6/multiprocessing/process.py\", line 258, in _bootstrap\n",
      "    self.run()\n",
      "  File \"/Users/zihengchen/anaconda3/lib/python3.6/multiprocessing/process.py\", line 93, in run\n",
      "    self._target(*self._args, **self._kwargs)\n",
      "  File \"/Users/zihengchen/anaconda3/lib/python3.6/multiprocessing/process.py\", line 258, in _bootstrap\n",
      "    self.run()\n",
      "  File \"<ipython-input-2-3d5c8e38773c>\", line 13, in countDataFrames\n",
      "    acc,accVar = counter.returnAcc()\n",
      "  File \"/Users/zihengchen/anaconda3/lib/python3.6/multiprocessing/process.py\", line 93, in run\n",
      "    self._target(*self._args, **self._kwargs)\n",
      "  File \"/Users/zihengchen/anaconda3/lib/python3.6/multiprocessing/process.py\", line 93, in run\n",
      "    self._target(*self._args, **self._kwargs)\n",
      "  File \"<ipython-input-2-3d5c8e38773c>\", line 13, in countDataFrames\n",
      "    acc,accVar = counter.returnAcc()\n",
      "  File \"<ipython-input-2-3d5c8e38773c>\", line 13, in countDataFrames\n",
      "    acc,accVar = counter.returnAcc()\n",
      "  File \"/Users/zihengchen/anaconda3/lib/python3.6/multiprocessing/process.py\", line 93, in run\n",
      "    self._target(*self._args, **self._kwargs)\n",
      "  File \"/Users/zihengchen/Documents/Analysis/workplace/scripts/utility_dfcounter.py\", line 56, in returnAcc\n",
      "    temp,tempVar = self.getAcc(slt,self.nbjet, enhanceStat)\n",
      "  File \"<ipython-input-2-3d5c8e38773c>\", line 13, in countDataFrames\n",
      "    acc,accVar = counter.returnAcc()\n",
      "  File \"/Users/zihengchen/Documents/Analysis/workplace/scripts/utility_dfcounter.py\", line 186, in getAcc\n",
      "    nGenMCtt_2l2nu = self.dfNGen[self.dfNGen.name=='tt_2l2nu'].ngen.values[0]\n",
      "  File \"/Users/zihengchen/Documents/Analysis/workplace/scripts/utility_dfcounter.py\", line 56, in returnAcc\n",
      "    temp,tempVar = self.getAcc(slt,self.nbjet, enhanceStat)\n",
      "IndexError: index 0 is out of bounds for axis 0 with size 0\n",
      "  File \"/Users/zihengchen/Documents/Analysis/workplace/scripts/utility_dfcounter.py\", line 56, in returnAcc\n",
      "    temp,tempVar = self.getAcc(slt,self.nbjet, enhanceStat)\n",
      "  File \"/Users/zihengchen/Documents/Analysis/workplace/scripts/utility_dfcounter.py\", line 186, in getAcc\n",
      "    nGenMCtt_2l2nu = self.dfNGen[self.dfNGen.name=='tt_2l2nu'].ngen.values[0]\n",
      "  File \"/Users/zihengchen/Documents/Analysis/workplace/scripts/utility_dfcounter.py\", line 56, in returnAcc\n",
      "    temp,tempVar = self.getAcc(slt,self.nbjet, enhanceStat)\n",
      "IndexError: index 0 is out of bounds for axis 0 with size 0\n",
      "  File \"/Users/zihengchen/Documents/Analysis/workplace/scripts/utility_dfcounter.py\", line 186, in getAcc\n",
      "    nGenMCtt_2l2nu = self.dfNGen[self.dfNGen.name=='tt_2l2nu'].ngen.values[0]\n",
      "  File \"/Users/zihengchen/Documents/Analysis/workplace/scripts/utility_dfcounter.py\", line 186, in getAcc\n",
      "    nGenMCtt_2l2nu = self.dfNGen[self.dfNGen.name=='tt_2l2nu'].ngen.values[0]\n",
      "IndexError: index 0 is out of bounds for axis 0 with size 0\n",
      "IndexError: index 0 is out of bounds for axis 0 with size 0\n"
     ]
    }
   ],
   "source": [
    "# runCountDataFrames(['EPtDown','MuPtDown','TauPtDown',\"TTXSUp\",\"TWXSUp\",\"\",\n",
    "#                     \"JESUp\",\"JESDown\",\"JERUp\",\"JERDown\",\n",
    "#                     \"BTagUp\",\"BTagDown\",\"MistagUp\",\"MistagDown\"]) \n",
    "\n",
    "# runCountDataFrames([\"RenormUp\",\"RenormDown\",\"FactorUp\",\"FactorDown\",\"PDFUp\",\"PDFDown\",\n",
    "#                     'FSRUp','FSRDown','ISRUp','ISRDown','UEUp','UEDown','MEPSUp','MEPSDown']) \n",
    "\n",
    "# runCountDataFrames(['FSRUp','FSRDown','ISRUp','ISRDown']) # ttTheory\n",
    "# runCountDataFrames(['UEUp','UEDown','MEPSUp','MEPSDown']) # ttTheory\n",
    "\n",
    "runCountDataFrames([\"RenormUp\",\"RenormDown\",\"FactorUp\",\"FactorDown\"]) # ttLHEWeight\n",
    "runCountDataFrames([\"PDFUp\",\"PDFDown\",\"TTXSUp\",\"TWXSUp\"]) # ttLHEWeight\n",
    "\n",
    "runCountDataFrames(['EPtDown','MuPtDown','TauPtDown',\"\"]) # lepEnergy\n",
    "runCountDataFrames([\"JESUp\",\"JESDown\",\"JERUp\",\"JERDown\"]) # jetEnergy\n",
    "runCountDataFrames([\"BTagUp\",\"BTagDown\",\"MistagUp\",\"MistagDown\"]) # bTagging"
   ]
  },
  {
   "cell_type": "markdown",
   "metadata": {},
   "source": [
    "## 3. Count uncertainty of Tau acc"
   ]
  },
  {
   "cell_type": "code",
   "execution_count": 6,
   "metadata": {},
   "outputs": [
    {
     "data": {
      "text/plain": [
       "1.0798576525660608"
      ]
     },
     "execution_count": 6,
     "metadata": {},
     "output_type": "execute_result"
    }
   ],
   "source": [
    "# jet misID\n",
    "df = DFCutter('etau','>1',\"mctt\").getDataFrame()\n",
    "np.sum( df.eventWeight*(1+0.002*df.lepton2_pt) )/ np.sum(df.eventWeight)"
   ]
  },
  {
   "cell_type": "markdown",
   "metadata": {},
   "source": [
    "# 4. Print the Expect Yields Table"
   ]
  },
  {
   "cell_type": "code",
   "execution_count": 7,
   "metadata": {},
   "outputs": [
    {
     "name": "stdout",
     "output_type": "stream",
     "text": [
      "125501.3 +/- 154.3\n",
      "  3473.0 +/- 67.3\n",
      "  1831.1 +/- 61.9\n",
      "  1088.9 +/- 93.2\n",
      "    54.4 +/-  1.0\n",
      "  1489.0 +/- 17.5\n",
      "133437.7 +/- 202.9\n",
      "132564.0 +/- 364.1\n"
     ]
    }
   ],
   "source": [
    "ct = DFCounter('e','2b')\n",
    "selection = 'e4j'\n",
    "\n",
    "total,totalVar = 0,0\n",
    "\n",
    "\n",
    "df = DFCutter(selection,ct.nbjet,\"mctt\").getDataFrame()\n",
    "n,nVar = np.sum(df.eventWeight),np.sum(df.eventWeight**2)\n",
    "print(\"{:8.1f} +/- {:4.1f}\".format(n,nVar**0.5) )\n",
    "total += n\n",
    "totalVar += nVar\n",
    "\n",
    "df = DFCutter(selection,ct.nbjet,\"mct\").getDataFrame()\n",
    "n,nVar = np.sum(df.eventWeight),np.sum(df.eventWeight**2)\n",
    "print(\"{:8.1f} +/- {:4.1f}\".format(n,nVar**0.5) )\n",
    "total += n\n",
    "totalVar += nVar\n",
    "\n",
    "df = DFCutter(selection,ct.nbjet,\"mcw\").getDataFrame()\n",
    "n,nVar = np.sum(df.eventWeight),np.sum(df.eventWeight**2)\n",
    "print(\"{:8.1f} +/- {:4.1f}\".format(n,nVar**0.5) )\n",
    "total += n\n",
    "totalVar += nVar\n",
    "\n",
    "df = DFCutter(selection,ct.nbjet,\"mcz\").getDataFrame()\n",
    "n,nVar = np.sum(df.eventWeight),np.sum(df.eventWeight**2)\n",
    "print(\"{:8.1f} +/- {:4.1f}\".format(n,nVar**0.5) )\n",
    "total += n\n",
    "totalVar += nVar\n",
    "\n",
    "df = DFCutter(selection,ct.nbjet,\"mcdiboson\").getDataFrame()\n",
    "n,nVar = np.sum(df.eventWeight),np.sum(df.eventWeight**2)\n",
    "print(\"{:8.1f} +/- {:4.1f}\".format(n,nVar**0.5) )\n",
    "total += n\n",
    "totalVar += nVar\n",
    "\n",
    "n, nVar = ct.getNFake(selection,ct.nbjet)\n",
    "print(\"{:8.1f} +/- {:4.1f}\".format(n,nVar**0.5) )\n",
    "total += n\n",
    "totalVar += nVar\n",
    "\n",
    "print(\"{:8.1f} +/- {:4.1f}\".format(total,totalVar**0.5) )\n",
    "df = DFCutter(selection,ct.nbjet,\"data2016\").getDataFrame()\n",
    "print(\"{:8.1f} +/- {:4.1f}\".format(np.sum(df.eventWeight),np.sum(df.eventWeight**2)**0.5) )"
   ]
  },
  {
   "cell_type": "code",
   "execution_count": null,
   "metadata": {},
   "outputs": [],
   "source": []
  },
  {
   "cell_type": "markdown",
   "metadata": {},
   "source": [
    "# 5. Summarize Counts"
   ]
  },
  {
   "cell_type": "code",
   "execution_count": 7,
   "metadata": {},
   "outputs": [],
   "source": [
    "counts = summaryCounts()\n",
    "counts.to_pickle( common.getBaseDirectory() + \"data/counts/count_summary.pkl\")"
   ]
  },
  {
   "cell_type": "code",
   "execution_count": null,
   "metadata": {},
   "outputs": [],
   "source": []
  }
 ],
 "metadata": {
  "kernelspec": {
   "display_name": "Python 3",
   "language": "python",
   "name": "python3"
  },
  "language_info": {
   "codemirror_mode": {
    "name": "ipython",
    "version": 3
   },
   "file_extension": ".py",
   "mimetype": "text/x-python",
   "name": "python",
   "nbconvert_exporter": "python",
   "pygments_lexer": "ipython3",
   "version": "3.6.4"
  }
 },
 "nbformat": 4,
 "nbformat_minor": 2
}
