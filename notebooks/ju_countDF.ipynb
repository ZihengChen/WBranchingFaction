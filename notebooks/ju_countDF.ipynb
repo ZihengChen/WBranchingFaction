{
 "cells": [
  {
   "cell_type": "code",
   "execution_count": 4,
   "metadata": {},
   "outputs": [],
   "source": [
    "from utility_dfcounter import *"
   ]
  },
  {
   "cell_type": "markdown",
   "metadata": {},
   "source": [
    "## 1. count nominal"
   ]
  },
  {
   "cell_type": "code",
   "execution_count": 2,
   "metadata": {},
   "outputs": [],
   "source": [
    "def countDataFrames(variation=\"\"):\n",
    "    labels  = [\"trigger\",\"usetag\",\"acc\",\"accVar\",\"nmcbg\",\"nmcbgVar\",\"nfake\",\"nfakeVar\",\"ndata\",\"ndataVar\"]\n",
    "    records = []\n",
    "    for trigger in [\"mu\",\"e\"]:\n",
    "        for usetag in [\"1b\",\"2b\"]:\n",
    "            print( \"counting \"+trigger+usetag + \" ...\")\n",
    "\n",
    "            counter = DFCounter(trigger,usetag)\n",
    "            counter.setVariation(variation)\n",
    "\n",
    "            acc,accVar = counter.returnAcc()\n",
    "            nmcbg,nmcbgVar = counter.returnNMCbg()\n",
    "            nfake,nfakeVar = counter.returnNFake()\n",
    "            ndata,ndataVar = counter.returnNData()\n",
    "            records.append( (trigger,usetag,acc,accVar,nmcbg,nmcbgVar,nfake,nfakeVar,ndata,ndataVar) )\n",
    "\n",
    "    df = pd.DataFrame.from_records(records, columns=labels)\n",
    "    df.to_pickle( common.getBaseDirectory() + \"data/counts/count_{}.pkl\".format(variation))\n",
    "    print( \"counting finished!\")"
   ]
  },
  {
   "cell_type": "code",
   "execution_count": 3,
   "metadata": {},
   "outputs": [
    {
     "name": "stdout",
     "output_type": "stream",
     "text": [
      "counting mu1b ...\n",
      "counting mu2b ...\n",
      "counting e1b ...\n",
      "counting e2b ...\n",
      "counting finished!\n"
     ]
    }
   ],
   "source": [
    "countDataFrames()"
   ]
  },
  {
   "cell_type": "markdown",
   "metadata": {},
   "source": [
    "## 2. count with variation"
   ]
  },
  {
   "cell_type": "code",
   "execution_count": 7,
   "metadata": {},
   "outputs": [],
   "source": [
    "import multiprocessing as mp\n",
    "\n",
    "def runCountDataFrames(vlist):\n",
    "    processes = []\n",
    "    for v in vlist:\n",
    "        processes.append(mp.Process(target=countDataFrames,args=(v,)))\n",
    "    for ps in processes:\n",
    "        ps.start()\n",
    "    for ps in processes:\n",
    "        ps.join()\n",
    "        \n",
    "runCountDataFrames(jetEnergy)\n",
    "runCountDataFrames(bTagging)\n",
    "runCountDataFrames(lepEnergy)"
   ]
  },
  {
   "cell_type": "code",
   "execution_count": 10,
   "metadata": {
    "scrolled": true
   },
   "outputs": [
    {
     "name": "stdout",
     "output_type": "stream",
     "text": [
      "counting mu1b ...\n",
      "counting mu1b ...\n",
      "counting mu1b ...\n",
      "counting mu1b ...\n",
      "counting mu2b ...\n",
      "counting mu2b ...\n",
      "counting mu2b ...\n",
      "counting mu2b ...\n",
      "counting e1b ...\n",
      "counting e1b ...\n",
      "counting e1b ...\n",
      "counting e1b ...\n",
      "counting e2b ...\n",
      "counting e2b ...\n",
      "counting e2b ...\n",
      "counting e2b ...\n",
      "counting finished!\n",
      "counting finished!\n",
      "counting finished!\n",
      "counting finished!\n",
      "counting mu1b ...\n",
      "counting mu1b ...\n",
      "counting mu1b ...\n",
      "counting mu1b ...\n",
      "counting mu2b ...\n",
      "counting mu2b ...\n",
      "counting mu2b ...\n",
      "counting mu2b ...\n",
      "counting e1b ...\n",
      "counting e1b ...\n",
      "counting e1b ...\n",
      "counting e1b ...\n",
      "counting e2b ...\n",
      "counting e2b ...\n",
      "counting e2b ...\n",
      "counting e2b ...\n",
      "counting finished!\n",
      "counting finished!\n",
      "counting finished!\n",
      "counting finished!\n"
     ]
    }
   ],
   "source": [
    "runCountDataFrames([\"RenormUp\",\"RenormDown\",\"FactorUp\",\"FactorDown\"]) # ttLHEWeight\n",
    "runCountDataFrames([\"PDFUp\",\"PDFDown\"]) # ttLHEWeight\n",
    "\n",
    "runCountDataFrames(['FSRUp','FSRDown','ISRUp','ISRDown']) # ttTheory\n",
    "runCountDataFrames(['UEUp','UEDown','MEPSUp','MEPSDown']) # ttTheory\n",
    "\n",
    "runCountDataFrames(['EPtDown','MuPtDown','TauPtDown']) # lepEnergy\n",
    "runCountDataFrames([\"JESUp\",\"JESDown\",\"JERUp\",\"JERDown\"]) # jetEnergy\n",
    "runCountDataFrames([\"BTagUp\",\"BTagDown\",\"MistagUp\",\"MistagDown\"]) # bTagging"
   ]
  },
  {
   "cell_type": "markdown",
   "metadata": {},
   "source": [
    "## 3. Count uncertainty of Tau acc"
   ]
  },
  {
   "cell_type": "code",
   "execution_count": 18,
   "metadata": {},
   "outputs": [],
   "source": [
    "# jet misID\n",
    "df = DFCutter('etau','>1',\"mctt\").getDataFrame()\n",
    "np.sum( df.eventWeight*(1+0.002*df.lepton2_pt) )/ np.sum(df.eventWeight)"
   ]
  },
  {
   "cell_type": "code",
   "execution_count": 19,
   "metadata": {},
   "outputs": [
    {
     "data": {
      "text/plain": [
       "1.07965072853603"
      ]
     },
     "execution_count": 19,
     "metadata": {},
     "output_type": "execute_result"
    }
   ],
   "source": []
  },
  {
   "cell_type": "code",
   "execution_count": null,
   "metadata": {},
   "outputs": [],
   "source": []
  }
 ],
 "metadata": {
  "kernelspec": {
   "display_name": "Python 3",
   "language": "python",
   "name": "python3"
  },
  "language_info": {
   "codemirror_mode": {
    "name": "ipython",
    "version": 3
   },
   "file_extension": ".py",
   "mimetype": "text/x-python",
   "name": "python",
   "nbconvert_exporter": "python",
   "pygments_lexer": "ipython3",
   "version": "3.6.4"
  }
 },
 "nbformat": 4,
 "nbformat_minor": 2
}
