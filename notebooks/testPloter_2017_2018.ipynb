{
 "cells": [
  {
   "cell_type": "code",
   "execution_count": 1,
   "metadata": {},
   "outputs": [],
   "source": [
    "import utility_common as common\n",
    "from utility_dfcutter import *\n",
    "from utility_dfplotter import *\n",
    "import glob\n",
    "import pandas as pd"
   ]
  },
  {
   "cell_type": "code",
   "execution_count": 3,
   "metadata": {},
   "outputs": [],
   "source": [
    "oppoSign  = ' & (lepton1_q != lepton2_q) '\n",
    "zveto     = ' & (dilepton_mass<80 | dilepton_mass>102) '\n",
    "lmveto    = ' & (dilepton_mass>12) '\n",
    "dict_cuts = {\n",
    "    \"mumu\"  : \"lepton1_pt>25 & lepton2_pt>10 & (nJets>=2) & (nBJets>=1)\" + oppoSign + zveto + lmveto,\n",
    "    \"ee\"    : \"lepton1_pt>30 & lepton2_pt>20 & (nJets>=2) & (nBJets>=1)\" + oppoSign + zveto + lmveto,\n",
    "    \"emu\"   : \"lepton1_pt>25 & (lepton2_pt<30 | (lepton2_pt>30 & lepton2_pt<lepton1_pt))  & (nJets>=2) & (nBJets>=1)\" + oppoSign,\n",
    "    \"emu2\"  : \"lepton2_pt>30 & (lepton1_pt<25 | (lepton1_pt>25 & lepton1_pt<lepton2_pt))  & (nJets>=2) & (nBJets>=1)\" + oppoSign,\n",
    "    \"mutau\" : \"lepton1_pt>30 & lepton2_pt>20 & (nJets>=2) & (nBJets>=1)\" + oppoSign + lmveto,\n",
    "    \"etau\"  : \"lepton1_pt>30 & lepton2_pt>20 & (nJets>=2) & (nBJets>=1)\" + oppoSign + lmveto,\n",
    "    \"mu4j\"  : \"lepton1_pt>30 & (nJets>=4) & (nBJets>=1)\",\n",
    "    \"e4j\"   : \"lepton1_pt>30 & (nJets>=4) & (nBJets>=1)\",\n",
    "}\n",
    "\n",
    "dict_subtitle = {\n",
    "    \"mumu\"  : r\"$\\mu \\mu$ Channel\",\n",
    "    \"ee\"    : r\"$e e$ Channel\",\n",
    "    \"emu\"   : r\"$\\mu e$ Channel\",\n",
    "    \"emu2\"  : r\"$e \\mu$ Channel\",\n",
    "    \"mutau\" : r\"$\\mu \\tau$ Channel\",\n",
    "    \"etau\"  : r\"$e \\tau$ Channel\",\n",
    "    \"mu4j\"  : r\"$\\mu + jets$ Channel\",\n",
    "    \"e4j\"   : r\"$e + jets$ Channel\",\n",
    "}"
   ]
  },
  {
   "cell_type": "code",
   "execution_count": 4,
   "metadata": {},
   "outputs": [],
   "source": [
    "for selection in dict_subtitle.keys():\n",
    "    for period in [\"2018\"]:\n",
    "        pickleFileDirName = 'emu' if selection == 'emu2' else selection\n",
    "        pickleDirectry = common.getBaseDirectory() + \"data/{}/{}/\".format(\"pickles_\"+period,pickleFileDirName)\n",
    "        subtitle = dict_subtitle[selection]\n",
    "        cuts = dict_cuts[selection]\n",
    "        ############################################################################\n",
    "        # data\n",
    "        pickles = glob.glob(pickleDirectry + '{}/*.pkl'.format(\"data\"))\n",
    "        data = pd.concat([ pd.read_pickle(pickle) for pickle in pickles],ignore_index=True).query(cuts)\n",
    "        data.reset_index(drop=True, inplace=True)\n",
    "        if selection in [\"emu\",\"emu2\"]:\n",
    "            data = data.drop_duplicates(subset=['runNumber', 'evtNumber'])\n",
    "        # tw\n",
    "        pickles = glob.glob(pickleDirectry + '{}/*.pkl'.format(\"mct\"))\n",
    "        mct = pd.concat([ pd.read_pickle(pickle) for pickle in pickles],ignore_index=True).query(cuts)\n",
    "        mct.reset_index(drop=True, inplace=True)\n",
    "        # tt\n",
    "        pickles = glob.glob(pickleDirectry + '{}/*.pkl'.format(\"mctt\"))\n",
    "        mctt = pd.concat([ pd.read_pickle(pickle) for pickle in pickles],ignore_index=True).query(cuts)\n",
    "        mctt.reset_index(drop=True, inplace=True)\n",
    "        # w\n",
    "        pickles = glob.glob(pickleDirectry + '{}/*.pkl'.format(\"mcw\"))\n",
    "        mcw = pd.concat([ pd.read_pickle(pickle) for pickle in pickles],ignore_index=True).query(cuts)\n",
    "        mcw.reset_index(drop=True, inplace=True)\n",
    "        # z\n",
    "        pickles = glob.glob(pickleDirectry + '{}/*.pkl'.format(\"mcz\"))\n",
    "        mcz = pd.concat([ pd.read_pickle(pickle) for pickle in pickles],ignore_index=True).query(cuts)\n",
    "        mcz.reset_index(drop=True, inplace=True)\n",
    "        # mcdiboson\n",
    "        pickles = glob.glob(pickleDirectry + '{}/*.pkl'.format(\"mcdiboson\"))\n",
    "        mcvv = pd.concat([ pd.read_pickle(pickle) for pickle in pickles],ignore_index=True).query(cuts)\n",
    "        mcvv.reset_index(drop=True, inplace=True)\n",
    "\n",
    "        ############################################################################\n",
    "        dfList   = [mcvv,mcz,mcw,mct,mctt,data]\n",
    "        legends  = ['VV','Z','W',\"t\",\"tt\",\"data\"]\n",
    "        colors   = [\"C0\", \"C1\", \"C3\",\"C2\",\"C4\",'k']\n",
    "        common.makeDirectory(\"../plots/test_kinematics_{}/{}/\".format(period,selection),clear=False)\n",
    "        configs = pd.read_csv(\"../python/plotterItemTables/itemTable_{}.csv\".format(pickleFileDirName))\n",
    "        for index, row in configs.iterrows():\n",
    "            v,a,b,step,xl = row['var'], row['lower'], row['upper'], row['step'], row['xlabel']\n",
    "            sk = ASingleKinematicPlot(v,a,b,step,dfList)\n",
    "            sk.settingPlot(xl,legends,colors,period=period)\n",
    "            sk.makePlot()\n",
    "            sk.axes[0].text(0.04*sk.b+0.96*sk.a,1.2*sk.ynorm, subtitle)\n",
    "            #plt.savefig(\"../plots/kinematics/{}/{}.pdf\".format(selection,v))\n",
    "            plt.savefig(\"../plots/test_kinematics_{}/{}/{}.png\".format(period,selection,v),dpi=300)\n",
    "            plt.close()"
   ]
  },
  {
   "cell_type": "code",
   "execution_count": 6,
   "metadata": {},
   "outputs": [
    {
     "name": "stdout",
     "output_type": "stream",
     "text": [
      "866525\n",
      "432190\n",
      "412720\n",
      "1874345\n"
     ]
    }
   ],
   "source": [
    "selection, period = \"ee\", \"2018\"\n",
    "\n",
    "pickleFileDirName = 'emu' if selection == 'emu2' else selection\n",
    "pickleDirectry = common.getBaseDirectory() + \"data/{}/{}/\".format(\"pickles_\"+period,pickleFileDirName)\n",
    "subtitle = dict_subtitle[selection]\n",
    "cuts = dict_cuts[selection]\n",
    "\n",
    "for p in \"ABCD\":\n",
    "    pickles = glob.glob(pickleDirectry + '{}/*{}.pkl'.format(\"data\",p))\n",
    "    data = pd.concat([ pd.read_pickle(pickle) for pickle in pickles],ignore_index=True).query(cuts)\n",
    "    data.reset_index(drop=True, inplace=True)\n",
    "    print(data.size)"
   ]
  },
  {
   "cell_type": "code",
   "execution_count": 57,
   "metadata": {},
   "outputs": [
    {
     "data": {
      "text/plain": [
       "368.72"
      ]
     },
     "execution_count": 57,
     "metadata": {},
     "output_type": "execute_result"
    }
   ],
   "source": []
  },
  {
   "cell_type": "code",
   "execution_count": null,
   "metadata": {},
   "outputs": [],
   "source": []
  }
 ],
 "metadata": {
  "kernelspec": {
   "display_name": "Python 3",
   "language": "python",
   "name": "python3"
  },
  "language_info": {
   "codemirror_mode": {
    "name": "ipython",
    "version": 3
   },
   "file_extension": ".py",
   "mimetype": "text/x-python",
   "name": "python",
   "nbconvert_exporter": "python",
   "pygments_lexer": "ipython3",
   "version": "3.7.6"
  }
 },
 "nbformat": 4,
 "nbformat_minor": 4
}
