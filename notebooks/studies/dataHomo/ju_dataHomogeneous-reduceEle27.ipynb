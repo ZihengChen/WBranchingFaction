{
 "cells": [
  {
   "cell_type": "code",
   "execution_count": 1,
   "metadata": {
    "collapsed": true
   },
   "outputs": [],
   "source": [
    "from utility_dfcutter import *\n",
    "from utility_dfplotter import *\n",
    "import utility_common as common\n",
    "%matplotlib inline"
   ]
  },
  {
   "cell_type": "code",
   "execution_count": 2,
   "metadata": {
    "collapsed": true
   },
   "outputs": [],
   "source": [
    "class PlotterManager:\n",
    "    def __init__(self,selection,nbjet, njet=None):\n",
    "        self.selection = selection\n",
    "        self.nbjet = nbjet\n",
    "        self.njet  = njet\n",
    "        self._setConfiguration() \n",
    "        \n",
    "    def getDataFrameList(self, variation=''):\n",
    "        dfList = []\n",
    "        for name in ['B','C','D','E','F','G','H']:\n",
    "            dfList.append(DFCutter(self.selection,self.nbjet,'data2016'+name, self.njet, folderOfPickles = \"pickles_reduceEle27\").getDataFrame())\n",
    "        return dfList\n",
    "        \n",
    "    def _setConfiguration(self):\n",
    "        self.mcsgQueryList = []\n",
    "        self.labelList = ['16B: 5.8/fb',\n",
    "                          '16C: 2.6/fb',\n",
    "                          '16D: 4.2/fb',\n",
    "                          '16E: 3.6/fb',\n",
    "                          '16F: 2.9/fb',\n",
    "                          '16G: 6.2/fb',\n",
    "                          '16H: 6.1/fb']\n",
    "        self.colorList = ['#e0301e','#eb8c00','gold','springgreen','#49feec','deepskyblue','mediumpurple']\n",
    "        \n",
    "        \n",
    "def makeAPlot(df_list, label_list, color_list, v,a,b,step,xl):\n",
    "    \n",
    "    \n",
    "    mybin         = np.arange(a,b,step)\n",
    "    variable_list = [mc[v].values for mc in df_list]\n",
    "    weight_list   = [mc['eventWeight'].values for mc in df_list]\n",
    "\n",
    "    plt.rc('figure',facecolor='w')\n",
    "    fig, axes = plt.subplots(2, 1, sharex=True, \n",
    "                             gridspec_kw={'height_ratios':[3,1]},\n",
    "                             figsize=(6,6))\n",
    "    fig.subplots_adjust(hspace=0)\n",
    "    \n",
    "    # upper plot\n",
    "    ax = axes[0]\n",
    "    mc =  ax.hist(variable_list, \n",
    "                  label   = label_list,\n",
    "                  color   = color_list,\n",
    "                  bins = mybin, lw=0, alpha=1, \n",
    "                  histtype='stepfilled',\n",
    "                  stacked=True\n",
    "                 )\n",
    "    mc = mc[0][-1]\n",
    "    \n",
    "    ax.text(0.04*b+0.96*a, 1.35*mc.max(), r'CMS $preliminary$',style='italic',fontsize='15',fontweight='bold')\n",
    "    ax.text(0.04*b+0.96*a, 1.2*mc.max(), r'$e +jets$ channel $(n_j\\geq 4,n_b= 2 )$',style='italic',fontsize='12')\n",
    "    \n",
    "    ax.grid(True,linestyle='--',alpha=0.5)\n",
    "    ax.set_ylim(0,1.5*mc.max())\n",
    "    ax.legend()\n",
    "    ax.set_title('L=35.9/fb (13TeV)',loc='right')\n",
    "    \n",
    "    # lower plot\n",
    "    ax = axes[1]\n",
    "    lumin_list  = [5.747,2.573,4.242,3.633,2.905,6.156,6.094]\n",
    "    weight_list = [mc['eventWeight'].values/lumin_list[i] for i,mc in enumerate(df_list)]\n",
    "\n",
    "    mc =  ax.hist(variable_list, \n",
    "                  weights  = weight_list,\n",
    "                  label   = label_list,\n",
    "                  color   = color_list,\n",
    "                  bins = mybin, lw=1, alpha=1, \n",
    "                  histtype='step'\n",
    "                 )\n",
    "    mc = mc[0][-1]\n",
    "    ax.set_ylabel('event per /fb',fontsize='10')\n",
    "    \n",
    "    ax.set_xlim(a, b)\n",
    "    ax.set_ylim(0,1.2*mc.max())\n",
    "    ax.grid(True,linestyle='--',alpha=0.5)\n",
    "    \n",
    "    ax.set_xlabel(xl,fontsize='12')\n",
    "        "
   ]
  },
  {
   "cell_type": "code",
   "execution_count": 3,
   "metadata": {
    "collapsed": true
   },
   "outputs": [],
   "source": [
    "selection,nbjet = 'etau','==1'\n",
    "pmng = PlotterManager(selection,nbjet)\n",
    "df_list = pmng.getDataFrameList()\n",
    "label_list = pmng.labelList\n",
    "color_list = pmng.colorList\n",
    "\n",
    "baseDir = common.getBaseDirectory()\n",
    "#pp = pd.read_csv(baseDir+'python/plotterItemTables/itemTable_{}.csv'.format(selection))\n",
    "#pp = pd.read_csv(baseDir+'python/plotterItemTables/itemTable_{}.csv'.format('emu'))\n",
    "# v,a,b,step,xl = 'lepton2_eta',-3,3,0.1,'lepton1_eta'\n",
    "# makeAPlot(df_list,label_list,color_list,v,a,b,step,xl)"
   ]
  },
  {
   "cell_type": "code",
   "execution_count": null,
   "metadata": {
    "collapsed": true
   },
   "outputs": [],
   "source": [
    "for index, row in pp.iterrows():\n",
    "\n",
    "    v,a,b,step,xl = row['var'],row['lower'],row['upper'],row['step'],row['xlabel']\n",
    "\n",
    "    makeAPlot(df_list,label_list,color_list,v,a,b,step,xl)\n",
    "    plt.savefig(baseDir+'plots/data_kinematics/{}/1b/2017_{}_1b_{}.pdf'.format(selection,selection,v))\n",
    "    plt.close()"
   ]
  },
  {
   "cell_type": "code",
   "execution_count": 4,
   "metadata": {},
   "outputs": [
    {
     "name": "stdout",
     "output_type": "stream",
     "text": [
      "23736.9+/- 596.9\n",
      "17154.3+/- 436.6\n",
      "21657.7+/- 546.1\n",
      "18630.9+/- 471.2\n",
      "18667.8+/- 473.5\n",
      "22141.0+/- 556.8\n",
      "21842.8+/- 549.3\n"
     ]
    }
   ],
   "source": [
    "mean,std = [],[]\n",
    "\n",
    "lumin_list  = [5.747,2.573,4.242,3.633,2.905,6.156,6.094]\n",
    "for (df,lumin) in zip(df_list,lumin_list):\n",
    "    n = df.size\n",
    "    nVar = df.size\n",
    "    rate = n/lumin\n",
    "    rateVar = rate**2 * (nVar/n**2 + 0.025**2)\n",
    "    mean.append(rate)\n",
    "    std.append(rateVar**0.5)\n",
    "    print(\"{:6.1f}+/-{:6.1f}\".format(rate,rateVar**0.5))\n",
    "\n",
    "df = DFCutter(selection,nbjet,'data2016', folderOfPickles = \"pickles_reduceEle27\").getDataFrame()\n",
    "aveAll = df.size/31.4"
   ]
  },
  {
   "cell_type": "code",
   "execution_count": 5,
   "metadata": {},
   "outputs": [
    {
     "data": {
      "image/png": "[encoded data removed]",
      "text/plain": [
       "<matplotlib.figure.Figure at 0x11f8dc470>"
      ]
     },
     "metadata": {},
     "output_type": "display_data"
    }
   ],
   "source": [
    "lumin_list = np.array(lumin_list)\n",
    "xstd = lumin_list/2\n",
    "xpos = np.cumsum(lumin_list) - xstd\n",
    "\n",
    "ypos = np.array([i/1000 for i in mean])\n",
    "ystd = np.array([i/1000 for i in std ])\n",
    "plt.figure(facecolor='w',figsize=(5,5))\n",
    "\n",
    "\n",
    "ave = aveAll/1000\n",
    "aveStd = ave*0.025\n",
    "\n",
    "\n",
    "plt.fill_between(np.arange(-2,40),ave+aveStd,ave-aveStd, alpha=0.5, color='C1',lw=0,label='Total Average')\n",
    "plt.axhline(ave, color='C1',lw=1, alpha=0.8, linestyle=\"--\")\n",
    "\n",
    "plt.errorbar(xpos,ypos,yerr=ystd,xerr=xstd, color='C0',fmt='.', capsize=2,label='Era Average')\n",
    "plt.ylabel(r'Event Rate [$10^3/fb^{-1}$]',fontsize=12)\n",
    "plt.xticks(xpos,['16B','16C','16D','16E','16F','16G','16H'],fontsize=12)\n",
    "plt.xlim(-1,38)\n",
    "\n",
    "ylower, yupper = 0.8*ypos.min(),1.3*ypos.max()\n",
    "yrange = yupper-ylower\n",
    "plt.ylim(ylower,yupper)\n",
    "\n",
    "plt.grid(linestyle='--',alpha=0.5)\n",
    "\n",
    "for i in range(len(xpos)):\n",
    "    string = r'{:3.1f}'.format(lumin_list[i])\n",
    "    if i == len(xpos)-1:\n",
    "        string = 'L='+string\n",
    "        string += r'/fb'\n",
    "    plt.text(xpos[i]-1, ylower+yrange*0.02, string, color='C0', style='italic', fontsize='11')\n",
    "\n",
    "\n",
    "plt.text(1, yupper-yrange*0.15, r'CMS $preliminary$',style='italic',fontsize='15',fontweight='bold')\n",
    "plt.text(1, yupper-yrange*0.25, r'$e\\tau$ channel $(n_j\\geq 2,n_b=1 )$',style='italic',fontsize='12')\n",
    "\n",
    "plt.legend()\n",
    "plt.savefig(baseDir+'plots/data_reduceEle27_{}.png'.format(selection),dpi=300)\n"
   ]
  },
  {
   "cell_type": "code",
   "execution_count": 50,
   "metadata": {},
   "outputs": [
    {
     "data": {
      "text/plain": [
       "428406.40668523678"
      ]
     },
     "execution_count": 50,
     "metadata": {},
     "output_type": "execute_result"
    }
   ],
   "source": []
  },
  {
   "cell_type": "code",
   "execution_count": 45,
   "metadata": {},
   "outputs": [
    {
     "data": {
      "text/plain": [
       "339.94558880684025"
      ]
     },
     "execution_count": 45,
     "metadata": {},
     "output_type": "execute_result"
    }
   ],
   "source": [
    "ypos.min()"
   ]
  },
  {
   "cell_type": "code",
   "execution_count": null,
   "metadata": {
    "collapsed": true
   },
   "outputs": [],
   "source": []
  }
 ],
 "metadata": {
  "kernelspec": {
   "display_name": "Python 3",
   "language": "python",
   "name": "python3"
  },
  "language_info": {
   "codemirror_mode": {
    "name": "ipython",
    "version": 3
   },
   "file_extension": ".py",
   "mimetype": "text/x-python",
   "name": "python",
   "nbconvert_exporter": "python",
   "pygments_lexer": "ipython3",
   "version": "3.6.1"
  }
 },
 "nbformat": 4,
 "nbformat_minor": 2
}
