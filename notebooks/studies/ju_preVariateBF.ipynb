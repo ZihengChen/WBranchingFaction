{
 "cells": [
  {
   "cell_type": "code",
   "execution_count": 1,
   "metadata": {
    "collapsed": true
   },
   "outputs": [],
   "source": [
    "from utility_dfcutter import *"
   ]
  },
  {
   "cell_type": "markdown",
   "metadata": {},
   "source": [
    "# j->tau uncertainty"
   ]
  },
  {
   "cell_type": "code",
   "execution_count": 14,
   "metadata": {},
   "outputs": [
    {
     "name": "stdout",
     "output_type": "stream",
     "text": [
      "calculate tau misidentifaction uncertainty based on 20%/100GeV\n",
      "etau   with nb==1  is 6.672%\n",
      "etau   with nb>1   is 6.655%\n",
      "mutau  with nb==1  is 6.687%\n",
      "mutau  with nb>1   is 6.655%\n"
     ]
    }
   ],
   "source": [
    "# varate jet-tau misID\n",
    "print('calculate tau misidentifaction uncertainty based on 20%/100GeV')\n",
    "for selection in ['etau','mutau']:\n",
    "    for nbjet in ['==1','>1']:\n",
    "        df = DFCutter(selection,nbjet,\"mctt\").getDataFrame()\n",
    "        slt = (df.genCategory==16) | (df.genCategory==17)\n",
    "        up = (np.sum( df[slt].eventWeight*(1+0.002*df[slt].lepton2_pt))/np.sum(df.eventWeight[slt]))\n",
    "        print('{:6} with nb{:4} is {:4.3f}%'.format(selection,nbjet,(up-1)*100 ))"
   ]
  },
  {
   "cell_type": "code",
   "execution_count": null,
   "metadata": {
    "collapsed": true
   },
   "outputs": [],
   "source": [
    "# varate jet-tau misID\n",
    "print('calculate tau misidentifaction uncertainty based on 20%/100GeV')\n",
    "for selection in ['etau','mutau']:\n",
    "    for nbjet in ['==1','>1']:\n",
    "        df = DFCutter(selection,nbjet,\"mctt\").getDataFrame()\n",
    "        slt = (df.genCategory==16) | (df.genCategory==17)\n",
    "        up = (np.sum( df[slt].eventWeight*(1+0.002*df[slt].lepton2_pt))/np.sum(df.eventWeight[slt]))\n",
    "        print('{:6} with nb{:4} is {:4.3f}%'.format(selection,nbjet,(up-1)*100 ))"
   ]
  },
  {
   "cell_type": "code",
   "execution_count": 4,
   "metadata": {
    "collapsed": true
   },
   "outputs": [],
   "source": [
    "df = DFCutter('etau','==1',\"mctt\").getDataFrame()"
   ]
  },
  {
   "cell_type": "code",
   "execution_count": 3,
   "metadata": {
    "collapsed": true
   },
   "outputs": [],
   "source": [
    "df.loc[df.tauGenFlavor==15,'lepton2_pt'] *= 1000"
   ]
  },
  {
   "cell_type": "code",
   "execution_count": 5,
   "metadata": {},
   "outputs": [
    {
     "data": {
      "text/plain": [
       "0         1\n",
       "1        15\n",
       "2        15\n",
       "3        15\n",
       "4        21\n",
       "5         5\n",
       "6        15\n",
       "7         3\n",
       "8         3\n",
       "9        15\n",
       "10       15\n",
       "11        2\n",
       "12        3\n",
       "13       15\n",
       "14        2\n",
       "15        5\n",
       "16       15\n",
       "17       15\n",
       "18        2\n",
       "19       15\n",
       "20       15\n",
       "21        5\n",
       "22       15\n",
       "23       15\n",
       "24       15\n",
       "25       15\n",
       "26       15\n",
       "27       15\n",
       "28       15\n",
       "29       15\n",
       "         ..\n",
       "69888     4\n",
       "69889    15\n",
       "69890    15\n",
       "69891    15\n",
       "69892    15\n",
       "69893    15\n",
       "69894    15\n",
       "69895     5\n",
       "69896     5\n",
       "69897     3\n",
       "69898    15\n",
       "69899    15\n",
       "69900    15\n",
       "69901    15\n",
       "69902    15\n",
       "69903     2\n",
       "69904     4\n",
       "69905     2\n",
       "69906     3\n",
       "69907    15\n",
       "69908    21\n",
       "69909    15\n",
       "69910    15\n",
       "69911    15\n",
       "69912    21\n",
       "69913    15\n",
       "69914    15\n",
       "69915     0\n",
       "69916    15\n",
       "69917    15\n",
       "Name: tauGenFlavor, Length: 69918, dtype: int64"
      ]
     },
     "execution_count": 5,
     "metadata": {},
     "output_type": "execute_result"
    }
   ],
   "source": [
    "df.tauGenFlavor"
   ]
  },
  {
   "cell_type": "code",
   "execution_count": null,
   "metadata": {
    "collapsed": true
   },
   "outputs": [],
   "source": []
  },
  {
   "cell_type": "code",
   "execution_count": null,
   "metadata": {
    "collapsed": true
   },
   "outputs": [],
   "source": []
  },
  {
   "cell_type": "code",
   "execution_count": null,
   "metadata": {
    "collapsed": true
   },
   "outputs": [],
   "source": []
  },
  {
   "cell_type": "code",
   "execution_count": 27,
   "metadata": {},
   "outputs": [
    {
     "name": "stdout",
     "output_type": "stream",
     "text": [
      "calculate tau misidentifaction uncertainty based on SF_misid.csv\n",
      "etau   with nb==1  is 4.694%\n",
      "etau   with nb>1   is 4.710%\n",
      "mutau  with nb==1  is 4.691%\n",
      "mutau  with nb>1   is 4.699%\n"
     ]
    }
   ],
   "source": [
    "print('calculate tau misidentifaction uncertainty based on SF_misid.csv')\n",
    "sf = pd.read_csv(common.getBaseDirectory()+'data/misidtemplates/SF_misid.csv')\n",
    "\n",
    "for selection in ['etau','mutau']:\n",
    "    for nbjet in ['==1','>1']:\n",
    "        df = DFCutter(selection,nbjet,\"mctt\").getDataFrame()\n",
    "        slt = (df.genCategory==16) | (df.genCategory==17)\n",
    "        df = df[slt]\n",
    "        \n",
    "        n0 = df.eventWeight.sum()\n",
    "        deltan = 0\n",
    "        for i in range(6):\n",
    "            iptbin = 'lepton2_pt>{} & lepton2_pt<{}'.format(sf.bin_pT1[i],sf.bin_pT2[i])\n",
    "            deltan += sf.sigma_SF_j2MisID[i]*df.query(iptbin).eventWeight.sum()\n",
    "        print('{:6} with nb{:4} is {:4.3f}%'.format(selection,nbjet,(deltan/n0)*100 ))\n"
   ]
  },
  {
   "cell_type": "code",
   "execution_count": 28,
   "metadata": {},
   "outputs": [
    {
     "data": {
      "text/html": [
       "<div>\n",
       "<style>\n",
       "    .dataframe thead tr:only-child th {\n",
       "        text-align: right;\n",
       "    }\n",
       "\n",
       "    .dataframe thead th {\n",
       "        text-align: left;\n",
       "    }\n",
       "\n",
       "    .dataframe tbody tr th {\n",
       "        vertical-align: top;\n",
       "    }\n",
       "</style>\n",
       "<table border=\"1\" class=\"dataframe\">\n",
       "  <thead>\n",
       "    <tr style=\"text-align: right;\">\n",
       "      <th></th>\n",
       "      <th>Unnamed: 0</th>\n",
       "      <th>bin_pT1</th>\n",
       "      <th>bin_pT2</th>\n",
       "      <th>SF_b2MisID</th>\n",
       "      <th>SF_q2MisID</th>\n",
       "      <th>SF_j2MisID</th>\n",
       "      <th>sigma_SF_b2MisID</th>\n",
       "      <th>sigma_SF_q2MisID</th>\n",
       "      <th>sigma_SF_j2MisID</th>\n",
       "    </tr>\n",
       "  </thead>\n",
       "  <tbody>\n",
       "    <tr>\n",
       "      <th>0</th>\n",
       "      <td>0</td>\n",
       "      <td>20</td>\n",
       "      <td>25</td>\n",
       "      <td>1.061695</td>\n",
       "      <td>0.976550</td>\n",
       "      <td>1.026797</td>\n",
       "      <td>0.118068</td>\n",
       "      <td>0.078930</td>\n",
       "      <td>0.054896</td>\n",
       "    </tr>\n",
       "    <tr>\n",
       "      <th>1</th>\n",
       "      <td>1</td>\n",
       "      <td>25</td>\n",
       "      <td>30</td>\n",
       "      <td>1.177661</td>\n",
       "      <td>0.880821</td>\n",
       "      <td>0.965698</td>\n",
       "      <td>0.115345</td>\n",
       "      <td>0.064026</td>\n",
       "      <td>0.046043</td>\n",
       "    </tr>\n",
       "    <tr>\n",
       "      <th>2</th>\n",
       "      <td>2</td>\n",
       "      <td>30</td>\n",
       "      <td>40</td>\n",
       "      <td>1.488901</td>\n",
       "      <td>0.818183</td>\n",
       "      <td>0.967034</td>\n",
       "      <td>0.107398</td>\n",
       "      <td>0.058738</td>\n",
       "      <td>0.044188</td>\n",
       "    </tr>\n",
       "    <tr>\n",
       "      <th>3</th>\n",
       "      <td>3</td>\n",
       "      <td>40</td>\n",
       "      <td>50</td>\n",
       "      <td>0.972327</td>\n",
       "      <td>0.789591</td>\n",
       "      <td>0.901601</td>\n",
       "      <td>0.090877</td>\n",
       "      <td>0.052912</td>\n",
       "      <td>0.041498</td>\n",
       "    </tr>\n",
       "    <tr>\n",
       "      <th>4</th>\n",
       "      <td>4</td>\n",
       "      <td>50</td>\n",
       "      <td>65</td>\n",
       "      <td>0.897842</td>\n",
       "      <td>0.896520</td>\n",
       "      <td>0.916028</td>\n",
       "      <td>0.133053</td>\n",
       "      <td>0.060036</td>\n",
       "      <td>0.044370</td>\n",
       "    </tr>\n",
       "    <tr>\n",
       "      <th>5</th>\n",
       "      <td>5</td>\n",
       "      <td>65</td>\n",
       "      <td>80</td>\n",
       "      <td>0.857520</td>\n",
       "      <td>0.672976</td>\n",
       "      <td>0.722276</td>\n",
       "      <td>0.165262</td>\n",
       "      <td>0.053955</td>\n",
       "      <td>0.043309</td>\n",
       "    </tr>\n",
       "  </tbody>\n",
       "</table>\n",
       "</div>"
      ],
      "text/plain": [
       "   Unnamed: 0  bin_pT1  bin_pT2  SF_b2MisID  SF_q2MisID  SF_j2MisID  \\\n",
       "0           0       20       25    1.061695    0.976550    1.026797   \n",
       "1           1       25       30    1.177661    0.880821    0.965698   \n",
       "2           2       30       40    1.488901    0.818183    0.967034   \n",
       "3           3       40       50    0.972327    0.789591    0.901601   \n",
       "4           4       50       65    0.897842    0.896520    0.916028   \n",
       "5           5       65       80    0.857520    0.672976    0.722276   \n",
       "\n",
       "   sigma_SF_b2MisID  sigma_SF_q2MisID  sigma_SF_j2MisID  \n",
       "0          0.118068          0.078930          0.054896  \n",
       "1          0.115345          0.064026          0.046043  \n",
       "2          0.107398          0.058738          0.044188  \n",
       "3          0.090877          0.052912          0.041498  \n",
       "4          0.133053          0.060036          0.044370  \n",
       "5          0.165262          0.053955          0.043309  "
      ]
     },
     "execution_count": 28,
     "metadata": {},
     "output_type": "execute_result"
    }
   ],
   "source": [
    "sf"
   ]
  },
  {
   "cell_type": "code",
   "execution_count": null,
   "metadata": {
    "collapsed": true
   },
   "outputs": [],
   "source": [
    "df.query('lepton2_pt>25 & lepton2_pt<30').eventWeight.sum()\n",
    "df.query('lepton2_pt>40 & lepton2_pt<50').eventWeight.sum()\n",
    "df.query('lepton2_pt>50 & lepton2_pt<65').eventWeight.sum()\n",
    "df.query('lepton2_pt>65 & lepton2_pt<80').eventWeight.sum()"
   ]
  },
  {
   "cell_type": "code",
   "execution_count": 121,
   "metadata": {
    "collapsed": true
   },
   "outputs": [],
   "source": [
    "portion1,portion2 = [],[]\n",
    "for selection in [\"ee\",\"mumu\",\"etau\",\"mutau\",\"mu4j\",\"e4j\"]:\n",
    "    df = DFCutter(selection,'==1',\"mcz\").getDataFrame()\n",
    "    nEvent = df.eventWeight.sum()\n",
    "    nEventList = []\n",
    "    for i in range(4):\n",
    "        nEvent_i = df[df.nPartons==i].eventWeight.sum()\n",
    "        nEventList.append(nEvent_i/nEvent )\n",
    "    portion1.append(nEventList)\n",
    "    \n",
    "    df = DFCutter(selection,'>1',\"mcz\").getDataFrame()\n",
    "    nEvent = df.eventWeight.sum()\n",
    "    nEventList = []\n",
    "    for i in range(4):\n",
    "        nEvent_i = df[df.nPartons==i].eventWeight.sum()\n",
    "        nEventList.append(nEvent_i/nEvent )\n",
    "    portion2.append(nEventList)\n",
    "\n",
    "portion1,portion2 = np.array(portion1).T,np.array(portion2).T"
   ]
  },
  {
   "cell_type": "code",
   "execution_count": 122,
   "metadata": {},
   "outputs": [
    {
     "data": {
      "text/plain": [
       "array([[ 0.01651001,  0.01215556,  0.        ,  0.        ,  0.00904057,\n",
       "         0.00822661],\n",
       "       [ 0.09787141,  0.13687011,  0.11800438,  0.0742606 ,  0.02584116,\n",
       "         0.02431016],\n",
       "       [ 0.9648509 ,  0.96309633,  1.02876305,  1.12663637,  1.07204435,\n",
       "         1.05848008],\n",
       "       [-0.07923231, -0.112122  , -0.14676743, -0.20089697, -0.10692609,\n",
       "        -0.09101685]])"
      ]
     },
     "execution_count": 122,
     "metadata": {},
     "output_type": "execute_result"
    }
   ],
   "source": [
    "portion1"
   ]
  },
  {
   "cell_type": "code",
   "execution_count": 131,
   "metadata": {},
   "outputs": [
    {
     "data": {
      "image/png": "[encoded data removed]",
      "text/plain": [
       "<matplotlib.figure.Figure at 0x11f96f2b0>"
      ]
     },
     "metadata": {},
     "output_type": "display_data"
    }
   ],
   "source": [
    "%matplotlib inline\n",
    "\n",
    "plt.figure(facecolor='w')\n",
    "colorlist = ['C2','C1','C0','C3']\n",
    "labellist = ['Z+0j','Z+1j','Z+2j','Z+3j']\n",
    "ticklist = [r\"$ee$\",r\"$\\mu\\mu$\",r\"$e\\tau$\",r\"$\\mu\\tau$\",r\"$\\mu h$\",r\"$eh$\"]\n",
    "\n",
    "x,bins = [np.arange(6)]*4, np.arange(0,6,0.25)\n",
    "w = [portion1[i,:] for i in range(portion1.shape[0])]\n",
    "plt.hist(x,bins,weights=w,stacked=True, alpha=0.8, color=colorlist,label=labellist)\n",
    "plt.legend(fontsize=12)\n",
    "\n",
    "x,bins = [np.arange(6)+0.3]*4, np.arange(0,6,0.25)\n",
    "w = [portion2[i,:] for i in range(portion2.shape[0]) ]\n",
    "plt.hist(x,bins,weights=w,stacked=True, alpha=0.3, color=colorlist)\n",
    "plt.axhline(1,c='grey',linestyle='--')\n",
    "\n",
    "plt.xticks(np.arange(6)+0.25,ticklist,fontsize=13)\n",
    "plt.xlim(-0.5,7)\n",
    "plt.ylim(0,1.8)\n",
    "plt.title(r'Breakdown Z by $n_q$ ',fontsize=13)\n",
    "plt.ylabel('normalized ratio',fontsize=13)\n",
    "plt.savefig('../plots/DY.png',dpi=300)"
   ]
  },
  {
   "cell_type": "code",
   "execution_count": 2,
   "metadata": {},
   "outputs": [
    {
     "data": {
      "text/plain": [
       "0      -8.385394\n",
       "1       5.850746\n",
       "2       4.031406\n",
       "3       2.526853\n",
       "4       2.035919\n",
       "5       5.445280\n",
       "6      -7.123594\n",
       "7       4.154824\n",
       "8       1.058748\n",
       "9       6.896280\n",
       "10     -6.928127\n",
       "11      7.055003\n",
       "12     -5.903989\n",
       "13     -8.801321\n",
       "14      6.048165\n",
       "15      6.334562\n",
       "16      6.362474\n",
       "17      6.030999\n",
       "18      6.322125\n",
       "19     -7.302197\n",
       "20      8.118041\n",
       "21     -1.279351\n",
       "22      6.036579\n",
       "23      1.287171\n",
       "24      6.269017\n",
       "25     -1.962034\n",
       "26      6.134764\n",
       "27      6.076944\n",
       "28      8.678460\n",
       "29      6.939378\n",
       "          ...   \n",
       "8590    2.764244\n",
       "8591    2.423225\n",
       "8592    2.828931\n",
       "8593   -2.403132\n",
       "8594    3.050404\n",
       "8595   -0.402197\n",
       "8596    2.636430\n",
       "8597   -2.804431\n",
       "8598    3.157720\n",
       "8599    0.335615\n",
       "8600    2.538859\n",
       "8601   -2.330501\n",
       "8602    2.348593\n",
       "8603    3.464851\n",
       "8604   -2.585093\n",
       "8605   -2.320939\n",
       "8606   -2.721780\n",
       "8607    2.215421\n",
       "8608    2.219131\n",
       "8609    1.903215\n",
       "8610   -2.596887\n",
       "8611    0.123023\n",
       "8612    3.129306\n",
       "8613    2.351708\n",
       "8614   -2.874877\n",
       "8615    0.338669\n",
       "8616    2.284853\n",
       "8617    3.014374\n",
       "8618    1.554774\n",
       "8619    3.177285\n",
       "Name: eventWeight, Length: 8620, dtype: float64"
      ]
     },
     "execution_count": 2,
     "metadata": {},
     "output_type": "execute_result"
    }
   ],
   "source": [
    "df = DFCutter('mumu','==1',\"mcz\").getDataFrame()\n",
    "y1 = np.load('../data/pileup/sf_pileup_up.npy')\n",
    "df.eventWeight * y1[(df.nPU/0.1).astype(int)]"
   ]
  },
  {
   "cell_type": "code",
   "execution_count": null,
   "metadata": {
    "collapsed": true
   },
   "outputs": [],
   "source": []
  }
 ],
 "metadata": {
  "kernelspec": {
   "display_name": "Python 3",
   "language": "python",
   "name": "python3"
  },
  "language_info": {
   "codemirror_mode": {
    "name": "ipython",
    "version": 3
   },
   "file_extension": ".py",
   "mimetype": "text/x-python",
   "name": "python",
   "nbconvert_exporter": "python",
   "pygments_lexer": "ipython3",
   "version": "3.6.1"
  }
 },
 "nbformat": 4,
 "nbformat_minor": 2
}
