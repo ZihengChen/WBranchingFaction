{
 "cells": [
  {
   "cell_type": "code",
   "execution_count": 1,
   "metadata": {
    "collapsed": true
   },
   "outputs": [],
   "source": [
    "from misid_model import *\n",
    "from scipy.optimize import minimize\n",
    "import numdifftools as nd\n",
    "from utility_commonPlot import *"
   ]
  },
  {
   "cell_type": "markdown",
   "metadata": {},
   "source": [
    "# 1. Perform Template Fit"
   ]
  },
  {
   "cell_type": "code",
   "execution_count": 2,
   "metadata": {
    "collapsed": true
   },
   "outputs": [],
   "source": [
    "baseDir = common.getBaseDirectory()\n",
    "X = np.load(baseDir + \"data/misidtemplates/shaping/X_.npy\")\n",
    "Y = np.load(baseDir + \"data/misidtemplates/shaping/Y_.npy\")\n",
    "model = PredictiveModel(X)"
   ]
  },
  {
   "cell_type": "code",
   "execution_count": 3,
   "metadata": {
    "collapsed": true
   },
   "outputs": [],
   "source": [
    "nsf,ntheta = 12,7+2\n",
    "\n",
    "# def paramTransformToModel(param):\n",
    "#     paramsf = np.ones(12)*param[0]\n",
    "#     prarmtheta = param[1:]\n",
    "#     paraminput = np.r_[paramsf,prarmtheta]\n",
    "#     return paraminput\n",
    "    \n",
    "def loss (param):\n",
    "    \n",
    "    #param = paramTransformToModel(param)\n",
    "    y = model.predict(param)\n",
    "    loss  = np.sum( (y-Y)**2/(2*Y) )\n",
    "    #loss  = np.sum(Y*np.log(y) - y\n",
    "    loss += np.sum( (param[nsf:]**2)/2  )\n",
    "    return loss\n",
    "\n",
    "param0 = np.array([0.98]*nsf + [0]*ntheta)\n",
    "result = minimize( loss, param0, method='SLSQP', bounds = [(0,2)]*nsf + [(-5,5)]*ntheta )"
   ]
  },
  {
   "cell_type": "code",
   "execution_count": 4,
   "metadata": {},
   "outputs": [
    {
     "name": "stdout",
     "output_type": "stream",
     "text": [
      "[ 1.06169456  1.17766117  1.48890141  0.97232713  0.89784237  0.8575195\n",
      "  0.9765504   0.88082055  0.81818292  0.78959079  0.89652037  0.67297619\n",
      " -0.96900681 -0.15400559 -0.00960552  0.21452278  0.38722336  1.05050226\n",
      "  0.04820765 -1.31047803  1.31489193]\n",
      "[ 0.11806781  0.11534484  0.10739837  0.09087671  0.13305252  0.16526171\n",
      "  0.07893007  0.06402577  0.05873815  0.05291178  0.06003558  0.05395535\n",
      "  0.85596824  0.99838188  0.9998598   0.67230844  0.68116882  0.98703793\n",
      "  0.98029013  0.72752649  0.74078185]\n"
     ]
    }
   ],
   "source": [
    "hcalc = nd.Hessian(loss, step=1e-4, method='central')\n",
    "hess  = hcalc( result.x )\n",
    "hessinv = np.linalg.inv(hess)\n",
    "sig   = np.sqrt(hessinv.diagonal())\n",
    "cor   = hessinv/np.outer(sig, sig)\n",
    "loss0 = loss(result.x)\n",
    "\n",
    "print(result.x)\n",
    "print(sig)"
   ]
  },
  {
   "cell_type": "code",
   "execution_count": 5,
   "metadata": {
    "collapsed": true
   },
   "outputs": [],
   "source": [
    "ticksPos = [2.5,8.5,12,13,14,15,16,17,18,19,20]\n",
    "ticksName = [r'SF $ (b \\rightarrow \\tau_h)$',\n",
    "             r'SF $ (q \\rightarrow \\tau_h)$',\n",
    "             r'$\\sigma_{tt}$',\n",
    "             r'$\\sigma_{tw}$',\n",
    "             r'$\\sigma_{W}$',\n",
    "             r'$\\sigma_{Z0}$',\n",
    "             r'$\\sigma_{Z1}$',\n",
    "             r'$\\sigma_{VV}$',\n",
    "             r'$L$',r'$\\epsilon_e$',r'$\\epsilon_\\mu$',\n",
    "            ]\n",
    "\n",
    "\n",
    "# ticksPos = [2.5,6,7,8,9,10,11,12,13,14]\n",
    "# ticksName = [r'SF $ (jet \\rightarrow \\tau_h)$',\n",
    "#              r'$\\sigma_{tt}$',\n",
    "#              r'$\\sigma_{tw}$',\n",
    "#              r'$\\sigma_{W}$',\n",
    "#              r'$\\sigma_{Z0}$',\n",
    "#              r'$\\sigma_{Z1}$',\n",
    "#              r'$\\sigma_{VV}$',\n",
    "#              r'$L$',r'$\\epsilon_e$',r'$\\epsilon_\\mu$',\n",
    "#             ]\n",
    "\n",
    "# ticksPos = np.arange(10)\n",
    "# ticksName = ['SF',\n",
    "#              r'$\\sigma_{tt}$',\n",
    "#              r'$\\sigma_{tw}$',\n",
    "#              r'$\\sigma_{W}$',\n",
    "#              r'$\\sigma_{Z0}$',\n",
    "#              r'$\\sigma_{Z1}$',\n",
    "#              r'$\\sigma_{VV}$',\n",
    "#              r'$L$',r'$\\epsilon_e$',r'$\\epsilon_\\mu$',\n",
    "#             ]"
   ]
  },
  {
   "cell_type": "code",
   "execution_count": 6,
   "metadata": {
    "collapsed": true
   },
   "outputs": [],
   "source": [
    "plt.figure(figsize=(8,8),facecolor='w')\n",
    "plt.imshow(cor,cmap='PRGn_r')\n",
    "plt.axhline(5.5,color='gray',linewidth=1)\n",
    "#plt.axhline(11.5,color='gray',linewidth=1)\n",
    "plt.axvline(5.5,color='gray',linewidth=1)\n",
    "#plt.axvline(11.5,color='gray',linewidth=1)\n",
    "\n",
    "\n",
    "\n",
    "plt.xticks(ticksPos,ticksName)\n",
    "plt.yticks(ticksPos,ticksName)\n",
    "#plt.colorbar(shrink=0.8)\n",
    "\n",
    "for i in range(cor.shape[0]):\n",
    "    for j in range(cor.shape[1]):\n",
    "        value = cor[i,j]\n",
    "#         if abs(value)<0.2:\n",
    "#             continue\n",
    "        if abs(value)>0.5:\n",
    "            fcolor = 'w'\n",
    "        else:\n",
    "            fcolor = 'k'\n",
    "        plt.text(i-0.3,j+0.1,'{:4.2f}'.format(cor[i,j]),fontsize=6,color=fcolor )\n",
    "\n",
    "plt.savefig('../../../plots/misid/corr2.png',dpi=300)"
   ]
  },
  {
   "cell_type": "markdown",
   "metadata": {},
   "source": [
    "# 2. Plot Post-fit Templates"
   ]
  },
  {
   "cell_type": "code",
   "execution_count": 7,
   "metadata": {
    "collapsed": true
   },
   "outputs": [],
   "source": [
    "param_opt = result.x\n",
    "#param_opt = paramTransformToModel(result.x)\n",
    "\n",
    "temp = np.concatenate(model.predict(param_opt,True),axis=1)\n",
    "targ = np.concatenate(Y,axis=0)\n",
    "# separate processes\n",
    "mctt = np.sum(temp[0:5],axis=0)\n",
    "mct  = np.sum(temp[5:10],axis=0)\n",
    "mcw  = np.sum(temp[10:15],axis=0)\n",
    "mcz  = np.sum(temp[15:20],axis=0)\n",
    "mcvv = np.sum(temp[20:25],axis=0)\n",
    "\n",
    "mclist = [mcvv,mcz,mcw,mct,mctt]"
   ]
  },
  {
   "cell_type": "code",
   "execution_count": 8,
   "metadata": {
    "collapsed": true
   },
   "outputs": [],
   "source": [
    "colorList = [\"#a32020\",\"#eb8c00\",\"#49feec\",\"deepskyblue\",\"mediumpurple\"]\n",
    "labelList = [\"VV\",\"Z\",\"W\",\"t\",\"tt\"]\n",
    "chList = common.channelLsit()\n",
    "\n",
    "\n",
    "fig, axes = plt.subplots(2, 1, sharex=True, facecolor='w',\n",
    "                         gridspec_kw={'height_ratios':[3,1]},\n",
    "                         figsize=(16,4))\n",
    "fig.subplots_adjust(hspace=0)\n",
    "\n",
    "\n",
    "c = np.arange(targ.size)\n",
    "accum = np.zeros(targ.size)\n",
    "\n",
    "# making plot\n",
    "\n",
    "ax = axes[0]\n",
    "for i in range(len(mclist)):\n",
    "    height = mclist[i]\n",
    "    ax.bar(c, height, bottom=accum, width=0.8, alpha=1, color=colorList[i],label=labelList[i])\n",
    "    accum += height\n",
    "ax.errorbar(c, targ,yerr=targ**0.5, c='k', fmt='.',markersize=10,lw=1, label='Data')\n",
    "ax.grid(True,linestyle=\"--\",alpha=0.5)\n",
    "handles, labels = ax.get_legend_handles_labels()\n",
    "ax.legend(handles[::-1], labels[::-1])\n",
    "ax.set_yscale('log')\n",
    "ax.set_ylim(1,2e5)\n",
    "ax.text(0, 5e4, r'CMS $preliminary$',style=\"italic\",fontsize=\"15\",fontweight='bold')\n",
    "ax.set_title(\"L=35.9/fb (13TeV)\",loc=\"right\",fontsize=14)\n",
    "\n",
    "ax = axes[1]\n",
    "ax.errorbar(c, targ/accum, yerr=targ**0.5/accum, c='k', fmt='.',markersize=10,lw=1)\n",
    "ax.grid(True,linestyle=\"--\",alpha=0.5)\n",
    "ax.axhline(1,lw=1,color='k')\n",
    "ax.set_ylim(0.5,1.5)\n",
    "ax.set_xlim(c.min()-1., 1.1*c.max())\n",
    "ax.set_xlabel(r'$p^T_\\tau$ [GeV], each channel range 20-80 GeV',fontsize=14)\n",
    "\n",
    "plt.savefig('../../../plots/misid/tauID_postfit',dpi=300)"
   ]
  },
  {
   "cell_type": "markdown",
   "metadata": {},
   "source": [
    "# Show the fitting Results"
   ]
  },
  {
   "cell_type": "code",
   "execution_count": 9,
   "metadata": {
    "collapsed": true
   },
   "outputs": [],
   "source": [
    "c_sf = result.x[:nsf].reshape(2,6)\n",
    "s_sf = sig[:nsf].reshape(2,6)\n",
    "ptpos = np.array([22.5,27.5,35,45,57.5,72.5])\n",
    "ptwid = np.array([2.5,2.5,5,5,7.5,7.5])\n",
    "c_sfjet = array([1.02679732 , 0.96569836,  0.96703374,  0.90160079,  0.91602756,  0.72227627])\n",
    "s_sfjet = array([0.05489577, 0.04604289, 0.04418809, 0.04149803, 0.04437043, 0.04330899])\n",
    "#c_sfjet = array([1.01831573, 0.96135078, 0.9429135 , 0.88707892, 0.93013478, 0.70739701])\n",
    "#s_sfjet = array([0.05479143, 0.04606   , 0.04338468, 0.04102377, 0.04481317,0.04184311])"
   ]
  },
  {
   "cell_type": "code",
   "execution_count": 10,
   "metadata": {
    "collapsed": true
   },
   "outputs": [],
   "source": [
    "plt.figure(figsize=(8,4),facecolor='w')\n",
    "\n",
    "plt.errorbar(ptpos,c_sf[0],xerr=ptwid,yerr=s_sf[0],\n",
    "             fmt='.:', lw=2, color='C0',alpha=1,\n",
    "             label=r'$b \\rightarrow \\tau_h$')\n",
    "plt.errorbar(ptpos,c_sf[1],xerr=ptwid,yerr=s_sf[1],\n",
    "             fmt='.:', lw=2, color='C1',alpha=1,\n",
    "             label=r'$q \\rightarrow \\tau_h$')\n",
    "\n",
    "plt.bar(ptpos,2*s_sfjet,bottom=c_sfjet-s_sfjet,width=2*ptwid,\n",
    "        color='C2',alpha=0.5,\n",
    "        label=r'$jet \\rightarrow \\tau_h$')\n",
    "\n",
    "plt.errorbar(ptpos,c_sfjet,xerr=ptwid,\n",
    "             fmt='.', lw=3, color='C2',alpha=1)\n",
    "\n",
    "\n",
    "\n",
    "plt.axhline(1,color='k',linewidth=2)\n",
    "\n",
    "plt.grid(linestyle='--',color='grey',alpha=0.4)\n",
    "plt.legend()\n",
    "plt.xlabel(r'$p^T_{j\\rightarrow \\tau_h}$ [GeV]',fontsize=12)\n",
    "plt.ylabel(r'SF $ (j\\rightarrow \\tau_h)$',fontsize=12)\n",
    "plt.ylim([0.5,1.6])\n",
    "plt.savefig('../../../plots/misid/fit_ptflavor.png',dpi=300)"
   ]
  },
  {
   "cell_type": "code",
   "execution_count": 13,
   "metadata": {
    "collapsed": true
   },
   "outputs": [],
   "source": [
    "d = {'bin_pT1': ptpos - ptwid, \n",
    "     'bin_pT2': ptpos + ptwid,\n",
    "     'SF_b2MisID':c_sf[0],\n",
    "     'SF_q2MisID':c_sf[1],\n",
    "     'SF_j2MisID':c_sfjet,\n",
    "     'sigma_SF_b2MisID':s_sf[0],\n",
    "     'sigma_SF_q2MisID':s_sf[1],\n",
    "     'sigma_SF_j2MisID':s_sfjet\n",
    "    }\n",
    "df = pd.DataFrame(data=d)\n",
    "df.to_csv('../../../data/misidtemplates/SF_misID.csv')"
   ]
  },
  {
   "cell_type": "code",
   "execution_count": 12,
   "metadata": {},
   "outputs": [
    {
     "name": "stdout",
     "output_type": "stream",
     "text": [
      "b -> tau\n",
      "1.06+/-0.12\n",
      "1.18+/-0.12\n",
      "1.49+/-0.11\n",
      "0.97+/-0.09\n",
      "0.90+/-0.13\n",
      "0.86+/-0.17\n",
      "q -> tau\n",
      "0.98+/-0.08\n",
      "0.88+/-0.06\n",
      "0.82+/-0.06\n",
      "0.79+/-0.05\n",
      "0.90+/-0.06\n",
      "0.67+/-0.05\n",
      "jet -> tau\n",
      "1.03+/-0.05\n",
      "0.97+/-0.05\n",
      "0.97+/-0.04\n",
      "0.90+/-0.04\n",
      "0.92+/-0.04\n",
      "0.72+/-0.04\n"
     ]
    }
   ],
   "source": [
    "print('b -> tau')\n",
    "for i in range(6):\n",
    "    print('{:4.2f}+/-{:4.2f}'.format(c_sf[0,i],s_sf[0,i]))\n",
    "\n",
    "print('q -> tau')\n",
    "for i in range(6):\n",
    "    print('{:4.2f}+/-{:4.2f}'.format(c_sf[1,i],s_sf[1,i]))\n",
    "    \n",
    "print('jet -> tau')\n",
    "for i in range(6):\n",
    "    print('{:4.2f}+/-{:4.2f}'.format(c_sfjet[i],s_sfjet[i]))"
   ]
  },
  {
   "cell_type": "code",
   "execution_count": null,
   "metadata": {
    "collapsed": true
   },
   "outputs": [],
   "source": []
  }
 ],
 "metadata": {
  "kernelspec": {
   "display_name": "Python 3",
   "language": "python",
   "name": "python3"
  },
  "language_info": {
   "codemirror_mode": {
    "name": "ipython",
    "version": 3
   },
   "file_extension": ".py",
   "mimetype": "text/x-python",
   "name": "python",
   "nbconvert_exporter": "python",
   "pygments_lexer": "ipython3",
   "version": "3.6.1"
  }
 },
 "nbformat": 4,
 "nbformat_minor": 2
}
