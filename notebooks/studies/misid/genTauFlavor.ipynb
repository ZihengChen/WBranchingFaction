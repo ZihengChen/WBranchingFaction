{
 "cells": [
  {
   "cell_type": "code",
   "execution_count": 46,
   "metadata": {
    "collapsed": true
   },
   "outputs": [],
   "source": [
    "from utility_dfcutter import *\n",
    "from utility_dfplotter import *\n",
    "import utility_common as common\n",
    "%matplotlib inline"
   ]
  },
  {
   "cell_type": "code",
   "execution_count": 3,
   "metadata": {
    "collapsed": true
   },
   "outputs": [],
   "source": [
    "class PlotterManager:\n",
    "    def __init__(self,selection,nbjet, njet=None):\n",
    "        self.selection = selection\n",
    "        self.nbjet = nbjet\n",
    "        self.njet  = njet\n",
    "        self._setConfiguration() \n",
    "        \n",
    "    def getDataFrameList(self, variation=''):\n",
    "        MCzz = DFCutter(self.selection, self.nbjet, 'mcdiboson',self.njet).getDataFrame(variation)\n",
    "        MCz  = DFCutter(self.selection, self.nbjet, 'mcz',      self.njet).getDataFrame(variation)\n",
    "        MCw  = DFCutter(self.selection, self.nbjet, 'mcw',      self.njet).getDataFrame(variation)\n",
    "        MCt  = DFCutter(self.selection, self.nbjet, 'mct',      self.njet).getDataFrame(variation)\n",
    "        MCtt = DFCutter(self.selection, self.nbjet, 'mctt',     self.njet).getDataFrame(variation)\n",
    "        \n",
    "        # get signal MC dataframes\n",
    "        MCsg = pd.concat([MCt,MCtt],ignore_index=True)\n",
    "        MCsgList = [MCsg.query(q) for q in self.mcsgQueryList]\n",
    "        \n",
    "        # combine all dataframes as a list\n",
    "        dfList = [MCzz,MCz,MCw] + MCsgList\n",
    "        \n",
    "        return dfList\n",
    "        \n",
    "    def _setConfiguration(self):\n",
    "        \n",
    "        # mutau\n",
    "        if 'mutau' in self.selection:\n",
    "            self.mcsgQueryList = [\n",
    "                'genCategory in [16,21]',\n",
    "                'genCategory in [1,2,3, 4,5,6,7,8,9, 10,11,12]',\n",
    "                'genCategory in [17]',\n",
    "                'genCategory in [18,19,20]',\n",
    "                'genCategory in [13,14,15]'\n",
    "            ]\n",
    "            self.labelList = ['Diboson','Z+Jets','W+Jets',\n",
    "                r'$tt/tW \\rightarrow$ other',\n",
    "                r'$tt/tW \\rightarrow l + l$ (other) ',\n",
    "                r'$tt/tW \\rightarrow \\mu + h$', \n",
    "                r'$tt/tW \\rightarrow \\tau + h$',\n",
    "                r'$tt/tW \\rightarrow \\mu + \\tau$',\n",
    "            ]\n",
    "            self.colorList = ['#a32020','#e0301e','#eb8c00','gold','springgreen','#49feec','deepskyblue','mediumpurple']\n",
    "            \n",
    "        \n",
    "        # etau\n",
    "        elif 'etau' in self.selection:\n",
    "            self.mcsgQueryList = [\n",
    "                'genCategory in [17,21]',\n",
    "                'genCategory in [1,2,3, 4,5,6,7,8,9, 13,14,15]',\n",
    "                'genCategory in [16]',\n",
    "                'genCategory in [18,19,20]',\n",
    "                'genCategory in [10,11,12]'\n",
    "            ]\n",
    "            self.labelList = ['Diboson','Z+Jets','W+Jets',\n",
    "                r'$tt/tW \\rightarrow$ other',\n",
    "                r'$tt/tW \\rightarrow l + l$ (other) ',\n",
    "                r'$tt/tW \\rightarrow e + h$', \n",
    "                r'$tt/tW \\rightarrow \\tau + h$',\n",
    "                r'$tt/tW \\rightarrow e + \\tau$',\n",
    "            ]\n",
    "            self.colorList = ['#a32020','#e0301e','#eb8c00','gold','springgreen','#49feec','deepskyblue','mediumpurple']\n",
    "\n"
   ]
  },
  {
   "cell_type": "code",
   "execution_count": 64,
   "metadata": {},
   "outputs": [],
   "source": [
    "selection = 'etau'\n",
    "pmng = PlotterManager(selection,'==1')\n",
    "df_list = pmng.getDataFrameList()"
   ]
  },
  {
   "cell_type": "code",
   "execution_count": 66,
   "metadata": {},
   "outputs": [
    {
     "data": {
      "image/png": "[encoded data removed]",
      "text/plain": [
       "<matplotlib.figure.Figure at 0x11c7109b0>"
      ]
     },
     "metadata": {},
     "output_type": "display_data"
    }
   ],
   "source": [
    "v,a,b,step,xl = 'tauGenFlavor',0,27,1,r'origins of reco-$\\tau_h$'\n",
    "\n",
    "mybin         = np.arange(a,b,step)\n",
    "variable_list = [mc[v].values for mc in df_list]\n",
    "weight_list   = [mc['eventWeight'].values for mc in df_list]\n",
    "\n",
    "    \n",
    "\n",
    "plt.figure(facecolor='w')\n",
    "# 1.1. show MC\n",
    "mc = plt.hist(variable_list, weights = weight_list,\n",
    "            label   = pmng.labelList,\n",
    "            color   = pmng.colorList,\n",
    "            bins    = mybin,\n",
    "            lw=0, alpha=0.8, \n",
    "            histtype='stepfilled', \n",
    "            )\n",
    "mc = mc[0][-1] # keep only the stacked histogram, ignore the bin edges\n",
    "\n",
    "plt.grid(True,linestyle='--',alpha=0.5)\n",
    "plt.xlim(a, b)\n",
    "plt.ylim(1,1.5*mc.max())\n",
    "plt.text(0.04*b+0.96*a, 1.35*mc.max(), r'CMS $preliminary$',style='italic',fontsize='15',fontweight='bold')\n",
    "plt.text(0.04*b+0.96*a, 1.2*mc.max(), r'$e\\tau$ channel $(n_j\\geq 2,n_b =1 )$ ',style='italic',fontsize='11')\n",
    "\n",
    "\n",
    "plt.legend()\n",
    "plt.xlabel(xl,fontsize=13)\n",
    "\n",
    "\n",
    "plt.title('L=35.9/fb (13TeV)',loc='right')\n",
    "plt.savefig(common.getBaseDirectory()+'plots/misid/origin_{}_1b.png'.format(selection), dpi=300)"
   ]
  },
  {
   "cell_type": "code",
   "execution_count": 15,
   "metadata": {},
   "outputs": [
    {
     "data": {
      "text/plain": [
       "[array([ 0.        ,  3.47333336,  2.34167879,  2.20116354,  1.03671092,\n",
       "         0.70262995,  0.45138157,  0.72303227,  0.53187678,  0.64025705,\n",
       "         0.34991016,  0.23166147,  0.16924317,  0.1716972 ,  0.20410029,\n",
       "         0.30883472,  0.04096941,  0.28820563,  0.2685747 ,  0.45208258,\n",
       "         0.10389206,  0.02115726,  0.31216276,  0.04152334,  0.10298924]),\n",
       " array([   0.        ,  104.86893231,   64.29651583,   56.93998831,\n",
       "          31.96449934,   42.76546914,   -6.26942892,   -1.91572929,\n",
       "           9.47875407,   16.81695159,    3.03795173,    9.87347918,\n",
       "          -6.89691537,   18.0191228 ,    6.58192846,    2.65668649,\n",
       "          -3.42571966,    2.54341267,    2.36717013,   -1.76929063,\n",
       "          -2.56364629,    2.43951473,    0.        ,    0.        ,\n",
       "          -2.60012926]),\n",
       " array([  0.        ,  74.00598426,  45.19925381,  17.83054527,\n",
       "         12.12639437,   8.12115712,  12.44083692,   1.56896401,\n",
       "          1.81697558,   1.52499229,   0.        ,   2.07991424,\n",
       "          0.        ,   1.64498611,   0.        ,   0.        ,\n",
       "          1.81535315,   0.        ,   0.        ,   0.        ,\n",
       "          0.        ,   0.        ,   1.87859691,   0.        ,   0.        ]),\n",
       " array([ 0.        ,  1.07650923,  0.32981736,  0.35076487,  0.84315763,\n",
       "         0.18546982,  0.1903216 ,  0.        ,  0.        ,  0.        ,\n",
       "         0.        ,  0.        ,  0.        ,  0.        ,  0.        ,\n",
       "         0.        ,  0.        ,  0.        ,  0.        ,  0.        ,\n",
       "         0.        ,  0.        ,  0.        ,  0.        ,  0.        ]),\n",
       " array([   0.        ,  156.36518512,  103.31777084,   87.38889513,\n",
       "          71.18526936,   50.17629742,   32.79023236,   29.13730432,\n",
       "          21.82369302,   19.29401328,   14.98937339,   16.30100181,\n",
       "          13.32251878,    9.28706738,   10.33714011,    5.02077841,\n",
       "           7.22688567,    6.77818944,    4.40683651,    2.86624723,\n",
       "           3.97006695,    1.66148926,    2.18423722,    0.83281544,\n",
       "           1.46527216]),\n",
       " array([    0.        ,  1789.04013844,  1143.56215407,   746.43516469,\n",
       "          450.48209959,   292.12988622,   189.96554848,   130.50264428,\n",
       "           87.99842502,    62.87474431,    51.52258372,    45.63907749,\n",
       "           35.37310609,    22.73562394,    19.88301556,    15.32036519,\n",
       "           15.34066084,    10.6496512 ,     6.91587413,     5.99059831,\n",
       "            5.23358103,     4.28606502,     3.04491014,     2.65198893,\n",
       "            2.25537733]),\n",
       " array([  0.        ,  95.4441601 ,  62.13704412,  35.05138183,\n",
       "         24.87589285,  16.61900359,  10.66617421,   7.59461156,\n",
       "          5.91433986,   2.80147756,   1.85126733,   1.35587472,\n",
       "          1.86600911,   1.54754021,   1.45382157,   1.2117489 ,\n",
       "          0.8398817 ,   1.04663105,   0.85942079,   0.19175848,\n",
       "          0.3773686 ,   0.34333312,   0.34919874,   0.3677301 ,   0.164238  ]),\n",
       " array([    0.        ,  1893.04827503,  1596.21275279,  1252.35003673,\n",
       "          999.32692045,   770.32249913,   614.14686732,   479.80941921,\n",
       "          374.96369145,   308.02791989,   250.74026253,   207.05279254,\n",
       "          164.92297646,   143.3526458 ,   118.83588779,    90.53435539,\n",
       "           81.36771722,    63.10356648,    51.63305544,    41.69013924,\n",
       "           30.97385356,    30.74645639,    22.57382172,    21.33019066,\n",
       "           20.70005908])]"
      ]
     },
     "execution_count": 15,
     "metadata": {},
     "output_type": "execute_result"
    }
   ],
   "source": [
    "mc \n",
    "\n"
   ]
  },
  {
   "cell_type": "code",
   "execution_count": null,
   "metadata": {
    "collapsed": true
   },
   "outputs": [],
   "source": []
  }
 ],
 "metadata": {
  "kernelspec": {
   "display_name": "Python 3",
   "language": "python",
   "name": "python3"
  },
  "language_info": {
   "codemirror_mode": {
    "name": "ipython",
    "version": 3
   },
   "file_extension": ".py",
   "mimetype": "text/x-python",
   "name": "python",
   "nbconvert_exporter": "python",
   "pygments_lexer": "ipython3",
   "version": "3.6.1"
  }
 },
 "nbformat": 4,
 "nbformat_minor": 2
}
