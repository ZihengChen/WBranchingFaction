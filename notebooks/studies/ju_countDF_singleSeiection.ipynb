{
 "cells": [
  {
   "cell_type": "code",
   "execution_count": 1,
   "metadata": {},
   "outputs": [],
   "source": [
    "from utility_dfcounter import *"
   ]
  },
  {
   "cell_type": "markdown",
   "metadata": {},
   "source": [
    "## 1. count nominal"
   ]
  },
  {
   "cell_type": "code",
   "execution_count": 3,
   "metadata": {},
   "outputs": [],
   "source": [
    "def countDataFrames(variation=\"\"):\n",
    "    labels  = [\"trigger\",\"usetag\",\"acc\",\"accVar\",\"nmcbg\",\"nmcbgVar\",\"nfake\",\"nfakeVar\",\"ndata\",\"ndataVar\"]\n",
    "    records = []\n",
    "    \n",
    "    for trigger in [\"mu\",\"e\"]:\n",
    "        for usetag in [\"1b\",\"2b\"]:\n",
    "            \n",
    "            print( \"counting \"+trigger+usetag + \" ...\")\n",
    "\n",
    "            counter = DFCounter(trigger,usetag)\n",
    "            counter.setVariation(variation)\n",
    "\n",
    "            acc,accVar = counter.returnAcc()\n",
    "            nmcbg,nmcbgVar = counter.returnNMCbg()\n",
    "            nfake,nfakeVar = counter.returnNFake()\n",
    "            ndata,ndataVar = counter.returnNData()\n",
    "            records.append( (trigger,usetag,acc,accVar,nmcbg,nmcbgVar,nfake,nfakeVar,ndata,ndataVar) )\n",
    "\n",
    "    df = pd.DataFrame.from_records(records, columns=labels)\n",
    "    df.to_pickle( common.getBaseDirectory() + \"data/counts/count_{}.pkl\".format(variation))\n",
    "    print( \"counting finished!\")\n",
    "    \n",
    "# def countDataFrames_selection(variation=\"\"):\n",
    "#     labels  = [\"selection\",\"nbjet\",\"acc\",\"accVar\",\"nmcbg\",\"nmcbgVar\",\"nfake\",\"nfakeVar\",\"ndata\",\"ndataVar\"]\n",
    "#     records = []\n",
    "    \n",
    "#     for selection in [\"mumu\",\"ee\"]:\n",
    "#         for nbjet in [\"==1\",\">1\"]:\n",
    "\n",
    "#             counter = DFCounter_selection(selection,nbjet)\n",
    "#             counter.setVariation(variation)\n",
    "\n",
    "#             acc,accVar = counter.returnAcc()\n",
    "#             nmcbg,nmcbgVar = counter.returnNMCbg()\n",
    "#             nfake,nfakeVar = np.zeros(2), np.zeros(2)\n",
    "#             ndata,ndataVar = counter.returnNData()\n",
    "#             records.append( (selection,nbjet,acc,accVar,nmcbg,nmcbgVar,nfake,nfakeVar,ndata,ndataVar) )\n",
    "\n",
    "#     df = pd.DataFrame.from_records(records, columns=labels)\n",
    "#     df.to_pickle( common.getBaseDirectory() + \"data/counts/DNNcount_{}.pkl\".format(variation))\n",
    "#     print( \"counting finished!\")"
   ]
  },
  {
   "cell_type": "code",
   "execution_count": 4,
   "metadata": {},
   "outputs": [],
   "source": [
    "#countDataFrames()"
   ]
  },
  {
   "cell_type": "markdown",
   "metadata": {},
   "source": [
    "## 2. count with variation"
   ]
  },
  {
   "cell_type": "code",
   "execution_count": 5,
   "metadata": {},
   "outputs": [],
   "source": [
    "import multiprocessing as mp\n",
    "\n",
    "def runCountDataFrames(vlist):\n",
    "    processes = []\n",
    "    for v in vlist:\n",
    "        processes.append(mp.Process(target=countDataFrames,args=(v,)))\n",
    "    for ps in processes:\n",
    "        ps.start()\n",
    "    for ps in processes:\n",
    "        ps.join()"
   ]
  },
  {
   "cell_type": "code",
   "execution_count": 6,
   "metadata": {
    "scrolled": true
   },
   "outputs": [
    {
     "name": "stdout",
     "output_type": "stream",
     "text": [
      "counting mu1b ...\n",
      "counting mu1b ...\n",
      "counting mu1b ...\n",
      "counting mu1b ...\n",
      "counting mu2b ...\n",
      "counting mu2b ...\n",
      "counting mu2b ...\n",
      "counting mu2b ...\n",
      "counting e1b ...\n",
      "counting e1b ...\n",
      "counting e1b ...\n",
      "counting e1b ...\n",
      "counting e2b ...\n",
      "counting e2b ...\n",
      "counting e2b ...\n",
      "counting e2b ...\n",
      "counting finished!\n",
      "counting finished!\n",
      "counting finished!\n",
      "counting finished!\n",
      "counting mu1b ...\n",
      "counting mu1b ...\n",
      "counting mu1b ...\n",
      "counting mu1b ...\n",
      "counting mu2b ...\n",
      "counting mu2b ...\n",
      "counting mu2b ...\n",
      "counting mu2b ...\n",
      "counting e1b ...\n",
      "counting e1b ...\n",
      "counting e1b ...\n",
      "counting e1b ...\n",
      "counting e2b ...\n",
      "counting e2b ...\n",
      "counting e2b ...\n",
      "counting e2b ...\n",
      "counting finished!\n",
      "counting finished!\n",
      "counting finished!\n",
      "counting finished!\n",
      "counting mu1b ...\n",
      "counting mu1b ...\n",
      "counting mu1b ...\n",
      "counting mu1b ...\n",
      "counting mu2b ...\n",
      "counting mu2b ...\n",
      "counting mu2b ...\n",
      "counting mu2b ...\n",
      "counting e1b ...\n",
      "counting e1b ...\n",
      "counting e1b ...\n",
      "counting e1b ...\n",
      "counting e2b ...\n",
      "counting e2b ...\n",
      "counting e2b ...\n",
      "counting e2b ...\n",
      "counting finished!\n",
      "counting finished!\n",
      "counting finished!\n",
      "counting finished!\n",
      "counting mu1b ...\n",
      "counting mu1b ...\n",
      "counting mu1b ...\n",
      "counting mu1b ...\n",
      "counting mu2b ...\n",
      "counting mu2b ...\n",
      "counting mu2b ...\n",
      "counting mu2b ...\n",
      "counting e1b ...\n",
      "counting e1b ...\n",
      "counting e1b ...\n",
      "counting e1b ...\n",
      "counting e2b ...\n",
      "counting e2b ...\n",
      "counting e2b ...\n",
      "counting e2b ...\n",
      "counting finished!\n",
      "counting finished!\n",
      "counting finished!\n",
      "counting finished!\n"
     ]
    }
   ],
   "source": [
    "# runCountDataFrames(['EPtDown','MuPtDown','TauPtDown',\"TTXSUp\",\"TWXSUp\",\"\",\n",
    "#                     \"JESUp\",\"JESDown\",\"JERUp\",\"JERDown\",\n",
    "#                     \"BTagUp\",\"BTagDown\",\"MistagUp\",\"MistagDown\"]) \n",
    "\n",
    "# runCountDataFrames([\"RenormUp\",\"RenormDown\",\"FactorUp\",\"FactorDown\",\"PDFUp\",\"PDFDown\",\n",
    "#                     'FSRUp','FSRDown','ISRUp','ISRDown','UEUp','UEDown','MEPSUp','MEPSDown']) \n",
    "\n",
    "# runCountDataFrames(['FSRUp','FSRDown','ISRUp','ISRDown']) # ttTheory\n",
    "# runCountDataFrames(['UEUp','UEDown','MEPSUp','MEPSDown']) # ttTheory\n",
    "\n",
    "#runCountDataFrames([\"RenormUp\",\"RenormDown\",\"FactorUp\",\"FactorDown\"]) # ttLHEWeight\n",
    "runCountDataFrames([\"PDFUp\",\"PDFDown\",\"TTXSUp\",\"TWXSUp\"]) # ttLHEWeight\n",
    "runCountDataFrames(['EPtDown','MuPtDown','TauPtDown',\"\"]) # lepEnergy\n",
    "runCountDataFrames([\"JESUp\",\"JESDown\",\"JERUp\",\"JERDown\"]) # jetEnergy\n",
    "runCountDataFrames([\"BTagUp\",\"BTagDown\",\"MistagUp\",\"MistagDown\"]) # bTagging"
   ]
  },
  {
   "cell_type": "markdown",
   "metadata": {},
   "source": [
    "## 3. Count uncertainty of Tau acc"
   ]
  },
  {
   "cell_type": "code",
   "execution_count": 6,
   "metadata": {},
   "outputs": [
    {
     "data": {
      "text/plain": [
       "1.0798576525660608"
      ]
     },
     "execution_count": 6,
     "metadata": {},
     "output_type": "execute_result"
    }
   ],
   "source": [
    "# jet misID\n",
    "df = DFCutter('etau','>1',\"mctt\").getDataFrame()\n",
    "np.sum( df.eventWeight*(1+0.002*df.lepton2_pt) )/ np.sum(df.eventWeight)"
   ]
  },
  {
   "cell_type": "markdown",
   "metadata": {},
   "source": [
    "# 4. Print the Expect Yields Table"
   ]
  },
  {
   "cell_type": "code",
   "execution_count": 2,
   "metadata": {},
   "outputs": [
    {
     "name": "stdout",
     "output_type": "stream",
     "text": [
      " 11703.2 +/- 45.4\n",
      "   705.6 +/- 29.2\n",
      "   184.4 +/- 20.8\n",
      "   340.6 +/- 51.0\n",
      "    15.2 +/-  1.2\n",
      "   483.1 +/- 63.8\n",
      " 13432.2 +/- 100.1\n",
      " 13213.0 +/- 114.9\n"
     ]
    }
   ],
   "source": [
    "ct = DFCounter('e','1b')\n",
    "selection = 'etau'\n",
    "\n",
    "total,totalVar = 0,0\n",
    "\n",
    "\n",
    "df = DFCutter(selection,ct.nbjet,\"mctt\").getDataFrame()\n",
    "n,nVar = np.sum(df.eventWeight),np.sum(df.eventWeight**2)\n",
    "print(\"{:8.1f} +/- {:4.1f}\".format(n,nVar**0.5) )\n",
    "total += n\n",
    "totalVar += nVar\n",
    "\n",
    "df = DFCutter(selection,ct.nbjet,\"mct\").getDataFrame()\n",
    "n,nVar = np.sum(df.eventWeight),np.sum(df.eventWeight**2)\n",
    "print(\"{:8.1f} +/- {:4.1f}\".format(n,nVar**0.5) )\n",
    "total += n\n",
    "totalVar += nVar\n",
    "\n",
    "df = DFCutter(selection,ct.nbjet,\"mcw\").getDataFrame()\n",
    "n,nVar = np.sum(df.eventWeight),np.sum(df.eventWeight**2)\n",
    "print(\"{:8.1f} +/- {:4.1f}\".format(n,nVar**0.5) )\n",
    "total += n\n",
    "totalVar += nVar\n",
    "\n",
    "df = DFCutter(selection,ct.nbjet,\"mcz\").getDataFrame()\n",
    "n,nVar = np.sum(df.eventWeight),np.sum(df.eventWeight**2)\n",
    "print(\"{:8.1f} +/- {:4.1f}\".format(n,nVar**0.5) )\n",
    "total += n\n",
    "totalVar += nVar\n",
    "\n",
    "df = DFCutter(selection,ct.nbjet,\"mcdiboson\").getDataFrame()\n",
    "n,nVar = np.sum(df.eventWeight),np.sum(df.eventWeight**2)\n",
    "print(\"{:8.1f} +/- {:4.1f}\".format(n,nVar**0.5) )\n",
    "total += n\n",
    "totalVar += nVar\n",
    "\n",
    "n, nVar = ct.getNFake(selection,ct.nbjet)\n",
    "print(\"{:8.1f} +/- {:4.1f}\".format(n,nVar**0.5) )\n",
    "total += n\n",
    "totalVar += nVar\n",
    "\n",
    "print(\"{:8.1f} +/- {:4.1f}\".format(total,totalVar**0.5) )\n",
    "df = DFCutter(selection,ct.nbjet,\"data2016\").getDataFrame()\n",
    "print(\"{:8.1f} +/- {:4.1f}\".format(np.sum(df.eventWeight),np.sum(df.eventWeight**2)**0.5) )"
   ]
  },
  {
   "cell_type": "code",
   "execution_count": null,
   "metadata": {},
   "outputs": [],
   "source": []
  },
  {
   "cell_type": "markdown",
   "metadata": {},
   "source": [
    "# 5. Summarize Counts"
   ]
  },
  {
   "cell_type": "code",
   "execution_count": 3,
   "metadata": {},
   "outputs": [],
   "source": [
    "counts = summaryCounts()\n",
    "counts.to_pickle( common.getBaseDirectory() + \"data/counts/count_summary.pkl\")"
   ]
  },
  {
   "cell_type": "code",
   "execution_count": 4,
   "metadata": {},
   "outputs": [
    {
     "data": {
      "text/plain": [
       "array([ 42450.,  70548.,  18718., 579330.,  13669.,  20246.,   5100.,\n",
       "       188271.,  27349.,  49637.,  13213., 412463.,   8116.,  15497.,\n",
       "         3534., 132564.])"
      ]
     },
     "execution_count": 4,
     "metadata": {},
     "output_type": "execute_result"
    }
   ],
   "source": [
    "counts.ndata[0]"
   ]
  },
  {
   "cell_type": "code",
   "execution_count": null,
   "metadata": {},
   "outputs": [],
   "source": []
  }
 ],
 "metadata": {
  "kernelspec": {
   "display_name": "Python 3",
   "language": "python",
   "name": "python3"
  },
  "language_info": {
   "codemirror_mode": {
    "name": "ipython",
    "version": 3
   },
   "file_extension": ".py",
   "mimetype": "text/x-python",
   "name": "python",
   "nbconvert_exporter": "python",
   "pygments_lexer": "ipython3",
   "version": "3.6.4"
  }
 },
 "nbformat": 4,
 "nbformat_minor": 2
}
