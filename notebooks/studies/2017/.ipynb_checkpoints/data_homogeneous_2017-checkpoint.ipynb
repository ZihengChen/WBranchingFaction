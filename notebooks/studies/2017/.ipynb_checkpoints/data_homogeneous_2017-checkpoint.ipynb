{
 "cells": [
  {
   "cell_type": "code",
   "execution_count": 1,
   "metadata": {
    "collapsed": true
   },
   "outputs": [],
   "source": [
    "from utility_dfcutter import *\n",
    "from utility_dfplotter import *\n",
    "import utility_common as common\n",
    "%matplotlib inline"
   ]
  },
  {
   "cell_type": "code",
   "execution_count": 19,
   "metadata": {
    "collapsed": true
   },
   "outputs": [],
   "source": [
    "class PlotterManager:\n",
    "    def __init__(self,selection,nbjet, njet=None):\n",
    "        self.selection = selection\n",
    "        self.nbjet = nbjet\n",
    "        self.njet  = njet\n",
    "        self._setConfiguration() \n",
    "        \n",
    "    def getDataFrameList(self, variation=''):\n",
    "        dfList = []\n",
    "        for name in ['B','C','D','E','F']:\n",
    "            dfList.append(DFCutter(self.selection,self.nbjet,'data2016'+name, self.njet, folderOfPickles='pickles_2017').getDataFrame())\n",
    "        return dfList\n",
    "        \n",
    "    def _setConfiguration(self):\n",
    "        self.mcsgQueryList = []\n",
    "        self.labelList = ['17B: 4.8/fb',\n",
    "                          '17C: 9.7/fb',\n",
    "                          '17D: 4.3/fb',\n",
    "                          '17E: 9.3/fb',\n",
    "                          '17F:13.5/fb']\n",
    "        self.colorList = ['#e0301e','gold','springgreen','deepskyblue','mediumpurple']\n",
    "        \n",
    "        \n",
    "def makeAPlot(df_list, label_list, color_list, v,a,b,step,xl):\n",
    "    \n",
    "    \n",
    "    mybin         = np.arange(a,b,step)\n",
    "    variable_list = [mc[v].values for mc in df_list]\n",
    "    weight_list   = [mc['eventWeight'].values for mc in df_list]\n",
    "\n",
    "    plt.rc('figure',facecolor='w')\n",
    "    fig, axes = plt.subplots(2, 1, sharex=True, \n",
    "                             gridspec_kw={'height_ratios':[3,1]},\n",
    "                             figsize=(6,6))\n",
    "    fig.subplots_adjust(hspace=0)\n",
    "    \n",
    "    # upper plot\n",
    "    ax = axes[0]\n",
    "    mc =  ax.hist(variable_list, \n",
    "                  label   = label_list,\n",
    "                  color   = color_list,\n",
    "                  bins = mybin, lw=0, alpha=1, \n",
    "                  histtype='stepfilled',\n",
    "                  stacked=True\n",
    "                 )\n",
    "    mc = mc[0][-1]\n",
    "    \n",
    "    ax.text(0.04*b+0.96*a, 1.35*mc.max(), r'CMS $preliminary$',style='italic',fontsize='15',fontweight='bold')\n",
    "    ax.text(0.04*b+0.96*a, 1.2*mc.max(), r'$\\mu \\tau$ channel $(n_j\\geq 2,n_b=1 )$',style='italic',fontsize='12')\n",
    "    \n",
    "    ax.grid(True,linestyle='--',alpha=0.5)\n",
    "    ax.set_ylim(0,1.5*mc.max())\n",
    "    ax.legend()\n",
    "    ax.set_title('L=41.6/fb (13TeV)',loc='right')\n",
    "    \n",
    "    # lower plot\n",
    "    ax = axes[1]\n",
    "\n",
    "    lumin_list  = [4.823,9.664,4.252,9.278,13.540]\n",
    "    weight_list = [mc['eventWeight'].values/lumin_list[i] for i,mc in enumerate(df_list)]\n",
    "\n",
    "    mc =  ax.hist(variable_list, \n",
    "                  weights  = weight_list,\n",
    "                  label   = label_list,\n",
    "                  color   = color_list,\n",
    "                  bins = mybin, lw=1, alpha=1, \n",
    "                  histtype='step'\n",
    "                 )\n",
    "    mc = mc[0][2]\n",
    "    ax.set_ylabel('event per /fb',fontsize='10')\n",
    "    \n",
    "    ax.set_xlim(a, b)\n",
    "    ax.set_ylim(0,1.2*mc.max())\n",
    "    ax.grid(True,linestyle='--',alpha=0.5)\n",
    "    \n",
    "    ax.set_xlabel(xl,fontsize='12')\n",
    "        "
   ]
  },
  {
   "cell_type": "code",
   "execution_count": 18,
   "metadata": {
    "collapsed": true
   },
   "outputs": [],
   "source": [
    "selection,nbjet = 'muta','==1'\n",
    "pmng = PlotterManager(selection,nbjet)\n",
    "df_list = pmng.getDataFrameList()\n",
    "label_list = pmng.labelList\n",
    "color_list = pmng.colorList\n",
    "\n",
    "baseDir = common.getBaseDirectory()\n",
    "pp = pd.read_csv(baseDir+'python/plotterItemTables/itemTable_{}.csv'.format(selection))\n",
    "#pp = pd.read_csv(baseDir+'python/plotterItemTables/itemTable_{}.csv'.format('emu'))\n",
    "# v,a,b,step,xl = 'lepton2_eta',-3,3,0.1,'lepton1_eta'\n",
    "# makeAPlot(df_list,label_list,color_list,v,a,b,step,xl)\n",
    "\n",
    "for index, row in pp.iterrows():\n",
    "\n",
    "    v,a,b,step,xl = row['var'],row['lower'],row['upper'],row['step'],row['xlabel']\n",
    "\n",
    "    makeAPlot(df_list,label_list,color_list,v,a,b,step,xl)\n",
    "    plt.savefig(baseDir+'plots/data_kinematics/{}/1b/2017_{}_1b_{}.pdf'.format(selection,selection,v))\n",
    "    plt.close()"
   ]
  },
  {
   "cell_type": "code",
   "execution_count": null,
   "metadata": {
    "collapsed": true
   },
   "outputs": [],
   "source": []
  },
  {
   "cell_type": "code",
   "execution_count": 4,
   "metadata": {},
   "outputs": [],
   "source": [
    "temp = DFCutter(\"mu4j\",\"==1\",'data2016', folderOfPickles='pickles_2017').getDataFrame()"
   ]
  },
  {
   "cell_type": "code",
   "execution_count": 5,
   "metadata": {},
   "outputs": [
    {
     "data": {
      "text/plain": [
       "19124000"
      ]
     },
     "execution_count": 5,
     "metadata": {},
     "output_type": "execute_result"
    }
   ],
   "source": [
    "size(temp)"
   ]
  },
  {
   "cell_type": "code",
   "execution_count": null,
   "metadata": {
    "collapsed": true
   },
   "outputs": [],
   "source": []
  }
 ],
 "metadata": {
  "kernelspec": {
   "display_name": "Python 3",
   "language": "python",
   "name": "python3"
  },
  "language_info": {
   "codemirror_mode": {
    "name": "ipython",
    "version": 3
   },
   "file_extension": ".py",
   "mimetype": "text/x-python",
   "name": "python",
   "nbconvert_exporter": "python",
   "pygments_lexer": "ipython3",
   "version": "3.6.1"
  }
 },
 "nbformat": 4,
 "nbformat_minor": 2
}
