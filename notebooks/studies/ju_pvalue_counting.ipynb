{
 "cells": [
  {
   "cell_type": "code",
   "execution_count": 1,
   "metadata": {},
   "outputs": [],
   "source": [
    "#from utility_bfvariater import *\n",
    "from utility_bfcombiner import *\n",
    "from utility_common import *\n",
    "from utility_commonPlot import *\n",
    "from scipy.stats import multivariate_normal\n",
    "%matplotlib inline\n",
    "import matplotlib.patches as mpatches\n",
    "import matplotlib.pyplot as plt"
   ]
  },
  {
   "cell_type": "code",
   "execution_count": 2,
   "metadata": {},
   "outputs": [],
   "source": [
    "def get_ratio(beta_mean, beta_covar):\n",
    "    nsample = 100000\n",
    "    c = np.linalg.cholesky( beta_covar)\n",
    "    z = np.random.normal(size=(3,nsample))\n",
    "    y = beta_mean.reshape(3,1) + c.dot(z)\n",
    "    \n",
    "    r_mean = np.array([ beta_mean[0]/beta_mean[2], beta_mean[1]/beta_mean[2]])\n",
    "    r_covar = np.cov(np.stack([y[0]/y[2], y[1]/y[2]]))\n",
    "    return r_mean, r_covar"
   ]
  },
  {
   "cell_type": "code",
   "execution_count": 3,
   "metadata": {},
   "outputs": [
    {
     "name": "stdout",
     "output_type": "stream",
     "text": [
      "delta_eigenStd [0.01534765 0.10089305]\n",
      "delta_eigenStd [0.00328614 0.0130915 ]\n"
     ]
    }
   ],
   "source": [
    "beta_mean = np.load(\"../data/combine/beta_mean.npy\")*100\n",
    "beta_covar = np.load(\"../data/combine/beta_covar.npy\")*100**2\n",
    "beta_covar_stat = np.load(\"../data/combine/beta_covar_stat.npy\")*100**2\n",
    "\n",
    "\n",
    "r_mean, r_covar = get_ratio(beta_mean, beta_covar)\n",
    "r_mean_copy, r_covar_stat = get_ratio(beta_mean, beta_covar_stat)\n",
    "\n",
    "rv = multivariate_normal(r_mean, r_covar)\n",
    "statrv = multivariate_normal(r_mean_copy, r_covar_stat)\n",
    "\n",
    "r_invcovar=np.linalg.inv(r_covar)\n",
    "r_eigenStd = 1/np.linalg.eigvals(r_invcovar)**0.5\n",
    "print(\"delta_eigenStd\", r_eigenStd)\n",
    "\n",
    "r_invcovar=np.linalg.inv(r_covar_stat)\n",
    "r_eigenStd = 1/np.linalg.eigvals(r_invcovar)**0.5\n",
    "print(\"delta_eigenStd\", r_eigenStd)"
   ]
  },
  {
   "cell_type": "code",
   "execution_count": 4,
   "metadata": {},
   "outputs": [
    {
     "data": {
      "text/plain": [
       "array([[0.00507487, 0.00497016],\n",
       "       [0.00497016, 0.00534008]])"
      ]
     },
     "execution_count": 4,
     "metadata": {},
     "output_type": "execute_result"
    }
   ],
   "source": [
    "r_covar"
   ]
  },
  {
   "cell_type": "code",
   "execution_count": 5,
   "metadata": {},
   "outputs": [
    {
     "data": {
      "text/plain": [
       "array([[9.02198900e-05, 8.02895942e-05],\n",
       "       [8.02895942e-05, 9.19661702e-05]])"
      ]
     },
     "execution_count": 5,
     "metadata": {},
     "output_type": "execute_result"
    }
   ],
   "source": [
    "r_covar_stat"
   ]
  },
  {
   "cell_type": "code",
   "execution_count": 6,
   "metadata": {},
   "outputs": [
    {
     "name": "stdout",
     "output_type": "stream",
     "text": [
      "delta_eigenStd [0.00575435 0.02423312]\n",
      "delta_eigenStd [0.00732891 0.02965823]\n",
      "delta_eigenStd [0.02844298 0.00694208]\n",
      "delta_eigenStd [0.00829973 0.03114101]\n"
     ]
    }
   ],
   "source": [
    "fourbeta_mean  = np.load('../data/combine/centralValue.npy')*100\n",
    "fourbeta_covar = np.load('../data/combine/stat_covar.npy')[0]*100**2 #.sum(axis=0)\n",
    "\n",
    "fourbeta_mean = fourbeta_mean.reshape(4,3)\n",
    "temp = []\n",
    "for i in range(4):\n",
    "    temp.append( fourbeta_covar[3*i+0:3*i+3,3*i+0:3*i+3] )\n",
    "fourbeta_covar = np.array(temp)\n",
    "\n",
    "\n",
    "fourr_mean,fourr_covar = [], []\n",
    "for i in range(4):\n",
    "    m,var = get_ratio(fourbeta_mean[i],fourbeta_covar[i])\n",
    "    fourr_mean.append(m)\n",
    "    fourr_covar.append(var)\n",
    "fourr_mean,fourr_covar = np.array(fourr_mean),np.array(fourr_covar)   \n",
    "\n",
    "for i in range(4):\n",
    "    pdgr_invcovar=np.linalg.inv(fourr_covar[i])\n",
    "    pdgr_eigenStd = 1/np.linalg.eigvals(pdgr_invcovar)**0.5\n",
    "    print(\"delta_eigenStd\", pdgr_eigenStd)\n",
    "\n",
    "\n",
    "fourrv = [ multivariate_normal(fourr_mean[i], fourr_covar[i]) for i in range(4)]\n",
    "\n",
    "\n",
    "\n",
    "r_mutau1 = np.load(\"../data/combine/r_mutau1.npy\")\n",
    "r_mutau2 = np.load(\"../data/combine/r_mutau2.npy\")\n",
    "r_etau1  = np.load(\"../data/combine/r_etau1.npy\")\n",
    "r_etau2  = np.load(\"../data/combine/r_etau2.npy\")\n"
   ]
  },
  {
   "cell_type": "code",
   "execution_count": 7,
   "metadata": {},
   "outputs": [
    {
     "name": "stdout",
     "output_type": "stream",
     "text": [
      "delta_eigenStd [0.008611   0.02994589]\n"
     ]
    }
   ],
   "source": [
    "#PDG\n",
    "pdgbeta_mean=np.array([10.71, 10.63, 11.38])\n",
    "pdgbeta_sigma=np.array([0.16, 0.15, 0.21])\n",
    "pdgbeta_covar= np.outer(pdgbeta_sigma,pdgbeta_sigma)\n",
    "def getcovar(i,j,fstd):\n",
    "    fvar = fstd**2\n",
    "    f = pdgbeta_mean[i]/pdgbeta_mean[j]\n",
    "    # print(f,fstd)\n",
    "    value =  pdgbeta_covar[i,i]/pdgbeta_mean[i]**2 + pdgbeta_covar[j,j]/pdgbeta_mean[j]**2 -  fvar/f**2\n",
    "    value *= 0.5*pdgbeta_mean[i]*pdgbeta_mean[j]\n",
    "    pdgbeta_covar[i,j] = value\n",
    "    pdgbeta_covar[j,i] = value\n",
    "\n",
    "getcovar(1,0, 0.013)\n",
    "getcovar(2,0, 0.024)\n",
    "getcovar(2,1, 0.026)\n",
    "\n",
    "pdgr_mean, pdgr_covar = get_ratio(pdgbeta_mean,pdgbeta_covar)\n",
    "\n",
    "pdgrv = multivariate_normal(pdgr_mean, pdgr_covar)\n",
    "pdgr_invcovar=np.linalg.inv(pdgr_covar)\n",
    "pdgr_eigenStd = 1/np.linalg.eigvals(pdgr_invcovar)**0.5\n",
    "print(\"delta_eigenStd\", pdgr_eigenStd)"
   ]
  },
  {
   "cell_type": "code",
   "execution_count": 8,
   "metadata": {},
   "outputs": [
    {
     "name": "stdout",
     "output_type": "stream",
     "text": [
      "[10.71 10.63 11.38]\n",
      "[[ 0.0256      0.01427361  0.0032627 ]\n",
      " [ 0.01427361  0.0225     -0.00303531]\n",
      " [ 0.0032627  -0.00303531  0.0441    ]]\n"
     ]
    }
   ],
   "source": [
    "print(pdgbeta_mean)\n",
    "print(pdgbeta_covar)"
   ]
  },
  {
   "cell_type": "code",
   "execution_count": 9,
   "metadata": {},
   "outputs": [],
   "source": [
    "a = pdgbeta_covar/np.outer(pdgbeta_sigma,pdgbeta_sigma)\n",
    "np.save('../data/combine/pdgbeta_corr',a)"
   ]
  },
  {
   "cell_type": "code",
   "execution_count": 10,
   "metadata": {},
   "outputs": [],
   "source": [
    "# Our 2-dimensional distribution will be over variables X and Y\n",
    "N = 4000\n",
    "x = np.linspace(.82, 1.22, N)\n",
    "y = np.linspace(.82, 1.22, N)\n",
    "X, Y = np.meshgrid(x, y)\n",
    "\n",
    "# Pack X and Y into a single 3-dimensional array\n",
    "pos = np.empty(X.shape + (2,))\n",
    "pos[:, :, 0] = X\n",
    "pos[:, :, 1] = Y"
   ]
  },
  {
   "cell_type": "code",
   "execution_count": 39,
   "metadata": {},
   "outputs": [
    {
     "name": "stdout",
     "output_type": "stream",
     "text": [
      "0.8021402744210475\n",
      "0.13357642329027264\n"
     ]
    }
   ],
   "source": [
    "nll     = -rv.logpdf(pos) + rv.logpdf(r_mean)\n",
    "statnll = -statrv.logpdf(pos) + statrv.logpdf(r_mean_copy)\n",
    "pdgnll  = -pdgrv.logpdf(pos) + pdgrv.logpdf(pdgr_mean)\n",
    "fournll = [ -fourrv[i].logpdf(pos) + fourrv[i].logpdf(fourr_mean[i]) for i in range(4) ]\n",
    "\n",
    "def get_pvalue(Z, point):\n",
    "    points = np.array(point)\n",
    "    deltax = x[1]-x[0]\n",
    "    integral = Z[Z>rv.pdf(point)].sum() * deltax**2\n",
    "    pvalue = 1-integral\n",
    "    return pvalue\n",
    "         \n",
    "Z = rv.pdf(pos)\n",
    "pvalue = get_pvalue(Z, [1.001,1.001])\n",
    "print(pvalue)\n",
    "\n",
    "Z = pdgrv.pdf(pos)\n",
    "pdgpvalue = get_pvalue(Z, [1.001,1.001])\n",
    "print(pdgpvalue)"
   ]
  },
  {
   "cell_type": "code",
   "execution_count": 71,
   "metadata": {},
   "outputs": [
    {
     "name": "stderr",
     "output_type": "stream",
     "text": [
      "/home/zchen/anaconda3/lib/python3.7/site-packages/ipykernel_launcher.py:15: UserWarning: linewidths is ignored by contourf\n",
      "  from ipykernel import kernelapp as app\n"
     ]
    },
    {
     "data": {
      "image/png": "[encoded data removed]",
      "text/plain": [
       "<Figure size 432x432 with 1 Axes>"
      ]
     },
     "metadata": {},
     "output_type": "display_data"
    }
   ],
   "source": [
    "fig, ax = plt.subplots(figsize=(6,6),facecolor='w')\n",
    "\n",
    "\n",
    "    \n",
    "plt.contourf(X, Y, nll,[0, 0.5, 2],colors=[\"C2\",\"gold\"],alpha=1,zorder=0)\n",
    "# plt.contour(X, Y, nll,   [ 0.5, 2],colors=[\"C2\",\"gold\"],alpha=1,zorder=0)\n",
    "plt.contour(X, Y, pdgnll,[ 0.5, 2],colors=[\"red\",\"red\"],alpha=1,linestyles=[\"-\",\"--\"],zorder=0)\n",
    "\n",
    "plt.scatter(1.001,1.001,color='k',marker='P',s=200,label=\"Standard Model\",zorder=1)\n",
    "plt.scatter(pdgr_mean[0],pdgr_mean[1],color='r',marker='o',s=20,label=\"PDG\",zorder=1)\n",
    "plt.scatter(r_mean[0],r_mean[1],color='b',marker='*',s=50,label=\"Counting\",zorder=3)\n",
    "\n",
    "plt.contourf(X, Y, statnll, [ 0, 0.5], colors=[\"C0\"],alpha=1, zorder=2)\n",
    "for i in range(4):\n",
    "    plt.contourf(X, Y, fournll[i], [0, 0.5], colors=[\"C0\"], alpha=0.6, zorder=2, linewidths=[1])\n",
    "\n",
    "\n",
    "\n",
    "measuresLabel = [\"$\\mu_{1b}$\",\"$\\mu_{2b}$\",\"$e_{1b}$\",\"$e_{2b}$\"]\n",
    "plt.scatter( fourr_mean[:,0],fourr_mean[:,1],marker=\".\",color=\"b\",s=1,zorder=3,label=\"Counting (uncombined)\")\n",
    "for i in range(4):\n",
    "    props = dict(boxstyle='round', facecolor='lightblue', alpha=0.4, edgecolor=\"None\")\n",
    "    plt.text(fourr_mean[i,0]+0.002,fourr_mean[i,1]-0.002,measuresLabel[i], zorder=3) #bbox=props,\n",
    "for i in range(r_mutau1.shape[0]):\n",
    "    color = [\"C6\",\"c\",\"C6\",\"c\"]\n",
    "    for j in range(4):\n",
    "        plt.plot([r_etau1[i,j], r_etau2[i,j]], [r_mutau1[i,j], r_mutau2[i,j]],\"-\",lw=0.3, color=color[j], alpha=1, zorder=2)\n",
    "\n",
    "\n",
    "plt.grid(linestyle=\"--\",alpha=0.6)\n",
    "# plt.xticks([-1.5, -1,-.5,0,0.5,1,1.5],fontsize=12)\n",
    "# plt.yticks([-1.5,-1,-.5,0,0.5,1,1.5],fontsize=12)\n",
    "\n",
    "plt.xlim(0.85,1.2)\n",
    "plt.ylim(0.85,1.2)\n",
    "plt.xlabel(r\"$Br(W\\to e\\nu)$ / $Br(W\\to \\tau\\nu) $\",fontsize=12)\n",
    "plt.ylabel(r\"$Br(W\\to \\mu \\nu)$ / $Br(W\\to \\tau\\nu) $\",fontsize=12)\n",
    "\n",
    "pdgbetaText = \"PDG:\"\n",
    "pdgbetaText = pdgbetaText +\" \\n\" + r\"$\\beta_{e}   =$\" + r\"{:4.2f}$\\pm${:4.2f}\".format(pdgbeta_mean[0],pdgbeta_covar[0,0]**0.5)\n",
    "pdgbetaText = pdgbetaText +\" \\n\" + r\"$\\beta_{\\mu} =$\" + r\"{:4.2f}$\\pm${:4.2f}\".format(pdgbeta_mean[1],pdgbeta_covar[1,1]**0.5)\n",
    "pdgbetaText = pdgbetaText +\" \\n\" + r\"$\\beta_{\\tau}=$\" + r\"{:4.2f}$\\pm${:4.2f}\".format(pdgbeta_mean[2],pdgbeta_covar[2,2]**0.5)\n",
    "props = dict(boxstyle='round', facecolor='coral', alpha=0.4, edgecolor=\"k\")\n",
    "plt.text(pdgr_mean[0]+0.01, pdgr_mean[1]+0.02,pdgbetaText, verticalalignment='bottom',horizontalalignment='right', bbox=props)\n",
    "\n",
    "betaText = \"Counting: \" +r\"($p_{SM}$=\"+ \"{:4.3})\".format(pvalue)\n",
    "betaText = betaText +\" \\n\" + r\"$\\beta_{e}   =$\" + r\"{:4.2f}$\\pm${:4.2f}\".format(beta_mean[0],beta_covar[0,0]**0.5)\n",
    "betaText = betaText +\" \\n\" + r\"$\\beta_{\\mu} =$\" + r\"{:4.2f}$\\pm${:4.2f}\".format(beta_mean[1],beta_covar[1,1]**0.5)\n",
    "betaText = betaText +\" \\n\" + r\"$\\beta_{\\tau}=$\" + r\"{:4.2f}$\\pm${:4.2f}\".format(beta_mean[2],beta_covar[2,2]**0.5)\n",
    "props = dict(boxstyle='round', facecolor='lightblue', alpha=0.4, edgecolor=\"k\")\n",
    "plt.text(r_mean[0], r_mean[1]-0.02, betaText, verticalalignment='top', horizontalalignment='left', bbox=props)\n",
    "\n",
    "plt.text(0.04, 0.9, r'CMS $preliminary$', style='italic', fontsize='15', fontweight='bold', transform=ax.transAxes)\n",
    "plt.text(0.04, 0.85, r\"$\\mu_{1b (2b)}$: $\\mu e$, $\\mu\\mu$, $\\mu \\tau _h$, $\\mu j$ with $n_b=1$ ($n_b\\geq2$)\", fontsize='10', transform=ax.transAxes)\n",
    "plt.text(0.04, 0.80, r\"$e_{1b (2b)}$: $e e$, $e\\mu$, $e \\tau _h$, $ej$ with $n_b=1$ ($n_b\\geq2$)\", fontsize='10', transform=ax.transAxes)\n",
    "\n",
    "ax.set_title(\"Run 2016, L=35.9/fb\", loc='right', fontsize='12')\n",
    "# plt.text(0.04, 0.8, subtitle, fontsize='12', transform=ax.transAxes)\n",
    "\n",
    "\n",
    "\n",
    "handles, labels = plt.gca().get_legend_handles_labels()\n",
    "\n",
    "patch = plt.plot([],[], marker=\"o\",  ms=7, color=\"C6\", lw=1, markerfacecolor=\"C0\",markeredgewidth=0, alpha=0.6, label=\"Stat(area), Syst(line) Unc\")[0] \n",
    "handles.append(patch)\n",
    "# patch = plt.plot([],[], marker=\"o\", ms=0, color=\"C0\", lw=1, alpha=0.6, label=\"Syst Unc\")[0] \n",
    "# handles.append(patch)\n",
    "plt.legend(handles=handles,loc=\"lower right\",fontsize=10)\n",
    "\n",
    "\n",
    "# plt.legend(handles=patches, bbox_to_anchor=(0.5, 0.5), \n",
    "#            loc='center', ncol=2, facecolor=\"plum\", numpoints=1 )\n",
    "\n",
    "\n",
    "\n",
    "plt.savefig('../plots/combine/r2.png',dpi=300)\n",
    "plt.savefig('../plots/combine/r2.pdf')"
   ]
  },
  {
   "cell_type": "code",
   "execution_count": 21,
   "metadata": {},
   "outputs": [
    {
     "data": {
      "text/plain": [
       "[<matplotlib.collections.PathCollection at 0x7fdc2ac3e2d0>,\n",
       " <matplotlib.collections.PathCollection at 0x7fdc09e6cc10>,\n",
       " <matplotlib.collections.PathCollection at 0x7fdc2ae5c610>,\n",
       " <matplotlib.collections.PathCollection at 0x7fdc09fa5f10>]"
      ]
     },
     "execution_count": 21,
     "metadata": {},
     "output_type": "execute_result"
    }
   ],
   "source": [
    "handles"
   ]
  },
  {
   "cell_type": "code",
   "execution_count": 22,
   "metadata": {},
   "outputs": [
    {
     "data": {
      "text/plain": [
       "['SM', 'PDG', 'Counting', 'Counting (partial)']"
      ]
     },
     "execution_count": 22,
     "metadata": {},
     "output_type": "execute_result"
    }
   ],
   "source": [
    "labels"
   ]
  },
  {
   "cell_type": "code",
   "execution_count": null,
   "metadata": {},
   "outputs": [],
   "source": []
  },
  {
   "cell_type": "code",
   "execution_count": 9,
   "metadata": {},
   "outputs": [],
   "source": [
    "# C = np.linalg.cholesky(delta_covar)\n",
    "# x = np.random.normal(0,1,(10000,2))\n",
    "# x = np.matmul(C,x.T)\n",
    "# x = delta_mean[:,None] + x"
   ]
  },
  {
   "cell_type": "code",
   "execution_count": 18,
   "metadata": {},
   "outputs": [
    {
     "data": {
      "text/plain": [
       "array([[1.0800135 , 1.09717826],\n",
       "       [1.11834508, 1.10746719],\n",
       "       [1.0776976 , 1.06110845],\n",
       "       [1.0084219 , 1.02747097]])"
      ]
     },
     "execution_count": 18,
     "metadata": {},
     "output_type": "execute_result"
    }
   ],
   "source": [
    "measures\n",
    "\n",
    "# def get_pvalue_for_pos(rv):\n",
    "    \n",
    "#     Z = rv.pdf(pos)\n",
    "#     result = np.zeros_like(Z)\n",
    "    \n",
    "#     for i in range(N):\n",
    "#         for j in range(N):\n",
    "#             point = pos[i,j]\n",
    "#             result[i,j] = get_pvalue(Z, point)\n",
    "#     return result\n",
    "\n",
    "# pvalues = get_pvalue_for_pos(rv)\n",
    "# pdgpvalues = get_pvalue_for_pos(pdgrv)   "
   ]
  },
  {
   "cell_type": "code",
   "execution_count": null,
   "metadata": {},
   "outputs": [],
   "source": []
  }
 ],
 "metadata": {
  "kernelspec": {
   "display_name": "Python 3",
   "language": "python",
   "name": "python3"
  },
  "language_info": {
   "codemirror_mode": {
    "name": "ipython",
    "version": 3
   },
   "file_extension": ".py",
   "mimetype": "text/x-python",
   "name": "python",
   "nbconvert_exporter": "python",
   "pygments_lexer": "ipython3",
   "version": "3.7.6"
  }
 },
 "nbformat": 4,
 "nbformat_minor": 2
}
