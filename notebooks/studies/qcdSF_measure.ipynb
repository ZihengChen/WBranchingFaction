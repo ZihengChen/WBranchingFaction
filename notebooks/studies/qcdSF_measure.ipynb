{
 "cells": [
  {
   "cell_type": "code",
   "execution_count": 33,
   "metadata": {},
   "outputs": [],
   "source": [
    "import uproot\n",
    "from pylab import *\n",
    "import pandas as pd\n",
    "import utility_common as common\n",
    "from utility_dfplotter import *  "
   ]
  },
  {
   "cell_type": "code",
   "execution_count": 34,
   "metadata": {},
   "outputs": [],
   "source": [
    "class DotDict(dict):\n",
    "    \"\"\"dot.notation access to dictionary attributes\"\"\"\n",
    "    __getattr__ = dict.get\n",
    "    __setattr__ = dict.__setitem__\n",
    "    __delattr__ = dict.__delitem__\n",
    "\n",
    "\n",
    "        \n",
    "    \n",
    "class DFGetter():\n",
    "    def __init__(self, rootFile, selection, name):\n",
    "        self.f = uproot.open(rootFile)\n",
    "        self.selection = selection\n",
    "        self.name = name\n",
    "        self._get_name_list()\n",
    "        \n",
    "        \n",
    "    def get(self, features, slt):\n",
    "        df = pd.DataFrame()\n",
    "        for tName in self.tNameList:\n",
    "            tree =  self.f[self.selection+'/bltTree_'+tName]\n",
    "            temp = tree.pandas.df(features, namedecode=\"utf-8\")\n",
    "        \n",
    "            sf = self._get_scale_factor_to_lumin(tName)\n",
    "            temp['eventWeight'] = temp.eventWeight*sf\n",
    "            temp = temp.query(slt)\n",
    "            if \"nJets>=4\" in slt:\n",
    "                temp['leptonOneMetMt'] = (2*temp.leptonOnePt*temp.met*(1-np.cos(temp.leptonOnePhi-temp.metPhi )))**0.5 \n",
    "            temp['leptonOneMetDeltaPhi'] = np.arccos(np.cos(temp.leptonOnePhi-temp.metPhi))\n",
    "            temp['leptonOneHtDeltaPhi'] = np.arccos(np.cos(temp.leptonOnePhi-temp.htPhi))\n",
    "            df = pd.concat([df, temp])\n",
    "                \n",
    "                \n",
    "        return df\n",
    "    \n",
    "    def _get_scale_factor_to_lumin(self, tName, lumin=35.864):\n",
    "        xs = common.get_cross_section(tName)\n",
    "        \n",
    "        if xs:\n",
    "\n",
    "            histogram = self.f['TotalEvents_'+tName]\n",
    "            histogram = histogram.allvalues\n",
    "\n",
    "            nGenTotal = histogram[1] - 2*histogram[10]\n",
    "            # calculate SF to lumin\n",
    "            scaleFactor = lumin * xs/nGenTotal\n",
    "            return scaleFactor\n",
    "        else:\n",
    "            return 1.0\n",
    "            \n",
    "            \n",
    "    def _get_name_list(self):\n",
    "        ## 1. define the datalist\n",
    "        if self.name == 'data':\n",
    "            if self.selection in ['mu']:\n",
    "                self.tNameList = ['muon_2016'+str(p) for p in \"BCDEFGH\"]\n",
    "\n",
    "            if self.selection in ['e']:\n",
    "                self.tNameList = ['electron_2016'+str(p) for p in \"BCDEFGH\"]\n",
    "\n",
    "        ## 2. define the MC list\n",
    "        if self.name == 'vv': self.tNameList = [ 'ww','wz_2l2q','wz_3lnu','zz_2l2nu','zz_2l2q','zz_4l']\n",
    "        if self.name == 'z':  self.tNameList = [ 'zjets_m-10to50_amcatnlo','zjets_m-50_amcatnlo']\n",
    "        if self.name == 'w':  self.tNameList = [ 'w1jets','w2jets','w3jets','w4jets' ]\n",
    "        if self.name == 't':  self.tNameList = [ 'ttbar_inclusive','t_tw','tbar_tw','t_t','tbar_t']\n",
    "        if self.name == 'g':  self.tNameList = [ 'gjets_ht40to100','gjets_ht100to200','gjets_ht200to400','gjets_ht400to600','gjets_ht600toinf']"
   ]
  },
  {
   "cell_type": "code",
   "execution_count": 35,
   "metadata": {},
   "outputs": [],
   "source": [
    "def makePlots(selection,isoPass):\n",
    "    fileName  = \"../../data/root/Run2016_Singlelep_20200712.root\"\n",
    "\n",
    "    features  = ['eventWeight','leptonOneIso','leptonOnePt','leptonOneEta','leptonOnePhi','leptonOneIsoPass','leptonOneMetMt','nJets','nBJets','met','metPhi','htPhi']\n",
    "    slt = slt_jet + \"&leptonOneIsoPass==\"+str(isoPass)\n",
    "    \n",
    "    data = DFGetter(fileName,selection,'data').get(features,slt)\n",
    "    mcg  = DFGetter(fileName,selection,'g').get(features,slt)\n",
    "    mct  = DFGetter(fileName,selection,'t').get(features,slt)\n",
    "    mcw  = DFGetter(fileName,selection,'w').get(features,slt)\n",
    "    mcz  = DFGetter(fileName,selection,'z').get(features,slt)\n",
    "    mcvv = DFGetter(fileName,selection,'vv').get(features,slt)\n",
    "    dfList   = [mcvv,mcz,mcw,mct,mcg,data]\n",
    "\n",
    "\n",
    "    configs = [\n",
    "        ('leptonOneIso', 0, 0.31, 0.01, 'leptonOneIso'),\n",
    "        ('leptonOnePt', 20, 160, 5, 'leptonOnePt'),\n",
    "        ('leptonOneEta', -4, 4, 0.1, 'leptonOneEta'),\n",
    "        ('leptonOneMetMt', 0, 160, 5, 'leptonOneMetMt'),\n",
    "        ('leptonOneMetDeltaPhi', 0, 3.2, 0.1, 'leptonOneMetDeltaPhi'),\n",
    "        ('leptonOneHtDeltaPhi', 0, 3.2, 0.1, 'leptonOneHtDeltaPhi'),\n",
    "        ('nJets', 0, 10, 1, 'nJets'),\n",
    "        ('nBJets', 0, 10, 1, 'nBJets'),\n",
    "        ('met', 0, 120, 5, 'met')\n",
    "    ]\n",
    "\n",
    "    legends  = ['VV','Z','W',\"t\", r\"$\\gamma$\", \"data\"]\n",
    "    colors   = [\"C0\", \"C1\", \"C3\",\"C2\",\"C4\",'k']\n",
    "    if selection == \"mu\":\n",
    "        subtitle = r\"$\\mu$ channel, \"\n",
    "    else:\n",
    "        subtitle = r\"$e$ channel, \"\n",
    "\n",
    "    subtitle += slt_subtitle\n",
    "\n",
    "    if isoPass:\n",
    "        subtitle2 = \"$Tight$-iso\"\n",
    "    else:\n",
    "        subtitle2 = r\"$\\overline{Tight}$-iso\" \n",
    "\n",
    "\n",
    "    nqcd,nvarqcd = 0,0\n",
    "    legendsAdd = []\n",
    "    for i in range(len(dfList)):\n",
    "        n = dfList[i].eventWeight.sum()\n",
    "        nvar = sum(dfList[i].eventWeight**2)\n",
    "        string = \"{:.0f}\".format(n)+r\"$\\pm$\"+\"{:.0f}\".format(nvar**0.5)\n",
    "\n",
    "        print(string)\n",
    "        legendsAdd.append(string)\n",
    "\n",
    "        if i < len(dfList)-1:\n",
    "            nqcd -= n\n",
    "            nvarqcd += (0.1*n)**2\n",
    "        else:\n",
    "            nqcd += n\n",
    "        nvarqcd += nvar\n",
    "\n",
    "    string = \"{:,.0f}\".format(nqcd)+r\"$\\pm$\"+\"{:,.0f}\".format(nvarqcd**0.5) \n",
    "    print(string)\n",
    "    legendsAdd.append(string)\n",
    "\n",
    "    legends2 = [legends[i]+\": \"+legendsAdd[i] for i in range(len(legends))]\n",
    "\n",
    "\n",
    "    for config in configs:\n",
    "        v,a,b,step,xl = config\n",
    "\n",
    "        sk = ASingleKinematicPlot(v,a,b,step,dfList)\n",
    "        sk.settingPlot(xl,legends2,colors,period='2016',withXsErr=True)\n",
    "        sk.makePlot(showDiffInLower=True)\n",
    "\n",
    "        sk.axes[0].text(0.04, 0.8, subtitle, transform=sk.axes[0].transAxes, fontsize=12)\n",
    "        sk.axes[0].text(0.98, 0.35, subtitle2, transform=sk.axes[0].transAxes, fontsize=12,\n",
    "                        verticalalignment='bottom', horizontalalignment='right',\n",
    "                        bbox=dict(boxstyle='sawtooth', facecolor='0.7', alpha=0.3))\n",
    "        \n",
    "        string = \"Data-MC: \"+legendsAdd[-1]\n",
    "        sk.axes[1].text(0.98, 0.7, string, transform=sk.axes[1].transAxes, fontsize=11,\n",
    "                        verticalalignment='bottom', horizontalalignment='right', \n",
    "                        bbox=dict(boxstyle='round', facecolor='w', alpha=0.3))\n",
    "        \n",
    "        plt.savefig(\"{}/{}_{}_{}.png\".format(savedir,selection,v,isoPass),dpi=300)\n",
    "        plt.close()"
   ]
  },
  {
   "cell_type": "code",
   "execution_count": 43,
   "metadata": {},
   "outputs": [
    {
     "name": "stderr",
     "output_type": "stream",
     "text": [
      "/home/zchen/anaconda3/lib/python3.7/site-packages/ipykernel_launcher.py:29: SettingWithCopyWarning: \n",
      "A value is trying to be set on a copy of a slice from a DataFrame.\n",
      "Try using .loc[row_indexer,col_indexer] = value instead\n",
      "\n",
      "See the caveats in the documentation: https://pandas.pydata.org/pandas-docs/stable/user_guide/indexing.html#returning-a-view-versus-a-copy\n",
      "/home/zchen/anaconda3/lib/python3.7/site-packages/ipykernel_launcher.py:30: SettingWithCopyWarning: \n",
      "A value is trying to be set on a copy of a slice from a DataFrame.\n",
      "Try using .loc[row_indexer,col_indexer] = value instead\n",
      "\n",
      "See the caveats in the documentation: https://pandas.pydata.org/pandas-docs/stable/user_guide/indexing.html#returning-a-view-versus-a-copy\n"
     ]
    },
    {
     "name": "stdout",
     "output_type": "stream",
     "text": [
      "832$\\pm$9\n",
      "77333$\\pm$787\n",
      "216716$\\pm$1027\n",
      "309863$\\pm$351\n",
      "20694$\\pm$944\n",
      "1539626$\\pm$1241\n",
      "914,189$\\pm$38,706\n"
     ]
    },
    {
     "name": "stderr",
     "output_type": "stream",
     "text": [
      "/home/zchen/anaconda3/lib/python3.7/site-packages/ipykernel_launcher.py:29: SettingWithCopyWarning: \n",
      "A value is trying to be set on a copy of a slice from a DataFrame.\n",
      "Try using .loc[row_indexer,col_indexer] = value instead\n",
      "\n",
      "See the caveats in the documentation: https://pandas.pydata.org/pandas-docs/stable/user_guide/indexing.html#returning-a-view-versus-a-copy\n",
      "/home/zchen/anaconda3/lib/python3.7/site-packages/ipykernel_launcher.py:30: SettingWithCopyWarning: \n",
      "A value is trying to be set on a copy of a slice from a DataFrame.\n",
      "Try using .loc[row_indexer,col_indexer] = value instead\n",
      "\n",
      "See the caveats in the documentation: https://pandas.pydata.org/pandas-docs/stable/user_guide/indexing.html#returning-a-view-versus-a-copy\n"
     ]
    },
    {
     "name": "stdout",
     "output_type": "stream",
     "text": [
      "15$\\pm$1\n",
      "1447$\\pm$108\n",
      "3092$\\pm$116\n",
      "7199$\\pm$51\n",
      "827$\\pm$147\n",
      "386188$\\pm$621\n",
      "373,608$\\pm$1,038\n"
     ]
    },
    {
     "name": "stderr",
     "output_type": "stream",
     "text": [
      "/home/zchen/anaconda3/lib/python3.7/site-packages/ipykernel_launcher.py:29: SettingWithCopyWarning: \n",
      "A value is trying to be set on a copy of a slice from a DataFrame.\n",
      "Try using .loc[row_indexer,col_indexer] = value instead\n",
      "\n",
      "See the caveats in the documentation: https://pandas.pydata.org/pandas-docs/stable/user_guide/indexing.html#returning-a-view-versus-a-copy\n",
      "/home/zchen/anaconda3/lib/python3.7/site-packages/ipykernel_launcher.py:30: SettingWithCopyWarning: \n",
      "A value is trying to be set on a copy of a slice from a DataFrame.\n",
      "Try using .loc[row_indexer,col_indexer] = value instead\n",
      "\n",
      "See the caveats in the documentation: https://pandas.pydata.org/pandas-docs/stable/user_guide/indexing.html#returning-a-view-versus-a-copy\n"
     ]
    },
    {
     "name": "stdout",
     "output_type": "stream",
     "text": [
      "917$\\pm$8\n",
      "105248$\\pm$838\n",
      "131772$\\pm$783\n",
      "231169$\\pm$295\n",
      "93179$\\pm$1882\n",
      "995418$\\pm$998\n",
      "433,133$\\pm$30,192\n"
     ]
    },
    {
     "name": "stderr",
     "output_type": "stream",
     "text": [
      "/home/zchen/anaconda3/lib/python3.7/site-packages/ipykernel_launcher.py:29: SettingWithCopyWarning: \n",
      "A value is trying to be set on a copy of a slice from a DataFrame.\n",
      "Try using .loc[row_indexer,col_indexer] = value instead\n",
      "\n",
      "See the caveats in the documentation: https://pandas.pydata.org/pandas-docs/stable/user_guide/indexing.html#returning-a-view-versus-a-copy\n",
      "/home/zchen/anaconda3/lib/python3.7/site-packages/ipykernel_launcher.py:30: SettingWithCopyWarning: \n",
      "A value is trying to be set on a copy of a slice from a DataFrame.\n",
      "Try using .loc[row_indexer,col_indexer] = value instead\n",
      "\n",
      "See the caveats in the documentation: https://pandas.pydata.org/pandas-docs/stable/user_guide/indexing.html#returning-a-view-versus-a-copy\n"
     ]
    },
    {
     "name": "stdout",
     "output_type": "stream",
     "text": [
      "29$\\pm$2\n",
      "3298$\\pm$147\n",
      "3263$\\pm$125\n",
      "7153$\\pm$51\n",
      "6256$\\pm$539\n",
      "239714$\\pm$490\n",
      "219,715$\\pm$1,299\n"
     ]
    }
   ],
   "source": [
    "# savedir = \"../../plots/singlelep/123j/\"\n",
    "# slt_jet = 'nJets<4 & leptonOnePt>30'\n",
    "# slt_subtitle = r\"$1 \\leq n_j < 4$, \"\n",
    "\n",
    "# savedir = \"../../plots/singlelep/123j0b/\"\n",
    "# slt_jet = 'nJets<4 & nBJets==0 & leptonOnePt>30'\n",
    "# slt_subtitle = r\"$1 \\leq n_j < 4, n_b=0$, \"\n",
    "\n",
    "savedir = \"../../plots/singlelep/123j1b/\"\n",
    "slt_jet = 'nJets<4 & nBJets>=1 & leptonOnePt>30'\n",
    "slt_subtitle = r\"$1 \\leq n_j < 4, n_b\\geq 1$, \"\n",
    "\n",
    "\n",
    "for selection in ['mu','e']:\n",
    "    for isoPass in [True, False]:\n",
    "        makePlots(selection,isoPass)"
   ]
  },
  {
   "cell_type": "code",
   "execution_count": 44,
   "metadata": {},
   "outputs": [
    {
     "name": "stderr",
     "output_type": "stream",
     "text": [
      "/home/zchen/anaconda3/lib/python3.7/site-packages/ipykernel_launcher.py:29: SettingWithCopyWarning: \n",
      "A value is trying to be set on a copy of a slice from a DataFrame.\n",
      "Try using .loc[row_indexer,col_indexer] = value instead\n",
      "\n",
      "See the caveats in the documentation: https://pandas.pydata.org/pandas-docs/stable/user_guide/indexing.html#returning-a-view-versus-a-copy\n",
      "/home/zchen/anaconda3/lib/python3.7/site-packages/ipykernel_launcher.py:30: SettingWithCopyWarning: \n",
      "A value is trying to be set on a copy of a slice from a DataFrame.\n",
      "Try using .loc[row_indexer,col_indexer] = value instead\n",
      "\n",
      "See the caveats in the documentation: https://pandas.pydata.org/pandas-docs/stable/user_guide/indexing.html#returning-a-view-versus-a-copy\n"
     ]
    },
    {
     "name": "stdout",
     "output_type": "stream",
     "text": [
      "274$\\pm$5\n",
      "42770$\\pm$568\n",
      "125138$\\pm$880\n",
      "36337$\\pm$150\n",
      "13162$\\pm$834\n",
      "842591$\\pm$918\n",
      "624,910$\\pm$13,874\n"
     ]
    },
    {
     "name": "stderr",
     "output_type": "stream",
     "text": [
      "/home/zchen/anaconda3/lib/python3.7/site-packages/ipykernel_launcher.py:29: SettingWithCopyWarning: \n",
      "A value is trying to be set on a copy of a slice from a DataFrame.\n",
      "Try using .loc[row_indexer,col_indexer] = value instead\n",
      "\n",
      "See the caveats in the documentation: https://pandas.pydata.org/pandas-docs/stable/user_guide/indexing.html#returning-a-view-versus-a-copy\n",
      "/home/zchen/anaconda3/lib/python3.7/site-packages/ipykernel_launcher.py:30: SettingWithCopyWarning: \n",
      "A value is trying to be set on a copy of a slice from a DataFrame.\n",
      "Try using .loc[row_indexer,col_indexer] = value instead\n",
      "\n",
      "See the caveats in the documentation: https://pandas.pydata.org/pandas-docs/stable/user_guide/indexing.html#returning-a-view-versus-a-copy\n"
     ]
    },
    {
     "name": "stdout",
     "output_type": "stream",
     "text": [
      "4$\\pm$0\n",
      "898$\\pm$79\n",
      "1602$\\pm$95\n",
      "695$\\pm$20\n",
      "447$\\pm$133\n",
      "256310$\\pm$506\n",
      "252,664$\\pm$575\n"
     ]
    },
    {
     "name": "stderr",
     "output_type": "stream",
     "text": [
      "/home/zchen/anaconda3/lib/python3.7/site-packages/ipykernel_launcher.py:29: SettingWithCopyWarning: \n",
      "A value is trying to be set on a copy of a slice from a DataFrame.\n",
      "Try using .loc[row_indexer,col_indexer] = value instead\n",
      "\n",
      "See the caveats in the documentation: https://pandas.pydata.org/pandas-docs/stable/user_guide/indexing.html#returning-a-view-versus-a-copy\n",
      "/home/zchen/anaconda3/lib/python3.7/site-packages/ipykernel_launcher.py:30: SettingWithCopyWarning: \n",
      "A value is trying to be set on a copy of a slice from a DataFrame.\n",
      "Try using .loc[row_indexer,col_indexer] = value instead\n",
      "\n",
      "See the caveats in the documentation: https://pandas.pydata.org/pandas-docs/stable/user_guide/indexing.html#returning-a-view-versus-a-copy\n"
     ]
    },
    {
     "name": "stdout",
     "output_type": "stream",
     "text": [
      "256$\\pm$5\n",
      "53100$\\pm$564\n",
      "73387$\\pm$665\n",
      "28458$\\pm$125\n",
      "56948$\\pm$1663\n",
      "504870$\\pm$711\n",
      "292,721$\\pm$11,253\n"
     ]
    },
    {
     "name": "stderr",
     "output_type": "stream",
     "text": [
      "/home/zchen/anaconda3/lib/python3.7/site-packages/ipykernel_launcher.py:29: SettingWithCopyWarning: \n",
      "A value is trying to be set on a copy of a slice from a DataFrame.\n",
      "Try using .loc[row_indexer,col_indexer] = value instead\n",
      "\n",
      "See the caveats in the documentation: https://pandas.pydata.org/pandas-docs/stable/user_guide/indexing.html#returning-a-view-versus-a-copy\n",
      "/home/zchen/anaconda3/lib/python3.7/site-packages/ipykernel_launcher.py:30: SettingWithCopyWarning: \n",
      "A value is trying to be set on a copy of a slice from a DataFrame.\n",
      "Try using .loc[row_indexer,col_indexer] = value instead\n",
      "\n",
      "See the caveats in the documentation: https://pandas.pydata.org/pandas-docs/stable/user_guide/indexing.html#returning-a-view-versus-a-copy\n"
     ]
    },
    {
     "name": "stdout",
     "output_type": "stream",
     "text": [
      "8$\\pm$1\n",
      "1623$\\pm$95\n",
      "1811$\\pm$105\n",
      "852$\\pm$22\n",
      "4362$\\pm$497\n",
      "156291$\\pm$395\n",
      "147,635$\\pm$825\n"
     ]
    }
   ],
   "source": [
    "# # 1j\n",
    "# savedir = \"../../plots/singlelep/1j/\"\n",
    "# slt_jet = 'nJets==1 & leptonOnePt>30'\n",
    "# slt_subtitle = r\"$n_j=1$, \"\n",
    "\n",
    "savedir = \"../../plots/singlelep/1j1b/\"\n",
    "slt_jet = 'nJets==1 & nBJets>=1 & leptonOnePt>30'\n",
    "slt_subtitle = r\"$n_j=1,  n_b \\geq 1 $, \"\n",
    "\n",
    "\n",
    "for selection in ['mu','e']:\n",
    "    for isoPass in [True, False]:\n",
    "        makePlots(selection,isoPass)"
   ]
  },
  {
   "cell_type": "code",
   "execution_count": 45,
   "metadata": {},
   "outputs": [
    {
     "name": "stderr",
     "output_type": "stream",
     "text": [
      "/home/zchen/anaconda3/lib/python3.7/site-packages/ipykernel_launcher.py:29: SettingWithCopyWarning: \n",
      "A value is trying to be set on a copy of a slice from a DataFrame.\n",
      "Try using .loc[row_indexer,col_indexer] = value instead\n",
      "\n",
      "See the caveats in the documentation: https://pandas.pydata.org/pandas-docs/stable/user_guide/indexing.html#returning-a-view-versus-a-copy\n",
      "/home/zchen/anaconda3/lib/python3.7/site-packages/ipykernel_launcher.py:30: SettingWithCopyWarning: \n",
      "A value is trying to be set on a copy of a slice from a DataFrame.\n",
      "Try using .loc[row_indexer,col_indexer] = value instead\n",
      "\n",
      "See the caveats in the documentation: https://pandas.pydata.org/pandas-docs/stable/user_guide/indexing.html#returning-a-view-versus-a-copy\n"
     ]
    },
    {
     "name": "stdout",
     "output_type": "stream",
     "text": [
      "341$\\pm$5\n",
      "25022$\\pm$464\n",
      "65895$\\pm$468\n",
      "107923$\\pm$218\n",
      "5863$\\pm$417\n",
      "432245$\\pm$657\n",
      "227,201$\\pm$12,946\n"
     ]
    },
    {
     "name": "stderr",
     "output_type": "stream",
     "text": [
      "/home/zchen/anaconda3/lib/python3.7/site-packages/ipykernel_launcher.py:29: SettingWithCopyWarning: \n",
      "A value is trying to be set on a copy of a slice from a DataFrame.\n",
      "Try using .loc[row_indexer,col_indexer] = value instead\n",
      "\n",
      "See the caveats in the documentation: https://pandas.pydata.org/pandas-docs/stable/user_guide/indexing.html#returning-a-view-versus-a-copy\n",
      "/home/zchen/anaconda3/lib/python3.7/site-packages/ipykernel_launcher.py:30: SettingWithCopyWarning: \n",
      "A value is trying to be set on a copy of a slice from a DataFrame.\n",
      "Try using .loc[row_indexer,col_indexer] = value instead\n",
      "\n",
      "See the caveats in the documentation: https://pandas.pydata.org/pandas-docs/stable/user_guide/indexing.html#returning-a-view-versus-a-copy\n"
     ]
    },
    {
     "name": "stdout",
     "output_type": "stream",
     "text": [
      "7$\\pm$1\n",
      "374$\\pm$62\n",
      "1030$\\pm$58\n",
      "2517$\\pm$32\n",
      "267$\\pm$55\n",
      "98358$\\pm$314\n",
      "94,164$\\pm$431\n"
     ]
    },
    {
     "name": "stderr",
     "output_type": "stream",
     "text": [
      "/home/zchen/anaconda3/lib/python3.7/site-packages/ipykernel_launcher.py:29: SettingWithCopyWarning: \n",
      "A value is trying to be set on a copy of a slice from a DataFrame.\n",
      "Try using .loc[row_indexer,col_indexer] = value instead\n",
      "\n",
      "See the caveats in the documentation: https://pandas.pydata.org/pandas-docs/stable/user_guide/indexing.html#returning-a-view-versus-a-copy\n",
      "/home/zchen/anaconda3/lib/python3.7/site-packages/ipykernel_launcher.py:30: SettingWithCopyWarning: \n",
      "A value is trying to be set on a copy of a slice from a DataFrame.\n",
      "Try using .loc[row_indexer,col_indexer] = value instead\n",
      "\n",
      "See the caveats in the documentation: https://pandas.pydata.org/pandas-docs/stable/user_guide/indexing.html#returning-a-view-versus-a-copy\n"
     ]
    },
    {
     "name": "stdout",
     "output_type": "stream",
     "text": [
      "387$\\pm$5\n",
      "38520$\\pm$525\n",
      "41425$\\pm$364\n",
      "84114$\\pm$185\n",
      "26970$\\pm$828\n",
      "299527$\\pm$547\n",
      "108,110$\\pm$10,557\n"
     ]
    },
    {
     "name": "stderr",
     "output_type": "stream",
     "text": [
      "/home/zchen/anaconda3/lib/python3.7/site-packages/ipykernel_launcher.py:29: SettingWithCopyWarning: \n",
      "A value is trying to be set on a copy of a slice from a DataFrame.\n",
      "Try using .loc[row_indexer,col_indexer] = value instead\n",
      "\n",
      "See the caveats in the documentation: https://pandas.pydata.org/pandas-docs/stable/user_guide/indexing.html#returning-a-view-versus-a-copy\n",
      "/home/zchen/anaconda3/lib/python3.7/site-packages/ipykernel_launcher.py:30: SettingWithCopyWarning: \n",
      "A value is trying to be set on a copy of a slice from a DataFrame.\n",
      "Try using .loc[row_indexer,col_indexer] = value instead\n",
      "\n",
      "See the caveats in the documentation: https://pandas.pydata.org/pandas-docs/stable/user_guide/indexing.html#returning-a-view-versus-a-copy\n"
     ]
    },
    {
     "name": "stdout",
     "output_type": "stream",
     "text": [
      "12$\\pm$1\n",
      "1165$\\pm$95\n",
      "1036$\\pm$59\n",
      "2549$\\pm$31\n",
      "1366$\\pm$183\n",
      "61791$\\pm$249\n",
      "55,663$\\pm$466\n"
     ]
    }
   ],
   "source": [
    "# # 2j\n",
    "# savedir = \"../../plots/singlelep/2j/\"\n",
    "# slt_jet = 'nJets==2 & leptonOnePt>30'\n",
    "# slt_subtitle = r\"$n_j=2$, \"\n",
    "\n",
    "\n",
    "# 2j1b\n",
    "savedir = \"../../plots/singlelep/2j1b/\"\n",
    "slt_jet = 'nJets==2 & nBJets>=1 & leptonOnePt>30'\n",
    "slt_subtitle = r\"$n_j=2,  n_b \\geq 1 $, \"\n",
    "\n",
    "for selection in ['mu','e']:\n",
    "    for isoPass in [True, False]:\n",
    "        makePlots(selection,isoPass)"
   ]
  },
  {
   "cell_type": "code",
   "execution_count": 46,
   "metadata": {},
   "outputs": [
    {
     "name": "stderr",
     "output_type": "stream",
     "text": [
      "/home/zchen/anaconda3/lib/python3.7/site-packages/ipykernel_launcher.py:29: SettingWithCopyWarning: \n",
      "A value is trying to be set on a copy of a slice from a DataFrame.\n",
      "Try using .loc[row_indexer,col_indexer] = value instead\n",
      "\n",
      "See the caveats in the documentation: https://pandas.pydata.org/pandas-docs/stable/user_guide/indexing.html#returning-a-view-versus-a-copy\n",
      "/home/zchen/anaconda3/lib/python3.7/site-packages/ipykernel_launcher.py:30: SettingWithCopyWarning: \n",
      "A value is trying to be set on a copy of a slice from a DataFrame.\n",
      "Try using .loc[row_indexer,col_indexer] = value instead\n",
      "\n",
      "See the caveats in the documentation: https://pandas.pydata.org/pandas-docs/stable/user_guide/indexing.html#returning-a-view-versus-a-copy\n"
     ]
    },
    {
     "name": "stdout",
     "output_type": "stream",
     "text": [
      "216$\\pm$4\n",
      "9542$\\pm$284\n",
      "25683$\\pm$246\n",
      "165603$\\pm$231\n",
      "1669$\\pm$149\n",
      "264790$\\pm$515\n",
      "62,078$\\pm$16,801\n"
     ]
    },
    {
     "name": "stderr",
     "output_type": "stream",
     "text": [
      "/home/zchen/anaconda3/lib/python3.7/site-packages/ipykernel_launcher.py:29: SettingWithCopyWarning: \n",
      "A value is trying to be set on a copy of a slice from a DataFrame.\n",
      "Try using .loc[row_indexer,col_indexer] = value instead\n",
      "\n",
      "See the caveats in the documentation: https://pandas.pydata.org/pandas-docs/stable/user_guide/indexing.html#returning-a-view-versus-a-copy\n",
      "/home/zchen/anaconda3/lib/python3.7/site-packages/ipykernel_launcher.py:30: SettingWithCopyWarning: \n",
      "A value is trying to be set on a copy of a slice from a DataFrame.\n",
      "Try using .loc[row_indexer,col_indexer] = value instead\n",
      "\n",
      "See the caveats in the documentation: https://pandas.pydata.org/pandas-docs/stable/user_guide/indexing.html#returning-a-view-versus-a-copy\n"
     ]
    },
    {
     "name": "stdout",
     "output_type": "stream",
     "text": [
      "4$\\pm$0\n",
      "175$\\pm$39\n",
      "460$\\pm$33\n",
      "3987$\\pm$34\n",
      "113$\\pm$31\n",
      "31520$\\pm$178\n",
      "26,780$\\pm$445\n"
     ]
    },
    {
     "name": "stderr",
     "output_type": "stream",
     "text": [
      "/home/zchen/anaconda3/lib/python3.7/site-packages/ipykernel_launcher.py:29: SettingWithCopyWarning: \n",
      "A value is trying to be set on a copy of a slice from a DataFrame.\n",
      "Try using .loc[row_indexer,col_indexer] = value instead\n",
      "\n",
      "See the caveats in the documentation: https://pandas.pydata.org/pandas-docs/stable/user_guide/indexing.html#returning-a-view-versus-a-copy\n",
      "/home/zchen/anaconda3/lib/python3.7/site-packages/ipykernel_launcher.py:30: SettingWithCopyWarning: \n",
      "A value is trying to be set on a copy of a slice from a DataFrame.\n",
      "Try using .loc[row_indexer,col_indexer] = value instead\n",
      "\n",
      "See the caveats in the documentation: https://pandas.pydata.org/pandas-docs/stable/user_guide/indexing.html#returning-a-view-versus-a-copy\n"
     ]
    },
    {
     "name": "stdout",
     "output_type": "stream",
     "text": [
      "273$\\pm$4\n",
      "13628$\\pm$328\n",
      "16959$\\pm$195\n",
      "118597$\\pm$194\n",
      "9261$\\pm$302\n",
      "191021$\\pm$437\n",
      "32,302$\\pm$12,112\n"
     ]
    },
    {
     "name": "stderr",
     "output_type": "stream",
     "text": [
      "/home/zchen/anaconda3/lib/python3.7/site-packages/ipykernel_launcher.py:29: SettingWithCopyWarning: \n",
      "A value is trying to be set on a copy of a slice from a DataFrame.\n",
      "Try using .loc[row_indexer,col_indexer] = value instead\n",
      "\n",
      "See the caveats in the documentation: https://pandas.pydata.org/pandas-docs/stable/user_guide/indexing.html#returning-a-view-versus-a-copy\n",
      "/home/zchen/anaconda3/lib/python3.7/site-packages/ipykernel_launcher.py:30: SettingWithCopyWarning: \n",
      "A value is trying to be set on a copy of a slice from a DataFrame.\n",
      "Try using .loc[row_indexer,col_indexer] = value instead\n",
      "\n",
      "See the caveats in the documentation: https://pandas.pydata.org/pandas-docs/stable/user_guide/indexing.html#returning-a-view-versus-a-copy\n"
     ]
    },
    {
     "name": "stdout",
     "output_type": "stream",
     "text": [
      "10$\\pm$1\n",
      "509$\\pm$61\n",
      "416$\\pm$31\n",
      "3751$\\pm$33\n",
      "528$\\pm$98\n",
      "21632$\\pm$147\n",
      "16,418$\\pm$430\n"
     ]
    }
   ],
   "source": [
    "# # 3j\n",
    "# savedir = \"../../plots/singlelep/3j/\"\n",
    "# slt_jet = 'nJets==3 & leptonOnePt>30'\n",
    "# slt_subtitle = r\"$n_j=3$, \"\n",
    "\n",
    "# 3j1b\n",
    "savedir = \"../../plots/singlelep/3j1b/\"\n",
    "slt_jet = 'nJets==3 & nBJets>=1 & leptonOnePt>30'\n",
    "slt_subtitle = r\"$n_j=3,  n_b \\geq 1 $, \"\n",
    "\n",
    "for selection in ['mu','e']:\n",
    "    for isoPass in [True, False]:\n",
    "        makePlots(selection,isoPass)\n"
   ]
  },
  {
   "cell_type": "code",
   "execution_count": 47,
   "metadata": {},
   "outputs": [
    {
     "name": "stderr",
     "output_type": "stream",
     "text": [
      "/home/zchen/anaconda3/lib/python3.7/site-packages/ipykernel_launcher.py:28: SettingWithCopyWarning: \n",
      "A value is trying to be set on a copy of a slice from a DataFrame.\n",
      "Try using .loc[row_indexer,col_indexer] = value instead\n",
      "\n",
      "See the caveats in the documentation: https://pandas.pydata.org/pandas-docs/stable/user_guide/indexing.html#returning-a-view-versus-a-copy\n",
      "/home/zchen/anaconda3/lib/python3.7/site-packages/ipykernel_launcher.py:29: SettingWithCopyWarning: \n",
      "A value is trying to be set on a copy of a slice from a DataFrame.\n",
      "Try using .loc[row_indexer,col_indexer] = value instead\n",
      "\n",
      "See the caveats in the documentation: https://pandas.pydata.org/pandas-docs/stable/user_guide/indexing.html#returning-a-view-versus-a-copy\n",
      "/home/zchen/anaconda3/lib/python3.7/site-packages/ipykernel_launcher.py:30: SettingWithCopyWarning: \n",
      "A value is trying to be set on a copy of a slice from a DataFrame.\n",
      "Try using .loc[row_indexer,col_indexer] = value instead\n",
      "\n",
      "See the caveats in the documentation: https://pandas.pydata.org/pandas-docs/stable/user_guide/indexing.html#returning-a-view-versus-a-copy\n"
     ]
    },
    {
     "name": "stdout",
     "output_type": "stream",
     "text": [
      "472$\\pm$6\n",
      "9304$\\pm$291\n",
      "59294$\\pm$367\n",
      "931899$\\pm$496\n",
      "1698$\\pm$76\n",
      "1030187$\\pm$1015\n",
      "27,520$\\pm$93,391\n"
     ]
    },
    {
     "name": "stderr",
     "output_type": "stream",
     "text": [
      "/home/zchen/anaconda3/lib/python3.7/site-packages/ipykernel_launcher.py:28: SettingWithCopyWarning: \n",
      "A value is trying to be set on a copy of a slice from a DataFrame.\n",
      "Try using .loc[row_indexer,col_indexer] = value instead\n",
      "\n",
      "See the caveats in the documentation: https://pandas.pydata.org/pandas-docs/stable/user_guide/indexing.html#returning-a-view-versus-a-copy\n",
      "/home/zchen/anaconda3/lib/python3.7/site-packages/ipykernel_launcher.py:29: SettingWithCopyWarning: \n",
      "A value is trying to be set on a copy of a slice from a DataFrame.\n",
      "Try using .loc[row_indexer,col_indexer] = value instead\n",
      "\n",
      "See the caveats in the documentation: https://pandas.pydata.org/pandas-docs/stable/user_guide/indexing.html#returning-a-view-versus-a-copy\n",
      "/home/zchen/anaconda3/lib/python3.7/site-packages/ipykernel_launcher.py:30: SettingWithCopyWarning: \n",
      "A value is trying to be set on a copy of a slice from a DataFrame.\n",
      "Try using .loc[row_indexer,col_indexer] = value instead\n",
      "\n",
      "See the caveats in the documentation: https://pandas.pydata.org/pandas-docs/stable/user_guide/indexing.html#returning-a-view-versus-a-copy\n"
     ]
    },
    {
     "name": "stdout",
     "output_type": "stream",
     "text": [
      "10$\\pm$1\n",
      "210$\\pm$49\n",
      "1460$\\pm$57\n",
      "32788$\\pm$91\n",
      "171$\\pm$21\n",
      "50911$\\pm$226\n",
      "16,272$\\pm$3,292\n"
     ]
    },
    {
     "name": "stderr",
     "output_type": "stream",
     "text": [
      "/home/zchen/anaconda3/lib/python3.7/site-packages/ipykernel_launcher.py:28: SettingWithCopyWarning: \n",
      "A value is trying to be set on a copy of a slice from a DataFrame.\n",
      "Try using .loc[row_indexer,col_indexer] = value instead\n",
      "\n",
      "See the caveats in the documentation: https://pandas.pydata.org/pandas-docs/stable/user_guide/indexing.html#returning-a-view-versus-a-copy\n",
      "/home/zchen/anaconda3/lib/python3.7/site-packages/ipykernel_launcher.py:29: SettingWithCopyWarning: \n",
      "A value is trying to be set on a copy of a slice from a DataFrame.\n",
      "Try using .loc[row_indexer,col_indexer] = value instead\n",
      "\n",
      "See the caveats in the documentation: https://pandas.pydata.org/pandas-docs/stable/user_guide/indexing.html#returning-a-view-versus-a-copy\n",
      "/home/zchen/anaconda3/lib/python3.7/site-packages/ipykernel_launcher.py:30: SettingWithCopyWarning: \n",
      "A value is trying to be set on a copy of a slice from a DataFrame.\n",
      "Try using .loc[row_indexer,col_indexer] = value instead\n",
      "\n",
      "See the caveats in the documentation: https://pandas.pydata.org/pandas-docs/stable/user_guide/indexing.html#returning-a-view-versus-a-copy\n"
     ]
    },
    {
     "name": "stdout",
     "output_type": "stream",
     "text": [
      "623$\\pm$6\n",
      "14756$\\pm$345\n",
      "42252$\\pm$305\n",
      "688698$\\pm$421\n",
      "14632$\\pm$214\n",
      "768489$\\pm$877\n",
      "7,528$\\pm$69,039\n"
     ]
    },
    {
     "name": "stderr",
     "output_type": "stream",
     "text": [
      "/home/zchen/anaconda3/lib/python3.7/site-packages/ipykernel_launcher.py:28: SettingWithCopyWarning: \n",
      "A value is trying to be set on a copy of a slice from a DataFrame.\n",
      "Try using .loc[row_indexer,col_indexer] = value instead\n",
      "\n",
      "See the caveats in the documentation: https://pandas.pydata.org/pandas-docs/stable/user_guide/indexing.html#returning-a-view-versus-a-copy\n",
      "/home/zchen/anaconda3/lib/python3.7/site-packages/ipykernel_launcher.py:29: SettingWithCopyWarning: \n",
      "A value is trying to be set on a copy of a slice from a DataFrame.\n",
      "Try using .loc[row_indexer,col_indexer] = value instead\n",
      "\n",
      "See the caveats in the documentation: https://pandas.pydata.org/pandas-docs/stable/user_guide/indexing.html#returning-a-view-versus-a-copy\n",
      "/home/zchen/anaconda3/lib/python3.7/site-packages/ipykernel_launcher.py:30: SettingWithCopyWarning: \n",
      "A value is trying to be set on a copy of a slice from a DataFrame.\n",
      "Try using .loc[row_indexer,col_indexer] = value instead\n",
      "\n",
      "See the caveats in the documentation: https://pandas.pydata.org/pandas-docs/stable/user_guide/indexing.html#returning-a-view-versus-a-copy\n"
     ]
    },
    {
     "name": "stdout",
     "output_type": "stream",
     "text": [
      "21$\\pm$1\n",
      "487$\\pm$66\n",
      "1220$\\pm$52\n",
      "27876$\\pm$83\n",
      "775$\\pm$51\n",
      "50800$\\pm$225\n",
      "20,422$\\pm$2,804\n"
     ]
    }
   ],
   "source": [
    "# # 4j\n",
    "# savedir = \"../../plots/singlelep/4j/\"\n",
    "# slt_jet = 'nJets==4 & leptonOnePt>30'\n",
    "# slt_subtitle = r\"$n_j=4$, \"\n",
    "\n",
    "\n",
    "# # 4j0b\n",
    "# savedir = \"../../plots/singlelep/4j0b/\"\n",
    "# slt_jet = 'nJets>=4 & nBJets==0 & leptonOnePt>30'\n",
    "# slt_subtitle = r\"$ n_j \\geq 4,  n_b = 0 $, \"\n",
    "\n",
    "# 4j1b\n",
    "savedir = \"../../plots/singlelep/4j1b/\"\n",
    "slt_jet = 'nJets>=4 & nBJets>=1 & leptonOnePt>30'\n",
    "slt_subtitle = r\"$ n_j \\geq 4,  n_b \\geq 1 $, \"\n",
    "\n",
    "\n",
    "\n",
    "for selection in ['mu','e']:\n",
    "    for isoPass in [True, False]:\n",
    "        makePlots(selection,isoPass)"
   ]
  },
  {
   "cell_type": "code",
   "execution_count": 4,
   "metadata": {},
   "outputs": [],
   "source": [
    "def getRatio(k,n,kerr,nerr):\n",
    "    f = k/n\n",
    "    fvar = f**2 * (kerr**2/k**2 + nerr**2/n**2)\n",
    "    return f,fvar**0.5"
   ]
  },
  {
   "cell_type": "code",
   "execution_count": 6,
   "metadata": {},
   "outputs": [
    {
     "data": {
      "text/plain": [
       "(3.7314788750415846, 1.9807121243872179)"
      ]
     },
     "execution_count": 6,
     "metadata": {},
     "output_type": "execute_result"
    }
   ],
   "source": [
    "getRatio(145815,39077,76866,2433)"
   ]
  },
  {
   "cell_type": "code",
   "execution_count": 27,
   "metadata": {},
   "outputs": [],
   "source": [
    "# savedir = \"../../plots/singlelep/123j/\"\n",
    "savedir = \"../../plots/singlelep/123j1b/\"\n",
    "\n",
    "\n",
    "\n",
    "slt_jet = 'nJets<4 & leptonOnePt>25  & nBJets>=1'\n",
    "selection = 'mu'\n",
    "mybin1 = np.array([25,26,28,30,32,34,36,38,40,45,50,55,60,80])\n",
    "\n",
    "# slt_jet = 'nJets<4 & leptonOnePt>30 & nBJets>=1 '\n",
    "# selection = 'e'\n",
    "# mybin1 = np.array([30,32,34,36,38,40,45,50,55,60,80])\n",
    "\n",
    "\n",
    "\n",
    "mybin2 = np.array([-2.5, -2.0, -1.8, -1.444, -1.1, -0.8, -0.4, 0.0, 0.4, 0.8, 1.1, 1.444, 1.8, 2.0, 2.5])\n",
    "\n",
    "\n",
    "\n",
    "\n",
    "#for selection in ['mu','e']:\n",
    "    \n",
    "fileName  = \"../../data/root/Run2016_Singlelep_20200712.root\"\n",
    "features  = ['eventWeight','leptonOneIso','leptonOnePt','leptonOneEta','leptonOnePhi','leptonOneIsoPass','leptonOneMetMt','nJets','nBJets','met','metPhi','htPhi']\n",
    "# mct  = DFGetter(fileName,selection,'t').get(features,slt)\n",
    "# mcw  = DFGetter(fileName,selection,'w').get(features,slt)\n",
    "# mcz  = DFGetter(fileName,selection,'z').get(features,slt)\n",
    "# mcvv = DFGetter(fileName,selection,'vv').get(features,slt)\n",
    "# dfList   = [mcvv,mcz,mcw,mct,data]"
   ]
  },
  {
   "cell_type": "code",
   "execution_count": null,
   "metadata": {},
   "outputs": [],
   "source": [
    "\n"
   ]
  },
  {
   "cell_type": "code",
   "execution_count": 28,
   "metadata": {},
   "outputs": [],
   "source": [
    "def get_hist(isoPass):\n",
    "    slt = slt_jet + \"&leptonOneIsoPass==\"+str(isoPass)\n",
    "    \n",
    "    df = DFGetter(fileName,selection,'data').get(features,slt)\n",
    "    n    = np.histogram2d(df.leptonOnePt, df.leptonOneEta, bins = (mybin1,mybin2), weights = df.eventWeight)[0]\n",
    "    nVar = np.histogram2d(df.leptonOnePt, df.leptonOneEta, bins = (mybin1,mybin2), weights = df.eventWeight**2)[0]\n",
    "\n",
    "    df = DFGetter(fileName,selection,'t').get(features,slt)\n",
    "    n    -= np.histogram2d(df.leptonOnePt, df.leptonOneEta, bins = (mybin1,mybin2), weights = df.eventWeight)[0]\n",
    "    nVar += np.histogram2d(df.leptonOnePt, df.leptonOneEta, bins = (mybin1,mybin2), weights = df.eventWeight**2)[0]\n",
    "\n",
    "    df = DFGetter(fileName,selection,'w').get(features,slt)\n",
    "    n    -= np.histogram2d(df.leptonOnePt, df.leptonOneEta, bins = (mybin1,mybin2), weights = df.eventWeight)[0]\n",
    "    nVar += np.histogram2d(df.leptonOnePt, df.leptonOneEta, bins = (mybin1,mybin2), weights = df.eventWeight**2)[0]\n",
    "\n",
    "    df = DFGetter(fileName,selection,'z').get(features,slt)\n",
    "    n    -= np.histogram2d(df.leptonOnePt, df.leptonOneEta, bins = (mybin1,mybin2), weights = df.eventWeight)[0]\n",
    "    nVar += np.histogram2d(df.leptonOnePt, df.leptonOneEta, bins = (mybin1,mybin2), weights = df.eventWeight**2)[0]\n",
    "\n",
    "    df = DFGetter(fileName,selection,'vv').get(features,slt)\n",
    "    n    -= np.histogram2d(df.leptonOnePt, df.leptonOneEta, bins = (mybin1,mybin2), weights = df.eventWeight)[0]\n",
    "    nVar += np.histogram2d(df.leptonOnePt, df.leptonOneEta, bins = (mybin1,mybin2), weights = df.eventWeight**2)[0]\n",
    "    \n",
    "    df = DFGetter(fileName,selection,'g').get(features,slt)\n",
    "    n    -= np.histogram2d(df.leptonOnePt, df.leptonOneEta, bins = (mybin1,mybin2), weights = df.eventWeight)[0]\n",
    "    nVar += np.histogram2d(df.leptonOnePt, df.leptonOneEta, bins = (mybin1,mybin2), weights = df.eventWeight**2)[0]\n",
    "    return n, nVar**0.5"
   ]
  },
  {
   "cell_type": "code",
   "execution_count": 29,
   "metadata": {},
   "outputs": [
    {
     "name": "stderr",
     "output_type": "stream",
     "text": [
      "/home/zchen/anaconda3/lib/python3.7/site-packages/ipykernel_launcher.py:29: SettingWithCopyWarning: \n",
      "A value is trying to be set on a copy of a slice from a DataFrame.\n",
      "Try using .loc[row_indexer,col_indexer] = value instead\n",
      "\n",
      "See the caveats in the documentation: https://pandas.pydata.org/pandas-docs/stable/user_guide/indexing.html#returning-a-view-versus-a-copy\n",
      "/home/zchen/anaconda3/lib/python3.7/site-packages/ipykernel_launcher.py:30: SettingWithCopyWarning: \n",
      "A value is trying to be set on a copy of a slice from a DataFrame.\n",
      "Try using .loc[row_indexer,col_indexer] = value instead\n",
      "\n",
      "See the caveats in the documentation: https://pandas.pydata.org/pandas-docs/stable/user_guide/indexing.html#returning-a-view-versus-a-copy\n"
     ]
    }
   ],
   "source": [
    "nTrue, nTrueVar = get_hist(True)\n",
    "nFalse, nFalseVar = get_hist(False)"
   ]
  },
  {
   "cell_type": "code",
   "execution_count": 30,
   "metadata": {},
   "outputs": [],
   "source": [
    "sf, sferr = getRatio(nTrue,nFalse, nTrueVar, nFalseVar)"
   ]
  },
  {
   "cell_type": "code",
   "execution_count": 31,
   "metadata": {},
   "outputs": [
    {
     "data": {
      "image/png": "[encoded data removed]",
      "text/plain": [
       "<Figure size 432x288 with 2 Axes>"
      ]
     },
     "metadata": {
      "needs_background": "light"
     },
     "output_type": "display_data"
    }
   ],
   "source": [
    "plt.pcolor(mybin1, mybin2, sf.T, cmap=\"Spectral\",vmax=10,vmin=0)\n",
    "plt.colorbar()\n",
    "plt.xlabel(\"pt\")\n",
    "plt.ylabel(\"eta\")\n",
    "plt.axhline(1.444,color='k',linestyle=\"--\")\n",
    "plt.axhline(-1.444,color='k',linestyle=\"--\")\n",
    "plt.axvline(30,color='k',linestyle=\"--\")\n",
    "plt.title(\"SF \"+selection)\n",
    "plt.savefig(\"{}/SF_{}_2d.png\".format(savedir,selection),dpi=300)"
   ]
  },
  {
   "cell_type": "code",
   "execution_count": 32,
   "metadata": {
    "scrolled": true
   },
   "outputs": [],
   "source": [
    "np.save(\"{}/SF_{}_2d\".format(savedir,selection),sf)\n",
    "np.save(\"{}/SF_std_{}_2d\".format(savedir,selection),sferr)"
   ]
  },
  {
   "cell_type": "code",
   "execution_count": null,
   "metadata": {},
   "outputs": [],
   "source": []
  }
 ],
 "metadata": {
  "kernelspec": {
   "display_name": "Python 3",
   "language": "python",
   "name": "python3"
  },
  "language_info": {
   "codemirror_mode": {
    "name": "ipython",
    "version": 3
   },
   "file_extension": ".py",
   "mimetype": "text/x-python",
   "name": "python",
   "nbconvert_exporter": "python",
   "pygments_lexer": "ipython3",
   "version": "3.7.6"
  }
 },
 "nbformat": 4,
 "nbformat_minor": 4
}
