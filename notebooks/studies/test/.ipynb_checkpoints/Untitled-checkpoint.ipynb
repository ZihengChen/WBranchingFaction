{
 "cells": [
  {
   "cell_type": "code",
   "execution_count": 1,
   "metadata": {
    "collapsed": true
   },
   "outputs": [],
   "source": [
    "import utility_common as common\n",
    "from pylab import *\n",
    "from utility_bfsolver import *"
   ]
  },
  {
   "cell_type": "code",
   "execution_count": 2,
   "metadata": {
    "collapsed": true
   },
   "outputs": [],
   "source": [
    "baseDir = common.getBaseDirectory() \n",
    "counts = pd.read_pickle( baseDir + \"data/counts/count_.pkl\")"
   ]
  },
  {
   "cell_type": "code",
   "execution_count": 3,
   "metadata": {},
   "outputs": [],
   "source": [
    "BW = []\n",
    "isig  = 1 # ttbar\n",
    "for icat in range(4):\n",
    "    \n",
    "    \n",
    "    nmctt = counts.nmcsg[icat][:,isig]\n",
    "    acctt = counts.acc[icat][:,isig,:,:]"
   ]
  },
  {
   "cell_type": "code",
   "execution_count": null,
   "metadata": {},
   "outputs": [],
   "source": []
  },
  {
   "cell_type": "code",
   "execution_count": 6,
   "metadata": {
    "collapsed": true
   },
   "outputs": [],
   "source": [
    "slv = BFSolver3D(acctt, bte=0.1772832, btm=0.1731072)\n",
    "#slv = BFSolver3D(acctt, bte=0.1782, btm=0.1739)\n",
    "BW  = slv.solveQuadEqn(slv.setMeasuredX(nData=nmctt, nMcbg=np.zeros(4)))"
   ]
  },
  {
   "cell_type": "code",
   "execution_count": 7,
   "metadata": {},
   "outputs": [
    {
     "data": {
      "text/plain": [
       "array([0.10805503, 0.10796246, 0.10794057])"
      ]
     },
     "execution_count": 7,
     "metadata": {},
     "output_type": "execute_result"
    }
   ],
   "source": [
    "BW"
   ]
  },
  {
   "cell_type": "code",
   "execution_count": null,
   "metadata": {
    "collapsed": true
   },
   "outputs": [],
   "source": [
    "array([0.10800977, 0.10808308, 0.10809097])"
   ]
  }
 ],
 "metadata": {
  "kernelspec": {
   "display_name": "Python 3",
   "language": "python",
   "name": "python3"
  },
  "language_info": {
   "codemirror_mode": {
    "name": "ipython",
    "version": 3
   },
   "file_extension": ".py",
   "mimetype": "text/x-python",
   "name": "python",
   "nbconvert_exporter": "python",
   "pygments_lexer": "ipython3",
   "version": "3.6.1"
  }
 },
 "nbformat": 4,
 "nbformat_minor": 2
}
