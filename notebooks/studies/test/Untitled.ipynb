{
 "cells": [
  {
   "cell_type": "code",
   "execution_count": 1,
   "metadata": {
    "collapsed": true
   },
   "outputs": [],
   "source": [
    "import utility_common as common\n",
    "from pylab import *\n",
    "from utility_bfsolver import *"
   ]
  },
  {
   "cell_type": "code",
   "execution_count": 2,
   "metadata": {
    "collapsed": true
   },
   "outputs": [],
   "source": [
    "baseDir = common.getBaseDirectory() \n",
    "counts = pd.read_pickle( baseDir + \"data/counts/count_.pkl\")"
   ]
  },
  {
   "cell_type": "code",
   "execution_count": 14,
   "metadata": {},
   "outputs": [],
   "source": [
    "BW = []\n",
    "isig  = 1 # ttbar\n",
    "for icat in range(4):\n",
    "    nmctt = counts.nmcsg[icat][:,isig]\n",
    "    acctt = counts.acc[icat][:,isig,:,:]\n",
    "    slv = BFSolver3D(acctt, bte=0.1782, btm=0.1739)\n",
    "    #slv = BFSolver3D(acctt, bte=0.1772832, btm=0.1731072)\n",
    "    BW.append(slv.solveQuadEqn(slv.setMeasuredX(nData=nmctt, nMcbg=np.zeros(4))))\n",
    "BW = np.array(BW)"
   ]
  },
  {
   "cell_type": "code",
   "execution_count": 13,
   "metadata": {},
   "outputs": [
    {
     "data": {
      "text/plain": [
       "array([[0.10800977, 0.10808308, 0.10809097],\n",
       "       [0.10800967, 0.10808319, 0.10809101],\n",
       "       [0.10805503, 0.10796246, 0.10794057],\n",
       "       [0.10805505, 0.10796278, 0.10793834]])"
      ]
     },
     "execution_count": 13,
     "metadata": {},
     "output_type": "execute_result"
    }
   ],
   "source": [
    "BW"
   ]
  },
  {
   "cell_type": "code",
   "execution_count": 15,
   "metadata": {},
   "outputs": [
    {
     "data": {
      "text/plain": [
       "array([[0.10792968, 0.10796986, 0.10837173],\n",
       "       [0.10792995, 0.10797259, 0.10837311],\n",
       "       [0.10798081, 0.10785818, 0.10821837],\n",
       "       [0.10798213, 0.10785878, 0.10822211]])"
      ]
     },
     "execution_count": 15,
     "metadata": {},
     "output_type": "execute_result"
    }
   ],
   "source": [
    "BW"
   ]
  }
 ],
 "metadata": {
  "kernelspec": {
   "display_name": "Python 3",
   "language": "python",
   "name": "python3"
  },
  "language_info": {
   "codemirror_mode": {
    "name": "ipython",
    "version": 3
   },
   "file_extension": ".py",
   "mimetype": "text/x-python",
   "name": "python",
   "nbconvert_exporter": "python",
   "pygments_lexer": "ipython3",
   "version": "3.6.1"
  }
 },
 "nbformat": 4,
 "nbformat_minor": 2
}
