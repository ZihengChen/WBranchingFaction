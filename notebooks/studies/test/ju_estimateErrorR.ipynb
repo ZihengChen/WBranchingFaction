{
 "cells": [
  {
   "cell_type": "code",
   "execution_count": 7,
   "metadata": {},
   "outputs": [],
   "source": [
    "from utility_bferror import *\n",
    "import datetime\n",
    "\n",
    "\n",
    "tb = BFSolver_Toolbox()"
   ]
  },
  {
   "cell_type": "markdown",
   "metadata": {},
   "source": [
    "# 1. Try One Case"
   ]
  },
  {
   "cell_type": "code",
   "execution_count": 8,
   "metadata": {},
   "outputs": [],
   "source": [
    "counts = pd.read_pickle( common.getBaseDirectory() + \"data/counts/DNNcount_.pkl\")"
   ]
  },
  {
   "cell_type": "code",
   "execution_count": 20,
   "metadata": {},
   "outputs": [],
   "source": [
    "i = 2\n",
    "a = counts.acc[i]\n",
    "nmcbg = counts.nmcbg[i]\n",
    "ndata = counts.ndata[i]"
   ]
  },
  {
   "cell_type": "code",
   "execution_count": 21,
   "metadata": {},
   "outputs": [],
   "source": [
    "slv0 = RSovler(a)"
   ]
  },
  {
   "cell_type": "code",
   "execution_count": 22,
   "metadata": {},
   "outputs": [
    {
     "data": {
      "text/plain": [
       "0.625079905475392"
      ]
     },
     "execution_count": 22,
     "metadata": {},
     "output_type": "execute_result"
    }
   ],
   "source": [
    "slv0.setMeasuredX(ndata,nmcbg)"
   ]
  },
  {
   "cell_type": "code",
   "execution_count": 23,
   "metadata": {},
   "outputs": [
    {
     "data": {
      "text/plain": [
       "array([[[5.74371187e-02, 6.06847445e-06, 2.37225671e-02, 6.48628001e-06,\n",
       "         7.78542225e-05, 1.97943453e-05],\n",
       "        [6.06847445e-06, 0.00000000e+00, 2.47232011e-06, 0.00000000e+00,\n",
       "         0.00000000e+00, 0.00000000e+00],\n",
       "        [2.37225671e-02, 2.47232011e-06, 9.10102528e-03, 5.49019772e-06,\n",
       "         2.64499670e-05, 6.61331601e-06],\n",
       "        [6.48628001e-06, 0.00000000e+00, 5.49019772e-06, 0.00000000e+00,\n",
       "         0.00000000e+00, 0.00000000e+00],\n",
       "        [7.78542225e-05, 0.00000000e+00, 2.64499670e-05, 0.00000000e+00,\n",
       "         0.00000000e+00, 0.00000000e+00],\n",
       "        [1.97943453e-05, 0.00000000e+00, 6.61331601e-06, 0.00000000e+00,\n",
       "         0.00000000e+00, 6.41809748e-09]],\n",
       "\n",
       "       [[3.50675417e-02, 3.74868927e-06, 1.76092591e-02, 3.81052986e-06,\n",
       "         5.26071494e-05, 1.29955780e-05],\n",
       "        [3.74868927e-06, 0.00000000e+00, 1.11796343e-06, 0.00000000e+00,\n",
       "         0.00000000e+00, 0.00000000e+00],\n",
       "        [1.76092591e-02, 1.11796343e-06, 7.32390359e-03, 5.49019772e-06,\n",
       "         1.87571614e-05, 5.08613726e-06],\n",
       "        [3.81052986e-06, 0.00000000e+00, 5.49019772e-06, 0.00000000e+00,\n",
       "         0.00000000e+00, 0.00000000e+00],\n",
       "        [5.26071494e-05, 0.00000000e+00, 1.87571614e-05, 0.00000000e+00,\n",
       "         0.00000000e+00, 0.00000000e+00],\n",
       "        [1.29955780e-05, 0.00000000e+00, 5.08613726e-06, 0.00000000e+00,\n",
       "         0.00000000e+00, 0.00000000e+00]]])"
      ]
     },
     "execution_count": 23,
     "metadata": {},
     "output_type": "execute_result"
    }
   ],
   "source": [
    "a"
   ]
  },
  {
   "cell_type": "code",
   "execution_count": null,
   "metadata": {},
   "outputs": [],
   "source": []
  }
 ],
 "metadata": {
  "kernelspec": {
   "display_name": "Python 3",
   "language": "python",
   "name": "python3"
  },
  "language_info": {
   "codemirror_mode": {
    "name": "ipython",
    "version": 3
   },
   "file_extension": ".py",
   "mimetype": "text/x-python",
   "name": "python",
   "nbconvert_exporter": "python",
   "pygments_lexer": "ipython3",
   "version": "3.6.4"
  }
 },
 "nbformat": 4,
 "nbformat_minor": 2
}
