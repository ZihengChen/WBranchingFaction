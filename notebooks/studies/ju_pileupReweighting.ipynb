{
 "cells": [
  {
   "cell_type": "code",
   "execution_count": 1,
   "metadata": {},
   "outputs": [
    {
     "name": "stdout",
     "output_type": "stream",
     "text": [
      "Welcome to JupyROOT 6.16/00\n"
     ]
    }
   ],
   "source": [
    "import ROOT as root\n",
    "import utility_common as common\n",
    "from pylab import *"
   ]
  },
  {
   "cell_type": "code",
   "execution_count": 2,
   "metadata": {
    "collapsed": true
   },
   "outputs": [],
   "source": [
    "baseDir = common.getBaseDirectory() \n",
    "f0 = root.TFile(baseDir+'data/pileup/pileup_nominal.root')\n",
    "f1 = root.TFile(baseDir+'data/pileup/pileup_up.root')\n",
    "f2 = root.TFile(baseDir+'data/pileup/pileup_down.root')\n",
    "h0 = f0.Get('pileup')\n",
    "h1 = f1.Get('pileup')\n",
    "h2 = f2.Get('pileup')\n",
    "\n",
    "x, y1, y2 = [],[],[]\n",
    "for i in range(1,1000):\n",
    "    SFup   = h1.GetBinContent(i)/h0.GetBinContent(i)\n",
    "    SFdown = h2.GetBinContent(i)/h0.GetBinContent(i)\n",
    "    \n",
    "    x.append(h0.GetBinCenter(i))\n",
    "    y1.append(SFup)\n",
    "    y2.append(SFdown)\n",
    "x = np.array(x)\n",
    "y1= np.array(y1)\n",
    "y2= np.array(y2)\n",
    "\n",
    "np.save(baseDir+'/data/pileup/sf_PileupUp',y1)\n",
    "np.save(baseDir+'/data/pileup/sf_PileupDown',y2)"
   ]
  },
  {
   "cell_type": "code",
   "execution_count": 3,
   "metadata": {
    "collapsed": true
   },
   "outputs": [],
   "source": [
    "# make plot\n",
    "plt.figure(facecolor='w')\n",
    "plt.fill_between(x,y1,y2,color='C1',alpha=0.5,linewidth=0)\n",
    "plt.axhline(1,c='C1',lw=1,label='nominal')\n",
    "plt.plot(x,y1,'C0',linestyle='--',linewidth=1, label=r'$+\\sigma$')\n",
    "plt.plot(x,y2,'C2',linestyle='--',linewidth=1, label=r'$-\\sigma$')\n",
    "plt.legend(fontsize=12)\n",
    "\n",
    "plt.xlabel(r'$n_{pu}$ ',fontsize=13)\n",
    "plt.ylabel('SF ',fontsize=13)\n",
    "plt.title(r'PU reweight on top of nominal $\\sigma_{mb}$',fontsize=13)\n",
    "plt.grid(linestyle='--',linewidth=1, color='grey',alpha=0.2)\n",
    "plt.savefig(baseDir+'plots/puReweight.png',dpi=300)"
   ]
  },
  {
   "cell_type": "code",
   "execution_count": null,
   "metadata": {
    "collapsed": true
   },
   "outputs": [],
   "source": []
  }
 ],
 "metadata": {
  "kernelspec": {
   "display_name": "Python 3",
   "language": "python",
   "name": "python3"
  },
  "language_info": {
   "codemirror_mode": {
    "name": "ipython",
    "version": 3
   },
   "file_extension": ".py",
   "mimetype": "text/x-python",
   "name": "python",
   "nbconvert_exporter": "python",
   "pygments_lexer": "ipython3",
   "version": "3.6.1"
  }
 },
 "nbformat": 4,
 "nbformat_minor": 2
}
