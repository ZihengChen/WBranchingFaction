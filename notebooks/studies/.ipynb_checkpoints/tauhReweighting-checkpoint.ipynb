{
 "cells": [
  {
   "cell_type": "code",
   "execution_count": 1,
   "metadata": {
    "collapsed": true
   },
   "outputs": [],
   "source": [
    "from utility_dfcutter import *\n",
    "import utility_common as common\n",
    "%matplotlib inline"
   ]
  },
  {
   "cell_type": "code",
   "execution_count": 2,
   "metadata": {
    "collapsed": true
   },
   "outputs": [],
   "source": [
    "selection, nbjet, njet, variation = \"mutau\", \"==1\", None, \"\"\n",
    "MCtt = DFCutter(selection, nbjet, 'mctt', njet).getDataFrame(variation)\n",
    "MCtt0 = MCtt[MCtt.genCategory==15]"
   ]
  },
  {
   "cell_type": "code",
   "execution_count": 5,
   "metadata": {
    "collapsed": true
   },
   "outputs": [],
   "source": [
    "temp = MCtt0.genTauOneDaughters\n",
    "tauDecays = {}\n",
    "for key in temp:\n",
    "    if key in tauDecays:\n",
    "        tauDecays[key] +=1\n",
    "    else:\n",
    "        tauDecays[key] = 1"
   ]
  },
  {
   "cell_type": "code",
   "execution_count": 14,
   "metadata": {},
   "outputs": [
    {
     "data": {
      "image/png": "[encoded data removed]",
      "text/plain": [
       "<matplotlib.figure.Figure at 0x129ad7cf8>"
      ]
     },
     "metadata": {},
     "output_type": "display_data"
    }
   ],
   "source": [
    "h = [tauDecays[key] for key in [1000,11000,21000,31000,41000,1100,11100,1020,\n",
    "                                10,10010,110,10110,20010,\n",
    "                                3000,13000,23000, 1020, 2010,1020]]\n",
    "h += [temp.size-sum(h)]\n",
    "\n",
    "plt.figure(facecolor=\"w\",figsize=(15,3))\n",
    "x = np.arange(len(h))\n",
    "\n",
    "pi0,pic,k0,kc = r\"$\\pi^0$\",r\"$\\pi^\\pm$\",r\"$K^0$\",r\"$K^\\pm$\"\n",
    "\n",
    "plt.xticks(x,[pic, pi0+pic,\"2\"+pi0+pic,\"3\"+pi0+pic,\"4\"+pi0+pic, k0+pic, pi0+k0+pic, \"2\"+k0+pic,\n",
    "              kc, pi0+kc, k0+kc, pi0+k0+kc, \"2\"+pi0+kc,\n",
    "              \"3\"+pic, pi0+\"3\"+pic, \"2\"+pi0+\"3\"+pic, \"2\"+pic+kc, pic+\"2\"+kc, \"other\" \n",
    "             ]\n",
    "          )\n",
    "plt.bar(x,h,color='mediumpurple')\n",
    "#plt.grid(linestyle=\"--\",alpha=0.5)\n",
    "plt.axvline(-0.5,color=\"k\",linestyle='--')\n",
    "plt.axvline(9.5,color=\"k\",linestyle='--')\n",
    "plt.axvline(13.5,color=\"k\",linestyle='--')\n",
    "plt.savefig(\"../../plots/tauhDecay.png\",dpi=200)\n"
   ]
  },
  {
   "cell_type": "markdown",
   "metadata": {
    "collapsed": true
   },
   "source": [
    "# make new nGen.pkl"
   ]
  },
  {
   "cell_type": "code",
   "execution_count": 58,
   "metadata": {
    "collapsed": true
   },
   "outputs": [],
   "source": [
    "ngen_old = pd.read_pickle(\"../../data/pickles/ngen_old.pkl\")\n",
    "ngen_tt = pd.read_pickle(\"../../data/pickles/ngen_tt.pkl\")\n",
    "new = pd.concat([ngen_old,ngen_tt])\n",
    "\n",
    "new.reset_index(drop=True,inplace=True)\n",
    "new.drop(1,axis=0,inplace=True)\n",
    "new.reset_index(drop=True,inplace=True)\n",
    "new.to_pickle(\"../../data/pickles/ngen.pkl\")"
   ]
  },
  {
   "cell_type": "code",
   "execution_count": 61,
   "metadata": {
    "collapsed": true
   },
   "outputs": [],
   "source": []
  },
  {
   "cell_type": "code",
   "execution_count": 63,
   "metadata": {
    "collapsed": true
   },
   "outputs": [],
   "source": []
  },
  {
   "cell_type": "code",
   "execution_count": 10,
   "metadata": {
    "collapsed": true
   },
   "outputs": [],
   "source": [
    "a = pd.read_pickle(\"../../data/counts/count_{}.pkl\".format(\"TauHDecayReweight11000\"+\"Down\")).acc[0]\n",
    "b = pd.read_pickle(\"../../data/counts/count_{}.pkl\".format(\"\")).acc[0]"
   ]
  },
  {
   "cell_type": "code",
   "execution_count": 8,
   "metadata": {},
   "outputs": [
    {
     "data": {
      "text/plain": [
       "{2: 3,\n",
       " 10: 57,\n",
       " 11: 7,\n",
       " 110: 23,\n",
       " 1000: 962,\n",
       " 1002: 16,\n",
       " 1020: 22,\n",
       " 1100: 65,\n",
       " 2010: 62,\n",
       " 3000: 1440,\n",
       " 3100: 4,\n",
       " 5000: 3,\n",
       " 10010: 58,\n",
       " 10110: 21,\n",
       " 11000: 2578,\n",
       " 11001: 15,\n",
       " 11020: 1,\n",
       " 11100: 33,\n",
       " 11200: 2,\n",
       " 12010: 4,\n",
       " 13000: 358,\n",
       " 20010: 10,\n",
       " 21000: 1004,\n",
       " 21100: 4,\n",
       " 23000: 20,\n",
       " 30010: 3,\n",
       " 31000: 82,\n",
       " 41000: 9}"
      ]
     },
     "execution_count": 8,
     "metadata": {},
     "output_type": "execute_result"
    }
   ],
   "source": [
    "tauDecays"
   ]
  },
  {
   "cell_type": "code",
   "execution_count": null,
   "metadata": {
    "collapsed": true
   },
   "outputs": [],
   "source": []
  }
 ],
 "metadata": {
  "kernelspec": {
   "display_name": "Python 3",
   "language": "python",
   "name": "python3"
  },
  "language_info": {
   "codemirror_mode": {
    "name": "ipython",
    "version": 3
   },
   "file_extension": ".py",
   "mimetype": "text/x-python",
   "name": "python",
   "nbconvert_exporter": "python",
   "pygments_lexer": "ipython3",
   "version": "3.6.1"
  }
 },
 "nbformat": 4,
 "nbformat_minor": 2
}
