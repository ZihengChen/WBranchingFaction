{
 "cells": [
  {
   "cell_type": "code",
   "execution_count": 1,
   "metadata": {},
   "outputs": [],
   "source": [
    "from utility_dfcutter import *\n",
    "import utility_common as common\n",
    "%matplotlib inline"
   ]
  },
  {
   "cell_type": "code",
   "execution_count": 56,
   "metadata": {},
   "outputs": [],
   "source": [
    "MCtt = pd.read_pickle('/home/zchen/Documents/Analysis/wbranch/data/pickles/etau/mcttsys/ntuple_ttbar_inclusive_tauReweight.pkl')\n",
    "MCtt0 = MCtt[MCtt.genCategory==15]"
   ]
  },
  {
   "cell_type": "code",
   "execution_count": 32,
   "metadata": {},
   "outputs": [
    {
     "name": "stdout",
     "output_type": "stream",
     "text": [
      "/home/zchen/Documents/Analysis/wbranch/data/pickles/etau/\n"
     ]
    }
   ],
   "source": [
    "selection, nbjet, njet, variation = \"etau\", \"==1\", None, \"tauReweight\"\n",
    "MCtt = DFCutter(selection, nbjet, 'mctt', njet, \"pickles\").getDataFrame(variation)\n",
    "MCtt0 = MCtt[MCtt.genCategory==12]\n",
    "temp = MCtt0.genTauOneDaughters"
   ]
  },
  {
   "cell_type": "code",
   "execution_count": 33,
   "metadata": {},
   "outputs": [],
   "source": [
    "temp = MCtt0.genTauOneDaughters\n",
    "tauDecays = {}\n",
    "for key in temp:\n",
    "    if key in tauDecays:\n",
    "        tauDecays[key] +=1\n",
    "    else:\n",
    "        tauDecays[key] = 1"
   ]
  },
  {
   "cell_type": "code",
   "execution_count": 34,
   "metadata": {},
   "outputs": [
    {
     "data": {
      "text/plain": [
       "0       16\n",
       "1       12\n",
       "2       12\n",
       "3       12\n",
       "4       12\n",
       "        ..\n",
       "9416    12\n",
       "9417    16\n",
       "9418    16\n",
       "9419    16\n",
       "9420     7\n",
       "Name: genCategory, Length: 9421, dtype: int64"
      ]
     },
     "execution_count": 34,
     "metadata": {},
     "output_type": "execute_result"
    }
   ],
   "source": [
    "MCtt.genCategory"
   ]
  },
  {
   "cell_type": "code",
   "execution_count": 35,
   "metadata": {},
   "outputs": [
    {
     "data": {
      "text/plain": [
       "array([      0,      10,      11,     110,    1000,    1002,    1020,\n",
       "          1100,    2010,    3000,    5000,   10010,   10110,   11000,\n",
       "         11001,   11100,   12010,   13000,   20010,   21000,   21100,\n",
       "         23000,   30010,   31000,   41000,  100000, 1000000])"
      ]
     },
     "execution_count": 35,
     "metadata": {},
     "output_type": "execute_result"
    }
   ],
   "source": [
    "np.unique(MCtt.genTauOneDaughters)"
   ]
  },
  {
   "cell_type": "code",
   "execution_count": 36,
   "metadata": {},
   "outputs": [
    {
     "data": {
      "image/png": "[encoded data removed]",
      "text/plain": [
       "<Figure size 1080x216 with 1 Axes>"
      ]
     },
     "metadata": {},
     "output_type": "display_data"
    }
   ],
   "source": [
    "h = [tauDecays[key] for key in [1000,11000,21000,31000,41000,1100,11100,1020,\n",
    "                                10,10010,110,10110,20010,\n",
    "                                3000,13000,23000,  2010,1020]]\n",
    "h += [temp.size-sum(h)]\n",
    "\n",
    "plt.figure(facecolor=\"w\",figsize=(15,3))\n",
    "x = np.arange(len(h))\n",
    "\n",
    "pi0,pic,k0,kc = r\"$\\pi^0$\",r\"$\\pi^\\pm$\",r\"$K^0$\",r\"$K^\\pm$\"\n",
    "\n",
    "plt.xticks(x,[pic, pi0+pic,\"2\"+pi0+pic,\"3\"+pi0+pic,\"4\"+pi0+pic, k0+pic, pi0+k0+pic, \"2\"+k0+pic,\n",
    "              kc, pi0+kc, k0+kc, pi0+k0+kc, \"2\"+pi0+kc,\n",
    "              \"3\"+pic, pi0+\"3\"+pic, \"2\"+pi0+\"3\"+pic, \"2\"+pic+kc, pic+\"2\"+kc, \"other\" \n",
    "             ]\n",
    "          )\n",
    "plt.bar(x,h,color='mediumpurple',label=r\"$tt\\to e \\tau_h$\")\n",
    "plt.legend(loc=\"upper right\", fontsize=14)\n",
    "#plt.grid(linestyle=\"--\",alpha=0.5)\n",
    "plt.axvline(-0.5,color=\"k\",linestyle='--')\n",
    "plt.axvline(12.5,color=\"k\",linestyle='--')\n",
    "plt.axvline(17.5,color=\"k\",linestyle='--')\n",
    "plt.text(3,max(h),r\"$e \\tau$ channel, $n_j\\geq2, n_b\\geq2$\",color=\"k\", fontsize=14)\n",
    "plt.ylim(0,1.2*max(h))\n",
    "plt.savefig(\"../../plots/tauhDecay_etau.png\",dpi=200)\n"
   ]
  },
  {
   "cell_type": "markdown",
   "metadata": {
    "collapsed": true
   },
   "source": [
    "# make new nGen.pkl"
   ]
  },
  {
   "cell_type": "code",
   "execution_count": 58,
   "metadata": {
    "collapsed": true
   },
   "outputs": [],
   "source": [
    "ngen_old = pd.read_pickle(\"../../data/pickles/ngen_old.pkl\")\n",
    "ngen_tt = pd.read_pickle(\"../../data/pickles/ngen_tt.pkl\")\n",
    "new = pd.concat([ngen_old,ngen_tt])\n",
    "\n",
    "new.reset_index(drop=True,inplace=True)\n",
    "new.drop(1,axis=0,inplace=True)\n",
    "new.reset_index(drop=True,inplace=True)\n",
    "new.to_pickle(\"../../data/pickles/ngen.pkl\")"
   ]
  },
  {
   "cell_type": "code",
   "execution_count": 61,
   "metadata": {
    "collapsed": true
   },
   "outputs": [],
   "source": []
  },
  {
   "cell_type": "code",
   "execution_count": 63,
   "metadata": {
    "collapsed": true
   },
   "outputs": [],
   "source": []
  },
  {
   "cell_type": "code",
   "execution_count": 10,
   "metadata": {
    "collapsed": true
   },
   "outputs": [],
   "source": [
    "a = pd.read_pickle(\"../../data/counts/count_{}.pkl\".format(\"TauHDecayReweight11000\"+\"Down\")).acc[0]\n",
    "b = pd.read_pickle(\"../../data/counts/count_{}.pkl\".format(\"\")).acc[0]"
   ]
  },
  {
   "cell_type": "code",
   "execution_count": 8,
   "metadata": {},
   "outputs": [
    {
     "data": {
      "text/plain": [
       "{2: 3,\n",
       " 10: 57,\n",
       " 11: 7,\n",
       " 110: 23,\n",
       " 1000: 962,\n",
       " 1002: 16,\n",
       " 1020: 22,\n",
       " 1100: 65,\n",
       " 2010: 62,\n",
       " 3000: 1440,\n",
       " 3100: 4,\n",
       " 5000: 3,\n",
       " 10010: 58,\n",
       " 10110: 21,\n",
       " 11000: 2578,\n",
       " 11001: 15,\n",
       " 11020: 1,\n",
       " 11100: 33,\n",
       " 11200: 2,\n",
       " 12010: 4,\n",
       " 13000: 358,\n",
       " 20010: 10,\n",
       " 21000: 1004,\n",
       " 21100: 4,\n",
       " 23000: 20,\n",
       " 30010: 3,\n",
       " 31000: 82,\n",
       " 41000: 9}"
      ]
     },
     "execution_count": 8,
     "metadata": {},
     "output_type": "execute_result"
    }
   ],
   "source": [
    "tauDecays"
   ]
  },
  {
   "cell_type": "code",
   "execution_count": 1,
   "metadata": {},
   "outputs": [],
   "source": [
    "import uproot"
   ]
  },
  {
   "cell_type": "code",
   "execution_count": 4,
   "metadata": {},
   "outputs": [],
   "source": [
    "f = uproot.open(\"../../data/root/Run2016_ttsys_20200519.root\")"
   ]
  },
  {
   "cell_type": "code",
   "execution_count": 14,
   "metadata": {},
   "outputs": [],
   "source": [
    "v = ['genTauOneDaughters','genTauTwoDaughters','genCategory']\n",
    "df = f['mutau']['bltTree_ttbar_inclusive_tauReweight'].pandas.df(v, namedecode=\"utf-8\")"
   ]
  },
  {
   "cell_type": "code",
   "execution_count": 20,
   "metadata": {},
   "outputs": [
    {
     "data": {
      "text/plain": [
       "array([      0,  100000, 1000000], dtype=uint32)"
      ]
     },
     "execution_count": 20,
     "metadata": {},
     "output_type": "execute_result"
    }
   ],
   "source": [
    "np.unique(df.genTauOneDaughters)"
   ]
  },
  {
   "cell_type": "code",
   "execution_count": null,
   "metadata": {},
   "outputs": [],
   "source": []
  }
 ],
 "metadata": {
  "kernelspec": {
   "display_name": "Python 3",
   "language": "python",
   "name": "python3"
  },
  "language_info": {
   "codemirror_mode": {
    "name": "ipython",
    "version": 3
   },
   "file_extension": ".py",
   "mimetype": "text/x-python",
   "name": "python",
   "nbconvert_exporter": "python",
   "pygments_lexer": "ipython3",
   "version": "3.7.6"
  }
 },
 "nbformat": 4,
 "nbformat_minor": 2
}
