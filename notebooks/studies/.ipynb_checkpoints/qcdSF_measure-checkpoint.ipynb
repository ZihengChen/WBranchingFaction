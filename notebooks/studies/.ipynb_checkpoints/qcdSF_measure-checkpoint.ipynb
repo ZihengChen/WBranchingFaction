{
 "cells": [
  {
   "cell_type": "code",
   "execution_count": 10,
   "metadata": {},
   "outputs": [],
   "source": [
    "import uproot\n",
    "from pylab import *\n",
    "import pandas as pd\n",
    "import utility_common as common\n",
    "from utility_dfplotter import *  "
   ]
  },
  {
   "cell_type": "code",
   "execution_count": 11,
   "metadata": {},
   "outputs": [],
   "source": [
    "class DotDict(dict):\n",
    "    \"\"\"dot.notation access to dictionary attributes\"\"\"\n",
    "    __getattr__ = dict.get\n",
    "    __setattr__ = dict.__setitem__\n",
    "    __delattr__ = dict.__delitem__\n",
    "\n",
    "\n",
    "        \n",
    "    \n",
    "class DFGetter():\n",
    "    def __init__(self, rootFile, selection, name):\n",
    "        self.f = uproot.open(rootFile)\n",
    "        self.selection = selection\n",
    "        self.name = name\n",
    "        self._get_name_list()\n",
    "        \n",
    "        \n",
    "    def get(self, features, slt):\n",
    "        df = pd.DataFrame()\n",
    "        for tName in self.tNameList:\n",
    "            tree =  self.f[self.selection+'/bltTree_'+tName]\n",
    "            temp = tree.pandas.df(features, namedecode=\"utf-8\")\n",
    "        \n",
    "            sf = self._get_scale_factor_to_lumin(tName)\n",
    "            temp['eventWeight'] = temp.eventWeight*sf\n",
    "            temp = temp.query(slt)\n",
    "            if \"nJets>=4\" in slt:\n",
    "                temp['leptonOneMetMt'] = (2*temp.leptonOnePt*temp.met*(1-np.cos(temp.leptonOnePhi-temp.metPhi )))**0.5 \n",
    "            temp['leptonOneMetDeltaPhi'] = np.arccos(np.cos(temp.leptonOnePhi-temp.metPhi))\n",
    "            temp['leptonOneHtDeltaPhi'] = np.arccos(np.cos(temp.leptonOnePhi-temp.htPhi))\n",
    "            df = pd.concat([df, temp])\n",
    "                \n",
    "                \n",
    "        return df\n",
    "    \n",
    "    def _get_scale_factor_to_lumin(self, tName, lumin=35.864):\n",
    "        xs = common.get_cross_section(tName)\n",
    "        \n",
    "        if xs:\n",
    "\n",
    "            histogram = self.f['TotalEvents_'+tName]\n",
    "            histogram = histogram.allvalues\n",
    "\n",
    "            nGenTotal = histogram[1] - 2*histogram[10]\n",
    "            # calculate SF to lumin\n",
    "            scaleFactor = lumin * xs/nGenTotal\n",
    "            return scaleFactor\n",
    "        else:\n",
    "            return 1.0\n",
    "            \n",
    "            \n",
    "    def _get_name_list(self):\n",
    "        ## 1. define the datalist\n",
    "        if self.name == 'data':\n",
    "            if self.selection in ['mu']:\n",
    "                self.tNameList = ['muon_2016'+str(p) for p in \"BCDEFGH\"]\n",
    "\n",
    "            if self.selection in ['e']:\n",
    "                self.tNameList = ['electron_2016'+str(p) for p in \"BCDEFGH\"]\n",
    "\n",
    "        ## 2. define the MC list\n",
    "        if self.name == 'vv': self.tNameList = [ 'ww','wz_2l2q','wz_3lnu','zz_2l2nu','zz_2l2q','zz_4l']\n",
    "        if self.name == 'z':  self.tNameList = [ 'zjets_m-10to50_amcatnlo','zjets_m-50_amcatnlo']\n",
    "        if self.name == 'w':  self.tNameList = [ 'w1jets','w2jets','w3jets','w4jets' ]\n",
    "        if self.name == 't':  self.tNameList = [ 'ttbar_inclusive','t_tw','tbar_tw','t_t','tbar_t']\n"
   ]
  },
  {
   "cell_type": "code",
   "execution_count": 12,
   "metadata": {},
   "outputs": [],
   "source": [
    "def makePlots(selection,isoPass):\n",
    "    fileName  = \"../../data/root/Run2016_Singlelep_20200709.root\"\n",
    "\n",
    "    features  = ['eventWeight','leptonOneIso','leptonOnePt','leptonOneEta','leptonOnePhi','leptonOneIsoPass','leptonOneMetMt','nJets','nBJets','met','metPhi','htPhi']\n",
    "    slt = slt_jet + \"&leptonOneIsoPass==\"+str(isoPass)\n",
    "    \n",
    "    data = DFGetter(fileName,selection,'data').get(features,slt)\n",
    "    mct  = DFGetter(fileName,selection,'t').get(features,slt)\n",
    "    mcw  = DFGetter(fileName,selection,'w').get(features,slt)\n",
    "    mcz  = DFGetter(fileName,selection,'z').get(features,slt)\n",
    "    mcvv = DFGetter(fileName,selection,'vv').get(features,slt)\n",
    "    dfList   = [mcvv,mcz,mcw,mct,data]\n",
    "\n",
    "\n",
    "    configs = [\n",
    "        ('leptonOneIso', 0, 0.31, 0.01, 'leptonOneIso'),\n",
    "        ('leptonOnePt', 20, 160, 5, 'leptonOnePt'),\n",
    "        ('leptonOneEta', -4, 4, 0.1, 'leptonOneEta'),\n",
    "        ('leptonOneMetMt', 0, 160, 5, 'leptonOneMetMt'),\n",
    "        ('leptonOneMetDeltaPhi', 0, 3.2, 0.1, 'leptonOneMetDeltaPhi'),\n",
    "        ('leptonOneHtDeltaPhi', 0, 3.2, 0.1, 'leptonOneHtDeltaPhi'),\n",
    "        ('nJets', 0, 10, 1, 'nJets'),\n",
    "        ('nBJets', 0, 10, 1, 'nBJets'),\n",
    "        ('met', 0, 120, 5, 'met')\n",
    "    ]\n",
    "\n",
    "    legends  = ['VV','Z','W',\"t\",\"data\"]\n",
    "    colors   = [\"C0\", \"C1\", \"C3\",\"C2\",'k']\n",
    "    if selection == \"mu\":\n",
    "        subtitle = r\"$\\mu$ channel, \"\n",
    "    else:\n",
    "        subtitle = r\"$e$ channel, \"\n",
    "\n",
    "    subtitle += slt_subtitle\n",
    "\n",
    "    if isoPass:\n",
    "        subtitle2 = \"$Tight$-iso\"\n",
    "    else:\n",
    "        subtitle2 = r\"$\\overline{Tight}$-iso\" \n",
    "\n",
    "\n",
    "    nqcd,nvarqcd = 0,0\n",
    "    legendsAdd = []\n",
    "    for i in range(len(dfList)):\n",
    "        n = dfList[i].eventWeight.sum()\n",
    "        nvar = sum(dfList[i].eventWeight**2)\n",
    "        string = \"{:.0f}\".format(n)+r\"$\\pm$\"+\"{:.0f}\".format(nvar**0.5)\n",
    "\n",
    "        print(string)\n",
    "        legendsAdd.append(string)\n",
    "\n",
    "        if i < len(dfList)-1:\n",
    "            nqcd -= n\n",
    "            nvarqcd += (0.1*n)**2\n",
    "        else:\n",
    "            nqcd += n\n",
    "        nvarqcd += nvar\n",
    "\n",
    "    string = \"{:,.0f}\".format(nqcd)+r\"$\\pm$\"+\"{:,.0f}\".format(nvarqcd**0.5) \n",
    "    print(string)\n",
    "    legendsAdd.append(string)\n",
    "\n",
    "    legends2 = [legends[i]+\": \"+legendsAdd[i] for i in range(len(legends))]\n",
    "\n",
    "\n",
    "    for config in configs:\n",
    "        v,a,b,step,xl = config\n",
    "\n",
    "        sk = ASingleKinematicPlot(v,a,b,step,dfList)\n",
    "        sk.settingPlot(xl,legends2,colors,period='2016',withXsErr=True)\n",
    "        sk.makePlot(showDiffInLower=True)\n",
    "\n",
    "        sk.axes[0].text(0.04, 0.8, subtitle, transform=sk.axes[0].transAxes, fontsize=12)\n",
    "        sk.axes[0].text(0.98, 0.45, subtitle2, transform=sk.axes[0].transAxes, fontsize=12,\n",
    "                        verticalalignment='bottom', horizontalalignment='right',\n",
    "                        bbox=dict(boxstyle='sawtooth', facecolor='0.7', alpha=0.3))\n",
    "        \n",
    "        string = \"Data-MC: \"+legendsAdd[-1]\n",
    "        sk.axes[1].text(0.98, 0.7, string, transform=sk.axes[1].transAxes, fontsize=11,\n",
    "                        verticalalignment='bottom', horizontalalignment='right', \n",
    "                        bbox=dict(boxstyle='round', facecolor='w', alpha=0.3))\n",
    "        \n",
    "        plt.savefig(\"{}/{}_{}_{}.png\".format(savedir,selection,v,isoPass),dpi=300)\n",
    "        plt.close()"
   ]
  },
  {
   "cell_type": "code",
   "execution_count": 9,
   "metadata": {},
   "outputs": [
    {
     "name": "stderr",
     "output_type": "stream",
     "text": [
      "/home/zchen/anaconda3/lib/python3.7/site-packages/ipykernel_launcher.py:29: SettingWithCopyWarning: \n",
      "A value is trying to be set on a copy of a slice from a DataFrame.\n",
      "Try using .loc[row_indexer,col_indexer] = value instead\n",
      "\n",
      "See the caveats in the documentation: https://pandas.pydata.org/pandas-docs/stable/user_guide/indexing.html#returning-a-view-versus-a-copy\n",
      "/home/zchen/anaconda3/lib/python3.7/site-packages/ipykernel_launcher.py:30: SettingWithCopyWarning: \n",
      "A value is trying to be set on a copy of a slice from a DataFrame.\n",
      "Try using .loc[row_indexer,col_indexer] = value instead\n",
      "\n",
      "See the caveats in the documentation: https://pandas.pydata.org/pandas-docs/stable/user_guide/indexing.html#returning-a-view-versus-a-copy\n"
     ]
    },
    {
     "name": "stdout",
     "output_type": "stream",
     "text": [
      "832$\\pm$9\n",
      "77333$\\pm$787\n",
      "216716$\\pm$1027\n",
      "309863$\\pm$351\n",
      "1539626$\\pm$1241\n",
      "934,883$\\pm$38,639\n"
     ]
    },
    {
     "name": "stderr",
     "output_type": "stream",
     "text": [
      "/home/zchen/anaconda3/lib/python3.7/site-packages/ipykernel_launcher.py:29: SettingWithCopyWarning: \n",
      "A value is trying to be set on a copy of a slice from a DataFrame.\n",
      "Try using .loc[row_indexer,col_indexer] = value instead\n",
      "\n",
      "See the caveats in the documentation: https://pandas.pydata.org/pandas-docs/stable/user_guide/indexing.html#returning-a-view-versus-a-copy\n",
      "/home/zchen/anaconda3/lib/python3.7/site-packages/ipykernel_launcher.py:30: SettingWithCopyWarning: \n",
      "A value is trying to be set on a copy of a slice from a DataFrame.\n",
      "Try using .loc[row_indexer,col_indexer] = value instead\n",
      "\n",
      "See the caveats in the documentation: https://pandas.pydata.org/pandas-docs/stable/user_guide/indexing.html#returning-a-view-versus-a-copy\n"
     ]
    },
    {
     "name": "stdout",
     "output_type": "stream",
     "text": [
      "15$\\pm$1\n",
      "1447$\\pm$108\n",
      "3092$\\pm$116\n",
      "7199$\\pm$51\n",
      "386188$\\pm$621\n",
      "374,435$\\pm$1,024\n"
     ]
    },
    {
     "name": "stderr",
     "output_type": "stream",
     "text": [
      "/home/zchen/anaconda3/lib/python3.7/site-packages/ipykernel_launcher.py:29: SettingWithCopyWarning: \n",
      "A value is trying to be set on a copy of a slice from a DataFrame.\n",
      "Try using .loc[row_indexer,col_indexer] = value instead\n",
      "\n",
      "See the caveats in the documentation: https://pandas.pydata.org/pandas-docs/stable/user_guide/indexing.html#returning-a-view-versus-a-copy\n",
      "/home/zchen/anaconda3/lib/python3.7/site-packages/ipykernel_launcher.py:30: SettingWithCopyWarning: \n",
      "A value is trying to be set on a copy of a slice from a DataFrame.\n",
      "Try using .loc[row_indexer,col_indexer] = value instead\n",
      "\n",
      "See the caveats in the documentation: https://pandas.pydata.org/pandas-docs/stable/user_guide/indexing.html#returning-a-view-versus-a-copy\n"
     ]
    },
    {
     "name": "stdout",
     "output_type": "stream",
     "text": [
      "917$\\pm$8\n",
      "105248$\\pm$838\n",
      "131772$\\pm$783\n",
      "231169$\\pm$295\n",
      "995419$\\pm$998\n",
      "526,314$\\pm$28,657\n"
     ]
    },
    {
     "name": "stderr",
     "output_type": "stream",
     "text": [
      "/home/zchen/anaconda3/lib/python3.7/site-packages/ipykernel_launcher.py:29: SettingWithCopyWarning: \n",
      "A value is trying to be set on a copy of a slice from a DataFrame.\n",
      "Try using .loc[row_indexer,col_indexer] = value instead\n",
      "\n",
      "See the caveats in the documentation: https://pandas.pydata.org/pandas-docs/stable/user_guide/indexing.html#returning-a-view-versus-a-copy\n",
      "/home/zchen/anaconda3/lib/python3.7/site-packages/ipykernel_launcher.py:30: SettingWithCopyWarning: \n",
      "A value is trying to be set on a copy of a slice from a DataFrame.\n",
      "Try using .loc[row_indexer,col_indexer] = value instead\n",
      "\n",
      "See the caveats in the documentation: https://pandas.pydata.org/pandas-docs/stable/user_guide/indexing.html#returning-a-view-versus-a-copy\n"
     ]
    },
    {
     "name": "stdout",
     "output_type": "stream",
     "text": [
      "29$\\pm$2\n",
      "3298$\\pm$147\n",
      "3263$\\pm$125\n",
      "7153$\\pm$51\n",
      "239714$\\pm$490\n",
      "225,971$\\pm$1,003\n"
     ]
    }
   ],
   "source": [
    "# savedir = \"../../plots/singlelep/123j/\"\n",
    "# slt_jet = 'nJets<4 & leptonOnePt>30'\n",
    "# slt_subtitle = r\"$1 \\leq n_j < 4$, \"\n",
    "\n",
    "# savedir = \"../../plots/singlelep/123j0b/\"\n",
    "# slt_jet = 'nJets<4 & nBJets==0 & leptonOnePt>30'\n",
    "# slt_subtitle = r\"$1 \\leq n_j < 4, n_b=0$, \"\n",
    "\n",
    "savedir = \"../../plots/singlelep/123j1b/\"\n",
    "slt_jet = 'nJets<4 & nBJets>=1 & leptonOnePt>30'\n",
    "slt_subtitle = r\"$1 \\leq n_j < 4, n_b\\geq 1$, \"\n",
    "\n",
    "\n",
    "for selection in ['mu','e']:\n",
    "    for isoPass in [True, False]:\n",
    "        makePlots(selection,isoPass)"
   ]
  },
  {
   "cell_type": "code",
   "execution_count": 14,
   "metadata": {},
   "outputs": [
    {
     "name": "stderr",
     "output_type": "stream",
     "text": [
      "/home/zchen/anaconda3/lib/python3.7/site-packages/ipykernel_launcher.py:29: SettingWithCopyWarning: \n",
      "A value is trying to be set on a copy of a slice from a DataFrame.\n",
      "Try using .loc[row_indexer,col_indexer] = value instead\n",
      "\n",
      "See the caveats in the documentation: https://pandas.pydata.org/pandas-docs/stable/user_guide/indexing.html#returning-a-view-versus-a-copy\n",
      "/home/zchen/anaconda3/lib/python3.7/site-packages/ipykernel_launcher.py:30: SettingWithCopyWarning: \n",
      "A value is trying to be set on a copy of a slice from a DataFrame.\n",
      "Try using .loc[row_indexer,col_indexer] = value instead\n",
      "\n",
      "See the caveats in the documentation: https://pandas.pydata.org/pandas-docs/stable/user_guide/indexing.html#returning-a-view-versus-a-copy\n"
     ]
    },
    {
     "name": "stdout",
     "output_type": "stream",
     "text": [
      "274$\\pm$5\n",
      "42770$\\pm$568\n",
      "125138$\\pm$880\n",
      "36337$\\pm$150\n",
      "842591$\\pm$918\n",
      "638,072$\\pm$13,786\n"
     ]
    },
    {
     "name": "stderr",
     "output_type": "stream",
     "text": [
      "/home/zchen/anaconda3/lib/python3.7/site-packages/ipykernel_launcher.py:29: SettingWithCopyWarning: \n",
      "A value is trying to be set on a copy of a slice from a DataFrame.\n",
      "Try using .loc[row_indexer,col_indexer] = value instead\n",
      "\n",
      "See the caveats in the documentation: https://pandas.pydata.org/pandas-docs/stable/user_guide/indexing.html#returning-a-view-versus-a-copy\n",
      "/home/zchen/anaconda3/lib/python3.7/site-packages/ipykernel_launcher.py:30: SettingWithCopyWarning: \n",
      "A value is trying to be set on a copy of a slice from a DataFrame.\n",
      "Try using .loc[row_indexer,col_indexer] = value instead\n",
      "\n",
      "See the caveats in the documentation: https://pandas.pydata.org/pandas-docs/stable/user_guide/indexing.html#returning-a-view-versus-a-copy\n"
     ]
    },
    {
     "name": "stdout",
     "output_type": "stream",
     "text": [
      "4$\\pm$0\n",
      "898$\\pm$79\n",
      "1602$\\pm$95\n",
      "695$\\pm$20\n",
      "256310$\\pm$506\n",
      "253,111$\\pm$557\n"
     ]
    },
    {
     "name": "stderr",
     "output_type": "stream",
     "text": [
      "/home/zchen/anaconda3/lib/python3.7/site-packages/ipykernel_launcher.py:29: SettingWithCopyWarning: \n",
      "A value is trying to be set on a copy of a slice from a DataFrame.\n",
      "Try using .loc[row_indexer,col_indexer] = value instead\n",
      "\n",
      "See the caveats in the documentation: https://pandas.pydata.org/pandas-docs/stable/user_guide/indexing.html#returning-a-view-versus-a-copy\n",
      "/home/zchen/anaconda3/lib/python3.7/site-packages/ipykernel_launcher.py:30: SettingWithCopyWarning: \n",
      "A value is trying to be set on a copy of a slice from a DataFrame.\n",
      "Try using .loc[row_indexer,col_indexer] = value instead\n",
      "\n",
      "See the caveats in the documentation: https://pandas.pydata.org/pandas-docs/stable/user_guide/indexing.html#returning-a-view-versus-a-copy\n"
     ]
    },
    {
     "name": "stdout",
     "output_type": "stream",
     "text": [
      "256$\\pm$5\n",
      "53100$\\pm$564\n",
      "73387$\\pm$665\n",
      "28458$\\pm$125\n",
      "504871$\\pm$711\n",
      "349,670$\\pm$9,562\n"
     ]
    },
    {
     "name": "stderr",
     "output_type": "stream",
     "text": [
      "/home/zchen/anaconda3/lib/python3.7/site-packages/ipykernel_launcher.py:29: SettingWithCopyWarning: \n",
      "A value is trying to be set on a copy of a slice from a DataFrame.\n",
      "Try using .loc[row_indexer,col_indexer] = value instead\n",
      "\n",
      "See the caveats in the documentation: https://pandas.pydata.org/pandas-docs/stable/user_guide/indexing.html#returning-a-view-versus-a-copy\n",
      "/home/zchen/anaconda3/lib/python3.7/site-packages/ipykernel_launcher.py:30: SettingWithCopyWarning: \n",
      "A value is trying to be set on a copy of a slice from a DataFrame.\n",
      "Try using .loc[row_indexer,col_indexer] = value instead\n",
      "\n",
      "See the caveats in the documentation: https://pandas.pydata.org/pandas-docs/stable/user_guide/indexing.html#returning-a-view-versus-a-copy\n"
     ]
    },
    {
     "name": "stdout",
     "output_type": "stream",
     "text": [
      "8$\\pm$1\n",
      "1623$\\pm$95\n",
      "1811$\\pm$105\n",
      "852$\\pm$22\n",
      "156291$\\pm$395\n",
      "151,997$\\pm$493\n"
     ]
    }
   ],
   "source": [
    "# 1j\n",
    "# savedir = \"../../plots/singlelep/1j/\"\n",
    "# slt_jet = 'nJets==1 & leptonOnePt>30'\n",
    "# slt_subtitle = r\"$n_j=1$, \"\n",
    "\n",
    "savedir = \"../../plots/singlelep/1j1b/\"\n",
    "slt_jet = 'nJets==1 & nBJets>=1 & leptonOnePt>30'\n",
    "slt_subtitle = r\"$n_j=1,  n_b \\geq 1 $, \"\n",
    "\n",
    "\n",
    "for selection in ['mu','e']:\n",
    "    for isoPass in [True, False]:\n",
    "        makePlots(selection,isoPass)"
   ]
  },
  {
   "cell_type": "code",
   "execution_count": 15,
   "metadata": {},
   "outputs": [
    {
     "name": "stderr",
     "output_type": "stream",
     "text": [
      "/home/zchen/anaconda3/lib/python3.7/site-packages/ipykernel_launcher.py:29: SettingWithCopyWarning: \n",
      "A value is trying to be set on a copy of a slice from a DataFrame.\n",
      "Try using .loc[row_indexer,col_indexer] = value instead\n",
      "\n",
      "See the caveats in the documentation: https://pandas.pydata.org/pandas-docs/stable/user_guide/indexing.html#returning-a-view-versus-a-copy\n",
      "/home/zchen/anaconda3/lib/python3.7/site-packages/ipykernel_launcher.py:30: SettingWithCopyWarning: \n",
      "A value is trying to be set on a copy of a slice from a DataFrame.\n",
      "Try using .loc[row_indexer,col_indexer] = value instead\n",
      "\n",
      "See the caveats in the documentation: https://pandas.pydata.org/pandas-docs/stable/user_guide/indexing.html#returning-a-view-versus-a-copy\n"
     ]
    },
    {
     "name": "stdout",
     "output_type": "stream",
     "text": [
      "4336$\\pm$22\n",
      "350815$\\pm$1690\n",
      "1141393$\\pm$1990\n",
      "178169$\\pm$283\n",
      "3278206$\\pm$1811\n",
      "1,603,493$\\pm$120,774\n"
     ]
    },
    {
     "name": "stderr",
     "output_type": "stream",
     "text": [
      "/home/zchen/anaconda3/lib/python3.7/site-packages/ipykernel_launcher.py:29: SettingWithCopyWarning: \n",
      "A value is trying to be set on a copy of a slice from a DataFrame.\n",
      "Try using .loc[row_indexer,col_indexer] = value instead\n",
      "\n",
      "See the caveats in the documentation: https://pandas.pydata.org/pandas-docs/stable/user_guide/indexing.html#returning-a-view-versus-a-copy\n",
      "/home/zchen/anaconda3/lib/python3.7/site-packages/ipykernel_launcher.py:30: SettingWithCopyWarning: \n",
      "A value is trying to be set on a copy of a slice from a DataFrame.\n",
      "Try using .loc[row_indexer,col_indexer] = value instead\n",
      "\n",
      "See the caveats in the documentation: https://pandas.pydata.org/pandas-docs/stable/user_guide/indexing.html#returning-a-view-versus-a-copy\n"
     ]
    },
    {
     "name": "stdout",
     "output_type": "stream",
     "text": [
      "79$\\pm$3\n",
      "6057$\\pm$232\n",
      "17315$\\pm$241\n",
      "4308$\\pm$43\n",
      "521619$\\pm$722\n",
      "493,859$\\pm$2,046\n"
     ]
    },
    {
     "name": "stderr",
     "output_type": "stream",
     "text": [
      "/home/zchen/anaconda3/lib/python3.7/site-packages/ipykernel_launcher.py:29: SettingWithCopyWarning: \n",
      "A value is trying to be set on a copy of a slice from a DataFrame.\n",
      "Try using .loc[row_indexer,col_indexer] = value instead\n",
      "\n",
      "See the caveats in the documentation: https://pandas.pydata.org/pandas-docs/stable/user_guide/indexing.html#returning-a-view-versus-a-copy\n",
      "/home/zchen/anaconda3/lib/python3.7/site-packages/ipykernel_launcher.py:30: SettingWithCopyWarning: \n",
      "A value is trying to be set on a copy of a slice from a DataFrame.\n",
      "Try using .loc[row_indexer,col_indexer] = value instead\n",
      "\n",
      "See the caveats in the documentation: https://pandas.pydata.org/pandas-docs/stable/user_guide/indexing.html#returning-a-view-versus-a-copy\n"
     ]
    },
    {
     "name": "stdout",
     "output_type": "stream",
     "text": [
      "4982$\\pm$21\n",
      "646091$\\pm$2027\n",
      "721032$\\pm$1551\n",
      "135841$\\pm$239\n",
      "3164061$\\pm$1779\n",
      "1,656,115$\\pm$97,815\n"
     ]
    },
    {
     "name": "stderr",
     "output_type": "stream",
     "text": [
      "/home/zchen/anaconda3/lib/python3.7/site-packages/ipykernel_launcher.py:29: SettingWithCopyWarning: \n",
      "A value is trying to be set on a copy of a slice from a DataFrame.\n",
      "Try using .loc[row_indexer,col_indexer] = value instead\n",
      "\n",
      "See the caveats in the documentation: https://pandas.pydata.org/pandas-docs/stable/user_guide/indexing.html#returning-a-view-versus-a-copy\n",
      "/home/zchen/anaconda3/lib/python3.7/site-packages/ipykernel_launcher.py:30: SettingWithCopyWarning: \n",
      "A value is trying to be set on a copy of a slice from a DataFrame.\n",
      "Try using .loc[row_indexer,col_indexer] = value instead\n",
      "\n",
      "See the caveats in the documentation: https://pandas.pydata.org/pandas-docs/stable/user_guide/indexing.html#returning-a-view-versus-a-copy\n"
     ]
    },
    {
     "name": "stdout",
     "output_type": "stream",
     "text": [
      "144$\\pm$3\n",
      "21621$\\pm$364\n",
      "17120$\\pm$240\n",
      "4210$\\pm$41\n",
      "510247$\\pm$714\n",
      "467,153$\\pm$2,913\n"
     ]
    }
   ],
   "source": [
    "# 2j\n",
    "savedir = \"../../plots/singlelep/2j/\"\n",
    "slt_jet = 'nJets==2 & leptonOnePt>30'\n",
    "slt_subtitle = r\"$n_j=2$, \"\n",
    "\n",
    "\n",
    "# # 2j1b\n",
    "# savedir = \"../../plots/singlelep/2j1b/\"\n",
    "# slt_jet = 'nJets==2 & nBJets>=1 & leptonOnePt>30'\n",
    "# slt_subtitle = r\"$n_j=2,  n_b \\geq 1 $, \"\n",
    "\n",
    "for selection in ['mu','e']:\n",
    "    for isoPass in [True, False]:\n",
    "        makePlots(selection,isoPass)"
   ]
  },
  {
   "cell_type": "code",
   "execution_count": 16,
   "metadata": {},
   "outputs": [
    {
     "name": "stderr",
     "output_type": "stream",
     "text": [
      "/home/zchen/anaconda3/lib/python3.7/site-packages/ipykernel_launcher.py:29: SettingWithCopyWarning: \n",
      "A value is trying to be set on a copy of a slice from a DataFrame.\n",
      "Try using .loc[row_indexer,col_indexer] = value instead\n",
      "\n",
      "See the caveats in the documentation: https://pandas.pydata.org/pandas-docs/stable/user_guide/indexing.html#returning-a-view-versus-a-copy\n",
      "/home/zchen/anaconda3/lib/python3.7/site-packages/ipykernel_launcher.py:30: SettingWithCopyWarning: \n",
      "A value is trying to be set on a copy of a slice from a DataFrame.\n",
      "Try using .loc[row_indexer,col_indexer] = value instead\n",
      "\n",
      "See the caveats in the documentation: https://pandas.pydata.org/pandas-docs/stable/user_guide/indexing.html#returning-a-view-versus-a-copy\n"
     ]
    },
    {
     "name": "stdout",
     "output_type": "stream",
     "text": [
      "1871$\\pm$13\n",
      "83478$\\pm$856\n",
      "282632$\\pm$820\n",
      "229222$\\pm$276\n",
      "921180$\\pm$960\n",
      "323,977$\\pm$37,368\n"
     ]
    },
    {
     "name": "stderr",
     "output_type": "stream",
     "text": [
      "/home/zchen/anaconda3/lib/python3.7/site-packages/ipykernel_launcher.py:29: SettingWithCopyWarning: \n",
      "A value is trying to be set on a copy of a slice from a DataFrame.\n",
      "Try using .loc[row_indexer,col_indexer] = value instead\n",
      "\n",
      "See the caveats in the documentation: https://pandas.pydata.org/pandas-docs/stable/user_guide/indexing.html#returning-a-view-versus-a-copy\n",
      "/home/zchen/anaconda3/lib/python3.7/site-packages/ipykernel_launcher.py:30: SettingWithCopyWarning: \n",
      "A value is trying to be set on a copy of a slice from a DataFrame.\n",
      "Try using .loc[row_indexer,col_indexer] = value instead\n",
      "\n",
      "See the caveats in the documentation: https://pandas.pydata.org/pandas-docs/stable/user_guide/indexing.html#returning-a-view-versus-a-copy\n"
     ]
    },
    {
     "name": "stdout",
     "output_type": "stream",
     "text": [
      "33$\\pm$2\n",
      "1712$\\pm$121\n",
      "4565$\\pm$108\n",
      "5698$\\pm$42\n",
      "114726$\\pm$339\n",
      "102,718$\\pm$840\n"
     ]
    },
    {
     "name": "stderr",
     "output_type": "stream",
     "text": [
      "/home/zchen/anaconda3/lib/python3.7/site-packages/ipykernel_launcher.py:29: SettingWithCopyWarning: \n",
      "A value is trying to be set on a copy of a slice from a DataFrame.\n",
      "Try using .loc[row_indexer,col_indexer] = value instead\n",
      "\n",
      "See the caveats in the documentation: https://pandas.pydata.org/pandas-docs/stable/user_guide/indexing.html#returning-a-view-versus-a-copy\n",
      "/home/zchen/anaconda3/lib/python3.7/site-packages/ipykernel_launcher.py:30: SettingWithCopyWarning: \n",
      "A value is trying to be set on a copy of a slice from a DataFrame.\n",
      "Try using .loc[row_indexer,col_indexer] = value instead\n",
      "\n",
      "See the caveats in the documentation: https://pandas.pydata.org/pandas-docs/stable/user_guide/indexing.html#returning-a-view-versus-a-copy\n"
     ]
    },
    {
     "name": "stdout",
     "output_type": "stream",
     "text": [
      "2368$\\pm$13\n",
      "137381$\\pm$1026\n",
      "185772$\\pm$653\n",
      "164020$\\pm$231\n",
      "826350$\\pm$909\n",
      "336,808$\\pm$28,378\n"
     ]
    },
    {
     "name": "stderr",
     "output_type": "stream",
     "text": [
      "/home/zchen/anaconda3/lib/python3.7/site-packages/ipykernel_launcher.py:29: SettingWithCopyWarning: \n",
      "A value is trying to be set on a copy of a slice from a DataFrame.\n",
      "Try using .loc[row_indexer,col_indexer] = value instead\n",
      "\n",
      "See the caveats in the documentation: https://pandas.pydata.org/pandas-docs/stable/user_guide/indexing.html#returning-a-view-versus-a-copy\n",
      "/home/zchen/anaconda3/lib/python3.7/site-packages/ipykernel_launcher.py:30: SettingWithCopyWarning: \n",
      "A value is trying to be set on a copy of a slice from a DataFrame.\n",
      "Try using .loc[row_indexer,col_indexer] = value instead\n",
      "\n",
      "See the caveats in the documentation: https://pandas.pydata.org/pandas-docs/stable/user_guide/indexing.html#returning-a-view-versus-a-copy\n"
     ]
    },
    {
     "name": "stdout",
     "output_type": "stream",
     "text": [
      "72$\\pm$2\n",
      "4508$\\pm$186\n",
      "4367$\\pm$100\n",
      "5245$\\pm$40\n",
      "108067$\\pm$329\n",
      "93,875$\\pm$907\n"
     ]
    }
   ],
   "source": [
    "# 3j\n",
    "savedir = \"../../plots/singlelep/3j/\"\n",
    "slt_jet = 'nJets==3 & leptonOnePt>30'\n",
    "slt_subtitle = r\"$n_j=3$, \"\n",
    "\n",
    "# # 3j1b\n",
    "# savedir = \"../../plots/singlelep/3j1b/\"\n",
    "# slt_jet = 'nJets==3 & nBJets>=1 & leptonOnePt>30'\n",
    "# slt_subtitle = r\"$n_j=3,  n_b \\geq 1 $, \"\n",
    "\n",
    "for selection in ['mu','e']:\n",
    "    for isoPass in [True, False]:\n",
    "        makePlots(selection,isoPass)\n"
   ]
  },
  {
   "cell_type": "code",
   "execution_count": null,
   "metadata": {},
   "outputs": [
    {
     "name": "stderr",
     "output_type": "stream",
     "text": [
      "/home/zchen/anaconda3/lib/python3.7/site-packages/ipykernel_launcher.py:28: SettingWithCopyWarning: \n",
      "A value is trying to be set on a copy of a slice from a DataFrame.\n",
      "Try using .loc[row_indexer,col_indexer] = value instead\n",
      "\n",
      "See the caveats in the documentation: https://pandas.pydata.org/pandas-docs/stable/user_guide/indexing.html#returning-a-view-versus-a-copy\n",
      "/home/zchen/anaconda3/lib/python3.7/site-packages/ipykernel_launcher.py:29: SettingWithCopyWarning: \n",
      "A value is trying to be set on a copy of a slice from a DataFrame.\n",
      "Try using .loc[row_indexer,col_indexer] = value instead\n",
      "\n",
      "See the caveats in the documentation: https://pandas.pydata.org/pandas-docs/stable/user_guide/indexing.html#returning-a-view-versus-a-copy\n",
      "/home/zchen/anaconda3/lib/python3.7/site-packages/ipykernel_launcher.py:30: SettingWithCopyWarning: \n",
      "A value is trying to be set on a copy of a slice from a DataFrame.\n",
      "Try using .loc[row_indexer,col_indexer] = value instead\n",
      "\n",
      "See the caveats in the documentation: https://pandas.pydata.org/pandas-docs/stable/user_guide/indexing.html#returning-a-view-versus-a-copy\n"
     ]
    },
    {
     "name": "stdout",
     "output_type": "stream",
     "text": [
      "2477$\\pm$15\n",
      "51338$\\pm$674\n",
      "365106$\\pm$918\n",
      "232315$\\pm$259\n",
      "789868$\\pm$889\n",
      "138,633$\\pm$43,604\n"
     ]
    },
    {
     "name": "stderr",
     "output_type": "stream",
     "text": [
      "/home/zchen/anaconda3/lib/python3.7/site-packages/ipykernel_launcher.py:28: SettingWithCopyWarning: \n",
      "A value is trying to be set on a copy of a slice from a DataFrame.\n",
      "Try using .loc[row_indexer,col_indexer] = value instead\n",
      "\n",
      "See the caveats in the documentation: https://pandas.pydata.org/pandas-docs/stable/user_guide/indexing.html#returning-a-view-versus-a-copy\n",
      "/home/zchen/anaconda3/lib/python3.7/site-packages/ipykernel_launcher.py:29: SettingWithCopyWarning: \n",
      "A value is trying to be set on a copy of a slice from a DataFrame.\n",
      "Try using .loc[row_indexer,col_indexer] = value instead\n",
      "\n",
      "See the caveats in the documentation: https://pandas.pydata.org/pandas-docs/stable/user_guide/indexing.html#returning-a-view-versus-a-copy\n",
      "/home/zchen/anaconda3/lib/python3.7/site-packages/ipykernel_launcher.py:30: SettingWithCopyWarning: \n",
      "A value is trying to be set on a copy of a slice from a DataFrame.\n",
      "Try using .loc[row_indexer,col_indexer] = value instead\n",
      "\n",
      "See the caveats in the documentation: https://pandas.pydata.org/pandas-docs/stable/user_guide/indexing.html#returning-a-view-versus-a-copy\n"
     ]
    },
    {
     "name": "stdout",
     "output_type": "stream",
     "text": [
      "61$\\pm$2\n",
      "1172$\\pm$116\n",
      "8575$\\pm$142\n",
      "8604$\\pm$48\n",
      "52087$\\pm$228\n",
      "33,675$\\pm$1,256\n"
     ]
    },
    {
     "name": "stderr",
     "output_type": "stream",
     "text": [
      "/home/zchen/anaconda3/lib/python3.7/site-packages/ipykernel_launcher.py:28: SettingWithCopyWarning: \n",
      "A value is trying to be set on a copy of a slice from a DataFrame.\n",
      "Try using .loc[row_indexer,col_indexer] = value instead\n",
      "\n",
      "See the caveats in the documentation: https://pandas.pydata.org/pandas-docs/stable/user_guide/indexing.html#returning-a-view-versus-a-copy\n",
      "/home/zchen/anaconda3/lib/python3.7/site-packages/ipykernel_launcher.py:29: SettingWithCopyWarning: \n",
      "A value is trying to be set on a copy of a slice from a DataFrame.\n",
      "Try using .loc[row_indexer,col_indexer] = value instead\n",
      "\n",
      "See the caveats in the documentation: https://pandas.pydata.org/pandas-docs/stable/user_guide/indexing.html#returning-a-view-versus-a-copy\n",
      "/home/zchen/anaconda3/lib/python3.7/site-packages/ipykernel_launcher.py:30: SettingWithCopyWarning: \n",
      "A value is trying to be set on a copy of a slice from a DataFrame.\n",
      "Try using .loc[row_indexer,col_indexer] = value instead\n",
      "\n",
      "See the caveats in the documentation: https://pandas.pydata.org/pandas-docs/stable/user_guide/indexing.html#returning-a-view-versus-a-copy\n"
     ]
    },
    {
     "name": "stdout",
     "output_type": "stream",
     "text": [
      "3322$\\pm$16\n",
      "85901$\\pm$822\n",
      "259894$\\pm$763\n",
      "172516$\\pm$220\n",
      "725899$\\pm$852\n",
      "204,266$\\pm$32,388\n"
     ]
    }
   ],
   "source": [
    "# 4j\n",
    "savedir = \"../../plots/singlelep/4j/\"\n",
    "slt_jet = 'nJets==4 & leptonOnePt>30'\n",
    "slt_subtitle = r\"$n_j=4$, \"\n",
    "\n",
    "# # 4j0b\n",
    "# savedir = \"../../plots/singlelep/4j0b/\"\n",
    "# slt_jet = 'nJets>=4 & nBJets==0 & leptonOnePt>30'\n",
    "# slt_subtitle = r\"$ n_j \\geq 4,  n_b = 0 $, \"\n",
    "\n",
    "# # 4j1b\n",
    "# savedir = \"../../plots/singlelep/4j1b/\"\n",
    "# slt_jet = 'nJets>=4 & nBJets>=1 & leptonOnePt>30'\n",
    "# slt_subtitle = r\"$ n_j \\geq 4,  n_b \\geq 1 $, \"\n",
    "\n",
    "\n",
    "for selection in ['mu','e']:\n",
    "    for isoPass in [True, False]:\n",
    "        makePlots(selection,isoPass)"
   ]
  },
  {
   "cell_type": "code",
   "execution_count": 5,
   "metadata": {},
   "outputs": [],
   "source": [
    "def getRatio(k,n,kerr,nerr):\n",
    "    f = k/n\n",
    "    fvar = f**2 * (kerr**2/k**2 + nerr**2/n**2)\n",
    "    return f,fvar**0.5"
   ]
  },
  {
   "cell_type": "code",
   "execution_count": 9,
   "metadata": {},
   "outputs": [
    {
     "data": {
      "text/plain": [
       "(1.7769263516389953, 5.6908118853376255)"
      ]
     },
     "execution_count": 9,
     "metadata": {},
     "output_type": "execute_result"
    }
   ],
   "source": [
    "getRatio(29218,16443,93391,3292)"
   ]
  },
  {
   "cell_type": "code",
   "execution_count": null,
   "metadata": {},
   "outputs": [],
   "source": [
    "# savedir = \"../../plots/singlelep/123j/\"\n",
    "slt_jet = 'nJets<4 & leptonOnePt>25'\n",
    "slt_subtitle = r\"$1 \\leq n_j < 4$, \"\n",
    "selection = 'e'\n",
    "\n",
    "#for selection in ['mu','e']:\n",
    "    \n",
    "fileName  = \"../../data/root/Run2016_Singlelep_20200705.root\"\n",
    "features  = ['eventWeight','leptonOneIso','leptonOnePt','leptonOneEta','leptonOnePhi','leptonOneIsoPass','leptonOneMetMt','nJets','nBJets','met','metPhi','htPhi']\n",
    "# mct  = DFGetter(fileName,selection,'t').get(features,slt)\n",
    "# mcw  = DFGetter(fileName,selection,'w').get(features,slt)\n",
    "# mcz  = DFGetter(fileName,selection,'z').get(features,slt)\n",
    "# mcvv = DFGetter(fileName,selection,'vv').get(features,slt)\n",
    "# dfList   = [mcvv,mcz,mcw,mct,data]"
   ]
  },
  {
   "cell_type": "code",
   "execution_count": 17,
   "metadata": {},
   "outputs": [],
   "source": [
    "mybin1 = np.array([30,32,34,36,38,40,45,50,55,60,80])\n",
    "mybin2 = np.array([-2.5, -2.0, -1.8, -1.444, -1.1, -0.8, -0.4, 0.0, 0.4, 0.8, 1.1, 1.444, 1.8, 2.0, 2.5])"
   ]
  },
  {
   "cell_type": "code",
   "execution_count": 18,
   "metadata": {},
   "outputs": [],
   "source": [
    "def get_hist(isoPass):\n",
    "    slt = slt_jet + \"&leptonOneIsoPass==\"+str(isoPass)\n",
    "    \n",
    "    df = DFGetter(fileName,selection,'data').get(features,slt)\n",
    "    n    = np.histogram2d(df.leptonOnePt, df.leptonOneEta, bins = (mybin1,mybin2), weights = df.eventWeight)[0]\n",
    "    nVar = np.histogram2d(df.leptonOnePt, df.leptonOneEta, bins = (mybin1,mybin2), weights = df.eventWeight**2)[0]\n",
    "\n",
    "    df = DFGetter(fileName,selection,'t').get(features,slt)\n",
    "    n    -= np.histogram2d(df.leptonOnePt, df.leptonOneEta, bins = (mybin1,mybin2), weights = df.eventWeight)[0]\n",
    "    nVar += np.histogram2d(df.leptonOnePt, df.leptonOneEta, bins = (mybin1,mybin2), weights = df.eventWeight**2)[0]\n",
    "\n",
    "    df = DFGetter(fileName,selection,'w').get(features,slt)\n",
    "    n    -= np.histogram2d(df.leptonOnePt, df.leptonOneEta, bins = (mybin1,mybin2), weights = df.eventWeight)[0]\n",
    "    nVar += np.histogram2d(df.leptonOnePt, df.leptonOneEta, bins = (mybin1,mybin2), weights = df.eventWeight**2)[0]\n",
    "\n",
    "    df = DFGetter(fileName,selection,'z').get(features,slt)\n",
    "    n    -= np.histogram2d(df.leptonOnePt, df.leptonOneEta, bins = (mybin1,mybin2), weights = df.eventWeight)[0]\n",
    "    nVar += np.histogram2d(df.leptonOnePt, df.leptonOneEta, bins = (mybin1,mybin2), weights = df.eventWeight**2)[0]\n",
    "\n",
    "    df = DFGetter(fileName,selection,'vv').get(features,slt)\n",
    "    n    -= np.histogram2d(df.leptonOnePt, df.leptonOneEta, bins = (mybin1,mybin2), weights = df.eventWeight)[0]\n",
    "    nVar += np.histogram2d(df.leptonOnePt, df.leptonOneEta, bins = (mybin1,mybin2), weights = df.eventWeight**2)[0]\n",
    "    return n, nVar"
   ]
  },
  {
   "cell_type": "code",
   "execution_count": 19,
   "metadata": {},
   "outputs": [
    {
     "name": "stderr",
     "output_type": "stream",
     "text": [
      "/home/zchen/anaconda3/lib/python3.7/site-packages/ipykernel_launcher.py:29: SettingWithCopyWarning: \n",
      "A value is trying to be set on a copy of a slice from a DataFrame.\n",
      "Try using .loc[row_indexer,col_indexer] = value instead\n",
      "\n",
      "See the caveats in the documentation: https://pandas.pydata.org/pandas-docs/stable/user_guide/indexing.html#returning-a-view-versus-a-copy\n",
      "/home/zchen/anaconda3/lib/python3.7/site-packages/ipykernel_launcher.py:30: SettingWithCopyWarning: \n",
      "A value is trying to be set on a copy of a slice from a DataFrame.\n",
      "Try using .loc[row_indexer,col_indexer] = value instead\n",
      "\n",
      "See the caveats in the documentation: https://pandas.pydata.org/pandas-docs/stable/user_guide/indexing.html#returning-a-view-versus-a-copy\n"
     ]
    }
   ],
   "source": [
    "nTrue, nTrueVar = get_hist(True)\n",
    "nFalse, nFalseVar = get_hist(False)"
   ]
  },
  {
   "cell_type": "code",
   "execution_count": 20,
   "metadata": {},
   "outputs": [],
   "source": [
    "sf, sferr = getRatio(nTrue,nFalse, nTrueVar, nFalseVar)"
   ]
  },
  {
   "cell_type": "code",
   "execution_count": 21,
   "metadata": {},
   "outputs": [
    {
     "data": {
      "image/png": "[encoded data removed]",
      "text/plain": [
       "<Figure size 432x288 with 2 Axes>"
      ]
     },
     "metadata": {
      "needs_background": "light"
     },
     "output_type": "display_data"
    }
   ],
   "source": [
    "plt.pcolor(mybin1, mybin2, sf.T, cmap=\"Spectral\",vmax=10,vmin=0)\n",
    "plt.colorbar()\n",
    "plt.xlabel(\"pt\")\n",
    "plt.ylabel(\"eta\")\n",
    "plt.axhline(1.444,color='k',linestyle=\"--\")\n",
    "plt.axhline(-1.444,color='k',linestyle=\"--\")\n",
    "plt.axvline(30,color='k',linestyle=\"--\")\n",
    "plt.title(\"SF \"+selection)\n",
    "plt.savefig(\"{}/SF_{}_2d.png\".format(savedir,selection),dpi=300)"
   ]
  },
  {
   "cell_type": "code",
   "execution_count": 23,
   "metadata": {
    "scrolled": true
   },
   "outputs": [],
   "source": [
    "np.save(\"{}/SF_{}_2d\".format(savedir,selection),sf)\n",
    "np.save(\"{}/SF_std_{}_2d\".format(savedir,selection),sferr)"
   ]
  },
  {
   "cell_type": "code",
   "execution_count": null,
   "metadata": {},
   "outputs": [],
   "source": []
  }
 ],
 "metadata": {
  "kernelspec": {
   "display_name": "Python 3",
   "language": "python",
   "name": "python3"
  },
  "language_info": {
   "codemirror_mode": {
    "name": "ipython",
    "version": 3
   },
   "file_extension": ".py",
   "mimetype": "text/x-python",
   "name": "python",
   "nbconvert_exporter": "python",
   "pygments_lexer": "ipython3",
   "version": "3.7.6"
  }
 },
 "nbformat": 4,
 "nbformat_minor": 4
}
