{
 "cells": [
  {
   "cell_type": "code",
   "execution_count": 1,
   "metadata": {},
   "outputs": [],
   "source": [
    "import uproot\n",
    "from pylab import *\n",
    "import pandas as pd\n",
    "import utility_common as common\n",
    "from utility_dfplotter import *  "
   ]
  },
  {
   "cell_type": "code",
   "execution_count": 4,
   "metadata": {},
   "outputs": [],
   "source": [
    "class DotDict(dict):\n",
    "    \"\"\"dot.notation access to dictionary attributes\"\"\"\n",
    "    __getattr__ = dict.get\n",
    "    __setattr__ = dict.__setitem__\n",
    "    __delattr__ = dict.__delitem__\n",
    "\n",
    "\n",
    "        \n",
    "    \n",
    "class DFGetter():\n",
    "    def __init__(self, rootFile, selection, name):\n",
    "        self.f = uproot.open(rootFile)\n",
    "        self.selection = selection\n",
    "        self.name = name\n",
    "        self._get_name_list()\n",
    "        \n",
    "        \n",
    "    def get(self, features, slt):\n",
    "        df = pd.DataFrame()\n",
    "        for tName in self.tNameList:\n",
    "            tree =  self.f[self.selection+'/bltTree_'+tName]\n",
    "            temp = tree.pandas.df(features, namedecode=\"utf-8\")\n",
    "        \n",
    "            sf = self._get_scale_factor_to_lumin(tName)\n",
    "            temp['eventWeight'] = temp.eventWeight*sf\n",
    "            temp = temp.query(slt)\n",
    "            if \"nJets>=4\" in slt:\n",
    "                temp['leptonOneMetMt'] = (2*temp.leptonOnePt*temp.met*(1-np.cos(temp.leptonOnePhi-temp.metPhi )))**0.5 \n",
    "            temp['leptonOneMetDeltaPhi'] = np.arccos(np.cos(temp.leptonOnePhi-temp.metPhi))\n",
    "            temp['leptonOneHtDeltaPhi'] = np.arccos(np.cos(temp.leptonOnePhi-temp.htPhi))\n",
    "            df = pd.concat([df, temp])\n",
    "                \n",
    "                \n",
    "        return df\n",
    "    \n",
    "    def _get_scale_factor_to_lumin(self, tName, lumin=35.864):\n",
    "        xs = common.get_cross_section(tName)\n",
    "        \n",
    "        if xs:\n",
    "\n",
    "            histogram = self.f['TotalEvents_'+tName]\n",
    "            histogram = histogram.allvalues\n",
    "\n",
    "            nGenTotal = histogram[1] - 2*histogram[10]\n",
    "            # calculate SF to lumin\n",
    "            scaleFactor = lumin * xs/nGenTotal\n",
    "            return scaleFactor\n",
    "        else:\n",
    "            return 1.0\n",
    "            \n",
    "            \n",
    "    def _get_name_list(self):\n",
    "        ## 1. define the datalist\n",
    "        if self.name == 'data':\n",
    "            if self.selection in ['mu']:\n",
    "                self.tNameList = ['muon_2016'+str(p) for p in \"BCDEFGH\"]\n",
    "\n",
    "            if self.selection in ['e']:\n",
    "                self.tNameList = ['electron_2016'+str(p) for p in \"BCDEFGH\"]\n",
    "\n",
    "        ## 2. define the MC list\n",
    "        if self.name == 'vv': self.tNameList = [ 'ww','wz_2l2q','wz_3lnu','zz_2l2nu','zz_2l2q','zz_4l']\n",
    "        if self.name == 'z':  self.tNameList = [ 'zjets_m-10to50_amcatnlo','zjets_m-50_amcatnlo']\n",
    "        if self.name == 'w':  self.tNameList = [ 'w1jets','w2jets','w3jets','w4jets' ]\n",
    "        if self.name == 't':  self.tNameList = [ 'ttbar_inclusive','t_tw','tbar_tw','t_t','tbar_t']\n",
    "        if self.name == 'g':  self.tNameList = [ 'gjets_ht40to100','gjets_ht100to200','gjets_ht200to400','gjets_ht400to600','gjets_ht600toinf']\n",
    "        if self.name == 'qcd':  self.tNameList = [ 'qcd_ht50to100','qcd_ht100to200','qcd_ht200to300','qcd_ht300to500','qcd_ht500to700',\n",
    "                                                  'qcd_ht700to1000','qcd_ht1000to1500','qcd_ht1500to2000','qcd_ht2000toInf']"
   ]
  },
  {
   "cell_type": "code",
   "execution_count": 7,
   "metadata": {},
   "outputs": [],
   "source": [
    "def makePlots(selection,isoPass):\n",
    "    fileName  = \"../../data/root/Run2016_Singlelep_20200811.root\"\n",
    "\n",
    "    features  = ['eventWeight','leptonOneIso','leptonOnePt','leptonOneEta','leptonOnePhi','leptonOneIsoPass','leptonOneMetMt','nJets','nBJets','met','metPhi','htPhi']\n",
    "    slt = slt_jet + \"&leptonOneIsoPass==\"+str(isoPass)\n",
    "    \n",
    "    data = DFGetter(fileName,selection,'data').get(features,slt)\n",
    "    mcg  = DFGetter(fileName,selection,'g').get(features,slt)\n",
    "    mct  = DFGetter(fileName,selection,'t').get(features,slt)\n",
    "    mcw  = DFGetter(fileName,selection,'w').get(features,slt)\n",
    "    mcz  = DFGetter(fileName,selection,'z').get(features,slt)\n",
    "    mcvv = DFGetter(fileName,selection,'vv').get(features,slt)\n",
    "    mcqcd = DFGetter(fileName,selection,'qcd').get(features,slt)\n",
    "    dfList   = [mcvv,mcz,mcw,mct,mcg,data]\n",
    "\n",
    "\n",
    "    configs = [\n",
    "        ('leptonOneIso', 0, 0.31, 0.01, 'leptonOneIso'),\n",
    "        ('leptonOnePt', 20, 160, 5, 'leptonOnePt'),\n",
    "        ('leptonOneEta', -4, 4, 0.2, 'leptonOneEta'),\n",
    "        ('leptonOneMetMt', 0, 160, 5, 'leptonOneMetMt'),\n",
    "        ('leptonOneMetDeltaPhi', 0, 3.2, 0.1, 'leptonOneMetDeltaPhi'),\n",
    "        ('leptonOneHtDeltaPhi', 0, 3.2, 0.1, 'leptonOneHtDeltaPhi'),\n",
    "        ('nJets', 0, 10, 1, 'nJets'),\n",
    "        ('nBJets', 0, 10, 1, 'nBJets'),\n",
    "        ('met', 0, 120, 5, 'met')\n",
    "#         ('ht',0,500,10, 'ht')\n",
    "    ]\n",
    "\n",
    "    legends  = ['VV','Z','W',\"t\", r\"$\\gamma$\", \"data\"]\n",
    "    colors   = [\"C0\", \"C1\", \"C3\",\"C2\",\"C4\",'k']\n",
    "    if selection == \"mu\":\n",
    "        subtitle = r\"$\\mu$ channel, \"\n",
    "    else:\n",
    "        subtitle = r\"$e$ channel, \"\n",
    "\n",
    "    subtitle += slt_subtitle\n",
    "\n",
    "    if isoPass:\n",
    "        subtitle2 = \"$Tight$-iso\"\n",
    "    else:\n",
    "        subtitle2 = r\"$\\overline{Tight}$-iso\" \n",
    "\n",
    "\n",
    "    nqcd,nvarqcd = 0,0\n",
    "    legendsAdd = []\n",
    "    for i in range(len(dfList)):\n",
    "        n = dfList[i].eventWeight.sum()\n",
    "        nvar = sum(dfList[i].eventWeight**2)\n",
    "        string = \"{:.0f}\".format(n)+r\"$\\pm$\"+\"{:.0f}\".format(nvar**0.5)\n",
    "\n",
    "        print(string)\n",
    "        legendsAdd.append(string)\n",
    "\n",
    "        if i < len(dfList)-1:\n",
    "            nqcd -= n\n",
    "            #nvarqcd += (0.1*n)**2\n",
    "        else:\n",
    "            nqcd += n\n",
    "        nvarqcd += nvar\n",
    "\n",
    "    string = \"{:,.0f}\".format(nqcd)+r\"$\\pm$\"+\"{:,.0f}\".format(nvarqcd**0.5) \n",
    "    print(string)\n",
    "    legendsAdd.append(string)\n",
    "\n",
    "    legends2 = [legends[i]+\": \"+legendsAdd[i] for i in range(len(legends))]\n",
    "\n",
    "\n",
    "    for config in configs:\n",
    "        v,a,b,step,xl = config\n",
    "\n",
    "        sk = ASingleKinematicPlot(v,a,b,step,dfList)\n",
    "        sk.settingPlot(xl,legends2,colors,withXsErr=False)\n",
    "        sk.makePlot(showDiffInLower=True)\n",
    "\n",
    "        sk.axes[0].text(0.04, 0.8, subtitle, transform=sk.axes[0].transAxes, fontsize=12)\n",
    "        sk.axes[0].text(0.98, 0.35, subtitle2, transform=sk.axes[0].transAxes, fontsize=12,\n",
    "                        verticalalignment='bottom', horizontalalignment='right',\n",
    "                        bbox=dict(boxstyle='sawtooth', facecolor='0.7', alpha=0.3))\n",
    "        \n",
    "        hqcd = np.histogram(mcqcd[v], np.arange(a,b,step), weights=mcqcd.eventWeight )[0]\n",
    "        hvarqcd = np.histogram(mcqcd[v], np.arange(a,b,step), weights=mcqcd.eventWeight**2 )[0]\n",
    "\n",
    "        \n",
    "        \n",
    "        \n",
    "        string = \"Data-MC: \"+legendsAdd[-1]\n",
    "        sk.axes[1].text(0.98, 0.7, string, transform=sk.axes[1].transAxes, fontsize=11,\n",
    "                        verticalalignment='bottom', horizontalalignment='right', \n",
    "                        bbox=dict(boxstyle='round', facecolor='w', alpha=0.3))\n",
    "        \n",
    "        # QCD MC\n",
    "        sk.axes[0].hist([sk.center,sk.center], bins = np.arange(a,b,step), \n",
    "                        weights = [sk.mctot,hqcd],\n",
    "                        histtype=\"step\",stacked=True,color=[\"None\",'r'],alpha=0.5)\n",
    "        \n",
    "        sk.axes[0].errorbar(sk.center, sk.mctot+hqcd, yerr=hvarqcd**0.5,\n",
    "                        color='r', fmt='none', lw=200/sk.mybin.size, mew=0, alpha=0.3)      \n",
    "        \n",
    "        \n",
    "        sk.axes[1].hist(sk.center, bins = np.arange(a,b,step), \n",
    "                        weights = hqcd,\n",
    "                        histtype=\"step\",stacked=True,color=['r'],alpha=1)\n",
    "        \n",
    "        sk.axes[1].errorbar(sk.center, hqcd, yerr= ((0.0*hqcd)**2 + hvarqcd)**0.5,\n",
    "                        color='r', fmt='none', lw=200/sk.mybin.size, mew=0, alpha=0.3)\n",
    "            \n",
    "        \n",
    "        plt.savefig(\"{}/{}_{}_{}_mcqcd.png\".format(savedir,selection,v,isoPass),dpi=300)\n",
    "        plt.close()"
   ]
  },
  {
   "cell_type": "code",
   "execution_count": 8,
   "metadata": {},
   "outputs": [
    {
     "name": "stderr",
     "output_type": "stream",
     "text": [
      "/home/zchen/anaconda3/lib/python3.7/site-packages/ipykernel_launcher.py:29: SettingWithCopyWarning: \n",
      "A value is trying to be set on a copy of a slice from a DataFrame.\n",
      "Try using .loc[row_indexer,col_indexer] = value instead\n",
      "\n",
      "See the caveats in the documentation: https://pandas.pydata.org/pandas-docs/stable/user_guide/indexing.html#returning-a-view-versus-a-copy\n",
      "/home/zchen/anaconda3/lib/python3.7/site-packages/ipykernel_launcher.py:30: SettingWithCopyWarning: \n",
      "A value is trying to be set on a copy of a slice from a DataFrame.\n",
      "Try using .loc[row_indexer,col_indexer] = value instead\n",
      "\n",
      "See the caveats in the documentation: https://pandas.pydata.org/pandas-docs/stable/user_guide/indexing.html#returning-a-view-versus-a-copy\n"
     ]
    },
    {
     "name": "stdout",
     "output_type": "stream",
     "text": [
      "864$\\pm$9\n",
      "80744$\\pm$814\n",
      "220741$\\pm$1039\n",
      "325215$\\pm$358\n",
      "21368$\\pm$941\n",
      "1580992$\\pm$1257\n",
      "932,059$\\pm$2,082\n"
     ]
    },
    {
     "name": "stderr",
     "output_type": "stream",
     "text": [
      "/home/zchen/anaconda3/lib/python3.7/site-packages/ipykernel_launcher.py:29: SettingWithCopyWarning: \n",
      "A value is trying to be set on a copy of a slice from a DataFrame.\n",
      "Try using .loc[row_indexer,col_indexer] = value instead\n",
      "\n",
      "See the caveats in the documentation: https://pandas.pydata.org/pandas-docs/stable/user_guide/indexing.html#returning-a-view-versus-a-copy\n",
      "/home/zchen/anaconda3/lib/python3.7/site-packages/ipykernel_launcher.py:30: SettingWithCopyWarning: \n",
      "A value is trying to be set on a copy of a slice from a DataFrame.\n",
      "Try using .loc[row_indexer,col_indexer] = value instead\n",
      "\n",
      "See the caveats in the documentation: https://pandas.pydata.org/pandas-docs/stable/user_guide/indexing.html#returning-a-view-versus-a-copy\n"
     ]
    },
    {
     "name": "stdout",
     "output_type": "stream",
     "text": [
      "16$\\pm$1\n",
      "1648$\\pm$115\n",
      "3367$\\pm$121\n",
      "8523$\\pm$55\n",
      "955$\\pm$150\n",
      "400392$\\pm$633\n",
      "385,882$\\pm$674\n"
     ]
    },
    {
     "name": "stderr",
     "output_type": "stream",
     "text": [
      "/home/zchen/anaconda3/lib/python3.7/site-packages/ipykernel_launcher.py:29: SettingWithCopyWarning: \n",
      "A value is trying to be set on a copy of a slice from a DataFrame.\n",
      "Try using .loc[row_indexer,col_indexer] = value instead\n",
      "\n",
      "See the caveats in the documentation: https://pandas.pydata.org/pandas-docs/stable/user_guide/indexing.html#returning-a-view-versus-a-copy\n",
      "/home/zchen/anaconda3/lib/python3.7/site-packages/ipykernel_launcher.py:30: SettingWithCopyWarning: \n",
      "A value is trying to be set on a copy of a slice from a DataFrame.\n",
      "Try using .loc[row_indexer,col_indexer] = value instead\n",
      "\n",
      "See the caveats in the documentation: https://pandas.pydata.org/pandas-docs/stable/user_guide/indexing.html#returning-a-view-versus-a-copy\n"
     ]
    },
    {
     "name": "stdout",
     "output_type": "stream",
     "text": [
      "891$\\pm$7\n",
      "115133$\\pm$890\n",
      "132223$\\pm$785\n",
      "210809$\\pm$283\n",
      "94403$\\pm$1850\n",
      "1000241$\\pm$1000\n",
      "446,783$\\pm$2,432\n"
     ]
    },
    {
     "name": "stderr",
     "output_type": "stream",
     "text": [
      "/home/zchen/anaconda3/lib/python3.7/site-packages/ipykernel_launcher.py:29: SettingWithCopyWarning: \n",
      "A value is trying to be set on a copy of a slice from a DataFrame.\n",
      "Try using .loc[row_indexer,col_indexer] = value instead\n",
      "\n",
      "See the caveats in the documentation: https://pandas.pydata.org/pandas-docs/stable/user_guide/indexing.html#returning-a-view-versus-a-copy\n",
      "/home/zchen/anaconda3/lib/python3.7/site-packages/ipykernel_launcher.py:30: SettingWithCopyWarning: \n",
      "A value is trying to be set on a copy of a slice from a DataFrame.\n",
      "Try using .loc[row_indexer,col_indexer] = value instead\n",
      "\n",
      "See the caveats in the documentation: https://pandas.pydata.org/pandas-docs/stable/user_guide/indexing.html#returning-a-view-versus-a-copy\n"
     ]
    },
    {
     "name": "stdout",
     "output_type": "stream",
     "text": [
      "25$\\pm$1\n",
      "3322$\\pm$149\n",
      "3202$\\pm$124\n",
      "6007$\\pm$46\n",
      "5438$\\pm$486\n",
      "167287$\\pm$409\n",
      "149,293$\\pm$666\n"
     ]
    }
   ],
   "source": [
    "# savedir = \"../../plots/singlelep/123j/\"\n",
    "# slt_jet = 'nJets<4 & leptonOnePt>30'\n",
    "# slt_subtitle = r\"$1 \\leq n_j < 4$, \"\n",
    "\n",
    "# savedir = \"../../plots/singlelep/123j0b/\"\n",
    "# slt_jet = 'nJets<4 & nBJets==0 & leptonOnePt>30'\n",
    "# slt_subtitle = r\"$1 \\leq n_j < 4, n_b=0$, \"\n",
    "\n",
    "savedir = \"../../plots/singlelep/123j1b/\"\n",
    "slt_jet = 'nJets<4 & nBJets>=1 & leptonOnePt>30'\n",
    "slt_subtitle = r\"$1 \\leq n_j < 4, n_b\\geq 1$, \"\n",
    "\n",
    "\n",
    "for selection in ['mu','e']:\n",
    "    for isoPass in [True, False]:\n",
    "        makePlots(selection,isoPass)"
   ]
  },
  {
   "cell_type": "code",
   "execution_count": 11,
   "metadata": {},
   "outputs": [
    {
     "name": "stderr",
     "output_type": "stream",
     "text": [
      "/home/zchen/anaconda3/lib/python3.7/site-packages/ipykernel_launcher.py:29: SettingWithCopyWarning: \n",
      "A value is trying to be set on a copy of a slice from a DataFrame.\n",
      "Try using .loc[row_indexer,col_indexer] = value instead\n",
      "\n",
      "See the caveats in the documentation: https://pandas.pydata.org/pandas-docs/stable/user_guide/indexing.html#returning-a-view-versus-a-copy\n",
      "/home/zchen/anaconda3/lib/python3.7/site-packages/ipykernel_launcher.py:30: SettingWithCopyWarning: \n",
      "A value is trying to be set on a copy of a slice from a DataFrame.\n",
      "Try using .loc[row_indexer,col_indexer] = value instead\n",
      "\n",
      "See the caveats in the documentation: https://pandas.pydata.org/pandas-docs/stable/user_guide/indexing.html#returning-a-view-versus-a-copy\n"
     ]
    },
    {
     "name": "stdout",
     "output_type": "stream",
     "text": [
      "7777$\\pm$35\n",
      "1661832$\\pm$3071\n",
      "4616585$\\pm$5441\n",
      "84427$\\pm$226\n",
      "294354$\\pm$3964\n",
      "13929575$\\pm$3732\n",
      "7,264,600$\\pm$491,683\n"
     ]
    },
    {
     "name": "stderr",
     "output_type": "stream",
     "text": [
      "/home/zchen/anaconda3/lib/python3.7/site-packages/ipykernel_launcher.py:29: SettingWithCopyWarning: \n",
      "A value is trying to be set on a copy of a slice from a DataFrame.\n",
      "Try using .loc[row_indexer,col_indexer] = value instead\n",
      "\n",
      "See the caveats in the documentation: https://pandas.pydata.org/pandas-docs/stable/user_guide/indexing.html#returning-a-view-versus-a-copy\n",
      "/home/zchen/anaconda3/lib/python3.7/site-packages/ipykernel_launcher.py:30: SettingWithCopyWarning: \n",
      "A value is trying to be set on a copy of a slice from a DataFrame.\n",
      "Try using .loc[row_indexer,col_indexer] = value instead\n",
      "\n",
      "See the caveats in the documentation: https://pandas.pydata.org/pandas-docs/stable/user_guide/indexing.html#returning-a-view-versus-a-copy\n"
     ]
    },
    {
     "name": "stdout",
     "output_type": "stream",
     "text": [
      "137$\\pm$4\n",
      "30588$\\pm$417\n",
      "67579$\\pm$638\n",
      "1825$\\pm$32\n",
      "11634$\\pm$746\n",
      "2356116$\\pm$1535\n",
      "2,244,353$\\pm$7,740\n"
     ]
    },
    {
     "name": "stderr",
     "output_type": "stream",
     "text": [
      "/home/zchen/anaconda3/lib/python3.7/site-packages/ipykernel_launcher.py:29: SettingWithCopyWarning: \n",
      "A value is trying to be set on a copy of a slice from a DataFrame.\n",
      "Try using .loc[row_indexer,col_indexer] = value instead\n",
      "\n",
      "See the caveats in the documentation: https://pandas.pydata.org/pandas-docs/stable/user_guide/indexing.html#returning-a-view-versus-a-copy\n",
      "/home/zchen/anaconda3/lib/python3.7/site-packages/ipykernel_launcher.py:30: SettingWithCopyWarning: \n",
      "A value is trying to be set on a copy of a slice from a DataFrame.\n",
      "Try using .loc[row_indexer,col_indexer] = value instead\n",
      "\n",
      "See the caveats in the documentation: https://pandas.pydata.org/pandas-docs/stable/user_guide/indexing.html#returning-a-view-versus-a-copy\n"
     ]
    },
    {
     "name": "stdout",
     "output_type": "stream",
     "text": [
      "6529$\\pm$27\n",
      "3779750$\\pm$3980\n",
      "2730385$\\pm$4124\n",
      "53147$\\pm$176\n",
      "1592063$\\pm$8863\n",
      "15384810$\\pm$3922\n",
      "7,222,935$\\pm$492,866\n"
     ]
    },
    {
     "name": "stderr",
     "output_type": "stream",
     "text": [
      "/home/zchen/anaconda3/lib/python3.7/site-packages/ipykernel_launcher.py:29: SettingWithCopyWarning: \n",
      "A value is trying to be set on a copy of a slice from a DataFrame.\n",
      "Try using .loc[row_indexer,col_indexer] = value instead\n",
      "\n",
      "See the caveats in the documentation: https://pandas.pydata.org/pandas-docs/stable/user_guide/indexing.html#returning-a-view-versus-a-copy\n",
      "/home/zchen/anaconda3/lib/python3.7/site-packages/ipykernel_launcher.py:30: SettingWithCopyWarning: \n",
      "A value is trying to be set on a copy of a slice from a DataFrame.\n",
      "Try using .loc[row_indexer,col_indexer] = value instead\n",
      "\n",
      "See the caveats in the documentation: https://pandas.pydata.org/pandas-docs/stable/user_guide/indexing.html#returning-a-view-versus-a-copy\n"
     ]
    },
    {
     "name": "stdout",
     "output_type": "stream",
     "text": [
      "193$\\pm$5\n",
      "141115$\\pm$750\n",
      "66006$\\pm$636\n",
      "1570$\\pm$30\n",
      "83641$\\pm$2077\n",
      "2740665$\\pm$1655\n",
      "2,448,140$\\pm$17,908\n"
     ]
    }
   ],
   "source": [
    "# 1j\n",
    "savedir = \"../../plots/singlelep/1j/\"\n",
    "slt_jet = 'nJets==1 & leptonOnePt>30'\n",
    "slt_subtitle = r\"$n_j=1$, \"\n",
    "\n",
    "# savedir = \"../../plots/singlelep/1j1b/\"\n",
    "# slt_jet = 'nJets==1 & nBJets>=1 & leptonOnePt>30'\n",
    "# slt_subtitle = r\"$n_j=1,  n_b \\geq 1 $, \"\n",
    "\n",
    "\n",
    "for selection in ['mu','e']:\n",
    "    for isoPass in [True, False]:\n",
    "        makePlots(selection,isoPass)"
   ]
  },
  {
   "cell_type": "code",
   "execution_count": 12,
   "metadata": {},
   "outputs": [
    {
     "name": "stderr",
     "output_type": "stream",
     "text": [
      "/home/zchen/anaconda3/lib/python3.7/site-packages/ipykernel_launcher.py:29: SettingWithCopyWarning: \n",
      "A value is trying to be set on a copy of a slice from a DataFrame.\n",
      "Try using .loc[row_indexer,col_indexer] = value instead\n",
      "\n",
      "See the caveats in the documentation: https://pandas.pydata.org/pandas-docs/stable/user_guide/indexing.html#returning-a-view-versus-a-copy\n",
      "/home/zchen/anaconda3/lib/python3.7/site-packages/ipykernel_launcher.py:30: SettingWithCopyWarning: \n",
      "A value is trying to be set on a copy of a slice from a DataFrame.\n",
      "Try using .loc[row_indexer,col_indexer] = value instead\n",
      "\n",
      "See the caveats in the documentation: https://pandas.pydata.org/pandas-docs/stable/user_guide/indexing.html#returning-a-view-versus-a-copy\n"
     ]
    },
    {
     "name": "stdout",
     "output_type": "stream",
     "text": [
      "4482$\\pm$23\n",
      "359521$\\pm$1722\n",
      "1168972$\\pm$2013\n",
      "183819$\\pm$287\n",
      "75701$\\pm$1441\n",
      "3377564$\\pm$1838\n",
      "1,585,068$\\pm$123,958\n"
     ]
    },
    {
     "name": "stderr",
     "output_type": "stream",
     "text": [
      "/home/zchen/anaconda3/lib/python3.7/site-packages/ipykernel_launcher.py:29: SettingWithCopyWarning: \n",
      "A value is trying to be set on a copy of a slice from a DataFrame.\n",
      "Try using .loc[row_indexer,col_indexer] = value instead\n",
      "\n",
      "See the caveats in the documentation: https://pandas.pydata.org/pandas-docs/stable/user_guide/indexing.html#returning-a-view-versus-a-copy\n",
      "/home/zchen/anaconda3/lib/python3.7/site-packages/ipykernel_launcher.py:30: SettingWithCopyWarning: \n",
      "A value is trying to be set on a copy of a slice from a DataFrame.\n",
      "Try using .loc[row_indexer,col_indexer] = value instead\n",
      "\n",
      "See the caveats in the documentation: https://pandas.pydata.org/pandas-docs/stable/user_guide/indexing.html#returning-a-view-versus-a-copy\n"
     ]
    },
    {
     "name": "stdout",
     "output_type": "stream",
     "text": [
      "87$\\pm$3\n",
      "7030$\\pm$253\n",
      "19708$\\pm$256\n",
      "4722$\\pm$45\n",
      "4571$\\pm$332\n",
      "550569$\\pm$742\n",
      "514,451$\\pm$2,367\n"
     ]
    },
    {
     "name": "stderr",
     "output_type": "stream",
     "text": [
      "/home/zchen/anaconda3/lib/python3.7/site-packages/ipykernel_launcher.py:29: SettingWithCopyWarning: \n",
      "A value is trying to be set on a copy of a slice from a DataFrame.\n",
      "Try using .loc[row_indexer,col_indexer] = value instead\n",
      "\n",
      "See the caveats in the documentation: https://pandas.pydata.org/pandas-docs/stable/user_guide/indexing.html#returning-a-view-versus-a-copy\n",
      "/home/zchen/anaconda3/lib/python3.7/site-packages/ipykernel_launcher.py:30: SettingWithCopyWarning: \n",
      "A value is trying to be set on a copy of a slice from a DataFrame.\n",
      "Try using .loc[row_indexer,col_indexer] = value instead\n",
      "\n",
      "See the caveats in the documentation: https://pandas.pydata.org/pandas-docs/stable/user_guide/indexing.html#returning-a-view-versus-a-copy\n"
     ]
    },
    {
     "name": "stdout",
     "output_type": "stream",
     "text": [
      "4668$\\pm$19\n",
      "677108$\\pm$2097\n",
      "736456$\\pm$1567\n",
      "121954$\\pm$232\n",
      "445672$\\pm$3378\n",
      "3263211$\\pm$1806\n",
      "1,277,353$\\pm$110,296\n"
     ]
    },
    {
     "name": "stderr",
     "output_type": "stream",
     "text": [
      "/home/zchen/anaconda3/lib/python3.7/site-packages/ipykernel_launcher.py:29: SettingWithCopyWarning: \n",
      "A value is trying to be set on a copy of a slice from a DataFrame.\n",
      "Try using .loc[row_indexer,col_indexer] = value instead\n",
      "\n",
      "See the caveats in the documentation: https://pandas.pydata.org/pandas-docs/stable/user_guide/indexing.html#returning-a-view-versus-a-copy\n",
      "/home/zchen/anaconda3/lib/python3.7/site-packages/ipykernel_launcher.py:30: SettingWithCopyWarning: \n",
      "A value is trying to be set on a copy of a slice from a DataFrame.\n",
      "Try using .loc[row_indexer,col_indexer] = value instead\n",
      "\n",
      "See the caveats in the documentation: https://pandas.pydata.org/pandas-docs/stable/user_guide/indexing.html#returning-a-view-versus-a-copy\n"
     ]
    },
    {
     "name": "stdout",
     "output_type": "stream",
     "text": [
      "137$\\pm$3\n",
      "22462$\\pm$380\n",
      "18122$\\pm$247\n",
      "3856$\\pm$40\n",
      "23931$\\pm$794\n",
      "535282$\\pm$732\n",
      "466,774$\\pm$3,947\n"
     ]
    }
   ],
   "source": [
    "# 2j\n",
    "savedir = \"../../plots/singlelep/2j/\"\n",
    "slt_jet = 'nJets==2 & leptonOnePt>30'\n",
    "slt_subtitle = r\"$n_j=2$, \"\n",
    "\n",
    "\n",
    "# # 2j1b\n",
    "# savedir = \"../../plots/singlelep/2j1b/\"\n",
    "# slt_jet = 'nJets==2 & nBJets>=1 & leptonOnePt>30'\n",
    "# slt_subtitle = r\"$n_j=2,  n_b \\geq 1 $, \"\n",
    "\n",
    "for selection in ['mu','e']:\n",
    "    for isoPass in [True, False]:\n",
    "        makePlots(selection,isoPass)"
   ]
  },
  {
   "cell_type": "code",
   "execution_count": 15,
   "metadata": {},
   "outputs": [
    {
     "name": "stderr",
     "output_type": "stream",
     "text": [
      "/home/zchen/anaconda3/lib/python3.7/site-packages/ipykernel_launcher.py:29: SettingWithCopyWarning: \n",
      "A value is trying to be set on a copy of a slice from a DataFrame.\n",
      "Try using .loc[row_indexer,col_indexer] = value instead\n",
      "\n",
      "See the caveats in the documentation: https://pandas.pydata.org/pandas-docs/stable/user_guide/indexing.html#returning-a-view-versus-a-copy\n",
      "/home/zchen/anaconda3/lib/python3.7/site-packages/ipykernel_launcher.py:30: SettingWithCopyWarning: \n",
      "A value is trying to be set on a copy of a slice from a DataFrame.\n",
      "Try using .loc[row_indexer,col_indexer] = value instead\n",
      "\n",
      "See the caveats in the documentation: https://pandas.pydata.org/pandas-docs/stable/user_guide/indexing.html#returning-a-view-versus-a-copy\n"
     ]
    },
    {
     "name": "stdout",
     "output_type": "stream",
     "text": [
      "232$\\pm$4\n",
      "10197$\\pm$293\n",
      "27004$\\pm$251\n",
      "176337$\\pm$238\n",
      "1993$\\pm$155\n",
      "284267$\\pm$533\n",
      "68,504$\\pm$17,884\n"
     ]
    },
    {
     "name": "stderr",
     "output_type": "stream",
     "text": [
      "/home/zchen/anaconda3/lib/python3.7/site-packages/ipykernel_launcher.py:29: SettingWithCopyWarning: \n",
      "A value is trying to be set on a copy of a slice from a DataFrame.\n",
      "Try using .loc[row_indexer,col_indexer] = value instead\n",
      "\n",
      "See the caveats in the documentation: https://pandas.pydata.org/pandas-docs/stable/user_guide/indexing.html#returning-a-view-versus-a-copy\n",
      "/home/zchen/anaconda3/lib/python3.7/site-packages/ipykernel_launcher.py:30: SettingWithCopyWarning: \n",
      "A value is trying to be set on a copy of a slice from a DataFrame.\n",
      "Try using .loc[row_indexer,col_indexer] = value instead\n",
      "\n",
      "See the caveats in the documentation: https://pandas.pydata.org/pandas-docs/stable/user_guide/indexing.html#returning-a-view-versus-a-copy\n"
     ]
    },
    {
     "name": "stdout",
     "output_type": "stream",
     "text": [
      "6$\\pm$1\n",
      "206$\\pm$43\n",
      "578$\\pm$37\n",
      "4973$\\pm$38\n",
      "209$\\pm$40\n",
      "36907$\\pm$192\n",
      "30,935$\\pm$543\n"
     ]
    },
    {
     "name": "stderr",
     "output_type": "stream",
     "text": [
      "/home/zchen/anaconda3/lib/python3.7/site-packages/ipykernel_launcher.py:29: SettingWithCopyWarning: \n",
      "A value is trying to be set on a copy of a slice from a DataFrame.\n",
      "Try using .loc[row_indexer,col_indexer] = value instead\n",
      "\n",
      "See the caveats in the documentation: https://pandas.pydata.org/pandas-docs/stable/user_guide/indexing.html#returning-a-view-versus-a-copy\n",
      "/home/zchen/anaconda3/lib/python3.7/site-packages/ipykernel_launcher.py:30: SettingWithCopyWarning: \n",
      "A value is trying to be set on a copy of a slice from a DataFrame.\n",
      "Try using .loc[row_indexer,col_indexer] = value instead\n",
      "\n",
      "See the caveats in the documentation: https://pandas.pydata.org/pandas-docs/stable/user_guide/indexing.html#returning-a-view-versus-a-copy\n"
     ]
    },
    {
     "name": "stdout",
     "output_type": "stream",
     "text": [
      "284$\\pm$4\n",
      "15078$\\pm$344\n",
      "17621$\\pm$198\n",
      "116410$\\pm$191\n",
      "10135$\\pm$310\n",
      "197533$\\pm$444\n",
      "38,005$\\pm$11,933\n"
     ]
    },
    {
     "name": "stderr",
     "output_type": "stream",
     "text": [
      "/home/zchen/anaconda3/lib/python3.7/site-packages/ipykernel_launcher.py:29: SettingWithCopyWarning: \n",
      "A value is trying to be set on a copy of a slice from a DataFrame.\n",
      "Try using .loc[row_indexer,col_indexer] = value instead\n",
      "\n",
      "See the caveats in the documentation: https://pandas.pydata.org/pandas-docs/stable/user_guide/indexing.html#returning-a-view-versus-a-copy\n",
      "/home/zchen/anaconda3/lib/python3.7/site-packages/ipykernel_launcher.py:30: SettingWithCopyWarning: \n",
      "A value is trying to be set on a copy of a slice from a DataFrame.\n",
      "Try using .loc[row_indexer,col_indexer] = value instead\n",
      "\n",
      "See the caveats in the documentation: https://pandas.pydata.org/pandas-docs/stable/user_guide/indexing.html#returning-a-view-versus-a-copy\n"
     ]
    },
    {
     "name": "stdout",
     "output_type": "stream",
     "text": [
      "8$\\pm$1\n",
      "520$\\pm$61\n",
      "437$\\pm$32\n",
      "3431$\\pm$32\n",
      "528$\\pm$80\n",
      "17545$\\pm$132\n",
      "12,621$\\pm$393\n"
     ]
    }
   ],
   "source": [
    "# 3j\n",
    "# savedir = \"../../plots/singlelep/3j/\"\n",
    "# slt_jet = 'nJets==3 & leptonOnePt>30'\n",
    "# slt_subtitle = r\"$n_j=3$, \"\n",
    "\n",
    "# 3j1b\n",
    "savedir = \"../../plots/singlelep/3j1b/\"\n",
    "slt_jet = 'nJets==3 & nBJets>=1 & leptonOnePt>30'\n",
    "slt_subtitle = r\"$n_j=3,  n_b \\geq 1 $, \"\n",
    "\n",
    "for selection in ['mu','e']:\n",
    "    for isoPass in [True, False]:\n",
    "        makePlots(selection,isoPass)\n"
   ]
  },
  {
   "cell_type": "code",
   "execution_count": 9,
   "metadata": {},
   "outputs": [
    {
     "name": "stderr",
     "output_type": "stream",
     "text": [
      "/home/zchen/anaconda3/lib/python3.7/site-packages/ipykernel_launcher.py:28: SettingWithCopyWarning: \n",
      "A value is trying to be set on a copy of a slice from a DataFrame.\n",
      "Try using .loc[row_indexer,col_indexer] = value instead\n",
      "\n",
      "See the caveats in the documentation: https://pandas.pydata.org/pandas-docs/stable/user_guide/indexing.html#returning-a-view-versus-a-copy\n",
      "/home/zchen/anaconda3/lib/python3.7/site-packages/ipykernel_launcher.py:29: SettingWithCopyWarning: \n",
      "A value is trying to be set on a copy of a slice from a DataFrame.\n",
      "Try using .loc[row_indexer,col_indexer] = value instead\n",
      "\n",
      "See the caveats in the documentation: https://pandas.pydata.org/pandas-docs/stable/user_guide/indexing.html#returning-a-view-versus-a-copy\n",
      "/home/zchen/anaconda3/lib/python3.7/site-packages/ipykernel_launcher.py:30: SettingWithCopyWarning: \n",
      "A value is trying to be set on a copy of a slice from a DataFrame.\n",
      "Try using .loc[row_indexer,col_indexer] = value instead\n",
      "\n",
      "See the caveats in the documentation: https://pandas.pydata.org/pandas-docs/stable/user_guide/indexing.html#returning-a-view-versus-a-copy\n"
     ]
    },
    {
     "name": "stdout",
     "output_type": "stream",
     "text": [
      "472$\\pm$6\n",
      "9387$\\pm$299\n",
      "56150$\\pm$349\n",
      "936194$\\pm$497\n",
      "1791$\\pm$75\n",
      "1033873$\\pm$1017\n",
      "29,879$\\pm$1,224\n"
     ]
    },
    {
     "name": "stderr",
     "output_type": "stream",
     "text": [
      "/home/zchen/anaconda3/lib/python3.7/site-packages/ipykernel_launcher.py:28: SettingWithCopyWarning: \n",
      "A value is trying to be set on a copy of a slice from a DataFrame.\n",
      "Try using .loc[row_indexer,col_indexer] = value instead\n",
      "\n",
      "See the caveats in the documentation: https://pandas.pydata.org/pandas-docs/stable/user_guide/indexing.html#returning-a-view-versus-a-copy\n",
      "/home/zchen/anaconda3/lib/python3.7/site-packages/ipykernel_launcher.py:29: SettingWithCopyWarning: \n",
      "A value is trying to be set on a copy of a slice from a DataFrame.\n",
      "Try using .loc[row_indexer,col_indexer] = value instead\n",
      "\n",
      "See the caveats in the documentation: https://pandas.pydata.org/pandas-docs/stable/user_guide/indexing.html#returning-a-view-versus-a-copy\n",
      "/home/zchen/anaconda3/lib/python3.7/site-packages/ipykernel_launcher.py:30: SettingWithCopyWarning: \n",
      "A value is trying to be set on a copy of a slice from a DataFrame.\n",
      "Try using .loc[row_indexer,col_indexer] = value instead\n",
      "\n",
      "See the caveats in the documentation: https://pandas.pydata.org/pandas-docs/stable/user_guide/indexing.html#returning-a-view-versus-a-copy\n"
     ]
    },
    {
     "name": "stdout",
     "output_type": "stream",
     "text": [
      "10$\\pm$1\n",
      "263$\\pm$53\n",
      "1370$\\pm$54\n",
      "32975$\\pm$92\n",
      "172$\\pm$18\n",
      "51056$\\pm$226\n",
      "16,265$\\pm$256\n"
     ]
    },
    {
     "name": "stderr",
     "output_type": "stream",
     "text": [
      "/home/zchen/anaconda3/lib/python3.7/site-packages/ipykernel_launcher.py:28: SettingWithCopyWarning: \n",
      "A value is trying to be set on a copy of a slice from a DataFrame.\n",
      "Try using .loc[row_indexer,col_indexer] = value instead\n",
      "\n",
      "See the caveats in the documentation: https://pandas.pydata.org/pandas-docs/stable/user_guide/indexing.html#returning-a-view-versus-a-copy\n",
      "/home/zchen/anaconda3/lib/python3.7/site-packages/ipykernel_launcher.py:29: SettingWithCopyWarning: \n",
      "A value is trying to be set on a copy of a slice from a DataFrame.\n",
      "Try using .loc[row_indexer,col_indexer] = value instead\n",
      "\n",
      "See the caveats in the documentation: https://pandas.pydata.org/pandas-docs/stable/user_guide/indexing.html#returning-a-view-versus-a-copy\n",
      "/home/zchen/anaconda3/lib/python3.7/site-packages/ipykernel_launcher.py:30: SettingWithCopyWarning: \n",
      "A value is trying to be set on a copy of a slice from a DataFrame.\n",
      "Try using .loc[row_indexer,col_indexer] = value instead\n",
      "\n",
      "See the caveats in the documentation: https://pandas.pydata.org/pandas-docs/stable/user_guide/indexing.html#returning-a-view-versus-a-copy\n"
     ]
    },
    {
     "name": "stdout",
     "output_type": "stream",
     "text": [
      "614$\\pm$6\n",
      "16074$\\pm$356\n",
      "38880$\\pm$282\n",
      "656618$\\pm$409\n",
      "13978$\\pm$185\n",
      "750593$\\pm$866\n",
      "24,429$\\pm$1,076\n"
     ]
    },
    {
     "name": "stderr",
     "output_type": "stream",
     "text": [
      "/home/zchen/anaconda3/lib/python3.7/site-packages/ipykernel_launcher.py:28: SettingWithCopyWarning: \n",
      "A value is trying to be set on a copy of a slice from a DataFrame.\n",
      "Try using .loc[row_indexer,col_indexer] = value instead\n",
      "\n",
      "See the caveats in the documentation: https://pandas.pydata.org/pandas-docs/stable/user_guide/indexing.html#returning-a-view-versus-a-copy\n",
      "/home/zchen/anaconda3/lib/python3.7/site-packages/ipykernel_launcher.py:29: SettingWithCopyWarning: \n",
      "A value is trying to be set on a copy of a slice from a DataFrame.\n",
      "Try using .loc[row_indexer,col_indexer] = value instead\n",
      "\n",
      "See the caveats in the documentation: https://pandas.pydata.org/pandas-docs/stable/user_guide/indexing.html#returning-a-view-versus-a-copy\n",
      "/home/zchen/anaconda3/lib/python3.7/site-packages/ipykernel_launcher.py:30: SettingWithCopyWarning: \n",
      "A value is trying to be set on a copy of a slice from a DataFrame.\n",
      "Try using .loc[row_indexer,col_indexer] = value instead\n",
      "\n",
      "See the caveats in the documentation: https://pandas.pydata.org/pandas-docs/stable/user_guide/indexing.html#returning-a-view-versus-a-copy\n"
     ]
    },
    {
     "name": "stdout",
     "output_type": "stream",
     "text": [
      "18$\\pm$1\n",
      "565$\\pm$64\n",
      "1072$\\pm$47\n",
      "23224$\\pm$75\n",
      "677$\\pm$40\n",
      "41298$\\pm$203\n",
      "15,741$\\pm$234\n"
     ]
    }
   ],
   "source": [
    "# # 4j\n",
    "# savedir = \"../../plots/singlelep/4j/\"\n",
    "# slt_jet = 'nJets>=4 & leptonOnePt>30'\n",
    "# slt_subtitle = r\"$n_j=\\geq 4$, \"\n",
    "\n",
    "\n",
    "# # 4j0b\n",
    "# savedir = \"../../plots/singlelep/4j0b/\"\n",
    "# slt_jet = 'nJets>=4 & nBJets==0 & leptonOnePt>30'\n",
    "# slt_subtitle = r\"$ n_j \\geq 4,  n_b = 0 $, \"\n",
    "\n",
    "# 4j1b\n",
    "savedir = \"../../plots/singlelep/4j1b/\"\n",
    "slt_jet = 'nJets>=4 & nBJets>=1 & leptonOnePt>30'\n",
    "slt_subtitle = r\"$ n_j \\geq 4,  n_b \\geq 1 $, \"\n",
    "\n",
    "\n",
    "\n",
    "for selection in ['mu','e']:\n",
    "    for isoPass in [True, False]:\n",
    "        makePlots(selection,isoPass)"
   ]
  },
  {
   "cell_type": "code",
   "execution_count": 23,
   "metadata": {},
   "outputs": [],
   "source": [
    "def getRatio(k,n,kerr,nerr):\n",
    "    f = k/n\n",
    "    fvar = f**2 * (kerr**2/k**2 + nerr**2/n**2)\n",
    "    return f,fvar**0.5"
   ]
  },
  {
   "cell_type": "code",
   "execution_count": 24,
   "metadata": {},
   "outputs": [
    {
     "data": {
      "text/plain": [
       "(3.7314788750415846, 1.9807121243872179)"
      ]
     },
     "execution_count": 24,
     "metadata": {},
     "output_type": "execute_result"
    }
   ],
   "source": [
    "getRatio(145815,39077,76866,2433)"
   ]
  },
  {
   "cell_type": "code",
   "execution_count": 47,
   "metadata": {},
   "outputs": [],
   "source": [
    "savedir = \"../../plots/singlelep/3j0b/\"\n",
    "# savedir = \"../../plots/singlelep/123j1b/\"\n",
    "# savedir = \"../../plots/singlelep/4j/\"\n",
    "# savedir = \"../../plots/singlelep/4j1b/\"\n",
    "\n",
    "\n",
    "# slt_jet = 'nJets==1 & leptonOnePt>25'\n",
    "# selection = 'mu'\n",
    "# mybin1 = np.array([25,26, 28, 30,32,34,36,38,40,45,50,60,9999])\n",
    "\n",
    "slt_jet = 'nJets==3 & leptonOnePt>30 &nBJets==0 '\n",
    "selection = 'e'\n",
    "mybin1 = np.array([30,32,34,36,38,40,45,50,60,9999])\n",
    "\n",
    "\n",
    "\n",
    "\n",
    "mybin2 = np.array([-2.5, -2.0, -1.8, -1.444, -1.1, -0.6, 0.0, 0.6, 1.1, 1.444, 1.8, 2.0, 2.5])\n",
    "\n",
    "\n",
    "#for selection in ['mu','e']:\n",
    "    \n",
    "fileName  = \"../../data/root/Run2016_Singlelep_20200811.root\"\n",
    "features  = ['eventWeight','leptonOneIso','leptonOnePt','leptonOneEta','leptonOnePhi','leptonOneIsoPass','leptonOneMetMt','nJets','nBJets','met','metPhi','htPhi']\n",
    "# mct  = DFGetter(fileName,selection,'t').get(features,slt)\n",
    "# mcw  = DFGetter(fileName,selection,'w').get(features,slt)\n",
    "# mcz  = DFGetter(fileName,selection,'z').get(features,slt)\n",
    "# mcvv = DFGetter(fileName,selection,'vv').get(features,slt)\n",
    "# dfList   = [mcvv,mcz,mcw,mct,data]"
   ]
  },
  {
   "cell_type": "code",
   "execution_count": null,
   "metadata": {},
   "outputs": [],
   "source": [
    "\n"
   ]
  },
  {
   "cell_type": "code",
   "execution_count": 48,
   "metadata": {},
   "outputs": [],
   "source": [
    "def get_hist(isoPass):\n",
    "    slt = slt_jet + \"&leptonOneIsoPass==\"+str(isoPass)\n",
    "    \n",
    "    df = DFGetter(fileName,selection,'data').get(features,slt)\n",
    "    n    = np.histogram2d(df.leptonOnePt, df.leptonOneEta, bins = (mybin1,mybin2), weights = df.eventWeight)[0]\n",
    "    nVar = np.histogram2d(df.leptonOnePt, df.leptonOneEta, bins = (mybin1,mybin2), weights = df.eventWeight**2)[0]\n",
    "\n",
    "    df = DFGetter(fileName,selection,'t').get(features,slt)\n",
    "    n    -= np.histogram2d(df.leptonOnePt, df.leptonOneEta, bins = (mybin1,mybin2), weights = df.eventWeight)[0]\n",
    "    nVar += np.histogram2d(df.leptonOnePt, df.leptonOneEta, bins = (mybin1,mybin2), weights = df.eventWeight**2)[0]\n",
    "\n",
    "    df = DFGetter(fileName,selection,'w').get(features,slt)\n",
    "    n    -= np.histogram2d(df.leptonOnePt, df.leptonOneEta, bins = (mybin1,mybin2), weights = df.eventWeight)[0]\n",
    "    nVar += np.histogram2d(df.leptonOnePt, df.leptonOneEta, bins = (mybin1,mybin2), weights = df.eventWeight**2)[0]\n",
    "\n",
    "    df = DFGetter(fileName,selection,'z').get(features,slt)\n",
    "    n    -= np.histogram2d(df.leptonOnePt, df.leptonOneEta, bins = (mybin1,mybin2), weights = df.eventWeight)[0]\n",
    "    nVar += np.histogram2d(df.leptonOnePt, df.leptonOneEta, bins = (mybin1,mybin2), weights = df.eventWeight**2)[0]\n",
    "\n",
    "    df = DFGetter(fileName,selection,'vv').get(features,slt)\n",
    "    n    -= np.histogram2d(df.leptonOnePt, df.leptonOneEta, bins = (mybin1,mybin2), weights = df.eventWeight)[0]\n",
    "    nVar += np.histogram2d(df.leptonOnePt, df.leptonOneEta, bins = (mybin1,mybin2), weights = df.eventWeight**2)[0]\n",
    "    \n",
    "    df = DFGetter(fileName,selection,'g').get(features,slt)\n",
    "    n    -= np.histogram2d(df.leptonOnePt, df.leptonOneEta, bins = (mybin1,mybin2), weights = df.eventWeight)[0]\n",
    "    nVar += np.histogram2d(df.leptonOnePt, df.leptonOneEta, bins = (mybin1,mybin2), weights = df.eventWeight**2)[0]\n",
    "    return n, nVar**0.5"
   ]
  },
  {
   "cell_type": "code",
   "execution_count": 49,
   "metadata": {},
   "outputs": [
    {
     "name": "stderr",
     "output_type": "stream",
     "text": [
      "/home/zchen/anaconda3/lib/python3.7/site-packages/ipykernel_launcher.py:29: SettingWithCopyWarning: \n",
      "A value is trying to be set on a copy of a slice from a DataFrame.\n",
      "Try using .loc[row_indexer,col_indexer] = value instead\n",
      "\n",
      "See the caveats in the documentation: https://pandas.pydata.org/pandas-docs/stable/user_guide/indexing.html#returning-a-view-versus-a-copy\n",
      "/home/zchen/anaconda3/lib/python3.7/site-packages/ipykernel_launcher.py:30: SettingWithCopyWarning: \n",
      "A value is trying to be set on a copy of a slice from a DataFrame.\n",
      "Try using .loc[row_indexer,col_indexer] = value instead\n",
      "\n",
      "See the caveats in the documentation: https://pandas.pydata.org/pandas-docs/stable/user_guide/indexing.html#returning-a-view-versus-a-copy\n"
     ]
    }
   ],
   "source": [
    "nTrue, nTrueVar = get_hist(True)\n",
    "nFalse, nFalseVar = get_hist(False)"
   ]
  },
  {
   "cell_type": "code",
   "execution_count": 50,
   "metadata": {},
   "outputs": [],
   "source": [
    "sf, sferr = getRatio(nTrue,nFalse, nTrueVar, nFalseVar)"
   ]
  },
  {
   "cell_type": "code",
   "execution_count": 51,
   "metadata": {},
   "outputs": [
    {
     "data": {
      "image/png": "[encoded data removed]",
      "text/plain": [
       "<Figure size 432x288 with 2 Axes>"
      ]
     },
     "metadata": {},
     "output_type": "display_data"
    }
   ],
   "source": [
    "plt.pcolor(mybin1, mybin2, sf.T, cmap=\"Spectral\",vmax=10,vmin=0)\n",
    "plt.colorbar()\n",
    "plt.xlabel(\"pt\")\n",
    "plt.ylabel(\"eta\")\n",
    "plt.axhline(1.444,color='k',linestyle=\"--\")\n",
    "plt.axhline(-1.444,color='k',linestyle=\"--\")\n",
    "plt.axvline(30,color='k',linestyle=\"--\")\n",
    "plt.title(\"SF \"+selection)\n",
    "plt.xlim(20,100)\n",
    "plt.savefig(\"{}/SF_{}_2d.png\".format(savedir,selection),dpi=300)"
   ]
  },
  {
   "cell_type": "code",
   "execution_count": 52,
   "metadata": {
    "scrolled": true
   },
   "outputs": [],
   "source": [
    "np.save(\"{}/SF_{}_2d\".format(savedir,selection),sf)\n",
    "np.save(\"{}/SF_std_{}_2d\".format(savedir,selection),sferr)"
   ]
  },
  {
   "cell_type": "code",
   "execution_count": null,
   "metadata": {},
   "outputs": [],
   "source": []
  },
  {
   "cell_type": "code",
   "execution_count": null,
   "metadata": {},
   "outputs": [],
   "source": []
  },
  {
   "cell_type": "code",
   "execution_count": null,
   "metadata": {},
   "outputs": [],
   "source": []
  }
 ],
 "metadata": {
  "kernelspec": {
   "display_name": "Python 3",
   "language": "python",
   "name": "python3"
  },
  "language_info": {
   "codemirror_mode": {
    "name": "ipython",
    "version": 3
   },
   "file_extension": ".py",
   "mimetype": "text/x-python",
   "name": "python",
   "nbconvert_exporter": "python",
   "pygments_lexer": "ipython3",
   "version": "3.7.6"
  }
 },
 "nbformat": 4,
 "nbformat_minor": 4
}
