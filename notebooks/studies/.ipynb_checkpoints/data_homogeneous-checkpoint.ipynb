{
 "cells": [
  {
   "cell_type": "code",
   "execution_count": 1,
   "metadata": {
    "collapsed": true
   },
   "outputs": [],
   "source": [
    "from utility_dfcutter import *\n",
    "from utility_dfplotter import *\n",
    "import utility_common as common\n",
    "%matplotlib inline"
   ]
  },
  {
   "cell_type": "code",
   "execution_count": 72,
   "metadata": {
    "collapsed": true
   },
   "outputs": [],
   "source": [
    "class PlotterManager:\n",
    "    def __init__(self,selection,nbjet, njet=None):\n",
    "        self.selection = selection\n",
    "        self.nbjet = nbjet\n",
    "        self.njet  = njet\n",
    "        self._setConfiguration() \n",
    "        \n",
    "    def getDataFrameList(self, variation=''):\n",
    "        dfList = []\n",
    "        for name in ['B','C','D','E','F','G','H']:\n",
    "            dfList.append(DFCutter(self.selection,self.nbjet,'data2016'+name, self.njet).getDataFrame())\n",
    "        return dfList\n",
    "        \n",
    "    def _setConfiguration(self):\n",
    "        self.mcsgQueryList = []\n",
    "        self.labelList = ['16B: 5.8/fb',\n",
    "                          '16C: 2.6/fb',\n",
    "                          '16D: 4.2/fb',\n",
    "                          '16E: 4.0/fb',\n",
    "                          '16F: 3.1/fb',\n",
    "                          '16G: 7.6/fb',\n",
    "                          '16H: 8.7/fb']\n",
    "        self.colorList = ['#e0301e','#eb8c00','gold','springgreen','#49feec','deepskyblue','mediumpurple']\n",
    "        \n",
    "        \n",
    "def makeAPlot(df_list, label_list, color_list, v,a,b,step,xl):\n",
    "    \n",
    "    \n",
    "    mybin         = np.arange(a,b,step)\n",
    "    variable_list = [mc[v].values for mc in df_list]\n",
    "    weight_list   = [mc['eventWeight'].values for mc in df_list]\n",
    "\n",
    "    plt.rc('figure',facecolor='w')\n",
    "    fig, axes = plt.subplots(2, 1, sharex=True, \n",
    "                             gridspec_kw={'height_ratios':[3,1]},\n",
    "                             figsize=(6,6))\n",
    "    fig.subplots_adjust(hspace=0)\n",
    "    \n",
    "    # upper plot\n",
    "    ax = axes[0]\n",
    "    mc =  ax.hist(variable_list, \n",
    "                  label   = label_list,\n",
    "                  color   = color_list,\n",
    "                  bins = mybin, lw=0, alpha=1, \n",
    "                  histtype='stepfilled',\n",
    "                  stacked=True\n",
    "                 )\n",
    "    mc = mc[0][-1]\n",
    "    \n",
    "    ax.text(0.04*b+0.96*a, 1.35*mc.max(), r'CMS $preliminary$',style='italic',fontsize='15',fontweight='bold')\n",
    "    ax.text(0.04*b+0.96*a, 1.2*mc.max(), r'$\\mu\\mu$ channel $(n_j\\geq 2,n_b=1 )$',style='italic',fontsize='12')\n",
    "    \n",
    "    ax.grid(True,linestyle='--',alpha=0.5)\n",
    "    ax.set_ylim(0,1.5*mc.max())\n",
    "    ax.legend()\n",
    "    ax.set_title('L=35.9/fb (13TeV)',loc='right')\n",
    "    \n",
    "    # lower plot\n",
    "    ax = axes[1]\n",
    "    lumin_list  = [5.750,2.573,4.242,4.025,3.105,7.576,8.651]\n",
    "    weight_list = [mc['eventWeight'].values/lumin_list[i] for i,mc in enumerate(df_list)]\n",
    "\n",
    "    mc =  ax.hist(variable_list, \n",
    "                  weights  = weight_list,\n",
    "                  label   = label_list,\n",
    "                  color   = color_list,\n",
    "                  bins = mybin, lw=1, alpha=1, \n",
    "                  histtype='step'\n",
    "                 )\n",
    "    mc = mc[0][-1]\n",
    "    ax.set_ylabel('event per /fb',fontsize='10')\n",
    "    \n",
    "    ax.set_xlim(a, b)\n",
    "    ax.set_ylim(0,1.2*mc.max())\n",
    "    ax.grid(True,linestyle='--',alpha=0.5)\n",
    "    \n",
    "    ax.set_xlabel(xl,fontsize='12')\n",
    "        "
   ]
  },
  {
   "cell_type": "code",
   "execution_count": 78,
   "metadata": {},
   "outputs": [],
   "source": [
    "selection,nbjet = 'mumu','==1'\n",
    "pmng = PlotterManager(selection,nbjet)\n",
    "df_list = pmng.getDataFrameList()\n",
    "label_list = pmng.labelList\n",
    "color_list = pmng.colorList\n",
    "\n",
    "baseDir = common.getBaseDirectory()\n",
    "pp = pd.read_csv(baseDir+'python/plotterItemTables/itemTable_{}.csv'.format(selection))\n",
    "\n",
    "# v,a,b,step,xl = 'lepton2_eta',-3,3,0.1,'lepton1_eta'\n",
    "# makeAPlot(df_list,label_list,color_list,v,a,b,step,xl)\n",
    "\n",
    "for index, row in pp.iterrows():\n",
    "\n",
    "    v,a,b,step,xl = row['var'],row['lower'],row['upper'],row['step'],row['xlabel']\n",
    "\n",
    "    makeAPlot(df_list,label_list,color_list,v,a,b,step,xl)\n",
    "    plt.savefig(baseDir+'plots/data_kinematics/{}/1b/{}_1b_{}.pdf'.format(selection,selection,v))\n",
    "    plt.close()"
   ]
  },
  {
   "cell_type": "code",
   "execution_count": 13,
   "metadata": {},
   "outputs": [
    {
     "data": {
      "text/plain": [
       "289119"
      ]
     },
     "execution_count": 13,
     "metadata": {},
     "output_type": "execute_result"
    }
   ],
   "source": [
    "size(df_list[4])"
   ]
  },
  {
   "cell_type": "code",
   "execution_count": null,
   "metadata": {
    "collapsed": true
   },
   "outputs": [],
   "source": []
  }
 ],
 "metadata": {
  "kernelspec": {
   "display_name": "Python 3",
   "language": "python",
   "name": "python3"
  },
  "language_info": {
   "codemirror_mode": {
    "name": "ipython",
    "version": 3
   },
   "file_extension": ".py",
   "mimetype": "text/x-python",
   "name": "python",
   "nbconvert_exporter": "python",
   "pygments_lexer": "ipython3",
   "version": "3.6.1"
  }
 },
 "nbformat": 4,
 "nbformat_minor": 2
}
