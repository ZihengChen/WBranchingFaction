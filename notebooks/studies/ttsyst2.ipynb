{
 "cells": [
  {
   "cell_type": "code",
   "execution_count": 1,
   "metadata": {
    "collapsed": true
   },
   "outputs": [],
   "source": [
    "import utility_common as common\n",
    "from utility_bfvariater import *\n",
    "%matplotlib inline"
   ]
  },
  {
   "cell_type": "code",
   "execution_count": 14,
   "metadata": {
    "collapsed": true
   },
   "outputs": [],
   "source": [
    "triggerNames = {0: \"mu-1b\",1:\"mu-2b\",2:\"e-1b\",3:\"e-2b\"}\n",
    "channelNames = {0: r\"$\\mu e$\",1:r\"$\\mu \\mu$\",2:r\"$\\mu \\tau$\",3:r\"$\\mu+jets$\",\n",
    "                4: r\"$e e$\",5:r\"$e \\mu$\",6:r\"$e \\tau$\",7:r\"$e+jets$\" }\n",
    "def plot(source,icata,ch):\n",
    "    counts  = pd.read_pickle( \"../../data/counts/count_.pkl\")\n",
    "    counts1 = pd.read_pickle( \"../../data/counts/count_{}Up.pkl\".format(source))\n",
    "    counts2 = pd.read_pickle( \"../../data/counts/count_{}Down.pkl\".format(source))\n",
    "\n",
    "    acc = common.matrixToArray(counts.acc[icata][ch][1])\n",
    "    acc1 = common.matrixToArray(counts1.acc[icata][ch][1])\n",
    "    acc2 = common.matrixToArray(counts2.acc[icata][ch][1])\n",
    "\n",
    "    accVar = common.matrixToArray(counts.accVar[icata][ch][1])\n",
    "    accVar1 = common.matrixToArray(counts1.accVar[icata][ch][1])\n",
    "    accVar2 = common.matrixToArray(counts2.accVar[icata][ch][1])\n",
    "\n",
    "    fig, axes = plt.subplots(2, 1,facecolor='w',figsize=(5,5),sharex=True, gridspec_kw={'height_ratios':[5,1]})\n",
    "    fig.subplots_adjust(hspace=0)\n",
    "\n",
    "    ax = axes[0]\n",
    "    centers = np.arange(21)\n",
    "    ax.plot(centers,acc,'k.',label='nominal')\n",
    "    ax.bar(centers,acc1-acc2,bottom=acc2,width=1,color='C1',alpha=1,label=\"envelope {}+-\".format(source))\n",
    "    ax.errorbar(centers,acc1,yerr=sqrt(accVar1),fmt='none', lw=10, mew=0,color='C0',label='statUnc {}+'.format(source))\n",
    "    ax.errorbar(centers,acc2,yerr=sqrt(accVar2),fmt='none', lw=8, mew=0,color='C2',label='statUnc {}-'.format(source))\n",
    "    ax.grid(linestyle='--',alpha=0.3)\n",
    "    ax.set_ylabel(\"Efficiency\")\n",
    "    ax.legend(fontsize=13)\n",
    "    title = triggerNames[icata] +\" region, \"+ channelNames[(icata//2)*4+ch]+\" channel, \"+source\n",
    "    ax.set_title(title)\n",
    "\n",
    "    ax = axes[1]\n",
    "    res = abs(acc1-acc2)/np.sqrt(accVar1+accVar2)\n",
    "    ax.bar(centers,res,width=1,color='C1')\n",
    "    xticksName = common.WWBranchNames()\n",
    "    plt.xticks(centers,xticksName,fontsize=5)\n",
    "    ax.set_xlim(-1,21)\n",
    "    ax.axhline(3,linestyle='--',color='k')\n",
    "    ax.grid(linestyle='--',alpha=0.3)\n",
    "    ax.set_ylabel(r\"$\\frac{|\\epsilon_+ - \\epsilon_-|}{\\sigma_{stat}}$\")\n",
    "    ax.set_xlabel(r\"21 $WW$ decay final states\")\n",
    "\n",
    "    plt.savefig(\"../../plots/ttsyst/icata{}_ch{}_{}.png\".format(icata,ch,source),dpi=300)"
   ]
  },
  {
   "cell_type": "code",
   "execution_count": 15,
   "metadata": {},
   "outputs": [],
   "source": [
    "for source in ['fsr','isr','meps','ue']:\n",
    "    for icata in range(4):\n",
    "        for ch in range(4):\n",
    "            plot(source,icata,ch)\n",
    "            plt.close()\n"
   ]
  },
  {
   "cell_type": "code",
   "execution_count": null,
   "metadata": {
    "collapsed": true
   },
   "outputs": [],
   "source": []
  }
 ],
 "metadata": {
  "kernelspec": {
   "display_name": "Python 3",
   "language": "python",
   "name": "python3"
  },
  "language_info": {
   "codemirror_mode": {
    "name": "ipython",
    "version": 3
   },
   "file_extension": ".py",
   "mimetype": "text/x-python",
   "name": "python",
   "nbconvert_exporter": "python",
   "pygments_lexer": "ipython3",
   "version": "3.7.3"
  }
 },
 "nbformat": 4,
 "nbformat_minor": 2
}
