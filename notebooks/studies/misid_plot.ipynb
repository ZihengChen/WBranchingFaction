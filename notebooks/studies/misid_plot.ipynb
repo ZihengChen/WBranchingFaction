{
 "cells": [
  {
   "cell_type": "code",
   "execution_count": 1,
   "metadata": {},
   "outputs": [],
   "source": [
    "from utility_dfcutter import *"
   ]
  },
  {
   "cell_type": "code",
   "execution_count": 3,
   "metadata": {},
   "outputs": [],
   "source": [
    "selection,nbjet,njet = 'mutau','==0','>=2'\n",
    "mctt = DFCutter(selection,nbjet=nbjet,name='mctt',njet=njet).getDataFrame(variation=\"\")\n",
    "mct  = DFCutter(selection,nbjet=nbjet,name='mct',njet=njet).getDataFrame(variation=\"\")\n",
    "mcw  = DFCutter(selection,nbjet=nbjet,name='mcw',njet=njet).getDataFrame(variation=\"\")\n",
    "mcz  = DFCutter(selection,nbjet=nbjet,name='mcz',njet=njet).getDataFrame(variation=\"\")\n",
    "mcvv = DFCutter(selection,nbjet=nbjet,name='mcdiboson',njet=njet).getDataFrame(variation=\"\")\n",
    "data = DFCutter(selection,nbjet=nbjet,name=\"data2016\", njet=njet).getDataFrame(variation=\"\")\n",
    "\n",
    "\n",
    "# for df in [mcvv,mcz,mcw,mct,mctt,data]:\n",
    "#     df['tauPuppiChHadIsoRel'] = df.tauPuppiChHadIso/df.tauPt\n",
    "#     df['tauPuppiGammaIsoRel'] = df.tauPuppiGammaIso/df.tauPt\n",
    "#     df['tauPuppiNeuHadIsoRel'] = df.tauPuppiNeuHadIso/df.tauPt\n",
    "\n",
    "\n",
    "    \n",
    "mc   = pd.concat([mcvv,mcz,mcw,mct,mctt],ignore_index=True,sort=False)"
   ]
  },
  {
   "cell_type": "code",
   "execution_count": 30,
   "metadata": {},
   "outputs": [],
   "source": [
    "if selection in ['mutau','etau']:  \n",
    "    names = [\"data2016\",\"mcdiboson\",\"mcdy\",\"mct\",\"mctt\"]\n",
    "\n",
    "    fakes = pd.DataFrame()\n",
    "    for name in names:\n",
    "        temp =  DFCutter(selection+'_fakes',nbjet,name,njet).getDataFrame('')\n",
    "        if not name == 'data2016':\n",
    "            temp.eventWeight = -1*temp.eventWeight\n",
    "        fakes = fakes.append(temp,ignore_index=True, sort=False)"
   ]
  },
  {
   "cell_type": "markdown",
   "metadata": {},
   "source": [
    "# 1. Make data MC plots"
   ]
  },
  {
   "cell_type": "code",
   "execution_count": 8,
   "metadata": {},
   "outputs": [],
   "source": [
    "from utility_dfplotter import *\n",
    "\n",
    "def processBreakdown():\n",
    "    dfList = [mcvv,mcz,mcw,mct,mctt,data]\n",
    "\n",
    "    sk = ASingleKinematicPlot(v,a,b,step,dfList)\n",
    "    sk.settingPlot(xl,\n",
    "                   ['VV',\"Z\",\"W\",\"tW\",\"tt\",\"data\"], \n",
    "                   [\"#e0301e\", \"#eb8c00\", \"#49feec\", \"deepskyblue\", \"mediumpurple\",'k'])\n",
    "    sk.makePlot()\n",
    "    plt.savefig('../../plots/misid/{}/{}_process.png'.format(selection,v),dpi=300)\n",
    "\n",
    "def flavorBreakdown():\n",
    "    fq = mc.query('tauGenFlavor<4 and tauGenFlavor>0')\n",
    "    fc = mc.query('tauGenFlavor==4')   \n",
    "    fb = mc.query('tauGenFlavor==5')   \n",
    "    fg = mc.query('tauGenFlavor==21')  \n",
    "    ftau = mc.query('tauGenFlavor==15')  \n",
    "    fnan = mc.query('tauGenFlavor==26 or tauGenFlavor==0')\n",
    "\n",
    "    dfList = [fnan,fg,fq,fc,fb,ftau, data]\n",
    "    sk = ASingleKinematicPlot(v,a,b,step,dfList)\n",
    "    sk.settingPlot(xl ,\n",
    "                   ['untag', r\"$g \\rightarrow \\tau_h$\",\n",
    "                    r\"$q \\rightarrow \\tau_h$\",\n",
    "                    r\"$c \\rightarrow \\tau_h$\",r\"$b \\rightarrow \\tau_h$\",\n",
    "                    r\"$\\tau_h\\rightarrow \\tau_h$\",\"data\"], \n",
    "                    #[\"C0\",\"C1\", \"C2\", \"C3\", \"C4\", \"C5\",'k'])\n",
    "                   [\"#a32020\",\"#e0301e\", \"#eb8c00\", \"#49feec\", \"deepskyblue\", \"mediumpurple\",'k'])\n",
    "    sk.makePlot()\n",
    "    plt.savefig('../../plots/misid/{}/{}_flavor.png'.format(selection,v),dpi=300)\n",
    "\n",
    "def decaymodeBreakdown():\n",
    "    d1 = mc.query('tauDecayMode==0')\n",
    "    d2 = mc.query('tauDecayMode==1')   \n",
    "    d3 = mc.query('tauDecayMode==10')   \n",
    "\n",
    "    dfList = [d1,d2,d3,data]\n",
    "    sk = ASingleKinematicPlot(v,a,b,step,dfList)\n",
    "    sk.settingPlot(xl,\n",
    "                   [r\"$\\tau_h \\rightarrow h^+$\",\n",
    "                    r\"$\\tau_h \\rightarrow h^+h^0$\",\n",
    "                    r\"$\\tau_h \\rightarrow h^+h^+h^-$\",\n",
    "                    \"data\"], \n",
    "                    [\"C0\",\"C1\", \"C2\",'k'])\n",
    "    sk.makePlot()\n",
    "    plt.savefig('../../plots/misid/{}/{}_decaymode.png'.format(selection,v),dpi=300)"
   ]
  },
  {
   "cell_type": "code",
   "execution_count": 5,
   "metadata": {},
   "outputs": [],
   "source": [
    "# v,a,b,step,xl = 'tauPt',15,81,5,r'$p^T_\\tau$ [GeV]'\n",
    "# v,a,b,step,xl = 'nBJets',0,5,1,r'$n_b$'\n",
    "# v,a,b,step,xl = 'nJets',0,5,1,r'$n_j$'\n",
    "# v,a,b,step,xl = 'dilepton_mass',10,241,10,r'$m_{ll}$ [GeV]'\n",
    "# v,a,b,step,xl = 'tauPuppiChHadIsoRel',-0.05,1.5,0.1, r'$ISO^{ch}_\\tau$'\n",
    "# v,a,b,step,xl = 'tauPuppiGammaIsoRel',-0.05,1.5,0.1, r'$ISO^{\\gamma}_\\tau$'\n",
    "# v,a,b,step,xl = 'tauPuppiNeuHadIsoRel',-0.05,1.5,0.1, r'$ISO^{nh}_\\tau$'\n",
    "v,a,b,step,xl = 'lepton2_pt',15,141,5,r'$p^T_\\tau$ [GeV]'\n",
    "\n",
    "processBreakdown()\n",
    "flavorBreakdown()\n",
    "decaymodeBreakdown()"
   ]
  },
  {
   "cell_type": "code",
   "execution_count": null,
   "metadata": {},
   "outputs": [],
   "source": []
  },
  {
   "cell_type": "code",
   "execution_count": null,
   "metadata": {},
   "outputs": [],
   "source": []
  },
  {
   "cell_type": "code",
   "execution_count": null,
   "metadata": {},
   "outputs": [],
   "source": []
  },
  {
   "cell_type": "markdown",
   "metadata": {},
   "source": [
    "# backup"
   ]
  },
  {
   "cell_type": "code",
   "execution_count": 32,
   "metadata": {},
   "outputs": [],
   "source": [
    "from utility_dfplotter import *\n",
    "\n",
    "def processBreakdown():\n",
    "    dfList = [fakes,mcvv,mcz,mcw,mct,mctt,data]\n",
    "\n",
    "    sk = ASingleKinematicPlot(v,a,b,step,dfList)\n",
    "    sk.settingPlot(xl,\n",
    "                   ['QCD','VV',\"Z\",\"W\",\"tW\",\"tt\",\"data\"], \n",
    "                   ['grey',\"#e0301e\", \"#eb8c00\", \"#49feec\", \"deepskyblue\", \"mediumpurple\",'k'])\n",
    "    sk.makePlot()\n",
    "    plt.savefig('../../plots/misid/{}/{}0_process.png'.format(selection,v),dpi=300)\n",
    "\n",
    "def flavorBreakdown():\n",
    "    fq = mc.query('tauGenFlavor<4 and tauGenFlavor>0')\n",
    "    fc = mc.query('tauGenFlavor==4')   \n",
    "    fb = mc.query('tauGenFlavor==5')   \n",
    "    fg = mc.query('tauGenFlavor==21')  \n",
    "    ftau = mc.query('tauGenFlavor==15')  \n",
    "    fnan = mc.query('tauGenFlavor==26 or tauGenFlavor==0')\n",
    "\n",
    "    dfList = [fakes,fnan,fg,fq,fc,fb,ftau, data]\n",
    "    sk = ASingleKinematicPlot(v,a,b,step,dfList)\n",
    "    sk.settingPlot(xl ,\n",
    "                   ['QCD','untag', r\"$g \\rightarrow \\tau_h$\",\n",
    "                    r\"$q \\rightarrow \\tau_h$\",\n",
    "                    r\"$c \\rightarrow \\tau_h$\",r\"$b \\rightarrow \\tau_h$\",\n",
    "                    r\"$\\tau_h\\rightarrow \\tau_h$\",\"data\"], \n",
    "                    #[\"C0\",\"C1\", \"C2\", \"C3\", \"C4\", \"C5\",'k'])\n",
    "                   ['grey',\"#a32020\",\"#e0301e\", \"#eb8c00\", \"#49feec\", \"deepskyblue\", \"mediumpurple\",'k'])\n",
    "    sk.makePlot()\n",
    "    plt.savefig('../../plots/misid/{}/{}0_flavor.png'.format(selection,v),dpi=300)\n",
    "\n",
    "def decaymodeBreakdown():\n",
    "    d1 = mc.query('tauDecayMode==0')\n",
    "    d2 = mc.query('tauDecayMode==1')   \n",
    "    d3 = mc.query('tauDecayMode==10')   \n",
    "\n",
    "    dfList = [fakes,d1,d2,d3,data]\n",
    "    sk = ASingleKinematicPlot(v,a,b,step,dfList)\n",
    "    sk.settingPlot(xl,\n",
    "                   ['QCD',r\"$\\tau_h \\rightarrow h^+$\",\n",
    "                    r\"$\\tau_h \\rightarrow h^+h^0$\",\n",
    "                    r\"$\\tau_h \\rightarrow h^+h^+h^-$\",\n",
    "                    \"data\"], \n",
    "                    ['grey',\"C0\",\"C1\", \"C2\",'k'])\n",
    "    sk.makePlot()\n",
    "    plt.savefig('../../plots/misid/{}/{}0_decaymode.png'.format(selection,v),dpi=300)"
   ]
  },
  {
   "cell_type": "markdown",
   "metadata": {},
   "source": [
    "# plot signal region"
   ]
  },
  {
   "cell_type": "code",
   "execution_count": 38,
   "metadata": {},
   "outputs": [],
   "source": [
    "selection,nbjet,njet = 'mutau','==0','>=2'\n",
    "temp = DFCutter(selection,nbjet=nbjet,name='mcz',njet=njet).getDataFrame(variation=\"\")"
   ]
  },
  {
   "cell_type": "code",
   "execution_count": 39,
   "metadata": {},
   "outputs": [
    {
     "data": {
      "image/png": "[encoded data removed]",
      "text/plain": [
       "<matplotlib.figure.Figure at 0x111eb1550>"
      ]
     },
     "metadata": {},
     "output_type": "display_data"
    }
   ],
   "source": [
    "from utility_dfplotter import *\n",
    "\n",
    "#temp = temp.query('genCategory==16')\n",
    "fq = temp.query('tauGenFlavor<4 and tauGenFlavor>0')\n",
    "fc = temp.query('tauGenFlavor==4')   \n",
    "fb = temp.query('tauGenFlavor==5')   \n",
    "fg = temp.query('tauGenFlavor==21')  \n",
    "ftau = temp.query('tauGenFlavor==15')  \n",
    "fnan = temp.query('tauGenFlavor==26 or tauGenFlavor==0')\n",
    "\n",
    "dfList = [fnan,fg,fq,fc,fb,ftau,temp]\n",
    "\n",
    "v,a,b,step,xl = 'lepton2_pt',15,141,5,r'$p^T_\\tau$ [GeV]'\n",
    "\n",
    "sk = ASingleKinematicPlot(v,a,b,step,dfList)\n",
    "sk.settingPlot(xl ,\n",
    "               ['untag', r\"$g \\rightarrow \\tau_h$\",\n",
    "                r\"$q \\rightarrow \\tau_h$\",\n",
    "                r\"$c \\rightarrow \\tau_h$\",r\"$b \\rightarrow \\tau_h$\",\n",
    "                r\"$\\tau_h\\rightarrow \\tau_h$\",\"Z\"], \n",
    "                #[\"C0\",\"C1\", \"C2\", \"C3\", \"C4\", \"C5\",'k'])\n",
    "               [\"#a32020\",\"#e0301e\", \"#eb8c00\", \"#49feec\", \"deepskyblue\", \"mediumpurple\",'gray'])\n",
    "sk.makePlot()\n",
    "plt.savefig('../../plots/misid/{}/{}0_z.png'.format(selection,v),dpi=300)"
   ]
  },
  {
   "cell_type": "code",
   "execution_count": null,
   "metadata": {},
   "outputs": [],
   "source": []
  }
 ],
 "metadata": {
  "kernelspec": {
   "display_name": "Python 3",
   "language": "python",
   "name": "python3"
  },
  "language_info": {
   "codemirror_mode": {
    "name": "ipython",
    "version": 3
   },
   "file_extension": ".py",
   "mimetype": "text/x-python",
   "name": "python",
   "nbconvert_exporter": "python",
   "pygments_lexer": "ipython3",
   "version": "3.6.4"
  }
 },
 "nbformat": 4,
 "nbformat_minor": 2
}
