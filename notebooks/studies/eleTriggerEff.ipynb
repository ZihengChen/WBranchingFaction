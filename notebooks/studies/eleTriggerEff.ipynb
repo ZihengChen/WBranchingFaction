{
 "cells": [
  {
   "cell_type": "code",
   "execution_count": 1,
   "metadata": {},
   "outputs": [
    {
     "name": "stdout",
     "output_type": "stream",
     "text": [
      "Welcome to JupyROOT 6.16/00\n"
     ]
    }
   ],
   "source": [
    "from root_pandas import read_root\n",
    "import pandas as pd\n",
    "import ROOT as root\n",
    "import utility_common as common\n",
    "from pylab import *\n",
    "from utility_dfplotter import ASingleKinematicPlot\n",
    "from utility_bltreader import BLTReader\n",
    "%matplotlib inline"
   ]
  },
  {
   "cell_type": "code",
   "execution_count": 15,
   "metadata": {
    "collapsed": true
   },
   "outputs": [],
   "source": [
    "namelist = {\n",
    "    \"VV\"   : [ 'ww','wz_2l2q','wz_3lnu','zz_2l2nu','zz_2l2q','zz_4l'],\n",
    "    \"Z\"    : [ 'zjets_m-50_amcatnlo','zjets_m-10to50_amcatnlo'],\n",
    "    \"W\"    : [ 'w1jets','w2jets','w3jets','w4jets' ],\n",
    "    \"Top\"  : [ 'ttbar_inclusive'],\n",
    "    \"Data\" : ['electron_2016B', 'electron_2016C','electron_2016D','electron_2016E','electron_2016F','electron_2016G','electron_2016H']\n",
    "}\n",
    "\n",
    "xsTable = { \n",
    "            # diboson\n",
    "            'ww'              : 12178,\n",
    "            'wz_2l2q'         : 5595,\n",
    "            'wz_3lnu'         : 4430,\n",
    "            'zz_2l2nu'        : 564,\n",
    "            'zz_2l2q'         : 3220,\n",
    "            'zz_4l'           : 1210,\n",
    "            # Z\n",
    "            'zjets_m-10to50_amcatnlo'  : 18610000,\n",
    "            'zjets_m-50_amcatnlo'      :  5765400,\n",
    "            # W\n",
    "            'w1jets'          :  9493000,\n",
    "            'w2jets'          :  3120000,\n",
    "            'w3jets'          :  942300,\n",
    "            'w4jets'          :  524100,\n",
    "            # top\n",
    "            't_tw'            :  35850,\n",
    "            'tbar_tw'         :  35850,\n",
    "            'ttbar_inclusive' :  832000\n",
    "        }"
   ]
  },
  {
   "cell_type": "code",
   "execution_count": 16,
   "metadata": {
    "collapsed": true
   },
   "outputs": [],
   "source": [
    "def loadDataFrame(dataset):\n",
    "    fileName = \"../../data/root/eleTriggerEff.root\"\n",
    "    inputRootFile = root.TFile(fileName)\n",
    "    lumin = 35.864\n",
    "    \n",
    "    dflist = []\n",
    "    for name in namelist[dataset]:\n",
    "        df = read_root(fileName,\"ee/bltTree_\"+name)\n",
    "        df[\"eventWeightRaw\"] = df.eventWeight * df.genWeight\n",
    "        if not (\"electron_2016\" in name):\n",
    "            xs = xsTable[name]\n",
    "            histogram = inputRootFile.Get('TotalEvents_'+name)\n",
    "            nGenTotal = histogram.GetBinContent(1) - 2*histogram.GetBinContent(10)\n",
    "            scaleFactor = lumin * xs/nGenTotal\n",
    "            \n",
    "            #print(nGenTotal,scaleFactor)\n",
    "            df.eventWeight *= scaleFactor * df.genWeight\n",
    "            df[\"era\"] = \"nan\"\n",
    "        else:\n",
    "            df[\"era\"] = name[-1]\n",
    "        \n",
    "        df[\"leptonOneIsTag\"] = (df.leptonOnePt>tagPtThreshold) & (df.leptonOneNotInGap==1) & (df.leptonOnePassTriggerTest==1)\n",
    "        df[\"leptonTwoIsTag\"] = (df.leptonTwoPt>tagPtThreshold) & (df.leptonTwoNotInGap==1) & (df.leptonTwoPassTriggerTest==1)\n",
    "        \n",
    "        df.query(\"leptonOneIsTag==1 | leptonTwoIsTag==1\",inplace=True)\n",
    "        df.reset_index(drop=True,inplace=True)\n",
    "        dflist.append(df)\n",
    "    dataFrame = pd.concat(dflist)\n",
    "    return dataFrame\n",
    "\n",
    "def getTagProbPairDataFrame(df):\n",
    "    temp1 = df.query(\"leptonOneIsTag==1\")\n",
    "    temp2 = df.query(\"leptonTwoIsTag==1\")\n",
    "\n",
    "    dfpair = pd.DataFrame()\n",
    "    dfpair[\"era\"] = np.r_[temp1[\"era\"].values, temp2[\"era\"].values]\n",
    "    dfpair[\"eventWeight\"] = np.r_[temp1[\"eventWeight\"].values, temp2[\"eventWeight\"].values]\n",
    "    dfpair[\"eventWeightRaw\"] = np.r_[temp1[\"eventWeightRaw\"].values, temp2[\"eventWeightRaw\"].values]\n",
    "\n",
    "    dfpair[\"tagPt\"]       = np.r_[temp1[\"leptonOnePt\"].values,  temp2[\"leptonTwoPt\"].values]\n",
    "    dfpair[\"probPt\"]      = np.r_[temp1[\"leptonTwoPt\"].values,  temp2[\"leptonOnePt\"].values]\n",
    "    dfpair[\"probEta\"]     = np.r_[temp1[\"leptonTwoEta\"].values, temp2[\"leptonOneEta\"].values]\n",
    "    dfpair[\"probPass\"]    = np.r_[temp1[\"leptonTwoPassTriggerTest\"].values, \n",
    "                                  temp2[\"leptonOnePassTriggerTest\"].values]\n",
    "    return dfpair"
   ]
  },
  {
   "cell_type": "code",
   "execution_count": 5,
   "metadata": {},
   "outputs": [],
   "source": [
    "for tagPtThreshold in [30,40]:\n",
    "    Data = loadDataFrame(\"Data\")\n",
    "    MCvv = loadDataFrame(\"VV\")\n",
    "    MCw  = loadDataFrame(\"W\")\n",
    "    MCt  = loadDataFrame(\"Top\")\n",
    "    MCz  = loadDataFrame(\"Z\")\n",
    "\n",
    "    DataPair = getTagProbPairDataFrame(Data)\n",
    "    MCPair = getTagProbPairDataFrame(pd.concat([MCt,MCz]))\n",
    "    DataPair.to_pickle(\"../../data/eleTriggerEff/DataPair_tag{}.pkl\".format(tagPtThreshold))\n",
    "    MCPair.to_pickle(\"../../data/eleTriggerEff/MCPair_tag{}.pkl\".format(tagPtThreshold))\n",
    "    \n",
    "#     # make a plot\n",
    "#     v,a,b,step,xl = \"dileptonMass\", 60,120, 2, r\"$m_{ee} [GeV]$\"\n",
    "#     sk = ASingleKinematicPlot(v,a,b,step,dfList)\n",
    "#     sk.settingPlot(xl,['EW','W','Top','Z','Data'],['#a32020','#eb8c00','springgreen','deepskyblue','k'])\n",
    "#     sk.makePlot()\n",
    "#     plt.savefig(\"../../plots/eleTriggerEff/dileptonMass_tag{}.png\".format(tagPtThreshold),dpi=300)\n",
    "#     plt.close()"
   ]
  },
  {
   "cell_type": "markdown",
   "metadata": {},
   "source": [
    "# 2. Plot Tag-Prob Pairs"
   ]
  },
  {
   "cell_type": "code",
   "execution_count": 6,
   "metadata": {
    "collapsed": true
   },
   "outputs": [],
   "source": [
    "tagPtThreshold = 30"
   ]
  },
  {
   "cell_type": "code",
   "execution_count": 7,
   "metadata": {
    "collapsed": true
   },
   "outputs": [],
   "source": [
    "DataPair = pd.read_pickle(\"../../data/eleTriggerEff/DataPair_tag{}.pkl\".format(tagPtThreshold))\n",
    "MCPair = pd.read_pickle(\"../../data/eleTriggerEff/MCPair_tag{}.pkl\".format(tagPtThreshold))"
   ]
  },
  {
   "cell_type": "code",
   "execution_count": 10,
   "metadata": {
    "collapsed": true
   },
   "outputs": [],
   "source": [
    "v,a,b,step,xl = \"probPt\", 20,201, 5, r\"$p^T_{e}$ [GeV]\"\n",
    "mybin = np.array([25,28,30,32,34,36,38,40,42,44,46,48,50,55,60,65,70,80,90,100,120,200,1000])\n",
    "\n",
    "# v,a,b,step,xl = \"probEta\", -3,3.1, 0.2, r\"$\\eta_{e}$\"\n",
    "# mybin = np.array([-2.5, -2.0, -1.8, -1.560, -1.444, -1.1, -0.8, -0.6, -0.4, -0.2, 0.0, 0.2, 0.4, 0.6, 0.8, 1.1, 1.444, 1.560, 1.8, 2.0, 2.5])\n",
    "\n",
    "mycernter = (mybin[:-1] + mybin[1:])/2\n",
    "mystep = (mybin[:-1] - mybin[1:])\n",
    "\n",
    "# data efficiency\n",
    "den,_ = np.histogram(DataPair[v], mybin, weights=DataPair.eventWeight)\n",
    "num,_ = np.histogram(DataPair[v], mybin, weights=DataPair.eventWeight * DataPair.probPass)\n",
    "dataEff,dataEffVar = common.getEfficiency(num, den)\n",
    "\n",
    "# mc efficiency\n",
    "den,_ = np.histogram(MCPair[v], mybin, weights=MCPair.eventWeightRaw)\n",
    "num,_ = np.histogram(MCPair[v], mybin, weights=MCPair.eventWeightRaw * MCPair.probPass)\n",
    "mcEff,mcEffVar = common.getEfficiency(num, den)\n",
    "\n",
    "# scale factor\n",
    "sf, sfVar = common.getRatio(dataEff, mcEff, dataEffVar, mcEffVar)"
   ]
  },
  {
   "cell_type": "code",
   "execution_count": 11,
   "metadata": {},
   "outputs": [
    {
     "data": {
      "image/png": "[encoded data removed]",
      "text/plain": [
       "<matplotlib.figure.Figure at 0x1287c8160>"
      ]
     },
     "metadata": {},
     "output_type": "display_data"
    }
   ],
   "source": [
    "fig, axes = plt.subplots(2, 1, sharex=True, facecolor='w',\n",
    "                         gridspec_kw={'height_ratios':[2,1]},\n",
    "                         figsize=(6,4))\n",
    "fig.subplots_adjust(hspace=0)\n",
    "\n",
    "ax = axes[0]\n",
    "ax.errorbar(mycernter, dataEff, xerr=mystep/2, yerr=sqrt(dataEffVar), fmt=\".\",color='k',label=\"Data\")\n",
    "ax.errorbar(mycernter, mcEff, xerr=mystep/2, yerr=sqrt(mcEffVar), fmt=\".\",color='C0',label=\"Simulation\")\n",
    "ax.set_ylabel(\"Efficiency\")\n",
    "ax.legend()\n",
    "ax.grid(linestyle=\"--\",alpha=0.5)\n",
    "ax.set_ylim(0,1)\n",
    "\n",
    "ax = axes[1]\n",
    "ax.errorbar(mycernter, sf,xerr=mystep/2,yerr=sqrt(sfVar),  fmt=\".\",color='C1')\n",
    "ax.set_xlabel(xl)\n",
    "ax.set_ylabel(\"SF\")\n",
    "ax.set_ylim(0.5,1.5)\n",
    "ax.set_xlim(a,b)\n",
    "ax.legend()\n",
    "ax.grid(linestyle=\"--\",alpha=0.5)\n",
    "ax.axhline(1,color='k')\n",
    "\n",
    "plt.savefig(\"../../plots/eleTriggerEff/\" + v + \".png\",dpi=300)"
   ]
  },
  {
   "cell_type": "markdown",
   "metadata": {},
   "source": [
    "# 3. SF in 2D"
   ]
  },
  {
   "cell_type": "code",
   "execution_count": 12,
   "metadata": {
    "collapsed": true
   },
   "outputs": [],
   "source": [
    "tagPtThreshold = 30\n",
    "DataPairRaw = pd.read_pickle(\"../../data/eleTriggerEff/DataPair_tag{}.pkl\".format(tagPtThreshold))\n",
    "MCPair = pd.read_pickle(\"../../data/eleTriggerEff/MCPair_tag{}.pkl\".format(tagPtThreshold))\n",
    "v1,a1,b1,step1,xl1 = \"probPt\", 20,161, 5, r\"$p^T_{e}$ [GeV]\"\n",
    "v2,a2,b2,step2,xl2 = \"probEta\", -3,3.1, 0.2, r\"$\\eta_{e}$\""
   ]
  },
  {
   "cell_type": "code",
   "execution_count": 13,
   "metadata": {
    "collapsed": true
   },
   "outputs": [],
   "source": [
    "v1,a1,b1,step1,xl1 = \"probPt\", 20,161, 5, r\"$p^T_{e}$ [GeV]\"\n",
    "v2,a2,b2,step2,xl2 = \"probEta\", -3,3.1, 0.2, r\"$\\eta_{e}$\"\n",
    "\n",
    "mybin1 = np.array([25,28,30,32,34,36,38,40,42,44,46,48,50,55,60,65,70,80,90,100,120,200,1000])\n",
    "mybin2 = np.array([-2.5, -2.0, -1.8, -1.560, -1.444, -1.1, -0.8, -0.6, -0.4, -0.2, 0.0, 0.2, 0.4, 0.6, 0.8, 1.1, 1.444, 1.560, 1.8, 2.0, 2.5])\n",
    "mycernter2 = (mybin2[:-1]+ mybin2[1:])/2\n",
    "mystep1 = (mybin1[:-1] - mybin1[1:])\n",
    "mystep2 = (mybin2[:-1] - mybin2[1:])\n",
    "    \n",
    "def getEffAndSf(era):\n",
    "    if era == \"full\":\n",
    "        DataPair = DataPairRaw\n",
    "    if era == \"BCDEF\":\n",
    "        DataPair = DataPairRaw.query(\"era=='B' | era=='C' | era=='D' | era=='E' | era=='F'\")\n",
    "    if era == \"GH\":\n",
    "        DataPair = DataPairRaw.query(\"era=='G' | era=='H'\")\n",
    "    if len(era) == 1:\n",
    "        slt = DataPairRaw.era.values == era\n",
    "        DataPair = DataPairRaw[slt]\n",
    "        \n",
    "    den,_,__ = np.histogram2d(DataPair[v1], DataPair[v2], bins=(mybin1,mybin2), weights=DataPair.eventWeight)\n",
    "    num,_,__ = np.histogram2d(DataPair[v1], DataPair[v2], bins=(mybin1,mybin2), weights=DataPair.eventWeight * DataPair.probPass)   \n",
    "    dataEff,dataEffVar = common.getEfficiency(num, den)\n",
    "    \n",
    "    den,_,__ = np.histogram2d(MCPair[v1], MCPair[v2], bins=(mybin1,mybin2), weights=MCPair.eventWeightRaw )\n",
    "    num,_,__ = np.histogram2d(MCPair[v1], MCPair[v2], bins=(mybin1,mybin2), weights=MCPair.eventWeightRaw * MCPair.probPass)\n",
    "    mcEff,mcEffVar = common.getEfficiency(num, den)\n",
    "    \n",
    "\n",
    "#     den,_,__ = np.histogram2d(DataPair[v1], DataPair[v2], bins=(mybin1,mybin2), weights=DataPair.eventWeight)\n",
    "#     num,_,__ = np.histogram2d(DataPair[v1], DataPair[v2], bins=(mybin1,mybin2), weights=DataPair.eventWeight * DataPair.probPass)\n",
    "#     denVar,_,__ = np.histogram2d(DataPair[v1], DataPair[v2], bins=(mybin1,mybin2), weights=DataPair.eventWeight**2)\n",
    "#     numVar,_,__ = np.histogram2d(DataPair[v1], DataPair[v2], bins=(mybin1,mybin2), weights=DataPair.eventWeight**2 * DataPair.probPass)\n",
    "#     dataEff,dataEffVar = common.getRatio(num, den, numVar, denVar)\n",
    "\n",
    "#     den,_,__ = np.histogram2d(MCPair[v1], MCPair[v2], bins=(mybin1,mybin2), weights=MCPair.eventWeight)\n",
    "#     num,_,__ = np.histogram2d(MCPair[v1], MCPair[v2], bins=(mybin1,mybin2), weights=MCPair.eventWeight * MCPair.probPass)\n",
    "#     den,_,__ = np.histogram2d(MCPair[v1], MCPair[v2], bins=(mybin1,mybin2), weights=MCPair.eventWeight**2)\n",
    "#     num,_,__ = np.histogram2d(MCPair[v1], MCPair[v2], bins=(mybin1,mybin2), weights=MCPair.eventWeight**2 * MCPair.probPass)\n",
    "#     mcEff,mcEffVar = common.getRatio(num, den, numVar, denVar)\n",
    "\n",
    "    sf, sfVar = common.getRatio(dataEff, mcEff, dataEffVar, mcEffVar)\n",
    "    \n",
    "    return dataEff,mcEff,sf,sfVar"
   ]
  },
  {
   "cell_type": "code",
   "execution_count": 14,
   "metadata": {
    "collapsed": true
   },
   "outputs": [],
   "source": [
    "for era in [\"full\",\"BCDEF\",\"GH\",\"B\",\"C\",\"D\",\"E\",\"F\",\"G\",\"H\"]:\n",
    "    dataEff,mcEff,sf,sfVar = getEffAndSf(era)\n",
    "\n",
    "    plt.figure(figsize=(15,4),facecolor='w')\n",
    "\n",
    "    plt.subplot(131)\n",
    "    plt.pcolor(mybin1,mybin2,dataEff.T,cmap=\"viridis\",vmax=1,vmin=0)\n",
    "    plt.xlabel(xl1)\n",
    "    plt.ylabel(xl2)\n",
    "    plt.axhline(1.444,color='w',linestyle=\"--\")\n",
    "    plt.axhline(1.560,color='w',linestyle=\"--\")\n",
    "    plt.axhline(-1.444,color='w',linestyle=\"--\")\n",
    "    plt.axhline(-1.560,color='w',linestyle=\"--\")\n",
    "    plt.axvline(30,color='k',linestyle=\"--\")\n",
    "    plt.title(\"Trigger Efficiency (Data {})\".format(era))\n",
    "    plt.xlim(25,200)\n",
    "    plt.colorbar()\n",
    "\n",
    "    plt.subplot(132)\n",
    "    plt.pcolor(mybin1,mybin2,mcEff.T,cmap=\"viridis\",vmax=1,vmin=0)\n",
    "    plt.xlabel(xl1)\n",
    "    plt.ylabel(xl2)\n",
    "    plt.axhline(1.444,color='w',linestyle=\"--\")\n",
    "    plt.axhline(1.560,color='w',linestyle=\"--\")\n",
    "    plt.axhline(-1.444,color='w',linestyle=\"--\")\n",
    "    plt.axhline(-1.560,color='w',linestyle=\"--\")\n",
    "    plt.axvline(30,color='k',linestyle=\"--\")\n",
    "    plt.title(\"Trigger Efficiency (Simulation)\")\n",
    "    plt.xlim(25,200)\n",
    "    plt.colorbar()\n",
    "\n",
    "\n",
    "    plt.subplot(133)\n",
    "    plt.pcolor(mybin1,mybin2,sf.T,cmap=\"Spectral\",vmax=1.05,vmin=0.7)\n",
    "    plt.xlabel(xl1)\n",
    "    plt.ylabel(xl2)\n",
    "    plt.axhline(1.444,color='k',linestyle=\"--\")\n",
    "    plt.axhline(1.560,color='k',linestyle=\"--\")\n",
    "    plt.axhline(-1.444,color='k',linestyle=\"--\")\n",
    "    plt.axhline(-1.560,color='k',linestyle=\"--\")\n",
    "    plt.axvline(30,color='k',linestyle=\"--\")\n",
    "    plt.title(\"Scale Factor 2016{}\".format(era))\n",
    "    plt.xlim(25,200)\n",
    "    plt.colorbar()\n",
    "\n",
    "\n",
    "    plt.savefig(\"../../plots/eleTriggerEff/eff2d_{}.png\".format(era),dpi=300)\n",
    "    plt.close()\n",
    "    \n",
    "    if len(era)==1:\n",
    "        plt.figure(figsize=(5,4),facecolor='w')\n",
    "    else:\n",
    "        plt.figure(figsize=(8,4),facecolor='w')\n",
    "    plt.pcolor(mybin1,mybin2,sf.T,cmap=\"Spectral\",vmax=1.05,vmin=0.7)\n",
    "    plt.xlabel(xl1)\n",
    "    plt.ylabel(xl2)\n",
    "    plt.axhline(1.444,color='k',linestyle=\"--\")\n",
    "    plt.axhline(1.560,color='k',linestyle=\"--\")\n",
    "    plt.axhline(-1.444,color='k',linestyle=\"--\")\n",
    "    plt.axhline(-1.560,color='k',linestyle=\"--\")\n",
    "    plt.axvline(30,color='k',linestyle=\"--\")\n",
    "    plt.title(\"Scale Factor 2016{}\".format(era))\n",
    "    plt.xlim(25,200)\n",
    "    plt.colorbar()\n",
    "    plt.savefig(\"../../plots/eleTriggerEff/sf2d_{}.png\".format(era),dpi=300)\n",
    "    plt.close()"
   ]
  },
  {
   "cell_type": "markdown",
   "metadata": {},
   "source": [
    "# 4. Plot A.Popov"
   ]
  },
  {
   "cell_type": "code",
   "execution_count": 22,
   "metadata": {
    "collapsed": true
   },
   "outputs": [],
   "source": [
    "era = \"GH\"\n",
    "fileName = \"../../data/eleTriggerEff/TriggerSF_Run2016{}_v1.root\".format(era)\n",
    "inputRootFile = root.TFile(fileName)\n",
    "hist2d = inputRootFile.Get(\"Ele27_WPTight_Gsf\")"
   ]
  },
  {
   "cell_type": "code",
   "execution_count": 23,
   "metadata": {
    "collapsed": true
   },
   "outputs": [],
   "source": [
    "mybin1 = np.array([25,28,30,32,34,36,38,40,42,44,46,48,50,55,60,65,70,80,90,100,120,200])\n",
    "mybin2 = np.array([-2.5, -2.0, -1.8, -1.560, -1.444, -1.1, -0.8, -0.6, -0.4, -0.2, 0.0, 0.2, 0.4, 0.6, 0.8, 1.1, 1.444, 1.560, 1.8, 2.0, 2.5])"
   ]
  },
  {
   "cell_type": "code",
   "execution_count": null,
   "metadata": {},
   "outputs": [
    {
     "data": {
      "image/png": "[encoded data removed]",
      "text/plain": [
       "<matplotlib.figure.Figure at 0x1549b7d30>"
      ]
     },
     "metadata": {},
     "output_type": "display_data"
    }
   ],
   "source": [
    "h = []\n",
    "for i in range(1,hist2d.GetNbinsX()+1):\n",
    "    temp = []\n",
    "    for j in range(1, hist2d.GetNbinsY()+1):\n",
    "        temp.append(hist2d.GetBinContent(i,j))\n",
    "    h.append(temp)\n",
    "h = np.array(h)\n",
    "plt.figure(figsize=(8,4),facecolor='w')\n",
    "plt.pcolor(mybin1,mybin2,h.T,cmap=\"Spectral\",vmax=1.05,vmin=0.7)\n",
    "plt.xlabel(xl1)\n",
    "plt.ylabel(xl2)\n",
    "plt.axhline(1.444,color='k',linestyle=\"--\")\n",
    "plt.axhline(1.560,color='k',linestyle=\"--\")\n",
    "plt.axhline(-1.444,color='k',linestyle=\"--\")\n",
    "plt.axhline(-1.560,color='k',linestyle=\"--\")\n",
    "plt.axvline(30,color='k',linestyle=\"--\")\n",
    "plt.title(\"A.Popov Scale Factor 2016{}\".format(era))\n",
    "plt.xlim(25,200)\n",
    "plt.colorbar()\n",
    "plt.savefig(\"../../plots/eleTriggerEff/APopov_sf2d_{}.png\".format(era),dpi=300)"
   ]
  },
  {
   "cell_type": "code",
   "execution_count": null,
   "metadata": {},
   "outputs": [],
   "source": [
    "dataEff,mcEff,sf,sfVar = getEffAndSf(era)"
   ]
  },
  {
   "cell_type": "code",
   "execution_count": null,
   "metadata": {},
   "outputs": [],
   "source": [
    "plt.figure(figsize=(8,4),facecolor='w')\n",
    "plt.pcolor(mybin1,mybin2,(sf.T-h.T)/h.T,cmap=\"RdBu\",vmax=0.1,vmin=-0.1)\n",
    "plt.xlabel(xl1)\n",
    "plt.ylabel(xl2)\n",
    "plt.axhline(1.444,color='k',linestyle=\"--\")\n",
    "plt.axhline(1.560,color='k',linestyle=\"--\")\n",
    "plt.axhline(-1.444,color='k',linestyle=\"--\")\n",
    "plt.axhline(-1.560,color='k',linestyle=\"--\")\n",
    "plt.axvline(30,color='k',linestyle=\"--\")\n",
    "plt.title(\"(Ours-A.Popov)/A.Popov 2016{}\".format(era))\n",
    "plt.colorbar()\n",
    "plt.savefig(\"../../plots/eleTriggerEff/APopovDiff_sf2d_{}.png\".format(era),dpi=300)"
   ]
  },
  {
   "cell_type": "code",
   "execution_count": null,
   "metadata": {
    "collapsed": true
   },
   "outputs": [],
   "source": []
  },
  {
   "cell_type": "code",
   "execution_count": null,
   "metadata": {
    "collapsed": true
   },
   "outputs": [],
   "source": []
  }
 ],
 "metadata": {
  "kernelspec": {
   "display_name": "Python 3",
   "language": "python",
   "name": "python3"
  },
  "language_info": {
   "codemirror_mode": {
    "name": "ipython",
    "version": 3
   },
   "file_extension": ".py",
   "mimetype": "text/x-python",
   "name": "python",
   "nbconvert_exporter": "python",
   "pygments_lexer": "ipython3",
   "version": "3.6.1"
  }
 },
 "nbformat": 4,
 "nbformat_minor": 2
}
